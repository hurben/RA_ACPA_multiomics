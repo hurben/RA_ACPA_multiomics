{
 "cells": [
  {
   "cell_type": "code",
   "execution_count": 22,
   "id": "9046c10b",
   "metadata": {},
   "outputs": [],
   "source": [
    "import os\n",
    "import pandas as pd\n",
    "from sklearn.ensemble import RandomForestClassifier\n",
    "from sklearn.metrics import accuracy_score, classification_report\n",
    "import glob\n",
    "import numpy as np\n",
    "import statistics"
   ]
  },
  {
   "cell_type": "code",
   "execution_count": 23,
   "id": "909d50e2",
   "metadata": {},
   "outputs": [
    {
     "name": "stdout",
     "output_type": "stream",
     "text": [
      "Accuracy: 0.8125\n",
      "Accuracy: 0.9375\n",
      "Accuracy: 0.875\n",
      "Accuracy: 0.9375\n",
      "Accuracy: 1.0\n",
      "\n",
      "=== Summary ===\n",
      "Accuracies per fold: [0.8125, 0.9375, 0.875, 0.9375, 1.0]\n",
      "Average accuracy: 0.9125000000 ± 0.0712609641\n"
     ]
    }
   ],
   "source": [
    "base_dir = \"/Users/m221138/RA_ACPA_multiomics/analysis/machine_learning_r1.1/5fold/enet_2condition/fs_network_topn_cVSneg/top90\"\n",
    "results = []\n",
    "seed = int(225)\n",
    "\n",
    "for fold in range(1, 6):\n",
    "    train_file = os.path.join(base_dir, f\"{fold}fold/multiplex.fs.train.tsv\")\n",
    "    test_file = os.path.join(base_dir, f\"{fold}fold/multiplex.fs.test.tsv\")\n",
    "    \n",
    "    # Load data\n",
    "    train_df = pd.read_csv(train_file, sep=\"\\t\", index_col=0)\n",
    "    test_df = pd.read_csv(test_file, sep=\"\\t\", index_col=0)\n",
    "    \n",
    "    # First row is class\n",
    "    y_train = train_df.iloc[0].values\n",
    "    y_test = test_df.iloc[0].values\n",
    "    \n",
    "    # Remaining rows are features\n",
    "    X_train = train_df.iloc[1:].T.values\n",
    "    X_test = test_df.iloc[1:].T.values\n",
    "    feature_names = train_df.index[1:]\n",
    "    \n",
    "    # Train RF\n",
    "    clf = RandomForestClassifier(random_state=seed)\n",
    "    clf.fit(X_train, y_train)\n",
    "    \n",
    "    # Predict\n",
    "    y_pred = clf.predict(X_test)\n",
    "    \n",
    "    # Accuracy\n",
    "    acc = accuracy_score(y_test, y_pred)\n",
    "    \n",
    "    # Feature importance\n",
    "    importances = pd.Series(clf.feature_importances_, index=feature_names).sort_values(ascending=False)\n",
    "    \n",
    "    results.append({\n",
    "        \"fold\": fold,\n",
    "        \"accuracy\": acc,\n",
    "        \"report\": classification_report(y_test, y_pred, zero_division=0),\n",
    "        \"importances\": importances\n",
    "    })\n",
    "\n",
    "# Print results\n",
    "for r in results:\n",
    "    # print(f\"\\n=== Fold {r['fold']} ===\")\n",
    "    print(\"Accuracy:\", r[\"accuracy\"])\n",
    "    # print(r[\"report\"])\n",
    "    # print(\"Top 10 important features:\")\n",
    "    # print(r[\"importances\"].head(10))\n",
    "\n",
    "    # Collect accuracies\n",
    "accuracies = [r[\"accuracy\"] for r in results]\n",
    "\n",
    "# Average accuracy\n",
    "avg_acc = statistics.mean(accuracies)\n",
    "std_acc = statistics.stdev(accuracies)\n",
    "\n",
    "print(\"\\n=== Summary ===\")\n",
    "print(\"Accuracies per fold:\", accuracies)\n",
    "print(f\"Average accuracy: {avg_acc:.10f} ± {std_acc:.10f}\")"
   ]
  },
  {
   "cell_type": "code",
   "execution_count": null,
   "id": "106a267c",
   "metadata": {},
   "outputs": [],
   "source": []
  }
 ],
 "metadata": {
  "kernelspec": {
   "display_name": "base",
   "language": "python",
   "name": "python3"
  },
  "language_info": {
   "codemirror_mode": {
    "name": "ipython",
    "version": 3
   },
   "file_extension": ".py",
   "mimetype": "text/x-python",
   "name": "python",
   "nbconvert_exporter": "python",
   "pygments_lexer": "ipython3",
   "version": "3.10.14"
  }
 },
 "nbformat": 4,
 "nbformat_minor": 5
}
