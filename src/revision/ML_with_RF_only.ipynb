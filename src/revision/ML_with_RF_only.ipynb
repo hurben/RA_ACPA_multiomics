{
 "cells": [
  {
   "cell_type": "code",
   "execution_count": 12,
   "id": "8f812bff",
   "metadata": {},
   "outputs": [],
   "source": [
    "import os\n",
    "import numpy as np\n",
    "import pandas as pd\n",
    "from pathlib import Path\n",
    "from sklearn.ensemble import RandomForestClassifier\n",
    "from sklearn.metrics import classification_report\n",
    "from sklearn.metrics import classification_report, accuracy_score, roc_auc_score\n",
    "from sklearn.feature_selection import SelectKBest, f_classif\n"
   ]
  },
  {
   "cell_type": "code",
   "execution_count": 11,
   "id": "c3184da2",
   "metadata": {},
   "outputs": [
    {
     "name": "stderr",
     "output_type": "stream",
     "text": [
      "/Users/m221138/mambaforge/lib/python3.10/site-packages/sklearn/base.py:486: UserWarning: X has feature names, but SelectFromModel was fitted without feature names\n",
      "  warnings.warn(\n",
      "/Users/m221138/mambaforge/lib/python3.10/site-packages/sklearn/base.py:486: UserWarning: X has feature names, but SelectFromModel was fitted without feature names\n",
      "  warnings.warn(\n"
     ]
    },
    {
     "name": "stdout",
     "output_type": "stream",
     "text": [
      "\n",
      "=== Fold 1 — acpa_neg_vs_control ===\n",
      "Selected features: 8340\n",
      "Accuracy: 0.667 | AUC: 0.375\n",
      "              precision    recall  f1-score   support\n",
      "\n",
      "    acpa_neg      0.000     0.000     0.000         8\n",
      "     control      0.667     1.000     0.800        16\n",
      "\n",
      "    accuracy                          0.667        24\n",
      "   macro avg      0.333     0.500     0.400        24\n",
      "weighted avg      0.444     0.667     0.533        24\n",
      "\n"
     ]
    },
    {
     "name": "stderr",
     "output_type": "stream",
     "text": [
      "/Users/m221138/mambaforge/lib/python3.10/site-packages/sklearn/base.py:486: UserWarning: X has feature names, but SelectFromModel was fitted without feature names\n",
      "  warnings.warn(\n",
      "/Users/m221138/mambaforge/lib/python3.10/site-packages/sklearn/base.py:486: UserWarning: X has feature names, but SelectFromModel was fitted without feature names\n",
      "  warnings.warn(\n"
     ]
    },
    {
     "name": "stdout",
     "output_type": "stream",
     "text": [
      "\n",
      "=== Fold 2 — acpa_neg_vs_control ===\n",
      "Selected features: 8340\n",
      "Accuracy: 0.667 | AUC: 0.527\n",
      "              precision    recall  f1-score   support\n",
      "\n",
      "    acpa_neg      0.000     0.000     0.000         8\n",
      "     control      0.667     1.000     0.800        16\n",
      "\n",
      "    accuracy                          0.667        24\n",
      "   macro avg      0.333     0.500     0.400        24\n",
      "weighted avg      0.444     0.667     0.533        24\n",
      "\n"
     ]
    },
    {
     "name": "stderr",
     "output_type": "stream",
     "text": [
      "/Users/m221138/mambaforge/lib/python3.10/site-packages/sklearn/base.py:486: UserWarning: X has feature names, but SelectFromModel was fitted without feature names\n",
      "  warnings.warn(\n",
      "/Users/m221138/mambaforge/lib/python3.10/site-packages/sklearn/base.py:486: UserWarning: X has feature names, but SelectFromModel was fitted without feature names\n",
      "  warnings.warn(\n"
     ]
    },
    {
     "name": "stdout",
     "output_type": "stream",
     "text": [
      "\n",
      "=== Fold 3 — acpa_neg_vs_control ===\n",
      "Selected features: 8340\n",
      "Accuracy: 0.667 | AUC: 0.492\n",
      "              precision    recall  f1-score   support\n",
      "\n",
      "    acpa_neg      0.000     0.000     0.000         8\n",
      "     control      0.667     1.000     0.800        16\n",
      "\n",
      "    accuracy                          0.667        24\n",
      "   macro avg      0.333     0.500     0.400        24\n",
      "weighted avg      0.444     0.667     0.533        24\n",
      "\n"
     ]
    },
    {
     "name": "stderr",
     "output_type": "stream",
     "text": [
      "/Users/m221138/mambaforge/lib/python3.10/site-packages/sklearn/base.py:486: UserWarning: X has feature names, but SelectFromModel was fitted without feature names\n",
      "  warnings.warn(\n",
      "/Users/m221138/mambaforge/lib/python3.10/site-packages/sklearn/base.py:486: UserWarning: X has feature names, but SelectFromModel was fitted without feature names\n",
      "  warnings.warn(\n"
     ]
    },
    {
     "name": "stdout",
     "output_type": "stream",
     "text": [
      "\n",
      "=== Fold 4 — acpa_neg_vs_control ===\n",
      "Selected features: 8340\n",
      "Accuracy: 0.667 | AUC: 0.707\n",
      "              precision    recall  f1-score   support\n",
      "\n",
      "    acpa_neg      0.000     0.000     0.000         8\n",
      "     control      0.667     1.000     0.800        16\n",
      "\n",
      "    accuracy                          0.667        24\n",
      "   macro avg      0.333     0.500     0.400        24\n",
      "weighted avg      0.444     0.667     0.533        24\n",
      "\n"
     ]
    },
    {
     "name": "stderr",
     "output_type": "stream",
     "text": [
      "/Users/m221138/mambaforge/lib/python3.10/site-packages/sklearn/base.py:486: UserWarning: X has feature names, but SelectFromModel was fitted without feature names\n",
      "  warnings.warn(\n",
      "/Users/m221138/mambaforge/lib/python3.10/site-packages/sklearn/base.py:486: UserWarning: X has feature names, but SelectFromModel was fitted without feature names\n",
      "  warnings.warn(\n"
     ]
    },
    {
     "name": "stdout",
     "output_type": "stream",
     "text": [
      "\n",
      "=== Fold 5 — acpa_neg_vs_control ===\n",
      "Selected features: 8340\n",
      "Accuracy: 0.667 | AUC: 0.691\n",
      "              precision    recall  f1-score   support\n",
      "\n",
      "    acpa_neg      0.000     0.000     0.000         8\n",
      "     control      0.667     1.000     0.800        16\n",
      "\n",
      "    accuracy                          0.667        24\n",
      "   macro avg      0.333     0.500     0.400        24\n",
      "weighted avg      0.444     0.667     0.533        24\n",
      "\n"
     ]
    }
   ],
   "source": [
    "\n",
    "root = Path(\"/Users/m221138/RA_ACPA_multiomics/analysis/5fold_data_r1.1/network_construction_enet\")\n",
    "comparison = \"acpa_neg_vs_control\"  # \"acpa_neg_vs_control\" | \"acpa_pos_vs_control\" | \"ra_vs_control\"\n",
    "random_state = 42\n",
    "\n",
    "results = []\n",
    "\n",
    "def load_split(fold_dir: Path, split: str):\n",
    "    f = fold_dir / f\"multiplex.{split}.tsv\"\n",
    "    df = pd.read_csv(f, sep=\"\\t\", index_col=0)\n",
    "\n",
    "    # Drop the first row (sample IDs across columns)\n",
    "    df = df.iloc[1:, :]\n",
    "\n",
    "    # Label rows (after drop: row0=row2 original, etc.)\n",
    "    acpa_neg = df.iloc[0, :].astype(int)\n",
    "    acpa_pos = df.iloc[1, :].astype(int)\n",
    "    control  = df.iloc[2, :].astype(int)\n",
    "\n",
    "    if comparison == \"acpa_neg_vs_control\":\n",
    "        y = np.where(acpa_neg == 1, \"acpa_neg\", \"control\")\n",
    "    elif comparison == \"acpa_pos_vs_control\":\n",
    "        y = np.where(acpa_pos == 1, \"acpa_pos\", \"control\")\n",
    "    elif comparison == \"ra_vs_control\":\n",
    "        y = np.where((acpa_neg == 1) | (acpa_pos == 1), \"ra\", \"control\")\n",
    "    else:\n",
    "        raise ValueError(\"Unknown comparison\")\n",
    "\n",
    "    # Features = rows 5..end (index 3..end after dropping first row)\n",
    "    X = df.iloc[3:, :].T\n",
    "    X = X.apply(pd.to_numeric, errors=\"coerce\").fillna(0.0)\n",
    "    y = pd.Series(y, index=X.index).astype(\"category\")\n",
    "\n",
    "    return X, y\n",
    "\n",
    "for i in range(1, 6):  # 1..5 folds\n",
    "    fold_dir = root / f\"{i}fold\"\n",
    "\n",
    "    # Load data\n",
    "    X_train, y_train = load_split(fold_dir, \"train\")\n",
    "    X_test,  y_test  = load_split(fold_dir, \"test\")\n",
    "\n",
    "    # --- Baseline RF on full feature set (train only) ---\n",
    "    rf = RandomForestClassifier(\n",
    "        n_estimators=n_estimators,\n",
    "        random_state=random_state,\n",
    "        n_jobs=-1,\n",
    "        class_weight=\"balanced\",\n",
    "    )\n",
    "    rf.fit(X_train, y_train)\n",
    "\n",
    "    # --- SelectFromModel using median importance (train only) ---\n",
    "    selector = SelectFromModel(rf, threshold=\"median\", prefit=True)\n",
    "    X_train_sel = selector.transform(X_train)\n",
    "    X_test_sel  = selector.transform(X_test)\n",
    "\n",
    "    # --- Refit RF on selected features ---\n",
    "    rf_sel = RandomForestClassifier(\n",
    "        n_estimators=n_estimators,\n",
    "        random_state=random_state,\n",
    "        n_jobs=-1,\n",
    "        class_weight=\"balanced\",\n",
    "    )\n",
    "    rf_sel.fit(X_train_sel, y_train)\n",
    "\n",
    "    # --- Evaluation ---\n",
    "    preds = rf_sel.predict(X_test_sel)\n",
    "    acc = accuracy_score(y_test, preds)\n",
    "\n",
    "    # AUC (binary): probability of the non-\"control\" class\n",
    "    if len(rf_sel.classes_) == 2:\n",
    "        positive_label = [c for c in rf_sel.classes_ if c != \"control\"][0]\n",
    "        pos_idx = list(rf_sel.classes_).index(positive_label)\n",
    "        proba = rf_sel.predict_proba(X_test_sel)[:, pos_idx]\n",
    "        auc = roc_auc_score((y_test == positive_label).astype(int), proba)\n",
    "    else:\n",
    "        auc = np.nan  # just in case\n",
    "\n",
    "    print(f\"\\n=== Fold {i} — {comparison} ===\")\n",
    "    print(f\"Selected features: {X_train_sel.shape[1]}\")\n",
    "    print(f\"Accuracy: {acc:.3f} | AUC: {auc:.3f}\")\n",
    "    print(classification_report(y_test, preds, digits=3, zero_division=0))\n"
   ]
  },
  {
   "cell_type": "code",
   "execution_count": null,
   "id": "417dbd8c",
   "metadata": {},
   "outputs": [],
   "source": []
  },
  {
   "cell_type": "code",
   "execution_count": null,
   "id": "0d107598",
   "metadata": {},
   "outputs": [],
   "source": []
  },
  {
   "cell_type": "code",
   "execution_count": null,
   "id": "ffb85c81",
   "metadata": {},
   "outputs": [],
   "source": []
  }
 ],
 "metadata": {
  "kernelspec": {
   "display_name": "base",
   "language": "python",
   "name": "python3"
  },
  "language_info": {
   "codemirror_mode": {
    "name": "ipython",
    "version": 3
   },
   "file_extension": ".py",
   "mimetype": "text/x-python",
   "name": "python",
   "nbconvert_exporter": "python",
   "pygments_lexer": "ipython3",
   "version": "3.10.14"
  }
 },
 "nbformat": 4,
 "nbformat_minor": 5
}
