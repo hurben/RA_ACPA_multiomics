{
 "cells": [
  {
   "cell_type": "code",
   "execution_count": 1,
   "id": "b671dd60-0044-474c-b2a7-211090d67e36",
   "metadata": {},
   "outputs": [],
   "source": [
    "import pandas as pd\n",
    "import os\n",
    "import numpy as np\n",
    "import math"
   ]
  },
  {
   "cell_type": "code",
   "execution_count": 3,
   "id": "9ebacbfb-6c7d-48aa-9ecb-722eadab87df",
   "metadata": {},
   "outputs": [],
   "source": [
    "def replace_feature_names(feature_name):\n",
    "    \n",
    "    feature_name = feature_name.replace(' ','_')\n",
    "    feature_name = feature_name.replace('-','_')\n",
    "    feature_name = feature_name.replace(\"'\",'prime')\n",
    "    feature_name = feature_name.replace(\"*\",'')\n",
    "    feature_name = feature_name.replace(\",\",'_')\n",
    "    \n",
    "    return feature_name\n",
    "\n",
    "def make_fs_dataset(feature_size_list, cutoff_type, m_full_data_df, rwr_result_df, output_dir, ext_data_file, sep_method):\n",
    "    \n",
    "    for feature_size in feature_size_list: \n",
    "        print (feature_size)\n",
    "\n",
    "        if cutoff_type == \"top\":\n",
    "            cutoff_dir = \"%s/top%s\" % (output_dir, feature_size)\n",
    "            feature_list = list(rwr_result_df[\"acpa\"][:feature_size+1])\n",
    "            \n",
    "        if cutoff_type == \"percentage\":\n",
    "            cutoff_dir = \"%s/%s\" % (output_dir, feature_size)\n",
    "            feature_list = list(rwr_result_df[\"acpa\"])\n",
    "            \n",
    "            threshold = feature_size.split('p')[0]\n",
    "            threshold = float(threshold)\n",
    "            threshold = len(feature_list) * threshold * 0.01\n",
    "            threshold = int(math.ceil(threshold)) #round number then change to int\n",
    " \n",
    "            feature_list = list(rwr_result_df[\"acpa\"][:threshold])\n",
    "            # print (len(feature_list), feature_list)\n",
    "        \n",
    "        training_file = \"%s/full_metabolomics.fs.train.tsv\" % cutoff_dir\n",
    "\n",
    "        if os.path.isdir(cutoff_dir) == False:\n",
    "            os.system('mkdir %s' % (cutoff_dir))\n",
    "\n",
    "        feature_list.insert(0, \"acpa\")\n",
    "    \n",
    "        #Prepare test dataset: CASE1\n",
    "        if sep_method == \"tab\":\n",
    "            m_test_data_df = pd.read_csv('%s' % ext_data_file, sep=\"\\t\", index_col = 0)\n",
    "        else:\n",
    "            m_test_data_df = pd.read_csv('%s' % ext_data_file, sep=\",\", index_col = 0)\n",
    "        m_test_data_df.index = m_test_data_df.index.map(replace_feature_names)\n",
    "        \n",
    "        full_feature_list = list(m_full_data_df.index.values)\n",
    "        test_feature_list = list(m_test_data_df.index.values)\n",
    "        common_feature_list = list(set(feature_list) & set(test_feature_list) & set(full_feature_list))\n",
    "        \n",
    "        if \"acpa\" in common_feature_list:\n",
    "            common_feature_list.remove(\"acpa\")\n",
    "        common_feature_list = sorted(common_feature_list)\n",
    "        common_feature_list.insert(0, \"acpa\")\n",
    "\n",
    "        if feature_size == \"100p\":\n",
    "            print (\"MAX feature size:\",len(common_feature_list))\n",
    "    \n",
    "     \n",
    "        m_test_data_df = m_test_data_df.loc[common_feature_list]\n",
    "        test_file = \"%s/full_metabolomics.fs.test.scaled.tsv\" % cutoff_dir\n",
    "        m_test_data_df.to_csv(test_file, sep=\"\\t\")         \n",
    "       \n",
    "        #Prepare training dataset\n",
    "        fs_m_full_data_df = m_full_data_df.loc[common_feature_list]\n",
    "        fs_m_full_data_df.to_csv(training_file, sep=\"\\t\")\n"
   ]
  },
  {
   "cell_type": "code",
   "execution_count": 4,
   "id": "0db1af7d-6d83-4820-989b-730716735d2a",
   "metadata": {},
   "outputs": [],
   "source": [
    "#extract feature list from RWR results\n",
    "rwr_result_file = \"../../../analysis/full_data_metabolomics_neg_pos/post_network_enet/metabolomics_full_data.RWR.result.txt\"\n",
    "\n",
    "rwr_result_df = pd.read_csv(rwr_result_file, sep=\"\\t\")"
   ]
  },
  {
   "cell_type": "code",
   "execution_count": 5,
   "id": "fd37da34-7b87-41ce-b28d-66b36725c015",
   "metadata": {},
   "outputs": [],
   "source": [
    "#prepare dataset from full data: metabolomics\n",
    "m_full_data_file = \"../../../analysis/full_data_metabolomics_neg_pos/metabolomics_ML_ready.v2.tsv\"\n",
    "\n",
    "m_full_data_df = pd.read_csv(m_full_data_file, sep=\"\\t\", index_col=0)\n",
    "m_full_data_df.index = m_full_data_df.index.map(replace_feature_names)"
   ]
  },
  {
   "cell_type": "code",
   "execution_count": 6,
   "id": "093f7b47-b2bc-43a1-b002-258d9040de8c",
   "metadata": {},
   "outputs": [
    {
     "name": "stdout",
     "output_type": "stream",
     "text": [
      "10\n",
      "20\n",
      "30\n",
      "40\n",
      "50\n",
      "60\n",
      "70\n",
      "80\n",
      "90\n",
      "100\n",
      "200\n",
      "300\n",
      "400\n",
      "500\n",
      "600\n",
      "700\n",
      "800\n",
      "900\n",
      "1000\n",
      "1p\n",
      "5p\n",
      "10p\n",
      "20p\n",
      "25p\n",
      "30p\n",
      "40p\n",
      "50p\n",
      "100p\n",
      "MAX feature size: 554\n"
     ]
    }
   ],
   "source": [
    "#prepare test dataset from plasma metabolomics\n",
    "output_dir = \"../../../analysis_revision/external_validation/ra_art_metabolomics/neg_vs_pos\"\n",
    "ext_data_file = \"../../../analysis_revision/external_validation/ra_art_metabolomics/data/RA_art_metabolomics.scaled.patient_info.tsv\"\n",
    "\n",
    "feature_size_list = [10, 20, 30, 40, 50, 60, 70, 80, 90, 100, 200, 300, 400, 500, 600, 700, 800, 900, 1000]\n",
    "make_fs_dataset(feature_size_list, \"top\", m_full_data_df, rwr_result_df, output_dir, ext_data_file, \"tab\")\n",
    "\n",
    "feature_size_list = [\"1p\", \"5p\", \"10p\",\"20p\",\"25p\", \"30p\",\"40p\",\"50p\",\"100p\"]\n",
    "make_fs_dataset(feature_size_list, \"percentage\", m_full_data_df, rwr_result_df, output_dir, ext_data_file, \"tab\")"
   ]
  },
  {
   "cell_type": "code",
   "execution_count": null,
   "id": "91e70215-a2b2-47cd-9844-dd773227fa82",
   "metadata": {},
   "outputs": [],
   "source": []
  }
 ],
 "metadata": {
  "kernelspec": {
   "display_name": "Python 3 (ipykernel)",
   "language": "python",
   "name": "python3"
  },
  "language_info": {
   "codemirror_mode": {
    "name": "ipython",
    "version": 3
   },
   "file_extension": ".py",
   "mimetype": "text/x-python",
   "name": "python",
   "nbconvert_exporter": "python",
   "pygments_lexer": "ipython3",
   "version": "3.12.3"
  }
 },
 "nbformat": 4,
 "nbformat_minor": 5
}
