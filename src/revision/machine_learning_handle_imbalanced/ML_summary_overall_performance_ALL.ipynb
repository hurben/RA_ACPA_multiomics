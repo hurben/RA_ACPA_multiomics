{
 "cells": [
  {
   "cell_type": "code",
   "execution_count": 4,
   "id": "d979192c-e865-41cc-97d7-1e5fdcdb7a2f",
   "metadata": {},
   "outputs": [
    {
     "data": {
      "text/plain": [
       "'/Users/m221138/RA_ACPA_multiomics/src/addressing_feedback/machine_learning_handle_imbalanced'"
      ]
     },
     "execution_count": 4,
     "metadata": {},
     "output_type": "execute_result"
    }
   ],
   "source": [
    "#ML_result_seed_analysis         23.07.05  -> 24.04.18\n",
    "#To find how the ML performance fluctuates based on seeds.\n",
    "\n",
    "import pandas as pd\n",
    "import os\n",
    "\n",
    "os.getcwd()"
   ]
  },
  {
   "cell_type": "code",
   "execution_count": 5,
   "id": "1c55c52e-35ff-40c5-8622-a304607a5aea",
   "metadata": {},
   "outputs": [],
   "source": [
    "def make_max_acc_dict(data_df, i, max_acc_dict, cutoff_list):\n",
    "    \n",
    "    df_column_name_list = ['ACC_average', 'ACC_stdev', 'PRE_average','PRE_stdev', \n",
    "                           'TPR_average','TPR_stdev', 'TNR_average','TNR_stdev',  \n",
    "                           'FPR_average','FPR_stdev', \n",
    "                           'FNR_average','FNR_stdev', \n",
    "                           'NPV_average','NPV_stdev']\n",
    "    \n",
    "    seed = \"seed_%s\" % i\n",
    "    r, c = data_df.shape\n",
    "    \n",
    "    for i in range(r):\n",
    "        model = data_df[\"Algorithm\"][i]     \n",
    "        cutoff = data_df[\"cutoff\"][i]\n",
    "        if cutoff not in cutoff_list:\n",
    "            cutoff_list.append(cutoff)\n",
    "        \n",
    "        for df_column_name in df_column_name_list:\n",
    "            max_acc_dict[seed, model, cutoff, df_column_name] = data_df[df_column_name][i]\n",
    "\n",
    "    return max_acc_dict, cutoff_list\n",
    "\n",
    "def main(data_dir, classification_type_list):\n",
    "    #buffer\n",
    "    df_column_name_list = ['ACC_average', 'ACC_stdev', 'PRE_average','PRE_stdev', \n",
    "                           'TPR_average','TPR_stdev', 'TNR_average','TNR_stdev',  \n",
    "                           'FPR_average','FPR_stdev', \n",
    "                           'FNR_average','FNR_stdev', \n",
    "                           'NPV_average','NPV_stdev']\n",
    "    \n",
    "    omics_type_list = [\"1omics_M\"]\n",
    "    classifier_type_list = [\"RF\"]\n",
    "    \n",
    "    max_acc_dict = {}\n",
    "    cutoff_list = []\n",
    "    batch_dict = {'batch_0_500': [0,500]}\n",
    "    \n",
    "    for batch_num in list(batch_dict.keys()):\n",
    "        for i in range(batch_dict[batch_num][0], batch_dict[batch_num][1]+1):        \n",
    "            data_file = \"%s/%s/seed_%s/ml_summary.tsv\" % (data_dir, batch_num, i)\n",
    "            data_df = pd.read_csv(data_file, sep=\"\\t\")\n",
    "            max_acc_dict, cutoff_list = make_max_acc_dict(data_df, i, max_acc_dict, cutoff_list)\n",
    "            \n",
    "    #summary\n",
    "    output_file = \"%s/batch_summary/ML_seed_results.tsv\" % data_dir\n",
    "    output_txt = open(output_file, 'w')\n",
    "    \n",
    "    #header\n",
    "    output_txt.write(\"seed\\tclassifier\\tcutoff\")\n",
    "    for df_column_name in df_column_name_list:\n",
    "        output_txt.write(\"\\t%s\" % df_column_name)\n",
    "    output_txt.write(\"\\n\")\n",
    "    \n",
    "    #main\n",
    "    for batch_num in list(batch_dict.keys()):\n",
    "        for i in range(batch_dict[batch_num][0], batch_dict[batch_num][1]+1):\n",
    "            seed = 'seed_%s' % i\n",
    "            for cutoff in cutoff_list:\n",
    "                output_txt.write(\"%s\\t%s\" % (seed, \"RF\"))\n",
    "                output_txt.write(\"\\t%s\" %  cutoff)\n",
    "                for df_column_name in df_column_name_list:\n",
    "                    output_txt.write('\\t%s' % max_acc_dict[seed, \"RF\", cutoff, df_column_name])\n",
    "                output_txt.write('\\n')\n",
    "    \n",
    "    output_txt.close()"
   ]
  },
  {
   "cell_type": "code",
   "execution_count": 6,
   "id": "a517acd3-4d07-41bc-8dc2-f39763cb7be0",
   "metadata": {
    "scrolled": true
   },
   "outputs": [],
   "source": [
    "data_dir = \"../../../analysis_addressing_feedback/external_validation_handle_imbalanced/ra_mtx_metabolomics\"\n",
    "main(data_dir, [\"posVSneg\"])"
   ]
  },
  {
   "cell_type": "code",
   "execution_count": 8,
   "id": "db47129f-f5f6-404c-8e09-69b1d70a607f",
   "metadata": {},
   "outputs": [],
   "source": [
    "data_dir = \"../../../analysis_addressing_feedback/external_validation_handle_imbalanced/ra_plasma_metabolomics\"\n",
    "main(data_dir, [\"posVSneg\"])"
   ]
  },
  {
   "cell_type": "code",
   "execution_count": null,
   "id": "192295db-4971-4ae8-ae70-8771b1222ca6",
   "metadata": {},
   "outputs": [],
   "source": []
  }
 ],
 "metadata": {
  "kernelspec": {
   "display_name": "Python 3 (ipykernel)",
   "language": "python",
   "name": "python3"
  },
  "language_info": {
   "codemirror_mode": {
    "name": "ipython",
    "version": 3
   },
   "file_extension": ".py",
   "mimetype": "text/x-python",
   "name": "python",
   "nbconvert_exporter": "python",
   "pygments_lexer": "ipython3",
   "version": "3.12.3"
  }
 },
 "nbformat": 4,
 "nbformat_minor": 5
}
