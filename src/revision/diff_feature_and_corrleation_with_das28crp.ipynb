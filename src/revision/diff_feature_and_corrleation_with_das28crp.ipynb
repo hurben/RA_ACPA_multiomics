{
 "cells": [
  {
   "cell_type": "code",
   "execution_count": 13,
   "id": "c01b0dd8",
   "metadata": {},
   "outputs": [],
   "source": [
    "import pandas as pd\n",
    "from scipy.stats import spearmanr"
   ]
  },
  {
   "cell_type": "code",
   "execution_count": 2,
   "id": "93211122",
   "metadata": {},
   "outputs": [],
   "source": [
    "def get_sig_feature_list(sig_file):\n",
    "    sig_file_df = pd.read_csv(sig_file, sep=\"\\t\")\n",
    "    subset_df = sig_file_df[(sig_file_df[\"adj_pval\"] < 0.01) & (sig_file_df[\"cohen_d\"].abs() > 0.5)]\n",
    "    feature_list = list(subset_df[\"feature\"])\n",
    "    \n",
    "    return feature_list"
   ]
  },
  {
   "cell_type": "code",
   "execution_count": 25,
   "id": "108e357e",
   "metadata": {},
   "outputs": [],
   "source": [
    "def spearman_test(sig_list, data_df, output_file):\n",
    "    # Filter columns to those in prot_acpa_neg_list and present in proteomics_df\n",
    "    features = [col for col in sig_list if col in data_df.columns]\n",
    "\n",
    "    results = []\n",
    "    for feature in features:\n",
    "        corr, pval = spearmanr(data_df['das28crp'], data_df[feature], nan_policy='omit')\n",
    "        results.append({'feature': feature, 'spearman_corr': corr, 'p_value': pval})\n",
    "\n",
    "    # Convert results to DataFrame for easy viewing\n",
    "    spearman_df = pd.DataFrame(results)\n",
    "    spearman_df.to_csv(output_file, sep=\"\\t\", index=False)\n"
   ]
  },
  {
   "cell_type": "code",
   "execution_count": 26,
   "id": "bbd6fa73",
   "metadata": {},
   "outputs": [],
   "source": [
    "proteomics_file = \"/Users/m221138/RA_ACPA_multiomics/preprocessed_data/proteomics/proteomics.patient_info.tsv\"\n",
    "proteomics_df = pd.read_csv(proteomics_file, sep=\"\\t\")\n",
    "\n",
    "metabolomics_file = \"/Users/m221138/RA_ACPA_multiomics/preprocessed_data/metabolomics/metabolites.patient_info.tsv\"\n",
    "metabolomics_df = pd.read_csv(metabolomics_file, sep=\"\\t\")"
   ]
  },
  {
   "cell_type": "code",
   "execution_count": 27,
   "id": "5b5113c0",
   "metadata": {},
   "outputs": [
    {
     "name": "stdout",
     "output_type": "stream",
     "text": [
      "73\n",
      "18\n"
     ]
    }
   ],
   "source": [
    "prot_acpa_neg_list = get_sig_feature_list(\"/Users/m221138/RA_ACPA_multiomics/analysis/statistics/linear_regression/proteomics/linear_regression.cVSneg.proteomics.tsv\")\n",
    "print (len(prot_acpa_neg_list))\n",
    "\n",
    "prot_acpa_pos_list = get_sig_feature_list(\"/Users/m221138/RA_ACPA_multiomics/analysis/statistics/linear_regression/proteomics/linear_regression.cVSpos.proteomics.tsv\")\n",
    "print (len(prot_acpa_pos_list))"
   ]
  },
  {
   "cell_type": "code",
   "execution_count": 28,
   "id": "d1ae1448",
   "metadata": {},
   "outputs": [
    {
     "name": "stdout",
     "output_type": "stream",
     "text": [
      "24\n",
      "6\n"
     ]
    }
   ],
   "source": [
    "met_acpa_neg_list = get_sig_feature_list(\"/Users/m221138/RA_ACPA_multiomics/analysis/statistics/linear_regression/metabolomics/linear_regression.cVSneg.metabolomics.tsv\")\n",
    "print (len(met_acpa_neg_list))\n",
    "\n",
    "met_acpa_pos_list = get_sig_feature_list(\"/Users/m221138/RA_ACPA_multiomics/analysis/statistics/linear_regression/metabolomics/linear_regression.cVSpos.metabolomics.tsv\")\n",
    "print (len(met_acpa_pos_list))"
   ]
  },
  {
   "cell_type": "code",
   "execution_count": 29,
   "id": "b36ce606",
   "metadata": {},
   "outputs": [],
   "source": [
    "spearman_test(prot_acpa_neg_list, proteomics_df, \"/Users/m221138/RA_ACPA_multiomics/revision_analysis/spearman.sig.proteomics.cVSneg.tsv\")\n",
    "spearman_test(prot_acpa_pos_list, proteomics_df, \"/Users/m221138/RA_ACPA_multiomics/revision_analysis/spearman.sig.proteomics.cVSpos.tsv\")"
   ]
  },
  {
   "cell_type": "code",
   "execution_count": 30,
   "id": "e6aebb05",
   "metadata": {},
   "outputs": [],
   "source": [
    "spearman_test(met_acpa_neg_list, metabolomics_df, \"/Users/m221138/RA_ACPA_multiomics/revision_analysis/spearman.sig.metabolomics.cVSneg.tsv\")\n",
    "spearman_test(met_acpa_pos_list, metabolomics_df, \"/Users/m221138/RA_ACPA_multiomics/revision_analysis/spearman.sig.metabolomics.cVSpos.tsv\")"
   ]
  },
  {
   "cell_type": "code",
   "execution_count": null,
   "id": "39b4d5bf",
   "metadata": {},
   "outputs": [],
   "source": []
  }
 ],
 "metadata": {
  "kernelspec": {
   "display_name": "base",
   "language": "python",
   "name": "python3"
  },
  "language_info": {
   "codemirror_mode": {
    "name": "ipython",
    "version": 3
   },
   "file_extension": ".py",
   "mimetype": "text/x-python",
   "name": "python",
   "nbconvert_exporter": "python",
   "pygments_lexer": "ipython3",
   "version": "3.10.14"
  }
 },
 "nbformat": 4,
 "nbformat_minor": 5
}
