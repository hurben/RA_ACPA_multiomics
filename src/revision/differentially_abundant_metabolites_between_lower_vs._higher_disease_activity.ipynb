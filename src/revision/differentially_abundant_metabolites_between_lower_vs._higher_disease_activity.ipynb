{
 "cells": [
  {
   "cell_type": "code",
   "execution_count": 5,
   "id": "3ced20e0",
   "metadata": {
    "vscode": {
     "languageId": "r"
    }
   },
   "outputs": [
    {
     "name": "stderr",
     "output_type": "stream",
     "text": [
      "Loading required package: Matrix\n",
      "\n",
      "\n",
      "Attaching package: ‘lmerTest’\n",
      "\n",
      "\n",
      "The following object is masked from ‘package:lme4’:\n",
      "\n",
      "    lmer\n",
      "\n",
      "\n",
      "The following object is masked from ‘package:stats’:\n",
      "\n",
      "    step\n",
      "\n",
      "\n",
      "Loading required package: carData\n",
      "\n",
      "lattice theme set by effectsTheme()\n",
      "See ?effectsTheme for details.\n",
      "\n",
      "\n",
      "Attaching package: ‘dplyr’\n",
      "\n",
      "\n",
      "The following objects are masked from ‘package:stats’:\n",
      "\n",
      "    filter, lag\n",
      "\n",
      "\n",
      "The following objects are masked from ‘package:base’:\n",
      "\n",
      "    intersect, setdiff, setequal, union\n",
      "\n",
      "\n"
     ]
    }
   ],
   "source": [
    "library(\"effsize\")     # For effect size calculations like Cohen's D\n",
    "library(lme4)          # For linear mixed models (not used here)\n",
    "library(lmerTest)      # Adds p-values to lme4 models (not used here)\n",
    "library(stringr)       # String operations (not used here)\n",
    "library(effects)       # For model effect visualization (not used here)\n",
    "library(dplyr)"
   ]
  },
  {
   "cell_type": "code",
   "execution_count": 39,
   "id": "9c2fd92e",
   "metadata": {
    "vscode": {
     "languageId": "r"
    }
   },
   "outputs": [],
   "source": [
    "# Function to run linear regression models and collect results\n",
    "run_linear_model <- function(data_df, output_dir, output_suffix){\n",
    "\n",
    "    p_thresh <- 0.05  # Not directly used, but can guide threshold decisions\n",
    "    results <- data.frame()  # Initialize results container\n",
    "\n",
    "    for (i in 38:ncol(data_df)) {  # Loop through feature columns starting from 37\n",
    "        feature_name <- colnames(data_df)[i]\n",
    "        y <- data_df[[feature_name]]\n",
    "\n",
    "        # Separate feature values for ACPA-positive (1) and ACPA-negative (0) groups\n",
    "        condition_a_list <- data_df[data_df$disease_activity_category == 1, i]\n",
    "        condition_b_list <- data_df[data_df$disease_activity_category == 0, i]\n",
    "\n",
    "        # Compute Cohen's D and log2 fold-change between groups\n",
    "        cohend <- cohen.d(condition_a_list, condition_b_list, na.rm = TRUE)\n",
    "        cohend_value <- cohend$estimate\n",
    "        log2fc <- log2(mean(condition_a_list, na.rm = TRUE) / mean(condition_b_list, na.rm = TRUE))\n",
    "\n",
    "        # Run marginal model (no covariates)\n",
    "        marginal_model <- lm(y ~ disease_activity_category, data = data_df)\n",
    "        marginal_summary <- summary(marginal_model)\n",
    "\n",
    "        raw_coef <- coef(marginal_summary)[\"disease_activity_category\", \"Estimate\"]\n",
    "        raw_pval <- coef(marginal_summary)[\"disease_activity_category\", \"Pr(>|t|)\"]\n",
    "\n",
    "        # Use different covariates depending on comparison\n",
    "\n",
    "        formula_str <- \"y ~ disease_activity_category + sex + age + bmi + smoking + pred + bdmard + all_csdmard\"\n",
    "\n",
    "        # Run adjusted model with covariates\n",
    "        final_model <- lm(as.formula(formula_str), data = data_df)\n",
    "        final_summary <- summary(final_model)\n",
    "        adj_coef <- coef(final_summary)[\"disease_activity_category\", \"Estimate\"]\n",
    "        adj_pval <- coef(final_summary)[\"disease_activity_category\", \"Pr(>|t|)\"]\n",
    "\n",
    "        # Store results for this feature\n",
    "        results <- rbind(results, data.frame(\n",
    "            feature = feature_name,\n",
    "            cohen_d = cohend_value,\n",
    "            log2fc = log2fc,\n",
    "            raw_coef = raw_coef,\n",
    "            raw_pval = raw_pval,\n",
    "            adj_coef = adj_coef,\n",
    "            adj_pval = adj_pval,\n",
    "            stringsAsFactors = FALSE\n",
    "        ))\n",
    "    }\n",
    "\n",
    "    # FDR-adjust the p-values for multiple testing\n",
    "    results$adj_pval_fdr <- p.adjust(results$adj_pval, method = \"fdr\")\n",
    "    cat(output_suffix, \"Number of p-values under 0.01:\", sum(results$adj_pval < 0.01), \"\\n\")\n",
    "\n",
    "    # Save results as TSV\n",
    "    output_file <- paste0(output_dir, \"/linear_regression.\", output_suffix, \".metabolomics.tsv\")\n",
    "    write.table(results, file = output_file, sep = \"\\t\", row.names = FALSE, quote = FALSE)\n",
    "}"
   ]
  },
  {
   "cell_type": "code",
   "execution_count": 40,
   "id": "905bf1ea",
   "metadata": {
    "vscode": {
     "languageId": "r"
    }
   },
   "outputs": [],
   "source": [
    "# Main function to define group comparisons and run model\n",
    "main <- function(input_data_df, output_dir){\n",
    "\n",
    "    acpa_neg <- filter(input_data_df, acpa == 2)\n",
    "\n",
    "    acpa_neg <- input_data_df %>%\n",
    "        filter(acpa == 2) %>%\n",
    "        mutate(disease_activity_category = if_else(das28crp > 3.2, 1, 0)) %>%\n",
    "        relocate(disease_activity_category, .after = 3)\n",
    "\n",
    "    acpa_pos <- input_data_df %>%\n",
    "        filter(acpa == 1) %>%\n",
    "        mutate(disease_activity_category = if_else(das28crp > 3.2, 1, 0)) %>%\n",
    "        relocate(disease_activity_category, .after = 3)\n",
    "\n",
    "    # Run models for each group comparison\n",
    "    run_linear_model(acpa_neg, output_dir, \"acpa_neg_highVSlow\")\n",
    "    run_linear_model(acpa_pos, output_dir, \"acpa_pos_highVSlow\")\n",
    "}\n"
   ]
  },
  {
   "cell_type": "code",
   "execution_count": 41,
   "id": "9de4d0a2",
   "metadata": {
    "vscode": {
     "languageId": "r"
    }
   },
   "outputs": [
    {
     "name": "stdout",
     "output_type": "stream",
     "text": [
      "acpa_neg_highVSlow Number of p-values under 0.01: 35 \n",
      "acpa_pos_highVSlow Number of p-values under 0.01: 5 \n"
     ]
    }
   ],
   "source": [
    "# Load input data (metabolomics)\n",
    "df <- read.csv(\"../../preprocessed_data/metabolomics/metabolites.patient_info.tsv\", header = TRUE, sep = \"\\t\", check.names = FALSE)\n",
    "input_data_df <- df\n",
    "output_dir <- \"../../revision_analysis\"\n",
    "\n",
    "# Run analysis pipeline\n",
    "main(input_data_df = input_data_df, output_dir = output_dir)"
   ]
  }
 ],
 "metadata": {
  "kernelspec": {
   "display_name": "R",
   "language": "R",
   "name": "ir"
  },
  "language_info": {
   "codemirror_mode": "r",
   "file_extension": ".r",
   "mimetype": "text/x-r-source",
   "name": "R",
   "pygments_lexer": "r",
   "version": "4.4.2"
  }
 },
 "nbformat": 4,
 "nbformat_minor": 5
}
