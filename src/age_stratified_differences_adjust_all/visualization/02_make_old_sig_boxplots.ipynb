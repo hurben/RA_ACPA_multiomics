{
 "cells": [
  {
   "cell_type": "code",
   "execution_count": 9,
   "id": "db8bbac9-7937-4292-a532-69f6b8507414",
   "metadata": {},
   "outputs": [],
   "source": [
    "#02_make_old_sig_boxplots   23.02.16\n",
    "\n",
    "#input: 02_make_old_sig_boxplots metabolites.*.ready.tsv\n",
    "#input was generated from \"01_prepare_boxplot_format\"\n",
    "#\n",
    "#Objective: to create a boxplot of 19 metabolites from old popuplation, young population.\n",
    "#old population will be on the bottom, while young population will be on the top.\n",
    "#for each population there will be two boxplots for each metabolite (control, acpa-neg, acpa-pos)\n",
    "#thus, on each side (either top or bottom, there will be 2 * 19 box plots)\n",
    "\n",
    "import pandas as pd\n",
    "import seaborn as sns\n",
    "import matplotlib.pyplot as plt\n",
    "import matplotlib"
   ]
  },
  {
   "cell_type": "code",
   "execution_count": 10,
   "id": "b12d3190-a89d-406d-b464-8f744e7fa7f0",
   "metadata": {},
   "outputs": [
    {
     "name": "stderr",
     "output_type": "stream",
     "text": [
      "/var/folders/7g/bxl6lwtx2z1dztdmxklgjd100000gr/T/ipykernel_54092/2091753255.py:34: UserWarning: The figure layout has changed to tight\n",
      "  plt.tight_layout()\n"
     ]
    },
    {
     "data": {
      "text/plain": [
       "<Figure size 4000x3000 with 0 Axes>"
      ]
     },
     "metadata": {},
     "output_type": "display_data"
    }
   ],
   "source": [
    "matplotlib.rcParams['pdf.fonttype'] = 42\n",
    "sns.set(style=\"whitegrid\")\n",
    "\n",
    "#young\n",
    "data_young_file = \"../../../analysis/age_stratified/differential_abundance_logit/metabolites.young.ready.v2.tsv\"\n",
    "data_young_df = pd.read_csv(data_young_file, sep = \"\\t\")\n",
    "\n",
    "plt.figure(figsize=(40,30))\n",
    "plt.subplot(2,1,1)\n",
    "ax = sns.boxplot(data=data_young_df, x=\"metabolite\", y=\"abundance\", hue=\"acpa_status_age\", \n",
    "           palette={\"control\": \"#86cf8f\", \"acpa_neg\": \"#d4a261\", \"acpa_pos\": \"#949494\"}, fliersize=0)\n",
    "ax = sns.stripplot(data=data_young_df, x=\"metabolite\", y=\"abundance\", hue=\"acpa_status_age\", alpha=0.7,\n",
    "              palette={\"control\": \"#38573c\", \"acpa_neg\": \"#694516\", \"acpa_pos\": \"#303030\"},\n",
    "              jitter=True, dodge=True)\n",
    "# ax.tick_params(axis='x', labelrotation=90)\n",
    "ax.set_ylim(0,4)\n",
    "ax.set_ylabel(\"scaled abundance(young)\")\n",
    "plt.tight_layout()\n",
    "\n",
    "#old\n",
    "data_old_file = \"../../../analysis/age_stratified/differential_abundance_logit/metabolites.old.ready.v2.tsv\"\n",
    "data_old_df = pd.read_csv(data_old_file, sep = \"\\t\")\n",
    "\n",
    "\n",
    "plt.subplot(2,1,2)\n",
    "ax = sns.boxplot(data=data_old_df, x=\"metabolite\", y=\"abundance\", hue=\"acpa_status_age\", \n",
    "           palette={\"control\": \"#86cf8f\", \"acpa_neg\": \"#d4a261\", \"acpa_pos\": \"#949494\"}, fliersize=0)\n",
    "ax = sns.stripplot(data=data_old_df, x=\"metabolite\", y=\"abundance\", hue=\"acpa_status_age\", alpha=0.7,\n",
    "              palette={\"control\": \"#38573c\", \"acpa_neg\": \"#694516\", \"acpa_pos\": \"#303030\"},\n",
    "              jitter=True, dodge=True)\n",
    "ax.tick_params(axis='x', labelrotation=90)\n",
    "ax.set_ylabel(\"scaled abundance(old)\")\n",
    "ax.set_ylim(0,4)\n",
    "plt.tight_layout()\n",
    "\n",
    "plt.savefig(\"../../../analysis/age_stratified/differential_abundance_logit/agestratified_metabolites.pdf\")\n",
    "plt.clf()\n",
    "\n"
   ]
  },
  {
   "cell_type": "code",
   "execution_count": null,
   "id": "c0a9185d-5731-4d29-ab76-d2bd970df72b",
   "metadata": {},
   "outputs": [],
   "source": []
  }
 ],
 "metadata": {
  "kernelspec": {
   "display_name": "Python 3 (ipykernel)",
   "language": "python",
   "name": "python3"
  },
  "language_info": {
   "codemirror_mode": {
    "name": "ipython",
    "version": 3
   },
   "file_extension": ".py",
   "mimetype": "text/x-python",
   "name": "python",
   "nbconvert_exporter": "python",
   "pygments_lexer": "ipython3",
   "version": "3.11.6"
  }
 },
 "nbformat": 4,
 "nbformat_minor": 5
}
