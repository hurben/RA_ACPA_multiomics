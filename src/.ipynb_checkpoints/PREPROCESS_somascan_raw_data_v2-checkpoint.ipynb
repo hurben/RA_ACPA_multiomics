{
 "cells": [
  {
   "cell_type": "code",
   "execution_count": 20,
   "id": "governing-lightning",
   "metadata": {},
   "outputs": [],
   "source": [
    "#V2 addresses the duplicates in somascan"
   ]
  },
  {
   "cell_type": "code",
   "execution_count": 21,
   "id": "generic-announcement",
   "metadata": {},
   "outputs": [],
   "source": [
    "import pandas as pd"
   ]
  },
  {
   "cell_type": "code",
   "execution_count": 32,
   "id": "included-validation",
   "metadata": {},
   "outputs": [],
   "source": [
    "def parse_from_anml_data(data_file):\n",
    "    data_open = open(data_file,'r')\n",
    "    data_readlines = data_open.readlines()\n",
    "    \n",
    "    sample_ID_list = []\n",
    "    protein_list =[]\n",
    "    data_dict = {}\n",
    "       \n",
    "    temp_seq_ID_list = data_readlines[0].split('\\t')\n",
    "    temp_protein_list = data_readlines[7].split('\\t')\n",
    "    temp_species_list = data_readlines[8].split('\\t')\n",
    "    \n",
    "    #make protein_list without mouse proteins\n",
    "    for i in range(len(temp_species_list)):\n",
    "        protein_name = temp_protein_list[i]\n",
    "        species_type = temp_species_list[i]\n",
    "\n",
    "        if species_type == \"Human\":\n",
    "            if protein_name not in protein_list:\n",
    "                if protein_name != \"None\":\n",
    "                    protein_list.append(protein_name)\n",
    "            \n",
    "    #make dict[sampleid, protein] = value\n",
    "    for i in range(21, len(data_readlines)):\n",
    "        read = data_readlines[i]\n",
    "        read = read.replace('\\n','')\n",
    "        token = read.split('\\t')\n",
    "        \n",
    "        sample_ID = token[0]\n",
    "\n",
    "        sample_ID_list.append(sample_ID)\n",
    "        sample_specific_protein_dict_list = []\n",
    "\n",
    "        for j in range(1, len(token)):\n",
    "            protein_symbol = temp_protein_list[j]\n",
    "            species_type = temp_species_list[j]\n",
    "            value = token[j]\n",
    "            if species_type == \"Human\": #do only human proteins\n",
    "                if protein_symbol not in sample_specific_protein_dict_list:\n",
    "                    if protein_symbol != \"None\":\n",
    "                        data_dict[sample_ID, protein_symbol] = value\n",
    "                        sample_specific_protein_dict_list.append(protein_symbol)\n",
    "                    \n",
    "    return sample_ID_list, protein_list, data_dict"
   ]
  },
  {
   "cell_type": "code",
   "execution_count": 33,
   "id": "challenging-slovakia",
   "metadata": {},
   "outputs": [],
   "source": [
    "def make_output_from_dict(sample_ID_list, protein_list, data_dict, output_dir):\n",
    "    output_txt = open(output_dir,'w')\n",
    "    \n",
    "    #write header\n",
    "    output_txt.write('sample_ID')\n",
    "    for protein_symbol in protein_list:\n",
    "        output_txt.write('\\t%s' % protein_symbol)\n",
    "    output_txt.write('\\n')\n",
    "    \n",
    "    #write main\n",
    "    for sample_ID in sample_ID_list:\n",
    "        output_txt.write(sample_ID)\n",
    "        for protein_symbol in protein_list:\n",
    "            value = data_dict[sample_ID, protein_symbol]\n",
    "            output_txt.write('\\t%s' % value)\n",
    "        output_txt.write('\\n')\n",
    "    \n",
    "    \n",
    "    output_txt.close()"
   ]
  },
  {
   "cell_type": "code",
   "execution_count": null,
   "id": "radical-contractor",
   "metadata": {},
   "outputs": [],
   "source": [
    "data_file = \"/Users/m221138/RA_sero_multiomics/raw_data/RA_somascan/MAYO-216978_v4.1_EDTAPlasma_20210905/somascan_data_parse_ready.tsv\"\n",
    "output_file = '/Users/m221138/RA_sero_multiomics/preprocessed_data/proteomics/somascan_anml.v2.tsv'\n",
    "\n",
    "sample_ID_list, protein_list, data_dict = parse_from_anml_data(data_file)\n"
   ]
  },
  {
   "cell_type": "code",
   "execution_count": 28,
   "id": "manual-healing",
   "metadata": {
    "scrolled": true
   },
   "outputs": [
    {
     "ename": "KeyError",
     "evalue": "('21228000109', 'None')",
     "output_type": "error",
     "traceback": [
      "\u001b[0;31m---------------------------------------------------------------------------\u001b[0m",
      "\u001b[0;31mKeyError\u001b[0m                                  Traceback (most recent call last)",
      "\u001b[0;32m<ipython-input-28-7f9ea586f8f8>\u001b[0m in \u001b[0;36m<module>\u001b[0;34m\u001b[0m\n\u001b[0;32m----> 1\u001b[0;31m \u001b[0mmake_output_from_dict\u001b[0m\u001b[0;34m(\u001b[0m\u001b[0msample_ID_list\u001b[0m\u001b[0;34m,\u001b[0m \u001b[0mprotein_list\u001b[0m\u001b[0;34m,\u001b[0m \u001b[0mdata_dict\u001b[0m\u001b[0;34m,\u001b[0m \u001b[0moutput_file\u001b[0m\u001b[0;34m)\u001b[0m\u001b[0;34m\u001b[0m\u001b[0;34m\u001b[0m\u001b[0m\n\u001b[0m",
      "\u001b[0;32m<ipython-input-26-04d1c37907c2>\u001b[0m in \u001b[0;36mmake_output_from_dict\u001b[0;34m(sample_ID_list, protein_list, data_dict, output_dir)\u001b[0m\n\u001b[1;32m     12\u001b[0m         \u001b[0moutput_txt\u001b[0m\u001b[0;34m.\u001b[0m\u001b[0mwrite\u001b[0m\u001b[0;34m(\u001b[0m\u001b[0msample_ID\u001b[0m\u001b[0;34m)\u001b[0m\u001b[0;34m\u001b[0m\u001b[0;34m\u001b[0m\u001b[0m\n\u001b[1;32m     13\u001b[0m         \u001b[0;32mfor\u001b[0m \u001b[0mprotein_symbol\u001b[0m \u001b[0;32min\u001b[0m \u001b[0mprotein_list\u001b[0m\u001b[0;34m:\u001b[0m\u001b[0;34m\u001b[0m\u001b[0;34m\u001b[0m\u001b[0m\n\u001b[0;32m---> 14\u001b[0;31m             \u001b[0mvalue\u001b[0m \u001b[0;34m=\u001b[0m \u001b[0mdata_dict\u001b[0m\u001b[0;34m[\u001b[0m\u001b[0msample_ID\u001b[0m\u001b[0;34m,\u001b[0m \u001b[0mprotein_symbol\u001b[0m\u001b[0;34m]\u001b[0m\u001b[0;34m\u001b[0m\u001b[0;34m\u001b[0m\u001b[0m\n\u001b[0m\u001b[1;32m     15\u001b[0m             \u001b[0moutput_txt\u001b[0m\u001b[0;34m.\u001b[0m\u001b[0mwrite\u001b[0m\u001b[0;34m(\u001b[0m\u001b[0;34m'\\t%s'\u001b[0m \u001b[0;34m%\u001b[0m \u001b[0mvalue\u001b[0m\u001b[0;34m)\u001b[0m\u001b[0;34m\u001b[0m\u001b[0;34m\u001b[0m\u001b[0m\n\u001b[1;32m     16\u001b[0m         \u001b[0moutput_txt\u001b[0m\u001b[0;34m.\u001b[0m\u001b[0mwrite\u001b[0m\u001b[0;34m(\u001b[0m\u001b[0;34m'\\n'\u001b[0m\u001b[0;34m)\u001b[0m\u001b[0;34m\u001b[0m\u001b[0;34m\u001b[0m\u001b[0m\n",
      "\u001b[0;31mKeyError\u001b[0m: ('21228000109', 'None')"
     ]
    }
   ],
   "source": [
    "make_output_from_dict(sample_ID_list, protein_list, data_dict, output_file)"
   ]
  },
  {
   "cell_type": "code",
   "execution_count": 7,
   "id": "reverse-johnston",
   "metadata": {},
   "outputs": [],
   "source": [
    "#transpose_data\n",
    "data_df = pd.read_csv(output_file, sep=\"\\t\", index_col=0)\n",
    "data_df = data_df.T\n",
    "data_df.to_csv('/Users/m221138/RA_sero_multiomics/preprocessed_data/proteomics/somascan_anml.T.v2.tsv', sep=\"\\t\")"
   ]
  },
  {
   "cell_type": "code",
   "execution_count": null,
   "id": "amino-virus",
   "metadata": {},
   "outputs": [],
   "source": []
  }
 ],
 "metadata": {
  "kernelspec": {
   "display_name": "Python 3",
   "language": "python",
   "name": "python3"
  },
  "language_info": {
   "codemirror_mode": {
    "name": "ipython",
    "version": 3
   },
   "file_extension": ".py",
   "mimetype": "text/x-python",
   "name": "python",
   "nbconvert_exporter": "python",
   "pygments_lexer": "ipython3",
   "version": "3.9.1"
  }
 },
 "nbformat": 4,
 "nbformat_minor": 5
}
