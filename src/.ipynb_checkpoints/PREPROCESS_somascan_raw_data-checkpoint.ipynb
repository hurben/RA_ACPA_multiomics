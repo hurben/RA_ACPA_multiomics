{
 "cells": [
  {
   "cell_type": "code",
   "execution_count": 1,
   "id": "generic-announcement",
   "metadata": {},
   "outputs": [],
   "source": [
    "import pandas as pd"
   ]
  },
  {
   "cell_type": "code",
   "execution_count": 60,
   "id": "included-validation",
   "metadata": {},
   "outputs": [],
   "source": [
    "def parse_from_anml_data(data_file):\n",
    "    data_open = open(data_file,'r')\n",
    "    data_readlines = data_open.readlines()\n",
    "    sample_ID_list = []\n",
    "    protein_list =[]\n",
    "    data_dict = {}\n",
    "    \n",
    "#row 60 = gene symbol\n",
    "#row 61 = species\n",
    "    \n",
    "    temp_protein_list = data_readlines[60].split('\\t')\n",
    "    temp_species_list = data_readlines[61].split('\\t')\n",
    "    \n",
    "    #make protein_list without mouse proteins\n",
    "    for i in range(34, len(temp_species_list)):\n",
    "        protein_name = temp_protein_list[i]\n",
    "        species_type = temp_species_list[i]\n",
    "        if species_type == \"Human\":\n",
    "            protein_list.append(protein_name)\n",
    "            \n",
    "    #make dict[sampleid, protein] = value\n",
    "    \n",
    "    for i in range(74, len(data_readlines)):\n",
    "        read = data_readlines[i]\n",
    "        read = read.replace('\\n','')\n",
    "        token = read.split('\\t')\n",
    "        \n",
    "        sample_ID = token[6]\n",
    "        sample_type = token[7]\n",
    "        if sample_type == 'Sample': #check whether the well type is sample, calibratory, qc\n",
    "            sample_ID_list.append(sample_ID)\n",
    "    \n",
    "            for j in range(34,len(token)):\n",
    "                protein_symbol = temp_protein_list[j]\n",
    "                species_type = temp_species_list[j]\n",
    "                value = token[j]\n",
    "                if species_type == \"Human\": #do only human proteins\n",
    "                    data_dict[sample_ID, protein_symbol] = value\n",
    "                    \n",
    "    return sample_ID_list, protein_list, data_dict"
   ]
  },
  {
   "cell_type": "code",
   "execution_count": 62,
   "id": "challenging-slovakia",
   "metadata": {},
   "outputs": [],
   "source": [
    "def make_output_from_dict(sample_ID_list, protein_list, data_dict, output_dir):\n",
    "    output_txt = open(output_dir,'w')\n",
    "    \n",
    "    #write header\n",
    "    output_txt.write('sample_ID')\n",
    "    for protein_symbol in protein_list:\n",
    "        output_txt.write('\\t%s' % protein_symbol)\n",
    "    output_txt.write('\\n')\n",
    "    \n",
    "    #write main\n",
    "    for sample_ID in sample_ID_list:\n",
    "        output_txt.write(sample_ID)\n",
    "        for protein_symbol in protein_list:\n",
    "            value = data_dict[sample_ID, protein_symbol]\n",
    "            output_txt.write('\\t%s' % value)\n",
    "        output_txt.write('\\n')\n",
    "    \n",
    "    \n",
    "    output_txt.close()"
   ]
  },
  {
   "cell_type": "code",
   "execution_count": 4,
   "id": "radical-contractor",
   "metadata": {},
   "outputs": [],
   "source": [
    "data_file = \"/Users/m221138/RA_sero_multiomics/raw_data/RA_somascan/MAYO-216978_v4.1_EDTAPlasma_20210905/SS-216978_v4.1_EDTAPlasma.hybNorm.medNormInt.plateScale.calibrate.anmlQC.qcCheck.anmlSMP.adat\"\n",
    "output_file = '/Users/m221138/RA_sero_multiomics/preprocessed_data/proteomics/somascan_anml.tsv'\n",
    "\n"
   ]
  },
  {
   "cell_type": "code",
   "execution_count": null,
   "id": "manual-healing",
   "metadata": {},
   "outputs": [],
   "source": [
    "\n",
    "sample_ID_list, protein_list, data_dict = parse_from_anml_data(data_file)\n",
    "make_output_from_dict(sample_ID_list, protein_list, data_dict, output_file)"
   ]
  },
  {
   "cell_type": "code",
   "execution_count": 7,
   "id": "reverse-johnston",
   "metadata": {},
   "outputs": [],
   "source": [
    "#transpose_data\n",
    "data_df = pd.read_csv(output_file, sep=\"\\t\", index_col=0)\n",
    "data_df = data_df.T\n",
    "data_df.to_csv('/Users/m221138/RA_sero_multiomics/preprocessed_data/proteomics/somascan_anml.T.tsv', sep=\"\\t\")"
   ]
  },
  {
   "cell_type": "code",
   "execution_count": null,
   "id": "amino-virus",
   "metadata": {},
   "outputs": [],
   "source": []
  }
 ],
 "metadata": {
  "kernelspec": {
   "display_name": "Python 3",
   "language": "python",
   "name": "python3"
  },
  "language_info": {
   "codemirror_mode": {
    "name": "ipython",
    "version": 3
   },
   "file_extension": ".py",
   "mimetype": "text/x-python",
   "name": "python",
   "nbconvert_exporter": "python",
   "pygments_lexer": "ipython3",
   "version": "3.9.1"
  }
 },
 "nbformat": 4,
 "nbformat_minor": 5
}
