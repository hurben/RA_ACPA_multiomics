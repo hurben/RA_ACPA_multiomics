{
 "cells": [
  {
   "cell_type": "code",
   "execution_count": 1,
   "id": "criminal-advantage",
   "metadata": {},
   "outputs": [],
   "source": [
    "#replace childID to parentID\n",
    "import pandas as pd"
   ]
  },
  {
   "cell_type": "code",
   "execution_count": 2,
   "id": "ultimate-funeral",
   "metadata": {},
   "outputs": [],
   "source": [
    "def make_dict_from_sample_pc_file(data_file):\n",
    "    \n",
    "    data_child_dict = {}\n",
    "    data_parent_dict = {}\n",
    "    \n",
    "    data_df = pd.read_csv(data_file,sep=',')\n",
    "    r, c = data_df.shape\n",
    "    \n",
    "    for i in range(r):\n",
    "        sample_child_id = int(data_df.iloc[i][0])\n",
    "        sample_parent_id = int(data_df.iloc[i][1])\n",
    "        \n",
    "        data_child_dict[sample_child_id] = sample_parent_id\n",
    "        data_parent_dict[sample_parent_id] = sample_child_id\n",
    "        \n",
    "    return data_child_dict, data_parent_dict\n",
    "\n",
    "def main(data_file, output_file, data_child_dict):\n",
    "    \n",
    "    data_file_open = open(data_file,'r')\n",
    "    data_file_readlines = data_file_open.readlines()\n",
    "    \n",
    "    output_txt = open(output_file,'w')\n",
    "    \n",
    "    for i in range(len(data_file_readlines)):\n",
    "        if i == 0:\n",
    "            read = data_file_readlines[i]\n",
    "            read = read.replace('\\n','')\n",
    "            token = read.split('\\t')\n",
    "            for j in range(1, len(token)):\n",
    "                child_ID = token[j]\n",
    "                parent_ID = data_child_dict[int(child_ID)]\n",
    "                \n",
    "                if parent_ID == 1519501683:\n",
    "                    parent_ID = 1519501684\n",
    "                    \n",
    "                output_txt.write('\\t%s' % parent_ID)\n",
    "            output_txt.write('\\n')\n",
    "        else:\n",
    "            read = data_file_readlines[i]\n",
    "            output_txt.write(read)\n",
    "    output_txt.close()"
   ]
  },
  {
   "cell_type": "code",
   "execution_count": 3,
   "id": "floppy-branch",
   "metadata": {},
   "outputs": [],
   "source": [
    "sample_pc_file = '/Users/m221138/RA_sero_multiomics/patient_info_data/Sample_ParentChild_info_SomaScan.csv'\n",
    "data_child_dict, data_parent_dict = make_dict_from_sample_pc_file(sample_pc_file)\n",
    "\n",
    "data_file = '/Users/m221138/RA_sero_multiomics/preprocessed_data/proteomics/somascan_anml.T.tsv'\n",
    "output_file = '/Users/m221138/RA_sero_multiomics/preprocessed_data/proteomics/somascan_anml.T.v2.tsv'\n",
    "\n",
    "main(data_file, output_file, data_child_dict)"
   ]
  }
 ],
 "metadata": {
  "kernelspec": {
   "display_name": "Python 3",
   "language": "python",
   "name": "python3"
  },
  "language_info": {
   "codemirror_mode": {
    "name": "ipython",
    "version": 3
   },
   "file_extension": ".py",
   "mimetype": "text/x-python",
   "name": "python",
   "nbconvert_exporter": "python",
   "pygments_lexer": "ipython3",
   "version": "3.9.1"
  }
 },
 "nbformat": 4,
 "nbformat_minor": 5
}
