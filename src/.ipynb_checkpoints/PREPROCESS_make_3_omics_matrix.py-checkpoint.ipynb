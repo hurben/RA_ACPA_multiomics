{
 "cells": [
  {
   "cell_type": "code",
   "execution_count": null,
   "id": "voluntary-waters",
   "metadata": {},
   "outputs": [],
   "source": [
    "output_dir ='/Users/m221138/RA_sero_multiomics/preprocessed_data/3_omics'\n",
    "autoantibody_file = '/Users/m221138/RA_sero_multiomics/preprocessed_data/autoantibody/sengenics_qnorm_data.v2.tsv'\n",
    "metabolomics_file = '/Users/m221138/RA_sero_multiomics/preprocessed_data/metabolomics/metabolone_raw_norm_preprocessed.v2.tsv'\n",
    "proteomics_file = '/Users/m221138/RA_sero_multiomics/preprocessed_data/proteomics/somascan_anml.T.v2.tsv'\n"
   ]
  }
 ],
 "metadata": {
  "kernelspec": {
   "display_name": "Python 3",
   "language": "python",
   "name": "python3"
  },
  "language_info": {
   "codemirror_mode": {
    "name": "ipython",
    "version": 3
   },
   "file_extension": ".py",
   "mimetype": "text/x-python",
   "name": "python",
   "nbconvert_exporter": "python",
   "pygments_lexer": "ipython3",
   "version": "3.9.1"
  }
 },
 "nbformat": 4,
 "nbformat_minor": 5
}
