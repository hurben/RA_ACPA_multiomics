{
 "cells": [
  {
   "cell_type": "code",
   "execution_count": 2,
   "id": "protective-young",
   "metadata": {},
   "outputs": [],
   "source": [
    "#most likely for debug purpose\n",
    "\n",
    "import pandas as pd"
   ]
  },
  {
   "cell_type": "code",
   "execution_count": 6,
   "id": "unexpected-criterion",
   "metadata": {},
   "outputs": [],
   "source": [
    "def main(data_profile_file, patient_info_file, output_dir, output_str):\n",
    "\n",
    "    data_profile_dict = {}\n",
    "    patient_class_info_dict = {}\n",
    "\n",
    "    input_data_df = pd.read_csv(data_profile_file, sep=\"\\t\", index_col=0)\n",
    "    patient_info_df = pd.read_csv(patient_info_file, sep=\"\\t\")\n",
    "\n",
    "    #make\n",
    "    #dict[patientID] = class\n",
    "    r, c = patient_info_df.shape\n",
    "    patientID_list = patient_info_df.columns.values[1:]\n",
    "    \n",
    "    for i in range(r):\n",
    "        feature = patient_info_df.iloc[i][0]\n",
    "\n",
    "        if feature == \"acpa\":\n",
    "            for j in range(1, c):\n",
    "                patientID = patientID_list[j-1]\n",
    "                value = int(patient_info_df.iloc[i][j])\n",
    "                patient_class_info_dict[patientID] = value\n",
    "   \n",
    "    #make\n",
    "    #dict[feature, patientID] = value\n",
    "    r, c = input_data_df.shape\n",
    "    patientID_list = input_data_df.columns.values\n",
    "    featureID_list = input_data_df.index.values\n",
    "\n",
    "    for i in range(r):\n",
    "        feature = featureID_list[i]\n",
    "        for j in range(c):\n",
    "            patientID = patientID_list[j]\n",
    "            data_profile_dict[feature, patientID] = input_data_df.iloc[i][j]\n",
    "\n",
    "    output_file = '%s%s_with_class_info.tsv' % (output_dir, output_str)\n",
    "    output_txt = open(output_file,'w')\n",
    "    \n",
    "    for patientID in patientID_list:\n",
    "        output_txt.write('\\t%s' % patientID)\n",
    "    output_txt.write('\\n')\n",
    "    \n",
    "    output_txt.write('acpa')\n",
    "    for patientID in patientID_list:\n",
    "        value = patient_class_info_dict[patientID]\n",
    "        output_txt.write('\\t%s' % value)\n",
    "    output_txt.write('\\n')\n",
    "    \n",
    "    for feature in featureID_list:\n",
    "        output_txt.write(feature)\n",
    "        for patientID in patientID_list:\n",
    "            value = data_profile_dict[feature, patientID]\n",
    "            output_txt.write('\\t%s' % value)\n",
    "        output_txt.write('\\n')\n",
    "    \n",
    "    \n",
    "    output_txt.close()"
   ]
  },
  {
   "cell_type": "code",
   "execution_count": 7,
   "id": "theoretical-artist",
   "metadata": {},
   "outputs": [],
   "source": [
    "output_dir = '/Users/m221138/RA_sero_multiomics/preprocessed_data/omics_etc/'\n",
    "patient_info_file = '../../preprocessed_data/meta/patient_info.ML_ready.tsv'\n",
    "\n",
    "data_profile_file = '../../preprocessed_data/metabolomics/metabolone_raw_norm_preprocessed.v2.tsv'\n",
    "main(data_profile_file, patient_info_file, output_dir, 'metabolomics')\n",
    "\n",
    "data_profile_file = '../../preprocessed_data/proteomics/somascan_anml.T.v2.tsv'\n",
    "main(data_profile_file, patient_info_file, output_dir, 'proteomics')\n",
    "\n",
    "data_profile_file = '../../preprocessed_data/autoantibody/sengenics_qnorm_data.v2.tsv'\n",
    "main(data_profile_file, patient_info_file, output_dir, 'autoantibody')"
   ]
  },
  {
   "cell_type": "code",
   "execution_count": null,
   "id": "hawaiian-location",
   "metadata": {},
   "outputs": [],
   "source": []
  }
 ],
 "metadata": {
  "kernelspec": {
   "display_name": "Python 3",
   "language": "python",
   "name": "python3"
  },
  "language_info": {
   "codemirror_mode": {
    "name": "ipython",
    "version": 3
   },
   "file_extension": ".py",
   "mimetype": "text/x-python",
   "name": "python",
   "nbconvert_exporter": "python",
   "pygments_lexer": "ipython3",
   "version": "3.9.1"
  }
 },
 "nbformat": 4,
 "nbformat_minor": 5
}
