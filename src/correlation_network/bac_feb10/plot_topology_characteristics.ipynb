{
 "cells": [
  {
   "cell_type": "code",
   "execution_count": 33,
   "id": "1674c441-b87a-4d24-a704-bc08479ed0db",
   "metadata": {},
   "outputs": [],
   "source": [
    "import pandas as pd\n",
    "import seaborn as sns"
   ]
  },
  {
   "cell_type": "code",
   "execution_count": 54,
   "id": "c1f504ae-c1ba-49ed-bb9a-4a5bdb1901cd",
   "metadata": {},
   "outputs": [
    {
     "data": {
      "text/plain": [
       "<Figure size 432x288 with 0 Axes>"
      ]
     },
     "metadata": {},
     "output_type": "display_data"
    }
   ],
   "source": [
    "data_dir = '../../analysis/correlation_network/topology_data'\n",
    "file_list = ['acpa_neg_3_omics','acpa_pos_3_omics','control_3_omics']\n",
    "\n",
    "for file_name in file_list:\n",
    "    padj_file = '%s/%s.corr.pad.padj.characteristics.tsv' % (data_dir, file_name)\n",
    "    rho_file = '%s/%s.corr.pad.rho.characteristics.tsv' % (data_dir, file_name)\n",
    "    rhopadj_file = '%s/%s.corr.pad.rho.padj.characteristics.tsv' % (data_dir, file_name)\n",
    "    \n",
    "    data_df = pd.read_csv(padj_file,sep=\"\\t\")\n",
    "    fig = sns.barplot(data= data_df, x=\"PADJ\", y=\"COUNT\")\n",
    "    fig = fig.set_title(\"%s: BH-adjusted P-value\" % file_name)\n",
    "    fig = fig.get_figure()\n",
    "    fig.savefig('%s/plot/%s.corr.pad.padj.characteristics.pdf' % (data_dir, file_name))\n",
    "    fig.clear()\n",
    "\n",
    "    data_df = pd.read_csv(rho_file,sep=\"\\t\")\n",
    "    fig = sns.barplot(data=data_df, x = \"RHO\", y = \"COUNT\", hue=\"TREND\")\n",
    "    fig = fig.set_title(\"%s: RHO\" % file_name)\n",
    "    fig = fig.get_figure()\n",
    "    fig.savefig('%s/plot/%s.corr.pad.rho.characteristics.pdf' % (data_dir, file_name))\n",
    "    fig.clear()\n",
    "\n"
   ]
  },
  {
   "cell_type": "code",
   "execution_count": null,
   "id": "22f6095a-2ed3-4558-a37a-e93d59ad1e7e",
   "metadata": {},
   "outputs": [],
   "source": []
  }
 ],
 "metadata": {
  "kernelspec": {
   "display_name": "Python 3",
   "language": "python",
   "name": "python3"
  },
  "language_info": {
   "codemirror_mode": {
    "name": "ipython",
    "version": 3
   },
   "file_extension": ".py",
   "mimetype": "text/x-python",
   "name": "python",
   "nbconvert_exporter": "python",
   "pygments_lexer": "ipython3",
   "version": "3.9.1"
  }
 },
 "nbformat": 4,
 "nbformat_minor": 5
}
