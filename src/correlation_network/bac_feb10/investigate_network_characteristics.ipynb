{
 "cells": [
  {
   "cell_type": "code",
   "execution_count": 1,
   "id": "6b99f206-9914-4753-8067-336afd3ec6bf",
   "metadata": {},
   "outputs": [],
   "source": [
    "def get_num_readlines(data_file):\n",
    "    with open(data_file) as f:\n",
    "        for i, _ in enumerate(f):\n",
    "            pass\n",
    "    return i + 1\n",
    "\n",
    "def get_count_dict(topology_file):\n",
    "    len_readlines = get_num_readlines(topology_file)\n",
    "\n",
    "    other_info_list = ['acpa','sex','age','bmi','smoking']\n",
    "    count_dict = {}\n",
    "\n",
    "    with open(topology_file) as topology_open:\n",
    "\n",
    "        #for readline in topology_open:\n",
    "        for i in range(len_readlines): #debug purpose\n",
    "            line = next(topology_open)\n",
    "            if i != 0: #line 0 is header\n",
    "                line = line.replace('\\n','')\n",
    "                token = line.split('\\t')\n",
    "\n",
    "                source = token[0]\n",
    "                target = token[1]\n",
    "                source_type = 'error'\n",
    "                target_type = 'error'\n",
    "\n",
    "                if 'p_' == source[0:2]:\n",
    "                    source_type = 'protein'\n",
    "                elif 'aa_' == source[0:3]:\n",
    "                    source_type = 'autoantibody'\n",
    "                elif source in other_info_list:\n",
    "                    source_type = 'patient_info'\n",
    "                else:\n",
    "                    source_type = 'metabolite'\n",
    "\n",
    "                if 'p_' == target[0:2]:\n",
    "                    target_type = 'protein'\n",
    "                elif 'aa_' == target[0:3]:\n",
    "                    target_type = 'autoantibody'\n",
    "                elif target in other_info_list:\n",
    "                    target_type = 'patient_info'\n",
    "                else:\n",
    "                    target_type = 'metabolite'\n",
    "\n",
    "                try:\n",
    "                    count_dict[source_type, target_type] += 1             \n",
    "                except KeyError:\n",
    "                    count_dict[source_type, target_type] = 1\n",
    "\n",
    "    return count_dict"
   ]
  },
  {
   "cell_type": "code",
   "execution_count": 39,
   "id": "bfb10940-7015-41d8-8054-7ed950c11e63",
   "metadata": {},
   "outputs": [
    {
     "data": {
      "text/plain": [
       "{('patient_info', 'autoantibody'): 6,\n",
       " ('patient_info', 'metabolite'): 11,\n",
       " ('patient_info', 'protein'): 25,\n",
       " ('autoantibody', 'autoantibody'): 58}"
      ]
     },
     "execution_count": 39,
     "metadata": {},
     "output_type": "execute_result"
    }
   ],
   "source": [
    "acpa_neg_neg_count_dict = get_count_dict('/Users/m221138/RA_acpa_multiomics/analysis/correlation_network/top100_network/acpa_neg.neg.top100.topology.tsv')\n",
    "acpa_neg_neg_count_dict"
   ]
  },
  {
   "cell_type": "code",
   "execution_count": 40,
   "id": "5afc6a8b-f7c8-45de-8a51-5423c25ddbec",
   "metadata": {},
   "outputs": [
    {
     "data": {
      "text/plain": [
       "{('patient_info', 'autoantibody'): 14,\n",
       " ('patient_info', 'metabolite'): 19,\n",
       " ('patient_info', 'protein'): 67}"
      ]
     },
     "execution_count": 40,
     "metadata": {},
     "output_type": "execute_result"
    }
   ],
   "source": [
    "acpa_neg_pos_count_dict = get_count_dict('/Users/m221138/RA_acpa_multiomics/analysis/correlation_network/top100_network/acpa_neg.pos.top100.topology.tsv')\n",
    "acpa_neg_pos_count_dict\n",
    "\n"
   ]
  },
  {
   "cell_type": "code",
   "execution_count": 41,
   "id": "c605508a-d66e-430f-96ce-83ee41d64ca9",
   "metadata": {},
   "outputs": [
    {
     "data": {
      "text/plain": [
       "{('patient_info', 'metabolite'): 5,\n",
       " ('patient_info', 'protein'): 22,\n",
       " ('autoantibody', 'autoantibody'): 67,\n",
       " ('autoantibody', 'metabolite'): 2,\n",
       " ('autoantibody', 'protein'): 4}"
      ]
     },
     "execution_count": 41,
     "metadata": {},
     "output_type": "execute_result"
    }
   ],
   "source": [
    "acpa_pos_pos_count_dict = get_count_dict('/Users/m221138/RA_acpa_multiomics/analysis/correlation_network/top100_network/acpa_pos.neg.top100.topology.tsv')\n",
    "acpa_pos_pos_count_dict"
   ]
  },
  {
   "cell_type": "code",
   "execution_count": 42,
   "id": "ba2b6dee-3dcc-498b-9466-698badf8aa87",
   "metadata": {},
   "outputs": [
    {
     "data": {
      "text/plain": [
       "{('patient_info', 'metabolite'): 14,\n",
       " ('patient_info', 'protein'): 31,\n",
       " ('autoantibody', 'autoantibody'): 55}"
      ]
     },
     "execution_count": 42,
     "metadata": {},
     "output_type": "execute_result"
    }
   ],
   "source": [
    "acpa_pos_neg_count_dict = get_count_dict('/Users/m221138/RA_acpa_multiomics/analysis/correlation_network/top100_network/acpa_pos.pos.top100.topology.tsv')\n",
    "acpa_pos_neg_count_dict"
   ]
  },
  {
   "cell_type": "code",
   "execution_count": 43,
   "id": "97fbe1e0-438e-4d33-8c07-8daf684846b6",
   "metadata": {},
   "outputs": [
    {
     "data": {
      "text/plain": [
       "{('patient_info', 'metabolite'): 36,\n",
       " ('patient_info', 'protein'): 40,\n",
       " ('autoantibody', 'autoantibody'): 24}"
      ]
     },
     "execution_count": 43,
     "metadata": {},
     "output_type": "execute_result"
    }
   ],
   "source": [
    "control_pos_count_dict = get_count_dict('/Users/m221138/RA_acpa_multiomics/analysis/correlation_network/top100_network/control.neg.top100.topology.tsv')\n",
    "control_pos_count_dict"
   ]
  },
  {
   "cell_type": "code",
   "execution_count": 44,
   "id": "04792415-2086-4ec2-b7d3-f8b5e19d05d8",
   "metadata": {},
   "outputs": [
    {
     "data": {
      "text/plain": [
       "{('patient_info', 'metabolite'): 67, ('patient_info', 'protein'): 33}"
      ]
     },
     "execution_count": 44,
     "metadata": {},
     "output_type": "execute_result"
    }
   ],
   "source": [
    "control_neg_count_dict = get_count_dict('/Users/m221138/RA_acpa_multiomics/analysis/correlation_network/top100_network/control.pos.top100.topology.tsv')\n",
    "control_neg_count_dict"
   ]
  },
  {
   "cell_type": "code",
   "execution_count": null,
   "id": "e2adbc45-8b16-49eb-b397-ce138ffaaccf",
   "metadata": {},
   "outputs": [],
   "source": []
  }
 ],
 "metadata": {
  "kernelspec": {
   "display_name": "Python 3",
   "language": "python",
   "name": "python3"
  },
  "language_info": {
   "codemirror_mode": {
    "name": "ipython",
    "version": 3
   },
   "file_extension": ".py",
   "mimetype": "text/x-python",
   "name": "python",
   "nbconvert_exporter": "python",
   "pygments_lexer": "ipython3",
   "version": "3.9.1"
  }
 },
 "nbformat": 4,
 "nbformat_minor": 5
}
