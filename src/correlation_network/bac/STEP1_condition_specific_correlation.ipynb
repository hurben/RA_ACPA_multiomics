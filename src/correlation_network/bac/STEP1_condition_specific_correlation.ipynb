{
 "cells": [
  {
   "cell_type": "code",
   "execution_count": 1,
   "id": "8689affc-1a96-4d5b-857c-bdaffa35a4f2",
   "metadata": {},
   "outputs": [],
   "source": [
    "#STEP1_condition_specific_correlation     22.11.10\n",
    "\n",
    "#do correlation, split results into two files\n",
    "#file1: rho value\n",
    "#file2: p value\n",
    "\n",
    "import pandas as pd\n",
    "from scipy import stats\n",
    "import statistics\n",
    "import numpy as np"
   ]
  },
  {
   "cell_type": "code",
   "execution_count": 36,
   "id": "3673b8be-f21a-46d9-a2ab-5264185a6aea",
   "metadata": {},
   "outputs": [],
   "source": [
    "def main(data_file, output_file):\n",
    "\n",
    "    data_df = pd.read_csv(data_file, sep =\"\\t\", index_col=0)\n",
    "    data_df = data_df.T #transposing the data for simplicity\n",
    "    \n",
    "    rho_output_file = output_file.replace('.tsv', '.corr.rho.tsv')\n",
    "    sig_output_file = output_file.replace('.tsv', '.corr.sig.tsv')\n",
    "    \n",
    "    rho_output_txt = open(rho_output_file,'w')\n",
    "    sig_output_txt = open(sig_output_file,'w')\n",
    "    \n",
    "    feature_list = list(data_df.columns.values)\n",
    "    \n",
    "    write_headers(rho_output_txt, feature_list)\n",
    "    write_headers(sig_output_txt, feature_list)\n",
    "    \n",
    "    for feature_alpha in feature_list: #row\n",
    "        feature_alpha_value_list = list(data_df[feature_alpha])\n",
    "        \n",
    "        rho_output_txt.write(feature_alpha)\n",
    "        sig_output_txt.write(feature_alpha)\n",
    "        \n",
    "        for feature_beta in feature_list: #column\n",
    "            feature_beta_value_list = list(data_df[feature_beta])\n",
    "            if feature_alpha == feature_beta:\n",
    "                rho_output_txt.write('\\tnan')\n",
    "                sig_output_txt.write('\\tnan')\n",
    "            else:\n",
    "                rho, pval = stats.spearmanr(feature_alpha_value_list, feature_beta_value_list, nan_policy=\"omit\")\n",
    "                # print (feature_alpha, feature_beta)\n",
    "                # print (rho, pval)\n",
    "                rho_output_txt.write('\\t%s' % rho)\n",
    "                sig_output_txt.write('\\t%s' % pval)\n",
    "        rho_output_txt.write('\\n')\n",
    "        sig_output_txt.write('\\n')\n",
    "\n",
    "    rho_output_txt.close()\n",
    "    sig_output_txt.close()\n",
    "    \n",
    "def write_headers(output_txt, feature_list):\n",
    "    for feature_name in feature_list:\n",
    "        output_txt.write('\\t%s' % feature_name)\n",
    "    output_txt.write('\\n')\n"
   ]
  },
  {
   "cell_type": "code",
   "execution_count": null,
   "id": "3eba04a0-c21d-467a-8a7f-2ad35be00bc4",
   "metadata": {},
   "outputs": [],
   "source": [
    "data_dir = '../../analysis/correlation_network/preprocessed_data'\n",
    "file_list = ['acpa_neg_3_omics.tsv','acpa_pos_3_omics.tsv','control_3_omics.tsv']\n",
    "\n",
    "for file_name in file_list:\n",
    "    \n",
    "    data_file = '%s/%s' % (data_dir, file_name)\n",
    "    output_file = '../../analysis/correlation_network/%s' % file_name\n",
    "\n",
    "    main(data_file, output_file)\n",
    "    "
   ]
  },
  {
   "cell_type": "code",
   "execution_count": null,
   "id": "4e07c0f9-51bc-4b79-8376-236022b486a1",
   "metadata": {},
   "outputs": [],
   "source": []
  }
 ],
 "metadata": {
  "kernelspec": {
   "display_name": "Python 3",
   "language": "python",
   "name": "python3"
  },
  "language_info": {
   "codemirror_mode": {
    "name": "ipython",
    "version": 3
   },
   "file_extension": ".py",
   "mimetype": "text/x-python",
   "name": "python",
   "nbconvert_exporter": "python",
   "pygments_lexer": "ipython3",
   "version": "3.9.1"
  }
 },
 "nbformat": 4,
 "nbformat_minor": 5
}
