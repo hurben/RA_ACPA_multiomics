{
 "cells": [
  {
   "cell_type": "code",
   "execution_count": 2,
   "id": "41486c44-e89a-48e7-b4ee-c532b3c40017",
   "metadata": {},
   "outputs": [],
   "source": [
    "#PREPROCESS_make_condition_specific_profiles   22.11.10\n",
    "#\n",
    "#Objective: From full data matrix (9949 X 120 matrix)\n",
    "#Split the data matrix into three seperate matrices (i.e., ACPA-, ACPA+, control)\n",
    "\n",
    "import pandas as pd"
   ]
  },
  {
   "cell_type": "code",
   "execution_count": 28,
   "id": "9ab80021-8589-496d-b461-23201b21a5e8",
   "metadata": {},
   "outputs": [],
   "source": [
    "def make_output(output_file, patient_ID_list, feature_list, data_dict):\n",
    "    output_txt = open(output_file ,'w')\n",
    "    \n",
    "    for i in range(len(patient_ID_list)):\n",
    "        output_txt.write('\\t%s' % patient_ID_list[i])\n",
    "    output_txt.write('\\n')\n",
    "    \n",
    "    for feature in feature_list:\n",
    "        if feature != \"acpa\":\n",
    "            \n",
    "            output_txt.write(feature)\n",
    "            for patient_ID in patient_ID_list:\n",
    "                value = data_dict[feature, patient_ID]\n",
    "                output_txt.write('\\t%s' % value)\n",
    "            output_txt.write('\\n')\n",
    "\n",
    "    output_txt.close()"
   ]
  },
  {
   "cell_type": "code",
   "execution_count": 20,
   "id": "089f113a-b69b-47ec-a324-fa33e99e7fa7",
   "metadata": {},
   "outputs": [],
   "source": [
    "#Read full data matrix file\n",
    "full_data_file = '../../preprocessed_data/3_omics/three_omics_multiplex.tsv'\n",
    "full_data_df = pd.read_csv(full_data_file, sep=\"\\t\", index_col = 0)\n",
    "r, c = full_data_df.shape\n",
    "\n",
    "#get patient ID list, feature list\n",
    "patient_ID_list = list(full_data_df.columns.values)\n",
    "feature_list = list(full_data_df.index.values)\n",
    "\n",
    "#make dict\n",
    "#note: lets just do this way to avoid human error\n",
    "acpa_neg_list = []\n",
    "acpa_pos_list = []\n",
    "control_list = []\n",
    "data_dict = {}\n",
    "\n",
    "for i in range(r):\n",
    "    feature_name = feature_list[i]\n",
    "    \n",
    "    for j in range(c):\n",
    "        patient_ID = patient_ID_list[j]\n",
    "        value = full_data_df.iloc[i][j]\n",
    "        \n",
    "        if feature_name == \"acpa\":   \n",
    "            if value == 1:\n",
    "                acpa_pos_list.append(patient_ID)\n",
    "            if value == 2:\n",
    "                acpa_neg_list.append(patient_ID)\n",
    "            if value == 0:\n",
    "                control_list.append(patient_ID)\n",
    "                \n",
    "        else:\n",
    "            data_dict[feature_name, patient_ID] = value\n",
    "\n"
   ]
  },
  {
   "cell_type": "code",
   "execution_count": 29,
   "id": "d236a65b-c494-49d4-95fa-bb41657a7c93",
   "metadata": {},
   "outputs": [],
   "source": [
    "#make output\n",
    "output_dir = '../../analysis/correlation_network/preprocessed_data'\n",
    "acpa_neg_output_file = '%s/acpa_neg_3_omics.tsv' % output_dir\n",
    "acpa_pos_output_file = '%s/acpa_pos_3_omics.tsv' % output_dir\n",
    "control_output_file = '%s/control_3_omics.tsv' % output_dir\n",
    "\n",
    "make_output(acpa_neg_output_file, acpa_neg_list, feature_list, data_dict)\n",
    "make_output(acpa_pos_output_file, acpa_pos_list, feature_list, data_dict)\n",
    "make_output(control_output_file, control_list, feature_list, data_dict)   "
   ]
  },
  {
   "cell_type": "code",
   "execution_count": null,
   "id": "93cf832c-e8ab-4949-a333-66014115ba2f",
   "metadata": {},
   "outputs": [],
   "source": []
  }
 ],
 "metadata": {
  "kernelspec": {
   "display_name": "Python 3",
   "language": "python",
   "name": "python3"
  },
  "language_info": {
   "codemirror_mode": {
    "name": "ipython",
    "version": 3
   },
   "file_extension": ".py",
   "mimetype": "text/x-python",
   "name": "python",
   "nbconvert_exporter": "python",
   "pygments_lexer": "ipython3",
   "version": "3.9.1"
  }
 },
 "nbformat": 4,
 "nbformat_minor": 5
}
