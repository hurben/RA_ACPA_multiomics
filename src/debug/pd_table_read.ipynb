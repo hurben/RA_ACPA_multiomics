{
 "cells": [
  {
   "cell_type": "code",
   "execution_count": 1,
   "id": "suburban-indonesian",
   "metadata": {},
   "outputs": [],
   "source": [
    "import pandas as pd"
   ]
  },
  {
   "cell_type": "code",
   "execution_count": 55,
   "id": "integrated-professional",
   "metadata": {},
   "outputs": [],
   "source": [
    "data_file = '/Users/m221138/test/multiplex.enet.tsv'\n",
    "data_df = pd.read_csv(data_file, sep=\"\\t\",index_col=0)\n",
    "\n",
    "top_file = '/Users/m221138/test/1fold.topology.tsv'\n",
    "top_df = pd.read_csv(top_file, sep=\"\\t\",index_col=0)\n",
    "\n",
    "top2_file = '/Users/m221138/test/1fold.topology.v2.tsv'\n",
    "top2_df = pd.read_csv(top2_file, sep=\"\\t\",index_col=0)"
   ]
  },
  {
   "cell_type": "code",
   "execution_count": 56,
   "id": "filled-abraham",
   "metadata": {
    "scrolled": true
   },
   "outputs": [
    {
     "data": {
      "text/html": [
       "<div>\n",
       "<style scoped>\n",
       "    .dataframe tbody tr th:only-of-type {\n",
       "        vertical-align: middle;\n",
       "    }\n",
       "\n",
       "    .dataframe tbody tr th {\n",
       "        vertical-align: top;\n",
       "    }\n",
       "\n",
       "    .dataframe thead th {\n",
       "        text-align: right;\n",
       "    }\n",
       "</style>\n",
       "<table border=\"1\" class=\"dataframe\">\n",
       "  <thead>\n",
       "    <tr style=\"text-align: right;\">\n",
       "      <th></th>\n",
       "      <th>acpa</th>\n",
       "      <th>sex</th>\n",
       "      <th>age</th>\n",
       "      <th>bmi</th>\n",
       "      <th>smoking</th>\n",
       "      <th>p_CRYBB2_10000-28</th>\n",
       "      <th>p_RAF1_10001-7</th>\n",
       "      <th>p_ZNF41_10003-15</th>\n",
       "      <th>p_ELK1_10006-25</th>\n",
       "      <th>p_GUCA1A_10008-43</th>\n",
       "      <th>...</th>\n",
       "      <th>p_PRSS35_9983-97</th>\n",
       "      <th>p_YIPF6_9984-12</th>\n",
       "      <th>p_NPW_9986-14</th>\n",
       "      <th>p_LRRC25_9987-30</th>\n",
       "      <th>p_LRRC24_9989-12</th>\n",
       "      <th>p_EMILIN3_9991-112</th>\n",
       "      <th>p_ZNF264_9993-11</th>\n",
       "      <th>p_ATP4B_9994-217</th>\n",
       "      <th>p_DUT_9995-6</th>\n",
       "      <th>p_UBXN4_9997-12</th>\n",
       "    </tr>\n",
       "  </thead>\n",
       "  <tbody>\n",
       "    <tr>\n",
       "      <th>sex</th>\n",
       "      <td>0.0</td>\n",
       "      <td>NaN</td>\n",
       "      <td>0.000567</td>\n",
       "      <td>0.0</td>\n",
       "      <td>0.0</td>\n",
       "      <td>0.0</td>\n",
       "      <td>0.0</td>\n",
       "      <td>0.0</td>\n",
       "      <td>0.0</td>\n",
       "      <td>0.0</td>\n",
       "      <td>...</td>\n",
       "      <td>0.0</td>\n",
       "      <td>0.0</td>\n",
       "      <td>0.0</td>\n",
       "      <td>0.0</td>\n",
       "      <td>0.0</td>\n",
       "      <td>0.0</td>\n",
       "      <td>0.0</td>\n",
       "      <td>0.000000</td>\n",
       "      <td>0.0</td>\n",
       "      <td>0.0</td>\n",
       "    </tr>\n",
       "    <tr>\n",
       "      <th>age</th>\n",
       "      <td>0.0</td>\n",
       "      <td>0.532728</td>\n",
       "      <td>NaN</td>\n",
       "      <td>0.0</td>\n",
       "      <td>0.0</td>\n",
       "      <td>0.0</td>\n",
       "      <td>0.0</td>\n",
       "      <td>0.0</td>\n",
       "      <td>0.0</td>\n",
       "      <td>0.0</td>\n",
       "      <td>...</td>\n",
       "      <td>0.0</td>\n",
       "      <td>0.0</td>\n",
       "      <td>0.0</td>\n",
       "      <td>0.0</td>\n",
       "      <td>0.0</td>\n",
       "      <td>0.0</td>\n",
       "      <td>0.0</td>\n",
       "      <td>0.000000</td>\n",
       "      <td>0.0</td>\n",
       "      <td>0.0</td>\n",
       "    </tr>\n",
       "    <tr>\n",
       "      <th>bmi</th>\n",
       "      <td>0.0</td>\n",
       "      <td>0.000000</td>\n",
       "      <td>0.000000</td>\n",
       "      <td>NaN</td>\n",
       "      <td>0.0</td>\n",
       "      <td>0.0</td>\n",
       "      <td>0.0</td>\n",
       "      <td>0.0</td>\n",
       "      <td>0.0</td>\n",
       "      <td>0.0</td>\n",
       "      <td>...</td>\n",
       "      <td>0.0</td>\n",
       "      <td>0.0</td>\n",
       "      <td>0.0</td>\n",
       "      <td>0.0</td>\n",
       "      <td>0.0</td>\n",
       "      <td>0.0</td>\n",
       "      <td>0.0</td>\n",
       "      <td>0.000357</td>\n",
       "      <td>0.0</td>\n",
       "      <td>0.0</td>\n",
       "    </tr>\n",
       "    <tr>\n",
       "      <th>smoking</th>\n",
       "      <td>0.0</td>\n",
       "      <td>0.000000</td>\n",
       "      <td>0.000000</td>\n",
       "      <td>0.0</td>\n",
       "      <td>NaN</td>\n",
       "      <td>0.0</td>\n",
       "      <td>0.0</td>\n",
       "      <td>0.0</td>\n",
       "      <td>0.0</td>\n",
       "      <td>0.0</td>\n",
       "      <td>...</td>\n",
       "      <td>0.0</td>\n",
       "      <td>0.0</td>\n",
       "      <td>0.0</td>\n",
       "      <td>0.0</td>\n",
       "      <td>0.0</td>\n",
       "      <td>0.0</td>\n",
       "      <td>0.0</td>\n",
       "      <td>0.000000</td>\n",
       "      <td>0.0</td>\n",
       "      <td>0.0</td>\n",
       "    </tr>\n",
       "  </tbody>\n",
       "</table>\n",
       "<p>4 rows × 7277 columns</p>\n",
       "</div>"
      ],
      "text/plain": [
       "         acpa       sex       age  bmi  smoking  p_CRYBB2_10000-28  \\\n",
       "sex       0.0       NaN  0.000567  0.0      0.0                0.0   \n",
       "age       0.0  0.532728       NaN  0.0      0.0                0.0   \n",
       "bmi       0.0  0.000000  0.000000  NaN      0.0                0.0   \n",
       "smoking   0.0  0.000000  0.000000  0.0      NaN                0.0   \n",
       "\n",
       "         p_RAF1_10001-7  p_ZNF41_10003-15  p_ELK1_10006-25  p_GUCA1A_10008-43  \\\n",
       "sex                 0.0               0.0              0.0                0.0   \n",
       "age                 0.0               0.0              0.0                0.0   \n",
       "bmi                 0.0               0.0              0.0                0.0   \n",
       "smoking             0.0               0.0              0.0                0.0   \n",
       "\n",
       "         ...  p_PRSS35_9983-97  p_YIPF6_9984-12  p_NPW_9986-14  \\\n",
       "sex      ...               0.0              0.0            0.0   \n",
       "age      ...               0.0              0.0            0.0   \n",
       "bmi      ...               0.0              0.0            0.0   \n",
       "smoking  ...               0.0              0.0            0.0   \n",
       "\n",
       "         p_LRRC25_9987-30  p_LRRC24_9989-12  p_EMILIN3_9991-112  \\\n",
       "sex                   0.0               0.0                 0.0   \n",
       "age                   0.0               0.0                 0.0   \n",
       "bmi                   0.0               0.0                 0.0   \n",
       "smoking               0.0               0.0                 0.0   \n",
       "\n",
       "         p_ZNF264_9993-11  p_ATP4B_9994-217  p_DUT_9995-6  p_UBXN4_9997-12  \n",
       "sex                   0.0          0.000000           0.0              0.0  \n",
       "age                   0.0          0.000000           0.0              0.0  \n",
       "bmi                   0.0          0.000357           0.0              0.0  \n",
       "smoking               0.0          0.000000           0.0              0.0  \n",
       "\n",
       "[4 rows x 7277 columns]"
      ]
     },
     "execution_count": 56,
     "metadata": {},
     "output_type": "execute_result"
    }
   ],
   "source": [
    "data_df[1:5]"
   ]
  },
  {
   "cell_type": "code",
   "execution_count": 60,
   "id": "romance-protein",
   "metadata": {
    "scrolled": true
   },
   "outputs": [
    {
     "data": {
      "text/plain": [
       "0.0"
      ]
     },
     "execution_count": 60,
     "metadata": {},
     "output_type": "execute_result"
    }
   ],
   "source": [
    "data_df[\"acpa\"][\"p_CFD_13678-169\"]"
   ]
  },
  {
   "cell_type": "code",
   "execution_count": 66,
   "id": "secret-survival",
   "metadata": {},
   "outputs": [
    {
     "data": {
      "text/html": [
       "<div>\n",
       "<style scoped>\n",
       "    .dataframe tbody tr th:only-of-type {\n",
       "        vertical-align: middle;\n",
       "    }\n",
       "\n",
       "    .dataframe tbody tr th {\n",
       "        vertical-align: top;\n",
       "    }\n",
       "\n",
       "    .dataframe thead th {\n",
       "        text-align: right;\n",
       "    }\n",
       "</style>\n",
       "<table border=\"1\" class=\"dataframe\">\n",
       "  <thead>\n",
       "    <tr style=\"text-align: right;\">\n",
       "      <th></th>\n",
       "      <th>acpa</th>\n",
       "      <th>sex</th>\n",
       "      <th>age</th>\n",
       "      <th>bmi</th>\n",
       "      <th>smoking</th>\n",
       "      <th>p_CRYBB2_10000-28</th>\n",
       "      <th>p_RAF1_10001-7</th>\n",
       "      <th>p_ZNF41_10003-15</th>\n",
       "      <th>p_ELK1_10006-25</th>\n",
       "      <th>p_GUCA1A_10008-43</th>\n",
       "      <th>...</th>\n",
       "      <th>p_PRSS35_9983-97</th>\n",
       "      <th>p_YIPF6_9984-12</th>\n",
       "      <th>p_NPW_9986-14</th>\n",
       "      <th>p_LRRC25_9987-30</th>\n",
       "      <th>p_LRRC24_9989-12</th>\n",
       "      <th>p_EMILIN3_9991-112</th>\n",
       "      <th>p_ZNF264_9993-11</th>\n",
       "      <th>p_ATP4B_9994-217</th>\n",
       "      <th>p_DUT_9995-6</th>\n",
       "      <th>p_UBXN4_9997-12</th>\n",
       "    </tr>\n",
       "  </thead>\n",
       "  <tbody>\n",
       "    <tr>\n",
       "      <th>sex</th>\n",
       "      <td>0.0</td>\n",
       "      <td>NaN</td>\n",
       "      <td>0.000567</td>\n",
       "      <td>0.0</td>\n",
       "      <td>0.0</td>\n",
       "      <td>0.0</td>\n",
       "      <td>0.0</td>\n",
       "      <td>0.0</td>\n",
       "      <td>0.0</td>\n",
       "      <td>0.0</td>\n",
       "      <td>...</td>\n",
       "      <td>0.0</td>\n",
       "      <td>0.0</td>\n",
       "      <td>0.0</td>\n",
       "      <td>0.0</td>\n",
       "      <td>0.0</td>\n",
       "      <td>0.0</td>\n",
       "      <td>0.0</td>\n",
       "      <td>0.000000</td>\n",
       "      <td>0.0</td>\n",
       "      <td>0.0</td>\n",
       "    </tr>\n",
       "    <tr>\n",
       "      <th>age</th>\n",
       "      <td>0.0</td>\n",
       "      <td>0.532728</td>\n",
       "      <td>NaN</td>\n",
       "      <td>0.0</td>\n",
       "      <td>0.0</td>\n",
       "      <td>0.0</td>\n",
       "      <td>0.0</td>\n",
       "      <td>0.0</td>\n",
       "      <td>0.0</td>\n",
       "      <td>0.0</td>\n",
       "      <td>...</td>\n",
       "      <td>0.0</td>\n",
       "      <td>0.0</td>\n",
       "      <td>0.0</td>\n",
       "      <td>0.0</td>\n",
       "      <td>0.0</td>\n",
       "      <td>0.0</td>\n",
       "      <td>0.0</td>\n",
       "      <td>0.000000</td>\n",
       "      <td>0.0</td>\n",
       "      <td>0.0</td>\n",
       "    </tr>\n",
       "    <tr>\n",
       "      <th>bmi</th>\n",
       "      <td>0.0</td>\n",
       "      <td>0.000000</td>\n",
       "      <td>0.000000</td>\n",
       "      <td>NaN</td>\n",
       "      <td>0.0</td>\n",
       "      <td>0.0</td>\n",
       "      <td>0.0</td>\n",
       "      <td>0.0</td>\n",
       "      <td>0.0</td>\n",
       "      <td>0.0</td>\n",
       "      <td>...</td>\n",
       "      <td>0.0</td>\n",
       "      <td>0.0</td>\n",
       "      <td>0.0</td>\n",
       "      <td>0.0</td>\n",
       "      <td>0.0</td>\n",
       "      <td>0.0</td>\n",
       "      <td>0.0</td>\n",
       "      <td>0.000357</td>\n",
       "      <td>0.0</td>\n",
       "      <td>0.0</td>\n",
       "    </tr>\n",
       "    <tr>\n",
       "      <th>smoking</th>\n",
       "      <td>0.0</td>\n",
       "      <td>0.000000</td>\n",
       "      <td>0.000000</td>\n",
       "      <td>0.0</td>\n",
       "      <td>NaN</td>\n",
       "      <td>0.0</td>\n",
       "      <td>0.0</td>\n",
       "      <td>0.0</td>\n",
       "      <td>0.0</td>\n",
       "      <td>0.0</td>\n",
       "      <td>...</td>\n",
       "      <td>0.0</td>\n",
       "      <td>0.0</td>\n",
       "      <td>0.0</td>\n",
       "      <td>0.0</td>\n",
       "      <td>0.0</td>\n",
       "      <td>0.0</td>\n",
       "      <td>0.0</td>\n",
       "      <td>0.000000</td>\n",
       "      <td>0.0</td>\n",
       "      <td>0.0</td>\n",
       "    </tr>\n",
       "  </tbody>\n",
       "</table>\n",
       "<p>4 rows × 7277 columns</p>\n",
       "</div>"
      ],
      "text/plain": [
       "         acpa       sex       age  bmi  smoking  p_CRYBB2_10000-28  \\\n",
       "sex       0.0       NaN  0.000567  0.0      0.0                0.0   \n",
       "age       0.0  0.532728       NaN  0.0      0.0                0.0   \n",
       "bmi       0.0  0.000000  0.000000  NaN      0.0                0.0   \n",
       "smoking   0.0  0.000000  0.000000  0.0      NaN                0.0   \n",
       "\n",
       "         p_RAF1_10001-7  p_ZNF41_10003-15  p_ELK1_10006-25  p_GUCA1A_10008-43  \\\n",
       "sex                 0.0               0.0              0.0                0.0   \n",
       "age                 0.0               0.0              0.0                0.0   \n",
       "bmi                 0.0               0.0              0.0                0.0   \n",
       "smoking             0.0               0.0              0.0                0.0   \n",
       "\n",
       "         ...  p_PRSS35_9983-97  p_YIPF6_9984-12  p_NPW_9986-14  \\\n",
       "sex      ...               0.0              0.0            0.0   \n",
       "age      ...               0.0              0.0            0.0   \n",
       "bmi      ...               0.0              0.0            0.0   \n",
       "smoking  ...               0.0              0.0            0.0   \n",
       "\n",
       "         p_LRRC25_9987-30  p_LRRC24_9989-12  p_EMILIN3_9991-112  \\\n",
       "sex                   0.0               0.0                 0.0   \n",
       "age                   0.0               0.0                 0.0   \n",
       "bmi                   0.0               0.0                 0.0   \n",
       "smoking               0.0               0.0                 0.0   \n",
       "\n",
       "         p_ZNF264_9993-11  p_ATP4B_9994-217  p_DUT_9995-6  p_UBXN4_9997-12  \n",
       "sex                   0.0          0.000000           0.0              0.0  \n",
       "age                   0.0          0.000000           0.0              0.0  \n",
       "bmi                   0.0          0.000357           0.0              0.0  \n",
       "smoking               0.0          0.000000           0.0              0.0  \n",
       "\n",
       "[4 rows x 7277 columns]"
      ]
     },
     "execution_count": 66,
     "metadata": {},
     "output_type": "execute_result"
    }
   ],
   "source": [
    "data_df[1:5]"
   ]
  },
  {
   "cell_type": "code",
   "execution_count": 68,
   "id": "original-vessel",
   "metadata": {
    "scrolled": false
   },
   "outputs": [
    {
     "data": {
      "text/plain": [
       "-4.60811217439342e-07"
      ]
     },
     "execution_count": 68,
     "metadata": {},
     "output_type": "execute_result"
    }
   ],
   "source": [
    "data_df[\"p_HPX_15347-12\"][\"acpa\"]"
   ]
  },
  {
   "cell_type": "code",
   "execution_count": 69,
   "id": "enabling-aviation",
   "metadata": {},
   "outputs": [
    {
     "data": {
      "text/plain": [
       "-399.002984443851"
      ]
     },
     "execution_count": 69,
     "metadata": {},
     "output_type": "execute_result"
    }
   ],
   "source": [
    "data_df[\"acpa\"][\"p_HPX_15347-12\"]"
   ]
  },
  {
   "cell_type": "code",
   "execution_count": 63,
   "id": "loving-circle",
   "metadata": {
    "scrolled": true
   },
   "outputs": [
    {
     "data": {
      "text/plain": [
       "0.0190160949105862"
      ]
     },
     "execution_count": 63,
     "metadata": {},
     "output_type": "execute_result"
    }
   ],
   "source": [
    "data_df[\"p_S100A10_15318-75\"][\"p_H1-10_12709-63\"]\n",
    "data_df[\"p_H1-10_12709-63\"][\"p_S100A10_15318-75\"]"
   ]
  },
  {
   "cell_type": "code",
   "execution_count": 65,
   "id": "extra-expansion",
   "metadata": {},
   "outputs": [
    {
     "data": {
      "text/plain": [
       "1"
      ]
     },
     "execution_count": 65,
     "metadata": {},
     "output_type": "execute_result"
    }
   ],
   "source": [
    "top_df[\"p_S100A10_15318-75\"][\"p_H1-10_12709-63\"]\n",
    "# top_df[\"p_H1-10_12709-63\"][\"p_S100A10_15318-75\"]"
   ]
  },
  {
   "cell_type": "code",
   "execution_count": 57,
   "id": "guilty-cooperative",
   "metadata": {
    "scrolled": true
   },
   "outputs": [
    {
     "data": {
      "text/html": [
       "<div>\n",
       "<style scoped>\n",
       "    .dataframe tbody tr th:only-of-type {\n",
       "        vertical-align: middle;\n",
       "    }\n",
       "\n",
       "    .dataframe tbody tr th {\n",
       "        vertical-align: top;\n",
       "    }\n",
       "\n",
       "    .dataframe thead th {\n",
       "        text-align: right;\n",
       "    }\n",
       "</style>\n",
       "<table border=\"1\" class=\"dataframe\">\n",
       "  <thead>\n",
       "    <tr style=\"text-align: right;\">\n",
       "      <th></th>\n",
       "      <th>acpa</th>\n",
       "      <th>p_H1-10_12709-63</th>\n",
       "      <th>p_CFD_13678-169</th>\n",
       "      <th>p_S100A10_15318-75</th>\n",
       "      <th>p_HPX_15347-12</th>\n",
       "      <th>p_PGAM2_15524-30</th>\n",
       "      <th>p_CKMT1A_15542-19</th>\n",
       "      <th>p_CR2_15570-99</th>\n",
       "      <th>p_GSN_16607-78</th>\n",
       "      <th>p_BLVRB_17148-7</th>\n",
       "      <th>...</th>\n",
       "      <th>p_CPE_5343-74</th>\n",
       "      <th>p_KHDC1L_21804-15</th>\n",
       "      <th>p_PTHLH_2962-50</th>\n",
       "      <th>p_NCAM1_20161-41</th>\n",
       "      <th>p_IRF1_17462-19</th>\n",
       "      <th>p_LILRB2_5091-28</th>\n",
       "      <th>p_RAB37_23282-19</th>\n",
       "      <th>p_GPT2_21339-19</th>\n",
       "      <th>p_M1AP_23685-132</th>\n",
       "      <th>p_HAUS1_21306-7</th>\n",
       "    </tr>\n",
       "  </thead>\n",
       "  <tbody>\n",
       "    <tr>\n",
       "      <th>p_H1-10_12709-63</th>\n",
       "      <td>1</td>\n",
       "      <td>0</td>\n",
       "      <td>0</td>\n",
       "      <td>1</td>\n",
       "      <td>0</td>\n",
       "      <td>0</td>\n",
       "      <td>0</td>\n",
       "      <td>0</td>\n",
       "      <td>0</td>\n",
       "      <td>0</td>\n",
       "      <td>...</td>\n",
       "      <td>0</td>\n",
       "      <td>0</td>\n",
       "      <td>0</td>\n",
       "      <td>0</td>\n",
       "      <td>0</td>\n",
       "      <td>0</td>\n",
       "      <td>0</td>\n",
       "      <td>0</td>\n",
       "      <td>1</td>\n",
       "      <td>0</td>\n",
       "    </tr>\n",
       "    <tr>\n",
       "      <th>p_CFD_13678-169</th>\n",
       "      <td>1</td>\n",
       "      <td>0</td>\n",
       "      <td>0</td>\n",
       "      <td>0</td>\n",
       "      <td>0</td>\n",
       "      <td>0</td>\n",
       "      <td>0</td>\n",
       "      <td>0</td>\n",
       "      <td>0</td>\n",
       "      <td>0</td>\n",
       "      <td>...</td>\n",
       "      <td>0</td>\n",
       "      <td>0</td>\n",
       "      <td>0</td>\n",
       "      <td>0</td>\n",
       "      <td>0</td>\n",
       "      <td>0</td>\n",
       "      <td>0</td>\n",
       "      <td>0</td>\n",
       "      <td>0</td>\n",
       "      <td>0</td>\n",
       "    </tr>\n",
       "    <tr>\n",
       "      <th>p_S100A10_15318-75</th>\n",
       "      <td>1</td>\n",
       "      <td>1</td>\n",
       "      <td>0</td>\n",
       "      <td>0</td>\n",
       "      <td>0</td>\n",
       "      <td>0</td>\n",
       "      <td>0</td>\n",
       "      <td>0</td>\n",
       "      <td>0</td>\n",
       "      <td>0</td>\n",
       "      <td>...</td>\n",
       "      <td>0</td>\n",
       "      <td>0</td>\n",
       "      <td>0</td>\n",
       "      <td>0</td>\n",
       "      <td>0</td>\n",
       "      <td>0</td>\n",
       "      <td>0</td>\n",
       "      <td>0</td>\n",
       "      <td>0</td>\n",
       "      <td>0</td>\n",
       "    </tr>\n",
       "    <tr>\n",
       "      <th>p_HPX_15347-12</th>\n",
       "      <td>1</td>\n",
       "      <td>0</td>\n",
       "      <td>0</td>\n",
       "      <td>0</td>\n",
       "      <td>0</td>\n",
       "      <td>0</td>\n",
       "      <td>0</td>\n",
       "      <td>0</td>\n",
       "      <td>0</td>\n",
       "      <td>0</td>\n",
       "      <td>...</td>\n",
       "      <td>0</td>\n",
       "      <td>0</td>\n",
       "      <td>0</td>\n",
       "      <td>0</td>\n",
       "      <td>0</td>\n",
       "      <td>0</td>\n",
       "      <td>0</td>\n",
       "      <td>0</td>\n",
       "      <td>0</td>\n",
       "      <td>0</td>\n",
       "    </tr>\n",
       "  </tbody>\n",
       "</table>\n",
       "<p>4 rows × 7277 columns</p>\n",
       "</div>"
      ],
      "text/plain": [
       "                    acpa  p_H1-10_12709-63  p_CFD_13678-169  \\\n",
       "p_H1-10_12709-63       1                 0                0   \n",
       "p_CFD_13678-169        1                 0                0   \n",
       "p_S100A10_15318-75     1                 1                0   \n",
       "p_HPX_15347-12         1                 0                0   \n",
       "\n",
       "                    p_S100A10_15318-75  p_HPX_15347-12  p_PGAM2_15524-30  \\\n",
       "p_H1-10_12709-63                     1               0                 0   \n",
       "p_CFD_13678-169                      0               0                 0   \n",
       "p_S100A10_15318-75                   0               0                 0   \n",
       "p_HPX_15347-12                       0               0                 0   \n",
       "\n",
       "                    p_CKMT1A_15542-19  p_CR2_15570-99  p_GSN_16607-78  \\\n",
       "p_H1-10_12709-63                    0               0               0   \n",
       "p_CFD_13678-169                     0               0               0   \n",
       "p_S100A10_15318-75                  0               0               0   \n",
       "p_HPX_15347-12                      0               0               0   \n",
       "\n",
       "                    p_BLVRB_17148-7  ...  p_CPE_5343-74  p_KHDC1L_21804-15  \\\n",
       "p_H1-10_12709-63                  0  ...              0                  0   \n",
       "p_CFD_13678-169                   0  ...              0                  0   \n",
       "p_S100A10_15318-75                0  ...              0                  0   \n",
       "p_HPX_15347-12                    0  ...              0                  0   \n",
       "\n",
       "                    p_PTHLH_2962-50  p_NCAM1_20161-41  p_IRF1_17462-19  \\\n",
       "p_H1-10_12709-63                  0                 0                0   \n",
       "p_CFD_13678-169                   0                 0                0   \n",
       "p_S100A10_15318-75                0                 0                0   \n",
       "p_HPX_15347-12                    0                 0                0   \n",
       "\n",
       "                    p_LILRB2_5091-28  p_RAB37_23282-19  p_GPT2_21339-19  \\\n",
       "p_H1-10_12709-63                   0                 0                0   \n",
       "p_CFD_13678-169                    0                 0                0   \n",
       "p_S100A10_15318-75                 0                 0                0   \n",
       "p_HPX_15347-12                     0                 0                0   \n",
       "\n",
       "                    p_M1AP_23685-132  p_HAUS1_21306-7  \n",
       "p_H1-10_12709-63                   1                0  \n",
       "p_CFD_13678-169                    0                0  \n",
       "p_S100A10_15318-75                 0                0  \n",
       "p_HPX_15347-12                     0                0  \n",
       "\n",
       "[4 rows x 7277 columns]"
      ]
     },
     "execution_count": 57,
     "metadata": {},
     "output_type": "execute_result"
    }
   ],
   "source": [
    "top_df[1:5]"
   ]
  },
  {
   "cell_type": "code",
   "execution_count": 81,
   "id": "designing-representative",
   "metadata": {},
   "outputs": [
    {
     "data": {
      "text/plain": [
       "0"
      ]
     },
     "execution_count": 81,
     "metadata": {},
     "output_type": "execute_result"
    }
   ],
   "source": [
    "# top_df[\"p_HPX_15347-12\"][\"p_H1-10_12709-63\"]\n",
    "top_df[\"p_H1-10_12709-63\"][\"p_HPX_15347-12\"]"
   ]
  },
  {
   "cell_type": "code",
   "execution_count": 72,
   "id": "herbal-australia",
   "metadata": {},
   "outputs": [
    {
     "data": {
      "text/plain": [
       "0.0"
      ]
     },
     "execution_count": 72,
     "metadata": {},
     "output_type": "execute_result"
    }
   ],
   "source": [
    "top2_df[\"p_HPX_15347_12\"][\"p_H1_10_12709_63\"]\n",
    "top2_df[\"p_H1_10_12709_63\"][\"p_HPX_15347_12\"]"
   ]
  },
  {
   "cell_type": "code",
   "execution_count": 47,
   "id": "optimum-jumping",
   "metadata": {
    "scrolled": true
   },
   "outputs": [
    {
     "data": {
      "text/plain": [
       "-8.99468814578005e-06"
      ]
     },
     "execution_count": 47,
     "metadata": {},
     "output_type": "execute_result"
    }
   ],
   "source": [
    "data_df[\"p_H1-10_12709-63\"][\"acpa\"]"
   ]
  },
  {
   "cell_type": "code",
   "execution_count": 49,
   "id": "straight-prison",
   "metadata": {},
   "outputs": [
    {
     "data": {
      "text/plain": [
       "-8.99468814578005e-06"
      ]
     },
     "execution_count": 49,
     "metadata": {},
     "output_type": "execute_result"
    }
   ],
   "source": [
    "top_df[\"p_H1-10_12709-63\"][\"acpa\"]"
   ]
  },
  {
   "cell_type": "code",
   "execution_count": 50,
   "id": "temporal-apparatus",
   "metadata": {},
   "outputs": [
    {
     "data": {
      "text/plain": [
       "0.0"
      ]
     },
     "execution_count": 50,
     "metadata": {},
     "output_type": "execute_result"
    }
   ],
   "source": [
    "data_df[\"acpa\"][\"p_H1-10_12709-63\"]"
   ]
  },
  {
   "cell_type": "code",
   "execution_count": 51,
   "id": "variable-county",
   "metadata": {},
   "outputs": [
    {
     "data": {
      "text/plain": [
       "0.0"
      ]
     },
     "execution_count": 51,
     "metadata": {},
     "output_type": "execute_result"
    }
   ],
   "source": [
    "top_df[\"acpa\"][\"p_H1-10_12709-63\"]"
   ]
  },
  {
   "cell_type": "code",
   "execution_count": 48,
   "id": "mobile-cooper",
   "metadata": {},
   "outputs": [
    {
     "data": {
      "text/plain": [
       "0.0190160949105862"
      ]
     },
     "execution_count": 48,
     "metadata": {},
     "output_type": "execute_result"
    }
   ],
   "source": [
    "top_df[\"p_H1-10_12709-63\"][\"p_S100A10_15318-75\"]"
   ]
  },
  {
   "cell_type": "code",
   "execution_count": 31,
   "id": "floppy-allah",
   "metadata": {},
   "outputs": [
    {
     "data": {
      "text/plain": [
       "9.80780894639428e-06"
      ]
     },
     "execution_count": 31,
     "metadata": {},
     "output_type": "execute_result"
    }
   ],
   "source": [
    "data_df[\"p_CFD_13678-169\"][\"age\"]"
   ]
  },
  {
   "cell_type": "code",
   "execution_count": 33,
   "id": "written-words",
   "metadata": {},
   "outputs": [
    {
     "data": {
      "text/plain": [
       "0.0005669481744132"
      ]
     },
     "execution_count": 33,
     "metadata": {},
     "output_type": "execute_result"
    }
   ],
   "source": [
    "data_df[\"age\"][\"sex\"]"
   ]
  },
  {
   "cell_type": "code",
   "execution_count": 34,
   "id": "instrumental-garage",
   "metadata": {},
   "outputs": [
    {
     "data": {
      "text/plain": [
       "0.532728383913631"
      ]
     },
     "execution_count": 34,
     "metadata": {},
     "output_type": "execute_result"
    }
   ],
   "source": [
    "data_df[\"sex\"][\"age\"]"
   ]
  },
  {
   "cell_type": "code",
   "execution_count": null,
   "id": "protective-newman",
   "metadata": {},
   "outputs": [],
   "source": []
  }
 ],
 "metadata": {
  "kernelspec": {
   "display_name": "Python 3",
   "language": "python",
   "name": "python3"
  },
  "language_info": {
   "codemirror_mode": {
    "name": "ipython",
    "version": 3
   },
   "file_extension": ".py",
   "mimetype": "text/x-python",
   "name": "python",
   "nbconvert_exporter": "python",
   "pygments_lexer": "ipython3",
   "version": "3.9.1"
  }
 },
 "nbformat": 4,
 "nbformat_minor": 5
}
