{
 "cells": [
  {
   "cell_type": "code",
   "execution_count": 20,
   "id": "likely-anthony",
   "metadata": {},
   "outputs": [
    {
     "data": {
      "text/html": [
       "<table class=\"dataframe\">\n",
       "<caption>A data.frame: 3 × 2</caption>\n",
       "<thead>\n",
       "\t<tr><th></th><th scope=col>col_a</th><th scope=col>col_b</th></tr>\n",
       "\t<tr><th></th><th scope=col>&lt;dbl&gt;</th><th scope=col>&lt;dbl&gt;</th></tr>\n",
       "</thead>\n",
       "<tbody>\n",
       "\t<tr><th scope=row>a</th><td>1</td><td>2</td></tr>\n",
       "\t<tr><th scope=row>b</th><td>1</td><td>2</td></tr>\n",
       "\t<tr><th scope=row>c</th><td>1</td><td>2</td></tr>\n",
       "</tbody>\n",
       "</table>\n"
      ],
      "text/latex": [
       "A data.frame: 3 × 2\n",
       "\\begin{tabular}{r|ll}\n",
       "  & col\\_a & col\\_b\\\\\n",
       "  & <dbl> & <dbl>\\\\\n",
       "\\hline\n",
       "\ta & 1 & 2\\\\\n",
       "\tb & 1 & 2\\\\\n",
       "\tc & 1 & 2\\\\\n",
       "\\end{tabular}\n"
      ],
      "text/markdown": [
       "\n",
       "A data.frame: 3 × 2\n",
       "\n",
       "| <!--/--> | col_a &lt;dbl&gt; | col_b &lt;dbl&gt; |\n",
       "|---|---|---|\n",
       "| a | 1 | 2 |\n",
       "| b | 1 | 2 |\n",
       "| c | 1 | 2 |\n",
       "\n"
      ],
      "text/plain": [
       "  col_a col_b\n",
       "a 1     2    \n",
       "b 1     2    \n",
       "c 1     2    "
      ]
     },
     "metadata": {},
     "output_type": "display_data"
    }
   ],
   "source": [
    "output_df = data.frame(matrix(ncol= 2, nrow=3))\n",
    "colnames(output_df) <- c('col_a','col_b')\n",
    "rownames(output_df) <- c('a','b','c')\n",
    "output_df[1,1] = 1\n",
    "output_df[1,2] = 2\n",
    "output_df[2,1] = 1\n",
    "output_df[2,2] = 2\n",
    "output_df[3,1] = 1\n",
    "output_df[3,2] = 2\n",
    "output_df\n",
    "\n",
    "write.table(output_df, '/Users/m221138/test/tabletest.tsv', sep=\"\\t\", row.names=TRUE, col.names=TRUE, quote=FALSE)\n"
   ]
  },
  {
   "cell_type": "code",
   "execution_count": null,
   "id": "developed-chassis",
   "metadata": {},
   "outputs": [],
   "source": []
  }
 ],
 "metadata": {
  "kernelspec": {
   "display_name": "R",
   "language": "R",
   "name": "ir"
  },
  "language_info": {
   "codemirror_mode": "r",
   "file_extension": ".r",
   "mimetype": "text/x-r-source",
   "name": "R",
   "pygments_lexer": "r",
   "version": "4.0.3"
  }
 },
 "nbformat": 4,
 "nbformat_minor": 5
}
