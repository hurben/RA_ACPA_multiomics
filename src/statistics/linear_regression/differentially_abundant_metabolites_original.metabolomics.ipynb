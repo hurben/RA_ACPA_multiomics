{
 "cells": [
  {
   "cell_type": "code",
   "execution_count": 1,
   "metadata": {
    "vscode": {
     "languageId": "r"
    }
   },
   "outputs": [
    {
     "name": "stderr",
     "output_type": "stream",
     "text": [
      "Loading required package: Matrix\n",
      "\n",
      "\n",
      "Attaching package: ‘lmerTest’\n",
      "\n",
      "\n",
      "The following object is masked from ‘package:lme4’:\n",
      "\n",
      "    lmer\n",
      "\n",
      "\n",
      "The following object is masked from ‘package:stats’:\n",
      "\n",
      "    step\n",
      "\n",
      "\n",
      "Loading required package: carData\n",
      "\n",
      "lattice theme set by effectsTheme()\n",
      "See ?effectsTheme for details.\n",
      "\n",
      "\n",
      "Attaching package: ‘dplyr’\n",
      "\n",
      "\n",
      "The following objects are masked from ‘package:stats’:\n",
      "\n",
      "    filter, lag\n",
      "\n",
      "\n",
      "The following objects are masked from ‘package:base’:\n",
      "\n",
      "    intersect, setdiff, setequal, union\n",
      "\n",
      "\n"
     ]
    }
   ],
   "source": [
    "# Load required libraries\n",
    "library(\"effsize\")     # For effect size calculations like Cohen's D\n",
    "library(lme4)          # For linear mixed models (not used here)\n",
    "library(lmerTest)      # Adds p-values to lme4 models (not used here)\n",
    "library(stringr)       # String operations (not used here)\n",
    "library(effects)       # For model effect visualization (not used here)\n",
    "library(dplyr)         # Data manipulation"
   ]
  },
  {
   "cell_type": "code",
   "execution_count": 2,
   "metadata": {
    "vscode": {
     "languageId": "r"
    }
   },
   "outputs": [],
   "source": [
    "# Function to run linear regression models and collect results\n",
    "run_linear_model <- function(data_df, output_dir, output_suffix){\n",
    "\n",
    "    p_thresh <- 0.05  # Not directly used, but can guide threshold decisions\n",
    "    results <- data.frame()  # Initialize results container\n",
    "\n",
    "    for (i in 37:ncol(data_df)) {  # Loop through feature columns starting from 37\n",
    "        feature_name <- colnames(data_df)[i]\n",
    "        y <- data_df[[feature_name]]\n",
    "\n",
    "        # Separate feature values for ACPA-positive (1) and ACPA-negative (0) groups\n",
    "        condition_a_list <- data_df[data_df$acpa == 1, i]\n",
    "        condition_b_list <- data_df[data_df$acpa == 0, i]\n",
    "        \n",
    "        # Compute Cohen's D and log2 fold-change between groups\n",
    "        cohend <- cohen.d(condition_a_list, condition_b_list)\n",
    "        cohend_value <- cohend$estimate\n",
    "        log2fc <- log2(mean(condition_a_list, na.rm = TRUE) / mean(condition_b_list, na.rm = TRUE))\n",
    "\n",
    "        # Run marginal model (no covariates)\n",
    "        marginal_model <- lm(y ~ acpa, data = data_df)\n",
    "        marginal_summary <- summary(marginal_model)\n",
    "        raw_coef <- coef(marginal_summary)[\"acpa\", \"Estimate\"]\n",
    "        raw_pval <- coef(marginal_summary)[\"acpa\", \"Pr(>|t|)\"]\n",
    "\n",
    "        # Use different covariates depending on comparison\n",
    "        if (output_suffix == \"negVSpos\"){\n",
    "            formula_str <- \"y ~ acpa + sex + age + bmi + smoking + pred + bdmard + all_csdmard + das28crp\"\n",
    "        }else{\n",
    "            formula_str <- \"y ~ acpa + sex + age + bmi + smoking + pred + bdmard + all_csdmard\"\n",
    "        }\n",
    "\n",
    "        # Run adjusted model with covariates\n",
    "        final_model <- lm(as.formula(formula_str), data = data_df)\n",
    "        final_summary <- summary(final_model)\n",
    "        adj_coef <- coef(final_summary)[\"acpa\", \"Estimate\"]\n",
    "        adj_pval <- coef(final_summary)[\"acpa\", \"Pr(>|t|)\"]\n",
    "\n",
    "        # Store results for this feature\n",
    "        results <- rbind(results, data.frame(\n",
    "            feature = feature_name,\n",
    "            cohen_d = cohend_value,\n",
    "            log2fc = log2fc,\n",
    "            raw_coef = raw_coef,\n",
    "            raw_pval = raw_pval,\n",
    "            adj_coef = adj_coef,\n",
    "            adj_pval = adj_pval,\n",
    "            stringsAsFactors = FALSE\n",
    "        ))\n",
    "    }\n",
    "\n",
    "    # FDR-adjust the p-values for multiple testing\n",
    "    results$adj_pval_fdr <- p.adjust(results$adj_pval, method = \"fdr\")\n",
    "    cat(output_suffix, \"Number of p-values under 0.01:\", sum(results$adj_pval < 0.01), \"\\n\")\n",
    "\n",
    "    # Save results as TSV\n",
    "    output_file <- paste0(output_dir, \"/linear_regression.\", output_suffix, \".metabolomics.tsv\")\n",
    "    write.table(results, file = output_file, sep = \"\\t\", row.names = FALSE, quote = FALSE)\n",
    "}"
   ]
  },
  {
   "cell_type": "code",
   "execution_count": null,
   "metadata": {
    "vscode": {
     "languageId": "r"
    }
   },
   "outputs": [],
   "source": [
    "# Main function to define group comparisons and run model\n",
    "main <- function(input_data_df, output_dir){\n",
    "\n",
    "    # Prepare control vs ACPA-negative comparison\n",
    "    control_vs_acpa_neg <- filter(input_data_df, acpa == 0 | acpa == 2)\n",
    "    control_vs_acpa_neg$acpa[control_vs_acpa_neg$acpa == 2] <- 1  # Recode ACPA-neg as 1\n",
    "\n",
    "    # Prepare control vs ACPA-positive comparison\n",
    "    control_vs_acpa_pos <- filter(input_data_df, acpa == 0 | acpa == 1)\n",
    "\n",
    "    # Prepare ACPA-negative vs ACPA-positive comparison\n",
    "    acpa_neg_vs_acpa_pos <- filter(input_data_df, acpa == 1 | acpa == 2)\n",
    "    acpa_neg_vs_acpa_pos$acpa[acpa_neg_vs_acpa_pos$acpa == 1] <- 0  # Recode ACPA-pos as 0\n",
    "    acpa_neg_vs_acpa_pos$acpa[acpa_neg_vs_acpa_pos$acpa == 2] <- 1  # Recode ACPA-neg as 1\n",
    "\n",
    "    # Label mapping for clarity:\n",
    "    # - acpa_neg_vs_acpa_pos: 0 = pos, 1 = neg\n",
    "    # - control_vs_acpa_pos: 0 = control, 1 = pos\n",
    "    # - control_vs_acpa_neg: 0 = control, 1 = neg\n",
    "\n",
    "    # Run models for each group comparison\n",
    "    run_linear_model(control_vs_acpa_neg, output_dir, \"cVSneg\")\n",
    "    run_linear_model(control_vs_acpa_pos, output_dir, \"cVSpos\")\n",
    "    # run_linear_model(acpa_neg_vs_acpa_pos, output_dir, \"negVSpos\")\n",
    "}\n"
   ]
  },
  {
   "cell_type": "code",
   "execution_count": 4,
   "metadata": {
    "vscode": {
     "languageId": "r"
    }
   },
   "outputs": [
    {
     "name": "stdout",
     "output_type": "stream",
     "text": [
      "cVSneg Number of p-values under 0.01: 38 \n",
      "cVSpos Number of p-values under 0.01: 7 \n",
      "negVSpos Number of p-values under 0.01: 8 \n"
     ]
    }
   ],
   "source": [
    "# Load input data (metabolomics)\n",
    "df <- read.csv(\"../../../preprocessed_data/metabolomics/metabolites.patient_info.tsv\", header = TRUE, sep = \"\\t\", check.names = FALSE)\n",
    "input_data_df <- df\n",
    "output_dir <- \"../../../analysis/statistics/linear_regression/metabolomics\"\n",
    "\n",
    "# Run analysis pipeline\n",
    "main(input_data_df = input_data_df, output_dir = output_dir)"
   ]
  },
  {
   "cell_type": "code",
   "execution_count": null,
   "metadata": {
    "vscode": {
     "languageId": "r"
    }
   },
   "outputs": [],
   "source": []
  },
  {
   "cell_type": "code",
   "execution_count": null,
   "metadata": {
    "vscode": {
     "languageId": "r"
    }
   },
   "outputs": [],
   "source": []
  }
 ],
 "metadata": {
  "kernelspec": {
   "display_name": "R",
   "language": "R",
   "name": "ir"
  },
  "language_info": {
   "codemirror_mode": "r",
   "file_extension": ".r",
   "mimetype": "text/x-r-source",
   "name": "R",
   "pygments_lexer": "r",
   "version": "4.4.2"
  }
 },
 "nbformat": 4,
 "nbformat_minor": 2
}
