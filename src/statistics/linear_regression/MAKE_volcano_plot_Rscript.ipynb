{
 "cells": [
  {
   "cell_type": "code",
   "execution_count": 7,
   "id": "south-walker",
   "metadata": {
    "vscode": {
     "languageId": "r"
    }
   },
   "outputs": [],
   "source": [
    "# MAKE_volcano_plot_Rscript\n",
    "# This script generates volcano plots from linear regression results\n",
    "\n",
    "library(ggplot2)    # For plotting\n",
    "library(ggrepel)    # For non-overlapping text labels"
   ]
  },
  {
   "cell_type": "code",
   "execution_count": 38,
   "id": "threatened-german",
   "metadata": {
    "vscode": {
     "languageId": "r"
    }
   },
   "outputs": [
    {
     "name": "stdout",
     "output_type": "stream",
     "text": [
      "[1] \"../../../analysis/statistics/linear_regression/metabolomics/linear_regression.cVSpos.metabolomics.tsv\"\n",
      "[1] 1061    2\n",
      "[1] \"---------------\"\n",
      "[1] \"metabolomics: cVSpos\"\n",
      "[1] \"up: 2\"\n",
      "[1] \"down: 4\"\n",
      "[1] \"---------------\"\n",
      "[1] \"../../../analysis/statistics/linear_regression/metabolomics/linear_regression.cVSneg.metabolomics.tsv\"\n",
      "[1] 1061    2\n",
      "[1] \"---------------\"\n",
      "[1] \"metabolomics: cVSneg\"\n",
      "[1] \"up: 5\"\n",
      "[1] \"down: 19\"\n",
      "[1] \"---------------\"\n"
     ]
    },
    {
     "name": "stderr",
     "output_type": "stream",
     "text": [
      "Warning message:\n",
      "“ggrepel: 7 unlabeled data points (too many overlaps). Consider increasing max.overlaps”\n"
     ]
    },
    {
     "name": "stdout",
     "output_type": "stream",
     "text": [
      "[1] \"../../../analysis/statistics/linear_regression/proteomics/linear_regression.cVSpos.proteomics.tsv\"\n",
      "[1] 7273    2\n",
      "[1] \"---------------\"\n",
      "[1] \"proteomics: cVSpos\"\n",
      "[1] \"up: 15\"\n",
      "[1] \"down: 3\"\n",
      "[1] \"---------------\"\n",
      "[1] \"../../../analysis/statistics/linear_regression/proteomics/linear_regression.cVSneg.proteomics.tsv\"\n",
      "[1] 7273    2\n",
      "[1] \"---------------\"\n",
      "[1] \"proteomics: cVSneg\"\n",
      "[1] \"up: 24\"\n",
      "[1] \"down: 49\"\n",
      "[1] \"---------------\"\n"
     ]
    },
    {
     "name": "stderr",
     "output_type": "stream",
     "text": [
      "Warning message:\n",
      "“ggrepel: 1 unlabeled data points (too many overlaps). Consider increasing max.overlaps”\n",
      "Warning message:\n",
      "“ggrepel: 37 unlabeled data points (too many overlaps). Consider increasing max.overlaps”\n"
     ]
    }
   ],
   "source": [
    "# nolint start\n",
    "\n",
    "omics_list = c(\"metabolomics\",\"proteomics\")   # Omics types to process\n",
    "condition_list = c(\"cVSpos\",\"cVSneg\")         # Comparison conditions\n",
    "\n",
    "for (omics in omics_list){\n",
    "    cohend_threshold = 0.5  # Threshold for effect size (Cohen's D)\n",
    "\n",
    "    for (condition in condition_list){\n",
    "         \n",
    "        # Load linear regression result file\n",
    "        data_file = paste(\"../../../analysis/statistics/linear_regression/\", omics,  #\n",
    "                          \"/linear_regression.\", condition, \".\", omics, \".tsv\", sep=\"\")\n",
    "\n",
    "        print (data_file)\n",
    "        input_df = read.csv(data_file, sep=\"\\t\", header=TRUE, row.names=1)\n",
    "        \n",
    "        # Set x and y axes for the volcano plot\n",
    "        x_axis <- input_df$cohen_d\n",
    "        y_axis <- -log10(input_df$adj_pval)  # Convert p-values to –log10 scale\n",
    "\n",
    "        # Set axis labels and colors based on condition\n",
    "        if (condition == \"cVSpos\"){\n",
    "            xaxis_label <- \"Effect size (Cohen's D): ACPA+ RA vs. Control\"\n",
    "            numerator_color = \"#636363\"         # ACPA+ color\n",
    "            denominator_color = \"#78AF3F\"       # Control color\n",
    "        }\n",
    "        if (condition == \"cVSneg\"){\n",
    "            xaxis_label <- \"Effect size (Cohen's D): ACPA– RA vs. Control\"\n",
    "            numerator_color = \"#B57623\"         # ACPA– color\n",
    "            denominator_color = \"#78AF3F\"       # Control color\n",
    "        }\n",
    "        # print (input_df)\n",
    "        gene_list <- rownames(input_df)  # Feature names\n",
    "\n",
    "        df <- data.frame(\n",
    "            cohen_d = x_axis,\n",
    "            adj_pval = y_axis,\n",
    "            row.names = gene_list\n",
    "        )\n",
    "        print (dim(df))\n",
    "        df$genes <- gene_list  # add gene names as a column too (for ggplot)\n",
    "\n",
    "        # Set y-axis limits and p-value threshold line\n",
    "        ylim_bottum <- 0\n",
    "        ylim_top <- 6\n",
    "        # log2pval_threshold = 1.30103  # = -log10(0.05)\n",
    "        log2pval_threshold = 2.0  # = -log10(0.01)\n",
    "        \n",
    "        # Filter significant features (above p-value threshold)\n",
    "        sig_subset <- subset(df, adj_pval > log2pval_threshold)\n",
    "        \n",
    "        # Subset for up/down regulated features\n",
    "        sig_red_subset <- subset(sig_subset, cohen_d > cohend_threshold)\n",
    "        sig_blue_subset <- subset(sig_subset, cohen_d < -cohend_threshold)\n",
    "        \n",
    "        # Same subset for labeling\n",
    "        sig_red_text_subset <- sig_red_subset\n",
    "        sig_blue_text_subset <- sig_blue_subset\n",
    "\n",
    "        # Debug printout\n",
    "        print ('---------------')\n",
    "        print (paste(omics, \": \", condition, sep=\"\"))\n",
    "        print (paste(\"up: \", nrow(sig_red_subset), sep=\"\"))\n",
    "        print (paste(\"down: \", nrow(sig_blue_subset), sep=\"\"))\n",
    "        print ('---------------')\n",
    "              \n",
    "        # Set figure title and output path\n",
    "        figure_title = paste(omics,\": \", condition, sep=\"\")\n",
    "        output_pdf = paste(\"../../../analysis/statistics/linear_regression/volcano_plot/\", omics,\n",
    "                            \".\", condition, \".volcano.label.pdf\", sep=\"\")\n",
    "        \n",
    "        # Save volcano plot to PDF\n",
    "        pdf(output_pdf)\n",
    "        \n",
    "        # Draw volcano plot\n",
    "        plot_pdf <- ggplot(df, aes(x=cohen_d, y=adj_pval)) + \n",
    "            coord_cartesian(xlim=c(-1.2,1.2), ylim=c(ylim_bottum, ylim_top)) +\n",
    "            geom_point(colour=\"#DCDCDC\", size = 2.5, stroke = 0) +  # Background dots\n",
    "            geom_hline(yintercept = log2pval_threshold, colour=\"#BEBEBE\", linetype=\"dashed\") +\n",
    "            geom_vline(xintercept = c(cohend_threshold, -cohend_threshold), colour=\"#BEBEBE\", linetype=\"dashed\") +\n",
    "            geom_point(data = sig_red_subset, colour=numerator_color, size = 2.5, stroke = 0) +\n",
    "            geom_point(data = sig_blue_subset, colour=denominator_color, size = 2.5, stroke = 0) +\n",
    "            geom_text_repel(data = sig_red_text_subset, aes(cohen_d, adj_pval, label=genes),\n",
    "                            colour=numerator_color, size=2) +\n",
    "            geom_text_repel(data = sig_blue_text_subset, aes(cohen_d, adj_pval, label=genes),\n",
    "                            colour=denominator_color, size=2) +\n",
    "            ylab(\"-log10 (P-value)\") + xlab(xaxis_label) +  \n",
    "            ggtitle(figure_title) +\n",
    "            theme_bw() +\n",
    "            theme(axis.line = element_line(colour = \"black\"),\n",
    "                  panel.grid.major = element_blank(),\n",
    "                  panel.grid.minor = element_blank(),\n",
    "                  panel.border = element_blank(),\n",
    "                  panel.background = element_blank())\n",
    "\n",
    "        print (plot_pdf)\n",
    "        dev.off()\n",
    "    }\n",
    "}\n"
   ]
  },
  {
   "cell_type": "code",
   "execution_count": null,
   "id": "b4b91d91",
   "metadata": {
    "vscode": {
     "languageId": "r"
    }
   },
   "outputs": [],
   "source": []
  }
 ],
 "metadata": {
  "kernelspec": {
   "display_name": "R",
   "language": "R",
   "name": "ir"
  },
  "language_info": {
   "codemirror_mode": "r",
   "file_extension": ".r",
   "mimetype": "text/x-r-source",
   "name": "R",
   "pygments_lexer": "r",
   "version": "4.4.2"
  }
 },
 "nbformat": 4,
 "nbformat_minor": 5
}
