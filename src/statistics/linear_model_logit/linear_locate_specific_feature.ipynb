{
 "cells": [
  {
   "cell_type": "code",
   "execution_count": 1,
   "id": "checked-hammer",
   "metadata": {},
   "outputs": [
    {
     "name": "stderr",
     "output_type": "stream",
     "text": [
      "Warning message:\n",
      "“package ‘effsize’ was built under R version 4.2.3”\n",
      "Warning message:\n",
      "“package ‘lme4’ was built under R version 4.2.3”\n",
      "Loading required package: Matrix\n",
      "\n",
      "Warning message:\n",
      "“package ‘Matrix’ was built under R version 4.2.3”\n",
      "Warning message:\n",
      "“package ‘lmerTest’ was built under R version 4.2.3”\n",
      "\n",
      "Attaching package: ‘lmerTest’\n",
      "\n",
      "\n",
      "The following object is masked from ‘package:lme4’:\n",
      "\n",
      "    lmer\n",
      "\n",
      "\n",
      "The following object is masked from ‘package:stats’:\n",
      "\n",
      "    step\n",
      "\n",
      "\n",
      "Warning message:\n",
      "“package ‘stringr’ was built under R version 4.2.3”\n",
      "Warning message:\n",
      "“package ‘effects’ was built under R version 4.2.3”\n",
      "Loading required package: carData\n",
      "\n",
      "Warning message:\n",
      "“package ‘carData’ was built under R version 4.2.3”\n",
      "lattice theme set by effectsTheme()\n",
      "See ?effectsTheme for details.\n",
      "\n",
      "Warning message:\n",
      "“package ‘dplyr’ was built under R version 4.2.3”\n",
      "\n",
      "Attaching package: ‘dplyr’\n",
      "\n",
      "\n",
      "The following objects are masked from ‘package:stats’:\n",
      "\n",
      "    filter, lag\n",
      "\n",
      "\n",
      "The following objects are masked from ‘package:base’:\n",
      "\n",
      "    intersect, setdiff, setequal, union\n",
      "\n",
      "\n"
     ]
    }
   ],
   "source": [
    "#01_DifferentialAbundance_and_cohens_D_adjust_effect\n",
    "#Derivated from: 01_DifferentialAbundance_and_cohens_D\n",
    "#\n",
    "#\n",
    "#Purpose: Use logistic regression to identify disease-associated features (for each omics)\n",
    "#[1] Perform logistic regression models while adjusting for sex, age, BMI, smoking history, prednisone use, and use of bDMARDs and csDMARDs.\n",
    "#ex) sample_phenotype ~ feature_abundance + sex + age + BMI + smoking_history + prednisone + bDMARDs + csDMARDS\n",
    "#[2] features Cohend's D above medium (i.e., 0.5)\n",
    "#[3] adjust confounding effects if they are significant in marginal model.\n",
    "#features that fulfills [1] + [2] will considered as differentially abundant.\n",
    "\n",
    "library(\"effsize\")\n",
    "library(lme4)\n",
    "library(lmerTest)\n",
    "library(stringr)\n",
    "library(effects)\n",
    "library(dplyr)\n"
   ]
  },
  {
   "cell_type": "code",
   "execution_count": 4,
   "id": "focused-robertson",
   "metadata": {},
   "outputs": [
    {
     "name": "stdout",
     "output_type": "stream",
     "text": [
      "[1] \"Dir already exists!\"\n"
     ]
    }
   ],
   "source": [
    "#Main\n",
    "output_dir = '../../../analysis/statistics/linear_model/differential_abundance_logit/'\n",
    "\n",
    "#make directory if it does not exist\n",
    "if (!dir.exists(output_dir)){\n",
    "dir.create(output_dir)\n",
    "} else {\n",
    "    print(\"Dir already exists!\")\n",
    "}\n",
    "\n",
    "metabolomics_data_file = '../../../preprocessed_data/metabolomics/metabolone_raw_norm_preprocessed.v2.tsv'\n",
    "proteomics_data_file = '../../../preprocessed_data/proteomics/somascan_anml.T.v2.tsv'\n",
    "patient_info_file = '../../../preprocessed_data/meta/patient_info_for_statistics.v3.T.tsv'"
   ]
  },
  {
   "cell_type": "code",
   "execution_count": 27,
   "id": "a276edeb-2ce0-46c5-bd18-72ee9ecf2dec",
   "metadata": {
    "scrolled": true
   },
   "outputs": [
    {
     "name": "stdout",
     "output_type": "stream",
     "text": [
      "       acpa \n",
      "0.006908648 \n",
      "       acpa \n",
      "0.007303031 \n",
      "     acpa \n",
      "0.8146624 \n",
      "      acpa \n",
      "0.02984238 \n",
      "    acpa \n",
      "0.514215 \n"
     ]
    }
   ],
   "source": [
    "#Bilirubin Z,Z\n",
    "input_data_df <- read.csv(metabolomics_data_file, sep=\"\\t\", header=TRUE, row.names=1)\n",
    "# input_data_df <- read.csv(proteomics_data_file, sep=\"\\t\", header=TRUE, row.names=1)\n",
    "patient_info_df <- read.csv(patient_info_file, sep=\"\\t\", header=TRUE, row.names=1)\n",
    "\n",
    "merged_data_df <- rbind(patient_info_df[1:nrow(patient_info_df),], input_data_df) #acpa    \n",
    "merged_data_df <- as.data.frame(t(merged_data_df))\n",
    "\n",
    "#note: acpa-neg: 2, acpa-pos: 1, control: 0\n",
    "control_vs_acpa_neg <- filter(merged_data_df, acpa == 0 | acpa == 2)\n",
    "control_vs_acpa_neg$acpa[control_vs_acpa_neg$acpa == 2] <- 1   #changing class 2 -> 1; making 0 vs 1\n",
    "\n",
    "#All disease activity.\n",
    "# formula_string <- \"acpa ~ `bilirubin (Z,Z)` + sex + age + bmi + smoking + pred + bdmard + all_csdmard\"\n",
    "formula_string <- \"`carnitine` ~ acpa + sex + age + bmi + smoking + pred + bdmard + all_csdmard\"\n",
    "# formula_string <- \"acpa ~ `BLVRB_17148-7` + sex + age + bmi + smoking + pred + bdmard + all_csdmard\"\n",
    "\n",
    "glm_results <- glm(as.formula(formula_string), data = control_vs_acpa_neg)\n",
    "print ((coef(summary(glm_results))[,4][2]))\n",
    "\n",
    "#>5.2 disease activity.\n",
    "tmp_control_vs_acpa_neg <- filter(control_vs_acpa_neg, (acpa == 1 & das28crp > 5.1)| acpa == 0)\n",
    "glm_results <- glm(as.formula(formula_string), data = tmp_control_vs_acpa_neg)\n",
    "print ((coef(summary(glm_results))[,4][2]))\n",
    "\n",
    "#>5.1 < 3.2 disease activity.\n",
    "tmp_control_vs_acpa_neg <- filter(control_vs_acpa_neg, (acpa == 1 & das28crp > 3.2 & das28crp < 5.1)  | acpa == 0)\n",
    "glm_results <- glm(as.formula(formula_string), data = tmp_control_vs_acpa_neg)\n",
    "print ((coef(summary(glm_results))[,4][2]))\n",
    "\n",
    "#> 3.2 disease activity.\n",
    "tmp_control_vs_acpa_neg <- filter(control_vs_acpa_neg, (acpa == 1 & das28crp > 3.2)  | acpa == 0)\n",
    "glm_results <- glm(as.formula(formula_string), data = tmp_control_vs_acpa_neg)\n",
    "print ((coef(summary(glm_results))[,4][2]))\n",
    "\n",
    "#< 3.2 disease activity.\n",
    "tmp_control_vs_acpa_neg <- filter(control_vs_acpa_neg, (acpa == 1 &  das28crp < 3.2)  | acpa == 0)\n",
    "glm_results <- glm(as.formula(formula_string), data = tmp_control_vs_acpa_neg)\n",
    "print ((coef(summary(glm_results))[,4][2]))"
   ]
  },
  {
   "cell_type": "code",
   "execution_count": 28,
   "id": "e3531566-7404-4ad7-8163-3a876a1b2328",
   "metadata": {},
   "outputs": [
    {
     "name": "stdout",
     "output_type": "stream",
     "text": [
      "     acpa \n",
      "0.3049276 \n",
      "     acpa \n",
      "0.5596848 \n",
      "     acpa \n",
      "0.5146207 \n",
      "     acpa \n",
      "0.4380508 \n",
      "     acpa \n",
      "0.8310324 \n"
     ]
    }
   ],
   "source": [
    "#control vs acpa pos\n",
    "control_vs_acpa_pos <- filter(merged_data_df, acpa == 0 | acpa == 1)\n",
    "\n",
    "#All disease activity.\n",
    "glm_results <- glm(as.formula(formula_string), data = control_vs_acpa_pos)\n",
    "print ((coef(summary(glm_results))[,4][2]))\n",
    "\n",
    "#>5.2 disease activity.\n",
    "tmp_control_vs_acpa_pos <- filter(control_vs_acpa_pos, (acpa == 1 & das28crp > 5.1)| acpa == 0)\n",
    "glm_results <- glm(as.formula(formula_string), data = tmp_control_vs_acpa_pos)\n",
    "print ((coef(summary(glm_results))[,4][2]))\n",
    "\n",
    "#>5.1 < 3.2 disease activity.\n",
    "tmp_control_vs_acpa_pos <- filter(control_vs_acpa_pos, (acpa == 1 & das28crp > 3.2 & das28crp < 5.1)  | acpa == 0)\n",
    "glm_results <- glm(as.formula(formula_string), data = tmp_control_vs_acpa_pos)\n",
    "print ((coef(summary(glm_results))[,4][2]))\n",
    "\n",
    "#< 3.2 disease activity.\n",
    "\n",
    "tmp_control_vs_acpa_pos <- filter(control_vs_acpa_pos, (acpa == 1 &  das28crp > 3.2)  | acpa == 0)\n",
    "glm_results <- glm(as.formula(formula_string), data = tmp_control_vs_acpa_pos)\n",
    "print ((coef(summary(glm_results))[,4][2]))\n",
    "\n",
    "#< 3.2 disease activity.\n",
    "tmp_control_vs_acpa_pos <- filter(control_vs_acpa_pos, (acpa == 1 &  das28crp < 3.2)  | acpa == 0)\n",
    "glm_results <- glm(as.formula(formula_string), data = tmp_control_vs_acpa_pos)\n",
    "print ((coef(summary(glm_results))[,4][2]))\n"
   ]
  },
  {
   "cell_type": "code",
   "execution_count": 29,
   "id": "b16f3dbc-40e6-4495-b9e9-bb229751a45b",
   "metadata": {},
   "outputs": [
    {
     "name": "stdout",
     "output_type": "stream",
     "text": [
      "     acpa \n",
      "0.3265701 \n",
      "     acpa \n",
      "0.8005021 \n",
      "      acpa \n",
      "0.02431009 \n",
      "      acpa \n",
      "0.04100682 \n",
      "     acpa \n",
      "0.7633891 \n"
     ]
    }
   ],
   "source": [
    "formula_string <- \"`bilirubin (Z,Z)` ~ acpa + pred + all_csdmard\"\n",
    "acpa_neg_vs_acpa_pos <- filter(merged_data_df, acpa == 1 | acpa == 2)\n",
    "acpa_neg_vs_acpa_pos$acpa[acpa_neg_vs_acpa_pos$acpa == 1] <- 0   #changing class 1 -> 0\n",
    "acpa_neg_vs_acpa_pos$acpa[acpa_neg_vs_acpa_pos$acpa == 2] <- 1   #changing class 2 -> 1\n",
    "\n",
    "#All disease activity.\n",
    "glm_results <- glm(as.formula(formula_string), data = acpa_neg_vs_acpa_pos)\n",
    "print ((coef(summary(glm_results))[,4][2]))\n",
    "\n",
    "#>5.2 disease activity.\n",
    "tmp_acpa_neg_vs_acpa_pos <- filter(acpa_neg_vs_acpa_pos, das28crp > 5.1)\n",
    "glm_results <- glm(as.formula(formula_string), data = tmp_acpa_neg_vs_acpa_pos)\n",
    "print ((coef(summary(glm_results))[,4][2]))\n",
    "\n",
    "#>5.1 < 3.2 disease activity.\n",
    "tmp_acpa_neg_vs_acpa_pos <- filter(acpa_neg_vs_acpa_pos, (das28crp > 3.2 & das28crp < 5.1))\n",
    "glm_results <- glm(as.formula(formula_string), data = tmp_acpa_neg_vs_acpa_pos)\n",
    "print ((coef(summary(glm_results))[,4][2]))\n",
    "\n",
    "\n",
    "#> 3.2 disease activity.\n",
    "tmp_acpa_neg_vs_acpa_pos <- filter(acpa_neg_vs_acpa_pos, das28crp > 3.2)\n",
    "glm_results <- glm(as.formula(formula_string), data = tmp_acpa_neg_vs_acpa_pos)\n",
    "print ((coef(summary(glm_results))[,4][2]))\n",
    "\n",
    "\n",
    "#< 3.2 disease activity.\n",
    "tmp_acpa_neg_vs_acpa_pos <- filter(acpa_neg_vs_acpa_pos, das28crp < 3.2)\n",
    "glm_results <- glm(as.formula(formula_string), data = tmp_acpa_neg_vs_acpa_pos)\n",
    "print ((coef(summary(glm_results))[,4][2]))\n",
    "\n"
   ]
  },
  {
   "cell_type": "code",
   "execution_count": null,
   "id": "36842ec7-b0c6-47a9-baf3-be8605a15271",
   "metadata": {},
   "outputs": [],
   "source": []
  },
  {
   "cell_type": "code",
   "execution_count": null,
   "id": "92d23f61-a1fd-4f67-a94e-d2cb98659a9b",
   "metadata": {},
   "outputs": [],
   "source": []
  }
 ],
 "metadata": {
  "kernelspec": {
   "display_name": "R",
   "language": "R",
   "name": "ir"
  },
  "language_info": {
   "codemirror_mode": "r",
   "file_extension": ".r",
   "mimetype": "text/x-r-source",
   "name": "R",
   "pygments_lexer": "r",
   "version": "4.2.2"
  }
 },
 "nbformat": 4,
 "nbformat_minor": 5
}
