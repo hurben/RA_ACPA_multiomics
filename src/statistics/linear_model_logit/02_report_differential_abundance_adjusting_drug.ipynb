{
 "cells": [
  {
   "cell_type": "code",
   "execution_count": 2,
   "id": "5824a5f8-cabe-4345-80e1-110d2050271a",
   "metadata": {},
   "outputs": [],
   "source": [
    "#02_report_differential_abundance_adjusting_drug.ipynb\n",
    "#\n",
    "#Purpose: Organize the output from 01_DifferentialAbundance_and_cohens_D_adjust_effect\n",
    "#\n",
    "\n",
    "import pandas as pd\n",
    "import seaborn as sns"
   ]
  },
  {
   "cell_type": "code",
   "execution_count": 3,
   "id": "5cee0240-4a2a-4201-b5a3-8bec8d8f7cba",
   "metadata": {},
   "outputs": [],
   "source": [
    "def main(data_dir, omics_type, p_threshold, data_dict):\n",
    "    condition_list = ['cVSneg','cVSpos','negVSpos']\n",
    "\n",
    "    cohend_threshold = 0.2\n",
    "    \n",
    "    for condition_type in condition_list:\n",
    "\n",
    "        print (\">>>>>>>> %s <<<<<<<<\" % condition_type)\n",
    "        data_file = \"%s/%s.%s.tsv\" % (data_dir, omics_type, condition_type)\n",
    "        data_df = pd.read_csv(data_file, sep=\"\\t\", index_col=0)\n",
    "        \n",
    "        mask = (data_df['pval'] < p_threshold) & (abs(data_df['cohenD']) > cohend_threshold)\n",
    "        subset_df = data_df[mask]\n",
    "        marginal_model_list = list(subset_df.index.values)\n",
    "\n",
    "        mask = (data_df['all_adj_pval'] < p_threshold) & (abs(data_df['cohenD']) > cohend_threshold)\n",
    "        subset_df = data_df[mask]\n",
    "        all_adj_model_cohenD_list = list(subset_df.index.values)\n",
    "\n",
    "        print (\"all adj pval < %s\" % p_threshold)\n",
    "        print (\"cohenD > %s:\" % (cohend_threshold), (subset_df['cohenD'] > cohend_threshold).sum())\n",
    "        print (\"cohenD < -%s:\" % (cohend_threshold), (subset_df['cohenD'] < -cohend_threshold).sum())\n",
    "        \n",
    "        # print(\"\\nMarginal P < %s: %s\" % (p_threshold, len(marginal_model_list)))\n",
    "        print(\"Adjusting ALL < %s: %s\" % (p_threshold, len(all_adj_model_cohenD_list)))\n",
    "\n",
    "        data_dict[omics_type, condition_type, \"marginal\", \"with_cohenD\", p_threshold] = len(marginal_model_list)\n",
    "        data_dict[omics_type, condition_type, \"adjust_all\", \"with_cohenD\", p_threshold] = len(all_adj_model_cohenD_list)\n",
    "\n",
    "    return data_dict\n"
   ]
  },
  {
   "cell_type": "code",
   "execution_count": 4,
   "id": "a4d8a011-7863-4f83-8d54-b0cc7fa10cd6",
   "metadata": {},
   "outputs": [
    {
     "name": "stdout",
     "output_type": "stream",
     "text": [
      ">>>>>>>> cVSneg <<<<<<<<\n",
      "all adj pval < 0.05\n",
      "cohenD > 0.2: 549\n",
      "cohenD < -0.2: 263\n",
      "Adjusting ALL < 0.05: 812\n",
      ">>>>>>>> cVSpos <<<<<<<<\n",
      "all adj pval < 0.05\n",
      "cohenD > 0.2: 149\n",
      "cohenD < -0.2: 73\n",
      "Adjusting ALL < 0.05: 222\n",
      ">>>>>>>> negVSpos <<<<<<<<\n",
      "all adj pval < 0.05\n",
      "cohenD > 0.2: 93\n",
      "cohenD < -0.2: 71\n",
      "Adjusting ALL < 0.05: 164\n"
     ]
    }
   ],
   "source": [
    "data_dir = '../../../analysis/statistics/linear_model/differential_abundance_logit'\n",
    "\n",
    "omics_list = ['metabolomics','autoantibody','proteomics']\n",
    "data_dict = {}\n",
    "\n",
    "data_dict = main(data_dir, 'proteomics', 0.05, data_dict)"
   ]
  },
  {
   "cell_type": "code",
   "execution_count": 5,
   "id": "85f96d0b-44d2-4c17-b272-1135e343edbc",
   "metadata": {},
   "outputs": [
    {
     "name": "stdout",
     "output_type": "stream",
     "text": [
      ">>>>>>>> cVSneg <<<<<<<<\n",
      "all adj pval < 0.05\n",
      "cohenD > 0.2: 26\n",
      "cohenD < -0.2: 57\n",
      "Adjusting ALL < 0.05: 83\n",
      ">>>>>>>> cVSpos <<<<<<<<\n",
      "all adj pval < 0.05\n",
      "cohenD > 0.2: 8\n",
      "cohenD < -0.2: 37\n",
      "Adjusting ALL < 0.05: 45\n",
      ">>>>>>>> negVSpos <<<<<<<<\n",
      "all adj pval < 0.05\n",
      "cohenD > 0.2: 11\n",
      "cohenD < -0.2: 42\n",
      "Adjusting ALL < 0.05: 53\n"
     ]
    }
   ],
   "source": [
    "data_dict = main(data_dir, 'metabolomics', 0.05, data_dict)"
   ]
  },
  {
   "cell_type": "code",
   "execution_count": null,
   "id": "4f3f40ef-d3fb-45ed-89d1-54061217f125",
   "metadata": {},
   "outputs": [],
   "source": []
  },
  {
   "cell_type": "code",
   "execution_count": null,
   "id": "e1cd5fb4-a12f-402a-bf09-fa5ba20543a4",
   "metadata": {},
   "outputs": [],
   "source": []
  },
  {
   "cell_type": "code",
   "execution_count": null,
   "id": "aaaeeb0f-a70e-4cc5-9955-53810033c9c2",
   "metadata": {},
   "outputs": [],
   "source": []
  }
 ],
 "metadata": {
  "kernelspec": {
   "display_name": "Python 3 (ipykernel)",
   "language": "python",
   "name": "python3"
  },
  "language_info": {
   "codemirror_mode": {
    "name": "ipython",
    "version": 3
   },
   "file_extension": ".py",
   "mimetype": "text/x-python",
   "name": "python",
   "nbconvert_exporter": "python",
   "pygments_lexer": "ipython3",
   "version": "3.12.4"
  }
 },
 "nbformat": 4,
 "nbformat_minor": 5
}
