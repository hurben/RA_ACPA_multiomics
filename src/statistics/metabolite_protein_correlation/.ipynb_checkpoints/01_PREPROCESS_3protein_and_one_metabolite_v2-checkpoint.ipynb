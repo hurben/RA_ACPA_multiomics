{
 "cells": [
  {
   "cell_type": "code",
   "execution_count": 19,
   "id": "artistic-arbor",
   "metadata": {},
   "outputs": [],
   "source": [
    "import pandas as pd\n",
    "#Readings: https://www.cell.com/cancer-cell/pdf/S1535-6108%2812%2900443-6.pdf\n",
    "\n",
    "#PGAM1 upstream of Pyruvate, \n",
    "\n",
    "metabolite = 'lactate'\n",
    "protein_list = ['PGAM1', 'STAT3', 'PGAM2']\n",
    "\n",
    "m_file = '../../../preprocessed_data/metabolomics/metabolone_raw_norm_preprocessed.v2.tsv'\n",
    "p_file = '../../../preprocessed_data/proteomics/somascan_anml.T.v2.tsv'\n",
    "patient_file = '../../../preprocessed_data/meta/patient_info.ML_ready.tsv'\n"
   ]
  },
  {
   "cell_type": "code",
   "execution_count": 20,
   "id": "turkish-worry",
   "metadata": {},
   "outputs": [],
   "source": [
    "m_df = pd.read_csv(m_file, sep=\"\\t\", index_col =0)\n",
    "m_sub_df = m_df.loc[\"lactate\"]\n",
    "m_sub_df = m_sub_df.T"
   ]
  },
  {
   "cell_type": "code",
   "execution_count": 21,
   "id": "sealed-jackson",
   "metadata": {},
   "outputs": [],
   "source": [
    "p_df = pd.read_csv(p_file, sep=\"\\t\", index_col =0)\n",
    "\n",
    "p_list = list(p_df.index.values)\n",
    "p_interest_list = []\n",
    "for protein_with_barcode in p_list:\n",
    "    protein_without_barcode = protein_with_barcode.split('_')[0]\n",
    "    if protein_without_barcode in protein_list:\n",
    "        p_interest_list.append(protein_with_barcode)\n",
    "        \n",
    "p_sub_df = p_df.loc[p_interest_list]\n",
    "p_sub_df = p_sub_df.T\n",
    "p_sub_df[\"lactate\"] = m_df.loc[\"lactate\"]"
   ]
  },
  {
   "cell_type": "code",
   "execution_count": 22,
   "id": "recorded-intermediate",
   "metadata": {},
   "outputs": [],
   "source": [
    "patient_df = pd.read_csv(patient_file, sep=\"\\t\", index_col =0)\n",
    "patient_df = patient_df.T"
   ]
  },
  {
   "cell_type": "code",
   "execution_count": 23,
   "id": "entertaining-anger",
   "metadata": {
    "scrolled": true
   },
   "outputs": [],
   "source": [
    "p_sub_df[\"acpa\"] = patient_df[\"acpa\"]\n",
    "# p_sub_df = p_sub_df.loc[p_sub_df['acpa'].isin([0,2])]\n"
   ]
  },
  {
   "cell_type": "code",
   "execution_count": 24,
   "id": "blond-buffalo",
   "metadata": {},
   "outputs": [],
   "source": [
    "p_sub_df.to_csv('../../../analysis/statistics/protein_metabolite_correlation/lactate_and_protein.tsv', sep=\"\\t\")"
   ]
  },
  {
   "cell_type": "code",
   "execution_count": null,
   "id": "plain-praise",
   "metadata": {},
   "outputs": [],
   "source": []
  },
  {
   "cell_type": "code",
   "execution_count": null,
   "id": "extraordinary-cannon",
   "metadata": {},
   "outputs": [],
   "source": []
  }
 ],
 "metadata": {
  "kernelspec": {
   "display_name": "Python 3",
   "language": "python",
   "name": "python3"
  },
  "language_info": {
   "codemirror_mode": {
    "name": "ipython",
    "version": 3
   },
   "file_extension": ".py",
   "mimetype": "text/x-python",
   "name": "python",
   "nbconvert_exporter": "python",
   "pygments_lexer": "ipython3",
   "version": "3.9.1"
  }
 },
 "nbformat": 4,
 "nbformat_minor": 5
}
