{
 "cells": [
  {
   "cell_type": "code",
   "execution_count": 3,
   "id": "south-walker",
   "metadata": {},
   "outputs": [],
   "source": [
    "#MAKE_volcano_plot_Rscript\n",
    "#\n",
    "#Designed to make volcano plot for every omics data (proteomics, metabolomics, autoantibody) \n",
    "#and every comparison (negVSpos, cVSpos, cVSneg, cVSra)\n",
    "#\n",
    "#Note: [1] P-value threshold for autoantibody : 0.05\n",
    "#      [2] P-value threshold for autoantibody : 0.01\n",
    "\n",
    "library(ggplot2)\n",
    "library(ggrepel)"
   ]
  },
  {
   "cell_type": "code",
   "execution_count": 4,
   "id": "threatened-german",
   "metadata": {},
   "outputs": [
    {
     "name": "stdout",
     "output_type": "stream",
     "text": [
      "[1] \"#####\"\n",
      "[1] \"metabolomics\"\n",
      "[1] \"cVSpos\"\n",
      "[1] \"up:8\"\n",
      "[1] \"down:37\"\n",
      "[1] \"#####\"\n"
     ]
    },
    {
     "name": "stderr",
     "output_type": "stream",
     "text": [
      "Warning message:\n",
      "“ggrepel: 27 unlabeled data points (too many overlaps). Consider increasing max.overlaps”\n"
     ]
    },
    {
     "name": "stdout",
     "output_type": "stream",
     "text": [
      "[1] \"#####\"\n",
      "[1] \"metabolomics\"\n",
      "[1] \"cVSneg\"\n",
      "[1] \"up:26\"\n",
      "[1] \"down:57\"\n",
      "[1] \"#####\"\n"
     ]
    },
    {
     "name": "stderr",
     "output_type": "stream",
     "text": [
      "Warning message:\n",
      "“ggrepel: 8 unlabeled data points (too many overlaps). Consider increasing max.overlaps”\n",
      "Warning message:\n",
      "“ggrepel: 31 unlabeled data points (too many overlaps). Consider increasing max.overlaps”\n",
      "Warning message in grid.Call.graphics(C_text, as.graphicsAnnot(x$label), x$x, x$y, :\n",
      "“for 'Effect size (Cohen's D): ACPA– RA vs. Control' in 'mbcsToSbcs': - substituted for – (U+2013)”\n"
     ]
    },
    {
     "name": "stdout",
     "output_type": "stream",
     "text": [
      "[1] \"#####\"\n",
      "[1] \"metabolomics\"\n",
      "[1] \"negVSpos\"\n",
      "[1] \"up:11\"\n",
      "[1] \"down:42\"\n",
      "[1] \"#####\"\n"
     ]
    },
    {
     "name": "stderr",
     "output_type": "stream",
     "text": [
      "Warning message:\n",
      "“ggrepel: 39 unlabeled data points (too many overlaps). Consider increasing max.overlaps”\n",
      "Warning message in grid.Call.graphics(C_text, as.graphicsAnnot(x$label), x$x, x$y, :\n",
      "“for 'Effect size (Cohen's D): ACPA+ RA vs. ACPA– RA' in 'mbcsToSbcs': - substituted for – (U+2013)”\n"
     ]
    },
    {
     "name": "stdout",
     "output_type": "stream",
     "text": [
      "[1] \"#####\"\n",
      "[1] \"proteomics\"\n",
      "[1] \"cVSpos\"\n",
      "[1] \"up:149\"\n",
      "[1] \"down:73\"\n",
      "[1] \"#####\"\n"
     ]
    },
    {
     "name": "stderr",
     "output_type": "stream",
     "text": [
      "Warning message:\n",
      "“ggrepel: 138 unlabeled data points (too many overlaps). Consider increasing max.overlaps”\n",
      "Warning message:\n",
      "“ggrepel: 58 unlabeled data points (too many overlaps). Consider increasing max.overlaps”\n"
     ]
    },
    {
     "name": "stdout",
     "output_type": "stream",
     "text": [
      "[1] \"#####\"\n",
      "[1] \"proteomics\"\n",
      "[1] \"cVSneg\"\n",
      "[1] \"up:549\"\n",
      "[1] \"down:263\"\n",
      "[1] \"#####\"\n"
     ]
    },
    {
     "name": "stderr",
     "output_type": "stream",
     "text": [
      "Warning message:\n",
      "“ggrepel: 544 unlabeled data points (too many overlaps). Consider increasing max.overlaps”\n",
      "Warning message:\n",
      "“ggrepel: 252 unlabeled data points (too many overlaps). Consider increasing max.overlaps”\n",
      "Warning message in grid.Call.graphics(C_text, as.graphicsAnnot(x$label), x$x, x$y, :\n",
      "“for 'Effect size (Cohen's D): ACPA– RA vs. Control' in 'mbcsToSbcs': - substituted for – (U+2013)”\n"
     ]
    },
    {
     "name": "stdout",
     "output_type": "stream",
     "text": [
      "[1] \"#####\"\n",
      "[1] \"proteomics\"\n",
      "[1] \"negVSpos\"\n",
      "[1] \"up:93\"\n",
      "[1] \"down:71\"\n",
      "[1] \"#####\"\n"
     ]
    },
    {
     "name": "stderr",
     "output_type": "stream",
     "text": [
      "Warning message:\n",
      "“ggrepel: 80 unlabeled data points (too many overlaps). Consider increasing max.overlaps”\n",
      "Warning message:\n",
      "“ggrepel: 59 unlabeled data points (too many overlaps). Consider increasing max.overlaps”\n",
      "Warning message in grid.Call.graphics(C_text, as.graphicsAnnot(x$label), x$x, x$y, :\n",
      "“for 'Effect size (Cohen's D): ACPA+ RA vs. ACPA– RA' in 'mbcsToSbcs': - substituted for – (U+2013)”\n"
     ]
    }
   ],
   "source": [
    "omics_list = c(\"metabolomics\",\"proteomics\")\n",
    "condition_list = c(\"cVSpos\",\"cVSneg\",\"negVSpos\")\n",
    "\n",
    "for (omics in omics_list){\n",
    "    cohend_threshold = 0.2\n",
    "\n",
    "    for (condition in condition_list){\n",
    "        \n",
    "        data_file = paste(\"../../../analysis/statistics/linear_model/differential_abundance_logit/\", \n",
    "                          omics, \".\", condition,\".tsv\", sep=\"\")\n",
    "        input_df = read.csv(data_file, sep=\"\\t\", header=TRUE, row.names=1)\n",
    "        \n",
    "        x_axis <- input_df$cohenD\n",
    "        y_axis <- -log10(input_df$all_adj_pval)\n",
    "\n",
    "        if (condition == \"negVSpos\"){\n",
    "            xaxis_label <- \"Effect size (Cohen's D): ACPA+ RA vs. ACPA– RA\"\n",
    "            numerator_color = \"#636363\"\n",
    "            denominator_color = \"#B57623\"\n",
    "            \n",
    "        }\n",
    "        if (condition == \"cVSpos\"){\n",
    "            xaxis_label <- \"Effect size (Cohen's D): ACPA+ RA vs. Control\"\n",
    "            numerator_color = \"#636363\"\n",
    "            denominator_color = \"#78AF3F\"\n",
    "        }\n",
    "        if (condition == \"cVSneg\"){\n",
    "            xaxis_label <- \"Effect size (Cohen's D): ACPA– RA vs. Control\"\n",
    "            numerator_color = \"#B57623\"\n",
    "            denominator_color = \"#78AF3F\"\n",
    "        }\n",
    "\n",
    "        gene_list <- rownames(input_df)\n",
    "        \n",
    "        #make dataframe for volcano plot\n",
    "        #row names = gene list\n",
    "        df <- do.call(rbind, Map(data.frame, 'cohenD'=x_axis, 'all_adj_pval'=y_axis))\n",
    "        rownames(df) <- gene_list\n",
    "        df$genes <- row.names(df)\n",
    "      \n",
    "        #Proteomics color & scale parameter = Default        \n",
    "        #Thresholds for data points color\n",
    "        #pvalue 0.01 = 2 (-log10 pval)\n",
    "        ylim_bottum <- 0\n",
    "        ylim_top <- 3.5\n",
    "        sig_subset <- subset(df, all_adj_pval > 1.30103)\n",
    "        \n",
    "        log2pval_threshold = 1.30103\n",
    "\n",
    "        #assign color of the dot (feature)\n",
    "        sig_red_subset <- subset(sig_subset, cohenD > cohend_threshold) \n",
    "        sig_blue_subset <- subset(sig_subset, cohenD < -cohend_threshold)\n",
    "                \n",
    "        sig_red_text_subset <- subset(sig_subset, cohenD > cohend_threshold)\n",
    "        sig_blue_text_subset <- subset(sig_subset, cohenD < -cohend_threshold)\n",
    "        \n",
    "        #Debug\n",
    "        print ('#####')\n",
    "        print (omics)\n",
    "        print (condition)\n",
    "        print (paste(\"up:\", nrow(sig_red_subset), sep=\"\"))\n",
    "        print (paste(\"down:\", nrow(sig_blue_subset), sep=\"\"))\n",
    "        print ('#####')\n",
    "        #Debug\n",
    "              \n",
    "        figure_title = paste(omics,\": \", condition, sep=\"\")\n",
    "        \n",
    "        output_pdf = paste(\"../../../analysis/statistics/volcano_plots/\", omics,\n",
    "                            \".\", condition, \".volcano.label.pdf\", sep=\"\")\n",
    "        pdf(output_pdf)\n",
    "        \n",
    "        #draw plots:start\n",
    "        plot_pdf <- ggplot(df, aes(x=cohenD, y=all_adj_pval))+ \n",
    "        coord_cartesian(xlim=c(-1.2,1.2), ylim=c(ylim_bottum,ylim_top))+ \n",
    "        geom_point(colour=\"#DCDCDC\", size = 2.5, stroke = 0) + \n",
    "        geom_hline(yintercept = log2pval_threshold, colour=\"#BEBEBE\", linetype=\"dashed\") +\n",
    "        geom_vline(xintercept = cohend_threshold, colour=\"#BEBEBE\", linetype=\"dashed\") +\n",
    "        geom_vline(xintercept = -cohend_threshold, colour=\"#BEBEBE\", linetype=\"dashed\") +\n",
    "        geom_point(data = sig_red_subset, colour=numerator_color, size = 2.5, stroke = 0) +\n",
    "        geom_point(data = sig_blue_subset, colour=denominator_color,size = 2.5, stroke = 0) +\n",
    "        geom_text_repel(data=sig_red_text_subset, aes(cohenD, all_adj_pval, label=genes), colour=numerator_color, size=2) +\n",
    "        geom_text_repel(data=sig_blue_text_subset, aes(cohenD, all_adj_pval, label=genes), colour=denominator_color, size=2) +\n",
    "        ylab(\"-log10 (P-value)\") + xlab(xaxis_label) +  \n",
    "        theme_bw() +\n",
    "        theme(axis.line = element_line(colour = \"black\"), panel.grid.major = element_blank(),\n",
    "            panel.grid.minor = element_blank(), panel.border = element_blank(), panel.background = element_blank())+\n",
    "        ggtitle(figure_title)\n",
    "        #draw plots:end\n",
    "        \n",
    "        print (plot_pdf)\n",
    "        dev.off()\n",
    "    }\n",
    "}"
   ]
  },
  {
   "cell_type": "code",
   "execution_count": null,
   "id": "particular-recorder",
   "metadata": {},
   "outputs": [],
   "source": []
  },
  {
   "cell_type": "code",
   "execution_count": null,
   "id": "be65d1c7-1615-4721-be57-2622644fcc7e",
   "metadata": {},
   "outputs": [],
   "source": []
  }
 ],
 "metadata": {
  "kernelspec": {
   "display_name": "R",
   "language": "R",
   "name": "ir"
  },
  "language_info": {
   "codemirror_mode": "r",
   "file_extension": ".r",
   "mimetype": "text/x-r-source",
   "name": "R",
   "pygments_lexer": "r",
   "version": "4.4.1"
  }
 },
 "nbformat": 4,
 "nbformat_minor": 5
}
