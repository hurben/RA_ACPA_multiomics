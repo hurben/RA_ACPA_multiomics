{
 "cells": [
  {
   "cell_type": "code",
   "execution_count": 1,
   "id": "south-walker",
   "metadata": {},
   "outputs": [],
   "source": [
    "#MAKE_volcano_plot_Rscript\n",
    "#\n",
    "#Designed to make volcano plot for every omics data (proteomics, metabolomics, autoantibody) \n",
    "#and every comparison (negVSpos, cVSpos, cVSneg, cVSra)\n",
    "#\n",
    "#Note: [1] P-value threshold for autoantibody : 0.05\n",
    "#      [2] P-value threshold for autoantibody : 0.01\n",
    "\n",
    "library(ggplot2)\n",
    "library(ggrepel)"
   ]
  },
  {
   "cell_type": "code",
   "execution_count": 2,
   "id": "threatened-german",
   "metadata": {},
   "outputs": [
    {
     "name": "stdout",
     "output_type": "stream",
     "text": [
      "[1] \"#####\"\n",
      "[1] \"autoantibody\"\n",
      "[1] \"cVSpos\"\n",
      "[1] 17\n",
      "[1] 17\n",
      "[1] \"#####\"\n"
     ]
    },
    {
     "name": "stderr",
     "output_type": "stream",
     "text": [
      "Warning message:\n",
      "“ggrepel: 4 unlabeled data points (too many overlaps). Consider increasing max.overlaps”\n"
     ]
    },
    {
     "name": "stdout",
     "output_type": "stream",
     "text": [
      "[1] \"#####\"\n",
      "[1] \"autoantibody\"\n",
      "[1] \"cVSneg\"\n",
      "[1] 4\n",
      "[1] 3\n",
      "[1] \"#####\"\n",
      "[1] \"#####\"\n",
      "[1] \"autoantibody\"\n",
      "[1] \"cVSra\"\n",
      "[1] 1\n",
      "[1] 5\n",
      "[1] \"#####\"\n",
      "[1] \"#####\"\n",
      "[1] \"autoantibody\"\n",
      "[1] \"negVSpos\"\n",
      "[1] 61\n",
      "[1] 43\n",
      "[1] \"#####\"\n"
     ]
    },
    {
     "name": "stderr",
     "output_type": "stream",
     "text": [
      "Warning message:\n",
      "“ggrepel: 50 unlabeled data points (too many overlaps). Consider increasing max.overlaps”\n",
      "Warning message:\n",
      "“ggrepel: 23 unlabeled data points (too many overlaps). Consider increasing max.overlaps”\n"
     ]
    },
    {
     "name": "stdout",
     "output_type": "stream",
     "text": [
      "[1] \"#####\"\n",
      "[1] \"metabolomics\"\n",
      "[1] \"cVSpos\"\n",
      "[1] 13\n",
      "[1] 23\n",
      "[1] \"#####\"\n"
     ]
    },
    {
     "name": "stderr",
     "output_type": "stream",
     "text": [
      "Warning message:\n",
      "“ggrepel: 9 unlabeled data points (too many overlaps). Consider increasing max.overlaps”\n"
     ]
    },
    {
     "name": "stdout",
     "output_type": "stream",
     "text": [
      "[1] \"#####\"\n",
      "[1] \"metabolomics\"\n",
      "[1] \"cVSneg\"\n",
      "[1] 15\n",
      "[1] 25\n",
      "[1] \"#####\"\n"
     ]
    },
    {
     "name": "stderr",
     "output_type": "stream",
     "text": [
      "Warning message:\n",
      "“ggrepel: 5 unlabeled data points (too many overlaps). Consider increasing max.overlaps”\n"
     ]
    },
    {
     "name": "stdout",
     "output_type": "stream",
     "text": [
      "[1] \"#####\"\n",
      "[1] \"metabolomics\"\n",
      "[1] \"cVSra\"\n",
      "[1] 15\n",
      "[1] 50\n",
      "[1] \"#####\"\n"
     ]
    },
    {
     "name": "stderr",
     "output_type": "stream",
     "text": [
      "Warning message:\n",
      "“ggrepel: 36 unlabeled data points (too many overlaps). Consider increasing max.overlaps”\n"
     ]
    },
    {
     "name": "stdout",
     "output_type": "stream",
     "text": [
      "[1] \"#####\"\n",
      "[1] \"metabolomics\"\n",
      "[1] \"negVSpos\"\n",
      "[1] 2\n",
      "[1] 3\n",
      "[1] \"#####\"\n",
      "[1] \"#####\"\n",
      "[1] \"proteomics\"\n",
      "[1] \"cVSpos\"\n",
      "[1] 25\n",
      "[1] 32\n",
      "[1] \"#####\"\n"
     ]
    },
    {
     "name": "stderr",
     "output_type": "stream",
     "text": [
      "Warning message:\n",
      "“ggrepel: 16 unlabeled data points (too many overlaps). Consider increasing max.overlaps”\n",
      "Warning message:\n",
      "“ggrepel: 25 unlabeled data points (too many overlaps). Consider increasing max.overlaps”\n"
     ]
    },
    {
     "name": "stdout",
     "output_type": "stream",
     "text": [
      "[1] \"#####\"\n",
      "[1] \"proteomics\"\n",
      "[1] \"cVSneg\"\n",
      "[1] 23\n",
      "[1] 49\n",
      "[1] \"#####\"\n"
     ]
    },
    {
     "name": "stderr",
     "output_type": "stream",
     "text": [
      "Warning message:\n",
      "“ggrepel: 12 unlabeled data points (too many overlaps). Consider increasing max.overlaps”\n",
      "Warning message:\n",
      "“ggrepel: 26 unlabeled data points (too many overlaps). Consider increasing max.overlaps”\n"
     ]
    },
    {
     "name": "stdout",
     "output_type": "stream",
     "text": [
      "[1] \"#####\"\n",
      "[1] \"proteomics\"\n",
      "[1] \"cVSra\"\n",
      "[1] 26\n",
      "[1] 111\n",
      "[1] \"#####\"\n"
     ]
    },
    {
     "name": "stderr",
     "output_type": "stream",
     "text": [
      "Warning message:\n",
      "“ggrepel: 18 unlabeled data points (too many overlaps). Consider increasing max.overlaps”\n",
      "Warning message:\n",
      "“ggrepel: 83 unlabeled data points (too many overlaps). Consider increasing max.overlaps”\n"
     ]
    },
    {
     "name": "stdout",
     "output_type": "stream",
     "text": [
      "[1] \"#####\"\n",
      "[1] \"proteomics\"\n",
      "[1] \"negVSpos\"\n",
      "[1] 18\n",
      "[1] 9\n",
      "[1] \"#####\"\n"
     ]
    },
    {
     "name": "stderr",
     "output_type": "stream",
     "text": [
      "Warning message:\n",
      "“ggrepel: 3 unlabeled data points (too many overlaps). Consider increasing max.overlaps”\n"
     ]
    }
   ],
   "source": [
    "omics_list = c(\"autoantibody\",\"metabolomics\",\"proteomics\")\n",
    "condition_list = c(\"cVSpos\",\"cVSneg\",\"cVSra\", \"negVSpos\")\n",
    "\n",
    "for (omics in omics_list){\n",
    "    \n",
    "    for (condition in condition_list){\n",
    "        \n",
    "        data_file = paste(\"../../../analysis/statistics/linear_model/differential_abundance_v2/\", \n",
    "                          omics, \".\", condition,\".padj.v2.tsv\", sep=\"\")\n",
    "        input_df = read.csv(data_file, sep=\"\\t\", header=TRUE, row.names=1)\n",
    "        \n",
    "        x_axis <- input_df$fc_case_control\n",
    "        y_axis <- -log10(input_df$pval)\n",
    "        cohenD <- input_df$cohenD\n",
    "        \n",
    "        if (condition == \"negVSpos\"){\n",
    "            xaxis_label <- \"log2(fold-change: ACPA-positive/ACPA-negative)\"\n",
    "            numerator_color = \"#636363\"\n",
    "            denominator_color = \"#B57623\"\n",
    "            \n",
    "        }\n",
    "        if (condition == \"cVSpos\"){\n",
    "            xaxis_label <- \"log2(fold-change: ACPA-positive/Control)\"\n",
    "            numerator_color = \"#636363\"\n",
    "            denominator_color = \"#78AF3F\"\n",
    "        }\n",
    "        if (condition == \"cVSneg\"){\n",
    "            xaxis_label <- \"log2(fold-change: ACPA-negative/Control)\"\n",
    "            numerator_color = \"#B57623\"\n",
    "            denominator_color = \"#78AF3F\"\n",
    "        }\n",
    "        if (condition == \"cVSra\"){\n",
    "            xaxis_label <- \"log2(fold-change: RA/control)\"\n",
    "            numerator_color = \"#4572B8\"\n",
    "            denominator_color = \"#78AF3F\"\n",
    "        }\n",
    "\n",
    "        gene_list <- rownames(input_df)\n",
    "        \n",
    "        #make dataframe for volcano plot\n",
    "        #row names = gene list\n",
    "        df <- do.call(rbind, Map(data.frame, 'log2FC'=x_axis, 'pval'=y_axis, 'cohenD'=cohenD))\n",
    "        rownames(df) <- gene_list\n",
    "        df$genes <- row.names(df)\n",
    "        \n",
    "\n",
    "        \n",
    "        #Proteomics color & scale parameter = Default        \n",
    "        #Thresholds for data points color\n",
    "        #pvalue 0.01 = 2 (-log10 pval)\n",
    "        ylim_bottum <- 0\n",
    "        ylim_top <- 6\n",
    "        sig_subset <- subset(df, pval > 2)\n",
    "        log2pval_threshold = 2\n",
    "        \n",
    "        #Autoantibody color & scale parameter    \n",
    "        if (omics == \"autoantibody\"){ #since we decided to change the threshold of autoantibody profiles\n",
    "            sig_subset <- subset(df, pval > 1.30103)\n",
    "            log2pval_threshold = 1.30103\n",
    "            ylim_bottum <- 0\n",
    "            ylim_top <- 4\n",
    "        }\n",
    "        \n",
    "        #Metabolomics color & scale parameter    \n",
    "        if (omics == \"metabolites\"){ #since we decided to change the threshold of autoantibody profiles\n",
    "            ylim_bottum <- 0\n",
    "            ylim_top <- 7\n",
    "        }\n",
    "\n",
    "        #filter out by Cohen's D\n",
    "        sig_subset <- subset(sig_subset, abs(cohenD) > 0.5)\n",
    "        \n",
    "        #assign color of the dot (feature)\n",
    "        sig_red_subset <- subset(sig_subset, log2FC > 0) \n",
    "        sig_blue_subset <- subset(sig_subset, log2FC < 0)\n",
    "                \n",
    "        sig_red_text_subset <- subset(sig_subset, log2FC > 0)\n",
    "        sig_blue_text_subset <- subset(sig_subset, log2FC < 0)\n",
    "        \n",
    "        #Debug\n",
    "        print ('#####')\n",
    "        print (omics)\n",
    "        print (condition)\n",
    "        print (nrow(sig_red_subset))\n",
    "        print (nrow(sig_blue_subset))\n",
    "        print ('#####')\n",
    "        #Debug\n",
    "              \n",
    "        figure_title = paste(omics,\": \", condition, sep=\"\")\n",
    "        \n",
    "        output_pdf = paste(\"../../../analysis/statistics/volcano_plots/\", omics,\n",
    "                            \".\", condition, \".volcano.label.pdf\", sep=\"\")\n",
    "        pdf(output_pdf)\n",
    "        plot_pdf <- ggplot(df, aes(x=log2FC, y=pval))+ coord_cartesian(xlim=c(-2,2), ylim=c(ylim_bottum,ylim_top))+ \n",
    "        geom_point(colour=\"#DCDCDC\") + \n",
    "        geom_hline(yintercept = log2pval_threshold, colour=\"#BEBEBE\", linetype=\"dashed\") +\n",
    "        geom_point(data = sig_red_subset, colour=numerator_color) +\n",
    "        geom_point(data = sig_blue_subset, colour=denominator_color) +\n",
    "        geom_text_repel(data=sig_red_text_subset, aes(log2FC, pval, label=genes), colour=numerator_color, size=2) +\n",
    "        geom_text_repel(data=sig_blue_text_subset, aes(log2FC, pval, label=genes), colour=denominator_color, size=2) +\n",
    "        ylab(\"-log10 (P-value)\") + xlab(xaxis_label) +  \n",
    "        theme_bw() +\n",
    "        theme(axis.line = element_line(colour = \"black\"), panel.grid.major = element_blank(),\n",
    "            panel.grid.minor = element_blank(), panel.border = element_blank(), panel.background = element_blank())+\n",
    "        ggtitle(figure_title)\n",
    "        print (plot_pdf)\n",
    "        dev.off()\n",
    "        # break\n",
    "    }\n",
    "    # break\n",
    "}"
   ]
  },
  {
   "cell_type": "code",
   "execution_count": null,
   "id": "particular-recorder",
   "metadata": {},
   "outputs": [],
   "source": []
  }
 ],
 "metadata": {
  "kernelspec": {
   "display_name": "R",
   "language": "R",
   "name": "ir"
  },
  "language_info": {
   "codemirror_mode": "r",
   "file_extension": ".r",
   "mimetype": "text/x-r-source",
   "name": "R",
   "pygments_lexer": "r",
   "version": "4.0.3"
  }
 },
 "nbformat": 4,
 "nbformat_minor": 5
}
