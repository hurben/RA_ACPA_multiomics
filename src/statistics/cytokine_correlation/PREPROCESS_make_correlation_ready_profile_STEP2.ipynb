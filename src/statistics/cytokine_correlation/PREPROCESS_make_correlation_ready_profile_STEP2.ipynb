{
 "cells": [
  {
   "cell_type": "code",
   "execution_count": 1,
   "id": "minimal-shell",
   "metadata": {},
   "outputs": [],
   "source": [
    "#PREPROCESS_calculate_correlation_STEP2      22.04.14\n",
    "#After STEP1, some features do not have significant correlation.\n",
    "#This step is to remove features that have no correlations to other clinical covariates\n",
    "\n",
    "import pandas as pd"
   ]
  },
  {
   "cell_type": "code",
   "execution_count": 2,
   "id": "instrumental-scholarship",
   "metadata": {},
   "outputs": [],
   "source": [
    "data_dir = '../../../analysis/statistics/cytokine_correlation'\n",
    "data_type_list = ['cytokine_autoantibody_corr', 'cytokine_clinical_covariates_corr']\n",
    "\n",
    "for data_type in data_type_list:\n",
    "    data_file = '%s/%s.tsv' % (data_dir, data_type)\n",
    "    data_df = pd.read_csv(data_file, sep=\"\\t\", index_col = 0)\n",
    "    r, c = data_df.shape\n",
    "    \n",
    "    alpha_feature_list = data_df.index.values\n",
    "    beta_feature_list = data_df.columns.values\n",
    "    \n",
    "    output_file = '%s/%s.filtered.tsv' % (data_dir, data_type)\n",
    "    output_txt = open(output_file,'w')\n",
    "    #write header\n",
    "    for beta_feature in beta_feature_list:\n",
    "        output_txt.write('\\t%s' % beta_feature)\n",
    "    output_txt.write('\\n')\n",
    "\n",
    "    for i in range(r):\n",
    "        alpha_feature = alpha_feature_list[i]\n",
    "        sig_count = 0\n",
    "        \n",
    "        for beta_feature in beta_feature_list:\n",
    "            corr = data_df[beta_feature][i]\n",
    "            if corr != 0:\n",
    "                sig_count += 1\n",
    "\n",
    "        if sig_count >= 1: #write feature and correlations \n",
    "            output_txt.write(alpha_feature)\n",
    "            for beta_feature in beta_feature_list:\n",
    "                corr = data_df[beta_feature][i]\n",
    "                output_txt.write('\\t%s' % corr)\n",
    "            output_txt.write('\\n')\n",
    " \n",
    "    output_txt.close()\n"
   ]
  },
  {
   "cell_type": "code",
   "execution_count": null,
   "id": "velvet-mediterranean",
   "metadata": {},
   "outputs": [],
   "source": []
  }
 ],
 "metadata": {
  "kernelspec": {
   "display_name": "Python 3",
   "language": "python",
   "name": "python3"
  },
  "language_info": {
   "codemirror_mode": {
    "name": "ipython",
    "version": 3
   },
   "file_extension": ".py",
   "mimetype": "text/x-python",
   "name": "python",
   "nbconvert_exporter": "python",
   "pygments_lexer": "ipython3",
   "version": "3.9.1"
  }
 },
 "nbformat": 4,
 "nbformat_minor": 5
}
