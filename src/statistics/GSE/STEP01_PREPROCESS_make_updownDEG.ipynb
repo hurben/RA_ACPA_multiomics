{
 "cells": [
  {
   "cell_type": "code",
   "execution_count": 11,
   "id": "center-explanation",
   "metadata": {},
   "outputs": [],
   "source": [
    "#STEP1_PREPROCESS_make_updownDEG      \n",
    "#\n",
    "#this is metabolomic specific.\n",
    "\n",
    "import pandas as pd\n",
    "\n",
    "def main(data_dir, output_dir):\n",
    "    \n",
    "    condition_list = ['cVSneg','cVSpos']\n",
    "    for condition in condition_list:\n",
    "        up_count = 0\n",
    "        down_count = 0\n",
    "        print (condition)\n",
    "        \n",
    "        data_file = '%s/linear_regression.%s.metabolomics.tsv' % (data_dir, condition)\n",
    "        data_df = pd.read_csv(data_file, sep=\"\\t\", index_col = 0)\n",
    "        \n",
    "        feature_list = data_df.index.values      \n",
    "        r, c = data_df.shape        \n",
    "        output_up_file = '%s/metabolomics.%s.up.tsv' % (output_dir, condition)\n",
    "        output_up_txt = open(output_up_file, 'w')\n",
    "        output_down_file = '%s/metabolomics.%s.down.tsv' % (output_dir, condition)\n",
    "        output_down_txt = open(output_down_file, 'w')\n",
    "        \n",
    "        for i in range(r):\n",
    "            feature = feature_list[i]\n",
    "\n",
    "            log2fc = data_df[\"log2fc\"][i]\n",
    "            cohenD = data_df[\"cohen_d\"][i]\n",
    "            pval = data_df[\"adj_pval\"][i]\n",
    "            \n",
    "            #sanity check: just in case\n",
    "            if abs(cohenD) >= 0.5 and pval < 0.05:\n",
    "            # if pval < 0.05:\n",
    "\n",
    "                if log2fc > 0:\n",
    "                    up_count += 1\n",
    "                    output_up_txt.write('%s\\n' % (feature))                    \n",
    "                if log2fc < 0:\n",
    "                    down_count += 1\n",
    "                    output_down_txt.write('%s\\n' % (feature))\n",
    "\n",
    "        print (\"UP: %s, DOWN: %s\" % (up_count, down_count))\n",
    "        output_up_txt.close()\n",
    "        output_down_txt.close()"
   ]
  },
  {
   "cell_type": "code",
   "execution_count": 13,
   "id": "military-modern",
   "metadata": {},
   "outputs": [
    {
     "name": "stdout",
     "output_type": "stream",
     "text": [
      "cVSneg\n",
      "UP: 12, DOWN: 33\n",
      "cVSpos\n",
      "UP: 7, DOWN: 17\n"
     ]
    },
    {
     "name": "stderr",
     "output_type": "stream",
     "text": [
      "/var/folders/7g/bxl6lwtx2z1dztdmxklgjd100000gr/T/ipykernel_22718/4040802934.py:28: FutureWarning: Series.__getitem__ treating keys as positions is deprecated. In a future version, integer keys will always be treated as labels (consistent with DataFrame behavior). To access a value by position, use `ser.iloc[pos]`\n",
      "  log2fc = data_df[\"log2fc\"][i]\n",
      "/var/folders/7g/bxl6lwtx2z1dztdmxklgjd100000gr/T/ipykernel_22718/4040802934.py:29: FutureWarning: Series.__getitem__ treating keys as positions is deprecated. In a future version, integer keys will always be treated as labels (consistent with DataFrame behavior). To access a value by position, use `ser.iloc[pos]`\n",
      "  cohenD = data_df[\"cohen_d\"][i]\n",
      "/var/folders/7g/bxl6lwtx2z1dztdmxklgjd100000gr/T/ipykernel_22718/4040802934.py:30: FutureWarning: Series.__getitem__ treating keys as positions is deprecated. In a future version, integer keys will always be treated as labels (consistent with DataFrame behavior). To access a value by position, use `ser.iloc[pos]`\n",
      "  pval = data_df[\"adj_pval\"][i]\n",
      "/var/folders/7g/bxl6lwtx2z1dztdmxklgjd100000gr/T/ipykernel_22718/4040802934.py:28: FutureWarning: Series.__getitem__ treating keys as positions is deprecated. In a future version, integer keys will always be treated as labels (consistent with DataFrame behavior). To access a value by position, use `ser.iloc[pos]`\n",
      "  log2fc = data_df[\"log2fc\"][i]\n",
      "/var/folders/7g/bxl6lwtx2z1dztdmxklgjd100000gr/T/ipykernel_22718/4040802934.py:29: FutureWarning: Series.__getitem__ treating keys as positions is deprecated. In a future version, integer keys will always be treated as labels (consistent with DataFrame behavior). To access a value by position, use `ser.iloc[pos]`\n",
      "  cohenD = data_df[\"cohen_d\"][i]\n",
      "/var/folders/7g/bxl6lwtx2z1dztdmxklgjd100000gr/T/ipykernel_22718/4040802934.py:30: FutureWarning: Series.__getitem__ treating keys as positions is deprecated. In a future version, integer keys will always be treated as labels (consistent with DataFrame behavior). To access a value by position, use `ser.iloc[pos]`\n",
      "  pval = data_df[\"adj_pval\"][i]\n"
     ]
    }
   ],
   "source": [
    "data_dir = '../../../analysis/statistics/linear_regression/metabolomics'\n",
    "output_dir = '../../../analysis/hypergeometric'\n",
    "    \n",
    "main(data_dir, output_dir)"
   ]
  },
  {
   "cell_type": "code",
   "execution_count": null,
   "id": "faf4b173-e427-4bfc-902e-b40ecb0b51b6",
   "metadata": {},
   "outputs": [],
   "source": []
  }
 ],
 "metadata": {
  "kernelspec": {
   "display_name": "base",
   "language": "python",
   "name": "python3"
  },
  "language_info": {
   "codemirror_mode": {
    "name": "ipython",
    "version": 3
   },
   "file_extension": ".py",
   "mimetype": "text/x-python",
   "name": "python",
   "nbconvert_exporter": "python",
   "pygments_lexer": "ipython3",
   "version": "3.10.14"
  }
 },
 "nbformat": 4,
 "nbformat_minor": 5
}
