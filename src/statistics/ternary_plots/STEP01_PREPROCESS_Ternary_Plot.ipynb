{
 "cells": [
  {
   "cell_type": "code",
   "execution_count": 1,
   "id": "superior-placement",
   "metadata": {},
   "outputs": [],
   "source": [
    "#STEP01_PREPROCESS_Ternary_Plot\n",
    "#\n",
    "#Prepare plot ready matrix for ternary plot\n",
    "\n",
    "import pandas as pd\n",
    "import statistics"
   ]
  },
  {
   "cell_type": "code",
   "execution_count": 2,
   "id": "unnecessary-gathering",
   "metadata": {},
   "outputs": [],
   "source": [
    "def make_omics_dict(data_file, patient_info_dict, output_file, omics_type_str):\n",
    "    \n",
    "    #make omics_dict\n",
    "    data_dict = {}\n",
    "    data_df = pd.read_csv(data_file, sep=\"\\t\", index_col=0)\n",
    "    feature_list = data_df.index.values\n",
    "    patient_ID_list = data_df.columns.values\n",
    "    \n",
    "    print (\"Omics type:\", omics_type_str)\n",
    "    print ('Sample Size:', len(patient_ID_list))\n",
    "    print ('Feature Size:', len(feature_list))\n",
    "    \n",
    "    r, c = data_df.shape\n",
    "    for i in range(r):\n",
    "        feature = feature_list[i]\n",
    "        \n",
    "        for j in range(c):\n",
    "            patient_ID = patient_ID_list[j]\n",
    "            sample_status = patient_info_dict[patient_ID]\n",
    "            value = data_df.iloc[i][j]\n",
    "            \n",
    "            try: data_dict[feature, sample_status].append(value)\n",
    "            except KeyError: data_dict[feature,sample_status] = [value]\n",
    "                \n",
    "    #make omics_dict: complete\n",
    "    \n",
    "    #make output file\n",
    "    output_file = '%s.%s.tsv' % (output_file, omics_type_str)\n",
    "    print (output_file)\n",
    "    output_txt = open(output_file, 'w')\n",
    "    output_txt.write('feature\\tcontrol\\tacpa_neg\\tacpa_pos\\n')\n",
    "    for feature in feature_list:        \n",
    "\n",
    "        control_value = statistics.mean(data_dict[feature,0])\n",
    "        acpa_neg_value = statistics.mean(data_dict[feature,2])\n",
    "        acpa_pos_value = statistics.mean(data_dict[feature,1])\n",
    "        \n",
    "        output_txt.write('%s\\t%s\\t%s\\t%s\\n' %(feature, control_value, acpa_neg_value, acpa_pos_value))\n",
    "    \n",
    "    output_txt.close()\n",
    "    \n",
    "def make_patient_info_dict(data_file):\n",
    "    \n",
    "    data_dict = {}\n",
    "    data_df = pd.read_csv(data_file,sep=\"\\t\", index_col=0)\n",
    "    r, c = data_df.shape\n",
    "    patient_list = data_df.columns.values\n",
    "    \n",
    "    for j in range(c):\n",
    "        patient_ID = patient_list[j]\n",
    "        value = data_df.iloc[0][j]\n",
    "\n",
    "        data_dict[patient_ID] = value\n",
    "            \n",
    "    return data_dict\n",
    "    "
   ]
  },
  {
   "cell_type": "code",
   "execution_count": 3,
   "id": "alert-strain",
   "metadata": {},
   "outputs": [],
   "source": [
    "proteomics_data_file = '../../../preprocessed_data/proteomics/somascan_anml.T.v2.tsv'\n",
    "metabolomics_data_file = '../../../preprocessed_data/metabolomics/metabolone_raw_norm_preprocessed.v2.tsv'\n",
    "autoantibody_data_file = '../../../preprocessed_data/autoantibody/sengenics_qnorm_data.v2.tsv'\n",
    "patient_info_file = '../../../preprocessed_data/meta/patient_info.ML_ready.tsv'\n",
    "\n",
    "patient_info_dict = make_patient_info_dict(patient_info_file)\n"
   ]
  },
  {
   "cell_type": "code",
   "execution_count": 9,
   "id": "wooden-competition",
   "metadata": {},
   "outputs": [],
   "source": [
    "output_file = '../../../analysis/statistics/ternary_plots/ternary_plots'"
   ]
  },
  {
   "cell_type": "code",
   "execution_count": 10,
   "id": "honey-blackjack",
   "metadata": {},
   "outputs": [
    {
     "name": "stdout",
     "output_type": "stream",
     "text": [
      "Omics type: proteomics\n",
      "Sample Size: 120\n",
      "Feature Size: 7272\n",
      "../../../analysis/statistics/ternary_plots/ternary_plots.proteomics.tsv\n",
      "Omics type: autoantibody\n",
      "Sample Size: 120\n",
      "Feature Size: 1610\n",
      "../../../analysis/statistics/ternary_plots/ternary_plots.autoantibody.tsv\n",
      "Omics type: metabolomics\n",
      "Sample Size: 120\n",
      "Feature Size: 1061\n",
      "../../../analysis/statistics/ternary_plots/ternary_plots.metabolomics.tsv\n"
     ]
    }
   ],
   "source": [
    "make_omics_dict(proteomics_data_file, patient_info_dict, output_file, 'proteomics')\n",
    "make_omics_dict(autoantibody_data_file, patient_info_dict, output_file, 'autoantibody')\n",
    "make_omics_dict(metabolomics_data_file, patient_info_dict, output_file, 'metabolomics')"
   ]
  },
  {
   "cell_type": "code",
   "execution_count": null,
   "id": "multiple-building",
   "metadata": {},
   "outputs": [],
   "source": []
  }
 ],
 "metadata": {
  "kernelspec": {
   "display_name": "Python 3 (ipykernel)",
   "language": "python",
   "name": "python3"
  },
  "language_info": {
   "codemirror_mode": {
    "name": "ipython",
    "version": 3
   },
   "file_extension": ".py",
   "mimetype": "text/x-python",
   "name": "python",
   "nbconvert_exporter": "python",
   "pygments_lexer": "ipython3",
   "version": "3.11.6"
  }
 },
 "nbformat": 4,
 "nbformat_minor": 5
}
