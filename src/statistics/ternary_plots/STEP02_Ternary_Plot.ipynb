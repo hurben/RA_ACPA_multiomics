{
 "cells": [
  {
   "cell_type": "code",
   "execution_count": 3,
   "id": "electric-yukon",
   "metadata": {},
   "outputs": [
    {
     "name": "stderr",
     "output_type": "stream",
     "text": [
      "\n",
      "Attaching package: ‘plotly’\n",
      "\n",
      "\n",
      "The following object is masked from ‘package:ggplot2’:\n",
      "\n",
      "    last_plot\n",
      "\n",
      "\n",
      "The following object is masked from ‘package:stats’:\n",
      "\n",
      "    filter\n",
      "\n",
      "\n",
      "The following object is masked from ‘package:graphics’:\n",
      "\n",
      "    layout\n",
      "\n",
      "\n"
     ]
    },
    {
     "ename": "ERROR",
     "evalue": "Error in library(\"readr\"): there is no package called ‘readr’\n",
     "output_type": "error",
     "traceback": [
      "Error in library(\"readr\"): there is no package called ‘readr’\nTraceback:\n",
      "1. library(\"readr\")"
     ]
    }
   ],
   "source": [
    "#STEP02_Ternary_Plot\n",
    "#\n",
    "#Draw ternary plot from the prepared data.\n",
    "#\n",
    "\n",
    "library(\"ggtern\")\n",
    "library(\"plotly\")\n",
    "library(\"readr\")\n",
    "library(\"dplyr\")\n",
    "library(\"tidyr\")"
   ]
  },
  {
   "cell_type": "code",
   "execution_count": 2,
   "id": "floppy-belarus",
   "metadata": {},
   "outputs": [],
   "source": [
    "make_ternary_plot <- function(data_file, output_dir){\n",
    "    \n",
    "\n",
    "    data_df <- read.csv(data_file, sep=\"\\t\", header=TRUE, row.names=1)\n",
    "    ternary_plot <- ggtern(data = data_df, aes(x=control, y = acpa_neg, z=acpa_pos))+geom_point()+theme_bw()+theme_rgbw()\n",
    "    return (ternary_plot)\n",
    "}"
   ]
  },
  {
   "cell_type": "code",
   "execution_count": 3,
   "id": "legislative-marathon",
   "metadata": {},
   "outputs": [],
   "source": [
    "output_dir = '../../../analysis/statistics/ternary_plots/'\n",
    "\n",
    "proteomics_data_file = '../../../analysis/statistics/ternary_plots/ternary_plots.proteomics.tsv'\n",
    "metabolomics_data_file = '../../../analysis/statistics/ternary_plots/ternary_plots.metabolomics.tsv'\n",
    "# autoantibody_data_file = '../../../analysis/statistics/ternary_plots/ternary_plots.autoantibody.tsv'\n"
   ]
  },
  {
   "cell_type": "code",
   "execution_count": 4,
   "id": "dressed-scratch",
   "metadata": {},
   "outputs": [
    {
     "data": {
      "text/html": [
       "<strong>pdf:</strong> 2"
      ],
      "text/latex": [
       "\\textbf{pdf:} 2"
      ],
      "text/markdown": [
       "**pdf:** 2"
      ],
      "text/plain": [
       "pdf \n",
       "  2 "
      ]
     },
     "metadata": {},
     "output_type": "display_data"
    },
    {
     "data": {
      "text/html": [
       "<strong>pdf:</strong> 2"
      ],
      "text/latex": [
       "\\textbf{pdf:} 2"
      ],
      "text/markdown": [
       "**pdf:** 2"
      ],
      "text/plain": [
       "pdf \n",
       "  2 "
      ]
     },
     "metadata": {},
     "output_type": "display_data"
    },
    {
     "data": {
      "text/html": [
       "<strong>pdf:</strong> 2"
      ],
      "text/latex": [
       "\\textbf{pdf:} 2"
      ],
      "text/markdown": [
       "**pdf:** 2"
      ],
      "text/plain": [
       "pdf \n",
       "  2 "
      ]
     },
     "metadata": {},
     "output_type": "display_data"
    }
   ],
   "source": [
    "data_df <- read.csv(proteomics_data_file, sep=\"\\t\", header=TRUE, row.names=1)\n",
    "output_pdf <- paste(output_dir, \"proteomics.ternary_plot.pdf\", sep=\"\")\n",
    "pdf(output_pdf)\n",
    "ggtern(data = data_df, aes(x=acpa_neg, y = acpa_pos, z=control))+geom_point()+ggtitle(\"Proteomics\")+theme_bw()+theme_rgbw()\n",
    "dev.off()\n",
    "\n",
    "data_df <- read.csv(metabolomics_data_file, sep=\"\\t\", header=TRUE, row.names=1)\n",
    "output_pdf <- paste(output_dir, \"metabolomics.ternary_plot.pdf\", sep=\"\")\n",
    "pdf(output_pdf)\n",
    "ggtern(data = data_df, aes(x=acpa_neg, y = acpa_pos, z=control))+geom_point()+ggtitle(\"Metabolomics\")+theme_bw()+theme_rgbw()\n",
    "dev.off()\n",
    "\n",
    "\n",
    "# data_df <- read.csv(autoantibody_data_file, sep=\"\\t\", header=TRUE, row.names=1)\n",
    "# output_pdf <- paste(output_dir, \"autoantibody.ternary_plot.pdf\", sep=\"\")\n",
    "# pdf(output_pdf)\n",
    "# ggtern(data = data_df, aes(x=acpa_neg, y = acpa_pos, z=control))+geom_point()+ggtitle(\"Autoantibody\")+theme_bw()+theme_rgbw()\n",
    "# dev.off()\n",
    "\n"
   ]
  },
  {
   "cell_type": "code",
   "execution_count": null,
   "id": "serious-dominican",
   "metadata": {},
   "outputs": [],
   "source": []
  },
  {
   "cell_type": "code",
   "execution_count": null,
   "id": "nasty-empire",
   "metadata": {},
   "outputs": [],
   "source": []
  }
 ],
 "metadata": {
  "kernelspec": {
   "display_name": "R",
   "language": "R",
   "name": "ir"
  },
  "language_info": {
   "codemirror_mode": "r",
   "file_extension": ".r",
   "mimetype": "text/x-r-source",
   "name": "R",
   "pygments_lexer": "r",
   "version": "4.4.2"
  }
 },
 "nbformat": 4,
 "nbformat_minor": 5
}
