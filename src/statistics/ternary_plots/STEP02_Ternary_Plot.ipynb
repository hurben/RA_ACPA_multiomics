{
 "cells": [
  {
   "cell_type": "code",
   "execution_count": 1,
   "id": "electric-yukon",
   "metadata": {},
   "outputs": [
    {
     "name": "stderr",
     "output_type": "stream",
     "text": [
      "Loading required package: ggplot2\n",
      "\n",
      "Registered S3 methods overwritten by 'ggtern':\n",
      "  method           from   \n",
      "  grid.draw.ggplot ggplot2\n",
      "  plot.ggplot      ggplot2\n",
      "  print.ggplot     ggplot2\n",
      "\n",
      "--\n",
      "Remember to cite, run citation(package = 'ggtern') for further info.\n",
      "--\n",
      "\n",
      "\n",
      "Attaching package: ‘ggtern’\n",
      "\n",
      "\n",
      "The following objects are masked from ‘package:ggplot2’:\n",
      "\n",
      "    aes, annotate, ggplot, ggplot_build, ggplot_gtable, ggplotGrob,\n",
      "    ggsave, layer_data, theme_bw, theme_classic, theme_dark,\n",
      "    theme_gray, theme_light, theme_linedraw, theme_minimal, theme_void\n",
      "\n",
      "\n",
      "\n",
      "Attaching package: ‘plotly’\n",
      "\n",
      "\n",
      "The following object is masked from ‘package:ggplot2’:\n",
      "\n",
      "    last_plot\n",
      "\n",
      "\n",
      "The following object is masked from ‘package:stats’:\n",
      "\n",
      "    filter\n",
      "\n",
      "\n",
      "The following object is masked from ‘package:graphics’:\n",
      "\n",
      "    layout\n",
      "\n",
      "\n",
      "\n",
      "Attaching package: ‘dplyr’\n",
      "\n",
      "\n",
      "The following objects are masked from ‘package:stats’:\n",
      "\n",
      "    filter, lag\n",
      "\n",
      "\n",
      "The following objects are masked from ‘package:base’:\n",
      "\n",
      "    intersect, setdiff, setequal, union\n",
      "\n",
      "\n"
     ]
    }
   ],
   "source": [
    "#STEP02_Ternary_Plot\n",
    "#\n",
    "#Draw ternary plot from the prepared data.\n",
    "#\n",
    "\n",
    "library(\"ggtern\")\n",
    "library(\"plotly\")\n",
    "library(\"readr\")\n",
    "library(\"dplyr\")\n",
    "library(\"tidyr\")"
   ]
  },
  {
   "cell_type": "code",
   "execution_count": 2,
   "id": "floppy-belarus",
   "metadata": {},
   "outputs": [],
   "source": [
    "make_ternary_plot <- function(data_file, output_dir){\n",
    "    \n",
    "\n",
    "    data_df <- read.csv(data_file, sep=\"\\t\", header=TRUE, row.names=1)\n",
    "    ternary_plot <- ggtern(data = data_df, aes(x=control, y = acpa_neg, z=acpa_pos))+geom_point()+theme_bw()+theme_rgbw()\n",
    "    return (ternary_plot)\n",
    "}"
   ]
  },
  {
   "cell_type": "code",
   "execution_count": 3,
   "id": "legislative-marathon",
   "metadata": {},
   "outputs": [],
   "source": [
    "output_dir = '../../../analysis/statistics/ternary_plots/'\n",
    "\n",
    "proteomics_data_file = '../../../analysis/statistics/ternary_plots/ternary_plots.proteomics.tsv'\n",
    "metabolomics_data_file = '../../../analysis/statistics/ternary_plots/ternary_plots.metabolomics.tsv'\n",
    "autoantibody_data_file = '../../../analysis/statistics/ternary_plots/ternary_plots.autoantibody.tsv'\n"
   ]
  },
  {
   "cell_type": "code",
   "execution_count": 4,
   "id": "dressed-scratch",
   "metadata": {},
   "outputs": [
    {
     "data": {
      "text/html": [
       "<strong>pdf:</strong> 2"
      ],
      "text/latex": [
       "\\textbf{pdf:} 2"
      ],
      "text/markdown": [
       "**pdf:** 2"
      ],
      "text/plain": [
       "pdf \n",
       "  2 "
      ]
     },
     "metadata": {},
     "output_type": "display_data"
    },
    {
     "data": {
      "text/html": [
       "<strong>pdf:</strong> 2"
      ],
      "text/latex": [
       "\\textbf{pdf:} 2"
      ],
      "text/markdown": [
       "**pdf:** 2"
      ],
      "text/plain": [
       "pdf \n",
       "  2 "
      ]
     },
     "metadata": {},
     "output_type": "display_data"
    },
    {
     "data": {
      "text/html": [
       "<strong>pdf:</strong> 2"
      ],
      "text/latex": [
       "\\textbf{pdf:} 2"
      ],
      "text/markdown": [
       "**pdf:** 2"
      ],
      "text/plain": [
       "pdf \n",
       "  2 "
      ]
     },
     "metadata": {},
     "output_type": "display_data"
    }
   ],
   "source": [
    "data_df <- read.csv(proteomics_data_file, sep=\"\\t\", header=TRUE, row.names=1)\n",
    "output_pdf <- paste(output_dir, \"proteomics.ternary_plot.pdf\", sep=\"\")\n",
    "pdf(output_pdf)\n",
    "ggtern(data = data_df, aes(x=acpa_neg, y = acpa_pos, z=control))+geom_point()+ggtitle(\"Proteomics\")+theme_bw()+theme_rgbw()\n",
    "dev.off()\n",
    "\n",
    "data_df <- read.csv(metabolomics_data_file, sep=\"\\t\", header=TRUE, row.names=1)\n",
    "output_pdf <- paste(output_dir, \"metabolomics.ternary_plot.pdf\", sep=\"\")\n",
    "pdf(output_pdf)\n",
    "ggtern(data = data_df, aes(x=acpa_neg, y = acpa_pos, z=control))+geom_point()+ggtitle(\"Metabolomics\")+theme_bw()+theme_rgbw()\n",
    "dev.off()\n",
    "\n",
    "\n",
    "data_df <- read.csv(autoantibody_data_file, sep=\"\\t\", header=TRUE, row.names=1)\n",
    "output_pdf <- paste(output_dir, \"autoantibody.ternary_plot.pdf\", sep=\"\")\n",
    "pdf(output_pdf)\n",
    "ggtern(data = data_df, aes(x=acpa_neg, y = acpa_pos, z=control))+geom_point()+ggtitle(\"Autoantibody\")+theme_bw()+theme_rgbw()\n",
    "dev.off()\n",
    "\n"
   ]
  },
  {
   "cell_type": "code",
   "execution_count": null,
   "id": "serious-dominican",
   "metadata": {},
   "outputs": [],
   "source": []
  },
  {
   "cell_type": "code",
   "execution_count": null,
   "id": "nasty-empire",
   "metadata": {},
   "outputs": [],
   "source": []
  }
 ],
 "metadata": {
  "kernelspec": {
   "display_name": "R",
   "language": "R",
   "name": "ir"
  },
  "language_info": {
   "codemirror_mode": "r",
   "file_extension": ".r",
   "mimetype": "text/x-r-source",
   "name": "R",
   "pygments_lexer": "r",
   "version": "4.0.3"
  }
 },
 "nbformat": 4,
 "nbformat_minor": 5
}
