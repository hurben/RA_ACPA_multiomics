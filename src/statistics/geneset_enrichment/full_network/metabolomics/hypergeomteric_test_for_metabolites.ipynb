{
 "cells": [
  {
   "cell_type": "code",
   "execution_count": 1,
   "id": "joined-budget",
   "metadata": {},
   "outputs": [],
   "source": [
    "#hypergeomteric_test_for_metabolites      14.04.15\n"
   ]
  },
  {
   "cell_type": "code",
   "execution_count": 2,
   "id": "sixth-convenience",
   "metadata": {},
   "outputs": [],
   "source": [
    "calculate_significance <- function(x, k, m, n){\n",
    "\n",
    "#number of sig metabolites in specific pathway: x\n",
    "#number of detected significantly changed metabolites: k\n",
    "#number of metabolites in pathway: m\n",
    "#number of total metabolites in total pathway: n\n",
    "\n",
    "data_matrix <- matrix(c(x, k - x, m - x, n - k - m + x), 2, 2)\n",
    "colnames(data_matrix) <- c(\"Sig\",\"notSig\")\n",
    "rownames(data_matrix) <- c(\"inPathway\",\"notPathway\")\n",
    "    \n",
    "hyper_pval <- phyper(x - 1, k, n - k, m, lower.tail=FALSE)\n",
    "fet_pval <- fisher.test(data_matrix)$p.value\n",
    "                     \n",
    "hyper_pval <- sprintf(hyper_pval, fmt = '%#.4f')\n",
    "fet_pval <- sprintf(fet_pval, fmt = '%#.4f')                \n",
    "                     \n",
    "# if (fet_pval < 0.05){\n",
    "#     print (paste0(\">> hypergeomteric: \", hyper_pval))\n",
    "#     print (paste0(\">> fisher exact test \", fet_pval))\n",
    "#     print (\"----------------------------\")\n",
    "# }\n",
    "# else{\n",
    "#     print (\"not significant\")\n",
    "#     print (\"----------------------------\")\n",
    "    \n",
    "# }\n",
    "\n",
    "return (fet_pval)\n",
    "}"
   ]
  },
  {
   "cell_type": "code",
   "execution_count": 3,
   "id": "honest-executive",
   "metadata": {},
   "outputs": [],
   "source": [
    "file_name = \"../../../../../analysis/full_data/cytoscape/gse/metabolomics.hypergeometric.ready.tsv\"\n",
    "file_df = read.csv(file_name,sep=\"\\t\",header=TRUE)\n",
    "r = dim(file_df)[1]\n",
    "\n",
    "output_txt = \"../../../../../analysis/full_data/cytoscape/gse/metabolomics.hypergeometric.result.tsv\"\n",
    "output_string = 'pathway\\tpvalue\\n'\n",
    "cat(output_string, file=output_txt, append=TRUE)\n",
    "\n",
    "for (k in 1:r){\n",
    "    pathway = file_df[k,1]\n",
    "    m = file_df[k,2]\n",
    "    x = file_df[k,3]\n",
    "    n = file_df[k,4]\n",
    "    k = file_df[k,5]\n",
    "\n",
    "    fet_pval = calculate_significance(x, k, m, n)\n",
    "\n",
    "    output_string = paste(pathway, '\\t', fet_pval, \"\\n\", sep=\"\")\n",
    "    cat(output_string, file=output_txt, append=TRUE)\n",
    "}\n"
   ]
  },
  {
   "cell_type": "code",
   "execution_count": null,
   "id": "regulation-invite",
   "metadata": {},
   "outputs": [],
   "source": []
  }
 ],
 "metadata": {
  "kernelspec": {
   "display_name": "R",
   "language": "R",
   "name": "ir"
  },
  "language_info": {
   "codemirror_mode": "r",
   "file_extension": ".r",
   "mimetype": "text/x-r-source",
   "name": "R",
   "pygments_lexer": "r",
   "version": "4.0.3"
  }
 },
 "nbformat": 4,
 "nbformat_minor": 5
}
