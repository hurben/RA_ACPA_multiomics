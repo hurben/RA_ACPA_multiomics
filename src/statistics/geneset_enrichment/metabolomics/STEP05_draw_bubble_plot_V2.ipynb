{
 "cells": [
  {
   "cell_type": "code",
   "execution_count": 4,
   "id": "a1af97c2-596c-4843-89f8-4c67236cb9ed",
   "metadata": {},
   "outputs": [],
   "source": [
    "#STEP05_draw_bubble_plot_V2.ipynb\n",
    "\n",
    "library(ggplot2)\n",
    "library(dplyr)"
   ]
  },
  {
   "cell_type": "code",
   "execution_count": 5,
   "id": "dc4b8dcf-9f2d-42bf-985b-5dcc5ae62821",
   "metadata": {},
   "outputs": [
    {
     "data": {
      "text/html": [
       "<table class=\"dataframe\">\n",
       "<caption>A data.frame: 6 × 5</caption>\n",
       "<thead>\n",
       "\t<tr><th></th><th scope=col>data_label</th><th scope=col>pathway</th><th scope=col>significance</th><th scope=col>num_sig_met</th><th scope=col>num_met_in_pathway</th></tr>\n",
       "\t<tr><th></th><th scope=col>&lt;chr&gt;</th><th scope=col>&lt;chr&gt;</th><th scope=col>&lt;dbl&gt;</th><th scope=col>&lt;int&gt;</th><th scope=col>&lt;int&gt;</th></tr>\n",
       "</thead>\n",
       "<tbody>\n",
       "\t<tr><th scope=row>1</th><td>1</td><td>[Amino Acid] Tryptophan Metabolism                           </td><td>0.000000</td><td>0</td><td>0</td></tr>\n",
       "\t<tr><th scope=row>2</th><td>1</td><td>[Cofactors and Vitamins] Hemoglobin and Porphyrin Metabolism </td><td>0.000000</td><td>0</td><td>0</td></tr>\n",
       "\t<tr><th scope=row>3</th><td>1</td><td>[Lipid] Fatty Acid Metabolism (Acyl Choline)                 </td><td>0.000000</td><td>0</td><td>0</td></tr>\n",
       "\t<tr><th scope=row>4</th><td>1</td><td>[Lipid] Sphingosines                                         </td><td>1.006715</td><td>1</td><td>3</td></tr>\n",
       "\t<tr><th scope=row>5</th><td>1</td><td>[Amino Acid] Methionine, Cysteine, SAM and Taurine Metabolism</td><td>0.000000</td><td>0</td><td>0</td></tr>\n",
       "\t<tr><th scope=row>6</th><td>1</td><td>[Lipid] Carnitine Metabolism                                 </td><td>0.000000</td><td>0</td><td>0</td></tr>\n",
       "</tbody>\n",
       "</table>\n"
      ],
      "text/latex": [
       "A data.frame: 6 × 5\n",
       "\\begin{tabular}{r|lllll}\n",
       "  & data\\_label & pathway & significance & num\\_sig\\_met & num\\_met\\_in\\_pathway\\\\\n",
       "  & <chr> & <chr> & <dbl> & <int> & <int>\\\\\n",
       "\\hline\n",
       "\t1 & 1 & {[}Amino Acid{]} Tryptophan Metabolism                            & 0.000000 & 0 & 0\\\\\n",
       "\t2 & 1 & {[}Cofactors and Vitamins{]} Hemoglobin and Porphyrin Metabolism  & 0.000000 & 0 & 0\\\\\n",
       "\t3 & 1 & {[}Lipid{]} Fatty Acid Metabolism (Acyl Choline)                  & 0.000000 & 0 & 0\\\\\n",
       "\t4 & 1 & {[}Lipid{]} Sphingosines                                          & 1.006715 & 1 & 3\\\\\n",
       "\t5 & 1 & {[}Amino Acid{]} Methionine, Cysteine, SAM and Taurine Metabolism & 0.000000 & 0 & 0\\\\\n",
       "\t6 & 1 & {[}Lipid{]} Carnitine Metabolism                                  & 0.000000 & 0 & 0\\\\\n",
       "\\end{tabular}\n"
      ],
      "text/markdown": [
       "\n",
       "A data.frame: 6 × 5\n",
       "\n",
       "| <!--/--> | data_label &lt;chr&gt; | pathway &lt;chr&gt; | significance &lt;dbl&gt; | num_sig_met &lt;int&gt; | num_met_in_pathway &lt;int&gt; |\n",
       "|---|---|---|---|---|---|\n",
       "| 1 | 1 | [Amino Acid] Tryptophan Metabolism                            | 0.000000 | 0 | 0 |\n",
       "| 2 | 1 | [Cofactors and Vitamins] Hemoglobin and Porphyrin Metabolism  | 0.000000 | 0 | 0 |\n",
       "| 3 | 1 | [Lipid] Fatty Acid Metabolism (Acyl Choline)                  | 0.000000 | 0 | 0 |\n",
       "| 4 | 1 | [Lipid] Sphingosines                                          | 1.006715 | 1 | 3 |\n",
       "| 5 | 1 | [Amino Acid] Methionine, Cysteine, SAM and Taurine Metabolism | 0.000000 | 0 | 0 |\n",
       "| 6 | 1 | [Lipid] Carnitine Metabolism                                  | 0.000000 | 0 | 0 |\n",
       "\n"
      ],
      "text/plain": [
       "  data_label pathway                                                      \n",
       "1 1          [Amino Acid] Tryptophan Metabolism                           \n",
       "2 1          [Cofactors and Vitamins] Hemoglobin and Porphyrin Metabolism \n",
       "3 1          [Lipid] Fatty Acid Metabolism (Acyl Choline)                 \n",
       "4 1          [Lipid] Sphingosines                                         \n",
       "5 1          [Amino Acid] Methionine, Cysteine, SAM and Taurine Metabolism\n",
       "6 1          [Lipid] Carnitine Metabolism                                 \n",
       "  significance num_sig_met num_met_in_pathway\n",
       "1 0.000000     0           0                 \n",
       "2 0.000000     0           0                 \n",
       "3 0.000000     0           0                 \n",
       "4 1.006715     1           3                 \n",
       "5 0.000000     0           0                 \n",
       "6 0.000000     0           0                 "
      ]
     },
     "metadata": {},
     "output_type": "display_data"
    },
    {
     "data": {
      "text/html": [
       "<strong>pdf:</strong> 2"
      ],
      "text/latex": [
       "\\textbf{pdf:} 2"
      ],
      "text/markdown": [
       "**pdf:** 2"
      ],
      "text/plain": [
       "pdf \n",
       "  2 "
      ]
     },
     "metadata": {},
     "output_type": "display_data"
    }
   ],
   "source": [
    "input_file = \"../../../../analysis/statistics/gse/metabolomics/plot/bubble_plot_ready.tsv\"\n",
    "input_df = read.csv(input_file, sep=\"\\t\")\n",
    "\n",
    "input_df$data_label[input_df$data_label == \"cVSneg_up\"] <- 1\n",
    "input_df$data_label[input_df$data_label == \"cVSneg_down\"] <- 2\n",
    "input_df$data_label[input_df$data_label == \"cVSpos_up\"] <- 3\n",
    "input_df$data_label[input_df$data_label == \"cVSpos_down\"] <- 4\n",
    "\n",
    "head(input_df)\n",
    "\n",
    "metabolite_gse <- input_df %>% ggplot(aes(x=data_label,y=pathway, size=num_sig_met, color=significance)) + \n",
    "            geom_point(alpha=0.8)+\n",
    "            scale_color_gradient2(low=\"royalblue4\", mid=\"seagreen4\", high=\"lightgoldenrod1\", space = \"Lab\", midpoint = 1.30103)\n",
    "\n",
    "output_pdf_label = '../../../../analysis/statistics/gse/metabolomics/plot/metaboloimcs.gse.bubble.pdf'\n",
    "pdf(output_pdf_label)\n",
    "print (metabolite_gse)\n",
    "dev.off()\n"
   ]
  },
  {
   "cell_type": "code",
   "execution_count": 6,
   "id": "1b78722c-4a1d-42a4-8b3a-771c2e55d5a0",
   "metadata": {},
   "outputs": [
    {
     "data": {
      "text/html": [
       "<strong>pdf:</strong> 2"
      ],
      "text/latex": [
       "\\textbf{pdf:} 2"
      ],
      "text/markdown": [
       "**pdf:** 2"
      ],
      "text/plain": [
       "pdf \n",
       "  2 "
      ]
     },
     "metadata": {},
     "output_type": "display_data"
    }
   ],
   "source": [
    "metabolite_gse <- input_df %>%\n",
    "    ggplot(aes(x = data_label, y = pathway, size = num_sig_met, color = significance)) + \n",
    "    geom_point(alpha = 0.8) +\n",
    "    scale_color_gradient2(low = \"royalblue4\", mid = \"seagreen4\", high = \"lightgoldenrod1\", space = \"Lab\", midpoint = 1.30103) + \n",
    "    geom_point(data = subset(input_df, significance > 1.30103 & num_sig_met > 1),\n",
    "               aes(x = data_label, y = pathway),\n",
    "               # size = num_sig_met,\n",
    "               color = \"red\",\n",
    "               fill = \"transparent\",\n",
    "               shape = 1, # Use shape = 1 for a circle\n",
    "               alpha = 0.8)\n",
    "\n",
    "pdf(output_pdf_label)\n",
    "print (metabolite_gse)\n",
    "dev.off()"
   ]
  },
  {
   "cell_type": "code",
   "execution_count": null,
   "id": "f488b344-277d-4bea-9d22-bd0c420241cd",
   "metadata": {},
   "outputs": [],
   "source": []
  }
 ],
 "metadata": {
  "kernelspec": {
   "display_name": "R",
   "language": "R",
   "name": "ir"
  },
  "language_info": {
   "codemirror_mode": "r",
   "file_extension": ".r",
   "mimetype": "text/x-r-source",
   "name": "R",
   "pygments_lexer": "r",
   "version": "4.4.1"
  }
 },
 "nbformat": 4,
 "nbformat_minor": 5
}
