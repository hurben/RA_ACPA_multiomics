{
 "cells": [
  {
   "cell_type": "code",
   "execution_count": 20,
   "id": "center-explanation",
   "metadata": {},
   "outputs": [],
   "source": [
    "#STEP1_PREPROCESS_make_updownDEG      \n",
    "#\n",
    "#this is metabolomic specific.\n",
    "\n",
    "import pandas as pd\n",
    "\n",
    "def main(data_dir, output_dir):\n",
    "    \n",
    "    condition_list = ['cVSneg','cVSpos', \"negVSpos\"]\n",
    "    for condition in condition_list:\n",
    "        up_count = 0\n",
    "        down_count = 0\n",
    "        print (condition)\n",
    "        \n",
    "        data_file = '%s/metabolomics.%s.tsv' % (data_dir, condition)\n",
    "        data_df = pd.read_csv(data_file, sep=\"\\t\", index_col = 0)\n",
    "        \n",
    "        feature_list = data_df.index.values      \n",
    "        r, c = data_df.shape        \n",
    "        output_up_file = '%s/metabolomics.%s.up.tsv' % (output_dir, condition)\n",
    "        output_up_txt = open(output_up_file, 'w')\n",
    "        output_down_file = '%s/metabolomics.%s.down.tsv' % (output_dir, condition)\n",
    "        output_down_txt = open(output_down_file, 'w')\n",
    "        \n",
    "        for i in range(r):\n",
    "            feature = feature_list[i]\n",
    "\n",
    "            log2fc = data_df[\"fc_case_control\"][i]\n",
    "            cohenD = data_df[\"cohenD\"][i]\n",
    "            pval = data_df[\"all_adj_pval\"][i]\n",
    "            \n",
    "            #sanity check: just in case\n",
    "            # if abs(cohenD) >= 0.5 and pval < 0.05:\n",
    "            if pval < 0.05:\n",
    "\n",
    "                if log2fc > 0:\n",
    "                    up_count += 1\n",
    "                    output_up_txt.write('%s\\n' % (feature))                    \n",
    "                if log2fc < 0:\n",
    "                    down_count += 1\n",
    "                    output_down_txt.write('%s\\n' % (feature))\n",
    "\n",
    "        print (\"UP: %s, DOWN: %s\" % (up_count, down_count))\n",
    "        output_up_txt.close()\n",
    "        output_down_txt.close()"
   ]
  },
  {
   "cell_type": "code",
   "execution_count": 21,
   "id": "military-modern",
   "metadata": {},
   "outputs": [
    {
     "name": "stdout",
     "output_type": "stream",
     "text": [
      "cVSneg\n",
      "UP: 36, DOWN: 64\n",
      "cVSpos\n",
      "UP: 10, DOWN: 41\n",
      "negVSpos\n",
      "UP: 9, DOWN: 32\n"
     ]
    }
   ],
   "source": [
    "data_dir = '../../../../analysis/statistics/linear_model/differential_abundance_logit'\n",
    "output_dir = '../../../../analysis/statistics/gse/metabolomics'\n",
    "    \n",
    "main(data_dir, output_dir)\n",
    "    "
   ]
  },
  {
   "cell_type": "code",
   "execution_count": null,
   "id": "faf4b173-e427-4bfc-902e-b40ecb0b51b6",
   "metadata": {},
   "outputs": [],
   "source": []
  }
 ],
 "metadata": {
  "kernelspec": {
   "display_name": "Python 3 (ipykernel)",
   "language": "python",
   "name": "python3"
  },
  "language_info": {
   "codemirror_mode": {
    "name": "ipython",
    "version": 3
   },
   "file_extension": ".py",
   "mimetype": "text/x-python",
   "name": "python",
   "nbconvert_exporter": "python",
   "pygments_lexer": "ipython3",
   "version": "3.11.6"
  }
 },
 "nbformat": 4,
 "nbformat_minor": 5
}
