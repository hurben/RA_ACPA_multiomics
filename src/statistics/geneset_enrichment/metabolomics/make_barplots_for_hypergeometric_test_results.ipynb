{
 "cells": [
  {
   "cell_type": "code",
   "execution_count": 5,
   "id": "artificial-headset",
   "metadata": {},
   "outputs": [],
   "source": [
    "#make_barplots_for_hypergeometric_test_results\n",
    "#\n",
    "#Fetch information from files, then make barplots\n",
    "\n",
    "import pandas as pd\n",
    "import seaborn as sns\n",
    "import matplotlib as mpl \n",
    "import math\n",
    "mpl.rcParams['pdf.fonttype'] = 42"
   ]
  },
  {
   "cell_type": "code",
   "execution_count": 7,
   "id": "manual-habitat",
   "metadata": {},
   "outputs": [
    {
     "name": "stdout",
     "output_type": "stream",
     "text": [
      "../../../../analysis/statistics/gse/metabolomics/metabolomics.cVSneg.up.hypergeometric.result.tsv\n",
      "../../../../analysis/statistics/gse/metabolomics/metabolomics.cVSneg.down.hypergeometric.result.tsv\n",
      "../../../../analysis/statistics/gse/metabolomics/metabolomics.cVSpos.up.hypergeometric.result.tsv\n",
      "../../../../analysis/statistics/gse/metabolomics/metabolomics.cVSpos.down.hypergeometric.result.tsv\n"
     ]
    }
   ],
   "source": [
    "data_dir = '../../../../analysis/statistics/gse/metabolomics'\n",
    "compare_list = ['cVSneg','cVSpos']\n",
    "condition_list = ['up','down']\n",
    "\n",
    "result_df = pd.DataFrame(columns= [\"data_type\", \"pathway\",\"-logpvalue\"])\n",
    "\n",
    "for compare_type in compare_list:\n",
    "    for condition in condition_list:\n",
    "        data_type = '%s_%s' % (compare_type, condition)\n",
    "        \n",
    "        data_file = '%s/metabolomics.%s.%s.hypergeometric.result.tsv' % (data_dir, compare_type, condition)\n",
    "        print (data_file)\n",
    "        data_df = pd.read_csv(data_file, sep=\"\\t\")\n",
    "        r, c = data_df.shape\n",
    "        \n",
    "        for i in range(r):\n",
    "            pathway = data_df[\"pathway\"][i]\n",
    "            pval = float(data_df[\"pvalue\"][i])\n",
    "            if pval < 0.05:\n",
    "                new_pval = -math.log(pval)\n",
    "                result_df = result_df.append({\"data_type\": data_type, \"pathway\": pathway,\"-logpvalue\": new_pval}, ignore_index = True)\n",
    "                \n",
    "#             result_df.sort_values('pathway')\n",
    "            \n",
    "            "
   ]
  },
  {
   "cell_type": "code",
   "execution_count": 8,
   "id": "valid-location",
   "metadata": {},
   "outputs": [
    {
     "data": {
      "text/html": [
       "<div>\n",
       "<style scoped>\n",
       "    .dataframe tbody tr th:only-of-type {\n",
       "        vertical-align: middle;\n",
       "    }\n",
       "\n",
       "    .dataframe tbody tr th {\n",
       "        vertical-align: top;\n",
       "    }\n",
       "\n",
       "    .dataframe thead th {\n",
       "        text-align: right;\n",
       "    }\n",
       "</style>\n",
       "<table border=\"1\" class=\"dataframe\">\n",
       "  <thead>\n",
       "    <tr style=\"text-align: right;\">\n",
       "      <th></th>\n",
       "      <th>data_type</th>\n",
       "      <th>pathway</th>\n",
       "      <th>-logpvalue</th>\n",
       "    </tr>\n",
       "  </thead>\n",
       "  <tbody>\n",
       "    <tr>\n",
       "      <th>3</th>\n",
       "      <td>cVSneg_down</td>\n",
       "      <td>[Amino Acid] Urea cycle; Arginine and Proline ...</td>\n",
       "      <td>4.327538</td>\n",
       "    </tr>\n",
       "    <tr>\n",
       "      <th>9</th>\n",
       "      <td>cVSpos_down</td>\n",
       "      <td>[Amino Acid] Urea cycle; Arginine and Proline ...</td>\n",
       "      <td>4.556380</td>\n",
       "    </tr>\n",
       "    <tr>\n",
       "      <th>0</th>\n",
       "      <td>cVSneg_up</td>\n",
       "      <td>[Carbohydrate] Glycolysis, Gluconeogenesis, an...</td>\n",
       "      <td>5.914504</td>\n",
       "    </tr>\n",
       "    <tr>\n",
       "      <th>4</th>\n",
       "      <td>cVSneg_down</td>\n",
       "      <td>[Lipid] Carnitine Metabolism</td>\n",
       "      <td>3.066155</td>\n",
       "    </tr>\n",
       "    <tr>\n",
       "      <th>6</th>\n",
       "      <td>cVSpos_up</td>\n",
       "      <td>[Lipid] Endocannabinoid</td>\n",
       "      <td>5.599422</td>\n",
       "    </tr>\n",
       "    <tr>\n",
       "      <th>5</th>\n",
       "      <td>cVSpos_up</td>\n",
       "      <td>[Lipid] Short Chain Fatty Acid</td>\n",
       "      <td>4.398156</td>\n",
       "    </tr>\n",
       "    <tr>\n",
       "      <th>2</th>\n",
       "      <td>cVSneg_up</td>\n",
       "      <td>[Lipid] Sphingolipid Synthesis</td>\n",
       "      <td>3.172469</td>\n",
       "    </tr>\n",
       "    <tr>\n",
       "      <th>8</th>\n",
       "      <td>cVSpos_up</td>\n",
       "      <td>[Lipid] Sphingolipid Synthesis</td>\n",
       "      <td>3.315938</td>\n",
       "    </tr>\n",
       "    <tr>\n",
       "      <th>1</th>\n",
       "      <td>cVSneg_up</td>\n",
       "      <td>[Lipid] Sphingosines</td>\n",
       "      <td>3.172469</td>\n",
       "    </tr>\n",
       "    <tr>\n",
       "      <th>7</th>\n",
       "      <td>cVSpos_up</td>\n",
       "      <td>[Lipid] Sphingosines</td>\n",
       "      <td>3.315938</td>\n",
       "    </tr>\n",
       "    <tr>\n",
       "      <th>10</th>\n",
       "      <td>cVSpos_down</td>\n",
       "      <td>[Nucleotide] Pyrimidine Metabolism, Thymine co...</td>\n",
       "      <td>3.148883</td>\n",
       "    </tr>\n",
       "    <tr>\n",
       "      <th>12</th>\n",
       "      <td>cVSpos_down</td>\n",
       "      <td>[Peptide] Modified Peptides</td>\n",
       "      <td>3.830443</td>\n",
       "    </tr>\n",
       "    <tr>\n",
       "      <th>11</th>\n",
       "      <td>cVSpos_down</td>\n",
       "      <td>[Xenobiotics] Chemical</td>\n",
       "      <td>3.989985</td>\n",
       "    </tr>\n",
       "  </tbody>\n",
       "</table>\n",
       "</div>"
      ],
      "text/plain": [
       "      data_type                                            pathway  -logpvalue\n",
       "3   cVSneg_down  [Amino Acid] Urea cycle; Arginine and Proline ...    4.327538\n",
       "9   cVSpos_down  [Amino Acid] Urea cycle; Arginine and Proline ...    4.556380\n",
       "0     cVSneg_up  [Carbohydrate] Glycolysis, Gluconeogenesis, an...    5.914504\n",
       "4   cVSneg_down                       [Lipid] Carnitine Metabolism    3.066155\n",
       "6     cVSpos_up                            [Lipid] Endocannabinoid    5.599422\n",
       "5     cVSpos_up                     [Lipid] Short Chain Fatty Acid    4.398156\n",
       "2     cVSneg_up                     [Lipid] Sphingolipid Synthesis    3.172469\n",
       "8     cVSpos_up                     [Lipid] Sphingolipid Synthesis    3.315938\n",
       "1     cVSneg_up                               [Lipid] Sphingosines    3.172469\n",
       "7     cVSpos_up                               [Lipid] Sphingosines    3.315938\n",
       "10  cVSpos_down  [Nucleotide] Pyrimidine Metabolism, Thymine co...    3.148883\n",
       "12  cVSpos_down                        [Peptide] Modified Peptides    3.830443\n",
       "11  cVSpos_down                             [Xenobiotics] Chemical    3.989985"
      ]
     },
     "execution_count": 8,
     "metadata": {},
     "output_type": "execute_result"
    }
   ],
   "source": [
    "result_df = result_df.sort_values('pathway')\n",
    "result_df"
   ]
  },
  {
   "cell_type": "code",
   "execution_count": 9,
   "id": "color-denial",
   "metadata": {},
   "outputs": [
    {
     "data": {
      "image/png": "[encoded data removed]",
      "text/plain": [
       "<Figure size 432x288 with 1 Axes>"
      ]
     },
     "metadata": {
      "needs_background": "light"
     },
     "output_type": "display_data"
    }
   ],
   "source": [
    "# my_palette = ['#1026a6','#A7C7E7','#841f27', '#FAA0A0']\n",
    "my_palette = ['#A7C7E7', '#FAA0A0', '#1026a6','#841f27']\n",
    "result_plot = sns.barplot(x=\"-logpvalue\", y=\"pathway\", hue=\"data_type\", palette=my_palette, data=result_df)\n",
    "result_plot.axvline(1.30103)\n",
    "output_pdf = \"../../../../analysis/statistics/gse/metabolomics/metabolomics.hypergeometric.results.pdf\"\n",
    "\n",
    "result_plot.figure.savefig(output_pdf)"
   ]
  },
  {
   "cell_type": "code",
   "execution_count": null,
   "id": "characteristic-nursing",
   "metadata": {},
   "outputs": [],
   "source": []
  }
 ],
 "metadata": {
  "kernelspec": {
   "display_name": "Python 3",
   "language": "python",
   "name": "python3"
  },
  "language_info": {
   "codemirror_mode": {
    "name": "ipython",
    "version": 3
   },
   "file_extension": ".py",
   "mimetype": "text/x-python",
   "name": "python",
   "nbconvert_exporter": "python",
   "pygments_lexer": "ipython3",
   "version": "3.9.1"
  }
 },
 "nbformat": 4,
 "nbformat_minor": 5
}
