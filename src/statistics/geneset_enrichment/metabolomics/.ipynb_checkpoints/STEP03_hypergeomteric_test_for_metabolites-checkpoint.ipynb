{
 "cells": [
  {
   "cell_type": "code",
   "execution_count": 36,
   "id": "joined-budget",
   "metadata": {},
   "outputs": [],
   "source": [
    "#hypergeomteric_test_for_metabolites      \n"
   ]
  },
  {
   "cell_type": "code",
   "execution_count": 39,
   "id": "sixth-convenience",
   "metadata": {},
   "outputs": [],
   "source": [
    "calculate_significance <- function(x, k, m, n){\n",
    "\n",
    "#number of sig metabolites in specific pathway: x\n",
    "#number of detected significantly changed metabolites: k\n",
    "#number of metabolites in pathway: m\n",
    "#number of total metabolites in total pathway: n\n",
    "\n",
    "data_matrix <- matrix(c(x, k - x, m - x, n - k - m + x), 2, 2)\n",
    "colnames(data_matrix) <- c(\"Sig\",\"notSig\")\n",
    "rownames(data_matrix) <- c(\"inPathway\",\"notPathway\")\n",
    "    \n",
    "hyper_pval <- phyper(x - 1, k, n - k, m, lower.tail=FALSE)\n",
    "fet_pval <- fisher.test(data_matrix)$p.value\n",
    "                     \n",
    "hyper_pval <- sprintf(hyper_pval, fmt = '%#.4f')\n",
    "fet_pval <- sprintf(fet_pval, fmt = '%#.4f')                \n",
    "\n",
    "\n",
    "return (fet_pval)\n",
    "}\n"
   ]
  },
  {
   "cell_type": "code",
   "execution_count": 42,
   "id": "honest-executive",
   "metadata": {},
   "outputs": [],
   "source": [
    "regulation_list = c(\"up\",\"down\")\n",
    "# condition_list = c(\"cVSra\",\"cVSneg\",\"cVSpos\",\"negVSpos\")\n",
    "condition_list = c(\"cVSneg\",\"cVSpos\")\n",
    "data_dir = \"../../../../analysis/statistics/gse/metabolomics/\"\n",
    "\n",
    "for (i in 1:length(condition_list)){\n",
    "    \n",
    "    condition = condition_list[i]\n",
    "    \n",
    "    for (j in 1:length(regulation_list)){\n",
    "        regulation = regulation_list[j]\n",
    "        \n",
    "        file_name = paste(data_dir, \"metabolomics.\", condition, \".\", regulation,\".hypergeometric.ready.tsv\", sep=\"\")\n",
    "        file_df = read.csv(file_name,sep=\"\\t\",header=TRUE)\n",
    "        r = dim(file_df)[1]\n",
    "        \n",
    "        output_txt = paste(data_dir, \"metabolomics.\", condition, \".\", regulation,\".hypergeometric.result.tsv\", sep=\"\")\n",
    "        \n",
    "        if (file.exists(output_txt)) {#Delete file if it exists\n",
    "            file.remove(output_txt)\n",
    "        }\n",
    "        \n",
    "        output_string = 'pathway\\tpvalue\\tnumber_of_metabolites_in_pathway(m)\\tnumber_of_hits(x)\\tmetabolite_list\\n'        \n",
    "        cat(output_string, file=output_txt, append=TRUE)\n",
    " \n",
    "        for (index in 1:r){\n",
    "            pathway = file_df[index,1]\n",
    "            m = file_df[index,2]\n",
    "            x = file_df[index,3]\n",
    "            n = file_df[index,4]\n",
    "            k = file_df[index,5]\n",
    "            # print (k)\n",
    "            hit_metabolites = file_df[index,6]\n",
    "\n",
    "            fet_pval = calculate_significance(x, k, m, n)       \n",
    "            output_string = paste(pathway, '\\t', fet_pval, \n",
    "                                  '\\t', m, '\\t', x, '\\t', hit_metabolites, \"\\n\", sep=\"\")\n",
    "            cat(output_string, file=output_txt, append=TRUE)\n",
    "        }\n",
    "        # break\n",
    "    }\n",
    "    # break\n",
    "}\n"
   ]
  },
  {
   "cell_type": "code",
   "execution_count": null,
   "id": "e637df85-9d8c-40ab-8f36-d4e9f0fea124",
   "metadata": {},
   "outputs": [],
   "source": []
  }
 ],
 "metadata": {
  "kernelspec": {
   "display_name": "R",
   "language": "R",
   "name": "ir"
  },
  "language_info": {
   "codemirror_mode": "r",
   "file_extension": ".r",
   "mimetype": "text/x-r-source",
   "name": "R",
   "pygments_lexer": "r",
   "version": "4.0.3"
  }
 },
 "nbformat": 4,
 "nbformat_minor": 5
}
