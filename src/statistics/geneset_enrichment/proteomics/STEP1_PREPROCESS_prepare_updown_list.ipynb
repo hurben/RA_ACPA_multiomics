{
 "cells": [
  {
   "cell_type": "code",
   "execution_count": 1,
   "id": "coastal-crash",
   "metadata": {},
   "outputs": [],
   "source": [
    "#PREPROCESS_prepare_updown_list     \n",
    "#\n",
    "#this is specifically designed to split up/down regulated proteins from differentially abundance analysis\n",
    "#why? proteins from SomaScan have duplicated genesymbols (although they are different isoforms) this will cause problem while drawing venn diagram\n",
    "#"
   ]
  },
  {
   "cell_type": "code",
   "execution_count": 2,
   "id": "detailed-ballot",
   "metadata": {},
   "outputs": [],
   "source": [
    "import pandas as pd\n",
    "\n",
    "def main(data_dir, output_dir):\n",
    "    condition_list = ['cVSneg','cVSpos','negVSpos']\n",
    "    output_type_list = ['barcode','nobarcode']\n",
    "    \n",
    "    for condition in condition_list:\n",
    "        data_file = '%s/proteomics.%s.tsv' % (data_dir, condition)        \n",
    "        data_df = pd.read_csv(data_file, sep=\"\\t\", index_col = 0)\n",
    "        r, c = data_df.shape\n",
    "    \n",
    "        feature_list = data_df.index.values\n",
    "        \n",
    "        for output_type in output_type_list:\n",
    "            if output_type == 'nobarcode':\n",
    "                output_alpha_file = '%s/proteomics.diff.%s.up.tsv' % (output_dir, condition)  \n",
    "                output_beta_file = '%s/proteomics.diff.%s.down.tsv' % (output_dir, condition)\n",
    "    \n",
    "            else:\n",
    "                output_alpha_file = '%s/proteomics.diff.%s.up.barcode.tsv' % (output_dir, condition)  \n",
    "                output_beta_file = '%s/proteomics.diff.%s.down.barcode.tsv' % (output_dir, condition)\n",
    "            output_alpha_txt = open(output_alpha_file,'w')\n",
    "            output_beta_txt = open(output_beta_file,'w')\n",
    "            print (output_alpha_file)\n",
    "            for i in range(r):\n",
    "                feature = feature_list[i]\n",
    "                cohenD = float(data_df['cohenD'][i])\n",
    "                log2fc = float(data_df['fc_case_control'][i])\n",
    "                pval = float(data_df['all_adj_pval'][i])\n",
    "\n",
    "                if pval < 0.05 and abs(cohenD) > 0.2:\n",
    "            \n",
    "                    if output_type == \"nobarcode\":\n",
    "                        feature = feature.split('_')[0]\n",
    "                    else:\n",
    "                        None\n",
    "         \n",
    "                    if log2fc > 0:\n",
    "                        output_alpha_txt.write('%s\\n' % feature)\n",
    "                        \n",
    "                    if log2fc < 0:\n",
    "                        output_beta_txt.write('%s\\n' % feature)\n",
    "                                \n",
    "            output_alpha_txt.close()\n",
    "            output_beta_txt.close()"
   ]
  },
  {
   "cell_type": "code",
   "execution_count": 3,
   "id": "approximate-procedure",
   "metadata": {},
   "outputs": [
    {
     "name": "stdout",
     "output_type": "stream",
     "text": [
      "../../../../analysis/statistics/gse/proteomics/proteomics.diff.cVSneg.up.barcode.tsv\n",
      "../../../../analysis/statistics/gse/proteomics/proteomics.diff.cVSneg.up.tsv\n"
     ]
    },
    {
     "name": "stderr",
     "output_type": "stream",
     "text": [
      "/var/folders/7g/bxl6lwtx2z1dztdmxklgjd100000gr/T/ipykernel_47897/3062865500.py:27: FutureWarning: Series.__getitem__ treating keys as positions is deprecated. In a future version, integer keys will always be treated as labels (consistent with DataFrame behavior). To access a value by position, use `ser.iloc[pos]`\n",
      "  cohenD = float(data_df['cohenD'][i])\n",
      "/var/folders/7g/bxl6lwtx2z1dztdmxklgjd100000gr/T/ipykernel_47897/3062865500.py:28: FutureWarning: Series.__getitem__ treating keys as positions is deprecated. In a future version, integer keys will always be treated as labels (consistent with DataFrame behavior). To access a value by position, use `ser.iloc[pos]`\n",
      "  log2fc = float(data_df['fc_case_control'][i])\n",
      "/var/folders/7g/bxl6lwtx2z1dztdmxklgjd100000gr/T/ipykernel_47897/3062865500.py:29: FutureWarning: Series.__getitem__ treating keys as positions is deprecated. In a future version, integer keys will always be treated as labels (consistent with DataFrame behavior). To access a value by position, use `ser.iloc[pos]`\n",
      "  pval = float(data_df['all_adj_pval'][i])\n"
     ]
    },
    {
     "name": "stdout",
     "output_type": "stream",
     "text": [
      "../../../../analysis/statistics/gse/proteomics/proteomics.diff.cVSpos.up.barcode.tsv\n",
      "../../../../analysis/statistics/gse/proteomics/proteomics.diff.cVSpos.up.tsv\n"
     ]
    },
    {
     "name": "stderr",
     "output_type": "stream",
     "text": [
      "/var/folders/7g/bxl6lwtx2z1dztdmxklgjd100000gr/T/ipykernel_47897/3062865500.py:27: FutureWarning: Series.__getitem__ treating keys as positions is deprecated. In a future version, integer keys will always be treated as labels (consistent with DataFrame behavior). To access a value by position, use `ser.iloc[pos]`\n",
      "  cohenD = float(data_df['cohenD'][i])\n",
      "/var/folders/7g/bxl6lwtx2z1dztdmxklgjd100000gr/T/ipykernel_47897/3062865500.py:28: FutureWarning: Series.__getitem__ treating keys as positions is deprecated. In a future version, integer keys will always be treated as labels (consistent with DataFrame behavior). To access a value by position, use `ser.iloc[pos]`\n",
      "  log2fc = float(data_df['fc_case_control'][i])\n",
      "/var/folders/7g/bxl6lwtx2z1dztdmxklgjd100000gr/T/ipykernel_47897/3062865500.py:29: FutureWarning: Series.__getitem__ treating keys as positions is deprecated. In a future version, integer keys will always be treated as labels (consistent with DataFrame behavior). To access a value by position, use `ser.iloc[pos]`\n",
      "  pval = float(data_df['all_adj_pval'][i])\n"
     ]
    },
    {
     "name": "stdout",
     "output_type": "stream",
     "text": [
      "../../../../analysis/statistics/gse/proteomics/proteomics.diff.negVSpos.up.barcode.tsv\n",
      "../../../../analysis/statistics/gse/proteomics/proteomics.diff.negVSpos.up.tsv\n"
     ]
    },
    {
     "name": "stderr",
     "output_type": "stream",
     "text": [
      "/var/folders/7g/bxl6lwtx2z1dztdmxklgjd100000gr/T/ipykernel_47897/3062865500.py:27: FutureWarning: Series.__getitem__ treating keys as positions is deprecated. In a future version, integer keys will always be treated as labels (consistent with DataFrame behavior). To access a value by position, use `ser.iloc[pos]`\n",
      "  cohenD = float(data_df['cohenD'][i])\n",
      "/var/folders/7g/bxl6lwtx2z1dztdmxklgjd100000gr/T/ipykernel_47897/3062865500.py:28: FutureWarning: Series.__getitem__ treating keys as positions is deprecated. In a future version, integer keys will always be treated as labels (consistent with DataFrame behavior). To access a value by position, use `ser.iloc[pos]`\n",
      "  log2fc = float(data_df['fc_case_control'][i])\n",
      "/var/folders/7g/bxl6lwtx2z1dztdmxklgjd100000gr/T/ipykernel_47897/3062865500.py:29: FutureWarning: Series.__getitem__ treating keys as positions is deprecated. In a future version, integer keys will always be treated as labels (consistent with DataFrame behavior). To access a value by position, use `ser.iloc[pos]`\n",
      "  pval = float(data_df['all_adj_pval'][i])\n"
     ]
    }
   ],
   "source": [
    "data_dir = '../../../../analysis/statistics/linear_model/differential_abundance_logit'\n",
    "output_dir = '../../../../analysis/statistics/gse/proteomics'\n",
    "    \n",
    "main(data_dir, output_dir)"
   ]
  },
  {
   "cell_type": "code",
   "execution_count": null,
   "id": "f30bf4b6-150c-40f4-b9ab-a96c1eae3871",
   "metadata": {},
   "outputs": [],
   "source": []
  },
  {
   "cell_type": "code",
   "execution_count": null,
   "id": "2aaf5a66-64b5-48ba-b8d4-458b63ee3c62",
   "metadata": {},
   "outputs": [],
   "source": []
  }
 ],
 "metadata": {
  "kernelspec": {
   "display_name": "Python 3 (ipykernel)",
   "language": "python",
   "name": "python3"
  },
  "language_info": {
   "codemirror_mode": {
    "name": "ipython",
    "version": 3
   },
   "file_extension": ".py",
   "mimetype": "text/x-python",
   "name": "python",
   "nbconvert_exporter": "python",
   "pygments_lexer": "ipython3",
   "version": "3.12.4"
  }
 },
 "nbformat": 4,
 "nbformat_minor": 5
}
