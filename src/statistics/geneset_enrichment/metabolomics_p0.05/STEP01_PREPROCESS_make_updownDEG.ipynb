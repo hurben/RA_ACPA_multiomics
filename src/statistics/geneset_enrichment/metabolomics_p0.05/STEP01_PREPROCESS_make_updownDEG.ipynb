{
 "cells": [
  {
   "cell_type": "code",
   "execution_count": 32,
   "id": "center-explanation",
   "metadata": {},
   "outputs": [],
   "source": [
    "#PREPROCESS_make_updownDEG      \n",
    "#\n",
    "#this is metabolomic specific.\n",
    "#designed input: [omics].[compairson].padj.v2.med.tsv\n",
    "#output: gene list that is ready for GSEA.\n",
    "\n",
    "import pandas as pd"
   ]
  },
  {
   "cell_type": "code",
   "execution_count": 35,
   "id": "photographic-spotlight",
   "metadata": {},
   "outputs": [],
   "source": [
    "input_dir = '../../../../analysis/statistics/linear_model/differential_abundance_v2'\n",
    "output_dir = '../../../../analysis/statistics/gse/metabolomics_p0.05'\n",
    "\n",
    "omics_list = ['metabolomics']\n",
    "condition_list = ['cVSneg','cVSpos']\n",
    "\n",
    "for omics in omics_list:\n",
    "    for condition in condition_list:\n",
    "        data_file = '%s/%s.%s.padj.v2.tsv' % (input_dir, omics, condition)\n",
    "        data_df = pd.read_csv(data_file, sep=\"\\t\", index_col=0)\n",
    "        \n",
    "        feature_list = data_df.index.values      \n",
    "        r, c = data_df.shape        \n",
    "        \n",
    "        output_up_file = '%s/%s.%s.up.tsv' % (output_dir, omics, condition)\n",
    "        output_up_txt = open(output_up_file, 'w')\n",
    "        output_down_file = '%s/%s.%s.down.tsv' % (output_dir, omics, condition)\n",
    "        output_down_txt = open(output_down_file, 'w')\n",
    "        \n",
    "        for i in range(r):\n",
    "            feature = feature_list[i]\n",
    "\n",
    "            cohenD = data_df[\"cohenD\"][i]\n",
    "            pval = data_df[\"pval\"][i]\n",
    "            log2fc = data_df[\"fc_case_control\"][i]\n",
    "            \n",
    "            #sanity check: just in case\n",
    "            # if abs(cohenD) >= 0.5 and pval < 0.01:\n",
    "            if pval < 0.05:\n",
    "                if log2fc > 0:\n",
    "                    output_up_txt.write('%s\\n' % (feature))                    \n",
    "                if log2fc < 0:\n",
    "                    output_down_txt.write('%s\\n' % (feature))\n",
    "        \n",
    "        output_up_txt.close()\n",
    "        output_down_txt.close()"
   ]
  },
  {
   "cell_type": "code",
   "execution_count": null,
   "id": "military-modern",
   "metadata": {},
   "outputs": [],
   "source": []
  }
 ],
 "metadata": {
  "kernelspec": {
   "display_name": "Python 3",
   "language": "python",
   "name": "python3"
  },
  "language_info": {
   "codemirror_mode": {
    "name": "ipython",
    "version": 3
   },
   "file_extension": ".py",
   "mimetype": "text/x-python",
   "name": "python",
   "nbconvert_exporter": "python",
   "pygments_lexer": "ipython3",
   "version": "3.9.1"
  }
 },
 "nbformat": 4,
 "nbformat_minor": 5
}
