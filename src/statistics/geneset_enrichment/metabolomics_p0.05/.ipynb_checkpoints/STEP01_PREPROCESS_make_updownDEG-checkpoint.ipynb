{
 "cells": [
  {
   "cell_type": "code",
   "execution_count": 7,
   "id": "center-explanation",
   "metadata": {},
   "outputs": [],
   "source": [
    "#STEP1_PREPROCESS_make_updownDEG      \n",
    "#\n",
    "#this is metabolomic specific.\n",
    "\n",
    "import pandas as pd\n",
    "\n",
    "def main(data_dir, output_dir):\n",
    "    \n",
    "    condition_list = ['cVSneg','cVSpos', \"negVSpos\"]\n",
    "    for condition in condition_list:\n",
    "        \n",
    "        data_file = '%s/metabolomics.%s.sig.tsv' % (data_dir, condition)\n",
    "        data_df = pd.read_csv(data_file, sep=\"\\t\", index_col = 0)\n",
    "        \n",
    "        feature_list = data_df.index.values      \n",
    "        r, c = data_df.shape        \n",
    "        output_up_file = '%s/metabolomics.%s.up.tsv' % (output_dir, condition)\n",
    "        output_up_txt = open(output_up_file, 'w')\n",
    "        output_down_file = '%s/metabolomics.%s.down.tsv' % (output_dir, condition)\n",
    "        output_down_txt = open(output_down_file, 'w')\n",
    "        \n",
    "        for i in range(r):\n",
    "            feature = feature_list[i]\n",
    "\n",
    "            log2fc = data_df[\"fc_case_control\"][i]\n",
    "            \n",
    "            #sanity check: just in case\n",
    "            # if abs(cohenD) >= 0.5 and pval < 0.01:\n",
    "\n",
    "            if log2fc > 0:\n",
    "                output_up_txt.write('%s\\n' % (feature))                    \n",
    "            if log2fc < 0:\n",
    "                output_down_txt.write('%s\\n' % (feature))\n",
    "        \n",
    "        output_up_txt.close()\n",
    "        output_down_txt.close()"
   ]
  },
  {
   "cell_type": "code",
   "execution_count": 8,
   "id": "military-modern",
   "metadata": {},
   "outputs": [],
   "source": [
    "data_dir = '../../../../analysis/statistics/linear_model/differential_abundance'\n",
    "output_dir = '../../../../analysis/statistics/gse/metabolomics_p0.05'\n",
    "    \n",
    "main(data_dir, output_dir)\n",
    "    "
   ]
  },
  {
   "cell_type": "code",
   "execution_count": null,
   "id": "faf4b173-e427-4bfc-902e-b40ecb0b51b6",
   "metadata": {},
   "outputs": [],
   "source": []
  }
 ],
 "metadata": {
  "kernelspec": {
   "display_name": "Python 3 (ipykernel)",
   "language": "python",
   "name": "python3"
  },
  "language_info": {
   "codemirror_mode": {
    "name": "ipython",
    "version": 3
   },
   "file_extension": ".py",
   "mimetype": "text/x-python",
   "name": "python",
   "nbconvert_exporter": "python",
   "pygments_lexer": "ipython3",
   "version": "3.11.4"
  }
 },
 "nbformat": 4,
 "nbformat_minor": 5
}
