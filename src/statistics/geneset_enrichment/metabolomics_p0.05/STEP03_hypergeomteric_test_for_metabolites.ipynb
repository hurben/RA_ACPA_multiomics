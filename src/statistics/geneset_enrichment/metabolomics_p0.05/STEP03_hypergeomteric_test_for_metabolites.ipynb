{
 "cells": [
  {
   "cell_type": "code",
   "execution_count": 1,
   "id": "joined-budget",
   "metadata": {},
   "outputs": [],
   "source": [
    "#hypergeomteric_test_for_metabolites      \n"
   ]
  },
  {
   "cell_type": "code",
   "execution_count": 2,
   "id": "sixth-convenience",
   "metadata": {},
   "outputs": [],
   "source": [
    "calculate_significance <- function(x, k, m, n){\n",
    "\n",
    "#number of sig metabolites in specific pathway: x\n",
    "#number of detected significantly changed metabolites: k\n",
    "#number of metabolites in pathway: m\n",
    "#number of total metabolites in total pathway: n\n",
    "\n",
    "data_matrix <- matrix(c(x, k - x, m - x, n - k - m + x), 2, 2)\n",
    "colnames(data_matrix) <- c(\"Sig\",\"notSig\")\n",
    "rownames(data_matrix) <- c(\"inPathway\",\"notPathway\")\n",
    "    \n",
    "hyper_pval <- phyper(x - 1, k, n - k, m, lower.tail=FALSE)\n",
    "fet_pval <- fisher.test(data_matrix)$p.value\n",
    "                     \n",
    "hyper_pval <- sprintf(hyper_pval, fmt = '%#.4f')\n",
    "fet_pval <- sprintf(fet_pval, fmt = '%#.4f')                \n",
    "\n",
    "# print (data_matrix)\n",
    "#     print (paste0(x,\",\",k,\",\",n,\",\",m))\n",
    "#     if (fet_pval < 0.05){\n",
    "#         print (paste0(\">> hypergeomteric: \", hyper_pval))\n",
    "#         print (paste0(\">> fisher exact test \", fet_pval))\n",
    "#         print (\"----------------------------\")\n",
    "#     }\n",
    "#     else{\n",
    "#         print (\"not significant\")\n",
    "#         print (\"----------------------------\")\n",
    "\n",
    "#     }\n",
    "\n",
    "return (fet_pval)\n",
    "}\n"
   ]
  },
  {
   "cell_type": "code",
   "execution_count": 23,
   "id": "honest-executive",
   "metadata": {},
   "outputs": [],
   "source": [
    "regulation_list = c(\"up\",\"down\")\n",
    "# condition_list = c(\"cVSra\",\"cVSneg\",\"cVSpos\",\"negVSpos\")\n",
    "condition_list = c(\"cVSneg\",\"cVSpos\")\n",
    "data_dir = \"../../../../analysis/statistics/gse/metabolomics_p0.05/\"\n",
    "\n",
    "for (i in 1:length(condition_list)){\n",
    "    \n",
    "    condition = condition_list[i]\n",
    "    \n",
    "    for (j in 1:length(regulation_list)){\n",
    "        regulation = regulation_list[j]\n",
    "        \n",
    "        file_name = paste(data_dir, \"metabolomics.\", condition, \".\", regulation,\".hypergeometric.ready.tsv\", sep=\"\")\n",
    "        file_df = read.csv(file_name,sep=\"\\t\",header=TRUE)\n",
    "        r = dim(file_df)[1]\n",
    "        \n",
    "        output_txt = paste(data_dir, \"metabolomics.\", condition, \".\", regulation,\".hypergeometric.result.tsv\", sep=\"\")\n",
    "        \n",
    "        if (file.exists(output_txt)) {#Delete file if it exists\n",
    "            file.remove(output_txt)\n",
    "        }\n",
    "        \n",
    "        output_string = 'pathway\\tpvalue\\tnumber_of_metabolites_in_pathway(m)\\tnumber_of_hits(x)\\tmetabolite_list\\n'        \n",
    "        cat(output_string, file=output_txt, append=TRUE)\n",
    " \n",
    "        for (index in 1:r){\n",
    "            pathway = file_df[index,1]\n",
    "            m = file_df[index,2]\n",
    "            x = file_df[index,3]\n",
    "            n = file_df[index,4]\n",
    "            k = file_df[index,5]\n",
    "            # print (k)\n",
    "            hit_metabolites = file_df[index,6]\n",
    "\n",
    "            fet_pval = calculate_significance(x, k, m, n)       \n",
    "            output_string = paste(pathway, '\\t', fet_pval, \n",
    "                                  '\\t', m, '\\t', x, '\\t', hit_metabolites, \"\\n\", sep=\"\")\n",
    "            cat(output_string, file=output_txt, append=TRUE)\n",
    "        }\n",
    "        # break\n",
    "    }\n",
    "    # break\n",
    "}\n"
   ]
  },
  {
   "cell_type": "code",
   "execution_count": null,
   "id": "regulation-invite",
   "metadata": {},
   "outputs": [],
   "source": []
  },
  {
   "cell_type": "code",
   "execution_count": 4,
   "id": "2ea4dcf0-05aa-4fac-b5d3-15c5a9570ec2",
   "metadata": {},
   "outputs": [
    {
     "data": {
      "text/html": [
       "'0.1002'"
      ],
      "text/latex": [
       "'0.1002'"
      ],
      "text/markdown": [
       "'0.1002'"
      ],
      "text/plain": [
       "[1] \"0.1002\""
      ]
     },
     "metadata": {},
     "output_type": "display_data"
    }
   ],
   "source": [
    "calculate_significance(10,200,30,1000)\n",
    "x = 10\n",
    "k = 200\n",
    "m = 30\n",
    "n = 1000\n",
    "# (x, k, m, n)\n",
    "#number of sig metabolites in specific pathway: x\n",
    "#number of detected significantly changed metabolites: k\n",
    "#number of metabolites in pathway: m\n",
    "#number of total metabolites in total pathway: n"
   ]
  },
  {
   "cell_type": "code",
   "execution_count": 14,
   "id": "6dcc60bb-8cbb-4eb0-a5c4-38338846ed73",
   "metadata": {},
   "outputs": [
    {
     "data": {
      "text/html": [
       "<table class=\"dataframe\">\n",
       "<caption>A matrix: 2 × 2 of type dbl</caption>\n",
       "<tbody>\n",
       "\t<tr><td> 10</td><td> 20</td></tr>\n",
       "\t<tr><td>190</td><td>780</td></tr>\n",
       "</tbody>\n",
       "</table>\n"
      ],
      "text/latex": [
       "A matrix: 2 × 2 of type dbl\n",
       "\\begin{tabular}{ll}\n",
       "\t  10 &  20\\\\\n",
       "\t 190 & 780\\\\\n",
       "\\end{tabular}\n"
      ],
      "text/markdown": [
       "\n",
       "A matrix: 2 × 2 of type dbl\n",
       "\n",
       "|  10 |  20 |\n",
       "| 190 | 780 |\n",
       "\n"
      ],
      "text/plain": [
       "     [,1] [,2]\n",
       "[1,]  10   20 \n",
       "[2,] 190  780 "
      ]
     },
     "metadata": {},
     "output_type": "display_data"
    }
   ],
   "source": [
    "x = 10\n",
    "k = 200\n",
    "m = 30\n",
    "n = 1000\n",
    "# (x, k, m, n)\n",
    "data_matrix <- matrix(c(x, k - x, m - x, n - k - m + x), 2, 2)\n",
    "data_matrix"
   ]
  },
  {
   "cell_type": "code",
   "execution_count": 13,
   "id": "01417804-1997-4805-86a9-b83cb44ae7b7",
   "metadata": {},
   "outputs": [
    {
     "data": {
      "text/plain": [
       "\n",
       "\tFisher's Exact Test for Count Data\n",
       "\n",
       "data:  data_matrix\n",
       "p-value = 0.003781\n",
       "alternative hypothesis: true odds ratio is not equal to 1\n",
       "95 percent confidence interval:\n",
       " 1.384231 7.669646\n",
       "sample estimates:\n",
       "odds ratio \n",
       "  3.364484 \n"
      ]
     },
     "metadata": {},
     "output_type": "display_data"
    }
   ],
   "source": [
    "fisher.test(data_matrix)"
   ]
  },
  {
   "cell_type": "code",
   "execution_count": 15,
   "id": "58f22654-bf42-43b0-b1fa-dd6da778e28b",
   "metadata": {},
   "outputs": [
    {
     "data": {
      "text/html": [
       "0.941774563558407"
      ],
      "text/latex": [
       "0.941774563558407"
      ],
      "text/markdown": [
       "0.941774563558407"
      ],
      "text/plain": [
       "[1] 0.9417746"
      ]
     },
     "metadata": {},
     "output_type": "display_data"
    }
   ],
   "source": [
    "phyper(x - 1, k, n - k, m, lower.tail=TRUE)"
   ]
  },
  {
   "cell_type": "code",
   "execution_count": null,
   "id": "4096b99b-ad11-4c91-b8a8-fa45161291c3",
   "metadata": {},
   "outputs": [],
   "source": [
    "10, 200, 800"
   ]
  }
 ],
 "metadata": {
  "kernelspec": {
   "display_name": "R",
   "language": "R",
   "name": "ir"
  },
  "language_info": {
   "codemirror_mode": "r",
   "file_extension": ".r",
   "mimetype": "text/x-r-source",
   "name": "R",
   "pygments_lexer": "r",
   "version": "4.0.3"
  }
 },
 "nbformat": 4,
 "nbformat_minor": 5
}
