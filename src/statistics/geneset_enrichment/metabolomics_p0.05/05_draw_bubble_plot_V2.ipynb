{
 "cells": [
  {
   "cell_type": "code",
   "execution_count": 1,
   "id": "a1af97c2-596c-4843-89f8-4c67236cb9ed",
   "metadata": {},
   "outputs": [
    {
     "name": "stderr",
     "output_type": "stream",
     "text": [
      "\n",
      "Attaching package: ‘dplyr’\n",
      "\n",
      "\n",
      "The following objects are masked from ‘package:stats’:\n",
      "\n",
      "    filter, lag\n",
      "\n",
      "\n",
      "The following objects are masked from ‘package:base’:\n",
      "\n",
      "    intersect, setdiff, setequal, union\n",
      "\n",
      "\n"
     ]
    },
    {
     "ename": "ERROR",
     "evalue": "Error in library(tidyverse): there is no package called ‘tidyverse’\n",
     "output_type": "error",
     "traceback": [
      "Error in library(tidyverse): there is no package called ‘tidyverse’\nTraceback:\n",
      "1. library(tidyverse)"
     ]
    }
   ],
   "source": [
    "library(ggplot2)\n",
    "library(dplyr)\n",
    "library(tidyverse)\n",
    "library(plotly)"
   ]
  },
  {
   "cell_type": "code",
   "execution_count": 2,
   "id": "dc4b8dcf-9f2d-42bf-985b-5dcc5ae62821",
   "metadata": {},
   "outputs": [
    {
     "data": {
      "text/html": [
       "<table class=\"dataframe\">\n",
       "<caption>A data.frame: 6 × 5</caption>\n",
       "<thead>\n",
       "\t<tr><th></th><th scope=col>data_label</th><th scope=col>pathway</th><th scope=col>significance</th><th scope=col>num_sig_met</th><th scope=col>num_met_in_pathway</th></tr>\n",
       "\t<tr><th></th><th scope=col>&lt;chr&gt;</th><th scope=col>&lt;chr&gt;</th><th scope=col>&lt;dbl&gt;</th><th scope=col>&lt;int&gt;</th><th scope=col>&lt;int&gt;</th></tr>\n",
       "</thead>\n",
       "<tbody>\n",
       "\t<tr><th scope=row>1</th><td>1</td><td>[Nucleotide] Pyrimidine Metabolism, Cytidine containing            </td><td>0.000000</td><td>0</td><td>0</td></tr>\n",
       "\t<tr><th scope=row>2</th><td>1</td><td>[Lipid] Endocannabinoid                                            </td><td>1.607303</td><td>2</td><td>8</td></tr>\n",
       "\t<tr><th scope=row>3</th><td>1</td><td>[Lipid] Sphingosines                                               </td><td>2.537602</td><td>2</td><td>3</td></tr>\n",
       "\t<tr><th scope=row>4</th><td>1</td><td>[Carbohydrate] Glycolysis, Gluconeogenesis, and Pyruvate Metabolism</td><td>1.860121</td><td>2</td><td>6</td></tr>\n",
       "\t<tr><th scope=row>5</th><td>1</td><td>[Lipid] Carnitine Metabolism                                       </td><td>0.000000</td><td>0</td><td>0</td></tr>\n",
       "\t<tr><th scope=row>6</th><td>1</td><td>[Lipid] Ceramides                                                  </td><td>1.505845</td><td>2</td><td>9</td></tr>\n",
       "</tbody>\n",
       "</table>\n"
      ],
      "text/latex": [
       "A data.frame: 6 × 5\n",
       "\\begin{tabular}{r|lllll}\n",
       "  & data\\_label & pathway & significance & num\\_sig\\_met & num\\_met\\_in\\_pathway\\\\\n",
       "  & <chr> & <chr> & <dbl> & <int> & <int>\\\\\n",
       "\\hline\n",
       "\t1 & 1 & {[}Nucleotide{]} Pyrimidine Metabolism, Cytidine containing             & 0.000000 & 0 & 0\\\\\n",
       "\t2 & 1 & {[}Lipid{]} Endocannabinoid                                             & 1.607303 & 2 & 8\\\\\n",
       "\t3 & 1 & {[}Lipid{]} Sphingosines                                                & 2.537602 & 2 & 3\\\\\n",
       "\t4 & 1 & {[}Carbohydrate{]} Glycolysis, Gluconeogenesis, and Pyruvate Metabolism & 1.860121 & 2 & 6\\\\\n",
       "\t5 & 1 & {[}Lipid{]} Carnitine Metabolism                                        & 0.000000 & 0 & 0\\\\\n",
       "\t6 & 1 & {[}Lipid{]} Ceramides                                                   & 1.505845 & 2 & 9\\\\\n",
       "\\end{tabular}\n"
      ],
      "text/markdown": [
       "\n",
       "A data.frame: 6 × 5\n",
       "\n",
       "| <!--/--> | data_label &lt;chr&gt; | pathway &lt;chr&gt; | significance &lt;dbl&gt; | num_sig_met &lt;int&gt; | num_met_in_pathway &lt;int&gt; |\n",
       "|---|---|---|---|---|---|\n",
       "| 1 | 1 | [Nucleotide] Pyrimidine Metabolism, Cytidine containing             | 0.000000 | 0 | 0 |\n",
       "| 2 | 1 | [Lipid] Endocannabinoid                                             | 1.607303 | 2 | 8 |\n",
       "| 3 | 1 | [Lipid] Sphingosines                                                | 2.537602 | 2 | 3 |\n",
       "| 4 | 1 | [Carbohydrate] Glycolysis, Gluconeogenesis, and Pyruvate Metabolism | 1.860121 | 2 | 6 |\n",
       "| 5 | 1 | [Lipid] Carnitine Metabolism                                        | 0.000000 | 0 | 0 |\n",
       "| 6 | 1 | [Lipid] Ceramides                                                   | 1.505845 | 2 | 9 |\n",
       "\n"
      ],
      "text/plain": [
       "  data_label\n",
       "1 1         \n",
       "2 1         \n",
       "3 1         \n",
       "4 1         \n",
       "5 1         \n",
       "6 1         \n",
       "  pathway                                                            \n",
       "1 [Nucleotide] Pyrimidine Metabolism, Cytidine containing            \n",
       "2 [Lipid] Endocannabinoid                                            \n",
       "3 [Lipid] Sphingosines                                               \n",
       "4 [Carbohydrate] Glycolysis, Gluconeogenesis, and Pyruvate Metabolism\n",
       "5 [Lipid] Carnitine Metabolism                                       \n",
       "6 [Lipid] Ceramides                                                  \n",
       "  significance num_sig_met num_met_in_pathway\n",
       "1 0.000000     0           0                 \n",
       "2 1.607303     2           8                 \n",
       "3 2.537602     2           3                 \n",
       "4 1.860121     2           6                 \n",
       "5 0.000000     0           0                 \n",
       "6 1.505845     2           9                 "
      ]
     },
     "metadata": {},
     "output_type": "display_data"
    }
   ],
   "source": [
    "input_file = \"../../../../analysis/statistics/gse/metabolomics_p0.05/plot/bubble_plot_ready.tsv\"\n",
    "input_df = read.csv(input_file, sep=\"\\t\")\n",
    "\n",
    "input_df$data_label[input_df$data_label == \"cVSneg_up\"] <- 1\n",
    "input_df$data_label[input_df$data_label == \"cVSneg_down\"] <- 2\n",
    "input_df$data_label[input_df$data_label == \"cVSpos_up\"] <- 3\n",
    "input_df$data_label[input_df$data_label == \"cVSpos_down\"] <- 4\n",
    "\n",
    "head(input_df)"
   ]
  },
  {
   "cell_type": "code",
   "execution_count": 3,
   "id": "22582c81-5487-40c0-8443-adc68dbb798c",
   "metadata": {},
   "outputs": [
    {
     "data": {
      "text/html": [
       "<strong>pdf:</strong> 2"
      ],
      "text/latex": [
       "\\textbf{pdf:} 2"
      ],
      "text/markdown": [
       "**pdf:** 2"
      ],
      "text/plain": [
       "pdf \n",
       "  2 "
      ]
     },
     "metadata": {},
     "output_type": "display_data"
    }
   ],
   "source": [
    "metabolite_gse <- input_df %>% ggplot(aes(x=data_label,y=pathway, size=num_sig_met, color=significance)) + \n",
    "            geom_point(alpha=0.8)+\n",
    "            # scale_color_gradient(low=\"midnightblue\", high=\"red4\")\n",
    "            scale_color_gradient2(low=\"royalblue4\", mid=\"seagreen4\", high=\"lightgoldenrod1\", space = \"Lab\", midpoint = 1.30103)\n",
    "\n",
    "output_pdf_label = '../../../../analysis/statistics/gse/metabolomics_p0.05/plot/metaboloimcs.gse.bubble.pdf'\n",
    "pdf(output_pdf_label)\n",
    "print (metabolite_gse)\n",
    "dev.off()\n"
   ]
  },
  {
   "cell_type": "code",
   "execution_count": null,
   "id": "1b78722c-4a1d-42a4-8b3a-771c2e55d5a0",
   "metadata": {},
   "outputs": [],
   "source": []
  }
 ],
 "metadata": {
  "kernelspec": {
   "display_name": "R",
   "language": "R",
   "name": "ir"
  },
  "language_info": {
   "codemirror_mode": "r",
   "file_extension": ".r",
   "mimetype": "text/x-r-source",
   "name": "R",
   "pygments_lexer": "r",
   "version": "4.3.1"
  }
 },
 "nbformat": 4,
 "nbformat_minor": 5
}
