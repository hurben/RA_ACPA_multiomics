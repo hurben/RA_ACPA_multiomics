{
 "cells": [
  {
   "cell_type": "code",
   "execution_count": 4,
   "id": "pending-juice",
   "metadata": {},
   "outputs": [],
   "source": [
    "#PREPROCES_organize_DAVID_GSE_results      \n",
    "#\n",
    "#organize raw results from DAVID GSE table.\n",
    "#this programs removes clusters and duplicates.\n",
    "\n",
    "import pandas as pd\n",
    "import os"
   ]
  },
  {
   "cell_type": "code",
   "execution_count": 6,
   "id": "59b1aa98-9a0a-4415-aadc-e01b4fb02031",
   "metadata": {},
   "outputs": [
    {
     "name": "stdout",
     "output_type": "stream",
     "text": [
      "/Users/m221138/RA_acpa_multiomics/src/statistics/geneset_enrichment/ICN_LCC\n"
     ]
    }
   ],
   "source": [
    "print (os.getcwd())"
   ]
  },
  {
   "cell_type": "code",
   "execution_count": 8,
   "id": "living-brazil",
   "metadata": {},
   "outputs": [],
   "source": [
    "data_dir = \"../../../../analysis/statistics/gse/ICN_LCC\"\n",
    "\n",
    "\n",
    "data_file = '%s/DAVID_protein_GSE.txt' % (data_dir)\n",
    "open_data_file = open(data_file,'r')\n",
    "data_file_readlines = open_data_file.readlines()\n",
    "\n",
    "output_file = '%s/DAVID_protein_GSE.clean.txt' % (data_dir)\n",
    "output_txt = open(output_file, 'w')\n",
    "\n",
    "temp_goterm_list = [] #check duplicates\n",
    "\n",
    "for i in range(len(data_file_readlines)):\n",
    "    read = data_file_readlines[i]\n",
    "    read = read.replace('\\n','')\n",
    "    token = read.split('\\t')\n",
    "\n",
    "    if i == 1: #write header\n",
    "        output_txt.write(token[0])\n",
    "        for j in range(1, len(token)):\n",
    "            output_txt.write(\"\\t%s\" % token[j])   \n",
    "        output_txt.write('\\n')\n",
    "\n",
    "    if \"Annotation\" not in token[0]: #write value\n",
    "        if \"Category\" not in token[0]:\n",
    "            if len(token) > 1:\n",
    "                goclass = token[0]\n",
    "                goterm = token[1]\n",
    "                if goterm not in temp_goterm_list:\n",
    "                    temp_goterm_list.append(goterm)\n",
    "                    output_txt.write(\"%s\\t%s\" % (goclass, goterm))\n",
    "                    for j in range(2, len(token)):\n",
    "                        output_txt.write(\"\\t%s\" % token[j])        \n",
    "                    output_txt.write('\\n')\n",
    "\n",
    "open_data_file.close()\n",
    "output_txt.close()\n"
   ]
  },
  {
   "cell_type": "code",
   "execution_count": null,
   "id": "broke-willow",
   "metadata": {},
   "outputs": [],
   "source": []
  },
  {
   "cell_type": "code",
   "execution_count": null,
   "id": "214f96dd-46f2-4382-82fc-22edc7b9cdc1",
   "metadata": {},
   "outputs": [],
   "source": []
  }
 ],
 "metadata": {
  "kernelspec": {
   "display_name": "Python 3",
   "language": "python",
   "name": "python3"
  },
  "language_info": {
   "codemirror_mode": {
    "name": "ipython",
    "version": 3
   },
   "file_extension": ".py",
   "mimetype": "text/x-python",
   "name": "python",
   "nbconvert_exporter": "python",
   "pygments_lexer": "ipython3",
   "version": "3.9.1"
  }
 },
 "nbformat": 4,
 "nbformat_minor": 5
}
