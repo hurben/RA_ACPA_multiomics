{
 "cells": [
  {
   "cell_type": "code",
   "execution_count": 32,
   "id": "amended-province",
   "metadata": {},
   "outputs": [],
   "source": [
    "#PREPROCESS_identify_cytokines_from_significant_proteins\n",
    "#\n",
    "#Purpose: identify differentially abundant cytokines from differentially abundant proteins.\n",
    "\n",
    "#cytokines were defined by immport: https://www.immport.org/shared/genelists\n",
    "#differentially abundant proteins were pre-identified from previous step.\n",
    "\n",
    "import pandas as pd"
   ]
  },
  {
   "cell_type": "code",
   "execution_count": 33,
   "id": "packed-islam",
   "metadata": {},
   "outputs": [],
   "source": [
    "def get_list_from_file(data_file):\n",
    "    \n",
    "    data_df = pd.read_csv(data_file, sep =\"\\t\", header=None)\n",
    "    feature_list = []\n",
    "    r, c = data_df.shape\n",
    "    \n",
    "    for i in range(r):\n",
    "        value = data_df.iloc[i][0]\n",
    "        feature_list.append(value)\n",
    "        \n",
    "    return feature_list\n",
    "\n",
    "def get_cytokine_list_from_file(data_file):\n",
    "    \n",
    "    data_df = pd.read_csv(data_file, sep =\"\\t\")\n",
    "    feature_list = []\n",
    "    r, c = data_df.shape\n",
    "    \n",
    "    for i in range(r):\n",
    "        value = data_df.iloc[i][1]\n",
    "        feature_list.append(value)\n",
    "        \n",
    "    return feature_list\n",
    "\n",
    "def find_significant_cytokine(data_dict, cytokine_list):\n",
    "    \n",
    "    all_cytokine_list = []\n",
    "    for data_type in list(data_dict.keys()):\n",
    "        significant_protein_list = data_dict[data_type]\n",
    "        temp_cytokine_list = []\n",
    "        \n",
    "        for protein_symbol_with_barcode in significant_protein_list:\n",
    "            protein_symbol = protein_symbol_with_barcode.split('_')[0]\n",
    "            if protein_symbol in cytokine_list:\n",
    "                temp_cytokine_list.append(protein_symbol_with_barcode)\n",
    "                all_cytokine_list.append(protein_symbol_with_barcode)\n",
    "        \n",
    "    all_cytokine_list = list(set(all_cytokine_list))\n",
    "    return (all_cytokine_list)\n",
    "    "
   ]
  },
  {
   "cell_type": "code",
   "execution_count": 34,
   "id": "shared-property",
   "metadata": {},
   "outputs": [],
   "source": [
    "cytokine_file = '../../../etc/Cytokines.txt'\n",
    "cytokine_list = get_cytokine_list_from_file(cytokine_file)"
   ]
  },
  {
   "cell_type": "code",
   "execution_count": 35,
   "id": "mathematical-nursery",
   "metadata": {},
   "outputs": [],
   "source": [
    "data_dir = '../../../analysis/statistics/gse/proteomics'\n",
    "condition_list = [\"cVSneg\",\"cVSpos\", \"negVSpos\"]\n",
    "abundance_type_list = [\"up\",\"down\"]\n",
    "\n",
    "data_dict = {}\n",
    "for abundance_type in abundance_type_list:\n",
    "    for condition in condition_list:\n",
    "        data_file = '%s/proteomics.diff.%s.%s.barcode.tsv' % (data_dir, condition, abundance_type)\n",
    "        feature_list = get_list_from_file(data_file)  \n",
    "        \n",
    "        data_type = \"%s_%s\" %(condition, abundance_type)\n",
    "        data_dict[data_type] = feature_list\n",
    "\n",
    "all_cytokine_list = find_significant_cytokine(data_dict, cytokine_list)"
   ]
  },
  {
   "cell_type": "code",
   "execution_count": 36,
   "id": "every-speaking",
   "metadata": {
    "scrolled": true
   },
   "outputs": [],
   "source": [
    "data_dir = '../../../analysis/statistics/gse/proteomics'\n",
    "condition_list = [\"cVSneg\",\"cVSpos\", \"negVSpos\"]\n",
    "abundance_type_list = [\"up\",\"down\"]\n",
    "\n",
    "data_dict = {}\n",
    "for abundance_type in abundance_type_list:\n",
    "    for condition in condition_list:\n",
    "        data_file = '%s/proteomics.diff.%s.%s.barcode.tsv' % (data_dir, condition, abundance_type)\n",
    "        feature_list = get_list_from_file(data_file)  \n",
    "        \n",
    "        data_type = \"%s_%s\" %(condition, abundance_type)\n",
    "        data_dict[data_type] = feature_list\n",
    "\n",
    "all_cytokine_list = find_significant_cytokine(data_dict, cytokine_list)\n",
    "\n",
    "proteomic_file = '../../../preprocessed_data/proteomics/somascan_anml.T.v2.tsv'\n",
    "protein_df = pd.read_csv(proteomic_file, sep=\"\\t\", index_col=0)\n",
    "subset_protein_df = protein_df.loc[all_cytokine_list]\n",
    "\n",
    "patient_info_file = '../../../preprocessed_data/meta/patient_info.ML_ready.tsv'\n",
    "patient_df = pd.read_csv(patient_info_file, sep=\"\\t\",index_col=0)\n",
    "\n",
    "acpa_info = patient_df.loc[\"acpa\"]\n",
    "\n",
    "subset_protein_df = pd.concat([acpa_info.to_frame().T, subset_protein_df, ], axis=0)\n",
    "subset_protein_df.to_csv('../../../analysis/statistics/cytokine_boxplots/all_adj_cytokine_df.tsv', sep=\"\\t\")"
   ]
  },
  {
   "cell_type": "code",
   "execution_count": 37,
   "id": "bulgarian-sensitivity",
   "metadata": {
    "scrolled": true
   },
   "outputs": [
    {
     "data": {
      "text/plain": [
       "['NAMPT_5011-11',\n",
       " 'HDGFL3_18899-82',\n",
       " 'PDGFC_13658-31',\n",
       " 'CXCL13_3487-32',\n",
       " 'IL1RN_5353-89',\n",
       " 'OGN_17224-12',\n",
       " 'EDN3_15383-200',\n",
       " 'EDN1_6495-14',\n",
       " 'CAT_3488-64',\n",
       " 'CCL15_14109-15',\n",
       " 'C5_2381-52',\n",
       " 'CCL15_18289-16',\n",
       " 'CCL7_22969-12',\n",
       " 'IL17C_9255-5',\n",
       " 'NPPA_5443-62']"
      ]
     },
     "execution_count": 37,
     "metadata": {},
     "output_type": "execute_result"
    }
   ],
   "source": [
    "all_cytokine_list"
   ]
  },
  {
   "cell_type": "code",
   "execution_count": null,
   "id": "infectious-archive",
   "metadata": {},
   "outputs": [],
   "source": []
  }
 ],
 "metadata": {
  "kernelspec": {
   "display_name": "Python 3 (ipykernel)",
   "language": "python",
   "name": "python3"
  },
  "language_info": {
   "codemirror_mode": {
    "name": "ipython",
    "version": 3
   },
   "file_extension": ".py",
   "mimetype": "text/x-python",
   "name": "python",
   "nbconvert_exporter": "python",
   "pygments_lexer": "ipython3",
   "version": "3.11.6"
  }
 },
 "nbformat": 4,
 "nbformat_minor": 5
}
