{
 "cells": [
  {
   "cell_type": "code",
   "execution_count": 4,
   "id": "amended-province",
   "metadata": {},
   "outputs": [],
   "source": [
    "#PREPROCESS_identify_cytokines_from_significant_autoantibodies\n",
    "\n",
    "import pandas as pd"
   ]
  },
  {
   "cell_type": "code",
   "execution_count": 12,
   "id": "packed-islam",
   "metadata": {},
   "outputs": [],
   "source": [
    "def get_list_from_file(data_file):\n",
    "    \n",
    "    data_df = pd.read_csv(data_file, sep =\"\\t\", header=None)\n",
    "    feature_list = []\n",
    "    r, c = data_df.shape\n",
    "    \n",
    "    for i in range(r):\n",
    "        value = data_df.iloc[i][0]\n",
    "        feature_list.append(value)\n",
    "        \n",
    "    return feature_list\n",
    "\n",
    "\n",
    "def get_cytokine_list_from_file(data_file):\n",
    "    \n",
    "    data_df = pd.read_csv(data_file, sep =\"\\t\")\n",
    "    feature_list = []\n",
    "    r, c = data_df.shape\n",
    "    \n",
    "    for i in range(r):\n",
    "        value = data_df.iloc[i][1]\n",
    "        feature_list.append(value)\n",
    "        \n",
    "    return feature_list\n",
    "\n",
    "def find_significant_cytokine(data_dict, cytokine_list):\n",
    "    \n",
    "    all_cytokine_list = []\n",
    "    for data_type in list(data_dict.keys()):\n",
    "        significant_aa_list = data_dict[data_type]\n",
    "        temp_cytokine_list = []\n",
    "        print (data_type)\n",
    "        for aa_feature in significant_aa_list:\n",
    "            print (aa_feature)\n",
    "\n",
    "            if aa_feature in cytokine_list:\n",
    "                temp_cytokine_list.append(aa_feature)\n",
    "                all_cytokine_list.append(aa_feature)\n",
    "        \n",
    "        print (\"%s: %s cytokines\" % (data_type, len(temp_cytokine_list)))\n",
    "        print (temp_cytokine_list)\n",
    "        \n",
    "    all_cytokine_list = list(set(all_cytokine_list))\n",
    "#     print (all_cytokine_list)\n",
    "    return (all_cytokine_list)\n",
    "    "
   ]
  },
  {
   "cell_type": "code",
   "execution_count": 13,
   "id": "shared-property",
   "metadata": {},
   "outputs": [],
   "source": [
    "cytokine_file = '../../../etc/Cytokines.txt'\n",
    "cytokine_list = get_cytokine_list_from_file(cytokine_file)"
   ]
  },
  {
   "cell_type": "code",
   "execution_count": 14,
   "id": "mathematical-nursery",
   "metadata": {},
   "outputs": [
    {
     "name": "stdout",
     "output_type": "stream",
     "text": [
      "cVSneg_up\n",
      "BAG4\n",
      "CNOT8\n",
      "SEPTIN4\n",
      "SPDEF\n",
      "cVSneg_up: 0 cytokines\n",
      "[]\n",
      "cVSpos_up\n",
      "BIRC2\n",
      "ESR2\n",
      "GNAZ\n",
      "GRK2\n",
      "GSK3B\n",
      "HINFP\n",
      "KAT2A\n",
      "KLF10\n",
      "MAP2K5\n",
      "MAPK14\n",
      "MCM5\n",
      "MUTYH\n",
      "PIK3C3\n",
      "PLD2\n",
      "PPP3CC\n",
      "RPS6KA1\n",
      "TSGA10\n",
      "cVSpos_up: 0 cytokines\n",
      "[]\n",
      "cVSneg_down\n",
      "CDO1\n",
      "NCK1\n",
      "NHLH1\n",
      "cVSneg_down: 0 cytokines\n",
      "[]\n",
      "cVSpos_down\n",
      "BPIFA1\n",
      "CA4\n",
      "CABYR\n",
      "FKBP5\n",
      "GAS2\n",
      "GK\n",
      "IFITM1\n",
      "ITGB6\n",
      "MED4\n",
      "MPP1\n",
      "NDUFAB1\n",
      "NMRAL1\n",
      "NRBF2\n",
      "RAB38\n",
      "S100A7\n",
      "SPAG4\n",
      "UBE2I\n",
      "cVSpos_down: 0 cytokines\n",
      "[]\n"
     ]
    }
   ],
   "source": [
    "data_dir = '../../../analysis/statistics/gse/autoantibody'\n",
    "condition_list = [\"cVSneg\",\"cVSpos\"]\n",
    "abundance_type_list = [\"up\",\"down\"]\n",
    "\n",
    "data_dict = {}\n",
    "for abundance_type in abundance_type_list:\n",
    "    for condition in condition_list:\n",
    "        data_file = '%s/autoantibody.diff.%s.%s.tsv' % (data_dir, condition, abundance_type)\n",
    "        feature_list = get_list_from_file(data_file)  \n",
    "        \n",
    "        data_type = \"%s_%s\" %(condition, abundance_type)\n",
    "        data_dict[data_type] = feature_list\n",
    "\n",
    "all_cytokine_list = find_significant_cytokine(data_dict, cytokine_list)"
   ]
  },
  {
   "cell_type": "code",
   "execution_count": 78,
   "id": "every-speaking",
   "metadata": {
    "scrolled": true
   },
   "outputs": [],
   "source": [
    "proteomic_file = '../../../preprocessed_data/proteomics/somascan_anml.T.v2.tsv'\n",
    "protein_df = pd.read_csv(proteomic_file, sep=\"\\t\", index_col=0)\n",
    "subset_protein_df = protein_df.loc[all_cytokine_list]\n",
    "\n",
    "patient_info_file = '../../../preprocessed_data/meta/patient_info.ML_ready.tsv'\n",
    "patient_df = pd.read_csv(patient_info_file, sep=\"\\t\",index_col=0)\n",
    "subset_protein_df = subset_protein_df.append(patient_df.loc[\"acpa\"])\n",
    "subset_protein_df.to_csv('../../../analysis/statistics/cytokine_boxplots/8_cytokine_df.tsv', sep=\"\\t\")"
   ]
  }
 ],
 "metadata": {
  "kernelspec": {
   "display_name": "Python 3",
   "language": "python",
   "name": "python3"
  },
  "language_info": {
   "codemirror_mode": {
    "name": "ipython",
    "version": 3
   },
   "file_extension": ".py",
   "mimetype": "text/x-python",
   "name": "python",
   "nbconvert_exporter": "python",
   "pygments_lexer": "ipython3",
   "version": "3.9.1"
  }
 },
 "nbformat": 4,
 "nbformat_minor": 5
}
