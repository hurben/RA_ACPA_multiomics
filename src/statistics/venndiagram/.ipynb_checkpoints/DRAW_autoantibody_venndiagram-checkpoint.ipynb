{
 "cells": [
  {
   "cell_type": "code",
   "execution_count": 6,
   "id": "exotic-alcohol",
   "metadata": {},
   "outputs": [],
   "source": [
    "#DRAW_proteomics_venndiagram\n",
    "#\n",
    "#draw venn diagram (2set) for proteomics.diff.[condition].[up or down].barcode.tsv\n",
    "\n",
    "from matplotlib import pyplot as plt\n",
    "from matplotlib_venn import venn2\n",
    "import pandas as pd\n"
   ]
  },
  {
   "cell_type": "code",
   "execution_count": 7,
   "id": "comprehensive-sheriff",
   "metadata": {},
   "outputs": [],
   "source": [
    "def get_list_from_file(data_file):\n",
    "    \n",
    "    data_df = pd.read_csv(data_file, sep =\"\\t\", header=None)\n",
    "    feature_list = []\n",
    "    r, c = data_df.shape\n",
    "    \n",
    "    for i in range(r):\n",
    "        value = data_df.iloc[i][0]\n",
    "        feature_list.append(value)\n",
    "        \n",
    "    return feature_list"
   ]
  },
  {
   "cell_type": "code",
   "execution_count": 5,
   "id": "handed-porter",
   "metadata": {
    "scrolled": true
   },
   "outputs": [
    {
     "name": "stdout",
     "output_type": "stream",
     "text": [
      "[]\n",
      "[]\n"
     ]
    },
    {
     "data": {
      "text/plain": [
       "<Figure size 432x288 with 0 Axes>"
      ]
     },
     "metadata": {},
     "output_type": "display_data"
    },
    {
     "data": {
      "text/plain": [
       "<Figure size 432x288 with 0 Axes>"
      ]
     },
     "metadata": {},
     "output_type": "display_data"
    }
   ],
   "source": [
    "data_dir = '../../../analysis/statistics/gse/autoantibody'\n",
    "condition_list = [\"cVSneg\",\"cVSpos\"]\n",
    "abundance_type_list = [\"up\",\"down\"]\n",
    "\n",
    "# plt.figure(figsize=(2,2))\n",
    "for abundance_type in abundance_type_list:\n",
    "    \n",
    "    data_dict = {}\n",
    "    fig = plt.figure()\n",
    "\n",
    "    for condition in condition_list:\n",
    "        data_file = '%s/autoantibody.diff.%s.%s.tsv' % (data_dir, condition, abundance_type)\n",
    "        feature_list = get_list_from_file(data_file)      \n",
    "        data_dict[condition] = feature_list\n",
    "        \n",
    "    venn2([set(data_dict['cVSneg']), set(data_dict['cVSpos'])], set_labels = ('cVSneg', 'cVSpos'))\n",
    "    print (list(set(data_dict['cVSneg']) & set(data_dict['cVSpos'])))\n",
    "    \n",
    "    fig.savefig('../../../analysis/statistics/venndiagram/autoantibody_%s_venndiagram.pdf' % abundance_type)\n",
    "    fig.clf()\n",
    "      "
   ]
  },
  {
   "cell_type": "code",
   "execution_count": null,
   "id": "terminal-pricing",
   "metadata": {},
   "outputs": [],
   "source": []
  }
 ],
 "metadata": {
  "kernelspec": {
   "display_name": "Python 3",
   "language": "python",
   "name": "python3"
  },
  "language_info": {
   "codemirror_mode": {
    "name": "ipython",
    "version": 3
   },
   "file_extension": ".py",
   "mimetype": "text/x-python",
   "name": "python",
   "nbconvert_exporter": "python",
   "pygments_lexer": "ipython3",
   "version": "3.9.1"
  }
 },
 "nbformat": 4,
 "nbformat_minor": 5
}
