{
 "cells": [
  {
   "cell_type": "code",
   "execution_count": 23,
   "id": "sweet-release",
   "metadata": {},
   "outputs": [],
   "source": [
    "import pandas as pd\n",
    "import seaborn as sns\n",
    "import matplotlib.pyplot as plt\n",
    "import matplotlib as mpl\n",
    "mpl.rcParams['pdf.fonttype'] = 42\n",
    "\n",
    "sns.set(rc={'figure.figsize':(5,10)})"
   ]
  },
  {
   "cell_type": "code",
   "execution_count": 21,
   "id": "seven-lewis",
   "metadata": {},
   "outputs": [],
   "source": [
    "data_file = '../../../analysis/statistics/cytokine_boxplots/8_cytokine_df.tsv'\n",
    "data_df = pd.read_csv(data_file, sep=\"\\t\", index_col = 0)\n",
    "data_df = data_df.T\n",
    "r, c = data_df.shape\n",
    "\n",
    "column_list = list(data_df.columns.values)\n",
    "data_df.loc[data_df[\"acpa\"] == 1, \"acpa\"] = \"ACPA-positive\"\n",
    "data_df.loc[data_df[\"acpa\"] == 2, \"acpa\"] = \"ACPA-negative\"\n",
    "data_df.loc[data_df[\"acpa\"] == 0, \"acpa\"] = \"Healthy Control\""
   ]
  },
  {
   "cell_type": "code",
   "execution_count": null,
   "id": "wound-closure",
   "metadata": {},
   "outputs": [],
   "source": [
    "data_df"
   ]
  },
  {
   "cell_type": "code",
   "execution_count": 24,
   "id": "careful-stadium",
   "metadata": {},
   "outputs": [
    {
     "data": {
      "text/plain": [
       "<Figure size 360x720 with 0 Axes>"
      ]
     },
     "metadata": {},
     "output_type": "display_data"
    }
   ],
   "source": [
    "for i in range(1,c):\n",
    "    \n",
    "    feature = column_list[i]\n",
    "    my_palette = {\"ACPA-positive\":\"#F5918A\", \"Healthy Control\":\"#4FB95A\", \"ACPA-negative\":\"#8CB4E0\"}\n",
    "    \n",
    "#     fig, ax = plt.subplots()\n",
    "    ax = sns.swarmplot(x=\"acpa\", y=data_df.iloc[:,i], data=data_df, color=\".35\", size=4)\n",
    "    ax= sns.boxplot(x=\"acpa\", y=data_df.iloc[:,i], data=data_df, palette=my_palette)\n",
    "    ax.figure.savefig('../../../analysis/statistics/cytokine_boxplots/%s.cytokine.boxplot.pdf' % feature)\n",
    "#     print (boxplot)\n",
    "\n",
    "    ax.figure.clf()\n",
    "    "
   ]
  },
  {
   "cell_type": "code",
   "execution_count": null,
   "id": "accepted-saying",
   "metadata": {},
   "outputs": [],
   "source": []
  }
 ],
 "metadata": {
  "kernelspec": {
   "display_name": "Python 3",
   "language": "python",
   "name": "python3"
  },
  "language_info": {
   "codemirror_mode": {
    "name": "ipython",
    "version": 3
   },
   "file_extension": ".py",
   "mimetype": "text/x-python",
   "name": "python",
   "nbconvert_exporter": "python",
   "pygments_lexer": "ipython3",
   "version": "3.9.1"
  }
 },
 "nbformat": 4,
 "nbformat_minor": 5
}
