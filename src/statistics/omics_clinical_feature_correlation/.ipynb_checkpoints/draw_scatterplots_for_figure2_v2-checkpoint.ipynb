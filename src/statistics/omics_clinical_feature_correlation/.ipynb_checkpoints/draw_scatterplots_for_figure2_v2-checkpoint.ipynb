{
 "cells": [
  {
   "cell_type": "code",
   "execution_count": 5,
   "id": "ancient-dominican",
   "metadata": {},
   "outputs": [],
   "source": [
    "#draw_scatterplots_for_figure2B    2022.08.18\n",
    "#\n",
    "#Drawing scatter plot.\n",
    "\n",
    "import pandas as pd\n",
    "import seaborn as sns\n",
    "import matplotlib\n",
    "\n",
    "\n",
    "matplotlib.rc('font', family='sans-serif') \n",
    "matplotlib.rc('font', serif='Helvetica Neue') \n",
    "matplotlib.rc('text', usetex='false') \n",
    "matplotlib.rcParams['pdf.fonttype'] = 42"
   ]
  },
  {
   "cell_type": "code",
   "execution_count": 6,
   "id": "invalid-poster",
   "metadata": {},
   "outputs": [],
   "source": [
    "def main(data_file, output_pdf):\n",
    "   \n",
    "    data_df = pd.read_csv(data_file, sep=\"\\t\")\n",
    "    ax = sns.scatterplot(data=data_df, x=\"Rank(ACPA–)\", y=\"Rho\", hue=\"RA_phenotype\", palette=[\"#F5918A\",\"#8CB4E0\"], s=25)\n",
    "\n",
    "    ax.set_title('%s–%s' % (omics, clinical_variable))\n",
    "    ax.set(ylim=(-1,1))        \n",
    "    ax.figure.savefig(output_pdf)\n",
    "    ax.figure.clf()"
   ]
  },
  {
   "cell_type": "code",
   "execution_count": 7,
   "id": "assumed-wages",
   "metadata": {},
   "outputs": [
    {
     "data": {
      "text/plain": [
       "<Figure size 500x500 with 0 Axes>"
      ]
     },
     "metadata": {},
     "output_type": "display_data"
    }
   ],
   "source": [
    "omics_list = ['metabolomics','autoantibody','proteomics']\n",
    "\n",
    "# clinical_variable_list = ['crp','das28crp','esr']\n",
    "clinical_variable_list = [\"crp\",\"esr\",\"das28crp\", \"rf_tit\",\"bmi\",\"age\"]\n",
    "\n",
    "sns.set(rc = {'figure.figsize':(5,5)})\n",
    "data_dir = '../../../analysis/statistics/omics_clinical_feature_correlation'\n",
    "for omics in omics_list:\n",
    "    for clinical_variable in clinical_variable_list:\n",
    "        \n",
    "\n",
    "        data_file = '%s/%s_%s.rho.tsv' % (data_dir, omics, clinical_variable)\n",
    "        output_pdf = '%s/%s_%s.rho.plot.pdf' % (data_dir, omics, clinical_variable)\n",
    "        main(data_file, output_pdf)\n",
    "\n"
   ]
  },
  {
   "cell_type": "code",
   "execution_count": null,
   "id": "burning-steel",
   "metadata": {},
   "outputs": [],
   "source": []
  }
 ],
 "metadata": {
  "kernelspec": {
   "display_name": "Python 3 (ipykernel)",
   "language": "python",
   "name": "python3"
  },
  "language_info": {
   "codemirror_mode": {
    "name": "ipython",
    "version": 3
   },
   "file_extension": ".py",
   "mimetype": "text/x-python",
   "name": "python",
   "nbconvert_exporter": "python",
   "pygments_lexer": "ipython3",
   "version": "3.11.6"
  }
 },
 "nbformat": 4,
 "nbformat_minor": 5
}
