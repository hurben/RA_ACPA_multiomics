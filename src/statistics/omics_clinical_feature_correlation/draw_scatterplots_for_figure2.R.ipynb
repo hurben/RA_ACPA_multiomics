{
 "cells": [
  {
   "cell_type": "code",
   "execution_count": 22,
   "id": "fb1e3fc9-c3a3-4c28-998f-bf3224f5b268",
   "metadata": {},
   "outputs": [],
   "source": [
    "# draw_scatterplots_for_figure2B    2022.08.18\n",
    "#\n",
    "# Drawing scatter plot.\n",
    "\n",
    "library(ggplot2)\n",
    "library(dplyr)\n",
    "library(ggpubr)"
   ]
  },
  {
   "cell_type": "code",
   "execution_count": 52,
   "id": "71e81ebb-5deb-4222-a03a-471b27edcc0b",
   "metadata": {},
   "outputs": [],
   "source": [
    "draw_scatterplot <- function(data_file, output_pdf, omics, clinical_variable) {\n",
    "\n",
    "    data_df <- read.csv(data_file, sep = \"\\t\", header = TRUE)\n",
    "    print (cor.test(data_df$ACPA_neg_rho, data_df$ACPA_pos_rho, method=\"spearman\"))\n",
    "\n",
    "    # Scatter plot\n",
    "    p <- ggscatter(data_df, x = \"ACPA_neg_rho\", y =\"ACPA_pos_rho\",\n",
    "                   color =\"#636363\", size = 3,\n",
    "                   alpha = 0.7,\n",
    "                   add = \"reg.line\",\n",
    "                   add.params = list(color = \"orange2\", fill = \"lightgray\"),\n",
    "                   cor.coef = TRUE,\n",
    "                   cor.coeff.args = list(method = \"spearman\")) +\n",
    "                geom_hline(yintercept = 0, linetype = \"dashed\", color = \"#636363\") +\n",
    "                geom_vline(xintercept = 0, linetype = \"dashed\", color = \"#636363\") +\n",
    "                xlim(-0.8, 0.8) + ylim(-0.8, 0.8) +\n",
    "                ggtitle(paste(omics,\"-\", clinical_variable,sep=\"\"), subtitle = waiver()) + theme_bw()\n",
    "    \n",
    "    # Save to PDF\n",
    "    ggsave(output_pdf, plot = p, width = 10, height = 10)\n",
    "}"
   ]
  },
  {
   "cell_type": "code",
   "execution_count": 54,
   "id": "1f19c74f-9ba4-4bf4-9df5-3f84ed8f1e23",
   "metadata": {},
   "outputs": [
    {
     "name": "stdout",
     "output_type": "stream",
     "text": [
      "[1] \"metabolomics ~ crp\"\n"
     ]
    },
    {
     "name": "stderr",
     "output_type": "stream",
     "text": [
      "Warning message in cor.test.default(data_df$ACPA_neg_rho, data_df$ACPA_pos_rho, :\n",
      "“Cannot compute exact p-value with ties”\n"
     ]
    },
    {
     "name": "stdout",
     "output_type": "stream",
     "text": [
      "\n",
      "\tSpearman's rank correlation rho\n",
      "\n",
      "data:  data_df$ACPA_neg_rho and data_df$ACPA_pos_rho\n",
      "S = 145944012, p-value < 2.2e-16\n",
      "alternative hypothesis: true rho is not equal to 0\n",
      "sample estimates:\n",
      "      rho \n",
      "0.2668518 \n",
      "\n",
      "[1] \"metabolomics ~ esr\"\n"
     ]
    },
    {
     "name": "stderr",
     "output_type": "stream",
     "text": [
      "Warning message in cor.test.default(data_df$ACPA_neg_rho, data_df$ACPA_pos_rho, :\n",
      "“Cannot compute exact p-value with ties”\n"
     ]
    },
    {
     "name": "stdout",
     "output_type": "stream",
     "text": [
      "\n",
      "\tSpearman's rank correlation rho\n",
      "\n",
      "data:  data_df$ACPA_neg_rho and data_df$ACPA_pos_rho\n",
      "S = 155752831, p-value = 7.79e-13\n",
      "alternative hypothesis: true rho is not equal to 0\n",
      "sample estimates:\n",
      "      rho \n",
      "0.2175773 \n",
      "\n",
      "[1] \"metabolomics ~ das28crp\"\n"
     ]
    },
    {
     "name": "stderr",
     "output_type": "stream",
     "text": [
      "Warning message in cor.test.default(data_df$ACPA_neg_rho, data_df$ACPA_pos_rho, :\n",
      "“Cannot compute exact p-value with ties”\n"
     ]
    },
    {
     "name": "stdout",
     "output_type": "stream",
     "text": [
      "\n",
      "\tSpearman's rank correlation rho\n",
      "\n",
      "data:  data_df$ACPA_neg_rho and data_df$ACPA_pos_rho\n",
      "S = 152705429, p-value = 1.557e-14\n",
      "alternative hypothesis: true rho is not equal to 0\n",
      "sample estimates:\n",
      "      rho \n",
      "0.2328859 \n",
      "\n",
      "[1] \"proteomics ~ crp\"\n"
     ]
    },
    {
     "name": "stderr",
     "output_type": "stream",
     "text": [
      "Warning message in cor.test.default(data_df$ACPA_neg_rho, data_df$ACPA_pos_rho, :\n",
      "“Cannot compute exact p-value with ties”\n"
     ]
    },
    {
     "name": "stdout",
     "output_type": "stream",
     "text": [
      "\n",
      "\tSpearman's rank correlation rho\n",
      "\n",
      "data:  data_df$ACPA_neg_rho and data_df$ACPA_pos_rho\n",
      "S = 3.8296e+10, p-value < 2.2e-16\n",
      "alternative hypothesis: true rho is not equal to 0\n",
      "sample estimates:\n",
      "      rho \n",
      "0.4027443 \n",
      "\n"
     ]
    },
    {
     "name": "stderr",
     "output_type": "stream",
     "text": [
      "Warning message:\n",
      "“\u001b[1m\u001b[22mRemoved 1 row containing non-finite outside the scale range (`stat_smooth()`).”\n",
      "Warning message:\n",
      "“\u001b[1m\u001b[22mRemoved 1 row containing non-finite outside the scale range (`stat_cor()`).”\n",
      "Warning message:\n",
      "“\u001b[1m\u001b[22mRemoved 1 row containing missing values or values outside the scale range (`geom_point()`).”\n"
     ]
    },
    {
     "name": "stdout",
     "output_type": "stream",
     "text": [
      "[1] \"proteomics ~ esr\"\n"
     ]
    },
    {
     "name": "stderr",
     "output_type": "stream",
     "text": [
      "Warning message in cor.test.default(data_df$ACPA_neg_rho, data_df$ACPA_pos_rho, :\n",
      "“Cannot compute exact p-value with ties”\n"
     ]
    },
    {
     "name": "stdout",
     "output_type": "stream",
     "text": [
      "\n",
      "\tSpearman's rank correlation rho\n",
      "\n",
      "data:  data_df$ACPA_neg_rho and data_df$ACPA_pos_rho\n",
      "S = 3.9291e+10, p-value < 2.2e-16\n",
      "alternative hypothesis: true rho is not equal to 0\n",
      "sample estimates:\n",
      "      rho \n",
      "0.3872141 \n",
      "\n",
      "[1] \"proteomics ~ das28crp\"\n"
     ]
    },
    {
     "name": "stderr",
     "output_type": "stream",
     "text": [
      "Warning message in cor.test.default(data_df$ACPA_neg_rho, data_df$ACPA_pos_rho, :\n",
      "“Cannot compute exact p-value with ties”\n"
     ]
    },
    {
     "name": "stdout",
     "output_type": "stream",
     "text": [
      "\n",
      "\tSpearman's rank correlation rho\n",
      "\n",
      "data:  data_df$ACPA_neg_rho and data_df$ACPA_pos_rho\n",
      "S = 6.0118e+10, p-value = 1e-07\n",
      "alternative hypothesis: true rho is not equal to 0\n",
      "sample estimates:\n",
      "       rho \n",
      "0.06240959 \n",
      "\n"
     ]
    }
   ],
   "source": [
    "omics_list <- c(\"metabolomics\", \"proteomics\")\n",
    "# omics_list <- c(\"metabolomics\")\n",
    "clinical_variable_list <- c(\"crp\", \"esr\", \"das28crp\")\n",
    "# clinical_variable_list <- c(\"crp\")\n",
    "\n",
    "# Set directory\n",
    "data_dir <- \"../../../analysis/statistics/omics_clinical_feature_correlation\"\n",
    "\n",
    "if (!dir.exists(\"../../../analysis/statistics/omics_clinical_feature_correlation/plot\")) {\n",
    "  dir.create(\"../../../analysis/statistics/omics_clinical_feature_correlation/plot\")\n",
    "}\n",
    "\n",
    "# Loop through omics and clinical variables\n",
    "for (omics in omics_list) {\n",
    "    for (clinical_variable in clinical_variable_list) {\n",
    "        print (paste(omics, \" ~ \", clinical_variable, sep=\"\"))\n",
    "        data_file <- sprintf(\"%s/%s_%s.rho.tsv\", data_dir, omics, clinical_variable)\n",
    "        output_pdf <- sprintf(\"%s/plot/%s_%s.rho.plot.pdf\", data_dir, omics, clinical_variable)\n",
    "\n",
    "        draw_scatterplot(data_file, output_pdf, omics, clinical_variable)\n",
    "    }\n",
    "}\n",
    "\n"
   ]
  },
  {
   "cell_type": "code",
   "execution_count": null,
   "id": "36b32f75-e6a6-420e-bf3d-31d2401bcd70",
   "metadata": {},
   "outputs": [],
   "source": []
  },
  {
   "cell_type": "code",
   "execution_count": null,
   "id": "bfe7f4de-1874-424b-b452-7bc398786dbf",
   "metadata": {},
   "outputs": [],
   "source": []
  }
 ],
 "metadata": {
  "kernelspec": {
   "display_name": "R",
   "language": "R",
   "name": "ir"
  },
  "language_info": {
   "codemirror_mode": "r",
   "file_extension": ".r",
   "mimetype": "text/x-r-source",
   "name": "R",
   "pygments_lexer": "r",
   "version": "4.4.2"
  }
 },
 "nbformat": 4,
 "nbformat_minor": 5
}
