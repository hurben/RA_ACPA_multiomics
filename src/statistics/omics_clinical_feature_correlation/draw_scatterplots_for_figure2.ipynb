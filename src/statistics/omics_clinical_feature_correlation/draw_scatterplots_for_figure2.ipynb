{
 "cells": [
  {
   "cell_type": "code",
   "execution_count": 48,
   "id": "ancient-dominican",
   "metadata": {},
   "outputs": [],
   "source": [
    "#draw_scatterplots_for_figure2    2022.08.18\n",
    "#\n",
    "#Drawing scatter plot for Figure 2.\n",
    "#X-axis: protein (ranked by abs(rho))\n",
    "#Y-axis: abs(rho)\n",
    "\n",
    "import pandas as pd\n",
    "import seaborn as sns\n",
    "import matplotlib\n",
    "\n",
    "\n",
    "matplotlib.rc('font', family='sans-serif') \n",
    "matplotlib.rc('font', serif='Helvetica Neue') \n",
    "matplotlib.rc('text', usetex='false') \n",
    "matplotlib.rcParams['pdf.fonttype'] = 42"
   ]
  },
  {
   "cell_type": "code",
   "execution_count": 57,
   "id": "assumed-wages",
   "metadata": {},
   "outputs": [
    {
     "data": {
      "text/plain": [
       "<Figure size 360x360 with 0 Axes>"
      ]
     },
     "metadata": {},
     "output_type": "display_data"
    }
   ],
   "source": [
    "omics_list = ['metabolomics','autoantibody','proteomics']\n",
    "clinical_variable_list = ['age','bmi','crp','das28crp','esr']\n",
    "\n",
    "sns.set(rc = {'figure.figsize':(5,5)})\n",
    "data_dir = '../../../analysis/statistics/omics_clinical_feature_correlation'\n",
    "for omics in omics_list:\n",
    "    for clinical_variable in clinical_variable_list:\n",
    "        data_file = '%s/%s_%s.rho.tsv' % (data_dir, omics, clinical_variable)\n",
    "        data_df = pd.read_csv(data_file, sep=\"\\t\")\n",
    "        \n",
    "        output_pdf = '%s/%s_%s.plot.pdf' % (data_dir, omics, clinical_variable)\n",
    "        \n",
    "        if clinical_variable == 'age' or clinical_variable == 'bmi':\n",
    "            ax = sns.scatterplot(data=data_df, x=\"Rank(ACPA–)\", y=\"Rho\", hue=\"RA_phenotype\", palette=[\"#4FB95A\",\"#F5918A\",\"#8CB4E0\"])\n",
    "            ax.set_title('lalala')\n",
    "    \n",
    "        else:\n",
    "            ax = sns.scatterplot(data=data_df, x=\"Rank(ACPA–)\", y=\"Rho\", hue=\"RA_phenotype\", palette=[\"#F5918A\",\"#8CB4E0\"])\n",
    "        ax.set_title('%s–%s' % (omics, clinical_variable))\n",
    "        ax.figure.savefig(output_pdf)\n",
    "        ax.figure.clf()"
   ]
  },
  {
   "cell_type": "code",
   "execution_count": null,
   "id": "burning-steel",
   "metadata": {},
   "outputs": [],
   "source": []
  }
 ],
 "metadata": {
  "kernelspec": {
   "display_name": "Python 3",
   "language": "python",
   "name": "python3"
  },
  "language_info": {
   "codemirror_mode": {
    "name": "ipython",
    "version": 3
   },
   "file_extension": ".py",
   "mimetype": "text/x-python",
   "name": "python",
   "nbconvert_exporter": "python",
   "pygments_lexer": "ipython3",
   "version": "3.9.1"
  }
 },
 "nbformat": 4,
 "nbformat_minor": 5
}
