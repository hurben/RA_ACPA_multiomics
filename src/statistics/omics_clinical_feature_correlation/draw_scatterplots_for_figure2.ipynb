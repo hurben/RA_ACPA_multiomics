{
 "cells": [
  {
   "cell_type": "code",
   "execution_count": 1,
   "id": "ancient-dominican",
   "metadata": {},
   "outputs": [],
   "source": [
    "#draw_scatterplots_for_figure2B    2022.08.18\n",
    "#\n",
    "#Drawing scatter plot.\n",
    "\n",
    "import pandas as pd\n",
    "import seaborn as sns\n",
    "import matplotlib\n",
    "import numpy as np\n",
    "from adjustText import adjust_text\n",
    "\n",
    "matplotlib.rc('font', family='sans-serif') \n",
    "matplotlib.rc('font', serif='Helvetica Neue') \n",
    "matplotlib.rc('text', usetex='false') \n",
    "matplotlib.rcParams['pdf.fonttype'] = 42"
   ]
  },
  {
   "cell_type": "code",
   "execution_count": 12,
   "id": "invalid-poster",
   "metadata": {},
   "outputs": [],
   "source": [
    "def main(data_file, rho, output_pdf):\n",
    "    \n",
    "    data_df = pd.read_csv(data_file, sep=\"\\t\")\n",
    "    \n",
    "    ax = sns.scatterplot(data=data_df, x=\"ACPA_neg_rho\", y=\"ACPA_pos_rho\", color=\"#636363\", edgecolor=None, s=30, alpha=0.7)\n",
    "\n",
    "    highlight_mask = (abs(data_df['ACPA_neg_rho']) > 0.4) | (abs(data_df['ACPA_pos_rho']) > 0.4)\n",
    "    sns.scatterplot(data=data_df[highlight_mask], x=\"ACPA_neg_rho\", y=\"ACPA_pos_rho\", color=\"red\", edgecolor=None, s=30, alpha=0.7, ax=ax)\n",
    "\n",
    "    # texts = []\n",
    "    # for i, point in data_df.iterrows():\n",
    "    #     if abs(point['ACPA_neg_rho']) > rho or abs(point['ACPA_pos_rho']) > rho:\n",
    "    #         texts.append(ax.text(point['ACPA_neg_rho'], \n",
    "    #                              point['ACPA_pos_rho'], \n",
    "    #                              point['feature'], \n",
    "    #                              fontsize=9, color=\"red\", ha='right'))\n",
    "\n",
    "    # adjust_text(texts, ax=ax, expand_points=(1.2, 1.4), arrowprops=dict(arrowstyle='-', color='gray'))\n",
    "    ax.axvline(x=0.4, color='blue', linestyle='--')\n",
    "    ax.axvline(x=-0.4, color='blue', linestyle='--')\n",
    "    ax.axhline(y=0.4, color='blue', linestyle='--')\n",
    "    ax.axhline(y=-0.4, color='blue', linestyle='--')\n",
    "\n",
    "    ax.set_title('%s–%s' % (omics, clinical_variable))      \n",
    "    ax.set(xlim=(-1,1), ylim=(-1,1))\n",
    "    ax.set_aspect('equal', adjustable='box')\n",
    "\n",
    "    ax.figure.savefig(output_pdf)\n",
    "    ax.figure.clf()"
   ]
  },
  {
   "cell_type": "code",
   "execution_count": 13,
   "id": "assumed-wages",
   "metadata": {},
   "outputs": [
    {
     "data": {
      "text/plain": [
       "<Figure size 1000x1000 with 0 Axes>"
      ]
     },
     "metadata": {},
     "output_type": "display_data"
    }
   ],
   "source": [
    "omics_list = ['metabolomics','proteomics']\n",
    "clinical_variable_list = [\"crp\", \"esr\", \"das28crp\"]\n",
    "\n",
    "sns.set(rc = {'figure.figsize':(10,10)})\n",
    "data_dir = '../../../analysis/statistics/omics_clinical_feature_correlation'\n",
    "for omics in omics_list:\n",
    "    for clinical_variable in clinical_variable_list:\n",
    "\n",
    "        data_file = '%s/%s_%s.rho.tsv' % (data_dir, omics, clinical_variable)\n",
    "        output_pdf = '%s/%s_%s.rho.plot.pdf' % (data_dir, omics, clinical_variable)\n",
    "\n",
    "        if omics == \"metabolomics\":\n",
    "            main(data_file, 0.6, output_pdf)\n",
    "        if omics == \"proteomics\":\n",
    "            if clinical_variable == \"das28crp\":\n",
    "                main(data_file, 0.65, output_pdf)\n",
    "            else:\n",
    "                main(data_file, 0.65, output_pdf)\n"
   ]
  },
  {
   "cell_type": "code",
   "execution_count": null,
   "id": "burning-steel",
   "metadata": {},
   "outputs": [],
   "source": []
  }
 ],
 "metadata": {
  "kernelspec": {
   "display_name": "Python 3 (ipykernel)",
   "language": "python",
   "name": "python3"
  },
  "language_info": {
   "codemirror_mode": {
    "name": "ipython",
    "version": 3
   },
   "file_extension": ".py",
   "mimetype": "text/x-python",
   "name": "python",
   "nbconvert_exporter": "python",
   "pygments_lexer": "ipython3",
   "version": "3.12.4"
  }
 },
 "nbformat": 4,
 "nbformat_minor": 5
}
