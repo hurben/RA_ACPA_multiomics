{
 "cells": [
  {
   "cell_type": "code",
   "execution_count": 8,
   "metadata": {},
   "outputs": [],
   "source": [
    "import pandas as pd"
   ]
  },
  {
   "cell_type": "code",
   "execution_count": 9,
   "metadata": {},
   "outputs": [],
   "source": [
    "def main (input_file_1, input_file_2, cohen_d_threshold = 0.5, adj_pval_threshold = 0.01):\n",
    "\n",
    "    input_df_1 = pd.read_csv(input_file_1, sep=\"\\t\")\n",
    "    input_df_2 = pd.read_csv(input_file_2, sep=\"\\t\")\n",
    "\n",
    "    # Example: assuming you already loaded your datasets as input_df_1 and input_df_2\n",
    "    # Filter based on the criteria in each dataframe\n",
    "    filtered_1 = input_df_1[(input_df_1[\"cohen_d\"] > 0.5) & (input_df_1[\"adj_pval\"] < 0.01)]\n",
    "    filtered_2 = input_df_2[(input_df_2[\"cohen_d\"] > 0.5) & (input_df_2[\"adj_pval\"] < 0.01)]\n",
    "\n",
    "    # Find intersection of \"feature\" values\n",
    "    up_shared_features = list(set(filtered_1[\"feature\"]) & set(filtered_2[\"feature\"]))\n",
    "\n",
    "    # Filter based on the criteria in each dataframe\n",
    "    filtered_1 = input_df_1[(input_df_1[\"cohen_d\"] < -0.5) & (input_df_1[\"adj_pval\"] < 0.01)]\n",
    "    filtered_2 = input_df_2[(input_df_2[\"cohen_d\"] < -0.5) & (input_df_2[\"adj_pval\"] < 0.01)]\n",
    "\n",
    "    # Find intersection of \"feature\" values\n",
    "    down_shared_features = list(set(filtered_1[\"feature\"]) & set(filtered_2[\"feature\"]))\n",
    "\n",
    "    shared_features = set(up_shared_features + down_shared_features)\n",
    "    shared_df_2 = input_df_2[input_df_2[\"feature\"].isin(shared_features)]\n",
    "    shared_df_2 = shared_df_2.reset_index(drop=True)\n",
    "\n",
    "    return (up_shared_features, down_shared_features, shared_df_2)\n"
   ]
  },
  {
   "cell_type": "code",
   "execution_count": 10,
   "metadata": {},
   "outputs": [],
   "source": [
    "input_file_1 = \"../../../analysis/statistics/linear_regression/proteomics/linear_regression.cVSneg.proteomics.tsv\"\n",
    "input_file_2 = \"../../../analysis/statistics/linear_regression_treatment_naive/proteomics/linear_regression.cVSneg.proteomics.tsv\"\n",
    "\n",
    "up_shared_features, down_shared_features, shared_df_2 = main(input_file_1, input_file_2)\n",
    "shared_df_2.to_csv(\"../../../analysis/statistics/linear_regression_treatment_naive/proteins.cVSneg.shared.tsv\", sep=\"\\t\", index=False)"
   ]
  },
  {
   "cell_type": "code",
   "execution_count": 11,
   "metadata": {},
   "outputs": [],
   "source": [
    "input_file_1 = \"../../../analysis/statistics/linear_regression/proteomics/linear_regression.cVSpos.proteomics.tsv\"\n",
    "input_file_2 = \"../../../analysis/statistics/linear_regression_treatment_naive/proteomics/linear_regression.cVSpos.proteomics.tsv\"\n",
    "\n",
    "up_shared_features, down_shared_features, shared_df_2 = main(input_file_1, input_file_2)\n",
    "shared_df_2.to_csv(\"../../../analysis/statistics/linear_regression_treatment_naive/proteins.cVSpos.shared.tsv\", sep=\"\\t\", index=False)"
   ]
  },
  {
   "cell_type": "code",
   "execution_count": 12,
   "metadata": {},
   "outputs": [],
   "source": [
    "input_file_1 = \"../../../analysis/statistics/linear_regression/metabolomics/linear_regression.cVSneg.metabolomics.tsv\"\n",
    "input_file_2 = \"../../../analysis/statistics/linear_regression_treatment_naive/metabolomics/linear_regression.cVSneg.metabolomics.tsv\"\n",
    "\n",
    "up_shared_features, down_shared_features, shared_df_2 = main(input_file_1, input_file_2)\n",
    "shared_df_2.to_csv(\"../../../analysis/statistics/linear_regression_treatment_naive/metabolomics.cVSneg.shared.tsv\", sep=\"\\t\", index=False)"
   ]
  },
  {
   "cell_type": "code",
   "execution_count": 13,
   "metadata": {},
   "outputs": [],
   "source": [
    "input_file_1 = \"../../../analysis/statistics/linear_regression/metabolomics/linear_regression.cVSpos.metabolomics.tsv\"\n",
    "input_file_2 = \"../../../analysis/statistics/linear_regression_treatment_naive/metabolomics/linear_regression.cVSpos.metabolomics.tsv\"\n",
    "\n",
    "up_shared_features, down_shared_features, shared_df_2 = main(input_file_1, input_file_2)\n",
    "shared_df_2.to_csv(\"../../../analysis/statistics/linear_regression_treatment_naive/metabolomics.cVSpos.shared.tsv\", sep=\"\\t\", index=False)"
   ]
  },
  {
   "cell_type": "code",
   "execution_count": null,
   "metadata": {},
   "outputs": [],
   "source": []
  }
 ],
 "metadata": {
  "kernelspec": {
   "display_name": "base",
   "language": "python",
   "name": "python3"
  },
  "language_info": {
   "codemirror_mode": {
    "name": "ipython",
    "version": 3
   },
   "file_extension": ".py",
   "mimetype": "text/x-python",
   "name": "python",
   "nbconvert_exporter": "python",
   "pygments_lexer": "ipython3",
   "version": "3.10.14"
  }
 },
 "nbformat": 4,
 "nbformat_minor": 2
}
