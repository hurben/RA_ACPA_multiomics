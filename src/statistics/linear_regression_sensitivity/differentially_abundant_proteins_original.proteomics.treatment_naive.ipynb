{
 "cells": [
  {
   "cell_type": "code",
   "execution_count": 1,
   "metadata": {
    "vscode": {
     "languageId": "r"
    }
   },
   "outputs": [
    {
     "name": "stderr",
     "output_type": "stream",
     "text": [
      "Loading required package: Matrix\n",
      "\n",
      "\n",
      "Attaching package: ‘lmerTest’\n",
      "\n",
      "\n",
      "The following object is masked from ‘package:lme4’:\n",
      "\n",
      "    lmer\n",
      "\n",
      "\n",
      "The following object is masked from ‘package:stats’:\n",
      "\n",
      "    step\n",
      "\n",
      "\n",
      "Loading required package: carData\n",
      "\n",
      "lattice theme set by effectsTheme()\n",
      "See ?effectsTheme for details.\n",
      "\n",
      "\n",
      "Attaching package: ‘dplyr’\n",
      "\n",
      "\n",
      "The following objects are masked from ‘package:stats’:\n",
      "\n",
      "    filter, lag\n",
      "\n",
      "\n",
      "The following objects are masked from ‘package:base’:\n",
      "\n",
      "    intersect, setdiff, setequal, union\n",
      "\n",
      "\n"
     ]
    }
   ],
   "source": [
    "# Load necessary libraries\n",
    "library(\"effsize\")     # For computing effect size (e.g., Cohen's D)\n",
    "library(lme4)          # For linear mixed-effects models (not used in this script)\n",
    "library(lmerTest)      # Adds p-values to lmer models (not used in this script)\n",
    "library(stringr)       # String handling (not used in this script)\n",
    "library(effects)       # For visualizing model effects (not used here)\n",
    "library(dplyr)         # For data wrangling (used for filtering)"
   ]
  },
  {
   "cell_type": "code",
   "execution_count": 2,
   "metadata": {
    "vscode": {
     "languageId": "r"
    }
   },
   "outputs": [],
   "source": [
    "# Function to run linear models and save results\n",
    "run_linear_model <- function(data_df, output_dir, output_suffix){\n",
    "\n",
    "    p_thresh <- 0.01  # Threshold for significance (not directly used)\n",
    "    results <- data.frame()  # Initialize results data frame\n",
    "\n",
    "    for (i in 37:ncol(data_df)) {  # Loop through each feature column\n",
    "        feature_name <- colnames(data_df)[i]\n",
    "        y <- data_df[[feature_name]]\n",
    "\n",
    "        # Split data into ACPA-positive and ACPA-negative\n",
    "        condition_a_list <- data_df[data_df$acpa == 1, i]\n",
    "        condition_b_list <- data_df[data_df$acpa == 0, i]\n",
    "        \n",
    "        # Calculate Cohen's D and log2 fold change\n",
    "        cohend <- cohen.d(condition_a_list, condition_b_list)\n",
    "        cohend_value <- cohend$estimate\n",
    "        log2fc <- log2(mean(condition_a_list, na.rm = TRUE) / mean(condition_b_list, na.rm = TRUE))\n",
    "\n",
    "        # Marginal model (no covariates)\n",
    "        marginal_model <- lm(y ~ acpa, data = data_df)\n",
    "        marginal_summary <- summary(marginal_model)\n",
    "        raw_coef <- coef(marginal_summary)[\"acpa\", \"Estimate\"]\n",
    "        raw_pval <- coef(marginal_summary)[\"acpa\", \"Pr(>|t|)\"]\n",
    "\n",
    "\n",
    "        formula_str <- \"y ~ acpa + sex + age + bmi + smoking\"\n",
    "\n",
    "        # Run full model with covariates\n",
    "        final_model <- lm(as.formula(formula_str), data = data_df)\n",
    "        final_summary <- summary(final_model)\n",
    "        adj_coef <- coef(final_summary)[\"acpa\", \"Estimate\"]\n",
    "        adj_pval <- coef(final_summary)[\"acpa\", \"Pr(>|t|)\"]\n",
    "\n",
    "        # Append results\n",
    "        results <- rbind(results, data.frame(\n",
    "            feature = feature_name,\n",
    "            cohen_d = cohend_value,\n",
    "            log2fc = log2fc,\n",
    "            raw_coef = raw_coef,\n",
    "            raw_pval = raw_pval,\n",
    "            adj_coef = adj_coef,\n",
    "            adj_pval = adj_pval,\n",
    "            stringsAsFactors = FALSE\n",
    "        ))\n",
    "    }\n",
    "        \n",
    "    # Adjust p-values for multiple testing using FDR\n",
    "    results$adj_pval_fdr <- p.adjust(results$adj_pval, method = \"fdr\")\n",
    "    cat(output_suffix, \"Number of adjusted p-values under 0.01:\", sum(results$adj_pval < 0.01), \"\\n\")\n",
    "\n",
    "    # Save result table\n",
    "    output_file <- paste0(output_dir, \"/linear_regression.\", output_suffix, \".proteomics.tsv\")\n",
    "    write.table(results, file = output_file, sep = \"\\t\", row.names = FALSE, quote = FALSE)\n",
    "}"
   ]
  },
  {
   "cell_type": "code",
   "execution_count": 3,
   "metadata": {
    "vscode": {
     "languageId": "r"
    }
   },
   "outputs": [],
   "source": [
    "#  Main function to prepare datasets and run analysis\n",
    "main <- function(input_data_df, output_dir){\n",
    "\n",
    "    subset_data_df <- filter(input_data_df, all_csdmard == 0 & bdmard == 0 & pred == 0)\n",
    "\n",
    "    # Prepare control vs ACPA-negative\n",
    "    control_vs_acpa_neg <- filter(subset_data_df, acpa == 0 | acpa == 2)\n",
    "    control_vs_acpa_neg$acpa[control_vs_acpa_neg$acpa == 2] <- 1   # Recode ACPA-neg as 1\n",
    "\n",
    "    # Prepare control vs ACPA-positive\n",
    "    control_vs_acpa_pos <- filter(subset_data_df, acpa == 0 | acpa == 1)\n",
    "\n",
    "    # Prepare ACPA-negative vs ACPA-positive\n",
    "    acpa_neg_vs_acpa_pos <- filter(subset_data_df, acpa == 1 | acpa == 2)\n",
    "    acpa_neg_vs_acpa_pos$acpa[acpa_neg_vs_acpa_pos$acpa == 1] <- 0   # ACPA-pos -> 0\n",
    "    acpa_neg_vs_acpa_pos$acpa[acpa_neg_vs_acpa_pos$acpa == 2] <- 1   # ACPA-neg -> 1\n",
    "\n",
    "    # Note on class labels after recoding\n",
    "    # acpa_neg_vs_acpa_pos: 0 = pos, 1 = neg\n",
    "    # control_vs_acpa_pos: 0 = control, 1 = pos\n",
    "    # control_vs_acpa_neg: 0 = control, 1 = neg\n",
    "\n",
    "    # Run models for each comparison\n",
    "    run_linear_model(control_vs_acpa_neg, output_dir, \"cVSneg\")\n",
    "    run_linear_model(control_vs_acpa_pos, output_dir, \"cVSpos\")\n",
    "    # run_linear_model(acpa_neg_vs_acpa_pos, output_dir, \"negVSpos\")\n",
    "}\n",
    "\n"
   ]
  },
  {
   "cell_type": "code",
   "execution_count": 4,
   "metadata": {
    "vscode": {
     "languageId": "r"
    }
   },
   "outputs": [
    {
     "name": "stdout",
     "output_type": "stream",
     "text": [
      "cVSneg Number of adjusted p-values under 0.01: 404 \n",
      "cVSpos Number of adjusted p-values under 0.01: 71 \n"
     ]
    }
   ],
   "source": [
    "# Read input data\n",
    "proteomics_df <- read.csv(\"../../../preprocessed_data/proteomics/proteomics.patient_info.tsv\", header = TRUE, sep = \"\\t\", check.names = FALSE)\n",
    "input_data_df <- proteomics_df\n",
    "protomics_output_dir  <- \"../../../analysis/statistics/linear_regression_treatment_naive/proteomics\"\n",
    "\n",
    "# Run main analysis\n",
    "main(input_data_df = input_data_df, output_dir = protomics_output_dir)"
   ]
  },
  {
   "cell_type": "code",
   "execution_count": null,
   "metadata": {
    "vscode": {
     "languageId": "r"
    }
   },
   "outputs": [],
   "source": []
  }
 ],
 "metadata": {
  "kernelspec": {
   "display_name": "R",
   "language": "R",
   "name": "ir"
  },
  "language_info": {
   "codemirror_mode": "r",
   "file_extension": ".r",
   "mimetype": "text/x-r-source",
   "name": "R",
   "pygments_lexer": "r",
   "version": "4.4.2"
  }
 },
 "nbformat": 4,
 "nbformat_minor": 2
}
