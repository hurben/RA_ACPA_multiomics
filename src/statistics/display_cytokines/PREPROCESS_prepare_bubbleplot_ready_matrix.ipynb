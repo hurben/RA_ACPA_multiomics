{
 "cells": [
  {
   "cell_type": "code",
   "execution_count": 3,
   "id": "482bc880-1a20-40a0-b23e-03d891867be2",
   "metadata": {},
   "outputs": [],
   "source": [
    "#PREPROCESS_prepare_bubbleplot_ready_matrix\n",
    "\n",
    "#input: DAP protein files (3 of them)\n",
    "\n",
    "#input2: cytokine_annoation.tsv (this is a file that removed duplicated significant cytokines.\n",
    "#cytokine_annoation.tsv have acquired using: \"PREPROCESS_identify_cytokines_from_significant_proteins\"\n",
    "#and manual selection. Please look at the output of \"PREPROCESS_identify_cytokines_from_significant_proteins\" for better understanding.\n",
    "\n",
    "import pandas as pd\n",
    "import math"
   ]
  },
  {
   "cell_type": "code",
   "execution_count": 4,
   "id": "e9743e72-d812-4dec-a912-ef24205bb39b",
   "metadata": {},
   "outputs": [],
   "source": [
    "def categorize_pval(value):\n",
    "    \n",
    "    if value > 0.05:\n",
    "        return (0)\n",
    "\n",
    "    if value < 0.05 and value > 0.01:\n",
    "        return (1)\n",
    "\n",
    "    if value < 0.01 and value > 0.005:\n",
    "        return (2)\n",
    "\n",
    "    if value < 0.005:\n",
    "        return (3)"
   ]
  },
  {
   "cell_type": "code",
   "execution_count": 6,
   "id": "e0d3f9e5-57d8-4ceb-ad48-b294920060ec",
   "metadata": {},
   "outputs": [],
   "source": [
    "annotation_file = \"../../../analysis/statistics/cytokine_boxplots/cytokine_annoation.tsv\"\n",
    "dap_file_dir = \"../../../analysis/statistics/linear_model/differential_abundance_logit\"\n",
    "\n",
    "annotation_df = pd.read_csv(annotation_file, sep=\"\\t\")\n",
    "cytokine_list = list(annotation_df[\"protein\"])\n",
    "data_dict = {}\n",
    "\n",
    "condition_list = [\"cVSneg\",\"cVSpos\",\"negVSpos\"]\n",
    "for condition in condition_list:\n",
    "\n",
    "    data_file = (f\"{dap_file_dir}/proteomics.{condition}.tsv\")\n",
    "    data_df = pd.read_csv(data_file, sep=\"\\t\")\n",
    "\n",
    "    filtered_data_df = data_df[data_df.iloc[:,0].isin(cytokine_list)].reset_index(drop=True)\n",
    "    r, c = filtered_data_df.shape\n",
    "    \n",
    "    for i in range(r):\n",
    "        protein = filtered_data_df.iloc[i, 0]\n",
    "        cohenD = filtered_data_df[\"cohenD\"][i]\n",
    "        fc_case_control = filtered_data_df[\"fc_case_control\"][i]\n",
    "        pval = filtered_data_df[\"all_adj_pval\"][i]\n",
    "\n",
    "        data_dict[protein, condition, \"cohenD\"] = cohenD\n",
    "        data_dict[protein, condition, \"fc_case_control\"] = fc_case_control\n",
    "        data_dict[protein, condition, \"pval\"] = pval\n",
    "        data_dict[protein, condition, \"cat_pvalue\"] = categorize_pval(pval)\n"
   ]
  },
  {
   "cell_type": "code",
   "execution_count": 7,
   "id": "004c62b8-76ca-42df-8bea-971e9341725a",
   "metadata": {},
   "outputs": [],
   "source": [
    "output_file = \"../../../analysis/statistics/cytokine_boxplots/cytokine.bubbleplot.ready.tsv\"\n",
    "output_txt = open(output_file, 'w')\n",
    "\n",
    "output_txt.write(\"cytokine\\tcondition\\tcohenD\\tfc_case_control\\tpval\\tcatpval\\n\")\n",
    "\n",
    "for cytokine in cytokine_list:\n",
    "    for condition in condition_list:\n",
    "        \n",
    "        output_txt.write(f\"{cytokine}\\t{condition}\\t{data_dict[cytokine, condition, \"cohenD\"]}\\t\")\n",
    "        output_txt.write(f\"{data_dict[cytokine, condition, \"fc_case_control\"]}\\t{data_dict[cytokine, condition, \"pval\"]}\\t{data_dict[cytokine, condition, \"cat_pvalue\"]}\\n\")\n",
    "\n",
    "output_txt.close()"
   ]
  },
  {
   "cell_type": "code",
   "execution_count": null,
   "id": "ba238302-e1ad-4a3f-a9ed-5a789ef3234c",
   "metadata": {},
   "outputs": [],
   "source": []
  },
  {
   "cell_type": "code",
   "execution_count": null,
   "id": "ac71092e-8024-431b-9d23-a0a3c339943b",
   "metadata": {},
   "outputs": [],
   "source": []
  }
 ],
 "metadata": {
  "kernelspec": {
   "display_name": "Python 3 (ipykernel)",
   "language": "python",
   "name": "python3"
  },
  "language_info": {
   "codemirror_mode": {
    "name": "ipython",
    "version": 3
   },
   "file_extension": ".py",
   "mimetype": "text/x-python",
   "name": "python",
   "nbconvert_exporter": "python",
   "pygments_lexer": "ipython3",
   "version": "3.12.4"
  }
 },
 "nbformat": 4,
 "nbformat_minor": 5
}
