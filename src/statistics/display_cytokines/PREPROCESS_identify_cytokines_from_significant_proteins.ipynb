{
 "cells": [
  {
   "cell_type": "code",
   "execution_count": 7,
   "id": "amended-province",
   "metadata": {},
   "outputs": [],
   "source": [
    "#PREPROCESS_identify_cytokines_from_significant_proteins\n",
    "#\n",
    "#Purpose: identify differentially abundant cytokines from differentially abundant proteins.\n",
    "\n",
    "#cytokines were defined by immport: https://www.immport.org/shared/genelists\n",
    "#differentially abundant proteins were pre-identified from previous step.\n",
    "\n",
    "import pandas as pd"
   ]
  },
  {
   "cell_type": "code",
   "execution_count": 8,
   "id": "packed-islam",
   "metadata": {},
   "outputs": [],
   "source": [
    "def get_list_from_file(data_file):\n",
    "    \n",
    "    data_df = pd.read_csv(data_file, sep =\"\\t\", header=None)\n",
    "    feature_list = []\n",
    "    r, c = data_df.shape\n",
    "    \n",
    "    for i in range(r):\n",
    "        value = data_df.iloc[i][0]\n",
    "        feature_list.append(value)\n",
    "        \n",
    "    return feature_list\n",
    "\n",
    "def get_cytokine_list_from_file(data_file):\n",
    "    \n",
    "    data_df = pd.read_csv(data_file, sep =\"\\t\")\n",
    "    feature_list = []\n",
    "    r, c = data_df.shape\n",
    "    \n",
    "    for i in range(r):\n",
    "        value = data_df.iloc[i][1]\n",
    "        feature_list.append(value)\n",
    "        \n",
    "    return feature_list\n",
    "\n",
    "def find_significant_cytokine(data_dict, cytokine_list):\n",
    "    \n",
    "    all_cytokine_list = []\n",
    "    for data_type in list(data_dict.keys()):\n",
    "        significant_protein_list = data_dict[data_type]\n",
    "        temp_cytokine_list = []\n",
    "        \n",
    "        for protein_symbol_with_barcode in significant_protein_list:\n",
    "            protein_symbol = protein_symbol_with_barcode.split('_')[0]\n",
    "            if protein_symbol in cytokine_list:\n",
    "                temp_cytokine_list.append(protein_symbol_with_barcode)\n",
    "                all_cytokine_list.append(protein_symbol_with_barcode)\n",
    "        \n",
    "    all_cytokine_list = list(set(all_cytokine_list))\n",
    "    return (all_cytokine_list)\n",
    "    "
   ]
  },
  {
   "cell_type": "code",
   "execution_count": 9,
   "id": "shared-property",
   "metadata": {},
   "outputs": [
    {
     "name": "stderr",
     "output_type": "stream",
     "text": [
      "/var/folders/7g/bxl6lwtx2z1dztdmxklgjd100000gr/T/ipykernel_23263/1331148670.py:20: FutureWarning: Series.__getitem__ treating keys as positions is deprecated. In a future version, integer keys will always be treated as labels (consistent with DataFrame behavior). To access a value by position, use `ser.iloc[pos]`\n",
      "  value = data_df.iloc[i][1]\n"
     ]
    }
   ],
   "source": [
    "cytokine_file = '../../../etc/Cytokines.txt'\n",
    "cytokine_list = get_cytokine_list_from_file(cytokine_file)"
   ]
  },
  {
   "cell_type": "code",
   "execution_count": 10,
   "id": "mathematical-nursery",
   "metadata": {},
   "outputs": [],
   "source": [
    "data_dir = '../../../analysis/statistics/gse/proteomics'\n",
    "condition_list = [\"cVSneg\",\"cVSpos\", \"negVSpos\"]\n",
    "abundance_type_list = [\"up\",\"down\"]\n",
    "\n",
    "data_dict = {}\n",
    "for abundance_type in abundance_type_list:\n",
    "    for condition in condition_list:\n",
    "        data_file = '%s/proteomics.diff.%s.%s.barcode.tsv' % (data_dir, condition, abundance_type)\n",
    "        feature_list = get_list_from_file(data_file)  \n",
    "        \n",
    "        data_type = \"%s_%s\" %(condition, abundance_type)\n",
    "        data_dict[data_type] = feature_list\n",
    "\n",
    "all_cytokine_list = find_significant_cytokine(data_dict, cytokine_list)"
   ]
  },
  {
   "cell_type": "code",
   "execution_count": 11,
   "id": "every-speaking",
   "metadata": {
    "scrolled": true
   },
   "outputs": [],
   "source": [
    "data_dir = '../../../analysis/statistics/gse/proteomics'\n",
    "condition_list = [\"cVSneg\",\"cVSpos\", \"negVSpos\"]\n",
    "abundance_type_list = [\"up\",\"down\"]\n",
    "\n",
    "data_dict = {}\n",
    "for abundance_type in abundance_type_list:\n",
    "    for condition in condition_list:\n",
    "        data_file = '%s/proteomics.diff.%s.%s.barcode.tsv' % (data_dir, condition, abundance_type)\n",
    "        feature_list = get_list_from_file(data_file)  \n",
    "        \n",
    "        data_type = \"%s_%s\" %(condition, abundance_type)\n",
    "        data_dict[data_type] = feature_list\n",
    "\n",
    "all_cytokine_list = find_significant_cytokine(data_dict, cytokine_list)\n",
    "\n",
    "proteomic_file = '../../../preprocessed_data/proteomics/somascan_anml.T.v2.tsv'\n",
    "protein_df = pd.read_csv(proteomic_file, sep=\"\\t\", index_col=0)\n",
    "subset_protein_df = protein_df.loc[all_cytokine_list]\n",
    "\n",
    "patient_info_file = '../../../preprocessed_data/meta/patient_info.ML_ready.tsv'\n",
    "patient_df = pd.read_csv(patient_info_file, sep=\"\\t\",index_col=0)\n",
    "\n",
    "acpa_info = patient_df.loc[\"acpa\"]\n",
    "\n",
    "subset_protein_df = pd.concat([acpa_info.to_frame().T, subset_protein_df, ], axis=0)\n",
    "subset_protein_df.to_csv('../../../analysis/statistics/cytokine_boxplots/all_adj_cytokine_df.tsv', sep=\"\\t\")"
   ]
  },
  {
   "cell_type": "code",
   "execution_count": 12,
   "id": "bulgarian-sensitivity",
   "metadata": {
    "scrolled": true
   },
   "outputs": [
    {
     "data": {
      "text/plain": [
       "72"
      ]
     },
     "execution_count": 12,
     "metadata": {},
     "output_type": "execute_result"
    }
   ],
   "source": [
    "len(all_cytokine_list)"
   ]
  },
  {
   "cell_type": "code",
   "execution_count": null,
   "id": "infectious-archive",
   "metadata": {},
   "outputs": [],
   "source": []
  }
 ],
 "metadata": {
  "kernelspec": {
   "display_name": "Python 3 (ipykernel)",
   "language": "python",
   "name": "python3"
  },
  "language_info": {
   "codemirror_mode": {
    "name": "ipython",
    "version": 3
   },
   "file_extension": ".py",
   "mimetype": "text/x-python",
   "name": "python",
   "nbconvert_exporter": "python",
   "pygments_lexer": "ipython3",
   "version": "3.12.4"
  }
 },
 "nbformat": 4,
 "nbformat_minor": 5
}
