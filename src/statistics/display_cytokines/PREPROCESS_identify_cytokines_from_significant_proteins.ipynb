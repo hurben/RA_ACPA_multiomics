{
 "cells": [
  {
   "cell_type": "code",
   "execution_count": 45,
   "id": "amended-province",
   "metadata": {},
   "outputs": [],
   "source": [
    "# PREPROCESS_identify_cytokines_from_significant_proteins\n",
    "#\n",
    "# Purpose: Identify differentially abundant cytokines from a list of differentially abundant proteins.\n",
    "# Cytokine definitions are based on ImmPort (https://www.immport.org/shared/genelists).\n",
    "\n",
    "import pandas as pd"
   ]
  },
  {
   "cell_type": "code",
   "execution_count": 46,
   "id": "packed-islam",
   "metadata": {},
   "outputs": [],
   "source": [
    "# Helper function to read a single-column file and return a list of features\n",
    "def get_list_from_file(data_file):\n",
    "    data_df = pd.read_csv(data_file, sep=\"\\t\", header=None)\n",
    "    feature_list = [data_df.iloc[i][0] for i in range(data_df.shape[0])]\n",
    "    return feature_list\n",
    "\n",
    "# Helper function to extract cytokine symbols from the second column of a file\n",
    "# def get_cytokine_list_from_file(data_file):\n",
    "#     data_df = pd.read_csv(data_file, sep=\"\\t\")\n",
    "#     feature_list = [data_df.iloc[i][1] for i in range(data_df.shape[0])]\n",
    "#     return feature_list\n",
    "\n",
    "def get_cytokine_list_from_file(data_file):\n",
    "    data_df = pd.read_csv(data_file, sep=\"\\t\", header=None)\n",
    "    feature_list = data_df.iloc[:, 0].tolist()\n",
    "    return feature_list\n",
    "\n",
    "\n",
    "# Main function to identify cytokine features from significant protein list\n",
    "def find_significant_cytokine(data_dict, cytokine_list):\n",
    "    all_cytokine_list = []\n",
    "    \n",
    "    #IMPORTANT_NOTE: mannually added complement factor list. These are not in ImmPort cytokine list. \n",
    "    #These were found by using DAVID, pathway mapping: Complement and coagulation cascades (from kegg)\n",
    "    #If the given data_dict is not from P < 0.01, abs(Cohen's D) > 0.5, we may need to re-evaluate this list.\n",
    "    mannual_CF_list = [\"A2M\", \"F9\", \"C5\", \"C9\", \"CFB\", \"CFD\", \"CFHR5\", \"CFI\", \"NAMPT\"]\n",
    "\n",
    "    for data_type in list(data_dict.keys()):\n",
    "        significant_protein_list = data_dict[data_type]\n",
    "        temp_cytokine_list = []\n",
    "\n",
    "        for protein_symbol_with_barcode in significant_protein_list:\n",
    "            protein_symbol = protein_symbol_with_barcode.split('_')[0]  # Get protein name prefix\n",
    "            if protein_symbol in cytokine_list:\n",
    "                print (protein_symbol)\n",
    "                temp_cytokine_list.append(protein_symbol_with_barcode)\n",
    "                all_cytokine_list.append(protein_symbol_with_barcode)\n",
    "            if protein_symbol in mannual_CF_list:\n",
    "                temp_cytokine_list.append(protein_symbol_with_barcode)\n",
    "                all_cytokine_list.append(protein_symbol_with_barcode)\n",
    "\n",
    "    # Remove duplicates\n",
    "    all_cytokine_list = list(set(all_cytokine_list))\n",
    "    return all_cytokine_list"
   ]
  },
  {
   "cell_type": "code",
   "execution_count": 47,
   "id": "shared-property",
   "metadata": {},
   "outputs": [
    {
     "name": "stdout",
     "output_type": "stream",
     "text": [
      "CXCL13\n",
      "IL1RN\n",
      "CXCL13\n",
      "TNFRSF17\n"
     ]
    }
   ],
   "source": [
    "# Load cytokine symbol list\n",
    "# cytokine_file = '../../etc/Cytokines.txt'\n",
    "# cytokine_list = get_cytokine_list_from_file(cytokine_file)\n",
    "\n",
    "cytokine_file = '../../etc/Cytokines_immport_registary.txt'\n",
    "cytokine_list = get_cytokine_list_from_file(cytokine_file)\n",
    "\n",
    "# Define data location and filtering parameters\n",
    "data_dir = '../../analysis/statistics/linear_regression/proteomics'\n",
    "condition_list = [\"cVSneg\", \"cVSpos\"]\n",
    "abundance_type_list = [\"up\", \"down\"]\n",
    "\n",
    "# Dictionary to hold filtered protein features\n",
    "data_dict = {}\n",
    "\n",
    "for abundance_type in abundance_type_list:\n",
    "    for condition in condition_list:\n",
    "        # Load result file from linear regression\n",
    "        data_file = '%s/linear_regression.%s.proteomics.tsv' % (data_dir, condition)\n",
    "        data_df = pd.read_csv(data_file, sep=\"\\t\")\n",
    "\n",
    "        # Filter for up/down-regulated proteins using effect size and FDR threshold\n",
    "        if abundance_type == \"up\":\n",
    "            filtered_df = data_df[(data_df[\"cohen_d\"] > 0.5) & (data_df[\"adj_pval\"] < 0.01)]\n",
    "        elif abundance_type == \"down\":\n",
    "            filtered_df = data_df[(data_df[\"cohen_d\"] < -0.5) & (data_df[\"adj_pval\"] < 0.01)]\n",
    "\n",
    "        # Replace '.' with '-' to match identifiers in downstream analysis\n",
    "        feature_list = filtered_df[\"feature\"].str.replace(\".\", '-', regex=False)\n",
    "        # print (feature_list)\n",
    "\n",
    "        # Store features under a condition+direction key\n",
    "        data_type = \"%s_%s\" % (condition, abundance_type)\n",
    "        data_dict[data_type] = feature_list\n",
    "\n",
    "# Identify cytokines from significant features\n",
    "all_cytokine_list = find_significant_cytokine(data_dict, cytokine_list)\n",
    "\n",
    "\n"
   ]
  },
  {
   "cell_type": "code",
   "execution_count": 48,
   "id": "infectious-archive",
   "metadata": {},
   "outputs": [],
   "source": [
    "# Load full proteomics matrix\n",
    "proteomic_file = '../../preprocessed_data/proteomics/somascan_anml.T.v2.tsv'\n",
    "protein_df = pd.read_csv(proteomic_file, sep=\"\\t\", index_col=0)\n",
    "\n",
    "# Subset the cytokine-related protein rows\n",
    "subset_protein_df = protein_df.loc[all_cytokine_list]\n",
    "\n",
    "# Load patient metadata and extract ACPA status\n",
    "patient_info_file = '../../preprocessed_data/meta/patient_info.ML_ready.tsv'\n",
    "patient_df = pd.read_csv(patient_info_file, sep=\"\\t\", index_col=0)\n",
    "acpa_info = patient_df.loc[\"acpa\"]\n",
    "\n",
    "# Add ACPA info as the first row to the protein matrix\n",
    "subset_protein_df = pd.concat([acpa_info.to_frame().T, subset_protein_df], axis=0)\n",
    "\n",
    "# Save cytokine expression matrix with ACPA annotation\n",
    "subset_protein_df.to_csv('../../analysis/cytokines/all_cytokine_df.tsv', sep=\"\\t\")"
   ]
  },
  {
   "cell_type": "code",
   "execution_count": null,
   "id": "64b6891b",
   "metadata": {},
   "outputs": [],
   "source": []
  },
  {
   "cell_type": "code",
   "execution_count": null,
   "id": "227490bf",
   "metadata": {},
   "outputs": [],
   "source": []
  }
 ],
 "metadata": {
  "kernelspec": {
   "display_name": "base",
   "language": "python",
   "name": "python3"
  },
  "language_info": {
   "codemirror_mode": {
    "name": "ipython",
    "version": 3
   },
   "file_extension": ".py",
   "mimetype": "text/x-python",
   "name": "python",
   "nbconvert_exporter": "python",
   "pygments_lexer": "ipython3",
   "version": "3.10.14"
  }
 },
 "nbformat": 4,
 "nbformat_minor": 5
}
