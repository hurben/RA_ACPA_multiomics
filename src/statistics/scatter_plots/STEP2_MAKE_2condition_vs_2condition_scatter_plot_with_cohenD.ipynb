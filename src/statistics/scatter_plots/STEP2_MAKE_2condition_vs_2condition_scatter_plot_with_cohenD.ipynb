{
 "cells": [
  {
   "cell_type": "code",
   "execution_count": 1,
   "id": "coastal-conflict",
   "metadata": {},
   "outputs": [],
   "source": [
    "#STEP2_MAKE_2condition_vs_2condition_scatter_plot_with_cohenD\n",
    "#\n",
    "#make scatter plot (2 condition vs. 2 condition)"
   ]
  },
  {
   "cell_type": "code",
   "execution_count": 2,
   "id": "encouraging-logan",
   "metadata": {},
   "outputs": [],
   "source": [
    "library(ggplot2)\n",
    "library(ggrepel)"
   ]
  },
  {
   "cell_type": "code",
   "execution_count": 3,
   "id": "mysterious-professor",
   "metadata": {},
   "outputs": [],
   "source": [
    "get_ggplot <- function(data_file, canvus_min, canvus_max, title){\n",
    "    \n",
    "    data_df <- read.csv(data_file, sep=\"\\t\", header=TRUE, row.names = 1)\n",
    "    data_df$feature <- row.names(data_df)\n",
    "\n",
    "    sig_red_subset <- subset(data_df, sig_type == 1) #significant only in cVSneg\n",
    "    sig_blue_subset <- subset(data_df, sig_type == 2) #significant only in cVSpos\n",
    "    sig_green_subset <- subset(data_df, sig_type == 3) #significant in cVSneg and cVSpos\n",
    "\n",
    "    ggplot(data_df, aes(x=cVSneg_FC, y=cVSpos_FC)) + geom_point(colour=\"grey\") + \n",
    "    coord_cartesian(xlim=c(canvus_min,canvus_max), ylim=c(canvus_min,canvus_max)) +\n",
    "    geom_point(data = sig_red_subset, colour=\"red\") +\n",
    "    geom_point(data = sig_blue_subset, colour=\"blue\") +\n",
    "    geom_point(data = sig_green_subset, colour=\"darkgreen\") +\n",
    "    geom_text_repel(data=sig_red_subset, aes(x=cVSneg_FC, y=cVSpos_FC, label=feature), colour=\"red\", size=2) +\n",
    "    geom_text_repel(data=sig_blue_subset, aes(x= cVSneg_FC, y=cVSpos_FC, label=feature), colour=\"blue\", size=2) +\n",
    "    geom_text_repel(data=sig_green_subset, aes(x= cVSneg_FC, y=cVSpos_FC, label=feature), colour=\"darkgreen\", size=2) +\n",
    "    ylab(\"Log2 Foldchange(ACPA+ / Control)\") +\n",
    "    xlab(\"Log2 Foldchange(ACPA- / Control)\") +\n",
    "    geom_abline(colour=\"grey\", lty=\"dashed\") +\n",
    "    ggtitle(title)\n",
    "    \n",
    "}\n",
    "\n",
    "get_ggplot_without_label <- function(data_file, canvus_min, canvus_max, title){\n",
    "    \n",
    "    data_df <- read.csv(data_file, sep=\"\\t\", header=TRUE, row.names = 1)\n",
    "    data_df$feature <- row.names(data_df)\n",
    "\n",
    "    sig_red_subset <- subset(data_df, sig_type == 1)\n",
    "    sig_blue_subset <- subset(data_df, sig_type == 2)\n",
    "    sig_green_subset <- subset(data_df, sig_type == 3)\n",
    "      \n",
    "    ggplot(data_df, aes(x=cVSneg_FC, y=cVSpos_FC)) + geom_point(colour=\"grey\") + \n",
    "    coord_cartesian(xlim=c(canvus_min,canvus_max), ylim=c(canvus_min,canvus_max)) +\n",
    "    geom_point(data = sig_red_subset, colour=\"red\") +\n",
    "    geom_point(data = sig_blue_subset, colour=\"blue\") +\n",
    "    geom_point(data = sig_green_subset, colour=\"darkgreen\") +\n",
    "    ylab(\"Log2 Foldchange(ACPA+ / Control)\") +\n",
    "    xlab(\"Log2 Foldchange(ACPA- / Control)\") +\n",
    "    geom_abline(colour=\"grey\", lty=\"dashed\") +\n",
    "    ggtitle(title)\n",
    "    \n",
    "}"
   ]
  },
  {
   "cell_type": "code",
   "execution_count": 5,
   "id": "casual-preference",
   "metadata": {},
   "outputs": [
    {
     "name": "stderr",
     "output_type": "stream",
     "text": [
      "Warning message:\n",
      "“ggrepel: 37 unlabeled data points (too many overlaps). Consider increasing max.overlaps”\n",
      "Warning message:\n",
      "“ggrepel: 31 unlabeled data points (too many overlaps). Consider increasing max.overlaps”\n",
      "Warning message:\n",
      "“ggrepel: 9 unlabeled data points (too many overlaps). Consider increasing max.overlaps”\n"
     ]
    },
    {
     "data": {
      "text/html": [
       "<strong>pdf:</strong> 2"
      ],
      "text/latex": [
       "\\textbf{pdf:} 2"
      ],
      "text/markdown": [
       "**pdf:** 2"
      ],
      "text/plain": [
       "pdf \n",
       "  2 "
      ]
     },
     "metadata": {},
     "output_type": "display_data"
    },
    {
     "data": {
      "text/html": [
       "<strong>pdf:</strong> 2"
      ],
      "text/latex": [
       "\\textbf{pdf:} 2"
      ],
      "text/markdown": [
       "**pdf:** 2"
      ],
      "text/plain": [
       "pdf \n",
       "  2 "
      ]
     },
     "metadata": {},
     "output_type": "display_data"
    }
   ],
   "source": [
    "proteomics_file <- \"../../../analysis/statistics/scatter_plots/data/proteomics.plot_ready.cohenD.tsv\"\n",
    "\n",
    "ggplot <- get_ggplot(proteomics_file, -1.5, 1.5, \"proteomics\")\n",
    "pdf(\"../../../analysis/statistics/scatter_plots/protomics.diff.plot.cohenD.pdf\")\n",
    "ggplot\n",
    "dev.off()\n",
    "\n",
    "\n",
    "ggplot <- get_ggplot_without_label(proteomics_file, -1.5, 1.5, \"proteomics\")\n",
    "pdf(\"../../../analysis/statistics/scatter_plots/protomics.diff.nolabel.plot.cohenD.pdf\")\n",
    "ggplot\n",
    "dev.off()\n"
   ]
  },
  {
   "cell_type": "code",
   "execution_count": 7,
   "id": "alert-device",
   "metadata": {},
   "outputs": [
    {
     "name": "stderr",
     "output_type": "stream",
     "text": [
      "Warning message:\n",
      "“ggrepel: 15 unlabeled data points (too many overlaps). Consider increasing max.overlaps”\n",
      "Warning message:\n",
      "“ggrepel: 5 unlabeled data points (too many overlaps). Consider increasing max.overlaps”\n"
     ]
    },
    {
     "data": {
      "text/html": [
       "<strong>pdf:</strong> 2"
      ],
      "text/latex": [
       "\\textbf{pdf:} 2"
      ],
      "text/markdown": [
       "**pdf:** 2"
      ],
      "text/plain": [
       "pdf \n",
       "  2 "
      ]
     },
     "metadata": {},
     "output_type": "display_data"
    },
    {
     "data": {
      "text/html": [
       "<strong>pdf:</strong> 2"
      ],
      "text/latex": [
       "\\textbf{pdf:} 2"
      ],
      "text/markdown": [
       "**pdf:** 2"
      ],
      "text/plain": [
       "pdf \n",
       "  2 "
      ]
     },
     "metadata": {},
     "output_type": "display_data"
    }
   ],
   "source": [
    "metabolomics_file <- \"../../../analysis/statistics/scatter_plots/data/metabolomics.plot_ready.cohenD.tsv\"\n",
    "ggplot <- get_ggplot(metabolomics_file, -1.5, 1.5, \"metabolomics\")\n",
    "pdf(\"../../../analysis/statistics/scatter_plots/metabolomics.diff.plot.cohenD.pdf\")\n",
    "ggplot\n",
    "dev.off()\n",
    "\n",
    "ggplot <- get_ggplot_without_label(metabolomics_file, -1.5, 1.5, \"metabolomics\")\n",
    "pdf(\"../../../analysis/statistics/scatter_plots/metabolomics.diff.nolabel.plot.cohenD.pdf\")\n",
    "ggplot\n",
    "dev.off()\n"
   ]
  },
  {
   "cell_type": "code",
   "execution_count": 8,
   "id": "searching-messaging",
   "metadata": {},
   "outputs": [
    {
     "name": "stderr",
     "output_type": "stream",
     "text": [
      "Warning message:\n",
      "“ggrepel: 7 unlabeled data points (too many overlaps). Consider increasing max.overlaps”\n"
     ]
    },
    {
     "data": {
      "text/html": [
       "<strong>pdf:</strong> 2"
      ],
      "text/latex": [
       "\\textbf{pdf:} 2"
      ],
      "text/markdown": [
       "**pdf:** 2"
      ],
      "text/plain": [
       "pdf \n",
       "  2 "
      ]
     },
     "metadata": {},
     "output_type": "display_data"
    },
    {
     "data": {
      "text/html": [
       "<strong>pdf:</strong> 2"
      ],
      "text/latex": [
       "\\textbf{pdf:} 2"
      ],
      "text/markdown": [
       "**pdf:** 2"
      ],
      "text/plain": [
       "pdf \n",
       "  2 "
      ]
     },
     "metadata": {},
     "output_type": "display_data"
    }
   ],
   "source": [
    "autoantibody_file <- \"../../../analysis/statistics/scatter_plots/data/autoantibody.plot_ready.cohenD.tsv\"\n",
    "ggplot <- get_ggplot(autoantibody_file, -0.5, 0.5, \"autoantibody\")\n",
    "pdf(\"../../../analysis/statistics/scatter_plots/autoantibody.diff.plot.cohenD.pdf\")\n",
    "ggplot\n",
    "dev.off()\n",
    "\n",
    "autoantibody_file <- \"../../../analysis/statistics/scatter_plots/data/autoantibody.plot_ready.cohenD.tsv\"\n",
    "ggplot <- get_ggplot_without_label(autoantibody_file, -0.5, 0.5, \"autoantibody\")\n",
    "pdf(\"../../../analysis/statistics/scatter_plots/autoantibody.diff.nolabel.plot.cohenD.pdf\")\n",
    "ggplot\n",
    "dev.off()\n"
   ]
  },
  {
   "cell_type": "code",
   "execution_count": null,
   "id": "beneficial-gazette",
   "metadata": {},
   "outputs": [],
   "source": []
  }
 ],
 "metadata": {
  "kernelspec": {
   "display_name": "R",
   "language": "R",
   "name": "ir"
  },
  "language_info": {
   "codemirror_mode": "r",
   "file_extension": ".r",
   "mimetype": "text/x-r-source",
   "name": "R",
   "pygments_lexer": "r",
   "version": "4.0.3"
  }
 },
 "nbformat": 4,
 "nbformat_minor": 5
}
