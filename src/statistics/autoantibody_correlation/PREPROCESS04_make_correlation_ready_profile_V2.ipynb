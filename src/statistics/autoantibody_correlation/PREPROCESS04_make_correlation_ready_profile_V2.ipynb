{
 "cells": [
  {
   "cell_type": "code",
   "execution_count": 1,
   "id": "korean-alberta",
   "metadata": {},
   "outputs": [],
   "source": [
    "#PREPROCESS_make_correlation_ready_profile_STEP3_V2      22.09.12\n",
    "\n",
    "#update: 23.01.24\n",
    "#considering acpa-neg, acpa-pos files\n",
    "\n",
    "import pandas as pd"
   ]
  },
  {
   "cell_type": "code",
   "execution_count": 2,
   "id": "65d41976-21a5-46b6-a456-9d7aa1907129",
   "metadata": {},
   "outputs": [],
   "source": [
    "def main(data_file, full_file, output_file):\n",
    "\n",
    "    data_df = pd.read_csv(data_file, sep=\"\\t\", index_col = 0)\n",
    "    metabolite_list = list(data_df.index.values)\n",
    "\n",
    "    full_df = pd.read_csv(full_file, sep=\"\\t\", index_col = 0)\n",
    "    full_metabolite_list = full_df.index.values\n",
    "    feature_list = full_df.columns.values\n",
    "\n",
    "    output_txt = open(output_file,'w')\n",
    "\n",
    "    for feature in feature_list:\n",
    "        output_txt.write('\\t%s' % feature)\n",
    "    output_txt.write('\\n')\n",
    "\n",
    "    r, c = full_df.shape\n",
    "\n",
    "    for i in range(r):\n",
    "        metabolite = full_metabolite_list[i]\n",
    "\n",
    "        if metabolite in metabolite_list:\n",
    "            output_txt.write('%s' % metabolite)\n",
    "            for j in range(c):\n",
    "                value = full_df.iloc[i][j]\n",
    "                output_txt.write('\\t%s' % value)\n",
    "            output_txt.write('\\n')\n",
    "\n",
    "    output_txt.close()\n"
   ]
  },
  {
   "cell_type": "code",
   "execution_count": 3,
   "id": "suburban-prospect",
   "metadata": {},
   "outputs": [],
   "source": [
    "data_dir = '../../../analysis/statistics/autoantibody_correlation_v2'\n",
    "\n",
    "data_file = '%s/autoantibody_patient_info_correlation.acpa_pos.filtered.bin.tsv' % (data_dir)\n",
    "full_file = '%s/autoantibody_patient_info_correlation.acpa_pos.full.tsv' % (data_dir)\n",
    "output_file = '%s/autoantibody_patient_info_correlation.acpa_pos.filtered.main.tsv' % (data_dir)\n",
    "main(data_file, full_file, output_file)\n",
    "\n",
    "data_file = '%s/autoantibody_patient_info_correlation.acpa_neg.filtered.bin.tsv' % (data_dir)\n",
    "full_file = '%s/autoantibody_patient_info_correlation.acpa_neg.full.tsv' % (data_dir)\n",
    "output_file = '%s/autoantibody_patient_info_correlation.acpa_neg.filtered.main.tsv' % (data_dir)\n",
    "main(data_file, full_file, output_file)"
   ]
  },
  {
   "cell_type": "code",
   "execution_count": null,
   "id": "changed-integrity",
   "metadata": {},
   "outputs": [],
   "source": []
  }
 ],
 "metadata": {
  "kernelspec": {
   "display_name": "Python 3",
   "language": "python",
   "name": "python3"
  },
  "language_info": {
   "codemirror_mode": {
    "name": "ipython",
    "version": 3
   },
   "file_extension": ".py",
   "mimetype": "text/x-python",
   "name": "python",
   "nbconvert_exporter": "python",
   "pygments_lexer": "ipython3",
   "version": "3.9.1"
  }
 },
 "nbformat": 4,
 "nbformat_minor": 5
}
