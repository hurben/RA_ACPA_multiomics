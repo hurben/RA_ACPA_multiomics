{
 "cells": [
  {
   "cell_type": "code",
   "execution_count": 1,
   "id": "korean-alberta",
   "metadata": {},
   "outputs": [],
   "source": [
    "#PREPROCESS_calculate_correlation_STEP2      22.04.14\n",
    "#After STEP1, some features do not have significant correlation.\n",
    "#This step is to remove features that have no correlations to other clinical covariates\n",
    "#and also corr > 0.4\n",
    "\n",
    "import pandas as pd"
   ]
  },
  {
   "cell_type": "code",
   "execution_count": 4,
   "id": "suburban-prospect",
   "metadata": {},
   "outputs": [],
   "source": [
    "data_dir = '../../../analysis/statistics/metabolite_correlation'\n",
    "\n",
    "data_file = '%s/metabolite_patient_info_correlation.filtered.tsv' % (data_dir)\n",
    "data_df = pd.read_csv(data_file, sep=\"\\t\", index_col = 0)\n",
    "r, c = data_df.shape\n",
    "\n",
    "alpha_feature_list = data_df.index.values\n",
    "beta_feature_list = data_df.columns.values\n",
    "\n",
    "output_file = '%s/metabolite_patient_info_correlation.filtered.v2.tsv' % (data_dir)\n",
    "\n",
    "output_txt = open(output_file,'w')\n",
    "#write header\n",
    "for beta_feature in beta_feature_list:\n",
    "    output_txt.write('\\t%s' % beta_feature)\n",
    "output_txt.write('\\n')\n",
    "\n",
    "for i in range(r):\n",
    "    alpha_feature = alpha_feature_list[i]\n",
    "    sig_count = 0\n",
    "\n",
    "    for beta_feature in beta_feature_list:\n",
    "        corr = data_df[beta_feature][i]\n",
    "        if corr != 0:\n",
    "            if corr > 0.4 or corr < -0.4:\n",
    "                sig_count += 1\n",
    "\n",
    "    if sig_count >= 1: #write feature and correlations \n",
    "        output_txt.write(alpha_feature)\n",
    "        for beta_feature in beta_feature_list:\n",
    "            corr = data_df[beta_feature][i]\n",
    "            output_txt.write('\\t%s' % corr)\n",
    "        output_txt.write('\\n')\n",
    "\n",
    "\n",
    "output_txt.close()"
   ]
  },
  {
   "cell_type": "code",
   "execution_count": null,
   "id": "immune-calendar",
   "metadata": {},
   "outputs": [],
   "source": []
  }
 ],
 "metadata": {
  "kernelspec": {
   "display_name": "Python 3",
   "language": "python",
   "name": "python3"
  },
  "language_info": {
   "codemirror_mode": {
    "name": "ipython",
    "version": 3
   },
   "file_extension": ".py",
   "mimetype": "text/x-python",
   "name": "python",
   "nbconvert_exporter": "python",
   "pygments_lexer": "ipython3",
   "version": "3.9.1"
  }
 },
 "nbformat": 4,
 "nbformat_minor": 5
}
