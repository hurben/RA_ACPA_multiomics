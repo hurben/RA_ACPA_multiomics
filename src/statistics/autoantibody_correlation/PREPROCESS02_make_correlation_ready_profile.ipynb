{
 "cells": [
  {
   "cell_type": "code",
   "execution_count": 1,
   "id": "korean-alberta",
   "metadata": {},
   "outputs": [],
   "source": [
    "#PREPROCESS_calculate_correlation_STEP2_V2     22.04.14\n",
    "#After STEP1, some features do not have significant correlation.\n",
    "#This step is to remove features that have no correlations to other clinical covariates\n",
    "#and also corr > 0.4\n",
    "\n",
    "#update: 23.01.24\n",
    "#considering acpa-neg, acpa-pos files\n",
    "\n",
    "import pandas as pd"
   ]
  },
  {
   "cell_type": "code",
   "execution_count": 2,
   "id": "2f32e9e9-58ba-42e3-bb5f-7c40a43cf6b5",
   "metadata": {},
   "outputs": [],
   "source": [
    "def main(data_file, output_file):\n",
    "\n",
    "    data_df = pd.read_csv(data_file, sep=\"\\t\", index_col = 0)\n",
    "    r, c = data_df.shape\n",
    "\n",
    "    alpha_feature_list = data_df.index.values\n",
    "    beta_feature_list = data_df.columns.values\n",
    "\n",
    "    output_txt = open(output_file,'w')\n",
    "    #write header\n",
    "    for beta_feature in beta_feature_list:\n",
    "        output_txt.write('\\t%s' % beta_feature)\n",
    "    output_txt.write('\\n')\n",
    "\n",
    "    for i in range(r):\n",
    "        alpha_feature = alpha_feature_list[i]\n",
    "        sig_count = 0\n",
    "\n",
    "        for beta_feature in beta_feature_list:\n",
    "            corr = data_df[beta_feature][i]\n",
    "            if corr != 0:\n",
    "                if corr > 0.4 or corr < -0.4:\n",
    "                    sig_count += 1\n",
    "\n",
    "        if sig_count >= 1: #write feature and correlations \n",
    "            output_txt.write(alpha_feature)\n",
    "            for beta_feature in beta_feature_list:\n",
    "                corr = data_df[beta_feature][i]\n",
    "                output_txt.write('\\t%s' % corr)\n",
    "            output_txt.write('\\n')\n",
    "\n",
    "    output_txt.close()"
   ]
  },
  {
   "cell_type": "code",
   "execution_count": 3,
   "id": "suburban-prospect",
   "metadata": {},
   "outputs": [],
   "source": [
    "data_dir = '../../../analysis/statistics/autoantibody_correlation_v2'\n",
    "\n",
    "data_file = '%s/autoantibody_patient_info_correlation.acpa_pos.tsv' % (data_dir)\n",
    "output_file = '%s/autoantibody_patient_info_correlation.acpa_pos.filtered.tsv' % (data_dir)\n",
    "main(data_file, output_file)\n",
    "    \n",
    "data_file = '%s/autoantibody_patient_info_correlation.acpa_neg.tsv' % (data_dir)\n",
    "output_file = '%s/autoantibody_patient_info_correlation.acpa_neg.filtered.tsv' % (data_dir)\n",
    "main(data_file, output_file)"
   ]
  },
  {
   "cell_type": "code",
   "execution_count": null,
   "id": "immune-calendar",
   "metadata": {},
   "outputs": [],
   "source": []
  }
 ],
 "metadata": {
  "kernelspec": {
   "display_name": "Python 3 (ipykernel)",
   "language": "python",
   "name": "python3"
  },
  "language_info": {
   "codemirror_mode": {
    "name": "ipython",
    "version": 3
   },
   "file_extension": ".py",
   "mimetype": "text/x-python",
   "name": "python",
   "nbconvert_exporter": "python",
   "pygments_lexer": "ipython3",
   "version": "3.11.6"
  }
 },
 "nbformat": 4,
 "nbformat_minor": 5
}
