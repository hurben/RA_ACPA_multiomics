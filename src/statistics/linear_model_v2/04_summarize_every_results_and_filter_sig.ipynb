{
 "cells": [
  {
   "cell_type": "code",
   "execution_count": 1,
   "id": "verbal-agency",
   "metadata": {},
   "outputs": [],
   "source": [
    "#03_summarize_every_results\n",
    "#\n",
    "#leverage results from *.padj.tsv* (created by \"02_calculated_BH_pvalues\")\n",
    "#   - simply adding foldchange values\n",
    "\n",
    "import pandas as pd\n",
    "import statistics\n",
    "import math"
   ]
  },
  {
   "cell_type": "code",
   "execution_count": 2,
   "id": "impossible-absolute",
   "metadata": {},
   "outputs": [],
   "source": [
    "analysis_result_dir = '../../../analysis/statistics/linear_model/differential_abundance_v2/'\n",
    "patient_info_file = '../../../preprocessed_data/meta/patient_info.ML_ready.tsv'\n",
    "\n",
    "comparison_list = ['cVSneg', 'cVSpos','negVSpos']\n",
    "condition_list = ['autoantibody','metabolomics','proteomics']\n",
    "\n",
    "for condition in condition_list:\n",
    "    \n",
    "    if condition == 'metabolomics':\n",
    "        data_profile_file = '../../../preprocessed_data/metabolomics/metabolone_raw_norm_preprocessed.v2.tsv'\n",
    "    if condition == 'proteomics':\n",
    "        data_profile_file = '../../../preprocessed_data/proteomics/somascan_anml.T.v2.tsv'\n",
    "    if condition == 'autoantibody':\n",
    "        data_profile_file = '../../../preprocessed_data/autoantibody/sengenics_qnorm_data.v2.tsv'\n",
    "    \n",
    "    feature_info_dict = {}\n",
    "\n",
    "    for comparison in comparison_list:\n",
    "        data_file = '%s%s.%s.padj.v2.tsv' % (analysis_result_dir, condition, comparison)\n",
    "        data_df = pd.read_csv(data_file, sep=\"\\t\", index_col=0)\n",
    "        feature_list = data_df.index.values\n",
    "        r, c = data_df.shape\n",
    "        for i in range(r):\n",
    "            feature = feature_list[i]\n",
    "            cohenD = data_df[\"cohenD\"][i]\n",
    "            pval = data_df[\"pval\"][i]\n",
    "            padj = data_df[\"padj\"][i]\n",
    "            fc = data_df[\"fc_case_control\"][i]\n",
    "\n",
    "            group_a = comparison.split('VS')[0]\n",
    "            group_b = comparison.split('VS')[1]\n",
    "\n",
    "            feature_info_dict[comparison, feature] = [cohenD, pval, padj, fc]\n",
    "            \n",
    "        #write first output for the record\n",
    "        #condition.comparison.v2.tsv\n",
    "        output_file = '%s%s.%s.padj.sig.tsv' % (analysis_result_dir, condition, comparison)\n",
    "        output_txt = open(output_file,'w')\n",
    "        output_txt.write('\\tcohenD\\tfc_case_control\\tpval\\tpadj\\n')\n",
    "        for feature in feature_list:\n",
    "            \n",
    "            cohenD = feature_info_dict[comparison, feature][0]\n",
    "            pval = feature_info_dict[comparison, feature][1]\n",
    "            padj = feature_info_dict[comparison, feature][2]\n",
    "            fc = feature_info_dict[comparison, feature][3]\n",
    "\n",
    "            if cohenD < -0.5 or cohenD > 0.5:\n",
    "                \n",
    "                if condition == \"autoantibody\":\n",
    "                    if pval < 0.05:\n",
    "                        output_txt.write('%s\\t%s\\t%s\\t%s\\t%s\\n' % (feature, cohenD, fc, pval, padj))\n",
    "                \n",
    "                else:\n",
    "                    if pval < 0.01:\n",
    "                        output_txt.write('%s\\t%s\\t%s\\t%s\\t%s\\n' % (feature, cohenD, fc, pval, padj))\n",
    "\n",
    "        output_txt.close()\n",
    "\n",
    "\n"
   ]
  },
  {
   "cell_type": "code",
   "execution_count": null,
   "id": "registered-toronto",
   "metadata": {},
   "outputs": [],
   "source": []
  },
  {
   "cell_type": "code",
   "execution_count": null,
   "id": "spiritual-wells",
   "metadata": {},
   "outputs": [],
   "source": []
  }
 ],
 "metadata": {
  "kernelspec": {
   "display_name": "Python 3 (ipykernel)",
   "language": "python",
   "name": "python3"
  },
  "language_info": {
   "codemirror_mode": {
    "name": "ipython",
    "version": 3
   },
   "file_extension": ".py",
   "mimetype": "text/x-python",
   "name": "python",
   "nbconvert_exporter": "python",
   "pygments_lexer": "ipython3",
   "version": "3.11.4"
  }
 },
 "nbformat": 4,
 "nbformat_minor": 5
}
