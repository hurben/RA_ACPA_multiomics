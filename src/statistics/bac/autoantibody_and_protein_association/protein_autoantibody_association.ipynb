{
 "cells": [
  {
   "cell_type": "code",
   "execution_count": null,
   "id": "worth-telescope",
   "metadata": {},
   "outputs": [],
   "source": []
  },
  {
   "cell_type": "code",
   "execution_count": 63,
   "id": "demanding-procurement",
   "metadata": {},
   "outputs": [],
   "source": [
    "import pandas as pd\n",
    "\n",
    "def get_list_from_file(data_file):\n",
    "    \n",
    "    data_df = pd.read_csv(data_file, sep =\"\\t\", header=None)\n",
    "    feature_list = []\n",
    "    r, c = data_df.shape\n",
    "    \n",
    "    for i in range(r):\n",
    "        value = data_df.iloc[i][0]\n",
    "        feature_list.append(value)\n",
    "        \n",
    "    return feature_list\n",
    "\n",
    "def make_protein_dict_from_file(data_file, condition, data_dict, protein_list):\n",
    "    \n",
    "    data_df = pd.read_csv(data_file, sep =\"\\t\", index_col=0)\n",
    "    protein_list = data_df.index.values\n",
    "    r, c = data_df.shape\n",
    "\n",
    "    for i in range(r):\n",
    "        protein_name = protein_list[i]\n",
    "        coef = data_df[\"coef\"][i]\n",
    "        cohenD = data_df[\"cohenD\"][i]\n",
    "        pval = data_df[\"pval\"][i]\n",
    "        data_dict[protein_name, condition] = [coef,cohenD,pval]\n",
    "        if protein_name not in protein_list:\n",
    "            protein_list.append(protein_name)\n",
    "#         print (protein_name, coef, cohenD, pval)\n",
    "        \n",
    "    return data_dict, protein_list\n",
    "\n",
    "def find_sig_aa_protein_association(aa_list, protein_dict, protein_list, condition):\n",
    "    \n",
    "    print (condition)\n",
    "    for protein_with_barcode in protein_list:\n",
    "        protein_without_barcode = protein_with_barcode.split('_')[0]\n",
    "        if protein_without_barcode in aa_list:            \n",
    "            coef = protein_dict[protein_with_barcode, condition][0]\n",
    "            cohenD = protein_dict[protein_with_barcode, condition][1]\n",
    "            pval = protein_dict[protein_with_barcode, condition][2]\n",
    "\n",
    "            if pval < 0.05:\n",
    "                print (protein_without_barcode, coef, cohenD, pval)\n",
    "\n",
    "            \n",
    "    \n",
    "    "
   ]
  },
  {
   "cell_type": "code",
   "execution_count": 61,
   "id": "capable-bridge",
   "metadata": {},
   "outputs": [],
   "source": [
    "data_dir = '../../../analysis/statistics/linear_model/differential_abundance'\n",
    "condition_list = [\"cVSneg\",\"cVSpos\"]\n",
    "protein_dict = {}\n",
    "protein_list = []\n",
    "\n",
    "for condition in condition_list:\n",
    "\n",
    "    data_file = '%s/proteomics.%s.tsv' % (data_dir, condition)\n",
    "    protein_dict, protein_list = make_protein_dict_from_file(data_file, condition, protein_dict, protein_list)          \n",
    "    data_type = \"%s\" %(condition)\n",
    "    protein_dict[data_type] = feature_list"
   ]
  },
  {
   "cell_type": "code",
   "execution_count": 56,
   "id": "eligible-international",
   "metadata": {},
   "outputs": [],
   "source": [
    "data_dir = '../../../analysis/statistics/gse/autoantibody'\n",
    "condition_list = [\"cVSneg\",\"cVSpos\"]\n",
    "abundance_type_list = [\"up\",\"down\"]\n",
    "\n",
    "aa_sig_dict = {}\n",
    "\n",
    "#make aa_sig_dict\n",
    "for abundance_type in abundance_type_list:\n",
    "    for condition in condition_list:\n",
    "        data_file = '%s/autoantibody.diff.%s.%s.tsv' % (data_dir, condition, abundance_type)\n",
    "        feature_list = get_list_from_file(data_file)          \n",
    "        data_type = \"%s_%s\" %(condition, abundance_type)        \n",
    "        aa_sig_dict[data_type] = feature_list\n"
   ]
  },
  {
   "cell_type": "code",
   "execution_count": 65,
   "id": "hungry-logging",
   "metadata": {},
   "outputs": [
    {
     "data": {
      "text/plain": [
       "['CDO1', 'NCK1', 'NHLH1']"
      ]
     },
     "execution_count": 65,
     "metadata": {},
     "output_type": "execute_result"
    }
   ],
   "source": [
    "aa_sig_dict[\"cVSneg_down\"]"
   ]
  },
  {
   "cell_type": "code",
   "execution_count": 64,
   "id": "complicated-opening",
   "metadata": {
    "scrolled": true
   },
   "outputs": [
    {
     "name": "stdout",
     "output_type": "stream",
     "text": [
      "cVSneg\n",
      "cVSneg\n",
      "cVSpos\n",
      "MUTYH 33.7775 0.466731772733167 0.0401276535407683\n",
      "cVSpos\n"
     ]
    }
   ],
   "source": [
    "find_sig_aa_protein_association(aa_sig_dict[\"cVSneg_up\"], protein_dict, protein_list, \"cVSneg\")\n",
    "find_sig_aa_protein_association(aa_sig_dict[\"cVSneg_down\"], protein_dict, protein_list, \"cVSneg\")\n",
    "find_sig_aa_protein_association(aa_sig_dict[\"cVSpos_up\"], protein_dict, protein_list, \"cVSpos\")\n",
    "find_sig_aa_protein_association(aa_sig_dict[\"cVSpos_down\"], protein_dict, protein_list, \"cVSpos\")"
   ]
  },
  {
   "cell_type": "code",
   "execution_count": null,
   "id": "mexican-share",
   "metadata": {},
   "outputs": [],
   "source": []
  }
 ],
 "metadata": {
  "kernelspec": {
   "display_name": "Python 3",
   "language": "python",
   "name": "python3"
  },
  "language_info": {
   "codemirror_mode": {
    "name": "ipython",
    "version": 3
   },
   "file_extension": ".py",
   "mimetype": "text/x-python",
   "name": "python",
   "nbconvert_exporter": "python",
   "pygments_lexer": "ipython3",
   "version": "3.9.1"
  }
 },
 "nbformat": 4,
 "nbformat_minor": 5
}
