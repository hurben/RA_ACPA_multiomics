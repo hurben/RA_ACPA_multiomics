{
 "cells": [
  {
   "cell_type": "code",
   "execution_count": 2,
   "id": "checked-hammer",
   "metadata": {},
   "outputs": [],
   "source": [
    "#01_DifferentialAbundance_and_cohens_D\n",
    "#\n",
    "#use linear model to identify differentially abundant features (for each omics)\n",
    "#[1] features (or predictors) that have significant coefficients (p < 0.05; P < 0.01)\n",
    "#           -> whether ACPA status (predictor) has affected the abundance of the feature (response).\n",
    "#[2] features Cohend's D above medium (i.e., 0.5)\n",
    "#features that fulfills [1] + [2] will considerexd as differentially abundant.\n",
    "\n",
    "library(\"effsize\")\n",
    "library(lme4)\n",
    "library(lmerTest)\n",
    "library(stringr)\n",
    "library(effects)\n",
    "library(dplyr)\n"
   ]
  },
  {
   "cell_type": "code",
   "execution_count": 3,
   "id": "excessive-scout",
   "metadata": {},
   "outputs": [],
   "source": [
    "main <- function(input_data_file, patient_info_file, output_dir, output_str){\n",
    "    \n",
    "    input_data_df <- read.csv(input_data_file, sep=\"\\t\", header=TRUE, row.names=1)\n",
    "    patient_info_df <- read.csv(patient_info_file, sep=\"\\t\", header=TRUE, row.names=1)\n",
    "\n",
    "    merged_data_df <- rbind(patient_info_df[1,], input_data_df) #acpa    \n",
    "    merged_data_df <- as.data.frame(t(merged_data_df))\n",
    "\n",
    "    #control vs RA\n",
    "    control_vs_ra_df <- merged_data_df\n",
    "    control_vs_ra_df$acpa[control_vs_ra_df$acpa == 2] <- 1 #changing class to 2 -> 1; making 0 vs 1\n",
    "    \n",
    "    #control vs acpa neg\n",
    "    control_vs_acpa_neg <- filter(merged_data_df, acpa == 0 | acpa == 2)\n",
    "    control_vs_acpa_neg$acpa[control_vs_acpa_neg$acpa == 2] <- 1   #changing class 2 -> 1; making 0 vs 1\n",
    "\n",
    "    #control vs acpa pos\n",
    "    control_vs_acpa_pos <- filter(merged_data_df, acpa == 0 | acpa == 1)\n",
    "\n",
    "    #acpa neg vs acpa pos\n",
    "    acpa_neg_vs_acpa_pos <- filter(merged_data_df, acpa == 1 | acpa == 2)\n",
    "    acpa_neg_vs_acpa_pos$acpa[acpa_neg_vs_acpa_pos$acpa == 1] <- 0   #changing class 2 -> 0\n",
    "    acpa_neg_vs_acpa_pos$acpa[acpa_neg_vs_acpa_pos$acpa == 2] <- 1   #changing class 2 -> 1\n",
    "    \n",
    "    run_cohenD_and_glm(control_vs_ra_df, 0, 1, output_dir, output_str, '.cVSra')\n",
    "    run_cohenD_and_glm(control_vs_acpa_neg, 0, 1, output_dir, output_str, '.cVSneg')\n",
    "    run_cohenD_and_glm(control_vs_acpa_pos, 0, 1, output_dir, output_str, '.cVSpos')\n",
    "    run_cohenD_and_glm(acpa_neg_vs_acpa_pos, 0, 1, output_dir, output_str, '.negVSpos')\n",
    "    \n",
    "}\n",
    "\n",
    "run_cohenD_and_glm <- function(data_df, condition_a_num, condition_b_num, output_dir, output_str, output_type){\n",
    "    \n",
    "    NUM_FEATURES <- ncol(data_df)\n",
    "    temp_condition_a_df <- filter(data_df, acpa == condition_a_num) #this is necessary for cohends D\n",
    "    temp_condition_b_df <- filter(data_df, acpa == condition_b_num) #this is necessary for cohends D   \n",
    "    \n",
    "    output_txt <- paste(output_dir,output_str,output_type, '.tsv', sep=\"\") \n",
    "    if (file.exists(output_txt)) {\n",
    "        #Delete file if it exists\n",
    "        file.remove(output_txt)\n",
    "    }\n",
    "\n",
    "    output_string <- \"\\tcoef\\tcohenD\\tpval\\n\"\n",
    "    cat(output_string, file=output_txt, append=TRUE)\n",
    "    \n",
    "    for (i in 1:NUM_FEATURES){\n",
    "        if (i > 1){\n",
    "            \n",
    "            feature <- colnames(data_df)[i]\n",
    "            \n",
    "            #calculate cohens D between two population\n",
    "            condition_a_list <- temp_condition_a_df[,i]\n",
    "            condition_b_list <- temp_condition_b_df[,i]\n",
    "            cohend = cohen.d(condition_a_list,condition_b_list)\n",
    "            cohend_value <- abs(cohend$estimate)\n",
    "  \n",
    "            #calculate the significance of the linear model\n",
    "            glm_results <- glm(data_df[,i] ~ data_df[,1])\n",
    "            feature_coef <- (coef(summary(glm_results))[,1][2])\n",
    "            feature_pval <- (coef(summary(glm_results))[,4][2])\n",
    "\n",
    "            output_string <- paste(feature, \"\\t\", feature_coef, \"\\t\", cohend_value,\"\\t\", feature_pval, \"\\n\", sep=\"\")\n",
    "            cat(output_string, file=output_txt,append=TRUE)\n",
    "        } \n",
    "    }\n",
    "}\n"
   ]
  },
  {
   "cell_type": "code",
   "execution_count": 6,
   "id": "focused-robertson",
   "metadata": {},
   "outputs": [
    {
     "name": "stdout",
     "output_type": "stream",
     "text": [
      "[1] \"Dir already exists!\"\n"
     ]
    }
   ],
   "source": [
    "#Main\n",
    "output_dir = '../../../analysis/statistics/linear_model/differential_abundance_v2/'\n",
    "\n",
    "#make directory if it does not exist\n",
    "if (!dir.exists(output_dir)){\n",
    "dir.create(output_dir)\n",
    "} else {\n",
    "    print(\"Dir already exists!\")\n",
    "}\n",
    "\n",
    "autoantibody_data_file = '../../../preprocessed_data/autoantibody/sengenics_qnorm_data.v2.tsv'\n",
    "proteomics_data_file = '../../../preprocessed_data/proteomics/somascan_anml.T.v2.tsv'\n",
    "metabolomics_data_file = '../../../preprocessed_data/metabolomics/metabolone_raw_norm_preprocessed.v2.tsv'\n",
    "patient_info_file = '../../../preprocessed_data/meta/patient_info.ML_ready.tsv'"
   ]
  },
  {
   "cell_type": "code",
   "execution_count": 7,
   "id": "standard-stationery",
   "metadata": {},
   "outputs": [],
   "source": [
    "main(autoantibody_data_file, patient_info_file, output_dir, 'autoantibody')\n",
    "main(metabolomics_data_file, patient_info_file, output_dir, 'metabolomics')\n",
    "main(proteomics_data_file, patient_info_file, output_dir, 'proteomics')\n"
   ]
  },
  {
   "cell_type": "code",
   "execution_count": null,
   "id": "comic-mixture",
   "metadata": {},
   "outputs": [],
   "source": []
  },
  {
   "cell_type": "code",
   "execution_count": null,
   "id": "endangered-doctor",
   "metadata": {},
   "outputs": [],
   "source": []
  }
 ],
 "metadata": {
  "kernelspec": {
   "display_name": "R",
   "language": "R",
   "name": "ir"
  },
  "language_info": {
   "codemirror_mode": "r",
   "file_extension": ".r",
   "mimetype": "text/x-r-source",
   "name": "R",
   "pygments_lexer": "r",
   "version": "4.0.3"
  }
 },
 "nbformat": 4,
 "nbformat_minor": 5
}
