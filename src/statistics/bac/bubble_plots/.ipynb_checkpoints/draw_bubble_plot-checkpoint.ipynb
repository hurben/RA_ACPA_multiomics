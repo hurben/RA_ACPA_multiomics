{
 "cells": [
  {
   "cell_type": "code",
   "execution_count": 70,
   "id": "a1af97c2-596c-4843-89f8-4c67236cb9ed",
   "metadata": {},
   "outputs": [],
   "source": [
    "library(ggplot2)\n",
    "library(dplyr)\n",
    "library(tidyverse)\n",
    "library(plotly)"
   ]
  },
  {
   "cell_type": "code",
   "execution_count": 76,
   "id": "dc4b8dcf-9f2d-42bf-985b-5dcc5ae62821",
   "metadata": {},
   "outputs": [
    {
     "data": {
      "text/html": [
       "<table class=\"dataframe\">\n",
       "<caption>A data.frame: 6 × 4</caption>\n",
       "<thead>\n",
       "\t<tr><th></th><th scope=col>data_label</th><th scope=col>pathway</th><th scope=col>significance</th><th scope=col>size</th></tr>\n",
       "\t<tr><th></th><th scope=col>&lt;chr&gt;</th><th scope=col>&lt;chr&gt;</th><th scope=col>&lt;dbl&gt;</th><th scope=col>&lt;dbl&gt;</th></tr>\n",
       "</thead>\n",
       "<tbody>\n",
       "\t<tr><th scope=row>1</th><td>cVSneg_up</td><td>[Lipid] Sphingosines                                               </td><td>1.377786</td><td>0.3333333</td></tr>\n",
       "\t<tr><th scope=row>2</th><td>cVSneg_up</td><td>[Lipid] Carnitine Metabolism                                       </td><td>0.000000</td><td>0.0000000</td></tr>\n",
       "\t<tr><th scope=row>3</th><td>cVSneg_up</td><td>[Carbohydrate] Glycolysis, Gluconeogenesis, and Pyruvate Metabolism</td><td>2.568636</td><td>0.3333333</td></tr>\n",
       "\t<tr><th scope=row>4</th><td>cVSneg_up</td><td>[Xenobiotics] Chemical                                             </td><td>0.000000</td><td>0.0000000</td></tr>\n",
       "\t<tr><th scope=row>5</th><td>cVSneg_up</td><td>[Lipid] Endocannabinoid                                            </td><td>0.000000</td><td>0.0000000</td></tr>\n",
       "\t<tr><th scope=row>6</th><td>cVSneg_up</td><td>[Lipid] Sphingolipid Synthesis                                     </td><td>1.377786</td><td>0.3333333</td></tr>\n",
       "</tbody>\n",
       "</table>\n"
      ],
      "text/latex": [
       "A data.frame: 6 × 4\n",
       "\\begin{tabular}{r|llll}\n",
       "  & data\\_label & pathway & significance & size\\\\\n",
       "  & <chr> & <chr> & <dbl> & <dbl>\\\\\n",
       "\\hline\n",
       "\t1 & cVSneg\\_up & {[}Lipid{]} Sphingosines                                                & 1.377786 & 0.3333333\\\\\n",
       "\t2 & cVSneg\\_up & {[}Lipid{]} Carnitine Metabolism                                        & 0.000000 & 0.0000000\\\\\n",
       "\t3 & cVSneg\\_up & {[}Carbohydrate{]} Glycolysis, Gluconeogenesis, and Pyruvate Metabolism & 2.568636 & 0.3333333\\\\\n",
       "\t4 & cVSneg\\_up & {[}Xenobiotics{]} Chemical                                              & 0.000000 & 0.0000000\\\\\n",
       "\t5 & cVSneg\\_up & {[}Lipid{]} Endocannabinoid                                             & 0.000000 & 0.0000000\\\\\n",
       "\t6 & cVSneg\\_up & {[}Lipid{]} Sphingolipid Synthesis                                      & 1.377786 & 0.3333333\\\\\n",
       "\\end{tabular}\n"
      ],
      "text/markdown": [
       "\n",
       "A data.frame: 6 × 4\n",
       "\n",
       "| <!--/--> | data_label &lt;chr&gt; | pathway &lt;chr&gt; | significance &lt;dbl&gt; | size &lt;dbl&gt; |\n",
       "|---|---|---|---|---|\n",
       "| 1 | cVSneg_up | [Lipid] Sphingosines                                                | 1.377786 | 0.3333333 |\n",
       "| 2 | cVSneg_up | [Lipid] Carnitine Metabolism                                        | 0.000000 | 0.0000000 |\n",
       "| 3 | cVSneg_up | [Carbohydrate] Glycolysis, Gluconeogenesis, and Pyruvate Metabolism | 2.568636 | 0.3333333 |\n",
       "| 4 | cVSneg_up | [Xenobiotics] Chemical                                              | 0.000000 | 0.0000000 |\n",
       "| 5 | cVSneg_up | [Lipid] Endocannabinoid                                             | 0.000000 | 0.0000000 |\n",
       "| 6 | cVSneg_up | [Lipid] Sphingolipid Synthesis                                      | 1.377786 | 0.3333333 |\n",
       "\n"
      ],
      "text/plain": [
       "  data_label\n",
       "1 cVSneg_up \n",
       "2 cVSneg_up \n",
       "3 cVSneg_up \n",
       "4 cVSneg_up \n",
       "5 cVSneg_up \n",
       "6 cVSneg_up \n",
       "  pathway                                                            \n",
       "1 [Lipid] Sphingosines                                               \n",
       "2 [Lipid] Carnitine Metabolism                                       \n",
       "3 [Carbohydrate] Glycolysis, Gluconeogenesis, and Pyruvate Metabolism\n",
       "4 [Xenobiotics] Chemical                                             \n",
       "5 [Lipid] Endocannabinoid                                            \n",
       "6 [Lipid] Sphingolipid Synthesis                                     \n",
       "  significance size     \n",
       "1 1.377786     0.3333333\n",
       "2 0.000000     0.0000000\n",
       "3 2.568636     0.3333333\n",
       "4 0.000000     0.0000000\n",
       "5 0.000000     0.0000000\n",
       "6 1.377786     0.3333333"
      ]
     },
     "metadata": {},
     "output_type": "display_data"
    }
   ],
   "source": [
    "input_file = \"../../../analysis/statistics/gse/metabolomics/plot/bubble_plot_ready.tsv\"\n",
    "input_df = read.csv(input_file, sep=\"\\t\")\n",
    "head(input_df)"
   ]
  },
  {
   "cell_type": "code",
   "execution_count": 82,
   "id": "22582c81-5487-40c0-8443-adc68dbb798c",
   "metadata": {},
   "outputs": [
    {
     "data": {
      "text/html": [
       "<strong>pdf:</strong> 2"
      ],
      "text/latex": [
       "\\textbf{pdf:} 2"
      ],
      "text/markdown": [
       "**pdf:** 2"
      ],
      "text/plain": [
       "pdf \n",
       "  2 "
      ]
     },
     "metadata": {},
     "output_type": "display_data"
    }
   ],
   "source": [
    "metabolite_gse <- input_df %>% ggplot(aes(x=data_label,y=pathway, size=size, color=significance)) + \n",
    "           geom_point(alpha=0.8) + scale_color_gradient(low=\"white\", high=\"firebrick4\")\n",
    "\n",
    "output_pdf_label = '../../../analysis/statistics/gse/metabolomics/plot/metaboloimcs.gse.bubble.pdf'\n",
    "pdf(output_pdf_label)\n",
    "print (metabolite_gse)\n",
    "dev.off()"
   ]
  },
  {
   "cell_type": "code",
   "execution_count": null,
   "id": "1b78722c-4a1d-42a4-8b3a-771c2e55d5a0",
   "metadata": {},
   "outputs": [],
   "source": []
  }
 ],
 "metadata": {
  "kernelspec": {
   "display_name": "R",
   "language": "R",
   "name": "ir"
  },
  "language_info": {
   "codemirror_mode": "r",
   "file_extension": ".r",
   "mimetype": "text/x-r-source",
   "name": "R",
   "pygments_lexer": "r",
   "version": "4.0.3"
  }
 },
 "nbformat": 4,
 "nbformat_minor": 5
}
