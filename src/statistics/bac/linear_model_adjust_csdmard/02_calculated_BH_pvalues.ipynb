{
 "cells": [
  {
   "cell_type": "code",
   "execution_count": 1,
   "id": "amended-longitude",
   "metadata": {},
   "outputs": [],
   "source": [
    "#02_calculated_BH_pvalues\n",
    "#\n",
    "#calculate BH-adjusted P-values, where P-values were calculated by \"01_DifferentialAbundance_and_cohens_D\"\n",
    "\n",
    "import pandas as pd\n",
    "from statsmodels.stats.multitest import multipletests\n",
    "import numpy as np"
   ]
  },
  {
   "cell_type": "code",
   "execution_count": 2,
   "id": "specified-antibody",
   "metadata": {
    "scrolled": true
   },
   "outputs": [],
   "source": [
    "data_dir = '../../../analysis/statistics/linear_model/differential_abundance_v4/'\n",
    "list_file = 'total.list'\n",
    "\n",
    "data_list_open = open('%s%s' % (data_dir, list_file),'r')\n",
    "data_list_readlines = data_list_open.readlines()\n",
    "\n",
    "for i in range(len(data_list_readlines)):\n",
    "    read = data_list_readlines[i]\n",
    "    read = read.replace('\\n','')\n",
    "\n",
    "    ##function here?\n",
    "    data_file = '%s%s' % (data_dir, read)\n",
    "    data_df = pd.read_csv(data_file,sep='\\t')\n",
    "    pval_list = list(data_df[\"pval\"])\n",
    "    pval_list = list(map(float, pval_list))\n",
    "\n",
    "    function_result = multipletests(pval_list, method='fdr_bh')\n",
    "    padj_list = list(function_result[1])\n",
    "\n",
    "    data_df[\"padj\"] = padj_list\n",
    "    \n",
    "    output_name = read.split('.tsv')[0]\n",
    "    output_file = '%s%s.padj.tsv' % (data_dir, output_name)\n",
    "    \n",
    "    data_df.to_csv(output_file, sep=\"\\t\", index=False)"
   ]
  },
  {
   "cell_type": "code",
   "execution_count": null,
   "id": "bottom-sending",
   "metadata": {},
   "outputs": [],
   "source": []
  },
  {
   "cell_type": "code",
   "execution_count": null,
   "id": "piano-fossil",
   "metadata": {},
   "outputs": [],
   "source": []
  }
 ],
 "metadata": {
  "kernelspec": {
   "display_name": "Python 3",
   "language": "python",
   "name": "python3"
  },
  "language_info": {
   "codemirror_mode": {
    "name": "ipython",
    "version": 3
   },
   "file_extension": ".py",
   "mimetype": "text/x-python",
   "name": "python",
   "nbconvert_exporter": "python",
   "pygments_lexer": "ipython3",
   "version": "3.9.1"
  }
 },
 "nbformat": 4,
 "nbformat_minor": 5
}
