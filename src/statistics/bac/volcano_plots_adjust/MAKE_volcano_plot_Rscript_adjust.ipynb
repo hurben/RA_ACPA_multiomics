{
 "cells": [
  {
   "cell_type": "code",
   "execution_count": 6,
   "id": "south-walker",
   "metadata": {},
   "outputs": [],
   "source": [
    "#MAKE_volcano_plot_Rscript\n",
    "#\n",
    "#Designed to make volcano plot for every omics data (proteomics, metabolomics, autoantibody) \n",
    "#and every comparison (negVSpos, cVSpos, cVSneg, cVSra)\n",
    "#\n",
    "#Note: [1] P-value threshold for autoantibody : 0.05\n",
    "#      [2] P-value threshold for autoantibody : 0.01\n",
    "\n",
    "library(ggplot2)\n",
    "library(ggrepel)"
   ]
  },
  {
   "cell_type": "code",
   "execution_count": 7,
   "id": "threatened-german",
   "metadata": {},
   "outputs": [
    {
     "name": "stdout",
     "output_type": "stream",
     "text": [
      "[1] \"#####\"\n",
      "[1] \"autoantibody\"\n",
      "[1] \"negVSpos\"\n",
      "[1] 61\n",
      "[1] 43\n",
      "[1] \"#####\"\n"
     ]
    },
    {
     "name": "stderr",
     "output_type": "stream",
     "text": [
      "Warning message:\n",
      "“ggrepel: 45 unlabeled data points (too many overlaps). Consider increasing max.overlaps”\n",
      "Warning message:\n",
      "“ggrepel: 14 unlabeled data points (too many overlaps). Consider increasing max.overlaps”\n"
     ]
    },
    {
     "name": "stdout",
     "output_type": "stream",
     "text": [
      "[1] \"#####\"\n",
      "[1] \"autoantibody\"\n",
      "[1] \"cVSpos\"\n",
      "[1] 6\n",
      "[1] 5\n",
      "[1] \"#####\"\n",
      "[1] \"#####\"\n",
      "[1] \"autoantibody\"\n",
      "[1] \"cVSneg\"\n",
      "[1] 2\n",
      "[1] 2\n",
      "[1] \"#####\"\n",
      "[1] \"#####\"\n",
      "[1] \"autoantibody\"\n",
      "[1] \"cVSra\"\n",
      "[1] 0\n",
      "[1] 5\n",
      "[1] \"#####\"\n",
      "[1] \"#####\"\n",
      "[1] \"metabolomics\"\n",
      "[1] \"negVSpos\"\n",
      "[1] 1\n",
      "[1] 3\n",
      "[1] \"#####\"\n",
      "[1] \"#####\"\n",
      "[1] \"metabolomics\"\n",
      "[1] \"cVSpos\"\n",
      "[1] 4\n",
      "[1] 22\n",
      "[1] \"#####\"\n"
     ]
    },
    {
     "name": "stderr",
     "output_type": "stream",
     "text": [
      "Warning message:\n",
      "“ggrepel: 7 unlabeled data points (too many overlaps). Consider increasing max.overlaps”\n"
     ]
    },
    {
     "name": "stdout",
     "output_type": "stream",
     "text": [
      "[1] \"#####\"\n",
      "[1] \"metabolomics\"\n",
      "[1] \"cVSneg\"\n",
      "[1] 6\n",
      "[1] 20\n",
      "[1] \"#####\"\n",
      "[1] \"#####\"\n",
      "[1] \"metabolomics\"\n",
      "[1] \"cVSra\"\n",
      "[1] 7\n",
      "[1] 38\n",
      "[1] \"#####\"\n"
     ]
    },
    {
     "name": "stderr",
     "output_type": "stream",
     "text": [
      "Warning message:\n",
      "“ggrepel: 14 unlabeled data points (too many overlaps). Consider increasing max.overlaps”\n"
     ]
    },
    {
     "name": "stdout",
     "output_type": "stream",
     "text": [
      "[1] \"#####\"\n",
      "[1] \"proteomics\"\n",
      "[1] \"negVSpos\"\n",
      "[1] 18\n",
      "[1] 8\n",
      "[1] \"#####\"\n",
      "[1] \"#####\"\n",
      "[1] \"proteomics\"\n",
      "[1] \"cVSpos\"\n",
      "[1] 31\n",
      "[1] 16\n",
      "[1] \"#####\"\n"
     ]
    },
    {
     "name": "stderr",
     "output_type": "stream",
     "text": [
      "Warning message:\n",
      "“ggrepel: 12 unlabeled data points (too many overlaps). Consider increasing max.overlaps”\n",
      "Warning message:\n",
      "“ggrepel: 1 unlabeled data points (too many overlaps). Consider increasing max.overlaps”\n"
     ]
    },
    {
     "name": "stdout",
     "output_type": "stream",
     "text": [
      "[1] \"#####\"\n",
      "[1] \"proteomics\"\n",
      "[1] \"cVSneg\"\n",
      "[1] 30\n",
      "[1] 47\n",
      "[1] \"#####\"\n"
     ]
    },
    {
     "name": "stderr",
     "output_type": "stream",
     "text": [
      "Warning message:\n",
      "“ggrepel: 5 unlabeled data points (too many overlaps). Consider increasing max.overlaps”\n",
      "Warning message:\n",
      "“ggrepel: 33 unlabeled data points (too many overlaps). Consider increasing max.overlaps”\n"
     ]
    },
    {
     "name": "stdout",
     "output_type": "stream",
     "text": [
      "[1] \"#####\"\n",
      "[1] \"proteomics\"\n",
      "[1] \"cVSra\"\n",
      "[1] 18\n",
      "[1] 56\n",
      "[1] \"#####\"\n"
     ]
    },
    {
     "name": "stderr",
     "output_type": "stream",
     "text": [
      "Warning message:\n",
      "“ggrepel: 29 unlabeled data points (too many overlaps). Consider increasing max.overlaps”\n"
     ]
    }
   ],
   "source": [
    "omics_list = c(\"autoantibody\",\"metabolomics\",\"proteomics\")\n",
    "condition_list = c(\"negVSpos\",\"cVSpos\",\"cVSneg\",\"cVSra\")\n",
    "\n",
    "for (omics in omics_list){\n",
    "    \n",
    "    for (condition in condition_list){\n",
    "        \n",
    "        data_file = paste(\"../../../analysis/statistics/linear_model/differential_abundance_v4/\", \n",
    "                          omics, \".\", condition,\".padj.v2.tsv\", sep=\"\")\n",
    "        input_df = read.csv(data_file, sep=\"\\t\", header=TRUE, row.names=1)\n",
    "        \n",
    "        x_axis <- input_df$fc_case_control\n",
    "        y_axis <- -log10(input_df$pval)\n",
    "        cohenD <- input_df$cohenD\n",
    "        \n",
    "        if (condition == \"negVSpos\"){\n",
    "            xaxis_label <- \"log2FC (ACPA-positive/ACPA-negative)\"\n",
    "            numerator_color = \"#BB2026\"\n",
    "            denominator_color = \"#3B54A4\"\n",
    "            \n",
    "        }\n",
    "        if (condition == \"cVSpos\"){\n",
    "            xaxis_label <- \"log2FC (ACPA-positive/Control)\"\n",
    "            numerator_color = \"#BB2026\"\n",
    "            denominator_color = \"#5CAC64\"\n",
    "        }\n",
    "        if (condition == \"cVSneg\"){\n",
    "            xaxis_label <- \"log2FC (ACPA-negative/Control)\"\n",
    "            numerator_color = \"#3B54A4\"\n",
    "            denominator_color = \"#5CAC64\"\n",
    "        }\n",
    "        if (condition == \"cVSra\"){\n",
    "            xaxis_label <- \"log2FC (RA/control)\"\n",
    "            numerator_color = \"#642875\"\n",
    "            denominator_color = \"#5CAC64\"\n",
    "        }\n",
    "\n",
    "        gene_list <- rownames(input_df)\n",
    "        \n",
    "        #make dataframe for volcano plot\n",
    "        #row names = gene list\n",
    "        df <- do.call(rbind, Map(data.frame, 'log2FC'=x_axis, 'pval'=y_axis, 'cohenD'=cohenD))\n",
    "        rownames(df) <- gene_list\n",
    "        df$genes <- row.names(df)\n",
    "        \n",
    "\n",
    "        #Thresholds for data points color\n",
    "        #pvalue 0.01 = 2 (-log10 pval)\n",
    "        sig_subset <- subset(df, pval > 2)\n",
    "        \n",
    "        if (omics == \"autoantibody\"){ #since we decided to change the threshold of autoantibody profiles\n",
    "            sig_subset <- subset(df, pval > 1.30103)\n",
    "        }\n",
    "\n",
    "        #filter out by Cohen's D\n",
    "        sig_subset <- subset(sig_subset, cohenD > 0.5)\n",
    "        \n",
    "        #assign color of the dot (feature)\n",
    "        sig_red_subset <- subset(sig_subset, log2FC > 0) \n",
    "        sig_blue_subset <- subset(sig_subset, log2FC < 0)\n",
    "                \n",
    "        sig_red_text_subset <- subset(sig_subset, log2FC > 0)\n",
    "        sig_blue_text_subset <- subset(sig_subset, log2FC < 0)\n",
    "        \n",
    "        #Debug\n",
    "        print ('#####')\n",
    "        print (omics)\n",
    "        print (condition)\n",
    "        print (nrow(sig_red_subset))\n",
    "        print (nrow(sig_blue_subset))\n",
    "        print ('#####')\n",
    "        #Debug\n",
    "        \n",
    "        \n",
    "        figure_title = paste(omics,\": \", condition, sep=\"\")\n",
    "        \n",
    "        output_pdf = paste(\"../../../analysis/statistics/volcano_plots_adjust/\", omics,\n",
    "                            \".\", condition, \".volcano.label.pdf\", sep=\"\")\n",
    "        pdf(output_pdf)\n",
    "        plot_pdf <- ggplot(df, aes(x=log2FC, y=pval))+ coord_cartesian(xlim=c(-2,2))+ \n",
    "        geom_point(colour=\"grey\") + \n",
    "        geom_line(aes(y=2))+\n",
    "        geom_point(data = sig_red_subset, colour=numerator_color) +\n",
    "        geom_point(data = sig_blue_subset, colour=denominator_color) +\n",
    "        geom_text_repel(data=sig_red_text_subset, aes(log2FC, pval, label=genes), colour=numerator_color, size=2) +\n",
    "        geom_text_repel(data=sig_blue_text_subset, aes(log2FC, pval, label=genes), colour=denominator_color, size=2) +\n",
    "        ylab(\"-Log10 (P-value)\") + xlab(xaxis_label)\n",
    "        ggtitle(figure_title)\n",
    "        print (plot_pdf)\n",
    "        dev.off()\n",
    "    }\n",
    "}"
   ]
  },
  {
   "cell_type": "code",
   "execution_count": null,
   "id": "particular-recorder",
   "metadata": {},
   "outputs": [],
   "source": []
  }
 ],
 "metadata": {
  "kernelspec": {
   "display_name": "R",
   "language": "R",
   "name": "ir"
  },
  "language_info": {
   "codemirror_mode": "r",
   "file_extension": ".r",
   "mimetype": "text/x-r-source",
   "name": "R",
   "pygments_lexer": "r",
   "version": "4.0.3"
  }
 },
 "nbformat": 4,
 "nbformat_minor": 5
}
