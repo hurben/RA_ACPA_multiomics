{
 "cells": [
  {
   "cell_type": "code",
   "execution_count": 1,
   "id": "coastal-crash",
   "metadata": {},
   "outputs": [],
   "source": [
    "#PREPROCESS_prepare_updown_list     \n",
    "#\n",
    "#this is specifically designed to split up/down regulated proteins from differentially abundance analysis\n",
    "#why? proteins from SomaScan have duplicated genesymbols (although they are different isoforms) this will cause problem while drawing venn diagram\n",
    "#"
   ]
  },
  {
   "cell_type": "code",
   "execution_count": 2,
   "id": "detailed-ballot",
   "metadata": {},
   "outputs": [],
   "source": [
    "import pandas as pd"
   ]
  },
  {
   "cell_type": "code",
   "execution_count": 3,
   "id": "approximate-procedure",
   "metadata": {},
   "outputs": [
    {
     "name": "stdout",
     "output_type": "stream",
     "text": [
      "../../../../analysis/statistics/gse_v2/proteomics/proteomics.diff.cVSneg.up.barcode.tsv\n",
      "../../../../analysis/statistics/gse_v2/proteomics/proteomics.diff.cVSneg.up.tsv\n",
      "../../../../analysis/statistics/gse_v2/proteomics/proteomics.diff.cVSpos.up.barcode.tsv\n",
      "../../../../analysis/statistics/gse_v2/proteomics/proteomics.diff.cVSpos.up.tsv\n",
      "../../../../analysis/statistics/gse_v2/proteomics/proteomics.diff.cVSra.up.barcode.tsv\n",
      "../../../../analysis/statistics/gse_v2/proteomics/proteomics.diff.cVSra.up.tsv\n"
     ]
    }
   ],
   "source": [
    "data_dir = '../../../../analysis/statistics/linear_model/differential_abundance_v2'\n",
    "output_dir = '../../../../analysis/statistics/gse_v2/proteomics'\n",
    "condition_list = ['cVSneg','cVSpos','cVSra']\n",
    "output_type_list = ['barcode','nobarcode']\n",
    "\n",
    "for condition in condition_list:\n",
    "    data_file = '%s/proteomics.%s.padj.v2.med.tsv' % (data_dir, condition)\n",
    "    \n",
    "    data_df = pd.read_csv(data_file,sep=\"\\t\", index_col = 0)\n",
    "    r, c = data_df.shape\n",
    "\n",
    "    feature_list = data_df.index.values\n",
    "    \n",
    "    for output_type in output_type_list:\n",
    "        if output_type == 'nobarcode':\n",
    "            output_alpha_file = '%s/proteomics.diff.%s.up.tsv' % (output_dir, condition)  \n",
    "            output_beta_file = '%s/proteomics.diff.%s.down.tsv' % (output_dir, condition)\n",
    "\n",
    "        else:\n",
    "            output_alpha_file = '%s/proteomics.diff.%s.up.barcode.tsv' % (output_dir, condition)  \n",
    "            output_beta_file = '%s/proteomics.diff.%s.down.barcode.tsv' % (output_dir, condition)\n",
    "        output_alpha_txt = open(output_alpha_file,'w')\n",
    "        output_beta_txt = open(output_beta_file,'w')\n",
    "        print (output_alpha_file)\n",
    "        for i in range(r):\n",
    "            feature = feature_list[i]\n",
    "            cohenD = float(data_df['cohenD'][i])\n",
    "            log2fc = float(data_df['fc(case/control)'][i])\n",
    "            pval = float(data_df['pval'][i])\n",
    "            \n",
    "            if output_type == \"nobarcode\":\n",
    "                feature = feature.split('_')[0]\n",
    "            else:\n",
    "                None\n",
    " \n",
    "            if cohenD > 0.5:\n",
    "                if pval < 0.05:\n",
    "                    if log2fc > 0:\n",
    "                        output_alpha_txt.write('%s\\n' % feature)\n",
    "                        \n",
    "                    if log2fc < 0:\n",
    "                        output_beta_txt.write('%s\\n' % feature)\n",
    "                                \n",
    "        output_alpha_txt.close()\n",
    "        output_beta_txt.close()"
   ]
  },
  {
   "cell_type": "code",
   "execution_count": null,
   "id": "universal-yorkshire",
   "metadata": {},
   "outputs": [],
   "source": []
  }
 ],
 "metadata": {
  "kernelspec": {
   "display_name": "Python 3",
   "language": "python",
   "name": "python3"
  },
  "language_info": {
   "codemirror_mode": {
    "name": "ipython",
    "version": 3
   },
   "file_extension": ".py",
   "mimetype": "text/x-python",
   "name": "python",
   "nbconvert_exporter": "python",
   "pygments_lexer": "ipython3",
   "version": "3.9.1"
  }
 },
 "nbformat": 4,
 "nbformat_minor": 5
}
