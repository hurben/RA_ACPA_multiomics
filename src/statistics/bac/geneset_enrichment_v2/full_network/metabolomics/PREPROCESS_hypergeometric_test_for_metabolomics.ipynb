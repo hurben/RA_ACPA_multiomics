{
 "cells": [
  {
   "cell_type": "code",
   "execution_count": 2,
   "id": "arctic-hotel",
   "metadata": {},
   "outputs": [],
   "source": [
    "#PREPROCESS_hypergeometric_test_for_metabolomics      22.04.14\n",
    "#make data table that is ready for hypergeometric test for metabolomics\n",
    "#seperately done for up, down\n",
    "\n",
    "import pandas as pd\n",
    "import numpy as np"
   ]
  },
  {
   "cell_type": "code",
   "execution_count": 31,
   "id": "historic-chick",
   "metadata": {},
   "outputs": [],
   "source": [
    "def make_subpathway_dict(data_file):\n",
    "    \n",
    "    pathway_info_dict = {}\n",
    "    chem_pathway_info_dict = {}\n",
    "    \n",
    "    data_df = pd.read_csv(chem_info_file, sep=',')\n",
    "    r, c = data_df.shape\n",
    "    chem_list = []\n",
    "    \n",
    "    for i in range(r):\n",
    "        super_pathway = data_df[\"SUPER_PATHWAY\"][i]\n",
    "        sub_pathway = data_df[\"SUB_PATHWAY\"][i]        \n",
    "        chem_name = data_df[\"CHEMICAL_NAME\"][i]\n",
    "            \n",
    "        #handle feature name differences\n",
    "        chem_name = chem_name.replace(',','_')\n",
    "        chem_name = chem_name.replace('-','_')\n",
    "        chem_name = chem_name.replace(' ','_')\n",
    "        chem_name = chem_name.replace(\"'\",'prime')\n",
    "        try: \n",
    "            sub_pathway = sub_pathway.replace('_','')\n",
    "            pathway = '[%s] %s' % (super_pathway, sub_pathway)\n",
    "            if chem_name not in chem_list:\n",
    "                chem_list.append(chem_name)\n",
    "        except AttributeError: \n",
    "            sub_pathway = 'none'\n",
    "            pathway = '[%s] %s' % (super_pathway, sub_pathway)\n",
    "\n",
    "        try: pathway_info_dict[pathway].append(chem_name)\n",
    "        except KeyError: pathway_info_dict[pathway] = [chem_name]\n",
    "\n",
    "        chem_pathway_info_dict[chem_name] = pathway\n",
    "    \n",
    "    return pathway_info_dict, chem_pathway_info_dict, chem_list\n",
    "\n",
    "def get_feature_list(data_file):\n",
    "    \n",
    "    feature_list = []\n",
    "    open_data = open(data_file,'r')\n",
    "    data_readlines = open_data.readlines()\n",
    "    for i in range(len(data_readlines)):\n",
    "        read = data_readlines[i]\n",
    "        read = read.replace('\\n','')\n",
    "        feature_list.append(read)\n",
    "        \n",
    "    return feature_list\n",
    "\n",
    "def make_hypergeometric_ready_matrix(feature_list, chem_pathway_info_dict, pathway_info_dict, chem_list, output_file):\n",
    "    \n",
    "    num_sig_feature = len(feature_list)\n",
    "    pathway_dict = {}\n",
    "    mentioned_pathway_list = []\n",
    "    #summarize counts\n",
    "    for feature in feature_list:\n",
    "        pathway = chem_pathway_info_dict[feature]\n",
    "        if pathway != \"[nan] none\":\n",
    "            try: \n",
    "                pathway_dict[pathway][0] += 1\n",
    "                pathway_dict[pathway][1].append(feature)\n",
    "            except KeyError: \n",
    "                pathway_dict[pathway] = [1, [feature]]\n",
    "\n",
    "            if pathway not in mentioned_pathway_list:\n",
    "                mentioned_pathway_list.append(pathway)\n",
    "    \n",
    "    output_txt = open(output_file, 'w')\n",
    "    output_txt.write('pathway\\tnumber_of_metabolites_in_pathway(m)\\tsignificant_metabolites_in_pathway(x)\\ttotal_number_of_metabolites(n)\\tdetected_significant_metabolites(k)\\telements\\n')\n",
    "    for pathway in mentioned_pathway_list:\n",
    "        m = len(pathway_info_dict[pathway])\n",
    "        k = pathway_dict[pathway][0]\n",
    "        \n",
    "        output_txt.write('%s\\t%s\\t%s\\t%s\\t%s\\t' % (pathway, m, k, len(chem_list), num_sig_feature))\n",
    "        for elements in pathway_dict[pathway][1]:\n",
    "            output_txt.write('%s,' % elements)\n",
    "        \n",
    "        output_txt.write('\\n')\n"
   ]
  },
  {
   "cell_type": "code",
   "execution_count": 32,
   "id": "intermediate-specific",
   "metadata": {},
   "outputs": [],
   "source": [
    "metabolomic_file_dir = '../../../../../analysis/full_data/cytoscape/gse'\n",
    "chem_info_file = '../../../../../raw_data/RA_metabolon/MAYO-03-21ML+/RA_ACPA_metabolomics_chem_info.csv'\n",
    "\n",
    "pathway_info_dict, chem_pathway_info_dict, chem_list = make_subpathway_dict(chem_info_file)"
   ]
  },
  {
   "cell_type": "code",
   "execution_count": 33,
   "id": "noted-nature",
   "metadata": {},
   "outputs": [],
   "source": [
    "data_file = '%s/network_metabolite_list.tsv' % (metabolomic_file_dir)\n",
    "output_file = '%s/metabolomics.hypergeometric.ready.tsv' % (metabolomic_file_dir)\n",
    "\n",
    "feature_list = get_feature_list(data_file)\n",
    "\n",
    "make_hypergeometric_ready_matrix(feature_list, chem_pathway_info_dict, pathway_info_dict, chem_list, output_file)\n"
   ]
  },
  {
   "cell_type": "code",
   "execution_count": 14,
   "id": "judicial-surgeon",
   "metadata": {},
   "outputs": [
    {
     "data": {
      "text/plain": [
       "['X_24295',\n",
       " 'X_23636',\n",
       " 'X_12462',\n",
       " 'tartronate_(hydroxymalonate)',\n",
       " 'sphingosine_1_phosphate',\n",
       " 'sarcosine',\n",
       " 'pyruvate',\n",
       " 'oxindolylalanine',\n",
       " 'ornithine',\n",
       " 'lactate',\n",
       " 'cys_gly__oxidized',\n",
       " '4_methyl_2_oxopentanoate',\n",
       " '3_5_dichloro_2_6_dihydroxybenzoic_acid',\n",
       " '2prime_O_methylcytidine']"
      ]
     },
     "execution_count": 14,
     "metadata": {},
     "output_type": "execute_result"
    }
   ],
   "source": [
    "feature_list"
   ]
  },
  {
   "cell_type": "code",
   "execution_count": null,
   "id": "selective-directory",
   "metadata": {},
   "outputs": [],
   "source": []
  }
 ],
 "metadata": {
  "kernelspec": {
   "display_name": "Python 3",
   "language": "python",
   "name": "python3"
  },
  "language_info": {
   "codemirror_mode": {
    "name": "ipython",
    "version": 3
   },
   "file_extension": ".py",
   "mimetype": "text/x-python",
   "name": "python",
   "nbconvert_exporter": "python",
   "pygments_lexer": "ipython3",
   "version": "3.9.1"
  }
 },
 "nbformat": 4,
 "nbformat_minor": 5
}
