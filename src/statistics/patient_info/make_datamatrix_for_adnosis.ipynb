{
 "cells": [
  {
   "cell_type": "code",
   "execution_count": 15,
   "id": "8e30cc31-af0f-4c1b-a13b-02cc3e19f5d9",
   "metadata": {},
   "outputs": [],
   "source": [
    "import pandas as pd\n",
    "\n",
    "patient_info_file = \"../../../preprocessed_data/meta/patient_info_for_statistics.tsv\"\n",
    "three_omics_file = \"../../../preprocessed_data/3_omics/three_omics_multiplex.tsv\"\n",
    "\n",
    "patient_info_df = pd.read_csv(patient_info_file, sep=\"\\t\", index_col=0)"
   ]
  },
  {
   "cell_type": "code",
   "execution_count": 34,
   "id": "30e8a986-d689-4e57-8016-7a68f2aa952e",
   "metadata": {},
   "outputs": [],
   "source": [
    "three_omics_df = pd.read_csv(three_omics_file, sep=\"\\t\", index_col=0)\n",
    "three_omics_df.columns = three_omics_df.columns.astype(int)"
   ]
  },
  {
   "cell_type": "code",
   "execution_count": 35,
   "id": "1e9f9d53-7b35-480c-9c8f-2896fcdaaf30",
   "metadata": {},
   "outputs": [],
   "source": [
    "three_omics_df = three_omics_df[5:].T"
   ]
  },
  {
   "cell_type": "code",
   "execution_count": 36,
   "id": "a1595c6d-4213-49bb-b325-df1397f447dd",
   "metadata": {},
   "outputs": [],
   "source": [
    "result_df = patient_info_df.join(three_omics_df, how=\"outer\")"
   ]
  },
  {
   "cell_type": "code",
   "execution_count": 43,
   "id": "412a65c8-fdad-41e1-a216-2fc44188e1e5",
   "metadata": {},
   "outputs": [],
   "source": [
    "result_df.to_csv(\"../../../preprocessed_data/3_omics/three_omics_multiplex_with_all_covariates.tsv\", sep=\"\\t\")"
   ]
  },
  {
   "cell_type": "code",
   "execution_count": null,
   "id": "5021813b-e131-4b92-b3fb-08747dead924",
   "metadata": {},
   "outputs": [],
   "source": []
  }
 ],
 "metadata": {
  "kernelspec": {
   "display_name": "Python 3",
   "language": "python",
   "name": "python3"
  },
  "language_info": {
   "codemirror_mode": {
    "name": "ipython",
    "version": 3
   },
   "file_extension": ".py",
   "mimetype": "text/x-python",
   "name": "python",
   "nbconvert_exporter": "python",
   "pygments_lexer": "ipython3",
   "version": "3.9.1"
  }
 },
 "nbformat": 4,
 "nbformat_minor": 5
}
