{
 "cells": [
  {
   "cell_type": "code",
   "execution_count": 1,
   "id": "several-representative",
   "metadata": {},
   "outputs": [
    {
     "name": "stderr",
     "output_type": "stream",
     "text": [
      "Registered S3 method overwritten by 'quantmod':\n",
      "  method            from\n",
      "  as.zoo.data.frame zoo \n",
      "\n",
      "\n",
      "Attaching package: ‘dplyr’\n",
      "\n",
      "\n",
      "The following objects are masked from ‘package:stats’:\n",
      "\n",
      "    filter, lag\n",
      "\n",
      "\n",
      "The following objects are masked from ‘package:base’:\n",
      "\n",
      "    intersect, setdiff, setequal, union\n",
      "\n",
      "\n"
     ]
    }
   ],
   "source": [
    "#basic_demographics\n",
    "#\n",
    "#identify clinical characteristics is associated to the population acpa status.\n",
    "\n",
    "library(stringr)\n",
    "library(imputeTS)\n",
    "library(dplyr)"
   ]
  },
  {
   "cell_type": "code",
   "execution_count": 2,
   "id": "individual-netherlands",
   "metadata": {},
   "outputs": [],
   "source": [
    "#load data, make class (i.e., control, acpa+, acpa-) specific data frame for convenience\n",
    "patient_info_file = '../../../preprocessed_data/meta/patient_info_for_statistics.tsv'\n",
    "\n",
    "#all class\n",
    "patient_df <- read.csv(patient_info_file, sep=\"\\t\")\n",
    "\n",
    "#each class\n",
    "control_df <- filter(patient_df, acpa == 0)\n",
    "acpa_pos_df <- filter(patient_df, acpa == 1)\n",
    "acpa_neg_df <- filter(patient_df, acpa == 2)"
   ]
  },
  {
   "cell_type": "code",
   "execution_count": 4,
   "id": "unavailable-aging",
   "metadata": {},
   "outputs": [
    {
     "data": {
      "text/plain": [
       "\n",
       "Call:\n",
       "glm(formula = acpa ~ smoking, data = patient_df)\n",
       "\n",
       "Deviance Residuals: \n",
       "     Min        1Q    Median        3Q       Max  \n",
       "-1.05505  -1.05505  -0.05505   0.94495   1.28571  \n",
       "\n",
       "Coefficients:\n",
       "            Estimate Std. Error t value Pr(>|t|)    \n",
       "(Intercept)  1.05505    0.07774  13.571   <2e-16 ***\n",
       "smoking     -0.34076    0.31647  -1.077    0.284    \n",
       "---\n",
       "Signif. codes:  0 ‘***’ 0.001 ‘**’ 0.01 ‘*’ 0.05 ‘.’ 0.1 ‘ ’ 1\n",
       "\n",
       "(Dispersion parameter for gaussian family taken to be 0.658757)\n",
       "\n",
       "    Null deviance: 75.862  on 115  degrees of freedom\n",
       "Residual deviance: 75.098  on 114  degrees of freedom\n",
       "  (4 observations deleted due to missingness)\n",
       "AIC: 284.76\n",
       "\n",
       "Number of Fisher Scoring iterations: 2\n"
      ]
     },
     "metadata": {},
     "output_type": "display_data"
    },
    {
     "data": {
      "text/plain": [
       "\n",
       "Call:\n",
       "glm(formula = acpa ~ sex, data = patient_df)\n",
       "\n",
       "Deviance Residuals: \n",
       "   Min      1Q  Median      3Q     Max  \n",
       "    -1      -1       0       1       1  \n",
       "\n",
       "Coefficients:\n",
       "             Estimate Std. Error t value Pr(>|t|)    \n",
       "(Intercept) 1.000e+00  8.931e-02    11.2   <2e-16 ***\n",
       "sex         1.537e-18  1.654e-01     0.0        1    \n",
       "---\n",
       "Signif. codes:  0 ‘***’ 0.001 ‘**’ 0.01 ‘*’ 0.05 ‘.’ 0.1 ‘ ’ 1\n",
       "\n",
       "(Dispersion parameter for gaussian family taken to be 0.6779661)\n",
       "\n",
       "    Null deviance: 80  on 119  degrees of freedom\n",
       "Residual deviance: 80  on 118  degrees of freedom\n",
       "AIC: 297.89\n",
       "\n",
       "Number of Fisher Scoring iterations: 2\n"
      ]
     },
     "metadata": {},
     "output_type": "display_data"
    },
    {
     "data": {
      "text/plain": [
       "\n",
       "Call:\n",
       "glm(formula = acpa ~ age, data = patient_df)\n",
       "\n",
       "Deviance Residuals: \n",
       "     Min        1Q    Median        3Q       Max  \n",
       "-1.00017  -0.99997  -0.00001   0.99993   1.00026  \n",
       "\n",
       "Coefficients:\n",
       "             Estimate Std. Error t value Pr(>|t|)  \n",
       "(Intercept) 9.994e-01  4.281e-01   2.334   0.0213 *\n",
       "age         9.728e-06  7.231e-03   0.001   0.9989  \n",
       "---\n",
       "Signif. codes:  0 ‘***’ 0.001 ‘**’ 0.01 ‘*’ 0.05 ‘.’ 0.1 ‘ ’ 1\n",
       "\n",
       "(Dispersion parameter for gaussian family taken to be 0.6779661)\n",
       "\n",
       "    Null deviance: 80  on 119  degrees of freedom\n",
       "Residual deviance: 80  on 118  degrees of freedom\n",
       "AIC: 297.89\n",
       "\n",
       "Number of Fisher Scoring iterations: 2\n"
      ]
     },
     "metadata": {},
     "output_type": "display_data"
    },
    {
     "data": {
      "text/plain": [
       "\n",
       "Call:\n",
       "glm(formula = acpa ~ bmi, data = patient_df)\n",
       "\n",
       "Deviance Residuals: \n",
       "     Min        1Q    Median        3Q       Max  \n",
       "-1.06974  -0.98166   0.00798   0.98543   1.03203  \n",
       "\n",
       "Coefficients:\n",
       "            Estimate Std. Error t value Pr(>|t|)   \n",
       "(Intercept) 0.906579   0.306930   2.954  0.00379 **\n",
       "bmi         0.003165   0.010081   0.314  0.75413   \n",
       "---\n",
       "Signif. codes:  0 ‘***’ 0.001 ‘**’ 0.01 ‘*’ 0.05 ‘.’ 0.1 ‘ ’ 1\n",
       "\n",
       "(Dispersion parameter for gaussian family taken to be 0.6774004)\n",
       "\n",
       "    Null deviance: 80.000  on 119  degrees of freedom\n",
       "Residual deviance: 79.933  on 118  degrees of freedom\n",
       "AIC: 297.79\n",
       "\n",
       "Number of Fisher Scoring iterations: 2\n"
      ]
     },
     "metadata": {},
     "output_type": "display_data"
    }
   ],
   "source": [
    "#Everything not_significant\n",
    "fit <- glm(acpa ~ smoking , data = patient_df)\n",
    "summary(fit)\n",
    "\n",
    "fit <- glm(acpa ~ sex , data = patient_df)\n",
    "summary(fit)\n",
    "\n",
    "fit <- glm(acpa ~ age , data = patient_df)\n",
    "summary(fit)\n",
    "\n",
    "fit <- glm(acpa ~ bmi , data = patient_df)\n",
    "summary(fit)"
   ]
  },
  {
   "cell_type": "code",
   "execution_count": 5,
   "id": "accessible-universal",
   "metadata": {
    "scrolled": true
   },
   "outputs": [
    {
     "name": "stdout",
     "output_type": "stream",
     "text": [
      "[1] \"mtx\"\n"
     ]
    },
    {
     "data": {
      "text/plain": [
       "\n",
       "Call:\n",
       "glm(formula = acpa ~ mtx, data = ra_df)\n",
       "\n",
       "Deviance Residuals: \n",
       "     Min        1Q    Median        3Q       Max  \n",
       "-0.53846  -0.46341  -0.00094   0.46154   0.53659  \n",
       "\n",
       "Coefficients:\n",
       "            Estimate Std. Error t value Pr(>|t|)    \n",
       "(Intercept)  1.53846    0.08086  19.027   <2e-16 ***\n",
       "mtx         -0.07505    0.11294  -0.664    0.508    \n",
       "---\n",
       "Signif. codes:  0 ‘***’ 0.001 ‘**’ 0.01 ‘*’ 0.05 ‘.’ 0.1 ‘ ’ 1\n",
       "\n",
       "(Dispersion parameter for gaussian family taken to be 0.254967)\n",
       "\n",
       "    Null deviance: 20.000  on 79  degrees of freedom\n",
       "Residual deviance: 19.887  on 78  degrees of freedom\n",
       "AIC: 121.68\n",
       "\n",
       "Number of Fisher Scoring iterations: 2\n"
      ]
     },
     "metadata": {},
     "output_type": "display_data"
    },
    {
     "name": "stdout",
     "output_type": "stream",
     "text": [
      "[1] \"hcq\"\n"
     ]
    },
    {
     "data": {
      "text/plain": [
       "\n",
       "Call:\n",
       "glm(formula = acpa ~ hcq, data = ra_df)\n",
       "\n",
       "Deviance Residuals: \n",
       "    Min       1Q   Median       3Q      Max  \n",
       "-0.5410  -0.5410   0.0453   0.4590   0.6316  \n",
       "\n",
       "Coefficients:\n",
       "            Estimate Std. Error t value Pr(>|t|)    \n",
       "(Intercept)  1.54098    0.06413  24.029   <2e-16 ***\n",
       "hcq         -0.17256    0.13159  -1.311    0.194    \n",
       "---\n",
       "Signif. codes:  0 ‘***’ 0.001 ‘**’ 0.01 ‘*’ 0.05 ‘.’ 0.1 ‘ ’ 1\n",
       "\n",
       "(Dispersion parameter for gaussian family taken to be 0.2508794)\n",
       "\n",
       "    Null deviance: 20.000  on 79  degrees of freedom\n",
       "Residual deviance: 19.569  on 78  degrees of freedom\n",
       "AIC: 120.38\n",
       "\n",
       "Number of Fisher Scoring iterations: 2\n"
      ]
     },
     "metadata": {},
     "output_type": "display_data"
    },
    {
     "name": "stdout",
     "output_type": "stream",
     "text": [
      "[1] \"ssz\"\n"
     ]
    },
    {
     "data": {
      "text/plain": [
       "\n",
       "Call:\n",
       "glm(formula = acpa ~ ssz, data = ra_df)\n",
       "\n",
       "Deviance Residuals: \n",
       "     Min        1Q    Median        3Q       Max  \n",
       "-0.51351  -0.51351   0.07658   0.48649   0.66667  \n",
       "\n",
       "Coefficients:\n",
       "            Estimate Std. Error t value Pr(>|t|)    \n",
       "(Intercept)   1.5135     0.0586  25.829   <2e-16 ***\n",
       "ssz          -0.1802     0.2140  -0.842    0.402    \n",
       "---\n",
       "Signif. codes:  0 ‘***’ 0.001 ‘**’ 0.01 ‘*’ 0.05 ‘.’ 0.1 ‘ ’ 1\n",
       "\n",
       "(Dispersion parameter for gaussian family taken to be 0.2541003)\n",
       "\n",
       "    Null deviance: 20.00  on 79  degrees of freedom\n",
       "Residual deviance: 19.82  on 78  degrees of freedom\n",
       "AIC: 121.4\n",
       "\n",
       "Number of Fisher Scoring iterations: 2\n"
      ]
     },
     "metadata": {},
     "output_type": "display_data"
    },
    {
     "name": "stdout",
     "output_type": "stream",
     "text": [
      "[1] \"lef\"\n"
     ]
    },
    {
     "data": {
      "text/plain": [
       "\n",
       "Call:\n",
       "glm(formula = acpa ~ lef, data = ra_df)\n",
       "\n",
       "Deviance Residuals: \n",
       "   Min      1Q  Median      3Q     Max  \n",
       "  -0.5    -0.5     0.0     0.5     0.5  \n",
       "\n",
       "Coefficients:\n",
       "             Estimate Std. Error t value Pr(>|t|)    \n",
       "(Intercept) 1.500e+00  5.734e-02   26.16   <2e-16 ***\n",
       "lef         5.455e-17  3.626e-01    0.00        1    \n",
       "---\n",
       "Signif. codes:  0 ‘***’ 0.001 ‘**’ 0.01 ‘*’ 0.05 ‘.’ 0.1 ‘ ’ 1\n",
       "\n",
       "(Dispersion parameter for gaussian family taken to be 0.2564103)\n",
       "\n",
       "    Null deviance: 20  on 79  degrees of freedom\n",
       "Residual deviance: 20  on 78  degrees of freedom\n",
       "AIC: 122.13\n",
       "\n",
       "Number of Fisher Scoring iterations: 2\n"
      ]
     },
     "metadata": {},
     "output_type": "display_data"
    },
    {
     "name": "stdout",
     "output_type": "stream",
     "text": [
      "[1] \"aza\"\n"
     ]
    },
    {
     "data": {
      "text/plain": [
       "\n",
       "Call:\n",
       "glm(formula = acpa ~ aza, data = ra_df)\n",
       "\n",
       "Deviance Residuals: \n",
       "   Min      1Q  Median      3Q     Max  \n",
       "  -0.5    -0.5     0.0     0.5     0.5  \n",
       "\n",
       "Coefficients: (1 not defined because of singularities)\n",
       "            Estimate Std. Error t value Pr(>|t|)    \n",
       "(Intercept)  1.50000    0.05625   26.66   <2e-16 ***\n",
       "aza               NA         NA      NA       NA    \n",
       "---\n",
       "Signif. codes:  0 ‘***’ 0.001 ‘**’ 0.01 ‘*’ 0.05 ‘.’ 0.1 ‘ ’ 1\n",
       "\n",
       "(Dispersion parameter for gaussian family taken to be 0.2531646)\n",
       "\n",
       "    Null deviance: 20  on 79  degrees of freedom\n",
       "Residual deviance: 20  on 79  degrees of freedom\n",
       "AIC: 120.13\n",
       "\n",
       "Number of Fisher Scoring iterations: 2\n"
      ]
     },
     "metadata": {},
     "output_type": "display_data"
    },
    {
     "name": "stdout",
     "output_type": "stream",
     "text": [
      "[1] \"tofacitinib\"\n"
     ]
    },
    {
     "data": {
      "text/plain": [
       "\n",
       "Call:\n",
       "glm(formula = acpa ~ tofacitinib, data = ra_df)\n",
       "\n",
       "Deviance Residuals: \n",
       "   Min      1Q  Median      3Q     Max  \n",
       "  -0.5    -0.5     0.0     0.5     0.5  \n",
       "\n",
       "Coefficients: (1 not defined because of singularities)\n",
       "            Estimate Std. Error t value Pr(>|t|)    \n",
       "(Intercept)  1.50000    0.05625   26.66   <2e-16 ***\n",
       "tofacitinib       NA         NA      NA       NA    \n",
       "---\n",
       "Signif. codes:  0 ‘***’ 0.001 ‘**’ 0.01 ‘*’ 0.05 ‘.’ 0.1 ‘ ’ 1\n",
       "\n",
       "(Dispersion parameter for gaussian family taken to be 0.2531646)\n",
       "\n",
       "    Null deviance: 20  on 79  degrees of freedom\n",
       "Residual deviance: 20  on 79  degrees of freedom\n",
       "AIC: 120.13\n",
       "\n",
       "Number of Fisher Scoring iterations: 2\n"
      ]
     },
     "metadata": {},
     "output_type": "display_data"
    },
    {
     "name": "stdout",
     "output_type": "stream",
     "text": [
      "[1] \"infliximab\"\n"
     ]
    },
    {
     "data": {
      "text/plain": [
       "\n",
       "Call:\n",
       "glm(formula = acpa ~ infliximab, data = ra_df)\n",
       "\n",
       "Deviance Residuals: \n",
       "   Min      1Q  Median      3Q     Max  \n",
       "  -0.5    -0.5     0.0     0.5     0.5  \n",
       "\n",
       "Coefficients: (1 not defined because of singularities)\n",
       "            Estimate Std. Error t value Pr(>|t|)    \n",
       "(Intercept)  1.50000    0.05625   26.66   <2e-16 ***\n",
       "infliximab        NA         NA      NA       NA    \n",
       "---\n",
       "Signif. codes:  0 ‘***’ 0.001 ‘**’ 0.01 ‘*’ 0.05 ‘.’ 0.1 ‘ ’ 1\n",
       "\n",
       "(Dispersion parameter for gaussian family taken to be 0.2531646)\n",
       "\n",
       "    Null deviance: 20  on 79  degrees of freedom\n",
       "Residual deviance: 20  on 79  degrees of freedom\n",
       "AIC: 120.13\n",
       "\n",
       "Number of Fisher Scoring iterations: 2\n"
      ]
     },
     "metadata": {},
     "output_type": "display_data"
    },
    {
     "name": "stdout",
     "output_type": "stream",
     "text": [
      "[1] \"etanercept\"\n"
     ]
    },
    {
     "data": {
      "text/plain": [
       "\n",
       "Call:\n",
       "glm(formula = acpa ~ etanercept, data = ra_df)\n",
       "\n",
       "Deviance Residuals: \n",
       "   Min      1Q  Median      3Q     Max  \n",
       "  -0.5    -0.5     0.0     0.5     0.5  \n",
       "\n",
       "Coefficients:\n",
       "             Estimate Std. Error t value Pr(>|t|)    \n",
       "(Intercept) 1.500e+00  5.734e-02   26.16   <2e-16 ***\n",
       "etanercept  5.455e-17  3.626e-01    0.00        1    \n",
       "---\n",
       "Signif. codes:  0 ‘***’ 0.001 ‘**’ 0.01 ‘*’ 0.05 ‘.’ 0.1 ‘ ’ 1\n",
       "\n",
       "(Dispersion parameter for gaussian family taken to be 0.2564103)\n",
       "\n",
       "    Null deviance: 20  on 79  degrees of freedom\n",
       "Residual deviance: 20  on 78  degrees of freedom\n",
       "AIC: 122.13\n",
       "\n",
       "Number of Fisher Scoring iterations: 2\n"
      ]
     },
     "metadata": {},
     "output_type": "display_data"
    },
    {
     "name": "stdout",
     "output_type": "stream",
     "text": [
      "[1] \"adalimumab\"\n"
     ]
    },
    {
     "data": {
      "text/plain": [
       "\n",
       "Call:\n",
       "glm(formula = acpa ~ adalimumab, data = ra_df)\n",
       "\n",
       "Deviance Residuals: \n",
       "    Min       1Q   Median       3Q      Max  \n",
       "-0.5195  -0.5195   0.2403   0.4805   0.4805  \n",
       "\n",
       "Coefficients:\n",
       "            Estimate Std. Error t value Pr(>|t|)    \n",
       "(Intercept)  1.51948    0.05657  26.860   <2e-16 ***\n",
       "adalimumab  -0.51948    0.29213  -1.778   0.0793 .  \n",
       "---\n",
       "Signif. codes:  0 ‘***’ 0.001 ‘**’ 0.01 ‘*’ 0.05 ‘.’ 0.1 ‘ ’ 1\n",
       "\n",
       "(Dispersion parameter for gaussian family taken to be 0.2464202)\n",
       "\n",
       "    Null deviance: 20.000  on 79  degrees of freedom\n",
       "Residual deviance: 19.221  on 78  degrees of freedom\n",
       "AIC: 118.95\n",
       "\n",
       "Number of Fisher Scoring iterations: 2\n"
      ]
     },
     "metadata": {},
     "output_type": "display_data"
    },
    {
     "name": "stdout",
     "output_type": "stream",
     "text": [
      "[1] \"golimumab\"\n"
     ]
    },
    {
     "data": {
      "text/plain": [
       "\n",
       "Call:\n",
       "glm(formula = acpa ~ golimumab, data = ra_df)\n",
       "\n",
       "Deviance Residuals: \n",
       "   Min      1Q  Median      3Q     Max  \n",
       "  -0.5    -0.5     0.0     0.5     0.5  \n",
       "\n",
       "Coefficients: (1 not defined because of singularities)\n",
       "            Estimate Std. Error t value Pr(>|t|)    \n",
       "(Intercept)  1.50000    0.05625   26.66   <2e-16 ***\n",
       "golimumab         NA         NA      NA       NA    \n",
       "---\n",
       "Signif. codes:  0 ‘***’ 0.001 ‘**’ 0.01 ‘*’ 0.05 ‘.’ 0.1 ‘ ’ 1\n",
       "\n",
       "(Dispersion parameter for gaussian family taken to be 0.2531646)\n",
       "\n",
       "    Null deviance: 20  on 79  degrees of freedom\n",
       "Residual deviance: 20  on 79  degrees of freedom\n",
       "AIC: 120.13\n",
       "\n",
       "Number of Fisher Scoring iterations: 2\n"
      ]
     },
     "metadata": {},
     "output_type": "display_data"
    },
    {
     "name": "stdout",
     "output_type": "stream",
     "text": [
      "[1] \"certolizumab\"\n"
     ]
    },
    {
     "data": {
      "text/plain": [
       "\n",
       "Call:\n",
       "glm(formula = acpa ~ certolizumab, data = ra_df)\n",
       "\n",
       "Deviance Residuals: \n",
       "     Min        1Q    Median        3Q       Max  \n",
       "-0.51351  -0.51351   0.07658   0.48649   0.66667  \n",
       "\n",
       "Coefficients:\n",
       "             Estimate Std. Error t value Pr(>|t|)    \n",
       "(Intercept)    1.5135     0.0586  25.829   <2e-16 ***\n",
       "certolizumab  -0.1802     0.2140  -0.842    0.402    \n",
       "---\n",
       "Signif. codes:  0 ‘***’ 0.001 ‘**’ 0.01 ‘*’ 0.05 ‘.’ 0.1 ‘ ’ 1\n",
       "\n",
       "(Dispersion parameter for gaussian family taken to be 0.2541003)\n",
       "\n",
       "    Null deviance: 20.00  on 79  degrees of freedom\n",
       "Residual deviance: 19.82  on 78  degrees of freedom\n",
       "AIC: 121.4\n",
       "\n",
       "Number of Fisher Scoring iterations: 2\n"
      ]
     },
     "metadata": {},
     "output_type": "display_data"
    },
    {
     "name": "stdout",
     "output_type": "stream",
     "text": [
      "[1] \"tocilizumab\"\n"
     ]
    },
    {
     "data": {
      "text/plain": [
       "\n",
       "Call:\n",
       "glm(formula = acpa ~ tocilizumab, data = ra_df)\n",
       "\n",
       "Deviance Residuals: \n",
       "    Min       1Q   Median       3Q      Max  \n",
       "-0.4872  -0.4872  -0.2436   0.5128   0.5128  \n",
       "\n",
       "Coefficients:\n",
       "            Estimate Std. Error t value Pr(>|t|)    \n",
       "(Intercept)   1.4872     0.0566  26.277   <2e-16 ***\n",
       "tocilizumab   0.5128     0.3579   1.433    0.156    \n",
       "---\n",
       "Signif. codes:  0 ‘***’ 0.001 ‘**’ 0.01 ‘*’ 0.05 ‘.’ 0.1 ‘ ’ 1\n",
       "\n",
       "(Dispersion parameter for gaussian family taken to be 0.2498356)\n",
       "\n",
       "    Null deviance: 20.000  on 79  degrees of freedom\n",
       "Residual deviance: 19.487  on 78  degrees of freedom\n",
       "AIC: 120.05\n",
       "\n",
       "Number of Fisher Scoring iterations: 2\n"
      ]
     },
     "metadata": {},
     "output_type": "display_data"
    },
    {
     "name": "stdout",
     "output_type": "stream",
     "text": [
      "[1] \"anakinra\"\n"
     ]
    },
    {
     "data": {
      "text/plain": [
       "\n",
       "Call:\n",
       "glm(formula = acpa ~ anakinra, data = ra_df)\n",
       "\n",
       "Deviance Residuals: \n",
       "   Min      1Q  Median      3Q     Max  \n",
       "  -0.5    -0.5     0.0     0.5     0.5  \n",
       "\n",
       "Coefficients: (1 not defined because of singularities)\n",
       "            Estimate Std. Error t value Pr(>|t|)    \n",
       "(Intercept)  1.50000    0.05625   26.66   <2e-16 ***\n",
       "anakinra          NA         NA      NA       NA    \n",
       "---\n",
       "Signif. codes:  0 ‘***’ 0.001 ‘**’ 0.01 ‘*’ 0.05 ‘.’ 0.1 ‘ ’ 1\n",
       "\n",
       "(Dispersion parameter for gaussian family taken to be 0.2531646)\n",
       "\n",
       "    Null deviance: 20  on 79  degrees of freedom\n",
       "Residual deviance: 20  on 79  degrees of freedom\n",
       "AIC: 120.13\n",
       "\n",
       "Number of Fisher Scoring iterations: 2\n"
      ]
     },
     "metadata": {},
     "output_type": "display_data"
    },
    {
     "name": "stdout",
     "output_type": "stream",
     "text": [
      "[1] \"abatacept\"\n"
     ]
    },
    {
     "data": {
      "text/plain": [
       "\n",
       "Call:\n",
       "glm(formula = acpa ~ abatacept, data = ra_df)\n",
       "\n",
       "Deviance Residuals: \n",
       "     Min        1Q    Median        3Q       Max  \n",
       "-0.50649  -0.50649   0.08009   0.49351   0.66667  \n",
       "\n",
       "Coefficients:\n",
       "            Estimate Std. Error t value Pr(>|t|)    \n",
       "(Intercept)  1.50649    0.05758  26.163   <2e-16 ***\n",
       "abatacept   -0.17316    0.29735  -0.582    0.562    \n",
       "---\n",
       "Signif. codes:  0 ‘***’ 0.001 ‘**’ 0.01 ‘*’ 0.05 ‘.’ 0.1 ‘ ’ 1\n",
       "\n",
       "(Dispersion parameter for gaussian family taken to be 0.2553003)\n",
       "\n",
       "    Null deviance: 20.000  on 79  degrees of freedom\n",
       "Residual deviance: 19.913  on 78  degrees of freedom\n",
       "AIC: 121.78\n",
       "\n",
       "Number of Fisher Scoring iterations: 2\n"
      ]
     },
     "metadata": {},
     "output_type": "display_data"
    },
    {
     "name": "stdout",
     "output_type": "stream",
     "text": [
      "[1] \"rituximab\"\n"
     ]
    },
    {
     "data": {
      "text/plain": [
       "\n",
       "Call:\n",
       "glm(formula = acpa ~ rituximab, data = ra_df)\n",
       "\n",
       "Deviance Residuals: \n",
       "    Min       1Q   Median       3Q      Max  \n",
       "-0.4937  -0.4937  -0.2468   0.5063   0.5063  \n",
       "\n",
       "Coefficients:\n",
       "            Estimate Std. Error t value Pr(>|t|)    \n",
       "(Intercept)  1.49367    0.05661   26.39   <2e-16 ***\n",
       "rituximab    0.50633    0.50633    1.00     0.32    \n",
       "---\n",
       "Signif. codes:  0 ‘***’ 0.001 ‘**’ 0.01 ‘*’ 0.05 ‘.’ 0.1 ‘ ’ 1\n",
       "\n",
       "(Dispersion parameter for gaussian family taken to be 0.2531646)\n",
       "\n",
       "    Null deviance: 20.000  on 79  degrees of freedom\n",
       "Residual deviance: 19.747  on 78  degrees of freedom\n",
       "AIC: 121.11\n",
       "\n",
       "Number of Fisher Scoring iterations: 2\n"
      ]
     },
     "metadata": {},
     "output_type": "display_data"
    },
    {
     "name": "stdout",
     "output_type": "stream",
     "text": [
      "[1] \"pred\"\n"
     ]
    },
    {
     "data": {
      "text/plain": [
       "\n",
       "Call:\n",
       "glm(formula = acpa ~ pred, data = ra_df)\n",
       "\n",
       "Deviance Residuals: \n",
       "     Min        1Q    Median        3Q       Max  \n",
       "-0.60000  -0.46667  -0.03333   0.53333   0.53333  \n",
       "\n",
       "Coefficients:\n",
       "            Estimate Std. Error t value Pr(>|t|)    \n",
       "(Intercept)  1.46667    0.06493  22.587   <2e-16 ***\n",
       "pred         0.13333    0.12987   1.027    0.308    \n",
       "---\n",
       "Signif. codes:  0 ‘***’ 0.001 ‘**’ 0.01 ‘*’ 0.05 ‘.’ 0.1 ‘ ’ 1\n",
       "\n",
       "(Dispersion parameter for gaussian family taken to be 0.2529915)\n",
       "\n",
       "    Null deviance: 20.000  on 79  degrees of freedom\n",
       "Residual deviance: 19.733  on 78  degrees of freedom\n",
       "AIC: 121.05\n",
       "\n",
       "Number of Fisher Scoring iterations: 2\n"
      ]
     },
     "metadata": {},
     "output_type": "display_data"
    }
   ],
   "source": [
    "ra_df <- filter(patient_df, acpa == 1 | acpa == 2)\n",
    "\n",
    "#drugs  #not_significant\n",
    "print (\"mtx\")\n",
    "fit <- glm(acpa ~ mtx , data = ra_df)\n",
    "summary(fit)\n",
    "\n",
    "print (\"hcq\")\n",
    "fit <- glm(acpa ~ hcq , data = ra_df)\n",
    "summary(fit)\n",
    "\n",
    "print (\"ssz\")\n",
    "fit <- glm(acpa ~ ssz , data = ra_df)\n",
    "summary(fit)\n",
    "\n",
    "print (\"lef\")\n",
    "fit <- glm(acpa ~ lef , data = ra_df)\n",
    "summary(fit)\n",
    "\n",
    "print (\"aza\")\n",
    "fit <- glm(acpa ~ aza , data = ra_df)\n",
    "summary(fit)\n",
    "\n",
    "print (\"tofacitinib\")\n",
    "fit <- glm(acpa ~ tofacitinib , data = ra_df)\n",
    "summary(fit)\n",
    "\n",
    "print (\"infliximab\")\n",
    "fit <- glm(acpa ~ infliximab , data = ra_df)\n",
    "summary(fit)\n",
    "\n",
    "print (\"etanercept\")\n",
    "fit <- glm(acpa ~ etanercept , data = ra_df)\n",
    "summary(fit)\n",
    "\n",
    "print (\"adalimumab\")\n",
    "fit <- glm(acpa ~ adalimumab , data = ra_df)\n",
    "summary(fit)\n",
    "\n",
    "print (\"golimumab\")\n",
    "fit <- glm(acpa ~ golimumab , data = ra_df)\n",
    "summary(fit)\n",
    "\n",
    "print (\"certolizumab\")\n",
    "fit <- glm(acpa ~ certolizumab , data = ra_df)\n",
    "summary(fit)\n",
    "\n",
    "print (\"tocilizumab\")\n",
    "fit <- glm(acpa ~ tocilizumab , data = ra_df)\n",
    "summary(fit)\n",
    "\n",
    "print (\"anakinra\")\n",
    "fit <- glm(acpa ~ anakinra , data = ra_df)\n",
    "summary(fit)\n",
    "\n",
    "print (\"abatacept\")\n",
    "fit <- glm(acpa ~ abatacept , data = ra_df)\n",
    "summary(fit)\n",
    "\n",
    "print (\"rituximab\")\n",
    "fit <- glm(acpa ~ rituximab , data = ra_df)\n",
    "summary(fit)\n",
    "\n",
    "print (\"pred\")\n",
    "fit <- glm(acpa ~ pred , data = ra_df)\n",
    "summary(fit)"
   ]
  },
  {
   "cell_type": "code",
   "execution_count": null,
   "id": "positive-limitation",
   "metadata": {},
   "outputs": [],
   "source": []
  }
 ],
 "metadata": {
  "kernelspec": {
   "display_name": "R",
   "language": "R",
   "name": "ir"
  },
  "language_info": {
   "codemirror_mode": "r",
   "file_extension": ".r",
   "mimetype": "text/x-r-source",
   "name": "R",
   "pygments_lexer": "r",
   "version": "4.0.3"
  }
 },
 "nbformat": 4,
 "nbformat_minor": 5
}
