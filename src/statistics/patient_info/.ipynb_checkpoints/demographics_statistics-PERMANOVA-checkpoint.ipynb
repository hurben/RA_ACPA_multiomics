{
 "cells": [
  {
   "cell_type": "code",
   "execution_count": 2,
   "id": "several-representative",
   "metadata": {},
   "outputs": [
    {
     "name": "stderr",
     "output_type": "stream",
     "text": [
      "Loading required package: permute\n",
      "\n",
      "Loading required package: lattice\n",
      "\n",
      "This is vegan 2.6-4\n",
      "\n",
      "\n",
      "Attaching package: ‘dplyr’\n",
      "\n",
      "\n",
      "The following objects are masked from ‘package:stats’:\n",
      "\n",
      "    filter, lag\n",
      "\n",
      "\n",
      "The following objects are masked from ‘package:base’:\n",
      "\n",
      "    intersect, setdiff, setequal, union\n",
      "\n",
      "\n"
     ]
    }
   ],
   "source": [
    "#demographics_statistics-PERMANOVA\n",
    "\n",
    "#identify clinical characteristics is associated to the population acpa status.\n",
    "library(\"vegan\")\n",
    "library(\"dplyr\")"
   ]
  },
  {
   "cell_type": "code",
   "execution_count": 3,
   "id": "individual-netherlands",
   "metadata": {},
   "outputs": [],
   "source": [
    "#load data, make class (i.e., control, acpa+, acpa-) specific data frame for convenience\n",
    "data_file = '../../../preprocessed_data/3_omics/three_omics_multiplex_with_all_covariates_v3.tsv'\n",
    "#this is deientified sample\n",
    "\n",
    "#all class\n",
    "data_df <- read.csv(data_file, sep=\"\\t\")\n",
    "\n",
    "set.seed(1) #setting seeds for reproducablility\n"
   ]
  },
  {
   "cell_type": "code",
   "execution_count": 39,
   "id": "492fcf35-7097-4b7c-ace5-dc24de9d6358",
   "metadata": {},
   "outputs": [
    {
     "name": "stdout",
     "output_type": "stream",
     "text": [
      "[1] \"mtx: 0.241\"\n",
      "[1] \"hcq: 0.082\"\n",
      "[1] \"ssz: 0.195\"\n",
      "[1] \"lef: 0.395\"\n",
      "[1] \"aza: NA\"\n",
      "[1] \"tofacitinib: NA\"\n",
      "[1] \"infliximab: NA\"\n",
      "[1] \"etanercept: 0.8\"\n",
      "[1] \"adalimumab: 0.772\"\n",
      "[1] \"golimumab: NA\"\n",
      "[1] \"certolizumab: 0.573\"\n",
      "[1] \"tocilizumab: 0.655\"\n",
      "[1] \"anakinra: NA\"\n",
      "[1] \"abatacept: 0.967\"\n",
      "[1] \"rituximab: 0.097\"\n",
      "[1] \"pred: 0.341\"\n"
     ]
    }
   ],
   "source": [
    "#3class\n",
    "for (i in 16:31)\n",
    "{\n",
    "    # print (colnames(ra_df)[i])\n",
    "    result <- adonis2(data_df[,33:ncol(data_df)] ~ data_df[,i])\n",
    "    output_str <- paste(colnames(data_df)[i], result$Pr[1],sep=\": \")\n",
    "    print (output_str)\n",
    "}"
   ]
  },
  {
   "cell_type": "code",
   "execution_count": 44,
   "id": "0d3bda3e-3e3f-4f1a-9150-a10f162d8dc8",
   "metadata": {},
   "outputs": [
    {
     "name": "stdout",
     "output_type": "stream",
     "text": [
      "[1] \"sex: 0.272\"\n",
      "[1] \"age: 0.275\"\n",
      "[1] \"bmi: 0.061\"\n"
     ]
    }
   ],
   "source": [
    "for (i in 3:5)\n",
    "{\n",
    "    result <- adonis2(data_df[,33:ncol(data_df)] ~ data_df[,i])\n",
    "    output_str <- paste(colnames(data_df)[i], result$Pr[1],sep=\": \")\n",
    "    print (output_str)\n",
    "}"
   ]
  },
  {
   "cell_type": "code",
   "execution_count": null,
   "id": "4d61924e-0570-4e86-afb6-65555ae770a2",
   "metadata": {},
   "outputs": [
    {
     "data": {
      "text/html": [
       "<dl>\n",
       "\t<dt>$platform</dt>\n",
       "\t\t<dd>'x86_64-apple-darwin19.6.0'</dd>\n",
       "\t<dt>$arch</dt>\n",
       "\t\t<dd>'x86_64'</dd>\n",
       "\t<dt>$os</dt>\n",
       "\t\t<dd>'darwin19.6.0'</dd>\n",
       "\t<dt>$system</dt>\n",
       "\t\t<dd>'x86_64, darwin19.6.0'</dd>\n",
       "\t<dt>$status</dt>\n",
       "\t\t<dd>''</dd>\n",
       "\t<dt>$major</dt>\n",
       "\t\t<dd>'4'</dd>\n",
       "\t<dt>$minor</dt>\n",
       "\t\t<dd>'0.3'</dd>\n",
       "\t<dt>$year</dt>\n",
       "\t\t<dd>'2020'</dd>\n",
       "\t<dt>$month</dt>\n",
       "\t\t<dd>'10'</dd>\n",
       "\t<dt>$day</dt>\n",
       "\t\t<dd>'10'</dd>\n",
       "\t<dt>$`svn rev`</dt>\n",
       "\t\t<dd>'79318'</dd>\n",
       "\t<dt>$language</dt>\n",
       "\t\t<dd>'R'</dd>\n",
       "\t<dt>$version.string</dt>\n",
       "\t\t<dd>'R version 4.0.3 (2020-10-10)'</dd>\n",
       "\t<dt>$nickname</dt>\n",
       "\t\t<dd>'Bunny-Wunnies Freak Out'</dd>\n",
       "</dl>\n"
      ],
      "text/latex": [
       "\\begin{description}\n",
       "\\item[\\$platform] 'x86\\_64-apple-darwin19.6.0'\n",
       "\\item[\\$arch] 'x86\\_64'\n",
       "\\item[\\$os] 'darwin19.6.0'\n",
       "\\item[\\$system] 'x86\\_64, darwin19.6.0'\n",
       "\\item[\\$status] ''\n",
       "\\item[\\$major] '4'\n",
       "\\item[\\$minor] '0.3'\n",
       "\\item[\\$year] '2020'\n",
       "\\item[\\$month] '10'\n",
       "\\item[\\$day] '10'\n",
       "\\item[\\$`svn rev`] '79318'\n",
       "\\item[\\$language] 'R'\n",
       "\\item[\\$version.string] 'R version 4.0.3 (2020-10-10)'\n",
       "\\item[\\$nickname] 'Bunny-Wunnies Freak Out'\n",
       "\\end{description}\n"
      ],
      "text/markdown": [
       "$platform\n",
       ":   'x86_64-apple-darwin19.6.0'\n",
       "$arch\n",
       ":   'x86_64'\n",
       "$os\n",
       ":   'darwin19.6.0'\n",
       "$system\n",
       ":   'x86_64, darwin19.6.0'\n",
       "$status\n",
       ":   ''\n",
       "$major\n",
       ":   '4'\n",
       "$minor\n",
       ":   '0.3'\n",
       "$year\n",
       ":   '2020'\n",
       "$month\n",
       ":   '10'\n",
       "$day\n",
       ":   '10'\n",
       "$`svn rev`\n",
       ":   '79318'\n",
       "$language\n",
       ":   'R'\n",
       "$version.string\n",
       ":   'R version 4.0.3 (2020-10-10)'\n",
       "$nickname\n",
       ":   'Bunny-Wunnies Freak Out'\n",
       "\n",
       "\n"
      ],
      "text/plain": [
       "$platform\n",
       "[1] \"x86_64-apple-darwin19.6.0\"\n",
       "\n",
       "$arch\n",
       "[1] \"x86_64\"\n",
       "\n",
       "$os\n",
       "[1] \"darwin19.6.0\"\n",
       "\n",
       "$system\n",
       "[1] \"x86_64, darwin19.6.0\"\n",
       "\n",
       "$status\n",
       "[1] \"\"\n",
       "\n",
       "$major\n",
       "[1] \"4\"\n",
       "\n",
       "$minor\n",
       "[1] \"0.3\"\n",
       "\n",
       "$year\n",
       "[1] \"2020\"\n",
       "\n",
       "$month\n",
       "[1] \"10\"\n",
       "\n",
       "$day\n",
       "[1] \"10\"\n",
       "\n",
       "$`svn rev`\n",
       "[1] \"79318\"\n",
       "\n",
       "$language\n",
       "[1] \"R\"\n",
       "\n",
       "$version.string\n",
       "[1] \"R version 4.0.3 (2020-10-10)\"\n",
       "\n",
       "$nickname\n",
       "[1] \"Bunny-Wunnies Freak Out\"\n"
      ]
     },
     "metadata": {},
     "output_type": "display_data"
    }
   ],
   "source": [
    "#R.Version()\n",
    "#packageVersion(\"Vegan\")"
   ]
  },
  {
   "cell_type": "code",
   "execution_count": null,
   "id": "4982598f-0f61-452d-87f1-956b92fc3d6d",
   "metadata": {},
   "outputs": [],
   "source": []
  }
 ],
 "metadata": {
  "kernelspec": {
   "display_name": "R",
   "language": "R",
   "name": "ir"
  },
  "language_info": {
   "codemirror_mode": "r",
   "file_extension": ".r",
   "mimetype": "text/x-r-source",
   "name": "R",
   "pygments_lexer": "r",
   "version": "4.3.1"
  }
 },
 "nbformat": 4,
 "nbformat_minor": 5
}
