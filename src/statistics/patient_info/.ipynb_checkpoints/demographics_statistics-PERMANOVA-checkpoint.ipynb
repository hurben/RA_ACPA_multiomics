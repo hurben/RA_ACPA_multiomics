{
 "cells": [
  {
   "cell_type": "code",
   "execution_count": 1,
   "id": "several-representative",
   "metadata": {},
   "outputs": [
    {
     "name": "stderr",
     "output_type": "stream",
     "text": [
      "Loading required package: permute\n",
      "\n",
      "Loading required package: lattice\n",
      "\n",
      "This is vegan 2.6-4\n",
      "\n",
      "\n",
      "Attaching package: ‘dplyr’\n",
      "\n",
      "\n",
      "The following objects are masked from ‘package:stats’:\n",
      "\n",
      "    filter, lag\n",
      "\n",
      "\n",
      "The following objects are masked from ‘package:base’:\n",
      "\n",
      "    intersect, setdiff, setequal, union\n",
      "\n",
      "\n"
     ]
    }
   ],
   "source": [
    "#basic_demographics\n",
    "#\n",
    "#identify clinical characteristics is associated to the population acpa status.\n",
    "\n",
    "library(\"vegan\")\n",
    "library(\"dplyr\")"
   ]
  },
  {
   "cell_type": "code",
   "execution_count": 21,
   "id": "individual-netherlands",
   "metadata": {},
   "outputs": [],
   "source": [
    "#load data, make class (i.e., control, acpa+, acpa-) specific data frame for convenience\n",
    "# data_file = '/Users/m221138/RA_acpa_multiomics/preprocessed_data/3_omics/three_omics_multiplex_with_all_covariates.tsv'\n",
    "data_file = '/Users/m221138/RA_acpa_multiomics/preprocessed_data/3_omics/three_omics_multiplex_with_all_covariates_v3.tsv'\n",
    "\n",
    "#all class\n",
    "data_df <- read.csv(data_file, sep=\"\\t\")\n",
    "\n"
   ]
  },
  {
   "cell_type": "code",
   "execution_count": 24,
   "id": "492fcf35-7097-4b7c-ace5-dc24de9d6358",
   "metadata": {},
   "outputs": [
    {
     "name": "stdout",
     "output_type": "stream",
     "text": [
      "[1] \"mtx: 0.248\"\n",
      "[1] \"hcq: 0.075\"\n",
      "[1] \"ssz: 0.201\"\n",
      "[1] \"lef: 0.375\"\n",
      "[1] \"aza: NA\"\n",
      "[1] \"tofacitinib: NA\"\n",
      "[1] \"infliximab: NA\"\n",
      "[1] \"etanercept: 0.808\"\n",
      "[1] \"adalimumab: 0.758\"\n",
      "[1] \"golimumab: NA\"\n",
      "[1] \"certolizumab: 0.58\"\n",
      "[1] \"tocilizumab: 0.651\"\n",
      "[1] \"anakinra: NA\"\n",
      "[1] \"abatacept: 0.959\"\n",
      "[1] \"rituximab: 0.095\"\n",
      "[1] \"pred: 0.311\"\n"
     ]
    }
   ],
   "source": [
    "#3class\n",
    "for (i in 17:32)\n",
    "{\n",
    "    # print (colnames(ra_df)[i])\n",
    "    result <- adonis2(data_df[,33:ncol(data_df)] ~ data_df[,i])\n",
    "    output_str <- paste(colnames(data_df)[i], result$Pr[1],sep=\": \")\n",
    "    print (output_str)\n",
    "}\n",
    "\n",
    "for (i in 4:6)\n",
    "{\n",
    "    result <- adonis2(data_df[,33:ncol(data_df)] ~ data_df[,i])\n",
    "    output_str <- paste(colnames(data_df)[i], result$Pr[1],sep=\": \")\n",
    "    print (output_str)\n",
    "}"
   ]
  },
  {
   "cell_type": "code",
   "execution_count": null,
   "id": "0d3bda3e-3e3f-4f1a-9150-a10f162d8dc8",
   "metadata": {},
   "outputs": [],
   "source": []
  }
 ],
 "metadata": {
  "kernelspec": {
   "display_name": "R",
   "language": "R",
   "name": "ir"
  },
  "language_info": {
   "codemirror_mode": "r",
   "file_extension": ".r",
   "mimetype": "text/x-r-source",
   "name": "R",
   "pygments_lexer": "r",
   "version": "4.0.3"
  }
 },
 "nbformat": 4,
 "nbformat_minor": 5
}
