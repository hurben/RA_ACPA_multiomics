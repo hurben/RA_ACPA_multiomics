{
 "cells": [
  {
   "cell_type": "code",
   "execution_count": 30,
   "id": "several-representative",
   "metadata": {},
   "outputs": [],
   "source": [
    "#basic_demographics\n",
    "#\n",
    "#identify clinical characteristics is associated to the population acpa status.\n",
    "\n",
    "library(\"vegan\")\n",
    "library(\"dplyr\")"
   ]
  },
  {
   "cell_type": "code",
   "execution_count": 21,
   "id": "individual-netherlands",
   "metadata": {},
   "outputs": [],
   "source": [
    "#load data, make class (i.e., control, acpa+, acpa-) specific data frame for convenience\n",
    "# data_file = '/Users/m221138/RA_acpa_multiomics/preprocessed_data/3_omics/three_omics_multiplex_with_all_covariates.tsv'\n",
    "data_file = '/Users/m221138/RA_acpa_multiomics/preprocessed_data/3_omics/three_omics_multiplex_with_all_covariates_v3.tsv'\n",
    "\n",
    "#all class\n",
    "data_df <- read.csv(data_file, sep=\"\\t\")\n",
    "\n"
   ]
  },
  {
   "cell_type": "code",
   "execution_count": 27,
   "id": "492fcf35-7097-4b7c-ace5-dc24de9d6358",
   "metadata": {},
   "outputs": [
    {
     "name": "stdout",
     "output_type": "stream",
     "text": [
      "[1] \"mtx: 0.254\"\n",
      "[1] \"hcq: 0.079\"\n",
      "[1] \"ssz: 0.207\"\n",
      "[1] \"lef: 0.401\"\n",
      "[1] \"aza: NA\"\n",
      "[1] \"tofacitinib: NA\"\n",
      "[1] \"infliximab: NA\"\n",
      "[1] \"etanercept: 0.807\"\n",
      "[1] \"adalimumab: 0.76\"\n",
      "[1] \"golimumab: NA\"\n",
      "[1] \"certolizumab: 0.58\"\n",
      "[1] \"tocilizumab: 0.666\"\n",
      "[1] \"anakinra: NA\"\n",
      "[1] \"abatacept: 0.969\"\n",
      "[1] \"rituximab: 0.092\"\n",
      "[1] \"pred: 0.347\"\n"
     ]
    }
   ],
   "source": [
    "#3class\n",
    "for (i in 17:32)\n",
    "{\n",
    "    # print (colnames(ra_df)[i])\n",
    "    result <- adonis2(data_df[,33:ncol(data_df)] ~ data_df[,i])\n",
    "    output_str <- paste(colnames(data_df)[i], result$Pr[1],sep=\": \")\n",
    "    print (output_str)\n",
    "}\n"
   ]
  },
  {
   "cell_type": "code",
   "execution_count": 26,
   "id": "0d3bda3e-3e3f-4f1a-9150-a10f162d8dc8",
   "metadata": {},
   "outputs": [
    {
     "name": "stdout",
     "output_type": "stream",
     "text": [
      "[1] \"sex: 0.293\"\n",
      "[1] \"age: 0.253\"\n",
      "[1] \"bmi: 0.084\"\n"
     ]
    }
   ],
   "source": [
    "for (i in 4:6)\n",
    "{\n",
    "    result <- adonis2(data_df[,33:ncol(data_df)] ~ data_df[,i])\n",
    "    output_str <- paste(colnames(data_df)[i], result$Pr[1],sep=\": \")\n",
    "    print (output_str)\n",
    "}"
   ]
  },
  {
   "cell_type": "code",
   "execution_count": 32,
   "id": "1b1d8722-d276-4f00-9193-cfa6e99b4962",
   "metadata": {},
   "outputs": [
    {
     "name": "stdout",
     "output_type": "stream",
     "text": [
      "[1] \"sex: 0.44\"\n",
      "[1] \"age: 0.156\"\n",
      "[1] \"bmi: 0.32\"\n"
     ]
    }
   ],
   "source": [
    "subset_df <- filter(data_df, acpa == 0 | acpa == 2)\n",
    "for (i in 4:6)\n",
    "{\n",
    "    result <- adonis2(subset_df[,33:ncol(subset_df)] ~ subset_df[,i])\n",
    "    output_str <- paste(colnames(subset_df)[i], result$Pr[1],sep=\": \")\n",
    "    print (output_str)\n",
    "}"
   ]
  },
  {
   "cell_type": "code",
   "execution_count": 38,
   "id": "bc5923ec-e370-451f-98c4-f6037bab1318",
   "metadata": {},
   "outputs": [
    {
     "name": "stdout",
     "output_type": "stream",
     "text": [
      "[1] \"sex: 0.493\"\n",
      "[1] \"age: 0.387\"\n",
      "[1] \"bmi: 0.032\"\n"
     ]
    }
   ],
   "source": [
    "subset_df <- filter(data_df, acpa == 0 | acpa == 1)\n",
    "for (i in 4:6)\n",
    "{\n",
    "    result <- adonis2(subset_df[,33:ncol(subset_df)] ~ subset_df[,i])\n",
    "    output_str <- paste(colnames(subset_df)[i], result$Pr[1],sep=\": \")\n",
    "    print (output_str)\n",
    "}"
   ]
  },
  {
   "cell_type": "code",
   "execution_count": null,
   "id": "4d61924e-0570-4e86-afb6-65555ae770a2",
   "metadata": {},
   "outputs": [],
   "source": []
  }
 ],
 "metadata": {
  "kernelspec": {
   "display_name": "R",
   "language": "R",
   "name": "ir"
  },
  "language_info": {
   "codemirror_mode": "r",
   "file_extension": ".r",
   "mimetype": "text/x-r-source",
   "name": "R",
   "pygments_lexer": "r",
   "version": "4.0.3"
  }
 },
 "nbformat": 4,
 "nbformat_minor": 5
}
