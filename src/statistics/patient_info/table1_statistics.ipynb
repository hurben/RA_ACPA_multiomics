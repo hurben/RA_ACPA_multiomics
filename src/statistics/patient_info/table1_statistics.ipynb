{
 "cells": [
  {
   "cell_type": "code",
   "execution_count": 1,
   "id": "165917ce-ea00-4bcc-a4ea-a7c3ce235ac1",
   "metadata": {},
   "outputs": [
    {
     "name": "stderr",
     "output_type": "stream",
     "text": [
      "\n",
      "Attaching package: ‘dplyr’\n",
      "\n",
      "\n",
      "The following objects are masked from ‘package:stats’:\n",
      "\n",
      "    filter, lag\n",
      "\n",
      "\n",
      "The following objects are masked from ‘package:base’:\n",
      "\n",
      "    intersect, setdiff, setequal, union\n",
      "\n",
      "\n"
     ]
    }
   ],
   "source": [
    "#Pvalue for table 1 manuscript, 23.09.08\n",
    "library(dplyr)\n",
    "\n",
    "set.seed(1)"
   ]
  },
  {
   "cell_type": "code",
   "execution_count": 2,
   "id": "52c5f349-9be7-403a-91f8-f9f4fecbfa79",
   "metadata": {},
   "outputs": [],
   "source": [
    "data_df = read.csv(\"../../../preprocessed_data/meta/patient_info_for_statistics.v3.tsv\", sep=\"\\t\")\n",
    "\n",
    "control_df = filter(data_df, acpa == 0) #control\n",
    "acpa_pos_df = filter(data_df, acpa == 1) #acpa-pos\n",
    "acpa_neg_df = filter(data_df, acpa == 2) #acpa-neg\n",
    "ra_df = filter(data_df, acpa == 1 | acpa == 2) "
   ]
  },
  {
   "cell_type": "code",
   "execution_count": 3,
   "id": "265818f0-c2ed-4b3a-9a4d-30254aee1c17",
   "metadata": {},
   "outputs": [],
   "source": [
    "run_ftest_3class <- function(acpa_neg_df, acpa_pos_df, control_df, condition_of_interest){\n",
    "\n",
    "    condition_of_interest_yes <- paste(condition_of_interest, \"_yes\", sep=\"\")\n",
    "    condition_of_interest_no <- paste(condition_of_interest, \"_no\", sep=\"\")\n",
    "\n",
    "    acpa_neg_yes = sum(acpa_neg_df[[condition_of_interest]] == 1, na.rm = TRUE)\n",
    "    acpa_neg_no = sum(acpa_neg_df[[condition_of_interest]] == 0, na.rm = TRUE)\n",
    "    \n",
    "    acpa_pos_yes = sum(acpa_pos_df[[condition_of_interest]] == 1, na.rm = TRUE)\n",
    "    acpa_pos_no = sum(acpa_pos_df[[condition_of_interest]] == 0, na.rm = TRUE)\n",
    "\n",
    "    control_yes = sum(control_df[[condition_of_interest]] == 1, na.rm = TRUE)\n",
    "    control_no = sum(control_df[[condition_of_interest]] == 0, na.rm = TRUE)    \n",
    "\n",
    "                        #c(yes no)\n",
    "    dat <- data.frame(acpa_neg = c(acpa_neg_yes, acpa_neg_no),\n",
    "                      acpa_pos = c(acpa_pos_yes, acpa_pos_no),\n",
    "                      control = c(control_yes, control_no),\n",
    "                      row.names = c(condition_of_interest_yes, condition_of_interest_no),\n",
    "                      stringsAsFactors = FALSE)\n",
    "    colnames(dat) <- c(\"acpa-neg\", \"acpa-pos\",\"control\")\n",
    "\n",
    "    print (dat)\n",
    "    results <- fisher.test(dat)\n",
    "\n",
    "    return (results)\n",
    "    }\n",
    "\n",
    "run_ftest_2class <- function(acpa_neg_df, acpa_pos_df, condition_of_interest){\n",
    "\n",
    "    condition_of_interest_yes <- paste(condition_of_interest, \"_yes\", sep=\"\")\n",
    "    condition_of_interest_no <- paste(condition_of_interest, \"_no\", sep=\"\")\n",
    "\n",
    "    acpa_neg_yes = sum(acpa_neg_df[[condition_of_interest]] == 1, na.rm = TRUE)\n",
    "    acpa_neg_no = sum(acpa_neg_df[[condition_of_interest]] == 0, na.rm = TRUE)\n",
    "    \n",
    "    acpa_pos_yes = sum(acpa_pos_df[[condition_of_interest]] == 1, na.rm = TRUE)\n",
    "    acpa_pos_no = sum(acpa_pos_df[[condition_of_interest]] == 0, na.rm = TRUE)\n",
    "\n",
    "                        #c(yes no)\n",
    "    dat <- data.frame(acpa_neg = c(acpa_neg_yes, acpa_neg_no),\n",
    "                      acpa_pos = c(acpa_pos_yes, acpa_pos_no),\n",
    "                      row.names = c(condition_of_interest_yes, condition_of_interest_no),\n",
    "                      stringsAsFactors = FALSE)\n",
    "    colnames(dat) <- c(\"acpa-neg\", \"acpa-pos\")\n",
    "    print (dat)\n",
    "    results <- fisher.test(dat)\n",
    "    \n",
    "    return (results)\n",
    "    }\n",
    "\n",
    "\n",
    "run_ftest_2class_rf <- function(acpa_neg_df, acpa_pos_df, condition_of_interest){\n",
    "\n",
    "    condition_of_interest_yes <- paste(condition_of_interest, \"_yes\", sep=\"\")\n",
    "    condition_of_interest_no <- paste(condition_of_interest, \"_no\", sep=\"\")\n",
    "\n",
    "    acpa_neg_yes = sum(acpa_neg_df[[condition_of_interest]] == 1, na.rm = TRUE)\n",
    "    acpa_neg_no = sum(acpa_neg_df[[condition_of_interest]] == 2, na.rm = TRUE)\n",
    "    \n",
    "    acpa_pos_yes = sum(acpa_pos_df[[condition_of_interest]] == 1, na.rm = TRUE)\n",
    "    acpa_pos_no = sum(acpa_pos_df[[condition_of_interest]] == 2, na.rm = TRUE)\n",
    "\n",
    "                        #c(yes no)\n",
    "    dat <- data.frame(acpa_neg = c(acpa_neg_yes, acpa_neg_no),\n",
    "                      acpa_pos = c(acpa_pos_yes, acpa_pos_no),\n",
    "                      row.names = c(condition_of_interest_yes, condition_of_interest_no),\n",
    "                      stringsAsFactors = FALSE)\n",
    "    colnames(dat) <- c(\"acpa-neg\", \"acpa-pos\")\n",
    "    print (dat)\n",
    "    results <- fisher.test(dat)\n",
    "    \n",
    "    return (results)\n",
    "    }\n",
    "\n",
    "# kruskal.test(bmi ~ group, data = my_data)\n",
    "\n"
   ]
  },
  {
   "cell_type": "code",
   "execution_count": 4,
   "id": "5fd8a020-8f2e-4470-b8b2-60185c668204",
   "metadata": {},
   "outputs": [
    {
     "name": "stdout",
     "output_type": "stream",
     "text": [
      "[1] \"sex\"\n",
      "        acpa-neg acpa-pos control\n",
      "sex_yes       12       11      12\n",
      "sex_no        28       29      28\n",
      "\n",
      "\tFisher's Exact Test for Count Data\n",
      "\n",
      "data:  dat\n",
      "p-value = 1\n",
      "alternative hypothesis: two.sided\n",
      "\n",
      "[1] \"smoking\"\n",
      "            acpa-neg acpa-pos control\n",
      "smoking_yes        2        1       4\n",
      "smoking_no        38       39      32\n",
      "\n",
      "\tFisher's Exact Test for Count Data\n",
      "\n",
      "data:  dat\n",
      "p-value = 0.2933\n",
      "alternative hypothesis: two.sided\n",
      "\n",
      "       acpa-neg acpa-pos\n",
      "rf_yes       14       28\n",
      "rf_no        26       12\n",
      "\n",
      "\tFisher's Exact Test for Count Data\n",
      "\n",
      "data:  dat\n",
      "p-value = 0.003345\n",
      "alternative hypothesis: true odds ratio is not equal to 1\n",
      "95 percent confidence interval:\n",
      " 0.08101359 0.64725178\n",
      "sample estimates:\n",
      "odds ratio \n",
      " 0.2354311 \n",
      "\n",
      "[1] \"mtx\"\n",
      "        acpa-neg acpa-pos\n",
      "mtx_yes       19       22\n",
      "mtx_no        21       18\n",
      "\n",
      "\tFisher's Exact Test for Count Data\n",
      "\n",
      "data:  dat\n",
      "p-value = 0.6549\n",
      "alternative hypothesis: true odds ratio is not equal to 1\n",
      "95 percent confidence interval:\n",
      " 0.2803446 1.9495582\n",
      "sample estimates:\n",
      "odds ratio \n",
      " 0.7430704 \n",
      "\n",
      "[1] \"pred\"\n",
      "         acpa-neg acpa-pos\n",
      "pred_yes       12        8\n",
      "pred_no        28       32\n",
      "\n",
      "\tFisher's Exact Test for Count Data\n",
      "\n",
      "data:  dat\n",
      "p-value = 0.4391\n",
      "alternative hypothesis: true odds ratio is not equal to 1\n",
      "95 percent confidence interval:\n",
      " 0.5475801 5.5575139\n",
      "sample estimates:\n",
      "odds ratio \n",
      "  1.702711 \n",
      "\n"
     ]
    }
   ],
   "source": [
    "#Fisher-Exact test\n",
    "\n",
    "ftest_3class_list <- c(\"sex\",\"smoking\")\n",
    "ftest_2class_list <- c(\"mtx\",\"pred\")\n",
    "\n",
    "for (condition_of_interest in ftest_3class_list) {\n",
    "    print (condition_of_interest)\n",
    "    results <- run_ftest_3class(acpa_neg_df, acpa_pos_df, control_df, condition_of_interest)\n",
    "    print (results)\n",
    "}\n",
    "\n",
    "#rf\n",
    "results <- run_ftest_2class_rf(acpa_neg_df, acpa_pos_df, \"rf\")\n",
    "print (results)\n",
    "\n",
    "for (condition_of_interest in ftest_2class_list) {\n",
    "    print (condition_of_interest)\n",
    "    results <- run_ftest_2class(acpa_neg_df, acpa_pos_df, condition_of_interest)\n",
    "    print (results)\n",
    "}"
   ]
  },
  {
   "cell_type": "code",
   "execution_count": 94,
   "id": "796dbc0a-6e9d-4a96-aa04-0c8654395d3a",
   "metadata": {},
   "outputs": [
    {
     "data": {
      "text/plain": [
       "\n",
       "\tKruskal-Wallis rank sum test\n",
       "\n",
       "data:  bmi by acpa\n",
       "Kruskal-Wallis chi-squared = 2.643, df = 2, p-value = 0.2667\n"
      ]
     },
     "metadata": {},
     "output_type": "display_data"
    },
    {
     "data": {
      "text/plain": [
       "\n",
       "\tKruskal-Wallis rank sum test\n",
       "\n",
       "data:  esr by acpa\n",
       "Kruskal-Wallis chi-squared = 0.16892, df = 1, p-value = 0.6811\n"
      ]
     },
     "metadata": {},
     "output_type": "display_data"
    },
    {
     "data": {
      "text/plain": [
       "\n",
       "\tKruskal-Wallis rank sum test\n",
       "\n",
       "data:  crp by acpa\n",
       "Kruskal-Wallis chi-squared = 2.8427, df = 1, p-value = 0.09179\n"
      ]
     },
     "metadata": {},
     "output_type": "display_data"
    },
    {
     "data": {
      "text/plain": [
       "\n",
       "\tKruskal-Wallis rank sum test\n",
       "\n",
       "data:  das28crp by acpa\n",
       "Kruskal-Wallis chi-squared = 3.2547, df = 1, p-value = 0.07122\n"
      ]
     },
     "metadata": {},
     "output_type": "display_data"
    }
   ],
   "source": [
    "kruskal.test(bmi ~ acpa, data = data_df)\n",
    "kruskal.test(esr ~ acpa, data = ra_df)\n",
    "kruskal.test(crp ~ acpa, data = ra_df)\n",
    "kruskal.test(das28crp ~ acpa, data = ra_df)"
   ]
  },
  {
   "cell_type": "code",
   "execution_count": 79,
   "id": "ff90a0a2-155b-4229-9c18-1f9b6ad9a429",
   "metadata": {},
   "outputs": [
    {
     "data": {
      "text/html": [
       "<table class=\"dataframe\">\n",
       "<caption>A data.frame: 6 × 34</caption>\n",
       "<thead>\n",
       "\t<tr><th></th><th scope=col>sample_ID</th><th scope=col>mayo_ID</th><th scope=col>acpa</th><th scope=col>sex</th><th scope=col>age</th><th scope=col>bmi</th><th scope=col>rf</th><th scope=col>smoking</th><th scope=col>rf_tit</th><th scope=col>acpa_tit</th><th scope=col>⋯</th><th scope=col>adalimumab</th><th scope=col>golimumab</th><th scope=col>certolizumab</th><th scope=col>tocilizumab</th><th scope=col>anakinra</th><th scope=col>abatacept</th><th scope=col>rituximab</th><th scope=col>pred</th><th scope=col>csDMARDs</th><th scope=col>bDMARDs</th></tr>\n",
       "\t<tr><th></th><th scope=col>&lt;dbl&gt;</th><th scope=col>&lt;int&gt;</th><th scope=col>&lt;int&gt;</th><th scope=col>&lt;int&gt;</th><th scope=col>&lt;dbl&gt;</th><th scope=col>&lt;dbl&gt;</th><th scope=col>&lt;dbl&gt;</th><th scope=col>&lt;dbl&gt;</th><th scope=col>&lt;dbl&gt;</th><th scope=col>&lt;dbl&gt;</th><th scope=col>⋯</th><th scope=col>&lt;int&gt;</th><th scope=col>&lt;int&gt;</th><th scope=col>&lt;int&gt;</th><th scope=col>&lt;int&gt;</th><th scope=col>&lt;int&gt;</th><th scope=col>&lt;int&gt;</th><th scope=col>&lt;int&gt;</th><th scope=col>&lt;int&gt;</th><th scope=col>&lt;int&gt;</th><th scope=col>&lt;int&gt;</th></tr>\n",
       "</thead>\n",
       "<tbody>\n",
       "\t<tr><th scope=row>1</th><td>1402101782</td><td>10663503</td><td>0</td><td>0</td><td>41.01027</td><td>47.8923</td><td>NaN</td><td>  0</td><td>NaN</td><td>NaN</td><td>⋯</td><td>0</td><td>0</td><td>0</td><td>0</td><td>0</td><td>0</td><td>0</td><td>0</td><td>0</td><td>0</td></tr>\n",
       "\t<tr><th scope=row>2</th><td>1401405787</td><td> 1867679</td><td>0</td><td>0</td><td>63.00068</td><td>21.7100</td><td>NaN</td><td>NaN</td><td>NaN</td><td>NaN</td><td>⋯</td><td>0</td><td>0</td><td>0</td><td>0</td><td>0</td><td>0</td><td>0</td><td>0</td><td>0</td><td>0</td></tr>\n",
       "\t<tr><th scope=row>3</th><td>1305800706</td><td> 2939561</td><td>0</td><td>1</td><td>59.99452</td><td>28.7801</td><td>NaN</td><td>  0</td><td>NaN</td><td>NaN</td><td>⋯</td><td>0</td><td>0</td><td>0</td><td>0</td><td>0</td><td>0</td><td>0</td><td>0</td><td>0</td><td>0</td></tr>\n",
       "\t<tr><th scope=row>4</th><td>1431803035</td><td> 9898318</td><td>0</td><td>0</td><td>44.78576</td><td>21.2299</td><td>NaN</td><td>  0</td><td>NaN</td><td>NaN</td><td>⋯</td><td>0</td><td>0</td><td>0</td><td>0</td><td>0</td><td>0</td><td>0</td><td>0</td><td>0</td><td>0</td></tr>\n",
       "\t<tr><th scope=row>5</th><td>1315600833</td><td> 2919944</td><td>0</td><td>1</td><td>63.00068</td><td>26.7382</td><td>NaN</td><td>  0</td><td>NaN</td><td>NaN</td><td>⋯</td><td>0</td><td>0</td><td>0</td><td>0</td><td>0</td><td>0</td><td>0</td><td>0</td><td>0</td><td>0</td></tr>\n",
       "\t<tr><th scope=row>6</th><td>1321207870</td><td> 7448718</td><td>0</td><td>0</td><td>48.00000</td><td>29.7900</td><td>NaN</td><td>  0</td><td>NaN</td><td>NaN</td><td>⋯</td><td>0</td><td>0</td><td>0</td><td>0</td><td>0</td><td>0</td><td>0</td><td>0</td><td>0</td><td>0</td></tr>\n",
       "</tbody>\n",
       "</table>\n"
      ],
      "text/latex": [
       "A data.frame: 6 × 34\n",
       "\\begin{tabular}{r|lllllllllllllllllllll}\n",
       "  & sample\\_ID & mayo\\_ID & acpa & sex & age & bmi & rf & smoking & rf\\_tit & acpa\\_tit & ⋯ & adalimumab & golimumab & certolizumab & tocilizumab & anakinra & abatacept & rituximab & pred & csDMARDs & bDMARDs\\\\\n",
       "  & <dbl> & <int> & <int> & <int> & <dbl> & <dbl> & <dbl> & <dbl> & <dbl> & <dbl> & ⋯ & <int> & <int> & <int> & <int> & <int> & <int> & <int> & <int> & <int> & <int>\\\\\n",
       "\\hline\n",
       "\t1 & 1402101782 & 10663503 & 0 & 0 & 41.01027 & 47.8923 & NaN &   0 & NaN & NaN & ⋯ & 0 & 0 & 0 & 0 & 0 & 0 & 0 & 0 & 0 & 0\\\\\n",
       "\t2 & 1401405787 &  1867679 & 0 & 0 & 63.00068 & 21.7100 & NaN & NaN & NaN & NaN & ⋯ & 0 & 0 & 0 & 0 & 0 & 0 & 0 & 0 & 0 & 0\\\\\n",
       "\t3 & 1305800706 &  2939561 & 0 & 1 & 59.99452 & 28.7801 & NaN &   0 & NaN & NaN & ⋯ & 0 & 0 & 0 & 0 & 0 & 0 & 0 & 0 & 0 & 0\\\\\n",
       "\t4 & 1431803035 &  9898318 & 0 & 0 & 44.78576 & 21.2299 & NaN &   0 & NaN & NaN & ⋯ & 0 & 0 & 0 & 0 & 0 & 0 & 0 & 0 & 0 & 0\\\\\n",
       "\t5 & 1315600833 &  2919944 & 0 & 1 & 63.00068 & 26.7382 & NaN &   0 & NaN & NaN & ⋯ & 0 & 0 & 0 & 0 & 0 & 0 & 0 & 0 & 0 & 0\\\\\n",
       "\t6 & 1321207870 &  7448718 & 0 & 0 & 48.00000 & 29.7900 & NaN &   0 & NaN & NaN & ⋯ & 0 & 0 & 0 & 0 & 0 & 0 & 0 & 0 & 0 & 0\\\\\n",
       "\\end{tabular}\n"
      ],
      "text/markdown": [
       "\n",
       "A data.frame: 6 × 34\n",
       "\n",
       "| <!--/--> | sample_ID &lt;dbl&gt; | mayo_ID &lt;int&gt; | acpa &lt;int&gt; | sex &lt;int&gt; | age &lt;dbl&gt; | bmi &lt;dbl&gt; | rf &lt;dbl&gt; | smoking &lt;dbl&gt; | rf_tit &lt;dbl&gt; | acpa_tit &lt;dbl&gt; | ⋯ ⋯ | adalimumab &lt;int&gt; | golimumab &lt;int&gt; | certolizumab &lt;int&gt; | tocilizumab &lt;int&gt; | anakinra &lt;int&gt; | abatacept &lt;int&gt; | rituximab &lt;int&gt; | pred &lt;int&gt; | csDMARDs &lt;int&gt; | bDMARDs &lt;int&gt; |\n",
       "|---|---|---|---|---|---|---|---|---|---|---|---|---|---|---|---|---|---|---|---|---|---|\n",
       "| 1 | 1402101782 | 10663503 | 0 | 0 | 41.01027 | 47.8923 | NaN |   0 | NaN | NaN | ⋯ | 0 | 0 | 0 | 0 | 0 | 0 | 0 | 0 | 0 | 0 |\n",
       "| 2 | 1401405787 |  1867679 | 0 | 0 | 63.00068 | 21.7100 | NaN | NaN | NaN | NaN | ⋯ | 0 | 0 | 0 | 0 | 0 | 0 | 0 | 0 | 0 | 0 |\n",
       "| 3 | 1305800706 |  2939561 | 0 | 1 | 59.99452 | 28.7801 | NaN |   0 | NaN | NaN | ⋯ | 0 | 0 | 0 | 0 | 0 | 0 | 0 | 0 | 0 | 0 |\n",
       "| 4 | 1431803035 |  9898318 | 0 | 0 | 44.78576 | 21.2299 | NaN |   0 | NaN | NaN | ⋯ | 0 | 0 | 0 | 0 | 0 | 0 | 0 | 0 | 0 | 0 |\n",
       "| 5 | 1315600833 |  2919944 | 0 | 1 | 63.00068 | 26.7382 | NaN |   0 | NaN | NaN | ⋯ | 0 | 0 | 0 | 0 | 0 | 0 | 0 | 0 | 0 | 0 |\n",
       "| 6 | 1321207870 |  7448718 | 0 | 0 | 48.00000 | 29.7900 | NaN |   0 | NaN | NaN | ⋯ | 0 | 0 | 0 | 0 | 0 | 0 | 0 | 0 | 0 | 0 |\n",
       "\n"
      ],
      "text/plain": [
       "  sample_ID  mayo_ID  acpa sex age      bmi     rf  smoking rf_tit acpa_tit ⋯\n",
       "1 1402101782 10663503 0    0   41.01027 47.8923 NaN   0     NaN    NaN      ⋯\n",
       "2 1401405787  1867679 0    0   63.00068 21.7100 NaN NaN     NaN    NaN      ⋯\n",
       "3 1305800706  2939561 0    1   59.99452 28.7801 NaN   0     NaN    NaN      ⋯\n",
       "4 1431803035  9898318 0    0   44.78576 21.2299 NaN   0     NaN    NaN      ⋯\n",
       "5 1315600833  2919944 0    1   63.00068 26.7382 NaN   0     NaN    NaN      ⋯\n",
       "6 1321207870  7448718 0    0   48.00000 29.7900 NaN   0     NaN    NaN      ⋯\n",
       "  adalimumab golimumab certolizumab tocilizumab anakinra abatacept rituximab\n",
       "1 0          0         0            0           0        0         0        \n",
       "2 0          0         0            0           0        0         0        \n",
       "3 0          0         0            0           0        0         0        \n",
       "4 0          0         0            0           0        0         0        \n",
       "5 0          0         0            0           0        0         0        \n",
       "6 0          0         0            0           0        0         0        \n",
       "  pred csDMARDs bDMARDs\n",
       "1 0    0        0      \n",
       "2 0    0        0      \n",
       "3 0    0        0      \n",
       "4 0    0        0      \n",
       "5 0    0        0      \n",
       "6 0    0        0      "
      ]
     },
     "metadata": {},
     "output_type": "display_data"
    }
   ],
   "source": [
    "head(data_df)"
   ]
  },
  {
   "cell_type": "code",
   "execution_count": 37,
   "id": "b3b29382-c6a1-4584-b565-cd4ae237bcc5",
   "metadata": {},
   "outputs": [
    {
     "data": {
      "text/plain": [
       "\n",
       "\tKruskal-Wallis rank sum test\n",
       "\n",
       "data:  list(disease_duration_df$ACPA.neg, disease_duration_df$ACPA.pos)\n",
       "Kruskal-Wallis chi-squared = 0.18781, df = 1, p-value = 0.6647\n"
      ]
     },
     "metadata": {},
     "output_type": "display_data"
    }
   ],
   "source": [
    "#Analysis after recieving feedback: 2024.02.20\n",
    "\n",
    "disease_duration_df = read.csv(\"../../../analysis_addressing_feedback/disease_duration/data/disease_duration_years.csv\")\n",
    "kruskal.test(list(disease_duration_df$ACPA.neg, disease_duration_df$ACPA.pos))"
   ]
  },
  {
   "cell_type": "code",
   "execution_count": 35,
   "id": "3edd288f-ac6d-45eb-85d9-08e6b9fcee73",
   "metadata": {},
   "outputs": [
    {
     "data": {
      "text/plain": [
       "\n",
       "\tKruskal-Wallis rank sum test\n",
       "\n",
       "data:  value by acpa_status\n",
       "Kruskal-Wallis chi-squared = 0.18781, df = 1, p-value = 0.6647\n"
      ]
     },
     "metadata": {},
     "output_type": "display_data"
    }
   ],
   "source": [
    "#Double checking the concept\n",
    "disease_duration_test_df = read.csv(\"../../../analysis_addressing_feedback/disease_duration/data/disease_duration_years_test.csv\")\n",
    "kruskal.test(value ~ acpa_status, data = disease_duration_test_df)\n"
   ]
  },
  {
   "cell_type": "code",
   "execution_count": null,
   "id": "f08be4fc-11c8-47c4-9861-8661ab1e5b8c",
   "metadata": {},
   "outputs": [],
   "source": []
  }
 ],
 "metadata": {
  "kernelspec": {
   "display_name": "R",
   "language": "R",
   "name": "ir"
  },
  "language_info": {
   "codemirror_mode": "r",
   "file_extension": ".r",
   "mimetype": "text/x-r-source",
   "name": "R",
   "pygments_lexer": "r",
   "version": "4.3.2"
  }
 },
 "nbformat": 4,
 "nbformat_minor": 5
}
