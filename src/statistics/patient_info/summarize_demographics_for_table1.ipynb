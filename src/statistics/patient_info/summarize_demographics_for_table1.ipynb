{
 "cells": [
  {
   "cell_type": "code",
   "execution_count": 1,
   "id": "documentary-tissue",
   "metadata": {},
   "outputs": [],
   "source": [
    "import pandas as pd\n",
    "import numpy as np\n"
   ]
  },
  {
   "cell_type": "code",
   "execution_count": 61,
   "id": "agreed-attitude",
   "metadata": {},
   "outputs": [],
   "source": [
    "def summarize_demographics(subset_df):\n",
    "    \n",
    "    report_counts(subset_df,\"sex\")\n",
    "    report_counts(subset_df,\"rf\")\n",
    "    report_counts(subset_df,\"smoking\")\n",
    "    \n",
    "    report_statistics(subset_df, \"age\")\n",
    "    report_statistics(subset_df, \"bmi\")\n",
    "    report_statistics(subset_df, \"crp\")\n",
    "    report_statistics(subset_df, \"esr\")\n",
    "    report_statistics(subset_df, \"das28crp\")\n",
    "    \n",
    "    count_drug_usage(subset_df,\"mtx\")\n",
    "    count_drug_usage(subset_df,\"pred\")\n",
    "    \n",
    "    tnfi_dmard_list = [\"adalimumab\", \"certolizumab\", \"etanercept\", \"infliximab\"]\n",
    "    count_drug_list_usage(subset_df, tnfi_dmard_list, \"TNFi-bDMARD\")\n",
    "    \n",
    "    non_tnfi_dmard_list = [\"abatacept\", \"rituximab\", \"tocilizumab\"]\n",
    "    count_drug_list_usage(subset_df, non_tnfi_dmard_list, \"non-TNFi-bDMARD\")\n",
    "    \n",
    "    non_mtx_csdmard_list = [\"aza\", \"hcq\", \"lef\", \"ssz\"]\n",
    "    count_drug_list_usage(subset_df, non_mtx_csdmard_list, \"non-MTX-csDMARD\")\n",
    "    \n",
    "    \n",
    "def report_statistics(data_df, column_of_interest):\n",
    "    #report MEAN, SD, IQR, N/A\n",
    "    \n",
    "    q75, q25 = np.nanpercentile(data_df[column_of_interest], [75 ,25])\n",
    "    \n",
    "    print (\"<< %s >> \" % column_of_interest)\n",
    "    print (\"  Mean: %s ± %s [%s–%s]\" % (round(data_df[column_of_interest].mean(), 2), round(data_df[column_of_interest].std(),2), round(q25,2), round(q75,2)))\n",
    "    print (\"  Min–Max: %s–%s\" % (round(data_df[column_of_interest].min(),2), round(data_df[column_of_interest].max(),2)))\n",
    "    print (\"  N/A:\", data_df[column_of_interest].isna().sum())\n",
    "    \n",
    "def report_counts(data_df, column_of_interest):\n",
    "    \n",
    "    print (\"<< %s >> \" % column_of_interest)\n",
    "    value_count = data_df[column_of_interest].value_counts(dropna=False)\n",
    "    print (value_count)\n",
    "    \n",
    "def count_drug_usage(data_df, column_of_interest):\n",
    "    print (\"<< %s >> \" % column_of_interest)\n",
    "    value_count = data_df[column_of_interest].value_counts(dropna=False)\n",
    "    print (value_count)\n",
    "    print (\"%s given: %s (%s)\" % (column_of_interest, value_count[1], (value_count[1]/40)))\n",
    "    \n",
    "def count_drug_list_usage(data_df, drug_list, column_of_interest):\n",
    "    print (\"<< %s >> \" % column_of_interest)\n",
    "    \n",
    "    drug_info_df = data_df[drug_list]\n",
    "    r, c = drug_info_df.shape\n",
    "\n",
    "    count = 0\n",
    "    for i in range(r):\n",
    "        drug_usage_flag = 0\n",
    "        for j in range(c):\n",
    "            drug_use = drug_info_df.iloc[i, j]\n",
    "            if drug_use == 1:\n",
    "                drug_usage_flag = 1\n",
    "\n",
    "        if drug_usage_flag == 1:\n",
    "            count += 1\n",
    "    print (\"drug usage: %s (%s)\" % (count, count/40))\n",
    "\n"
   ]
  },
  {
   "cell_type": "code",
   "execution_count": 36,
   "id": "aggregate-surface",
   "metadata": {},
   "outputs": [],
   "source": [
    "data_file = \"../../../preprocessed_data/meta/patient_info_for_statistics.tsv\"\n",
    "data_df = pd.read_csv(data_file, sep =\"\\t\")"
   ]
  },
  {
   "cell_type": "code",
   "execution_count": 37,
   "id": "anticipated-banner",
   "metadata": {},
   "outputs": [],
   "source": [
    "control_df = data_df.loc[data_df['acpa'] == 0]\n",
    "acpa_pos = data_df.loc[data_df['acpa'] == 1]\n",
    "acpa_neg = data_df.loc[data_df['acpa'] == 2]"
   ]
  },
  {
   "cell_type": "code",
   "execution_count": 42,
   "id": "particular-peripheral",
   "metadata": {},
   "outputs": [],
   "source": [
    "summarize_demographics(control_df)"
   ]
  },
  {
   "cell_type": "code",
   "execution_count": 59,
   "id": "beneficial-korean",
   "metadata": {},
   "outputs": [
    {
     "name": "stdout",
     "output_type": "stream",
     "text": [
      "<< TNFi-bDMARD >> \n",
      "drug usage: 3 (0.075)\n",
      "<< non-TNFi-bDMARD >> \n",
      "drug usage: 4 (0.1)\n",
      "<< non-MTX-csDMARD >> \n",
      "drug usage: 10 (0.25)\n"
     ]
    }
   ],
   "source": [
    "summarize_demographics(acpa_neg)"
   ]
  },
  {
   "cell_type": "code",
   "execution_count": 62,
   "id": "binary-general",
   "metadata": {},
   "outputs": [
    {
     "name": "stdout",
     "output_type": "stream",
     "text": [
      "<< mtx >> \n",
      "1    22\n",
      "0    18\n",
      "Name: mtx, dtype: int64\n",
      "mtx given: 22 (0.55)\n",
      "<< pred >> \n",
      "0    32\n",
      "1     8\n",
      "Name: pred, dtype: int64\n",
      "pred given: 8 (0.2)\n",
      "<< TNFi-bDMARD >> \n",
      "drug usage: 8 (0.2)\n",
      "<< non-TNFi-bDMARD >> \n",
      "drug usage: 2 (0.05)\n",
      "<< non-MTX-csDMARD >> \n",
      "drug usage: 15 (0.375)\n"
     ]
    }
   ],
   "source": [
    "summarize_demographics(acpa_pos)"
   ]
  },
  {
   "cell_type": "code",
   "execution_count": null,
   "id": "registered-precipitation",
   "metadata": {},
   "outputs": [],
   "source": []
  }
 ],
 "metadata": {
  "kernelspec": {
   "display_name": "Python 3 (ipykernel)",
   "language": "python",
   "name": "python3"
  },
  "language_info": {
   "codemirror_mode": {
    "name": "ipython",
    "version": 3
   },
   "file_extension": ".py",
   "mimetype": "text/x-python",
   "name": "python",
   "nbconvert_exporter": "python",
   "pygments_lexer": "ipython3",
   "version": "3.11.4"
  }
 },
 "nbformat": 4,
 "nbformat_minor": 5
}
