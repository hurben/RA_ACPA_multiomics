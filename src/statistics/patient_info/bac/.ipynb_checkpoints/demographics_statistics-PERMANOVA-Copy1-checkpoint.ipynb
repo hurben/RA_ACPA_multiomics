{
 "cells": [
  {
   "cell_type": "code",
   "execution_count": 1,
   "id": "several-representative",
   "metadata": {},
   "outputs": [
    {
     "name": "stderr",
     "output_type": "stream",
     "text": [
      "Loading required package: permute\n",
      "\n",
      "Loading required package: lattice\n",
      "\n",
      "This is vegan 2.6-4\n",
      "\n",
      "\n",
      "Attaching package: ‘dplyr’\n",
      "\n",
      "\n",
      "The following objects are masked from ‘package:stats’:\n",
      "\n",
      "    filter, lag\n",
      "\n",
      "\n",
      "The following objects are masked from ‘package:base’:\n",
      "\n",
      "    intersect, setdiff, setequal, union\n",
      "\n",
      "\n"
     ]
    }
   ],
   "source": [
    "#basic_demographics\n",
    "#\n",
    "#identify clinical characteristics is associated to the population acpa status.\n",
    "\n",
    "library(\"vegan\")\n",
    "library(\"dplyr\")"
   ]
  },
  {
   "cell_type": "code",
   "execution_count": 18,
   "id": "individual-netherlands",
   "metadata": {},
   "outputs": [],
   "source": [
    "#load data, make class (i.e., control, acpa+, acpa-) specific data frame for convenience\n",
    "# data_file = '/Users/m221138/RA_acpa_multiomics/preprocessed_data/3_omics/three_omics_multiplex_with_all_covariates.tsv'\n",
    "data_file = '/Users/m221138/RA_acpa_multiomics/preprocessed_data/3_omics/three_omics_multiplex_with_all_covariates_v3.tsv'\n",
    "\n",
    "#all class\n",
    "data_df <- read.csv(data_file, sep=\"\\t\")\n",
    "\n"
   ]
  },
  {
   "cell_type": "code",
   "execution_count": 20,
   "id": "54df2032-3ac2-4aa2-805a-e0cd9aa9f62d",
   "metadata": {},
   "outputs": [
    {
     "data": {
      "text/html": [
       "<table class=\"dataframe\">\n",
       "<caption>A data.frame: 116 × 2</caption>\n",
       "<thead>\n",
       "\t<tr><th scope=col>csDMARDS</th><th scope=col>bDMARDs</th></tr>\n",
       "\t<tr><th scope=col>&lt;int&gt;</th><th scope=col>&lt;int&gt;</th></tr>\n",
       "</thead>\n",
       "<tbody>\n",
       "\t<tr><td>1</td><td>1</td></tr>\n",
       "\t<tr><td>1</td><td>0</td></tr>\n",
       "\t<tr><td>1</td><td>0</td></tr>\n",
       "\t<tr><td>1</td><td>0</td></tr>\n",
       "\t<tr><td>1</td><td>0</td></tr>\n",
       "\t<tr><td>1</td><td>0</td></tr>\n",
       "\t<tr><td>1</td><td>0</td></tr>\n",
       "\t<tr><td>1</td><td>1</td></tr>\n",
       "\t<tr><td>1</td><td>0</td></tr>\n",
       "\t<tr><td>0</td><td>1</td></tr>\n",
       "\t<tr><td>1</td><td>0</td></tr>\n",
       "\t<tr><td>1</td><td>0</td></tr>\n",
       "\t<tr><td>1</td><td>0</td></tr>\n",
       "\t<tr><td>1</td><td>0</td></tr>\n",
       "\t<tr><td>1</td><td>0</td></tr>\n",
       "\t<tr><td>1</td><td>0</td></tr>\n",
       "\t<tr><td>1</td><td>1</td></tr>\n",
       "\t<tr><td>0</td><td>1</td></tr>\n",
       "\t<tr><td>0</td><td>0</td></tr>\n",
       "\t<tr><td>0</td><td>0</td></tr>\n",
       "\t<tr><td>1</td><td>0</td></tr>\n",
       "\t<tr><td>1</td><td>0</td></tr>\n",
       "\t<tr><td>1</td><td>0</td></tr>\n",
       "\t<tr><td>1</td><td>0</td></tr>\n",
       "\t<tr><td>1</td><td>0</td></tr>\n",
       "\t<tr><td>1</td><td>1</td></tr>\n",
       "\t<tr><td>1</td><td>1</td></tr>\n",
       "\t<tr><td>0</td><td>0</td></tr>\n",
       "\t<tr><td>0</td><td>0</td></tr>\n",
       "\t<tr><td>0</td><td>0</td></tr>\n",
       "\t<tr><td>⋮</td><td>⋮</td></tr>\n",
       "\t<tr><td>0</td><td>0</td></tr>\n",
       "\t<tr><td>0</td><td>0</td></tr>\n",
       "\t<tr><td>0</td><td>0</td></tr>\n",
       "\t<tr><td>0</td><td>0</td></tr>\n",
       "\t<tr><td>0</td><td>0</td></tr>\n",
       "\t<tr><td>0</td><td>0</td></tr>\n",
       "\t<tr><td>0</td><td>0</td></tr>\n",
       "\t<tr><td>0</td><td>0</td></tr>\n",
       "\t<tr><td>0</td><td>0</td></tr>\n",
       "\t<tr><td>0</td><td>0</td></tr>\n",
       "\t<tr><td>0</td><td>0</td></tr>\n",
       "\t<tr><td>0</td><td>0</td></tr>\n",
       "\t<tr><td>0</td><td>0</td></tr>\n",
       "\t<tr><td>0</td><td>0</td></tr>\n",
       "\t<tr><td>0</td><td>0</td></tr>\n",
       "\t<tr><td>0</td><td>0</td></tr>\n",
       "\t<tr><td>0</td><td>0</td></tr>\n",
       "\t<tr><td>0</td><td>0</td></tr>\n",
       "\t<tr><td>0</td><td>0</td></tr>\n",
       "\t<tr><td>0</td><td>0</td></tr>\n",
       "\t<tr><td>0</td><td>0</td></tr>\n",
       "\t<tr><td>0</td><td>0</td></tr>\n",
       "\t<tr><td>0</td><td>0</td></tr>\n",
       "\t<tr><td>0</td><td>0</td></tr>\n",
       "\t<tr><td>0</td><td>0</td></tr>\n",
       "\t<tr><td>0</td><td>0</td></tr>\n",
       "\t<tr><td>0</td><td>0</td></tr>\n",
       "\t<tr><td>0</td><td>0</td></tr>\n",
       "\t<tr><td>0</td><td>0</td></tr>\n",
       "\t<tr><td>0</td><td>0</td></tr>\n",
       "</tbody>\n",
       "</table>\n"
      ],
      "text/latex": [
       "A data.frame: 116 × 2\n",
       "\\begin{tabular}{ll}\n",
       " csDMARDS & bDMARDs\\\\\n",
       " <int> & <int>\\\\\n",
       "\\hline\n",
       "\t 1 & 1\\\\\n",
       "\t 1 & 0\\\\\n",
       "\t 1 & 0\\\\\n",
       "\t 1 & 0\\\\\n",
       "\t 1 & 0\\\\\n",
       "\t 1 & 0\\\\\n",
       "\t 1 & 0\\\\\n",
       "\t 1 & 1\\\\\n",
       "\t 1 & 0\\\\\n",
       "\t 0 & 1\\\\\n",
       "\t 1 & 0\\\\\n",
       "\t 1 & 0\\\\\n",
       "\t 1 & 0\\\\\n",
       "\t 1 & 0\\\\\n",
       "\t 1 & 0\\\\\n",
       "\t 1 & 0\\\\\n",
       "\t 1 & 1\\\\\n",
       "\t 0 & 1\\\\\n",
       "\t 0 & 0\\\\\n",
       "\t 0 & 0\\\\\n",
       "\t 1 & 0\\\\\n",
       "\t 1 & 0\\\\\n",
       "\t 1 & 0\\\\\n",
       "\t 1 & 0\\\\\n",
       "\t 1 & 0\\\\\n",
       "\t 1 & 1\\\\\n",
       "\t 1 & 1\\\\\n",
       "\t 0 & 0\\\\\n",
       "\t 0 & 0\\\\\n",
       "\t 0 & 0\\\\\n",
       "\t ⋮ & ⋮\\\\\n",
       "\t 0 & 0\\\\\n",
       "\t 0 & 0\\\\\n",
       "\t 0 & 0\\\\\n",
       "\t 0 & 0\\\\\n",
       "\t 0 & 0\\\\\n",
       "\t 0 & 0\\\\\n",
       "\t 0 & 0\\\\\n",
       "\t 0 & 0\\\\\n",
       "\t 0 & 0\\\\\n",
       "\t 0 & 0\\\\\n",
       "\t 0 & 0\\\\\n",
       "\t 0 & 0\\\\\n",
       "\t 0 & 0\\\\\n",
       "\t 0 & 0\\\\\n",
       "\t 0 & 0\\\\\n",
       "\t 0 & 0\\\\\n",
       "\t 0 & 0\\\\\n",
       "\t 0 & 0\\\\\n",
       "\t 0 & 0\\\\\n",
       "\t 0 & 0\\\\\n",
       "\t 0 & 0\\\\\n",
       "\t 0 & 0\\\\\n",
       "\t 0 & 0\\\\\n",
       "\t 0 & 0\\\\\n",
       "\t 0 & 0\\\\\n",
       "\t 0 & 0\\\\\n",
       "\t 0 & 0\\\\\n",
       "\t 0 & 0\\\\\n",
       "\t 0 & 0\\\\\n",
       "\t 0 & 0\\\\\n",
       "\\end{tabular}\n"
      ],
      "text/markdown": [
       "\n",
       "A data.frame: 116 × 2\n",
       "\n",
       "| csDMARDS &lt;int&gt; | bDMARDs &lt;int&gt; |\n",
       "|---|---|\n",
       "| 1 | 1 |\n",
       "| 1 | 0 |\n",
       "| 1 | 0 |\n",
       "| 1 | 0 |\n",
       "| 1 | 0 |\n",
       "| 1 | 0 |\n",
       "| 1 | 0 |\n",
       "| 1 | 1 |\n",
       "| 1 | 0 |\n",
       "| 0 | 1 |\n",
       "| 1 | 0 |\n",
       "| 1 | 0 |\n",
       "| 1 | 0 |\n",
       "| 1 | 0 |\n",
       "| 1 | 0 |\n",
       "| 1 | 0 |\n",
       "| 1 | 1 |\n",
       "| 0 | 1 |\n",
       "| 0 | 0 |\n",
       "| 0 | 0 |\n",
       "| 1 | 0 |\n",
       "| 1 | 0 |\n",
       "| 1 | 0 |\n",
       "| 1 | 0 |\n",
       "| 1 | 0 |\n",
       "| 1 | 1 |\n",
       "| 1 | 1 |\n",
       "| 0 | 0 |\n",
       "| 0 | 0 |\n",
       "| 0 | 0 |\n",
       "| ⋮ | ⋮ |\n",
       "| 0 | 0 |\n",
       "| 0 | 0 |\n",
       "| 0 | 0 |\n",
       "| 0 | 0 |\n",
       "| 0 | 0 |\n",
       "| 0 | 0 |\n",
       "| 0 | 0 |\n",
       "| 0 | 0 |\n",
       "| 0 | 0 |\n",
       "| 0 | 0 |\n",
       "| 0 | 0 |\n",
       "| 0 | 0 |\n",
       "| 0 | 0 |\n",
       "| 0 | 0 |\n",
       "| 0 | 0 |\n",
       "| 0 | 0 |\n",
       "| 0 | 0 |\n",
       "| 0 | 0 |\n",
       "| 0 | 0 |\n",
       "| 0 | 0 |\n",
       "| 0 | 0 |\n",
       "| 0 | 0 |\n",
       "| 0 | 0 |\n",
       "| 0 | 0 |\n",
       "| 0 | 0 |\n",
       "| 0 | 0 |\n",
       "| 0 | 0 |\n",
       "| 0 | 0 |\n",
       "| 0 | 0 |\n",
       "| 0 | 0 |\n",
       "\n"
      ],
      "text/plain": [
       "    csDMARDS bDMARDs\n",
       "1   1        1      \n",
       "2   1        0      \n",
       "3   1        0      \n",
       "4   1        0      \n",
       "5   1        0      \n",
       "6   1        0      \n",
       "7   1        0      \n",
       "8   1        1      \n",
       "9   1        0      \n",
       "10  0        1      \n",
       "11  1        0      \n",
       "12  1        0      \n",
       "13  1        0      \n",
       "14  1        0      \n",
       "15  1        0      \n",
       "16  1        0      \n",
       "17  1        1      \n",
       "18  0        1      \n",
       "19  0        0      \n",
       "20  0        0      \n",
       "21  1        0      \n",
       "22  1        0      \n",
       "23  1        0      \n",
       "24  1        0      \n",
       "25  1        0      \n",
       "26  1        1      \n",
       "27  1        1      \n",
       "28  0        0      \n",
       "29  0        0      \n",
       "30  0        0      \n",
       "⋮   ⋮        ⋮      \n",
       "87  0        0      \n",
       "88  0        0      \n",
       "89  0        0      \n",
       "90  0        0      \n",
       "91  0        0      \n",
       "92  0        0      \n",
       "93  0        0      \n",
       "94  0        0      \n",
       "95  0        0      \n",
       "96  0        0      \n",
       "97  0        0      \n",
       "98  0        0      \n",
       "99  0        0      \n",
       "100 0        0      \n",
       "101 0        0      \n",
       "102 0        0      \n",
       "103 0        0      \n",
       "104 0        0      \n",
       "105 0        0      \n",
       "106 0        0      \n",
       "107 0        0      \n",
       "108 0        0      \n",
       "109 0        0      \n",
       "110 0        0      \n",
       "111 0        0      \n",
       "112 0        0      \n",
       "113 0        0      \n",
       "114 0        0      \n",
       "115 0        0      \n",
       "116 0        0      "
      ]
     },
     "metadata": {},
     "output_type": "display_data"
    }
   ],
   "source": [
    "data_df[,17:18]"
   ]
  },
  {
   "cell_type": "code",
   "execution_count": 5,
   "id": "492fcf35-7097-4b7c-ace5-dc24de9d6358",
   "metadata": {},
   "outputs": [
    {
     "name": "stdout",
     "output_type": "stream",
     "text": [
      "[1] \"mtx: 0.2\"\n",
      "[1] \"hcq: 0.063\"\n",
      "[1] \"ssz: 0.181\"\n",
      "[1] \"lef: 0.38\"\n",
      "[1] \"aza: NA\"\n",
      "[1] \"tofacitinib: NA\"\n",
      "[1] \"infliximab: NA\"\n",
      "[1] \"etanercept: 0.812\"\n",
      "[1] \"adalimumab: 0.762\"\n",
      "[1] \"golimumab: NA\"\n",
      "[1] \"certolizumab: 0.62\"\n",
      "[1] \"tocilizumab: 0.637\"\n",
      "[1] \"anakinra: NA\"\n",
      "[1] \"abatacept: 0.944\"\n",
      "[1] \"rituximab: 0.089\"\n",
      "[1] \"pred: 0.339\"\n"
     ]
    }
   ],
   "source": [
    "#3class\n",
    "for (i in 17:32)\n",
    "{\n",
    "    # print (colnames(ra_df)[i])\n",
    "    result <- adonis2(data_df[,33:ncol(data_df)] ~ data_df[,i])\n",
    "    output_str <- paste(colnames(data_df)[i], result$Pr[1],sep=\": \")\n",
    "    print (output_str)\n",
    "}\n"
   ]
  },
  {
   "cell_type": "code",
   "execution_count": 7,
   "id": "positive-limitation",
   "metadata": {},
   "outputs": [
    {
     "name": "stdout",
     "output_type": "stream",
     "text": [
      "[1] \"mtx: 0.047\"\n",
      "[1] \"hcq: 0.027\"\n",
      "[1] \"ssz: 0.123\"\n",
      "[1] \"lef: 0.291\"\n",
      "[1] \"aza: NA\"\n",
      "[1] \"tofacitinib: NA\"\n",
      "[1] \"infliximab: NA\"\n",
      "[1] \"etanercept: 0.806\"\n",
      "[1] \"adalimumab: 0.652\"\n",
      "[1] \"golimumab: NA\"\n",
      "[1] \"certolizumab: 0.554\"\n",
      "[1] \"tocilizumab: 0.663\"\n",
      "[1] \"anakinra: NA\"\n",
      "[1] \"abatacept: 0.94\"\n",
      "[1] \"rituximab: 0.06\"\n",
      "[1] \"pred: 0.458\"\n"
     ]
    }
   ],
   "source": [
    "#2class\n",
    "ra_df <- filter(data_df, acpa == 1 | acpa == 2)\n",
    "\n",
    "#protein features: ncol(ra_df[,33:ncol(ra_df)])\n",
    "# adonis2(ra_df[,33:ncol(ra_df)] ~ mtx + hcq + ssz + lef + aza + tofacitinib + infliximab + etanercept + adalimumab + golimumab + certolizumab + tocilizumab + anakinra + abatacept +  rituximab + pred, data=ra_df)\n",
    "\n",
    "for (i in 17:32)\n",
    "{\n",
    "    # print (colnames(ra_df)[i])\n",
    "    result <- adonis2(ra_df[,33:ncol(ra_df)] ~ ra_df[,i])\n",
    "    output_str <- paste(colnames(ra_df)[i], result$Pr[1],sep=\": \")\n",
    "    print (output_str)\n",
    "}"
   ]
  },
  {
   "cell_type": "code",
   "execution_count": 5,
   "id": "28dca456-6ea1-407d-829b-09bfacc77274",
   "metadata": {},
   "outputs": [
    {
     "name": "stdout",
     "output_type": "stream",
     "text": [
      "[1] \"mtx: 0.378\"\n",
      "[1] \"hcq: 0.098\"\n",
      "[1] \"ssz: 0.275\"\n",
      "[1] \"lef: 0.939\"\n",
      "[1] \"aza: NA\"\n",
      "[1] \"tofacitinib: NA\"\n",
      "[1] \"infliximab: NA\"\n",
      "[1] \"etanercept: 0.815\"\n",
      "[1] \"adalimumab: 0.739\"\n",
      "[1] \"golimumab: NA\"\n",
      "[1] \"certolizumab: 0.657\"\n",
      "[1] \"tocilizumab: NA\"\n",
      "[1] \"anakinra: NA\"\n",
      "[1] \"abatacept: 0.656\"\n",
      "[1] \"rituximab: NA\"\n",
      "[1] \"pred: 0.968\"\n"
     ]
    }
   ],
   "source": [
    "#2class\n",
    "subset_df <- filter(data_df, acpa == 0 | acpa ==1)\n",
    "\n",
    "#protein features: ncol(ra_df[,33:ncol(ra_df)])\n",
    "# adonis2(ra_df[,33:ncol(ra_df)] ~ mtx + hcq + ssz + lef + aza + tofacitinib + infliximab + etanercept + adalimumab + golimumab + certolizumab + tocilizumab + anakinra + abatacept +  rituximab + pred, data=ra_df)\n",
    "\n",
    "for (i in 17:32)\n",
    "{\n",
    "    # print (colnames(ra_df)[i])\n",
    "    result <- adonis2(subset_df[,33:ncol(subset_df)] ~ subset_df[,i])\n",
    "    output_str <- paste(colnames(subset_df)[i], result$Pr[1],sep=\": \")\n",
    "    print (output_str)\n",
    "}"
   ]
  },
  {
   "cell_type": "code",
   "execution_count": 6,
   "id": "b94c1508-5300-4059-b8c4-79b192339a82",
   "metadata": {},
   "outputs": [
    {
     "name": "stdout",
     "output_type": "stream",
     "text": [
      "[1] \"mtx: 0.551\"\n",
      "[1] \"hcq: 0.567\"\n",
      "[1] \"ssz: 0.676\"\n",
      "[1] \"lef: 0.294\"\n",
      "[1] \"aza: NA\"\n",
      "[1] \"tofacitinib: NA\"\n",
      "[1] \"infliximab: NA\"\n",
      "[1] \"etanercept: 0.937\"\n",
      "[1] \"adalimumab: NA\"\n",
      "[1] \"golimumab: NA\"\n",
      "[1] \"certolizumab: 0.178\"\n",
      "[1] \"tocilizumab: 0.698\"\n",
      "[1] \"anakinra: NA\"\n",
      "[1] \"abatacept: 0.658\"\n",
      "[1] \"rituximab: 0.111\"\n",
      "[1] \"pred: 0.31\"\n"
     ]
    }
   ],
   "source": [
    "#2class\n",
    "subset_df <- filter(data_df, acpa == 0 | acpa == 2)\n",
    "\n",
    "#protein features: ncol(ra_df[,33:ncol(ra_df)])\n",
    "# adonis2(ra_df[,33:ncol(ra_df)] ~ mtx + hcq + ssz + lef + aza + tofacitinib + infliximab + etanercept + adalimumab + golimumab + certolizumab + tocilizumab + anakinra + abatacept +  rituximab + pred, data=ra_df)\n",
    "\n",
    "for (i in 17:32)\n",
    "{\n",
    "    # print (colnames(ra_df)[i])\n",
    "    result <- adonis2(subset_df[,33:ncol(subset_df)] ~ subset_df[,i])\n",
    "    output_str <- paste(colnames(subset_df)[i], result$Pr[1],sep=\": \")\n",
    "    print (output_str)\n",
    "}"
   ]
  },
  {
   "cell_type": "code",
   "execution_count": 8,
   "id": "3c154c34-870c-43cc-8fa8-4273d4a470b7",
   "metadata": {},
   "outputs": [
    {
     "name": "stdout",
     "output_type": "stream",
     "text": [
      "[1] \"sex: 0.263\"\n",
      "[1] \"age: 0.232\"\n",
      "[1] \"bmi: 0.074\"\n"
     ]
    }
   ],
   "source": [
    "for (i in 4:6)\n",
    "{\n",
    "    result <- adonis2(data_df[,33:ncol(data_df)] ~ data_df[,i])\n",
    "    output_str <- paste(colnames(data_df)[i], result$Pr[1],sep=\": \")\n",
    "    print (output_str)\n",
    "}"
   ]
  },
  {
   "cell_type": "code",
   "execution_count": 9,
   "id": "d9e59e76-f061-4238-9828-44ea6baf8554",
   "metadata": {},
   "outputs": [
    {
     "name": "stdout",
     "output_type": "stream",
     "text": [
      "[1] \"sex: 0.408\"\n",
      "[1] \"age: 0.103\"\n",
      "[1] \"bmi: 0.307\"\n"
     ]
    }
   ],
   "source": [
    "subset_df <- filter(data_df, acpa == 0 | acpa == 2)\n",
    "\n",
    "for (i in 4:6)\n",
    "{\n",
    "    result <- adonis2(subset_df[,33:ncol(subset_df)] ~ subset_df[,i])\n",
    "    output_str <- paste(colnames(subset_df)[i], result$Pr[1],sep=\": \")\n",
    "    print (output_str)\n",
    "}"
   ]
  },
  {
   "cell_type": "code",
   "execution_count": 17,
   "id": "a52acde4-c7b8-41f5-940c-350a44ca5fda",
   "metadata": {},
   "outputs": [
    {
     "name": "stdout",
     "output_type": "stream",
     "text": [
      "[1] \"sex: 0.482\"\n",
      "[1] \"age: 0.374\"\n",
      "[1] \"bmi: 0.026\"\n"
     ]
    }
   ],
   "source": [
    "subset_df <- filter(data_df, acpa == 0 | acpa == 1)\n",
    "\n",
    "for (i in 4:6)\n",
    "{\n",
    "    result <- adonis2(subset_df[,33:ncol(subset_df)] ~ subset_df[,i])\n",
    "    output_str <- paste(colnames(subset_df)[i], result$Pr[1],sep=\": \")\n",
    "    print (output_str)\n",
    "}"
   ]
  },
  {
   "cell_type": "code",
   "execution_count": 9,
   "id": "f552b5fa-5c7a-4225-83d7-8156053e0725",
   "metadata": {},
   "outputs": [
    {
     "data": {
      "text/html": [
       "<table class=\"dataframe\">\n",
       "<caption>A anova.cca: 3 × 5</caption>\n",
       "<thead>\n",
       "\t<tr><th></th><th scope=col>Df</th><th scope=col>SumOfSqs</th><th scope=col>R2</th><th scope=col>F</th><th scope=col>Pr(&gt;F)</th></tr>\n",
       "\t<tr><th></th><th scope=col>&lt;dbl&gt;</th><th scope=col>&lt;dbl&gt;</th><th scope=col>&lt;dbl&gt;</th><th scope=col>&lt;dbl&gt;</th><th scope=col>&lt;dbl&gt;</th></tr>\n",
       "</thead>\n",
       "<tbody>\n",
       "\t<tr><th scope=row>smoking</th><td>  1</td><td>0.02610379</td><td>0.01509154</td><td>1.746798</td><td>0.097</td></tr>\n",
       "\t<tr><th scope=row>Residual</th><td>114</td><td>1.70359291</td><td>0.98490846</td><td>      NA</td><td>   NA</td></tr>\n",
       "\t<tr><th scope=row>Total</th><td>115</td><td>1.72969670</td><td>1.00000000</td><td>      NA</td><td>   NA</td></tr>\n",
       "</tbody>\n",
       "</table>\n"
      ],
      "text/latex": [
       "A anova.cca: 3 × 5\n",
       "\\begin{tabular}{r|lllll}\n",
       "  & Df & SumOfSqs & R2 & F & Pr(>F)\\\\\n",
       "  & <dbl> & <dbl> & <dbl> & <dbl> & <dbl>\\\\\n",
       "\\hline\n",
       "\tsmoking &   1 & 0.02610379 & 0.01509154 & 1.746798 & 0.097\\\\\n",
       "\tResidual & 114 & 1.70359291 & 0.98490846 &       NA &    NA\\\\\n",
       "\tTotal & 115 & 1.72969670 & 1.00000000 &       NA &    NA\\\\\n",
       "\\end{tabular}\n"
      ],
      "text/markdown": [
       "\n",
       "A anova.cca: 3 × 5\n",
       "\n",
       "| <!--/--> | Df &lt;dbl&gt; | SumOfSqs &lt;dbl&gt; | R2 &lt;dbl&gt; | F &lt;dbl&gt; | Pr(&gt;F) &lt;dbl&gt; |\n",
       "|---|---|---|---|---|---|\n",
       "| smoking |   1 | 0.02610379 | 0.01509154 | 1.746798 | 0.097 |\n",
       "| Residual | 114 | 1.70359291 | 0.98490846 |       NA |    NA |\n",
       "| Total | 115 | 1.72969670 | 1.00000000 |       NA |    NA |\n",
       "\n"
      ],
      "text/plain": [
       "         Df  SumOfSqs   R2         F        Pr(>F)\n",
       "smoking    1 0.02610379 0.01509154 1.746798 0.097 \n",
       "Residual 114 1.70359291 0.98490846       NA    NA \n",
       "Total    115 1.72969670 1.00000000       NA    NA "
      ]
     },
     "metadata": {},
     "output_type": "display_data"
    }
   ],
   "source": [
    "#this smoking data removed N/A values\n",
    "data_file = '/Users/m221138/RA_acpa_multiomics/preprocessed_data/3_omics/three_omics_multiplex_with_all_covariates_v2_for_smoke.tsv'\n",
    "\n",
    "#all class\n",
    "data_df <- read.csv(data_file, sep=\"\\t\")\n",
    "\n",
    "adonis2(data_df[,33:ncol(data_df)] ~ smoking, data=data_df)\n"
   ]
  },
  {
   "cell_type": "code",
   "execution_count": 10,
   "id": "58eb45ec-729c-4018-875a-f0036eb0f099",
   "metadata": {},
   "outputs": [],
   "source": [
    "data_file = '/Users/m221138/RA_acpa_multiomics/preprocessed_data/3_omics/three_omics_multiplex_with_all_covariates_v2.tsv'\n",
    "\n",
    "#all class\n",
    "data_df <- read.csv(data_file, sep=\"\\t\")\n"
   ]
  },
  {
   "cell_type": "code",
   "execution_count": 31,
   "id": "5444afd1-53ce-4cb8-bb31-13f594c47930",
   "metadata": {},
   "outputs": [
    {
     "data": {
      "text/html": [
       "<table class=\"dataframe\">\n",
       "<caption>A anova.cca: 3 × 5</caption>\n",
       "<thead>\n",
       "\t<tr><th></th><th scope=col>Df</th><th scope=col>SumOfSqs</th><th scope=col>R2</th><th scope=col>F</th><th scope=col>Pr(&gt;F)</th></tr>\n",
       "\t<tr><th></th><th scope=col>&lt;dbl&gt;</th><th scope=col>&lt;dbl&gt;</th><th scope=col>&lt;dbl&gt;</th><th scope=col>&lt;dbl&gt;</th><th scope=col>&lt;dbl&gt;</th></tr>\n",
       "</thead>\n",
       "<tbody>\n",
       "\t<tr><th scope=row>csDMARDS</th><td>  1</td><td>0.04015045</td><td>0.02266337</td><td>2.736291</td><td>0.032</td></tr>\n",
       "\t<tr><th scope=row>Residual</th><td>118</td><td>1.73145067</td><td>0.97733663</td><td>      NA</td><td>   NA</td></tr>\n",
       "\t<tr><th scope=row>Total</th><td>119</td><td>1.77160113</td><td>1.00000000</td><td>      NA</td><td>   NA</td></tr>\n",
       "</tbody>\n",
       "</table>\n"
      ],
      "text/latex": [
       "A anova.cca: 3 × 5\n",
       "\\begin{tabular}{r|lllll}\n",
       "  & Df & SumOfSqs & R2 & F & Pr(>F)\\\\\n",
       "  & <dbl> & <dbl> & <dbl> & <dbl> & <dbl>\\\\\n",
       "\\hline\n",
       "\tcsDMARDS &   1 & 0.04015045 & 0.02266337 & 2.736291 & 0.032\\\\\n",
       "\tResidual & 118 & 1.73145067 & 0.97733663 &       NA &    NA\\\\\n",
       "\tTotal & 119 & 1.77160113 & 1.00000000 &       NA &    NA\\\\\n",
       "\\end{tabular}\n"
      ],
      "text/markdown": [
       "\n",
       "A anova.cca: 3 × 5\n",
       "\n",
       "| <!--/--> | Df &lt;dbl&gt; | SumOfSqs &lt;dbl&gt; | R2 &lt;dbl&gt; | F &lt;dbl&gt; | Pr(&gt;F) &lt;dbl&gt; |\n",
       "|---|---|---|---|---|---|\n",
       "| csDMARDS |   1 | 0.04015045 | 0.02266337 | 2.736291 | 0.032 |\n",
       "| Residual | 118 | 1.73145067 | 0.97733663 |       NA |    NA |\n",
       "| Total | 119 | 1.77160113 | 1.00000000 |       NA |    NA |\n",
       "\n"
      ],
      "text/plain": [
       "         Df  SumOfSqs   R2         F        Pr(>F)\n",
       "csDMARDS   1 0.04015045 0.02266337 2.736291 0.032 \n",
       "Residual 118 1.73145067 0.97733663       NA    NA \n",
       "Total    119 1.77160113 1.00000000       NA    NA "
      ]
     },
     "metadata": {},
     "output_type": "display_data"
    }
   ],
   "source": [
    "adonis2(data_df[,35:ncol(data_df)] ~ csDMARDS, data= data_df)"
   ]
  },
  {
   "cell_type": "code",
   "execution_count": null,
   "id": "0d3bda3e-3e3f-4f1a-9150-a10f162d8dc8",
   "metadata": {},
   "outputs": [],
   "source": []
  }
 ],
 "metadata": {
  "kernelspec": {
   "display_name": "R",
   "language": "R",
   "name": "ir"
  },
  "language_info": {
   "codemirror_mode": "r",
   "file_extension": ".r",
   "mimetype": "text/x-r-source",
   "name": "R",
   "pygments_lexer": "r",
   "version": "4.0.3"
  }
 },
 "nbformat": 4,
 "nbformat_minor": 5
}
