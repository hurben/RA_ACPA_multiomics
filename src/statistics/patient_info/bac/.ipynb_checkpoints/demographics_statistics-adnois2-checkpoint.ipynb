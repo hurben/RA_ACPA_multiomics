{
 "cells": [
  {
   "cell_type": "code",
   "execution_count": 207,
   "id": "several-representative",
   "metadata": {},
   "outputs": [],
   "source": [
    "#basic_demographics\n",
    "#\n",
    "#identify clinical characteristics is associated to the population acpa status.\n",
    "\n",
    "library(\"vegan\")\n",
    "library(\"dplyr\")\n"
   ]
  },
  {
   "cell_type": "code",
   "execution_count": 219,
   "id": "individual-netherlands",
   "metadata": {},
   "outputs": [],
   "source": [
    "#load data, make class (i.e., control, acpa+, acpa-) specific data frame for convenience\n",
    "data_file = '/Users/m221138/RA_acpa_multiomics/preprocessed_data/3_omics/three_omics_multiplex_with_all_covariates.tsv'\n",
    "# data_file = '/Users/m221138/RA_acpa_multiomics/preprocessed_data/3_omics/three_omics_multiplex_with_all_covariates_v2.tsv'\n",
    "\n",
    "#all class\n",
    "data_df <- read.csv(data_file, sep=\"\\t\")\n",
    "\n"
   ]
  },
  {
   "cell_type": "code",
   "execution_count": null,
   "id": "3c54ffa7-c374-4e4e-8421-7660352d1e50",
   "metadata": {},
   "outputs": [],
   "source": []
  },
  {
   "cell_type": "code",
   "execution_count": 220,
   "id": "492fcf35-7097-4b7c-ace5-dc24de9d6358",
   "metadata": {},
   "outputs": [
    {
     "name": "stdout",
     "output_type": "stream",
     "text": [
      "[1] \"mtx: 0.201\"\n",
      "[1] \"hcq: 0.069\"\n",
      "[1] \"ssz: 0.188\"\n",
      "[1] \"lef: 0.375\"\n",
      "[1] \"aza: NA\"\n",
      "[1] \"tofacitinib: NA\"\n",
      "[1] \"infliximab: NA\"\n",
      "[1] \"etanercept: 0.809\"\n",
      "[1] \"adalimumab: 0.767\"\n",
      "[1] \"golimumab: NA\"\n",
      "[1] \"certolizumab: 0.611\"\n",
      "[1] \"tocilizumab: 0.657\"\n",
      "[1] \"anakinra: NA\"\n",
      "[1] \"abatacept: 0.954\"\n",
      "[1] \"rituximab: 0.088\"\n",
      "[1] \"pred: 0.354\"\n"
     ]
    }
   ],
   "source": [
    "#3class\n",
    "for (i in 17:32)\n",
    "{\n",
    "    # print (colnames(ra_df)[i])\n",
    "    result <- adonis2(data_df[,33:ncol(data_df)] ~ data_df[,i])\n",
    "    output_str <- paste(colnames(data_df)[i], result$Pr[1],sep=\": \")\n",
    "    print (output_str)\n",
    "}\n"
   ]
  },
  {
   "cell_type": "code",
   "execution_count": 222,
   "id": "positive-limitation",
   "metadata": {},
   "outputs": [
    {
     "name": "stdout",
     "output_type": "stream",
     "text": [
      "[1] \"mtx: 0.049\"\n",
      "[1] \"hcq: 0.019\"\n",
      "[1] \"ssz: 0.102\"\n",
      "[1] \"lef: 0.28\"\n",
      "[1] \"aza: NA\"\n",
      "[1] \"tofacitinib: NA\"\n",
      "[1] \"infliximab: NA\"\n",
      "[1] \"etanercept: 0.832\"\n",
      "[1] \"adalimumab: 0.655\"\n",
      "[1] \"golimumab: NA\"\n",
      "[1] \"certolizumab: 0.532\"\n",
      "[1] \"tocilizumab: 0.682\"\n",
      "[1] \"anakinra: NA\"\n",
      "[1] \"abatacept: 0.932\"\n",
      "[1] \"rituximab: 0.051\"\n",
      "[1] \"pred: 0.485\"\n"
     ]
    }
   ],
   "source": [
    "#2class\n",
    "ra_df <- filter(data_df, acpa == 1 | acpa == 2)\n",
    "\n",
    "#protein features: ncol(ra_df[,33:ncol(ra_df)])\n",
    "# adonis2(ra_df[,33:ncol(ra_df)] ~ mtx + hcq + ssz + lef + aza + tofacitinib + infliximab + etanercept + adalimumab + golimumab + certolizumab + tocilizumab + anakinra + abatacept +  rituximab + pred, data=ra_df)\n",
    "\n",
    "for (i in 17:32)\n",
    "{\n",
    "    # print (colnames(ra_df)[i])\n",
    "    result <- adonis2(ra_df[,33:ncol(ra_df)] ~ ra_df[,i])\n",
    "    output_str <- paste(colnames(ra_df)[i], result$Pr[1],sep=\": \")\n",
    "    print (output_str)\n",
    "}"
   ]
  },
  {
   "cell_type": "code",
   "execution_count": 168,
   "id": "3c154c34-870c-43cc-8fa8-4273d4a470b7",
   "metadata": {},
   "outputs": [
    {
     "name": "stdout",
     "output_type": "stream",
     "text": [
      "[1] \"sex: 0.274\"\n",
      "[1] \"age: 0.233\"\n",
      "[1] \"bmi: 0.075\"\n"
     ]
    }
   ],
   "source": [
    "for (i in 4:6)\n",
    "{\n",
    "    result <- adonis2(data_df[,33:ncol(data_df)] ~ data_df[,i])\n",
    "    output_str <- paste(colnames(data_df)[i], result$Pr[1],sep=\": \")\n",
    "    print (output_str)\n",
    "}"
   ]
  },
  {
   "cell_type": "code",
   "execution_count": 183,
   "id": "f552b5fa-5c7a-4225-83d7-8156053e0725",
   "metadata": {},
   "outputs": [
    {
     "data": {
      "text/html": [
       "<table class=\"dataframe\">\n",
       "<caption>A anova.cca: 3 × 5</caption>\n",
       "<thead>\n",
       "\t<tr><th></th><th scope=col>Df</th><th scope=col>SumOfSqs</th><th scope=col>R2</th><th scope=col>F</th><th scope=col>Pr(&gt;F)</th></tr>\n",
       "\t<tr><th></th><th scope=col>&lt;dbl&gt;</th><th scope=col>&lt;dbl&gt;</th><th scope=col>&lt;dbl&gt;</th><th scope=col>&lt;dbl&gt;</th><th scope=col>&lt;dbl&gt;</th></tr>\n",
       "</thead>\n",
       "<tbody>\n",
       "\t<tr><th scope=row>smoking</th><td>  1</td><td>0.02610379</td><td>0.01509154</td><td>1.746798</td><td>0.111</td></tr>\n",
       "\t<tr><th scope=row>Residual</th><td>114</td><td>1.70359291</td><td>0.98490846</td><td>      NA</td><td>   NA</td></tr>\n",
       "\t<tr><th scope=row>Total</th><td>115</td><td>1.72969670</td><td>1.00000000</td><td>      NA</td><td>   NA</td></tr>\n",
       "</tbody>\n",
       "</table>\n"
      ],
      "text/latex": [
       "A anova.cca: 3 × 5\n",
       "\\begin{tabular}{r|lllll}\n",
       "  & Df & SumOfSqs & R2 & F & Pr(>F)\\\\\n",
       "  & <dbl> & <dbl> & <dbl> & <dbl> & <dbl>\\\\\n",
       "\\hline\n",
       "\tsmoking &   1 & 0.02610379 & 0.01509154 & 1.746798 & 0.111\\\\\n",
       "\tResidual & 114 & 1.70359291 & 0.98490846 &       NA &    NA\\\\\n",
       "\tTotal & 115 & 1.72969670 & 1.00000000 &       NA &    NA\\\\\n",
       "\\end{tabular}\n"
      ],
      "text/markdown": [
       "\n",
       "A anova.cca: 3 × 5\n",
       "\n",
       "| <!--/--> | Df &lt;dbl&gt; | SumOfSqs &lt;dbl&gt; | R2 &lt;dbl&gt; | F &lt;dbl&gt; | Pr(&gt;F) &lt;dbl&gt; |\n",
       "|---|---|---|---|---|---|\n",
       "| smoking |   1 | 0.02610379 | 0.01509154 | 1.746798 | 0.111 |\n",
       "| Residual | 114 | 1.70359291 | 0.98490846 |       NA |    NA |\n",
       "| Total | 115 | 1.72969670 | 1.00000000 |       NA |    NA |\n",
       "\n"
      ],
      "text/plain": [
       "         Df  SumOfSqs   R2         F        Pr(>F)\n",
       "smoking    1 0.02610379 0.01509154 1.746798 0.111 \n",
       "Residual 114 1.70359291 0.98490846       NA    NA \n",
       "Total    115 1.72969670 1.00000000       NA    NA "
      ]
     },
     "metadata": {},
     "output_type": "display_data"
    }
   ],
   "source": [
    "#this smoking data removed N/A values\n",
    "data_file = '/Users/m221138/RA_acpa_multiomics/preprocessed_data/3_omics/three_omics_multiplex_with_all_covariates_v2_for_smoke.tsv'\n",
    "\n",
    "#all class\n",
    "data_df <- read.csv(data_file, sep=\"\\t\")\n",
    "\n",
    "adonis2(data_df[,33:ncol(data_df)] ~ smoking, data=data_df)\n"
   ]
  },
  {
   "cell_type": "code",
   "execution_count": 208,
   "id": "d49cd3b2-97a4-450f-a69c-e99153a5fa0d",
   "metadata": {},
   "outputs": [],
   "source": [
    "# data_file = '/Users/m221138/RA_acpa_multiomics/preprocessed_data/3_omics/three_omics_multiplex_with_all_covariates_v2.tsv'\n",
    "\n",
    "# #all class\n",
    "# data_df <- read.csv(data_file, sep=\"\\t\")\n",
    "\n",
    "# # data_df[,17:18]\n",
    "# adonis2(data_df[,33:ncol(data_df)] ~ bDMARDs, data=data_df)\n",
    "\n",
    "# set.seed(1)\n",
    "# adonis2(data_df[,35:ncol(data_df)] ~ hcq, data=data_df)\n",
    "\n",
    "# adonis2(data_df[,33:ncol(data_df)] ~ csDMARDS, data=data_df)\n",
    "\n",
    "# adonis2(data_df[,33:ncol(data_df)] ~ pred, data=data_df)"
   ]
  },
  {
   "cell_type": "code",
   "execution_count": null,
   "id": "58eb45ec-729c-4018-875a-f0036eb0f099",
   "metadata": {},
   "outputs": [],
   "source": []
  }
 ],
 "metadata": {
  "kernelspec": {
   "display_name": "R",
   "language": "R",
   "name": "ir"
  },
  "language_info": {
   "codemirror_mode": "r",
   "file_extension": ".r",
   "mimetype": "text/x-r-source",
   "name": "R",
   "pygments_lexer": "r",
   "version": "4.0.3"
  }
 },
 "nbformat": 4,
 "nbformat_minor": 5
}
