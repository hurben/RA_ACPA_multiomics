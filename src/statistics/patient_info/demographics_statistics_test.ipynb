{
 "cells": [
  {
   "cell_type": "code",
   "execution_count": 1,
   "id": "several-representative",
   "metadata": {},
   "outputs": [
    {
     "name": "stderr",
     "output_type": "stream",
     "text": [
      "Registered S3 method overwritten by 'quantmod':\n",
      "  method            from\n",
      "  as.zoo.data.frame zoo \n",
      "\n",
      "\n",
      "Attaching package: ‘dplyr’\n",
      "\n",
      "\n",
      "The following objects are masked from ‘package:stats’:\n",
      "\n",
      "    filter, lag\n",
      "\n",
      "\n",
      "The following objects are masked from ‘package:base’:\n",
      "\n",
      "    intersect, setdiff, setequal, union\n",
      "\n",
      "\n"
     ]
    }
   ],
   "source": [
    "#basic_demographics\n",
    "#\n",
    "#identify clinical characteristics is associated to the population acpa status.\n",
    "\n",
    "library(stringr)\n",
    "library(imputeTS)\n",
    "library(dplyr)"
   ]
  },
  {
   "cell_type": "code",
   "execution_count": 2,
   "id": "individual-netherlands",
   "metadata": {},
   "outputs": [],
   "source": [
    "#load data, make class (i.e., control, acpa+, acpa-) specific data frame for convenience\n",
    "patient_info_file = '../../../preprocessed_data/meta/patient_info_for_statistics.tsv'\n",
    "\n",
    "#all class\n",
    "patient_df <- read.csv(patient_info_file, sep=\"\\t\")\n",
    "\n",
    "#each class\n",
    "control_df <- filter(patient_df, acpa == 0)\n",
    "acpa_pos_df <- filter(patient_df, acpa == 1)\n",
    "acpa_neg_df <- filter(patient_df, acpa == 2)"
   ]
  },
  {
   "cell_type": "code",
   "execution_count": 3,
   "id": "unavailable-aging",
   "metadata": {},
   "outputs": [
    {
     "data": {
      "text/plain": [
       "\n",
       "Call:\n",
       "glm(formula = acpa ~ smoking, data = patient_df)\n",
       "\n",
       "Deviance Residuals: \n",
       "     Min        1Q    Median        3Q       Max  \n",
       "-1.05505  -1.05505  -0.05505   0.94495   1.28571  \n",
       "\n",
       "Coefficients:\n",
       "            Estimate Std. Error t value Pr(>|t|)    \n",
       "(Intercept)  1.05505    0.07774  13.571   <2e-16 ***\n",
       "smoking     -0.34076    0.31647  -1.077    0.284    \n",
       "---\n",
       "Signif. codes:  0 ‘***’ 0.001 ‘**’ 0.01 ‘*’ 0.05 ‘.’ 0.1 ‘ ’ 1\n",
       "\n",
       "(Dispersion parameter for gaussian family taken to be 0.658757)\n",
       "\n",
       "    Null deviance: 75.862  on 115  degrees of freedom\n",
       "Residual deviance: 75.098  on 114  degrees of freedom\n",
       "  (4 observations deleted due to missingness)\n",
       "AIC: 284.76\n",
       "\n",
       "Number of Fisher Scoring iterations: 2\n"
      ]
     },
     "metadata": {},
     "output_type": "display_data"
    },
    {
     "data": {
      "text/plain": [
       "\n",
       "Call:\n",
       "glm(formula = acpa ~ sex, data = patient_df)\n",
       "\n",
       "Deviance Residuals: \n",
       "   Min      1Q  Median      3Q     Max  \n",
       "    -1      -1       0       1       1  \n",
       "\n",
       "Coefficients:\n",
       "             Estimate Std. Error t value Pr(>|t|)    \n",
       "(Intercept) 1.000e+00  8.931e-02    11.2   <2e-16 ***\n",
       "sex         1.537e-18  1.654e-01     0.0        1    \n",
       "---\n",
       "Signif. codes:  0 ‘***’ 0.001 ‘**’ 0.01 ‘*’ 0.05 ‘.’ 0.1 ‘ ’ 1\n",
       "\n",
       "(Dispersion parameter for gaussian family taken to be 0.6779661)\n",
       "\n",
       "    Null deviance: 80  on 119  degrees of freedom\n",
       "Residual deviance: 80  on 118  degrees of freedom\n",
       "AIC: 297.89\n",
       "\n",
       "Number of Fisher Scoring iterations: 2\n"
      ]
     },
     "metadata": {},
     "output_type": "display_data"
    },
    {
     "data": {
      "text/plain": [
       "\n",
       "Call:\n",
       "glm(formula = acpa ~ age, data = patient_df)\n",
       "\n",
       "Deviance Residuals: \n",
       "     Min        1Q    Median        3Q       Max  \n",
       "-1.00017  -0.99997  -0.00001   0.99993   1.00026  \n",
       "\n",
       "Coefficients:\n",
       "             Estimate Std. Error t value Pr(>|t|)  \n",
       "(Intercept) 9.994e-01  4.281e-01   2.334   0.0213 *\n",
       "age         9.728e-06  7.231e-03   0.001   0.9989  \n",
       "---\n",
       "Signif. codes:  0 ‘***’ 0.001 ‘**’ 0.01 ‘*’ 0.05 ‘.’ 0.1 ‘ ’ 1\n",
       "\n",
       "(Dispersion parameter for gaussian family taken to be 0.6779661)\n",
       "\n",
       "    Null deviance: 80  on 119  degrees of freedom\n",
       "Residual deviance: 80  on 118  degrees of freedom\n",
       "AIC: 297.89\n",
       "\n",
       "Number of Fisher Scoring iterations: 2\n"
      ]
     },
     "metadata": {},
     "output_type": "display_data"
    },
    {
     "data": {
      "text/plain": [
       "\n",
       "Call:\n",
       "glm(formula = acpa ~ bmi, data = patient_df)\n",
       "\n",
       "Deviance Residuals: \n",
       "     Min        1Q    Median        3Q       Max  \n",
       "-1.06974  -0.98166   0.00798   0.98543   1.03203  \n",
       "\n",
       "Coefficients:\n",
       "            Estimate Std. Error t value Pr(>|t|)   \n",
       "(Intercept) 0.906579   0.306930   2.954  0.00379 **\n",
       "bmi         0.003165   0.010081   0.314  0.75413   \n",
       "---\n",
       "Signif. codes:  0 ‘***’ 0.001 ‘**’ 0.01 ‘*’ 0.05 ‘.’ 0.1 ‘ ’ 1\n",
       "\n",
       "(Dispersion parameter for gaussian family taken to be 0.6774004)\n",
       "\n",
       "    Null deviance: 80.000  on 119  degrees of freedom\n",
       "Residual deviance: 79.933  on 118  degrees of freedom\n",
       "AIC: 297.79\n",
       "\n",
       "Number of Fisher Scoring iterations: 2\n"
      ]
     },
     "metadata": {},
     "output_type": "display_data"
    }
   ],
   "source": [
    "#Everything not_significant\n",
    "fit <- glm(acpa ~ smoking , data = patient_df)\n",
    "summary(fit)\n",
    "\n",
    "fit <- glm(acpa ~ sex , data = patient_df)\n",
    "summary(fit)\n",
    "\n",
    "fit <- glm(acpa ~ age , data = patient_df)\n",
    "summary(fit)\n",
    "\n",
    "fit <- glm(acpa ~ bmi , data = patient_df)\n",
    "summary(fit)"
   ]
  },
  {
   "cell_type": "code",
   "execution_count": 19,
   "id": "8c8b52bc-1446-4c88-90ba-2081080f87fb",
   "metadata": {},
   "outputs": [],
   "source": [
    "ra_df <- filter(patient_df, acpa == 1 | acpa == 2)\n",
    "\n",
    "ra_df$acpa[ra_df$acpa == 1] = 0\n",
    "ra_df$acpa[ra_df$acpa == 2] = 1"
   ]
  },
  {
   "cell_type": "code",
   "execution_count": 22,
   "id": "accessible-universal",
   "metadata": {
    "scrolled": true
   },
   "outputs": [
    {
     "name": "stdout",
     "output_type": "stream",
     "text": [
      "[1] \"mtx\"\n"
     ]
    },
    {
     "data": {
      "text/plain": [
       "\n",
       "Call:\n",
       "glm(formula = acpa ~ mtx, family = \"binomial\", data = ra_df)\n",
       "\n",
       "Deviance Residuals: \n",
       "     Min        1Q    Median        3Q       Max  \n",
       "-1.24354  -1.11582  -0.00157   1.11269   1.24027  \n",
       "\n",
       "Coefficients:\n",
       "            Estimate Std. Error z value Pr(>|z|)\n",
       "(Intercept)   0.1542     0.3212    0.48    0.631\n",
       "mtx          -0.3008     0.4486   -0.67    0.503\n",
       "\n",
       "(Dispersion parameter for binomial family taken to be 1)\n",
       "\n",
       "    Null deviance: 110.90  on 79  degrees of freedom\n",
       "Residual deviance: 110.45  on 78  degrees of freedom\n",
       "AIC: 114.45\n",
       "\n",
       "Number of Fisher Scoring iterations: 3\n"
      ]
     },
     "metadata": {},
     "output_type": "display_data"
    },
    {
     "name": "stdout",
     "output_type": "stream",
     "text": [
      "[1] \"hcq\"\n"
     ]
    },
    {
     "data": {
      "text/plain": [
       "\n",
       "Call:\n",
       "glm(formula = acpa ~ hcq, family = \"binomial\", data = ra_df)\n",
       "\n",
       "Deviance Residuals: \n",
       "    Min       1Q   Median       3Q      Max  \n",
       "-1.2479  -1.2479   0.0749   1.1085   1.4132  \n",
       "\n",
       "Coefficients:\n",
       "            Estimate Std. Error z value Pr(>|z|)\n",
       "(Intercept)   0.1643     0.2569   0.639    0.523\n",
       "hcq          -0.7033     0.5406  -1.301    0.193\n",
       "\n",
       "(Dispersion parameter for binomial family taken to be 1)\n",
       "\n",
       "    Null deviance: 110.90  on 79  degrees of freedom\n",
       "Residual deviance: 109.16  on 78  degrees of freedom\n",
       "AIC: 113.16\n",
       "\n",
       "Number of Fisher Scoring iterations: 4\n"
      ]
     },
     "metadata": {},
     "output_type": "display_data"
    },
    {
     "name": "stdout",
     "output_type": "stream",
     "text": [
      "[1] \"ssz\"\n"
     ]
    },
    {
     "data": {
      "text/plain": [
       "\n",
       "Call:\n",
       "glm(formula = acpa ~ ssz, family = \"binomial\", data = ra_df)\n",
       "\n",
       "Deviance Residuals: \n",
       "   Min      1Q  Median      3Q     Max  \n",
       "-1.200  -1.200   0.127   1.155   1.482  \n",
       "\n",
       "Coefficients:\n",
       "            Estimate Std. Error z value Pr(>|z|)\n",
       "(Intercept)  0.05407    0.23258   0.232    0.816\n",
       "ssz         -0.74721    0.89671  -0.833    0.405\n",
       "\n",
       "(Dispersion parameter for binomial family taken to be 1)\n",
       "\n",
       "    Null deviance: 110.90  on 79  degrees of freedom\n",
       "Residual deviance: 110.17  on 78  degrees of freedom\n",
       "AIC: 114.17\n",
       "\n",
       "Number of Fisher Scoring iterations: 4\n"
      ]
     },
     "metadata": {},
     "output_type": "display_data"
    },
    {
     "name": "stdout",
     "output_type": "stream",
     "text": [
      "[1] \"lef\"\n"
     ]
    },
    {
     "data": {
      "text/plain": [
       "\n",
       "Call:\n",
       "glm(formula = acpa ~ lef, family = \"binomial\", data = ra_df)\n",
       "\n",
       "Deviance Residuals: \n",
       "   Min      1Q  Median      3Q     Max  \n",
       "-1.177  -1.177   0.000   1.177   1.177  \n",
       "\n",
       "Coefficients:\n",
       "              Estimate Std. Error z value Pr(>|z|)\n",
       "(Intercept) -1.054e-16  2.265e-01       0        1\n",
       "lef          5.921e-17  1.432e+00       0        1\n",
       "\n",
       "(Dispersion parameter for binomial family taken to be 1)\n",
       "\n",
       "    Null deviance: 110.9  on 79  degrees of freedom\n",
       "Residual deviance: 110.9  on 78  degrees of freedom\n",
       "AIC: 114.9\n",
       "\n",
       "Number of Fisher Scoring iterations: 2\n"
      ]
     },
     "metadata": {},
     "output_type": "display_data"
    },
    {
     "name": "stdout",
     "output_type": "stream",
     "text": [
      "[1] \"aza\"\n"
     ]
    },
    {
     "data": {
      "text/plain": [
       "\n",
       "Call:\n",
       "glm(formula = acpa ~ aza, family = \"binomial\", data = ra_df)\n",
       "\n",
       "Deviance Residuals: \n",
       "   Min      1Q  Median      3Q     Max  \n",
       "-1.177  -1.177   0.000   1.177   1.177  \n",
       "\n",
       "Coefficients: (1 not defined because of singularities)\n",
       "              Estimate Std. Error z value Pr(>|z|)\n",
       "(Intercept) -1.039e-16  2.236e-01       0        1\n",
       "aza                 NA         NA      NA       NA\n",
       "\n",
       "(Dispersion parameter for binomial family taken to be 1)\n",
       "\n",
       "    Null deviance: 110.9  on 79  degrees of freedom\n",
       "Residual deviance: 110.9  on 79  degrees of freedom\n",
       "AIC: 112.9\n",
       "\n",
       "Number of Fisher Scoring iterations: 2\n"
      ]
     },
     "metadata": {},
     "output_type": "display_data"
    },
    {
     "name": "stdout",
     "output_type": "stream",
     "text": [
      "[1] \"tofacitinib\"\n"
     ]
    },
    {
     "data": {
      "text/plain": [
       "\n",
       "Call:\n",
       "glm(formula = acpa ~ tofacitinib, family = \"binomial\", data = ra_df)\n",
       "\n",
       "Deviance Residuals: \n",
       "   Min      1Q  Median      3Q     Max  \n",
       "-1.177  -1.177   0.000   1.177   1.177  \n",
       "\n",
       "Coefficients: (1 not defined because of singularities)\n",
       "              Estimate Std. Error z value Pr(>|z|)\n",
       "(Intercept) -1.039e-16  2.236e-01       0        1\n",
       "tofacitinib         NA         NA      NA       NA\n",
       "\n",
       "(Dispersion parameter for binomial family taken to be 1)\n",
       "\n",
       "    Null deviance: 110.9  on 79  degrees of freedom\n",
       "Residual deviance: 110.9  on 79  degrees of freedom\n",
       "AIC: 112.9\n",
       "\n",
       "Number of Fisher Scoring iterations: 2\n"
      ]
     },
     "metadata": {},
     "output_type": "display_data"
    },
    {
     "name": "stdout",
     "output_type": "stream",
     "text": [
      "[1] \"infliximab\"\n"
     ]
    },
    {
     "data": {
      "text/plain": [
       "\n",
       "Call:\n",
       "glm(formula = acpa ~ infliximab, family = \"binomial\", data = ra_df)\n",
       "\n",
       "Deviance Residuals: \n",
       "   Min      1Q  Median      3Q     Max  \n",
       "-1.177  -1.177   0.000   1.177   1.177  \n",
       "\n",
       "Coefficients: (1 not defined because of singularities)\n",
       "              Estimate Std. Error z value Pr(>|z|)\n",
       "(Intercept) -1.039e-16  2.236e-01       0        1\n",
       "infliximab          NA         NA      NA       NA\n",
       "\n",
       "(Dispersion parameter for binomial family taken to be 1)\n",
       "\n",
       "    Null deviance: 110.9  on 79  degrees of freedom\n",
       "Residual deviance: 110.9  on 79  degrees of freedom\n",
       "AIC: 112.9\n",
       "\n",
       "Number of Fisher Scoring iterations: 2\n"
      ]
     },
     "metadata": {},
     "output_type": "display_data"
    },
    {
     "name": "stdout",
     "output_type": "stream",
     "text": [
      "[1] \"etanercept\"\n"
     ]
    },
    {
     "data": {
      "text/plain": [
       "\n",
       "Call:\n",
       "glm(formula = acpa ~ etanercept, family = \"binomial\", data = ra_df)\n",
       "\n",
       "Deviance Residuals: \n",
       "   Min      1Q  Median      3Q     Max  \n",
       "-1.177  -1.177   0.000   1.177   1.177  \n",
       "\n",
       "Coefficients:\n",
       "              Estimate Std. Error z value Pr(>|z|)\n",
       "(Intercept) -5.016e-17  2.265e-01       0        1\n",
       "etanercept   5.921e-17  1.432e+00       0        1\n",
       "\n",
       "(Dispersion parameter for binomial family taken to be 1)\n",
       "\n",
       "    Null deviance: 110.9  on 79  degrees of freedom\n",
       "Residual deviance: 110.9  on 78  degrees of freedom\n",
       "AIC: 114.9\n",
       "\n",
       "Number of Fisher Scoring iterations: 2\n"
      ]
     },
     "metadata": {},
     "output_type": "display_data"
    },
    {
     "name": "stdout",
     "output_type": "stream",
     "text": [
      "[1] \"adalimumab\"\n"
     ]
    },
    {
     "data": {
      "text/plain": [
       "\n",
       "Call:\n",
       "glm(formula = acpa ~ adalimumab, family = \"binomial\", data = ra_df)\n",
       "\n",
       "Deviance Residuals: \n",
       "    Min       1Q   Median       3Q      Max  \n",
       "-1.2107  -1.2107   0.5721   1.1445   1.1445  \n",
       "\n",
       "Coefficients:\n",
       "              Estimate Std. Error z value Pr(>|z|)\n",
       "(Intercept)    0.07796    0.22809   0.342    0.733\n",
       "adalimumab   -16.64403 1385.37781  -0.012    0.990\n",
       "\n",
       "(Dispersion parameter for binomial family taken to be 1)\n",
       "\n",
       "    Null deviance: 110.90  on 79  degrees of freedom\n",
       "Residual deviance: 106.63  on 78  degrees of freedom\n",
       "AIC: 110.63\n",
       "\n",
       "Number of Fisher Scoring iterations: 15\n"
      ]
     },
     "metadata": {},
     "output_type": "display_data"
    },
    {
     "name": "stdout",
     "output_type": "stream",
     "text": [
      "[1] \"golimumab\"\n"
     ]
    },
    {
     "data": {
      "text/plain": [
       "\n",
       "Call:\n",
       "glm(formula = acpa ~ golimumab, family = \"binomial\", data = ra_df)\n",
       "\n",
       "Deviance Residuals: \n",
       "   Min      1Q  Median      3Q     Max  \n",
       "-1.177  -1.177   0.000   1.177   1.177  \n",
       "\n",
       "Coefficients: (1 not defined because of singularities)\n",
       "              Estimate Std. Error z value Pr(>|z|)\n",
       "(Intercept) -1.039e-16  2.236e-01       0        1\n",
       "golimumab           NA         NA      NA       NA\n",
       "\n",
       "(Dispersion parameter for binomial family taken to be 1)\n",
       "\n",
       "    Null deviance: 110.9  on 79  degrees of freedom\n",
       "Residual deviance: 110.9  on 79  degrees of freedom\n",
       "AIC: 112.9\n",
       "\n",
       "Number of Fisher Scoring iterations: 2\n"
      ]
     },
     "metadata": {},
     "output_type": "display_data"
    },
    {
     "name": "stdout",
     "output_type": "stream",
     "text": [
      "[1] \"certolizumab\"\n"
     ]
    },
    {
     "data": {
      "text/plain": [
       "\n",
       "Call:\n",
       "glm(formula = acpa ~ certolizumab, family = \"binomial\", data = ra_df)\n",
       "\n",
       "Deviance Residuals: \n",
       "   Min      1Q  Median      3Q     Max  \n",
       "-1.200  -1.200   0.127   1.155   1.482  \n",
       "\n",
       "Coefficients:\n",
       "             Estimate Std. Error z value Pr(>|z|)\n",
       "(Intercept)   0.05407    0.23258   0.232    0.816\n",
       "certolizumab -0.74721    0.89671  -0.833    0.405\n",
       "\n",
       "(Dispersion parameter for binomial family taken to be 1)\n",
       "\n",
       "    Null deviance: 110.90  on 79  degrees of freedom\n",
       "Residual deviance: 110.17  on 78  degrees of freedom\n",
       "AIC: 114.17\n",
       "\n",
       "Number of Fisher Scoring iterations: 4\n"
      ]
     },
     "metadata": {},
     "output_type": "display_data"
    },
    {
     "name": "stdout",
     "output_type": "stream",
     "text": [
      "[1] \"tocilizumab\"\n"
     ]
    },
    {
     "data": {
      "text/plain": [
       "\n",
       "Call:\n",
       "glm(formula = acpa ~ tocilizumab, family = \"binomial\", data = ra_df)\n",
       "\n",
       "Deviance Residuals: \n",
       "    Min       1Q   Median       3Q      Max  \n",
       "-1.1557  -1.1557  -0.5777   1.1993   1.1993  \n",
       "\n",
       "Coefficients:\n",
       "              Estimate Std. Error z value Pr(>|z|)\n",
       "(Intercept)   -0.05129    0.22653  -0.226    0.821\n",
       "tocilizumab   16.61736 1696.73436   0.010    0.992\n",
       "\n",
       "(Dispersion parameter for binomial family taken to be 1)\n",
       "\n",
       "    Null deviance: 110.90  on 79  degrees of freedom\n",
       "Residual deviance: 108.08  on 78  degrees of freedom\n",
       "AIC: 112.08\n",
       "\n",
       "Number of Fisher Scoring iterations: 15\n"
      ]
     },
     "metadata": {},
     "output_type": "display_data"
    },
    {
     "name": "stdout",
     "output_type": "stream",
     "text": [
      "[1] \"anakinra\"\n"
     ]
    },
    {
     "data": {
      "text/plain": [
       "\n",
       "Call:\n",
       "glm(formula = acpa ~ anakinra, family = \"binomial\", data = ra_df)\n",
       "\n",
       "Deviance Residuals: \n",
       "   Min      1Q  Median      3Q     Max  \n",
       "-1.177  -1.177   0.000   1.177   1.177  \n",
       "\n",
       "Coefficients: (1 not defined because of singularities)\n",
       "              Estimate Std. Error z value Pr(>|z|)\n",
       "(Intercept) -1.039e-16  2.236e-01       0        1\n",
       "anakinra            NA         NA      NA       NA\n",
       "\n",
       "(Dispersion parameter for binomial family taken to be 1)\n",
       "\n",
       "    Null deviance: 110.9  on 79  degrees of freedom\n",
       "Residual deviance: 110.9  on 79  degrees of freedom\n",
       "AIC: 112.9\n",
       "\n",
       "Number of Fisher Scoring iterations: 2\n"
      ]
     },
     "metadata": {},
     "output_type": "display_data"
    },
    {
     "name": "stdout",
     "output_type": "stream",
     "text": [
      "[1] \"abatacept\"\n"
     ]
    },
    {
     "data": {
      "text/plain": [
       "\n",
       "Call:\n",
       "glm(formula = acpa ~ abatacept, family = \"binomial\", data = ra_df)\n",
       "\n",
       "Deviance Residuals: \n",
       "    Min       1Q   Median       3Q      Max  \n",
       "-1.1885  -1.1885   0.1329   1.1664   1.4823  \n",
       "\n",
       "Coefficients:\n",
       "            Estimate Std. Error z value Pr(>|z|)\n",
       "(Intercept)  0.02598    0.22794   0.114    0.909\n",
       "abatacept   -0.71912    1.24578  -0.577    0.564\n",
       "\n",
       "(Dispersion parameter for binomial family taken to be 1)\n",
       "\n",
       "    Null deviance: 110.90  on 79  degrees of freedom\n",
       "Residual deviance: 110.55  on 78  degrees of freedom\n",
       "AIC: 114.55\n",
       "\n",
       "Number of Fisher Scoring iterations: 4\n"
      ]
     },
     "metadata": {},
     "output_type": "display_data"
    },
    {
     "name": "stdout",
     "output_type": "stream",
     "text": [
      "[1] \"rituximab\"\n"
     ]
    },
    {
     "data": {
      "text/plain": [
       "\n",
       "Call:\n",
       "glm(formula = acpa ~ rituximab, family = \"binomial\", data = ra_df)\n",
       "\n",
       "Deviance Residuals: \n",
       "   Min      1Q  Median      3Q     Max  \n",
       "-1.167  -1.167  -0.583   1.188   1.188  \n",
       "\n",
       "Coefficients:\n",
       "              Estimate Std. Error z value Pr(>|z|)\n",
       "(Intercept)   -0.02532    0.22504  -0.113    0.910\n",
       "rituximab     15.59139 1455.39755   0.011    0.991\n",
       "\n",
       "(Dispersion parameter for binomial family taken to be 1)\n",
       "\n",
       "    Null deviance: 110.9  on 79  degrees of freedom\n",
       "Residual deviance: 109.5  on 78  degrees of freedom\n",
       "AIC: 113.5\n",
       "\n",
       "Number of Fisher Scoring iterations: 14\n"
      ]
     },
     "metadata": {},
     "output_type": "display_data"
    },
    {
     "name": "stdout",
     "output_type": "stream",
     "text": [
      "[1] \"pred\"\n"
     ]
    },
    {
     "data": {
      "text/plain": [
       "\n",
       "Call:\n",
       "glm(formula = acpa ~ pred, family = \"binomial\", data = ra_df)\n",
       "\n",
       "Deviance Residuals: \n",
       "     Min        1Q    Median        3Q       Max  \n",
       "-1.35373  -1.12126  -0.05524   1.23462   1.23462  \n",
       "\n",
       "Coefficients:\n",
       "            Estimate Std. Error z value Pr(>|z|)\n",
       "(Intercept)  -0.1335     0.2588  -0.516    0.606\n",
       "pred          0.5390     0.5247   1.027    0.304\n",
       "\n",
       "(Dispersion parameter for binomial family taken to be 1)\n",
       "\n",
       "    Null deviance: 110.90  on 79  degrees of freedom\n",
       "Residual deviance: 109.83  on 78  degrees of freedom\n",
       "AIC: 113.83\n",
       "\n",
       "Number of Fisher Scoring iterations: 4\n"
      ]
     },
     "metadata": {},
     "output_type": "display_data"
    }
   ],
   "source": [
    "\n",
    "#drugs  #not_significant\n",
    "print (\"mtx\")\n",
    "fit <- glm(acpa ~ mtx , data = ra_df, family=\"binomial\")\n",
    "summary(fit)\n",
    "\n",
    "print (\"hcq\")\n",
    "fit <- glm(acpa ~ hcq , data = ra_df, family=\"binomial\")\n",
    "summary(fit)\n",
    "\n",
    "print (\"ssz\")\n",
    "fit <- glm(acpa ~ ssz , data = ra_df, family=\"binomial\")\n",
    "summary(fit)\n",
    "\n",
    "print (\"lef\")\n",
    "fit <- glm(acpa ~ lef , data = ra_df, family=\"binomial\")\n",
    "summary(fit)\n",
    "\n",
    "print (\"aza\")\n",
    "fit <- glm(acpa ~ aza , data = ra_df, family=\"binomial\")\n",
    "summary(fit)\n",
    "\n",
    "print (\"tofacitinib\")\n",
    "fit <- glm(acpa ~ tofacitinib , data = ra_df, family=\"binomial\")\n",
    "summary(fit)\n",
    "\n",
    "print (\"infliximab\")\n",
    "fit <- glm(acpa ~ infliximab , data = ra_df, family=\"binomial\")\n",
    "summary(fit)\n",
    "\n",
    "print (\"etanercept\")\n",
    "fit <- glm(acpa ~ etanercept , data = ra_df, family=\"binomial\")\n",
    "summary(fit)\n",
    "\n",
    "print (\"adalimumab\")\n",
    "fit <- glm(acpa ~ adalimumab , data = ra_df, family=\"binomial\")\n",
    "summary(fit)\n",
    "\n",
    "print (\"golimumab\")\n",
    "fit <- glm(acpa ~ golimumab , data = ra_df, family=\"binomial\")\n",
    "summary(fit)\n",
    "\n",
    "print (\"certolizumab\")\n",
    "fit <- glm(acpa ~ certolizumab , data = ra_df, family=\"binomial\")\n",
    "summary(fit)\n",
    "\n",
    "print (\"tocilizumab\")\n",
    "fit <- glm(acpa ~ tocilizumab , data = ra_df, family=\"binomial\")\n",
    "summary(fit)\n",
    "\n",
    "print (\"anakinra\")\n",
    "fit <- glm(acpa ~ anakinra , data = ra_df, family=\"binomial\")\n",
    "summary(fit)\n",
    "\n",
    "print (\"abatacept\")\n",
    "fit <- glm(acpa ~ abatacept , data = ra_df, family=\"binomial\")\n",
    "summary(fit)\n",
    "\n",
    "print (\"rituximab\")\n",
    "fit <- glm(acpa ~ rituximab , data = ra_df, family=\"binomial\")\n",
    "summary(fit)\n",
    "\n",
    "print (\"pred\")\n",
    "fit <- glm(acpa ~ pred , data = ra_df, family=\"binomial\")\n",
    "summary(fit)"
   ]
  },
  {
   "cell_type": "code",
   "execution_count": null,
   "id": "84d39253-03b7-4f49-bae4-b626786a1a8f",
   "metadata": {},
   "outputs": [],
   "source": []
  }
 ],
 "metadata": {
  "kernelspec": {
   "display_name": "R",
   "language": "R",
   "name": "ir"
  },
  "language_info": {
   "codemirror_mode": "r",
   "file_extension": ".r",
   "mimetype": "text/x-r-source",
   "name": "R",
   "pygments_lexer": "r",
   "version": "4.0.3"
  }
 },
 "nbformat": 4,
 "nbformat_minor": 5
}
