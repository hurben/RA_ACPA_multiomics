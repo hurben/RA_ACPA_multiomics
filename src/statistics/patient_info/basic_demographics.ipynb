{
 "cells": [
  {
   "cell_type": "code",
   "execution_count": 1,
   "id": "several-representative",
   "metadata": {},
   "outputs": [
    {
     "name": "stderr",
     "output_type": "stream",
     "text": [
      "Registered S3 method overwritten by 'quantmod':\n",
      "  method            from\n",
      "  as.zoo.data.frame zoo \n",
      "\n",
      "\n",
      "Attaching package: ‘dplyr’\n",
      "\n",
      "\n",
      "The following objects are masked from ‘package:stats’:\n",
      "\n",
      "    filter, lag\n",
      "\n",
      "\n",
      "The following objects are masked from ‘package:base’:\n",
      "\n",
      "    intersect, setdiff, setequal, union\n",
      "\n",
      "\n"
     ]
    }
   ],
   "source": [
    "library(stringr)\n",
    "library(imputeTS)\n",
    "library(dplyr)"
   ]
  },
  {
   "cell_type": "code",
   "execution_count": 32,
   "id": "individual-netherlands",
   "metadata": {},
   "outputs": [],
   "source": [
    "patient_info_file = '/Users/m221138/RA_sero_multiomics/preprocessed_data/meta/patient_info_for_statistics.v2.tsv'\n",
    "patient_df <- read.csv(patient_info_file, sep=\"\\t\")"
   ]
  },
  {
   "cell_type": "code",
   "execution_count": 33,
   "id": "stuffed-gospel",
   "metadata": {},
   "outputs": [],
   "source": [
    "control_df <- filter(patient_df, acpa == 0)\n",
    "acpa_pos_df <- filter(patient_df, acpa == 1)\n",
    "acpa_neg_df <- filter(patient_df, acpa == 2)"
   ]
  },
  {
   "cell_type": "code",
   "execution_count": 34,
   "id": "green-peace",
   "metadata": {
    "scrolled": true
   },
   "outputs": [
    {
     "data": {
      "text/plain": [
       "\n",
       "Call:\n",
       "glm(formula = acpa ~ smoking, data = patient_df)\n",
       "\n",
       "Deviance Residuals: \n",
       "     Min        1Q    Median        3Q       Max  \n",
       "-1.05505  -1.05505  -0.05505   0.94495   1.28571  \n",
       "\n",
       "Coefficients:\n",
       "            Estimate Std. Error t value Pr(>|t|)    \n",
       "(Intercept)  1.05505    0.07774  13.571   <2e-16 ***\n",
       "smoking     -0.34076    0.31647  -1.077    0.284    \n",
       "---\n",
       "Signif. codes:  0 ‘***’ 0.001 ‘**’ 0.01 ‘*’ 0.05 ‘.’ 0.1 ‘ ’ 1\n",
       "\n",
       "(Dispersion parameter for gaussian family taken to be 0.658757)\n",
       "\n",
       "    Null deviance: 75.862  on 115  degrees of freedom\n",
       "Residual deviance: 75.098  on 114  degrees of freedom\n",
       "  (4 observations deleted due to missingness)\n",
       "AIC: 284.76\n",
       "\n",
       "Number of Fisher Scoring iterations: 2\n"
      ]
     },
     "metadata": {},
     "output_type": "display_data"
    }
   ],
   "source": [
    "#smoking\n",
    "fit <- glm(acpa ~ smoking , data = patient_df)\n",
    "summary(fit)"
   ]
  },
  {
   "cell_type": "code",
   "execution_count": 35,
   "id": "solved-interaction",
   "metadata": {},
   "outputs": [
    {
     "name": "stdout",
     "output_type": "stream",
     "text": [
      "[1] \"mtx\"\n"
     ]
    },
    {
     "data": {
      "text/plain": [
       "\n",
       "Call:\n",
       "glm(formula = acpa ~ mtx, data = patient_df)\n",
       "\n",
       "Deviance Residuals: \n",
       "   Min      1Q  Median      3Q     Max  \n",
       "    -1      -1       0       1       1  \n",
       "\n",
       "Coefficients:\n",
       "              Estimate Std. Error t value Pr(>|t|)    \n",
       "(Intercept)  1.000e+00  1.063e-01   9.407 5.07e-16 ***\n",
       "mtx         -1.204e-16  1.503e-01   0.000        1    \n",
       "---\n",
       "Signif. codes:  0 ‘***’ 0.001 ‘**’ 0.01 ‘*’ 0.05 ‘.’ 0.1 ‘ ’ 1\n",
       "\n",
       "(Dispersion parameter for gaussian family taken to be 0.6779661)\n",
       "\n",
       "    Null deviance: 80  on 119  degrees of freedom\n",
       "Residual deviance: 80  on 118  degrees of freedom\n",
       "AIC: 297.89\n",
       "\n",
       "Number of Fisher Scoring iterations: 2\n"
      ]
     },
     "metadata": {},
     "output_type": "display_data"
    },
    {
     "name": "stdout",
     "output_type": "stream",
     "text": [
      "[1] \"hcq\"\n"
     ]
    },
    {
     "data": {
      "text/plain": [
       "\n",
       "Call:\n",
       "glm(formula = acpa ~ hcq, data = patient_df)\n",
       "\n",
       "Deviance Residuals: \n",
       "   Min      1Q  Median      3Q     Max  \n",
       "    -1      -1       0       1       1  \n",
       "\n",
       "Coefficients:\n",
       "              Estimate Std. Error t value Pr(>|t|)    \n",
       "(Intercept)  1.000e+00  8.493e-02   11.78   <2e-16 ***\n",
       "hcq         -1.764e-16  1.825e-01    0.00        1    \n",
       "---\n",
       "Signif. codes:  0 ‘***’ 0.001 ‘**’ 0.01 ‘*’ 0.05 ‘.’ 0.1 ‘ ’ 1\n",
       "\n",
       "(Dispersion parameter for gaussian family taken to be 0.6779661)\n",
       "\n",
       "    Null deviance: 80  on 119  degrees of freedom\n",
       "Residual deviance: 80  on 118  degrees of freedom\n",
       "AIC: 297.89\n",
       "\n",
       "Number of Fisher Scoring iterations: 2\n"
      ]
     },
     "metadata": {},
     "output_type": "display_data"
    },
    {
     "name": "stdout",
     "output_type": "stream",
     "text": [
      "[1] \"ssz\"\n"
     ]
    },
    {
     "data": {
      "text/plain": [
       "\n",
       "Call:\n",
       "glm(formula = acpa ~ ssz, data = patient_df)\n",
       "\n",
       "Deviance Residuals: \n",
       "   Min      1Q  Median      3Q     Max  \n",
       "    -1      -1       0       1       1  \n",
       "\n",
       "Coefficients:\n",
       "              Estimate Std. Error t value Pr(>|t|)    \n",
       "(Intercept)  1.000e+00  7.780e-02   12.85   <2e-16 ***\n",
       "ssz         -9.151e-17  3.013e-01    0.00        1    \n",
       "---\n",
       "Signif. codes:  0 ‘***’ 0.001 ‘**’ 0.01 ‘*’ 0.05 ‘.’ 0.1 ‘ ’ 1\n",
       "\n",
       "(Dispersion parameter for gaussian family taken to be 0.6779661)\n",
       "\n",
       "    Null deviance: 80  on 119  degrees of freedom\n",
       "Residual deviance: 80  on 118  degrees of freedom\n",
       "AIC: 297.89\n",
       "\n",
       "Number of Fisher Scoring iterations: 2\n"
      ]
     },
     "metadata": {},
     "output_type": "display_data"
    },
    {
     "name": "stdout",
     "output_type": "stream",
     "text": [
      "[1] \"lef\"\n"
     ]
    },
    {
     "data": {
      "text/plain": [
       "\n",
       "Call:\n",
       "glm(formula = acpa ~ lef, data = patient_df)\n",
       "\n",
       "Deviance Residuals: \n",
       "   Min      1Q  Median      3Q     Max  \n",
       "    -1      -1       0       1       1  \n",
       "\n",
       "Coefficients:\n",
       "             Estimate Std. Error t value Pr(>|t|)    \n",
       "(Intercept) 1.000e+00  7.612e-02   13.14   <2e-16 ***\n",
       "lef         1.457e-16  4.814e-01    0.00        1    \n",
       "---\n",
       "Signif. codes:  0 ‘***’ 0.001 ‘**’ 0.01 ‘*’ 0.05 ‘.’ 0.1 ‘ ’ 1\n",
       "\n",
       "(Dispersion parameter for gaussian family taken to be 0.6779661)\n",
       "\n",
       "    Null deviance: 80  on 119  degrees of freedom\n",
       "Residual deviance: 80  on 118  degrees of freedom\n",
       "AIC: 297.89\n",
       "\n",
       "Number of Fisher Scoring iterations: 2\n"
      ]
     },
     "metadata": {},
     "output_type": "display_data"
    },
    {
     "name": "stdout",
     "output_type": "stream",
     "text": [
      "[1] \"aza\"\n"
     ]
    },
    {
     "data": {
      "text/plain": [
       "\n",
       "Call:\n",
       "glm(formula = acpa ~ aza, data = patient_df)\n",
       "\n",
       "Deviance Residuals: \n",
       "   Min      1Q  Median      3Q     Max  \n",
       "    -1      -1       0       1       1  \n",
       "\n",
       "Coefficients: (1 not defined because of singularities)\n",
       "            Estimate Std. Error t value Pr(>|t|)    \n",
       "(Intercept)  1.00000    0.07485   13.36   <2e-16 ***\n",
       "aza               NA         NA      NA       NA    \n",
       "---\n",
       "Signif. codes:  0 ‘***’ 0.001 ‘**’ 0.01 ‘*’ 0.05 ‘.’ 0.1 ‘ ’ 1\n",
       "\n",
       "(Dispersion parameter for gaussian family taken to be 0.6722689)\n",
       "\n",
       "    Null deviance: 80  on 119  degrees of freedom\n",
       "Residual deviance: 80  on 119  degrees of freedom\n",
       "AIC: 295.89\n",
       "\n",
       "Number of Fisher Scoring iterations: 2\n"
      ]
     },
     "metadata": {},
     "output_type": "display_data"
    },
    {
     "name": "stdout",
     "output_type": "stream",
     "text": [
      "[1] \"tofacitinib\"\n"
     ]
    },
    {
     "data": {
      "text/plain": [
       "\n",
       "Call:\n",
       "glm(formula = acpa ~ tofacitinib, data = patient_df)\n",
       "\n",
       "Deviance Residuals: \n",
       "   Min      1Q  Median      3Q     Max  \n",
       "    -1      -1       0       1       1  \n",
       "\n",
       "Coefficients: (1 not defined because of singularities)\n",
       "            Estimate Std. Error t value Pr(>|t|)    \n",
       "(Intercept)  1.00000    0.07485   13.36   <2e-16 ***\n",
       "tofacitinib       NA         NA      NA       NA    \n",
       "---\n",
       "Signif. codes:  0 ‘***’ 0.001 ‘**’ 0.01 ‘*’ 0.05 ‘.’ 0.1 ‘ ’ 1\n",
       "\n",
       "(Dispersion parameter for gaussian family taken to be 0.6722689)\n",
       "\n",
       "    Null deviance: 80  on 119  degrees of freedom\n",
       "Residual deviance: 80  on 119  degrees of freedom\n",
       "AIC: 295.89\n",
       "\n",
       "Number of Fisher Scoring iterations: 2\n"
      ]
     },
     "metadata": {},
     "output_type": "display_data"
    },
    {
     "name": "stdout",
     "output_type": "stream",
     "text": [
      "[1] \"infliximab\"\n"
     ]
    },
    {
     "data": {
      "text/plain": [
       "\n",
       "Call:\n",
       "glm(formula = acpa ~ infliximab, data = patient_df)\n",
       "\n",
       "Deviance Residuals: \n",
       "   Min      1Q  Median      3Q     Max  \n",
       "    -1      -1       0       1       1  \n",
       "\n",
       "Coefficients: (1 not defined because of singularities)\n",
       "            Estimate Std. Error t value Pr(>|t|)    \n",
       "(Intercept)  1.00000    0.07485   13.36   <2e-16 ***\n",
       "infliximab        NA         NA      NA       NA    \n",
       "---\n",
       "Signif. codes:  0 ‘***’ 0.001 ‘**’ 0.01 ‘*’ 0.05 ‘.’ 0.1 ‘ ’ 1\n",
       "\n",
       "(Dispersion parameter for gaussian family taken to be 0.6722689)\n",
       "\n",
       "    Null deviance: 80  on 119  degrees of freedom\n",
       "Residual deviance: 80  on 119  degrees of freedom\n",
       "AIC: 295.89\n",
       "\n",
       "Number of Fisher Scoring iterations: 2\n"
      ]
     },
     "metadata": {},
     "output_type": "display_data"
    },
    {
     "name": "stdout",
     "output_type": "stream",
     "text": [
      "[1] \"etanercept\"\n"
     ]
    },
    {
     "data": {
      "text/plain": [
       "\n",
       "Call:\n",
       "glm(formula = acpa ~ etanercept, data = patient_df)\n",
       "\n",
       "Deviance Residuals: \n",
       "   Min      1Q  Median      3Q     Max  \n",
       "    -1      -1       0       1       1  \n",
       "\n",
       "Coefficients:\n",
       "             Estimate Std. Error t value Pr(>|t|)    \n",
       "(Intercept) 1.000e+00  7.612e-02   13.14   <2e-16 ***\n",
       "etanercept  1.457e-16  4.814e-01    0.00        1    \n",
       "---\n",
       "Signif. codes:  0 ‘***’ 0.001 ‘**’ 0.01 ‘*’ 0.05 ‘.’ 0.1 ‘ ’ 1\n",
       "\n",
       "(Dispersion parameter for gaussian family taken to be 0.6779661)\n",
       "\n",
       "    Null deviance: 80  on 119  degrees of freedom\n",
       "Residual deviance: 80  on 118  degrees of freedom\n",
       "AIC: 297.89\n",
       "\n",
       "Number of Fisher Scoring iterations: 2\n"
      ]
     },
     "metadata": {},
     "output_type": "display_data"
    }
   ],
   "source": [
    "#drugs\n",
    "print (\"mtx\")\n",
    "fit <- glm(acpa ~ mtx , data = patient_df)\n",
    "summary(fit)\n",
    "\n",
    "print (\"hcq\")\n",
    "fit <- glm(acpa ~ hcq , data = patient_df)\n",
    "summary(fit)\n",
    "\n",
    "print (\"ssz\")\n",
    "fit <- glm(acpa ~ ssz , data = patient_df)\n",
    "summary(fit)\n",
    "\n",
    "print (\"lef\")\n",
    "fit <- glm(acpa ~ lef , data = patient_df)\n",
    "summary(fit)\n",
    "\n",
    "print (\"aza\")\n",
    "fit <- glm(acpa ~ aza , data = patient_df)\n",
    "summary(fit)\n",
    "\n",
    "print (\"tofacitinib\")\n",
    "fit <- glm(acpa ~ tofacitinib , data = patient_df)\n",
    "summary(fit)\n",
    "\n",
    "print (\"infliximab\")\n",
    "fit <- glm(acpa ~ infliximab , data = patient_df)\n",
    "summary(fit)\n",
    "\n",
    "print (\"etanercept\")\n",
    "fit <- glm(acpa ~ etanercept , data = patient_df)\n",
    "summary(fit)\n",
    "\n",
    "#nothing sig"
   ]
  },
  {
   "cell_type": "code",
   "execution_count": 36,
   "id": "sporting-journal",
   "metadata": {},
   "outputs": [
    {
     "name": "stdout",
     "output_type": "stream",
     "text": [
      "[1] \"adalimumab\"\n"
     ]
    },
    {
     "data": {
      "text/plain": [
       "\n",
       "Call:\n",
       "glm(formula = acpa ~ adalimumab, data = patient_df)\n",
       "\n",
       "Deviance Residuals: \n",
       "   Min      1Q  Median      3Q     Max  \n",
       "    -1      -1       0       1       1  \n",
       "\n",
       "Coefficients:\n",
       "             Estimate Std. Error t value Pr(>|t|)    \n",
       "(Intercept) 1.000e+00  7.612e-02   13.14   <2e-16 ***\n",
       "adalimumab  1.411e-17  4.814e-01    0.00        1    \n",
       "---\n",
       "Signif. codes:  0 ‘***’ 0.001 ‘**’ 0.01 ‘*’ 0.05 ‘.’ 0.1 ‘ ’ 1\n",
       "\n",
       "(Dispersion parameter for gaussian family taken to be 0.6779661)\n",
       "\n",
       "    Null deviance: 80  on 119  degrees of freedom\n",
       "Residual deviance: 80  on 118  degrees of freedom\n",
       "AIC: 297.89\n",
       "\n",
       "Number of Fisher Scoring iterations: 2\n"
      ]
     },
     "metadata": {},
     "output_type": "display_data"
    },
    {
     "name": "stdout",
     "output_type": "stream",
     "text": [
      "[1] \"golimumab\"\n"
     ]
    },
    {
     "data": {
      "text/plain": [
       "\n",
       "Call:\n",
       "glm(formula = acpa ~ golimumab, data = patient_df)\n",
       "\n",
       "Deviance Residuals: \n",
       "   Min      1Q  Median      3Q     Max  \n",
       "    -1      -1       0       1       1  \n",
       "\n",
       "Coefficients: (1 not defined because of singularities)\n",
       "            Estimate Std. Error t value Pr(>|t|)    \n",
       "(Intercept)  1.00000    0.07485   13.36   <2e-16 ***\n",
       "golimumab         NA         NA      NA       NA    \n",
       "---\n",
       "Signif. codes:  0 ‘***’ 0.001 ‘**’ 0.01 ‘*’ 0.05 ‘.’ 0.1 ‘ ’ 1\n",
       "\n",
       "(Dispersion parameter for gaussian family taken to be 0.6722689)\n",
       "\n",
       "    Null deviance: 80  on 119  degrees of freedom\n",
       "Residual deviance: 80  on 119  degrees of freedom\n",
       "AIC: 295.89\n",
       "\n",
       "Number of Fisher Scoring iterations: 2\n"
      ]
     },
     "metadata": {},
     "output_type": "display_data"
    },
    {
     "name": "stdout",
     "output_type": "stream",
     "text": [
      "[1] \"certolizumab\"\n"
     ]
    },
    {
     "data": {
      "text/plain": [
       "\n",
       "Call:\n",
       "glm(formula = acpa ~ certolizumab, data = patient_df)\n",
       "\n",
       "Deviance Residuals: \n",
       "   Min      1Q  Median      3Q     Max  \n",
       "    -1      -1       0       1       1  \n",
       "\n",
       "Coefficients:\n",
       "               Estimate Std. Error t value Pr(>|t|)    \n",
       "(Intercept)   1.000e+00  7.780e-02   12.85   <2e-16 ***\n",
       "certolizumab -9.151e-17  3.013e-01    0.00        1    \n",
       "---\n",
       "Signif. codes:  0 ‘***’ 0.001 ‘**’ 0.01 ‘*’ 0.05 ‘.’ 0.1 ‘ ’ 1\n",
       "\n",
       "(Dispersion parameter for gaussian family taken to be 0.6779661)\n",
       "\n",
       "    Null deviance: 80  on 119  degrees of freedom\n",
       "Residual deviance: 80  on 118  degrees of freedom\n",
       "AIC: 297.89\n",
       "\n",
       "Number of Fisher Scoring iterations: 2\n"
      ]
     },
     "metadata": {},
     "output_type": "display_data"
    },
    {
     "name": "stdout",
     "output_type": "stream",
     "text": [
      "[1] \"tocilizumab\"\n"
     ]
    },
    {
     "data": {
      "text/plain": [
       "\n",
       "Call:\n",
       "glm(formula = acpa ~ tocilizumab, data = patient_df)\n",
       "\n",
       "Deviance Residuals: \n",
       "   Min      1Q  Median      3Q     Max  \n",
       "    -1      -1       0       1       1  \n",
       "\n",
       "Coefficients:\n",
       "             Estimate Std. Error t value Pr(>|t|)    \n",
       "(Intercept) 1.000e+00  7.645e-02   13.08   <2e-16 ***\n",
       "tocilizumab 2.233e-16  4.187e-01    0.00        1    \n",
       "---\n",
       "Signif. codes:  0 ‘***’ 0.001 ‘**’ 0.01 ‘*’ 0.05 ‘.’ 0.1 ‘ ’ 1\n",
       "\n",
       "(Dispersion parameter for gaussian family taken to be 0.6779661)\n",
       "\n",
       "    Null deviance: 80  on 119  degrees of freedom\n",
       "Residual deviance: 80  on 118  degrees of freedom\n",
       "AIC: 297.89\n",
       "\n",
       "Number of Fisher Scoring iterations: 2\n"
      ]
     },
     "metadata": {},
     "output_type": "display_data"
    },
    {
     "name": "stdout",
     "output_type": "stream",
     "text": [
      "[1] \"anakinra\"\n"
     ]
    },
    {
     "data": {
      "text/plain": [
       "\n",
       "Call:\n",
       "glm(formula = acpa ~ anakinra, data = patient_df)\n",
       "\n",
       "Deviance Residuals: \n",
       "   Min      1Q  Median      3Q     Max  \n",
       "    -1      -1       0       1       1  \n",
       "\n",
       "Coefficients: (1 not defined because of singularities)\n",
       "            Estimate Std. Error t value Pr(>|t|)    \n",
       "(Intercept)  1.00000    0.07485   13.36   <2e-16 ***\n",
       "anakinra          NA         NA      NA       NA    \n",
       "---\n",
       "Signif. codes:  0 ‘***’ 0.001 ‘**’ 0.01 ‘*’ 0.05 ‘.’ 0.1 ‘ ’ 1\n",
       "\n",
       "(Dispersion parameter for gaussian family taken to be 0.6722689)\n",
       "\n",
       "    Null deviance: 80  on 119  degrees of freedom\n",
       "Residual deviance: 80  on 119  degrees of freedom\n",
       "AIC: 295.89\n",
       "\n",
       "Number of Fisher Scoring iterations: 2\n"
      ]
     },
     "metadata": {},
     "output_type": "display_data"
    },
    {
     "name": "stdout",
     "output_type": "stream",
     "text": [
      "[1] \"abatacept\"\n"
     ]
    },
    {
     "data": {
      "text/plain": [
       "\n",
       "Call:\n",
       "glm(formula = acpa ~ abatacept, data = patient_df)\n",
       "\n",
       "Deviance Residuals: \n",
       "   Min      1Q  Median      3Q     Max  \n",
       "    -1      -1       0       1       1  \n",
       "\n",
       "Coefficients:\n",
       "             Estimate Std. Error t value Pr(>|t|)    \n",
       "(Intercept) 1.000e+00  7.645e-02   13.08   <2e-16 ***\n",
       "abatacept   3.380e-16  4.187e-01    0.00        1    \n",
       "---\n",
       "Signif. codes:  0 ‘***’ 0.001 ‘**’ 0.01 ‘*’ 0.05 ‘.’ 0.1 ‘ ’ 1\n",
       "\n",
       "(Dispersion parameter for gaussian family taken to be 0.6779661)\n",
       "\n",
       "    Null deviance: 80  on 119  degrees of freedom\n",
       "Residual deviance: 80  on 118  degrees of freedom\n",
       "AIC: 297.89\n",
       "\n",
       "Number of Fisher Scoring iterations: 2\n"
      ]
     },
     "metadata": {},
     "output_type": "display_data"
    },
    {
     "name": "stdout",
     "output_type": "stream",
     "text": [
      "[1] \"rituximab\"\n"
     ]
    },
    {
     "data": {
      "text/plain": [
       "\n",
       "Call:\n",
       "glm(formula = acpa ~ rituximab, data = patient_df)\n",
       "\n",
       "Deviance Residuals: \n",
       "   Min      1Q  Median      3Q     Max  \n",
       "    -1      -1       0       1       1  \n",
       "\n",
       "Coefficients:\n",
       "              Estimate Std. Error t value Pr(>|t|)    \n",
       "(Intercept)  1.000e+00  7.580e-02   13.19   <2e-16 ***\n",
       "rituximab   -1.740e-16  5.871e-01    0.00        1    \n",
       "---\n",
       "Signif. codes:  0 ‘***’ 0.001 ‘**’ 0.01 ‘*’ 0.05 ‘.’ 0.1 ‘ ’ 1\n",
       "\n",
       "(Dispersion parameter for gaussian family taken to be 0.6779661)\n",
       "\n",
       "    Null deviance: 80  on 119  degrees of freedom\n",
       "Residual deviance: 80  on 118  degrees of freedom\n",
       "AIC: 297.89\n",
       "\n",
       "Number of Fisher Scoring iterations: 2\n"
      ]
     },
     "metadata": {},
     "output_type": "display_data"
    },
    {
     "name": "stdout",
     "output_type": "stream",
     "text": [
      "[1] \"pred\"\n"
     ]
    },
    {
     "data": {
      "text/plain": [
       "\n",
       "Call:\n",
       "glm(formula = acpa ~ pred, data = patient_df)\n",
       "\n",
       "Deviance Residuals: \n",
       "   Min      1Q  Median      3Q     Max  \n",
       "    -1      -1       0       1       1  \n",
       "\n",
       "Coefficients:\n",
       "             Estimate Std. Error t value Pr(>|t|)    \n",
       "(Intercept) 1.000e+00  8.777e-02   11.39   <2e-16 ***\n",
       "pred        5.286e-17  1.700e-01    0.00        1    \n",
       "---\n",
       "Signif. codes:  0 ‘***’ 0.001 ‘**’ 0.01 ‘*’ 0.05 ‘.’ 0.1 ‘ ’ 1\n",
       "\n",
       "(Dispersion parameter for gaussian family taken to be 0.6779661)\n",
       "\n",
       "    Null deviance: 80  on 119  degrees of freedom\n",
       "Residual deviance: 80  on 118  degrees of freedom\n",
       "AIC: 297.89\n",
       "\n",
       "Number of Fisher Scoring iterations: 2\n"
      ]
     },
     "metadata": {},
     "output_type": "display_data"
    }
   ],
   "source": [
    "print (\"adalimumab\")\n",
    "fit <- glm(acpa ~ adalimumab , data = patient_df)\n",
    "summary(fit)\n",
    "\n",
    "print (\"golimumab\")\n",
    "fit <- glm(acpa ~ golimumab , data = patient_df)\n",
    "summary(fit)\n",
    "\n",
    "print (\"certolizumab\")\n",
    "fit <- glm(acpa ~ certolizumab , data = patient_df)\n",
    "summary(fit)\n",
    "\n",
    "print (\"tocilizumab\")\n",
    "fit <- glm(acpa ~ tocilizumab , data = patient_df)\n",
    "summary(fit)\n",
    "\n",
    "print (\"anakinra\")\n",
    "fit <- glm(acpa ~ anakinra , data = patient_df)\n",
    "summary(fit)\n",
    "\n",
    "print (\"abatacept\")\n",
    "fit <- glm(acpa ~ abatacept , data = patient_df)\n",
    "summary(fit)\n",
    "\n",
    "print (\"rituximab\")\n",
    "fit <- glm(acpa ~ rituximab , data = patient_df)\n",
    "summary(fit)\n",
    "\n",
    "print (\"pred\")\n",
    "fit <- glm(acpa ~ pred , data = patient_df)\n",
    "summary(fit)\n",
    "\n",
    "#nothing sig"
   ]
  },
  {
   "cell_type": "code",
   "execution_count": 37,
   "id": "persistent-string",
   "metadata": {},
   "outputs": [
    {
     "data": {
      "text/plain": [
       "\n",
       "\tFisher's Exact Test for Count Data\n",
       "\n",
       "data:  acpa_pos_df$mtx and acpa_neg_df$mtx\n",
       "p-value = 0.7605\n",
       "alternative hypothesis: true odds ratio is not equal to 1\n",
       "95 percent confidence interval:\n",
       " 0.3020433 5.2241107\n",
       "sample estimates:\n",
       "odds ratio \n",
       "  1.243027 \n"
      ]
     },
     "metadata": {},
     "output_type": "display_data"
    }
   ],
   "source": [
    "res <- fisher.test(acpa_pos_df$mtx, acpa_neg_df$mtx)\n",
    "res"
   ]
  },
  {
   "cell_type": "code",
   "execution_count": 38,
   "id": "invisible-bradley",
   "metadata": {
    "scrolled": true
   },
   "outputs": [
    {
     "data": {
      "text/plain": [
       "\n",
       "\tFisher's Exact Test for Count Data\n",
       "\n",
       "data:  acpa_pos_df$hcq and acpa_neg_df$hcq\n",
       "p-value = 1\n",
       "alternative hypothesis: true odds ratio is not equal to 1\n",
       "95 percent confidence interval:\n",
       " 0.07568275 6.91479159\n",
       "sample estimates:\n",
       "odds ratio \n",
       " 0.9218895 \n"
      ]
     },
     "metadata": {},
     "output_type": "display_data"
    }
   ],
   "source": [
    "res <- fisher.test(acpa_pos_df$hcq, acpa_neg_df$hcq)\n",
    "res"
   ]
  },
  {
   "cell_type": "code",
   "execution_count": 39,
   "id": "eight-suspension",
   "metadata": {
    "scrolled": true
   },
   "outputs": [
    {
     "data": {
      "text/plain": [
       "\n",
       "\tFisher's Exact Test for Count Data\n",
       "\n",
       "data:  acpa_pos_df$ssz and acpa_neg_df$ssz\n",
       "p-value = 0.1923\n",
       "alternative hypothesis: true odds ratio is not equal to 1\n",
       "95 percent confidence interval:\n",
       "   0.11166 931.29686\n",
       "sample estimates:\n",
       "odds ratio \n",
       "  10.24701 \n"
      ]
     },
     "metadata": {},
     "output_type": "display_data"
    }
   ],
   "source": [
    "res <- fisher.test(acpa_pos_df$ssz, acpa_neg_df$ssz)\n",
    "res"
   ]
  },
  {
   "cell_type": "code",
   "execution_count": 40,
   "id": "conscious-words",
   "metadata": {
    "scrolled": true
   },
   "outputs": [
    {
     "data": {
      "text/plain": [
       "\n",
       "\tFisher's Exact Test for Count Data\n",
       "\n",
       "data:  acpa_pos_df$lef and acpa_neg_df$lef\n",
       "p-value = 1\n",
       "alternative hypothesis: true odds ratio is not equal to 1\n",
       "95 percent confidence interval:\n",
       "    0.000 1485.714\n",
       "sample estimates:\n",
       "odds ratio \n",
       "         0 \n"
      ]
     },
     "metadata": {},
     "output_type": "display_data"
    }
   ],
   "source": [
    "res <- fisher.test(acpa_pos_df$lef, acpa_neg_df$lef)\n",
    "res"
   ]
  },
  {
   "cell_type": "code",
   "execution_count": 41,
   "id": "metric-hampton",
   "metadata": {
    "scrolled": true
   },
   "outputs": [
    {
     "ename": "ERROR",
     "evalue": "Error in fisher.test(acpa_pos_df$aza, acpa_neg_df$aza): 'x' and 'y' must have at least 2 levels\n",
     "output_type": "error",
     "traceback": [
      "Error in fisher.test(acpa_pos_df$aza, acpa_neg_df$aza): 'x' and 'y' must have at least 2 levels\nTraceback:\n",
      "1. fisher.test(acpa_pos_df$aza, acpa_neg_df$aza)",
      "2. stop(\"'x' and 'y' must have at least 2 levels\")"
     ]
    }
   ],
   "source": [
    "res <- fisher.test(acpa_pos_df$aza, acpa_neg_df$aza)\n",
    "res"
   ]
  },
  {
   "cell_type": "code",
   "execution_count": 42,
   "id": "provincial-aside",
   "metadata": {
    "scrolled": true
   },
   "outputs": [
    {
     "ename": "ERROR",
     "evalue": "Error in fisher.test(acpa_pos_df$tofacitinib, acpa_neg_df$tofacitinib): 'x' and 'y' must have at least 2 levels\n",
     "output_type": "error",
     "traceback": [
      "Error in fisher.test(acpa_pos_df$tofacitinib, acpa_neg_df$tofacitinib): 'x' and 'y' must have at least 2 levels\nTraceback:\n",
      "1. fisher.test(acpa_pos_df$tofacitinib, acpa_neg_df$tofacitinib)",
      "2. stop(\"'x' and 'y' must have at least 2 levels\")"
     ]
    }
   ],
   "source": [
    "res <- fisher.test(acpa_pos_df$tofacitinib, acpa_neg_df$tofacitinib)\n",
    "res"
   ]
  },
  {
   "cell_type": "code",
   "execution_count": 43,
   "id": "arabic-filing",
   "metadata": {
    "scrolled": true
   },
   "outputs": [
    {
     "ename": "ERROR",
     "evalue": "Error in fisher.test(acpa_pos_df$infliximab, acpa_neg_df$infliximab): 'x' and 'y' must have at least 2 levels\n",
     "output_type": "error",
     "traceback": [
      "Error in fisher.test(acpa_pos_df$infliximab, acpa_neg_df$infliximab): 'x' and 'y' must have at least 2 levels\nTraceback:\n",
      "1. fisher.test(acpa_pos_df$infliximab, acpa_neg_df$infliximab)",
      "2. stop(\"'x' and 'y' must have at least 2 levels\")"
     ]
    }
   ],
   "source": [
    "res <- fisher.test(acpa_pos_df$infliximab, acpa_neg_df$infliximab)\n",
    "res"
   ]
  },
  {
   "cell_type": "code",
   "execution_count": 44,
   "id": "centered-magnitude",
   "metadata": {
    "scrolled": true
   },
   "outputs": [
    {
     "data": {
      "text/plain": [
       "\n",
       "\tFisher's Exact Test for Count Data\n",
       "\n",
       "data:  acpa_pos_df$etanercept and acpa_neg_df$etanercept\n",
       "p-value = 1\n",
       "alternative hypothesis: true odds ratio is not equal to 1\n",
       "95 percent confidence interval:\n",
       "    0.000 1485.714\n",
       "sample estimates:\n",
       "odds ratio \n",
       "         0 \n"
      ]
     },
     "metadata": {},
     "output_type": "display_data"
    }
   ],
   "source": [
    "res <- fisher.test(acpa_pos_df$etanercept, acpa_neg_df$etanercept)\n",
    "res"
   ]
  },
  {
   "cell_type": "code",
   "execution_count": 45,
   "id": "residential-sweden",
   "metadata": {},
   "outputs": [
    {
     "ename": "ERROR",
     "evalue": "Error in fisher.test(acpa_pos_df$adalimumab, acpa_neg_df$adalimumab): 'x' and 'y' must have at least 2 levels\n",
     "output_type": "error",
     "traceback": [
      "Error in fisher.test(acpa_pos_df$adalimumab, acpa_neg_df$adalimumab): 'x' and 'y' must have at least 2 levels\nTraceback:\n",
      "1. fisher.test(acpa_pos_df$adalimumab, acpa_neg_df$adalimumab)",
      "2. stop(\"'x' and 'y' must have at least 2 levels\")"
     ]
    }
   ],
   "source": [
    "res <- fisher.test(acpa_pos_df$adalimumab, acpa_neg_df$adalimumab)\n",
    "res"
   ]
  },
  {
   "cell_type": "code",
   "execution_count": 46,
   "id": "rental-station",
   "metadata": {},
   "outputs": [
    {
     "ename": "ERROR",
     "evalue": "Error in fisher.test(acpa_pos_df$golimumab, acpa_neg_df$golimumab): 'x' and 'y' must have at least 2 levels\n",
     "output_type": "error",
     "traceback": [
      "Error in fisher.test(acpa_pos_df$golimumab, acpa_neg_df$golimumab): 'x' and 'y' must have at least 2 levels\nTraceback:\n",
      "1. fisher.test(acpa_pos_df$golimumab, acpa_neg_df$golimumab)",
      "2. stop(\"'x' and 'y' must have at least 2 levels\")"
     ]
    }
   ],
   "source": [
    "res <- fisher.test(acpa_pos_df$golimumab, acpa_neg_df$golimumab)\n",
    "res"
   ]
  },
  {
   "cell_type": "code",
   "execution_count": 47,
   "id": "marine-junction",
   "metadata": {},
   "outputs": [
    {
     "data": {
      "text/plain": [
       "\n",
       "\tFisher's Exact Test for Count Data\n",
       "\n",
       "data:  acpa_pos_df$certolizumab and acpa_neg_df$certolizumab\n",
       "p-value = 0.1923\n",
       "alternative hypothesis: true odds ratio is not equal to 1\n",
       "95 percent confidence interval:\n",
       "   0.11166 931.29686\n",
       "sample estimates:\n",
       "odds ratio \n",
       "  10.24701 \n"
      ]
     },
     "metadata": {},
     "output_type": "display_data"
    }
   ],
   "source": [
    "res <- fisher.test(acpa_pos_df$certolizumab, acpa_neg_df$certolizumab)\n",
    "res"
   ]
  },
  {
   "cell_type": "code",
   "execution_count": 48,
   "id": "acceptable-diving",
   "metadata": {},
   "outputs": [
    {
     "ename": "ERROR",
     "evalue": "Error in fisher.test(acpa_pos_df$tocilizumab, acpa_neg_df$tocilizumab): 'x' and 'y' must have at least 2 levels\n",
     "output_type": "error",
     "traceback": [
      "Error in fisher.test(acpa_pos_df$tocilizumab, acpa_neg_df$tocilizumab): 'x' and 'y' must have at least 2 levels\nTraceback:\n",
      "1. fisher.test(acpa_pos_df$tocilizumab, acpa_neg_df$tocilizumab)",
      "2. stop(\"'x' and 'y' must have at least 2 levels\")"
     ]
    }
   ],
   "source": [
    "res <- fisher.test(acpa_pos_df$tocilizumab, acpa_neg_df$tocilizumab)\n",
    "res"
   ]
  },
  {
   "cell_type": "code",
   "execution_count": 49,
   "id": "fatal-relevance",
   "metadata": {
    "scrolled": true
   },
   "outputs": [
    {
     "data": {
      "text/plain": [
       "\n",
       "\tFisher's Exact Test for Count Data\n",
       "\n",
       "data:  acpa_pos_df$abatacept and acpa_neg_df$abatacept\n",
       "p-value = 1\n",
       "alternative hypothesis: true odds ratio is not equal to 1\n",
       "95 percent confidence interval:\n",
       "   0.0000 732.5301\n",
       "sample estimates:\n",
       "odds ratio \n",
       "         0 \n"
      ]
     },
     "metadata": {},
     "output_type": "display_data"
    }
   ],
   "source": [
    "res <- fisher.test(acpa_pos_df$abatacept, acpa_neg_df$abatacept)\n",
    "res"
   ]
  },
  {
   "cell_type": "code",
   "execution_count": 50,
   "id": "printable-thinking",
   "metadata": {},
   "outputs": [
    {
     "ename": "ERROR",
     "evalue": "Error in fisher.test(acpa_pos_df$rituximab, acpa_neg_df$rituximab): 'x' and 'y' must have at least 2 levels\n",
     "output_type": "error",
     "traceback": [
      "Error in fisher.test(acpa_pos_df$rituximab, acpa_neg_df$rituximab): 'x' and 'y' must have at least 2 levels\nTraceback:\n",
      "1. fisher.test(acpa_pos_df$rituximab, acpa_neg_df$rituximab)",
      "2. stop(\"'x' and 'y' must have at least 2 levels\")"
     ]
    }
   ],
   "source": [
    "res <- fisher.test(acpa_pos_df$rituximab, acpa_neg_df$rituximab)\n",
    "res"
   ]
  },
  {
   "cell_type": "code",
   "execution_count": 51,
   "id": "opposed-institution",
   "metadata": {},
   "outputs": [
    {
     "data": {
      "text/plain": [
       "\n",
       "\tFisher's Exact Test for Count Data\n",
       "\n",
       "data:  acpa_pos_df$pred and acpa_neg_df$pred\n",
       "p-value = 0.2108\n",
       "alternative hypothesis: true odds ratio is not equal to 1\n",
       "95 percent confidence interval:\n",
       "  0.4345017 19.8636028\n",
       "sample estimates:\n",
       "odds ratio \n",
       "  2.907601 \n"
      ]
     },
     "metadata": {},
     "output_type": "display_data"
    }
   ],
   "source": [
    "res <- fisher.test(acpa_pos_df$pred, acpa_neg_df$pred)\n",
    "res"
   ]
  },
  {
   "cell_type": "code",
   "execution_count": 52,
   "id": "addressed-fault",
   "metadata": {},
   "outputs": [
    {
     "data": {
      "text/plain": [
       "\n",
       "\tFisher's Exact Test for Count Data\n",
       "\n",
       "data:  acpa_pos_df$smoking and acpa_neg_df$smoking\n",
       "p-value = 1\n",
       "alternative hypothesis: true odds ratio is not equal to 1\n",
       "95 percent confidence interval:\n",
       "   0.0000 732.5301\n",
       "sample estimates:\n",
       "odds ratio \n",
       "         0 \n"
      ]
     },
     "metadata": {},
     "output_type": "display_data"
    }
   ],
   "source": [
    "res <- fisher.test(acpa_pos_df$smoking, acpa_neg_df$smoking)\n",
    "res"
   ]
  },
  {
   "cell_type": "code",
   "execution_count": 6,
   "id": "considered-worship",
   "metadata": {
    "scrolled": true
   },
   "outputs": [
    {
     "data": {
      "text/html": [
       "<style>\n",
       ".dl-inline {width: auto; margin:0; padding: 0}\n",
       ".dl-inline>dt, .dl-inline>dd {float: none; width: auto; display: inline-block}\n",
       ".dl-inline>dt::after {content: \":\\0020\"; padding-right: .5ex}\n",
       ".dl-inline>dt:not(:first-of-type) {padding-left: .5ex}\n",
       "</style><dl class=dl-inline><dt>(Intercept)</dt><dd>1.48975370891932e-25</dd><dt>smoking</dt><dd>0.28386025600895</dd></dl>\n"
      ],
      "text/latex": [
       "\\begin{description*}\n",
       "\\item[(Intercept)] 1.48975370891932e-25\n",
       "\\item[smoking] 0.28386025600895\n",
       "\\end{description*}\n"
      ],
      "text/markdown": [
       "(Intercept)\n",
       ":   1.48975370891932e-25smoking\n",
       ":   0.28386025600895\n",
       "\n"
      ],
      "text/plain": [
       " (Intercept)      smoking \n",
       "1.489754e-25 2.838603e-01 "
      ]
     },
     "metadata": {},
     "output_type": "display_data"
    },
    {
     "data": {
      "text/plain": [
       "\n",
       "Call:\n",
       "glm(formula = acpa ~ smoking, data = patient_df)\n",
       "\n",
       "Deviance Residuals: \n",
       "     Min        1Q    Median        3Q       Max  \n",
       "-1.05505  -1.05505  -0.05505   0.94495   1.28571  \n",
       "\n",
       "Coefficients:\n",
       "            Estimate Std. Error t value Pr(>|t|)    \n",
       "(Intercept)  1.05505    0.07774  13.571   <2e-16 ***\n",
       "smoking     -0.34076    0.31647  -1.077    0.284    \n",
       "---\n",
       "Signif. codes:  0 ‘***’ 0.001 ‘**’ 0.01 ‘*’ 0.05 ‘.’ 0.1 ‘ ’ 1\n",
       "\n",
       "(Dispersion parameter for gaussian family taken to be 0.658757)\n",
       "\n",
       "    Null deviance: 75.862  on 115  degrees of freedom\n",
       "Residual deviance: 75.098  on 114  degrees of freedom\n",
       "  (4 observations deleted due to missingness)\n",
       "AIC: 284.76\n",
       "\n",
       "Number of Fisher Scoring iterations: 2\n"
      ]
     },
     "metadata": {},
     "output_type": "display_data"
    }
   ],
   "source": [
    "fit <- glm(acpa ~ smoking , data = patient_df)\n",
    "coef(summary(fit))[,4]\n",
    "summary(fit)"
   ]
  },
  {
   "cell_type": "code",
   "execution_count": 13,
   "id": "focused-ideal",
   "metadata": {},
   "outputs": [
    {
     "data": {
      "text/plain": [
       "             Df Sum Sq Mean Sq F value   Pr(>F)    \n",
       "acpa          1  2.831  2.8311   24.72 2.36e-06 ***\n",
       "Residuals   114 13.057  0.1145                     \n",
       "---\n",
       "Signif. codes:  0 ‘***’ 0.001 ‘**’ 0.01 ‘*’ 0.05 ‘.’ 0.1 ‘ ’ 1"
      ]
     },
     "metadata": {},
     "output_type": "display_data"
    }
   ],
   "source": [
    "res <- aov(smoking ~ acpa, data = patient_df)\n",
    "summary(res)"
   ]
  },
  {
   "cell_type": "code",
   "execution_count": 11,
   "id": "embedded-cruise",
   "metadata": {},
   "outputs": [
    {
     "data": {
      "text/html": [
       "<table class=\"dataframe\">\n",
       "<caption>A data.frame: 116 × 3</caption>\n",
       "<thead>\n",
       "\t<tr><th scope=col>parentID</th><th scope=col>acpa</th><th scope=col>smoking</th></tr>\n",
       "\t<tr><th scope=col>&lt;dbl&gt;</th><th scope=col>&lt;int&gt;</th><th scope=col>&lt;int&gt;</th></tr>\n",
       "</thead>\n",
       "<tbody>\n",
       "\t<tr><td> 1614800626</td><td>2</td><td>1</td></tr>\n",
       "\t<tr><td> 1516903951</td><td>2</td><td>1</td></tr>\n",
       "\t<tr><td> 1418805487</td><td>2</td><td>0</td></tr>\n",
       "\t<tr><td> 1514103761</td><td>2</td><td>0</td></tr>\n",
       "\t<tr><td>20170004166</td><td>2</td><td>0</td></tr>\n",
       "\t<tr><td>19165027849</td><td>2</td><td>0</td></tr>\n",
       "\t<tr><td>19207030911</td><td>2</td><td>0</td></tr>\n",
       "\t<tr><td> 1415602485</td><td>2</td><td>0</td></tr>\n",
       "\t<tr><td> 1608302954</td><td>2</td><td>0</td></tr>\n",
       "\t<tr><td> 1426606170</td><td>2</td><td>0</td></tr>\n",
       "\t<tr><td> 1523605071</td><td>2</td><td>0</td></tr>\n",
       "\t<tr><td>19340021998</td><td>2</td><td>0</td></tr>\n",
       "\t<tr><td> 1616801206</td><td>2</td><td>0</td></tr>\n",
       "\t<tr><td> 1419105567</td><td>2</td><td>0</td></tr>\n",
       "\t<tr><td> 1424104362</td><td>2</td><td>0</td></tr>\n",
       "\t<tr><td>21076016580</td><td>2</td><td>0</td></tr>\n",
       "\t<tr><td> 1510601921</td><td>2</td><td>0</td></tr>\n",
       "\t<tr><td> 1414905833</td><td>2</td><td>0</td></tr>\n",
       "\t<tr><td> 1518105410</td><td>2</td><td>0</td></tr>\n",
       "\t<tr><td>20224006342</td><td>2</td><td>0</td></tr>\n",
       "\t<tr><td>19120000023</td><td>2</td><td>0</td></tr>\n",
       "\t<tr><td> 1532904637</td><td>2</td><td>0</td></tr>\n",
       "\t<tr><td> 1509605829</td><td>2</td><td>0</td></tr>\n",
       "\t<tr><td> 1620005122</td><td>2</td><td>0</td></tr>\n",
       "\t<tr><td> 1519405505</td><td>2</td><td>0</td></tr>\n",
       "\t<tr><td> 1611005150</td><td>2</td><td>0</td></tr>\n",
       "\t<tr><td> 1521605352</td><td>2</td><td>0</td></tr>\n",
       "\t<tr><td>20079004723</td><td>2</td><td>0</td></tr>\n",
       "\t<tr><td> 1421004617</td><td>2</td><td>0</td></tr>\n",
       "\t<tr><td>19094026780</td><td>2</td><td>0</td></tr>\n",
       "\t<tr><td>⋮</td><td>⋮</td><td>⋮</td></tr>\n",
       "\t<tr><td>1419200774</td><td>0</td><td>1</td></tr>\n",
       "\t<tr><td>1323905189</td><td>0</td><td>1</td></tr>\n",
       "\t<tr><td>1403505741</td><td>0</td><td>1</td></tr>\n",
       "\t<tr><td>1408001727</td><td>0</td><td>1</td></tr>\n",
       "\t<tr><td>1321104329</td><td>0</td><td>1</td></tr>\n",
       "\t<tr><td>1233301450</td><td>0</td><td>1</td></tr>\n",
       "\t<tr><td>1331806367</td><td>0</td><td>1</td></tr>\n",
       "\t<tr><td>1330500471</td><td>0</td><td>1</td></tr>\n",
       "\t<tr><td>1418907189</td><td>0</td><td>1</td></tr>\n",
       "\t<tr><td>1322100420</td><td>0</td><td>1</td></tr>\n",
       "\t<tr><td>1402101782</td><td>0</td><td>0</td></tr>\n",
       "\t<tr><td>1431803035</td><td>0</td><td>0</td></tr>\n",
       "\t<tr><td>1321207870</td><td>0</td><td>0</td></tr>\n",
       "\t<tr><td>1500903736</td><td>0</td><td>0</td></tr>\n",
       "\t<tr><td>1315408885</td><td>0</td><td>0</td></tr>\n",
       "\t<tr><td>1420903293</td><td>0</td><td>0</td></tr>\n",
       "\t<tr><td>1312903469</td><td>0</td><td>0</td></tr>\n",
       "\t<tr><td>1421604010</td><td>0</td><td>0</td></tr>\n",
       "\t<tr><td>1405504326</td><td>0</td><td>0</td></tr>\n",
       "\t<tr><td>1507502135</td><td>0</td><td>0</td></tr>\n",
       "\t<tr><td>1314406698</td><td>0</td><td>0</td></tr>\n",
       "\t<tr><td>1429504222</td><td>0</td><td>0</td></tr>\n",
       "\t<tr><td>1405109225</td><td>0</td><td>0</td></tr>\n",
       "\t<tr><td>1324604997</td><td>0</td><td>0</td></tr>\n",
       "\t<tr><td>1418303767</td><td>0</td><td>0</td></tr>\n",
       "\t<tr><td>1324700292</td><td>0</td><td>0</td></tr>\n",
       "\t<tr><td>1512506677</td><td>0</td><td>0</td></tr>\n",
       "\t<tr><td>1408402873</td><td>0</td><td>0</td></tr>\n",
       "\t<tr><td>1312701873</td><td>0</td><td>0</td></tr>\n",
       "\t<tr><td>1403602272</td><td>0</td><td>0</td></tr>\n",
       "</tbody>\n",
       "</table>\n"
      ],
      "text/latex": [
       "A data.frame: 116 × 3\n",
       "\\begin{tabular}{lll}\n",
       " parentID & acpa & smoking\\\\\n",
       " <dbl> & <int> & <int>\\\\\n",
       "\\hline\n",
       "\t  1614800626 & 2 & 1\\\\\n",
       "\t  1516903951 & 2 & 1\\\\\n",
       "\t  1418805487 & 2 & 0\\\\\n",
       "\t  1514103761 & 2 & 0\\\\\n",
       "\t 20170004166 & 2 & 0\\\\\n",
       "\t 19165027849 & 2 & 0\\\\\n",
       "\t 19207030911 & 2 & 0\\\\\n",
       "\t  1415602485 & 2 & 0\\\\\n",
       "\t  1608302954 & 2 & 0\\\\\n",
       "\t  1426606170 & 2 & 0\\\\\n",
       "\t  1523605071 & 2 & 0\\\\\n",
       "\t 19340021998 & 2 & 0\\\\\n",
       "\t  1616801206 & 2 & 0\\\\\n",
       "\t  1419105567 & 2 & 0\\\\\n",
       "\t  1424104362 & 2 & 0\\\\\n",
       "\t 21076016580 & 2 & 0\\\\\n",
       "\t  1510601921 & 2 & 0\\\\\n",
       "\t  1414905833 & 2 & 0\\\\\n",
       "\t  1518105410 & 2 & 0\\\\\n",
       "\t 20224006342 & 2 & 0\\\\\n",
       "\t 19120000023 & 2 & 0\\\\\n",
       "\t  1532904637 & 2 & 0\\\\\n",
       "\t  1509605829 & 2 & 0\\\\\n",
       "\t  1620005122 & 2 & 0\\\\\n",
       "\t  1519405505 & 2 & 0\\\\\n",
       "\t  1611005150 & 2 & 0\\\\\n",
       "\t  1521605352 & 2 & 0\\\\\n",
       "\t 20079004723 & 2 & 0\\\\\n",
       "\t  1421004617 & 2 & 0\\\\\n",
       "\t 19094026780 & 2 & 0\\\\\n",
       "\t ⋮ & ⋮ & ⋮\\\\\n",
       "\t 1419200774 & 0 & 1\\\\\n",
       "\t 1323905189 & 0 & 1\\\\\n",
       "\t 1403505741 & 0 & 1\\\\\n",
       "\t 1408001727 & 0 & 1\\\\\n",
       "\t 1321104329 & 0 & 1\\\\\n",
       "\t 1233301450 & 0 & 1\\\\\n",
       "\t 1331806367 & 0 & 1\\\\\n",
       "\t 1330500471 & 0 & 1\\\\\n",
       "\t 1418907189 & 0 & 1\\\\\n",
       "\t 1322100420 & 0 & 1\\\\\n",
       "\t 1402101782 & 0 & 0\\\\\n",
       "\t 1431803035 & 0 & 0\\\\\n",
       "\t 1321207870 & 0 & 0\\\\\n",
       "\t 1500903736 & 0 & 0\\\\\n",
       "\t 1315408885 & 0 & 0\\\\\n",
       "\t 1420903293 & 0 & 0\\\\\n",
       "\t 1312903469 & 0 & 0\\\\\n",
       "\t 1421604010 & 0 & 0\\\\\n",
       "\t 1405504326 & 0 & 0\\\\\n",
       "\t 1507502135 & 0 & 0\\\\\n",
       "\t 1314406698 & 0 & 0\\\\\n",
       "\t 1429504222 & 0 & 0\\\\\n",
       "\t 1405109225 & 0 & 0\\\\\n",
       "\t 1324604997 & 0 & 0\\\\\n",
       "\t 1418303767 & 0 & 0\\\\\n",
       "\t 1324700292 & 0 & 0\\\\\n",
       "\t 1512506677 & 0 & 0\\\\\n",
       "\t 1408402873 & 0 & 0\\\\\n",
       "\t 1312701873 & 0 & 0\\\\\n",
       "\t 1403602272 & 0 & 0\\\\\n",
       "\\end{tabular}\n"
      ],
      "text/markdown": [
       "\n",
       "A data.frame: 116 × 3\n",
       "\n",
       "| parentID &lt;dbl&gt; | acpa &lt;int&gt; | smoking &lt;int&gt; |\n",
       "|---|---|---|\n",
       "|  1614800626 | 2 | 1 |\n",
       "|  1516903951 | 2 | 1 |\n",
       "|  1418805487 | 2 | 0 |\n",
       "|  1514103761 | 2 | 0 |\n",
       "| 20170004166 | 2 | 0 |\n",
       "| 19165027849 | 2 | 0 |\n",
       "| 19207030911 | 2 | 0 |\n",
       "|  1415602485 | 2 | 0 |\n",
       "|  1608302954 | 2 | 0 |\n",
       "|  1426606170 | 2 | 0 |\n",
       "|  1523605071 | 2 | 0 |\n",
       "| 19340021998 | 2 | 0 |\n",
       "|  1616801206 | 2 | 0 |\n",
       "|  1419105567 | 2 | 0 |\n",
       "|  1424104362 | 2 | 0 |\n",
       "| 21076016580 | 2 | 0 |\n",
       "|  1510601921 | 2 | 0 |\n",
       "|  1414905833 | 2 | 0 |\n",
       "|  1518105410 | 2 | 0 |\n",
       "| 20224006342 | 2 | 0 |\n",
       "| 19120000023 | 2 | 0 |\n",
       "|  1532904637 | 2 | 0 |\n",
       "|  1509605829 | 2 | 0 |\n",
       "|  1620005122 | 2 | 0 |\n",
       "|  1519405505 | 2 | 0 |\n",
       "|  1611005150 | 2 | 0 |\n",
       "|  1521605352 | 2 | 0 |\n",
       "| 20079004723 | 2 | 0 |\n",
       "|  1421004617 | 2 | 0 |\n",
       "| 19094026780 | 2 | 0 |\n",
       "| ⋮ | ⋮ | ⋮ |\n",
       "| 1419200774 | 0 | 1 |\n",
       "| 1323905189 | 0 | 1 |\n",
       "| 1403505741 | 0 | 1 |\n",
       "| 1408001727 | 0 | 1 |\n",
       "| 1321104329 | 0 | 1 |\n",
       "| 1233301450 | 0 | 1 |\n",
       "| 1331806367 | 0 | 1 |\n",
       "| 1330500471 | 0 | 1 |\n",
       "| 1418907189 | 0 | 1 |\n",
       "| 1322100420 | 0 | 1 |\n",
       "| 1402101782 | 0 | 0 |\n",
       "| 1431803035 | 0 | 0 |\n",
       "| 1321207870 | 0 | 0 |\n",
       "| 1500903736 | 0 | 0 |\n",
       "| 1315408885 | 0 | 0 |\n",
       "| 1420903293 | 0 | 0 |\n",
       "| 1312903469 | 0 | 0 |\n",
       "| 1421604010 | 0 | 0 |\n",
       "| 1405504326 | 0 | 0 |\n",
       "| 1507502135 | 0 | 0 |\n",
       "| 1314406698 | 0 | 0 |\n",
       "| 1429504222 | 0 | 0 |\n",
       "| 1405109225 | 0 | 0 |\n",
       "| 1324604997 | 0 | 0 |\n",
       "| 1418303767 | 0 | 0 |\n",
       "| 1324700292 | 0 | 0 |\n",
       "| 1512506677 | 0 | 0 |\n",
       "| 1408402873 | 0 | 0 |\n",
       "| 1312701873 | 0 | 0 |\n",
       "| 1403602272 | 0 | 0 |\n",
       "\n"
      ],
      "text/plain": [
       "    parentID    acpa smoking\n",
       "1    1614800626 2    1      \n",
       "2    1516903951 2    1      \n",
       "3    1418805487 2    0      \n",
       "4    1514103761 2    0      \n",
       "5   20170004166 2    0      \n",
       "6   19165027849 2    0      \n",
       "7   19207030911 2    0      \n",
       "8    1415602485 2    0      \n",
       "9    1608302954 2    0      \n",
       "10   1426606170 2    0      \n",
       "11   1523605071 2    0      \n",
       "12  19340021998 2    0      \n",
       "13   1616801206 2    0      \n",
       "14   1419105567 2    0      \n",
       "15   1424104362 2    0      \n",
       "16  21076016580 2    0      \n",
       "17   1510601921 2    0      \n",
       "18   1414905833 2    0      \n",
       "19   1518105410 2    0      \n",
       "20  20224006342 2    0      \n",
       "21  19120000023 2    0      \n",
       "22   1532904637 2    0      \n",
       "23   1509605829 2    0      \n",
       "24   1620005122 2    0      \n",
       "25   1519405505 2    0      \n",
       "26   1611005150 2    0      \n",
       "27   1521605352 2    0      \n",
       "28  20079004723 2    0      \n",
       "29   1421004617 2    0      \n",
       "30  19094026780 2    0      \n",
       "⋮   ⋮           ⋮    ⋮      \n",
       "87  1419200774  0    1      \n",
       "88  1323905189  0    1      \n",
       "89  1403505741  0    1      \n",
       "90  1408001727  0    1      \n",
       "91  1321104329  0    1      \n",
       "92  1233301450  0    1      \n",
       "93  1331806367  0    1      \n",
       "94  1330500471  0    1      \n",
       "95  1418907189  0    1      \n",
       "96  1322100420  0    1      \n",
       "97  1402101782  0    0      \n",
       "98  1431803035  0    0      \n",
       "99  1321207870  0    0      \n",
       "100 1500903736  0    0      \n",
       "101 1315408885  0    0      \n",
       "102 1420903293  0    0      \n",
       "103 1312903469  0    0      \n",
       "104 1421604010  0    0      \n",
       "105 1405504326  0    0      \n",
       "106 1507502135  0    0      \n",
       "107 1314406698  0    0      \n",
       "108 1429504222  0    0      \n",
       "109 1405109225  0    0      \n",
       "110 1324604997  0    0      \n",
       "111 1418303767  0    0      \n",
       "112 1324700292  0    0      \n",
       "113 1512506677  0    0      \n",
       "114 1408402873  0    0      \n",
       "115 1312701873  0    0      \n",
       "116 1403602272  0    0      "
      ]
     },
     "metadata": {},
     "output_type": "display_data"
    }
   ],
   "source": [
    "patient_df"
   ]
  },
  {
   "cell_type": "code",
   "execution_count": null,
   "id": "comparable-theme",
   "metadata": {},
   "outputs": [],
   "source": []
  }
 ],
 "metadata": {
  "kernelspec": {
   "display_name": "R",
   "language": "R",
   "name": "ir"
  },
  "language_info": {
   "codemirror_mode": "r",
   "file_extension": ".r",
   "mimetype": "text/x-r-source",
   "name": "R",
   "pygments_lexer": "r",
   "version": "4.0.3"
  }
 },
 "nbformat": 4,
 "nbformat_minor": 5
}
