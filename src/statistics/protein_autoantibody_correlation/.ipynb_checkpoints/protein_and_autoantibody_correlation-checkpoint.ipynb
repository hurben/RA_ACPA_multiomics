{
 "cells": [
  {
   "cell_type": "code",
   "execution_count": 27,
   "id": "artistic-arbor",
   "metadata": {},
   "outputs": [],
   "source": [
    "import pandas as pd\n",
    "import pandas as pd\n",
    "from scipy.stats import spearmanr\n",
    "import seaborn as sns\n",
    "from pylab import savefig\n",
    "import matplotlib.pyplot as plt\n",
    "from scipy import stats\n",
    "import statistics\n",
    "import numpy as np\n",
    "\n",
    "\n",
    "def make_profile_dict(data_file):\n",
    "    data_dict = {}\n",
    "\n",
    "    data_df = pd.read_csv(data_file, sep=\"\\t\", index_col =0)\n",
    "    r, c = data_df.shape\n",
    "\n",
    "    feature_list = list(data_df.index.values)\n",
    "    patientID_list = list(data_df.columns.values)\n",
    "\n",
    "    for i in range (r):\n",
    "        feature = feature_list[i]\n",
    "        for j in range(c):\n",
    "            patientID = patientID_list[j]\n",
    "            value = data_df.iloc[i][j]\n",
    "            data_dict[feature, patientID] = value     \n",
    "    \n",
    "    return data_dict, feature_list, patientID_list"
   ]
  },
  {
   "cell_type": "code",
   "execution_count": 25,
   "id": "numerical-village",
   "metadata": {},
   "outputs": [],
   "source": [
    "\n",
    "p_file = '../../../preprocessed_data/proteomics/somascan_anml.T.v2.tsv'\n",
    "aa_file = '../../../preprocessed_data/autoantibody/sengenics_qnorm_data.v2.tsv'\n",
    "patient_file = '../../../preprocessed_data/meta/patient_info.ML_ready.tsv'\n",
    "\n",
    "aa_dict, aa_feature_list, patientID_list = make_profile_dict(aa_file)\n",
    "p_dict, p_feature_list, patientID_list = make_profile_dict(p_file)"
   ]
  },
  {
   "cell_type": "code",
   "execution_count": 35,
   "id": "double-progress",
   "metadata": {},
   "outputs": [],
   "source": [
    "#calculate spearman correlation between protein dict and autoantibody dict\n",
    "correlation_dict = {}\n",
    "for p_feature in p_feature_list:\n",
    "    p_feature_without_barcode = p_feature.split('_')[0]\n",
    "    \n",
    "    if p_feature_without_barcode in aa_feature_list:\n",
    "        p_value_list = []\n",
    "        aa_value_list = []\n",
    "\n",
    "        for patientID in patientID_list:\n",
    "            value = p_dict[p_feature, patientID]\n",
    "            p_value_list.append(value)\n",
    "            \n",
    "            value = aa_dict[p_feature_without_barcode, patientID]\n",
    "            aa_value_list.append(value)\n",
    "\n",
    "            corr, pval = stats.spearmanr(p_value_list, aa_value_list, nan_policy=\"omit\")\n",
    "            if pval < 0.01:\n",
    "                correlation_dict[p_feature] = [corr, pval]\n",
    "\n",
    "#if significant make scatter plot"
   ]
  },
  {
   "cell_type": "code",
   "execution_count": 36,
   "id": "brown-reminder",
   "metadata": {},
   "outputs": [
    {
     "data": {
      "text/plain": [
       "385"
      ]
     },
     "execution_count": 36,
     "metadata": {},
     "output_type": "execute_result"
    }
   ],
   "source": [
    "len(list(correlation_dict.keys()))"
   ]
  },
  {
   "cell_type": "code",
   "execution_count": 108,
   "id": "sealed-jackson",
   "metadata": {},
   "outputs": [],
   "source": []
  },
  {
   "cell_type": "code",
   "execution_count": 112,
   "id": "recorded-intermediate",
   "metadata": {},
   "outputs": [],
   "source": [
    "patient_df = pd.read_csv(patient_file, sep=\"\\t\", index_col =0)\n",
    "patient_df = patient_df.T"
   ]
  },
  {
   "cell_type": "code",
   "execution_count": 114,
   "id": "blond-buffalo",
   "metadata": {},
   "outputs": [],
   "source": [
    "p_sub_df.to_csv('../../../analysis/statistics/protein_metabolite_correlation/pyruvate_and_protein.tsv', sep=\"\\t\")"
   ]
  },
  {
   "cell_type": "code",
   "execution_count": null,
   "id": "plain-praise",
   "metadata": {},
   "outputs": [],
   "source": []
  },
  {
   "cell_type": "code",
   "execution_count": null,
   "id": "extraordinary-cannon",
   "metadata": {},
   "outputs": [],
   "source": []
  }
 ],
 "metadata": {
  "kernelspec": {
   "display_name": "Python 3",
   "language": "python",
   "name": "python3"
  },
  "language_info": {
   "codemirror_mode": {
    "name": "ipython",
    "version": 3
   },
   "file_extension": ".py",
   "mimetype": "text/x-python",
   "name": "python",
   "nbconvert_exporter": "python",
   "pygments_lexer": "ipython3",
   "version": "3.9.1"
  }
 },
 "nbformat": 4,
 "nbformat_minor": 5
}
