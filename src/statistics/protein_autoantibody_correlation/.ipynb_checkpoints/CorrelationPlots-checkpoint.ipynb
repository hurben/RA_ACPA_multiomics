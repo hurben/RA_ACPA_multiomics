{
 "cells": [
  {
   "cell_type": "code",
   "execution_count": 13,
   "id": "experimental-freeware",
   "metadata": {},
   "outputs": [],
   "source": [
    "import pandas as pd\n",
    "from scipy.stats import spearmanr\n",
    "import seaborn as sns\n",
    "from pylab import savefig\n",
    "import matplotlib.pyplot as plt\n",
    "\n",
    "import matplotlib as mpl\n",
    "mpl.rcParams['pdf.fonttype'] = 42"
   ]
  },
  {
   "cell_type": "code",
   "execution_count": 14,
   "id": "unlike-grounds",
   "metadata": {},
   "outputs": [],
   "source": [
    "input_file = '../../../analysis/statistics/protein_metabolite_correlation/lactate_and_protein.tsv'\n",
    "input_df = pd.read_csv(input_file,sep=\"\\t\",index_col = 0)\n",
    "column_list = list(input_df.columns.values)\n",
    "r, c = input_df.shape\n",
    "\n",
    "ra_df = input_df[input_df[\"acpa\"] != 0]\n",
    "acpa_pos_df = input_df[input_df[\"acpa\"].isin([1,0])]\n",
    "acpa_neg_df = input_df[input_df[\"acpa\"].isin([2,0])]"
   ]
  },
  {
   "cell_type": "code",
   "execution_count": 15,
   "id": "continent-sullivan",
   "metadata": {
    "scrolled": true
   },
   "outputs": [
    {
     "name": "stdout",
     "output_type": "stream",
     "text": [
      "STAT3_10346-5\n",
      "0.24090561844572533 0.008036742767649237\n",
      "STAT3_10354-57\n",
      "0.20728522814084308 0.023107008547982113\n",
      "PGAM2_15524-30\n",
      "0.3329814570456281 0.0002023410058805584\n",
      "PGAM1_3896-5\n",
      "0.3213625946246267 0.0003450151031037825\n"
     ]
    },
    {
     "data": {
      "text/plain": [
       "<Figure size 432x288 with 0 Axes>"
      ]
     },
     "metadata": {},
     "output_type": "display_data"
    }
   ],
   "source": [
    "for i in range(4):\n",
    "    print (column_list[i])\n",
    "    corr, pvalue = spearmanr(list(input_df[column_list[i]]), list(input_df[\"lactate\"]))\n",
    "    print (corr, pvalue)\n",
    "    \n",
    "    output_pdf = '../../../analysis/statistics/protein_metabolite_correlation/%s.pdf' % column_list[i]\n",
    "    \n",
    "    output_plot = sns.regplot(x= column_list[i], y=\"lactate\", ci=95, scatter_kws={\"color\": \"black\"}, data= input_df)\n",
    "    output_plot.set(ylabel='lactate', xlabel='Normalized RFU')\n",
    "    output_plot.set_title('%s\\n corr: %s pval: %s' % (column_list[i] ,round(corr,3), round(pvalue, 3)))\n",
    "    output_plot.figure.savefig(output_pdf)\n",
    "    output_plot.get_figure().clf()"
   ]
  },
  {
   "cell_type": "code",
   "execution_count": 16,
   "id": "alone-immune",
   "metadata": {},
   "outputs": [
    {
     "name": "stdout",
     "output_type": "stream",
     "text": [
      "STAT3_10346-5\n",
      "0.10405532114392875 0.35833204243115424\n",
      "STAT3_10354-57\n",
      "0.07709798406000938 0.4966658946141589\n",
      "PGAM2_15524-30\n",
      "0.17097984060009377 0.12941526267785197\n",
      "PGAM1_3896-5\n",
      "0.08708391936240038 0.442425198581178\n"
     ]
    },
    {
     "data": {
      "text/plain": [
       "<Figure size 432x288 with 0 Axes>"
      ]
     },
     "metadata": {},
     "output_type": "display_data"
    }
   ],
   "source": [
    "for i in range(4):\n",
    "    print (column_list[i])\n",
    "    corr, pvalue = spearmanr(list(ra_df[column_list[i]]), list(ra_df[\"lactate\"]))\n",
    "    print (corr, pvalue)\n",
    "    \n",
    "    output_pdf = '../../../analysis/statistics/protein_metabolite_correlation/%s_ra.pdf' % column_list[i]\n",
    "    \n",
    "    output_plot = sns.regplot(x= column_list[i], y=\"lactate\", ci=95,scatter_kws={\"color\": \"black\"}, data= ra_df)\n",
    "    output_plot.set(ylabel='lactate', xlabel='Normalized RFU')\n",
    "    output_plot.set_title('%s\\n corr: %s pval: %s' % (column_list[i] ,round(corr,3), round(pvalue, 3)))\n",
    "    output_plot.figure.savefig(output_pdf)\n",
    "    output_plot.get_figure().clf()"
   ]
  },
  {
   "cell_type": "code",
   "execution_count": 17,
   "id": "consolidated-robin",
   "metadata": {},
   "outputs": [
    {
     "name": "stdout",
     "output_type": "stream",
     "text": [
      "STAT3_10346-5\n",
      "0.2767229254571027 0.012960213453837365\n",
      "STAT3_10354-57\n",
      "0.25632911392405067 0.021728367380238114\n",
      "PGAM2_15524-30\n",
      "0.38926394749179566 0.00035870214783802326\n",
      "PGAM1_3896-5\n",
      "0.4245897796530709 8.661854689828386e-05\n"
     ]
    },
    {
     "data": {
      "text/plain": [
       "<Figure size 432x288 with 0 Axes>"
      ]
     },
     "metadata": {},
     "output_type": "display_data"
    }
   ],
   "source": [
    "for i in range(4):\n",
    "    print (column_list[i])\n",
    "    corr, pvalue = spearmanr(list(acpa_pos_df[column_list[i]]), list(acpa_pos_df[\"lactate\"]))\n",
    "    print (corr, pvalue)\n",
    "    \n",
    "    output_pdf = '../../../analysis/statistics/protein_metabolite_correlation/%s_acpa_pos.pdf' % column_list[i]\n",
    "    \n",
    "    output_plot = sns.regplot(x= column_list[i], y=\"lactate\", ci=95,scatter_kws={\"color\": \"black\"}, data= acpa_pos_df)\n",
    "    output_plot.set(ylabel='lactate', xlabel='Normalized RFU')\n",
    "    output_plot.set_title('%s\\n corr: %s pval: %s' % (column_list[i] ,round(corr,3), round(pvalue, 3)))\n",
    "    output_plot.figure.savefig(output_pdf)\n",
    "    output_plot.get_figure().clf()"
   ]
  },
  {
   "cell_type": "code",
   "execution_count": 18,
   "id": "covered-canon",
   "metadata": {},
   "outputs": [
    {
     "name": "stdout",
     "output_type": "stream",
     "text": [
      "STAT3_10346-5\n",
      "0.2994842944210033 0.006959963977045351\n",
      "STAT3_10354-57\n",
      "0.25560243788091896 0.02211707836652035\n",
      "PGAM2_15524-30\n",
      "0.3740740740740741 0.0006304721315142566\n",
      "PGAM1_3896-5\n",
      "0.3584622597280825 0.001094841002632769\n"
     ]
    },
    {
     "data": {
      "text/plain": [
       "<Figure size 432x288 with 0 Axes>"
      ]
     },
     "metadata": {},
     "output_type": "display_data"
    }
   ],
   "source": [
    "for i in range(4):\n",
    "    print (column_list[i])\n",
    "    corr, pvalue = spearmanr(list(acpa_neg_df[column_list[i]]), list(acpa_neg_df[\"lactate\"]))\n",
    "    print (corr, pvalue)\n",
    "    \n",
    "    output_pdf = '../../../analysis/statistics/protein_metabolite_correlation/%s_acpa_neg.pdf' % column_list[i]\n",
    "    \n",
    "    output_plot = sns.regplot(x= column_list[i], y=\"lactate\", ci=95,scatter_kws={\"color\": \"black\"}, data= acpa_neg_df)\n",
    "    output_plot.set(ylabel='lactate', xlabel='Normalized RFU')\n",
    "    output_plot.set_title('%s\\n corr: %s pval: %s' % (column_list[i] ,round(corr,3), round(pvalue, 3)))\n",
    "    output_plot.figure.savefig(output_pdf)\n",
    "    output_plot.get_figure().clf()"
   ]
  },
  {
   "cell_type": "code",
   "execution_count": null,
   "id": "grave-invasion",
   "metadata": {},
   "outputs": [],
   "source": []
  }
 ],
 "metadata": {
  "kernelspec": {
   "display_name": "Python 3",
   "language": "python",
   "name": "python3"
  },
  "language_info": {
   "codemirror_mode": {
    "name": "ipython",
    "version": 3
   },
   "file_extension": ".py",
   "mimetype": "text/x-python",
   "name": "python",
   "nbconvert_exporter": "python",
   "pygments_lexer": "ipython3",
   "version": "3.9.1"
  }
 },
 "nbformat": 4,
 "nbformat_minor": 5
}
