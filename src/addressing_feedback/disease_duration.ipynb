{
 "cells": [
  {
   "cell_type": "code",
   "execution_count": 1,
   "id": "fcb7ad15-cf63-4a63-91d9-2fa6b58e50a8",
   "metadata": {},
   "outputs": [],
   "source": [
    "#disease_duration   24.02.05\n",
    "#\n",
    "#Perform Kruskal–Wallis test to see the difference between ACPA– and ACPA+ RA.\n",
    "#EAC (Early arthritis cohort = disease duration = 50 day)\n",
    "#ACPA+ RA = 1\n",
    "#ACPA– RA = 2\n",
    "\n",
    "#This analysis was done after recieving internal review from the Drs.\n",
    "#And will be inserted into Table 1\n",
    "\n",
    "import pandas as pd\n",
    "import re\n",
    "from datetime import datetime\n",
    "import numpy as np"
   ]
  },
  {
   "cell_type": "code",
   "execution_count": 51,
   "id": "0e0faf64-0023-4f93-b491-5204eac3b9a0",
   "metadata": {},
   "outputs": [],
   "source": [
    "def get_disease_duration(patient_ID, all_visit_df):\n",
    "\n",
    "    temp_df = all_visit_df[all_visit_df[\"Study ID\"] == patient_ID]\n",
    "    diagnosis_date = temp_df[\"Date of RA physician diagnosis\"].tolist()[0]\n",
    "    visit_date = temp_df[\"Date of study visit\"].tolist()[0]\n",
    "\n",
    "    date_format = \"%m/%d/%y\"\n",
    "    \n",
    "    diagnosis_date = datetime.strptime(diagnosis_date, date_format)\n",
    "    visit_date = datetime.strptime(visit_date, date_format)\n",
    "    \n",
    "    delta_day = (visit_date - diagnosis_date).days\n",
    "\n",
    "    return delta_day\n",
    "\n",
    "def report_disease_duration_statistics(day_list):\n",
    "    average = np.mean(day_list)\n",
    "    \n",
    "    # Calculate standard deviation\n",
    "    std_dev = np.std(day_list)\n",
    "    \n",
    "    # Calculate interquartile range (IQR)\n",
    "    Q1 = np.percentile(day_list, 25)\n",
    "    Q3 = np.percentile(day_list, 75)\n",
    "\n",
    "    print (average, \"+-\", std_dev)\n",
    "    print (Q1, \"-\", Q3)\n",
    "    print (min(day_list), max(day_list))\n",
    "        "
   ]
  },
  {
   "cell_type": "code",
   "execution_count": 52,
   "id": "718bd27e-4b65-4b53-bc76-15e440feb5d7",
   "metadata": {},
   "outputs": [],
   "source": [
    "manifest_file = \"../../analysis_addressing_feedback/disease_duration/data/sample_manifest.csv\"\n",
    "all_visit_file = \"../../analysis_addressing_feedback/disease_duration/data/Rheum_Biobank_All_Visits.csv\"\n",
    "\n",
    "manifest_df = pd.read_csv(manifest_file)\n",
    "r, c = manifest_df.shape\n",
    "\n",
    "all_visit_df = pd.read_csv(all_visit_file)"
   ]
  },
  {
   "cell_type": "code",
   "execution_count": 54,
   "id": "555153b5-dca5-49ec-bd68-c0e1d8e38eef",
   "metadata": {},
   "outputs": [
    {
     "name": "stdout",
     "output_type": "stream",
     "text": [
      "0.2684931506849315\n",
      "0.5424657534246575\n",
      "2.3698630136986303\n",
      "6.4301369863013695\n",
      "8.668493150684931\n",
      "3.2465753424657535\n",
      "4.063013698630137\n",
      "7.909589041095891\n",
      "0.8410958904109589\n",
      "0.5753424657534246\n",
      "0.7232876712328767\n",
      "0.136986301369863\n",
      "3.180821917808219\n",
      "5.054794520547945\n",
      "3.0876712328767124\n",
      "0.136986301369863\n",
      "8.027397260273972\n",
      "0.7835616438356164\n",
      "0.6904109589041096\n",
      "0.136986301369863\n",
      "1.5726027397260274\n",
      "1.0054794520547945\n",
      "9.463013698630137\n",
      "4.794520547945205\n",
      "4.750684931506849\n",
      "5.273972602739726\n",
      "2.0931506849315067\n",
      "2.408219178082192\n",
      "0.9863013698630136\n",
      "3.106849315068493\n",
      "4.2\n",
      "9.306849315068494\n",
      "8.164383561643836\n",
      "3.1945205479452055\n",
      "4.471232876712329\n",
      "5.964383561643835\n",
      "2.1315068493150684\n",
      "7.531506849315068\n",
      "5.635616438356164\n",
      "0.7671232876712328\n",
      "3.1890410958904107\n",
      "7.052054794520548\n",
      "1.441095890410959\n",
      "4.375342465753425\n",
      "0.9753424657534246\n",
      "1.9123287671232876\n",
      "7.134246575342465\n",
      "0.136986301369863\n",
      "3.8054794520547945\n",
      "3.989041095890411\n",
      "7.994520547945205\n",
      "2.0657534246575344\n",
      "0.16986301369863013\n",
      "0.136986301369863\n",
      "0.136986301369863\n",
      "0.136986301369863\n",
      "0.136986301369863\n",
      "0.136986301369863\n",
      "0.136986301369863\n",
      "4.063013698630137\n",
      "6.065753424657534\n",
      "0.136986301369863\n",
      "2.3972602739726026\n",
      "0.136986301369863\n",
      "0.136986301369863\n",
      "0.136986301369863\n",
      "0.136986301369863\n",
      "0.136986301369863\n",
      "3.841095890410959\n",
      "4.47945205479452\n",
      "0.136986301369863\n",
      "0.136986301369863\n",
      "0.136986301369863\n",
      "0.947945205479452\n",
      "0.136986301369863\n",
      "0.136986301369863\n",
      "0.0\n",
      "0.136986301369863\n",
      "4.076712328767123\n",
      "0.136986301369863\n"
     ]
    }
   ],
   "source": [
    "count_missing_info = 0\n",
    "data_dict = {}\n",
    "\n",
    "for i in range(r):\n",
    "    sample_ID = int(manifest_df[\"Sample Id\"][i])\n",
    "    ra_status = manifest_df[\"RA_status\"][i]\n",
    "    temp_patient_ID = manifest_df[\"Patient Ids\"][i]\n",
    "    study_info = manifest_df[\"Study\"][i]\n",
    "    ext_study_ID = manifest_df[\"External Participant Id\"][i]\n",
    "\n",
    "    # print (temp_patient_ID)\n",
    "    # print (ext_study_ID)\n",
    "\n",
    "    if ra_status != \"control\":\n",
    "        try: \n",
    "            # Extract only the matched part for elements containing the pattern\n",
    "            pattern = r'RHB\\.RAM\\.\\d{4}\\.PT'\n",
    "            matched_pattern = re.search(pattern, temp_patient_ID)\n",
    "            patient_ID = matched_pattern.group()\n",
    "            \n",
    "            # print (sample_ID, i, ra_status, patient_ID)\n",
    "            \n",
    "            disease_duration = get_disease_duration(patient_ID, all_visit_df)/365\n",
    "            print (disease_duration)\n",
    "            try: \n",
    "                data_dict[ra_status].append(disease_duration)\n",
    "            except KeyError: \n",
    "                data_dict[ra_status] = [disease_duration]\n",
    "            \n",
    "        except TypeError :\n",
    "\n",
    "            disease_duration = 50/365\n",
    "            print (disease_duration)\n",
    "            try: \n",
    "                data_dict[ra_status].append(disease_duration)\n",
    "            except KeyError: \n",
    "                data_dict[ra_status] = [disease_duration]\n",
    "\n",
    "        except AttributeError:\n",
    "\n",
    "            disease_duration = 50/365\n",
    "            print (disease_duration)\n",
    "            try: \n",
    "                data_dict[ra_status].append(disease_duration)\n",
    "            except KeyError: \n",
    "                data_dict[ra_status] = [disease_duration]\n",
    "\n",
    "####TODO 24.02.19\n",
    "#value: 0???"
   ]
  },
  {
   "cell_type": "code",
   "execution_count": 55,
   "id": "fb4d17c4-d380-47f5-b1b3-beb93faf7a5b",
   "metadata": {},
   "outputs": [
    {
     "name": "stdout",
     "output_type": "stream",
     "text": [
      "Missing information:  0\n",
      "data_dict keys: [\"'ACPA-pos'\", \"'ACPA-neg'\"]\n",
      "ACPA-pos #: 40\n",
      "2.773698630136986 +- 2.6446204243645317\n",
      "0.136986301369863 - 4.473287671232876\n",
      "0.0 9.306849315068494\n",
      "ACPA-neg #: 40\n",
      "2.636575342465753 +- 2.8433096981171464\n",
      "0.136986301369863 - 3.8965753424657534\n",
      "0.136986301369863 9.463013698630137\n"
     ]
    }
   ],
   "source": [
    "print (\"Missing information: \", count_missing_info)\n",
    "print (\"data_dict keys:\" , list(data_dict.keys()))\n",
    "print (\"ACPA-pos #:\", len(data_dict[\"'ACPA-pos'\"]))\n",
    "report_disease_duration_statistics(data_dict[\"'ACPA-pos'\"])\n",
    "\n",
    "print (\"ACPA-neg #:\", len(data_dict[\"'ACPA-neg'\"]))\n",
    "report_disease_duration_statistics(data_dict[\"'ACPA-neg'\"])\n"
   ]
  },
  {
   "cell_type": "code",
   "execution_count": 45,
   "id": "35e80f08-0e6a-49c8-9b61-d33f2667b5ff",
   "metadata": {},
   "outputs": [
    {
     "data": {
      "text/plain": [
       "KruskalResult(statistic=0.2727272727272734, pvalue=0.6015081344405895)"
      ]
     },
     "execution_count": 45,
     "metadata": {},
     "output_type": "execute_result"
    }
   ],
   "source": [
    "result"
   ]
  },
  {
   "cell_type": "code",
   "execution_count": 58,
   "id": "7a4c5fc0-5eaf-412b-afed-1b72cc475ab1",
   "metadata": {},
   "outputs": [],
   "source": [
    "series_neg = pd.Series(data_dict[\"'ACPA-neg'\"])\n",
    "series_pos = pd.Series(data_dict[\"'ACPA-pos'\"])\n",
    "\n",
    "# Create a DataFrame\n",
    "tmp_df = pd.DataFrame({'ACPA-neg': series_neg, 'ACPA-pos': series_pos})\n",
    "\n",
    "# Save DataFrame to CSV\n",
    "tmp_df.to_csv('../../analysis_addressing_feedback/disease_duration/data/disease_duration_years.csv', index=False)"
   ]
  },
  {
   "cell_type": "code",
   "execution_count": 60,
   "id": "6774f4e5-8f08-4f41-96b9-e66ffb9065cf",
   "metadata": {},
   "outputs": [
    {
     "data": {
      "text/plain": [
       "KruskalResult(statistic=0.1878140944835067, pvalue=0.6647421887996687)"
      ]
     },
     "execution_count": 60,
     "metadata": {},
     "output_type": "execute_result"
    }
   ],
   "source": [
    "stats.kruskal(data_dict[\"'ACPA-neg'\"], data_dict[\"'ACPA-pos'\"])"
   ]
  },
  {
   "cell_type": "code",
   "execution_count": 62,
   "id": "f2b83d95-999a-42fb-9fe8-dff9ec740f13",
   "metadata": {},
   "outputs": [
    {
     "data": {
      "text/plain": [
       "KruskalResult(statistic=0.010909090909095198, pvalue=0.9168149485280722)"
      ]
     },
     "execution_count": 62,
     "metadata": {},
     "output_type": "execute_result"
    }
   ],
   "source": [
    "x = [2.9, 3.0, 2.5, 2.6, 3.2] # normal subjects\n",
    "z = [2.8, 3.4, 3.7, 2.2, 2.0]\n",
    "\n",
    "stats.kruskal(x, z)"
   ]
  },
  {
   "cell_type": "code",
   "execution_count": null,
   "id": "2c05bf3a-5653-4366-9db2-3630b0a12f1a",
   "metadata": {},
   "outputs": [],
   "source": []
  }
 ],
 "metadata": {
  "kernelspec": {
   "display_name": "Python 3 (ipykernel)",
   "language": "python",
   "name": "python3"
  },
  "language_info": {
   "codemirror_mode": {
    "name": "ipython",
    "version": 3
   },
   "file_extension": ".py",
   "mimetype": "text/x-python",
   "name": "python",
   "nbconvert_exporter": "python",
   "pygments_lexer": "ipython3",
   "version": "3.11.6"
  }
 },
 "nbformat": 4,
 "nbformat_minor": 5
}
