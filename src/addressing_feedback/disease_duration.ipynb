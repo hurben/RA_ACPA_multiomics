{
 "cells": [
  {
   "cell_type": "code",
   "execution_count": 1,
   "id": "f614b554-cebd-4e19-982c-3db79da4baa6",
   "metadata": {},
   "outputs": [],
   "source": [
    "#disease_duration   24.01.30\n",
    "#\n",
    "#Perform Kruskal–Wallis test to see the difference between ACPA– and ACPA+ RA.\n",
    "#EAC (Early arthritis cohort = disease duration = 0 )\n",
    "#ACPA+ RA = 1\n",
    "#ACPA– RA = 2\n",
    "\n",
    "#This analysis was done after recieving internal review from the Drs.\n",
    "#And will be inserted into Table 1"
   ]
  },
  {
   "cell_type": "code",
   "execution_count": 13,
   "id": "93b3d52e-b3e5-4a09-823e-98eb70825ebf",
   "metadata": {},
   "outputs": [],
   "source": [
    "data_file = \"../../analysis_addressing_feedback/disease_duration/data/disease_duration.csv\"\n",
    "data_df = read.csv(data_file, sep=\",\")\n",
    "data_df$disease_duration[data_df$disease_duration == \"EAC\"] <- 0\n",
    "data_df$disease_duration <- as.integer(data_df$disease_duration)"
   ]
  },
  {
   "cell_type": "code",
   "execution_count": 14,
   "id": "eceb908d-2fd8-4abc-9d8d-1800c856d008",
   "metadata": {},
   "outputs": [
    {
     "data": {
      "text/plain": [
       "\n",
       "\tKruskal-Wallis rank sum test\n",
       "\n",
       "data:  disease_duration by ACPA\n",
       "Kruskal-Wallis chi-squared = 0.068364, df = 1, p-value = 0.7937\n"
      ]
     },
     "metadata": {},
     "output_type": "display_data"
    }
   ],
   "source": [
    "kruskal.test(disease_duration ~ ACPA, data = data_df)"
   ]
  },
  {
   "cell_type": "code",
   "execution_count": null,
   "id": "29121722-0938-4454-8387-47cd876e2a80",
   "metadata": {},
   "outputs": [],
   "source": []
  }
 ],
 "metadata": {
  "kernelspec": {
   "display_name": "R",
   "language": "R",
   "name": "ir"
  },
  "language_info": {
   "codemirror_mode": "r",
   "file_extension": ".r",
   "mimetype": "text/x-r-source",
   "name": "R",
   "pygments_lexer": "r",
   "version": "4.3.2"
  }
 },
 "nbformat": 4,
 "nbformat_minor": 5
}
