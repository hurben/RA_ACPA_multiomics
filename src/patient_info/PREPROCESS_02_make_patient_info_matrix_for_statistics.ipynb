{
 "cells": [
  {
   "cell_type": "code",
   "execution_count": null,
   "id": "labeled-malta",
   "metadata": {},
   "outputs": [],
   "source": [
    "#"
   ]
  },
  {
   "cell_type": "code",
   "execution_count": 29,
   "id": "intended-patch",
   "metadata": {},
   "outputs": [],
   "source": [
    "import pandas as pd\n",
    "import numpy as np\n",
    "import math"
   ]
  },
  {
   "cell_type": "code",
   "execution_count": 30,
   "id": "subject-fashion",
   "metadata": {},
   "outputs": [],
   "source": [
    "main_info_file = '/Users/m221138/RA_sero_multiomics/preprocessed_data/meta/patient_info_for_statistics.tsv'\n",
    "treatment_info_file = '/Users/m221138/RA_sero_multiomics/patient_info_data/additional_patient_info_Feb27/sample_identification_Feb22.csv'"
   ]
  },
  {
   "cell_type": "code",
   "execution_count": 31,
   "id": "hungarian-percentage",
   "metadata": {},
   "outputs": [],
   "source": [
    "#make treatment info dict\n",
    "treatment_info_df = pd.read_csv(treatment_info_file, sep =\",\")\n",
    "\n",
    "drug_info_dict = {} #key: mayoID, value: binary\n",
    "drug_list = [\"mtx\", \"hcq\", \"ssz\", \"lef\", \"aza\", \"tofacitinib\", \n",
    "             \"infliximab\", \"etanercept\", \"adalimumab\", \"golimumab\",\n",
    "             \"certolizumab\", \"tocilizumab\", \"anakinra\", \"abatacept\", \n",
    "             \"rituximab\", \"pred\"]\n",
    "\n",
    "r, c = treatment_info_df.shape\n",
    "for i in range(r):\n",
    "    mayo_id = treatment_info_df[\"MayoClinic_ID\"][i]\n",
    "    \n",
    "    for drug in drug_list:\n",
    "        status = treatment_info_df[drug][i]\n",
    "        drug_info_dict[mayo_id, drug] = status\n",
    "        "
   ]
  },
  {
   "cell_type": "code",
   "execution_count": 32,
   "id": "least-illness",
   "metadata": {},
   "outputs": [],
   "source": [
    "output_file = '/Users/m221138/RA_sero_multiomics/preprocessed_data/meta/patient_info_for_statistics.v2.tsv'\n",
    "\n",
    "output_txt = open(output_file,'w')\n",
    "\n",
    "main_df = pd.read_csv(main_info_file, sep =\"\\t\")\n",
    "column_list = main_df.columns.values\n",
    "output_txt.write(column_list[0])\n",
    "\n",
    "for i in range (1, len(column_list)):\n",
    "    column_name = column_list[i]\n",
    "    output_txt.write('\\t%s' % column_name)\n",
    "for drug in drug_list:\n",
    "    output_txt.write('\\t%s' % drug)\n",
    "output_txt.write('\\n')\n",
    "\n",
    "r, c = main_df.shape\n",
    "for i in range(r):\n",
    "    sample_id = main_df.iloc[i][0]\n",
    "    mayo_id = main_df.iloc[i][1]\n",
    "    output_txt.write('%s' % sample_id)\n",
    "    \n",
    "    #write existing things\n",
    "    for j in range(1, c): \n",
    "        value = main_df.iloc[i][j]\n",
    "        output_txt.write('\\t%s' % value)\n",
    "    \n",
    "    #write treatment info\n",
    "    for drug in drug_list:\n",
    "        status = drug_info_dict[mayo_id, drug]\n",
    "        if status == \"EAC\":\n",
    "            status = 0\n",
    "        output_txt.write('\\t%s' % status)\n",
    "    output_txt.write('\\n')\n",
    "output_txt.close()"
   ]
  },
  {
   "cell_type": "code",
   "execution_count": null,
   "id": "primary-passion",
   "metadata": {},
   "outputs": [],
   "source": []
  },
  {
   "cell_type": "code",
   "execution_count": null,
   "id": "median-inquiry",
   "metadata": {},
   "outputs": [],
   "source": []
  },
  {
   "cell_type": "code",
   "execution_count": null,
   "id": "acknowledged-jefferson",
   "metadata": {},
   "outputs": [],
   "source": []
  }
 ],
 "metadata": {
  "kernelspec": {
   "display_name": "Python 3",
   "language": "python",
   "name": "python3"
  },
  "language_info": {
   "codemirror_mode": {
    "name": "ipython",
    "version": 3
   },
   "file_extension": ".py",
   "mimetype": "text/x-python",
   "name": "python",
   "nbconvert_exporter": "python",
   "pygments_lexer": "ipython3",
   "version": "3.9.1"
  }
 },
 "nbformat": 4,
 "nbformat_minor": 5
}
