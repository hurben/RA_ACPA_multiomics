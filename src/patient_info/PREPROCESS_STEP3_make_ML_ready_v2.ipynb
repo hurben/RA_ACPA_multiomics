{
 "cells": [
  {
   "cell_type": "code",
   "execution_count": 2,
   "id": "eed81f6e-c56b-4904-b28d-7c6955cfb190",
   "metadata": {},
   "outputs": [],
   "source": [
    "import pandas as pd\n",
    "import numpy as np\n",
    "import math"
   ]
  },
  {
   "cell_type": "code",
   "execution_count": 3,
   "id": "27f1eb80-8d59-4e9b-8c70-b01c01cf458b",
   "metadata": {},
   "outputs": [],
   "source": [
    "input_file = '/Users/m221138/RA_acpa_multiomics/preprocessed_data/meta/patient_info_for_statistics.tsv'\n",
    "output_file = '/Users/m221138/RA_acpa_multiomics/preprocessed_data/meta/patient_info.ML_ready.v2.tsv'\n",
    "\n",
    "data_df = pd.read_csv(input_file, sep=\"\\t\", header=None)\n",
    "data_df = data_df.T\n",
    "r, c = data_df.shape\n",
    "\n",
    "output_txt = open(output_file,'w')\n",
    "for i in range(r):\n",
    "    feature = data_df.iloc[i][0]\n",
    "\n",
    "    if feature != \"childID\" and feature != \"rf\":\n",
    "        output_txt.write(feature)        \n",
    "        \n",
    "        for j in range(1, c):\n",
    "            value = data_df.iloc[i][j]\n",
    "            \n",
    "            if feature == 'smoking':\n",
    "                if str(value) == 'nan':\n",
    "                    output_txt.write('\\t0.5')\n",
    "                else:\n",
    "                    output_txt.write('\\t%s' % value)\n",
    "\n",
    "            else:\n",
    "                output_txt.write('\\t%s' % value)\n",
    "        output_txt.write('\\n')\n",
    "\n",
    "output_txt.close()\n",
    "\n"
   ]
  },
  {
   "cell_type": "code",
   "execution_count": null,
   "id": "d8cba122-70a6-488f-b124-fae37bce2342",
   "metadata": {},
   "outputs": [],
   "source": []
  }
 ],
 "metadata": {
  "kernelspec": {
   "display_name": "Python 3",
   "language": "python",
   "name": "python3"
  },
  "language_info": {
   "codemirror_mode": {
    "name": "ipython",
    "version": 3
   },
   "file_extension": ".py",
   "mimetype": "text/x-python",
   "name": "python",
   "nbconvert_exporter": "python",
   "pygments_lexer": "ipython3",
   "version": "3.9.1"
  }
 },
 "nbformat": 4,
 "nbformat_minor": 5
}
