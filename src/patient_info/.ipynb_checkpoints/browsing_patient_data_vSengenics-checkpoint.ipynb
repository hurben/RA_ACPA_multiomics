{
 "cells": [
  {
   "cell_type": "code",
   "execution_count": 1,
   "id": "aggregate-observation",
   "metadata": {},
   "outputs": [],
   "source": [
    "import pandas as pd"
   ]
  },
  {
   "cell_type": "code",
   "execution_count": 4,
   "id": "casual-little",
   "metadata": {},
   "outputs": [],
   "source": [
    "def get_sample_info_from_sengenics(data_file):\n",
    "    \n",
    "    data_df = pd.read_csv(data_file,index_col=0)\n",
    "    sample_list = list(data_df.index.values)\n",
    "    print (len(sample_list))\n",
    "    \n",
    "    return sample_list"
   ]
  },
  {
   "cell_type": "code",
   "execution_count": 7,
   "id": "union-piece",
   "metadata": {},
   "outputs": [],
   "source": [
    "def make_dict_from_sample_pc_file(data_file):\n",
    "    \n",
    "    data_child_dict = {}\n",
    "    data_parent_dict = {}\n",
    "    \n",
    "    data_df = pd.read_csv(data_file,sep=',')\n",
    "    r, c = data_df.shape\n",
    "    \n",
    "    for i in range(r):\n",
    "        sample_child_id = int(data_df.iloc[i][0])\n",
    "        sample_parent_id = int(data_df.iloc[i][1])\n",
    "        data_child_dict[sample_child_id] = sample_parent_id\n",
    "        data_parent_dict[sample_parent_id] = sample_child_id\n",
    "        \n",
    "    return data_child_dict, data_parent_dict"
   ]
  },
  {
   "cell_type": "code",
   "execution_count": 10,
   "id": "remarkable-cooperation",
   "metadata": {},
   "outputs": [],
   "source": [
    "def make_dict_from_sample_info_file(data_file):\n",
    "    \n",
    "    sampleID_list = []\n",
    "    sample_backup_ID_list = []\n",
    "    sampleID_link_dict = {}\n",
    "    \n",
    "    data_df = pd.read_csv(data_file,sep=',')\n",
    "    r, c = data_df.shape\n",
    "    \n",
    "    for i in range(r):\n",
    "        sample_ID = data_df['sample_ID'][i]\n",
    "        sample_IDBACKUP = data_df['sample_ID-BACKUP'][i]\n",
    "        age = data_df['age'][i]\n",
    "        sex = data_df['sex'][i]\n",
    "        bmi = data_df['BMI'][i]\n",
    "        smoking = data_df['smoking'][i]\n",
    "        acpa = data_df['ACPA'][i]\n",
    "        rf = data_df['RF'][i]\n",
    "\n",
    "        sampleID_link_dict[sample_ID] = sample_IDBACKUP\n",
    "        sampleID_list.append(sample_ID)\n",
    "        sample_backup_ID_list.append(sample_IDBACKUP)\n",
    "        \n",
    "    return sampleID_link_dict, sampleID_list, sample_backup_ID_list\n",
    "        \n",
    "    "
   ]
  },
  {
   "cell_type": "code",
   "execution_count": 13,
   "id": "dynamic-fifteen",
   "metadata": {},
   "outputs": [],
   "source": [
    "def make_control_parentID_list(data_file):\n",
    "    data_df = pd.read_csv(data_file)\n",
    "    sample_list = list(data_df['parentID'])\n",
    "    return sample_list"
   ]
  },
  {
   "cell_type": "code",
   "execution_count": 5,
   "id": "spanish-posting",
   "metadata": {},
   "outputs": [
    {
     "name": "stdout",
     "output_type": "stream",
     "text": [
      "120\n"
     ]
    }
   ],
   "source": [
    "sengenics_file = '/Users/m221138/RA_sero_multiomics/misc_data/sengenics/sengenics_raw_data.csv'\n",
    "childID_list = get_sample_info_from_sengenics(sengenics_file)"
   ]
  },
  {
   "cell_type": "code",
   "execution_count": 18,
   "id": "nasty-sunglasses",
   "metadata": {},
   "outputs": [],
   "source": [
    "sample_pc_file = '/Users/m221138/RA_sero_multiomics/misc_data/sengenics/SampleParentChild_info_Sengenics.csv'\n",
    "data_child_dict, data_parent_dict = make_dict_from_sample_pc_file(sample_pc_file)\n"
   ]
  },
  {
   "cell_type": "code",
   "execution_count": 19,
   "id": "exclusive-fruit",
   "metadata": {},
   "outputs": [],
   "source": [
    "sample_info_file = '/Users/m221138/RA_sero_multiomics/misc_data/sample_identification_Jun16.csv'\n",
    "sampleID_link_dict, parentID_list, sample_backup_ID_list = make_dict_from_sample_info_file(sample_info_file)"
   ]
  },
  {
   "cell_type": "code",
   "execution_count": 14,
   "id": "checked-burden",
   "metadata": {},
   "outputs": [],
   "source": [
    "control_parentID_file ='/Users/m221138/RA_sero_multiomics/misc_data/metabolon/control_parentID.csv'\n",
    "control_parentID_list = make_control_parentID_list(control_parentID_file)"
   ]
  },
  {
   "cell_type": "code",
   "execution_count": 21,
   "id": "unavailable-fifteen",
   "metadata": {},
   "outputs": [
    {
     "data": {
      "text/plain": [
       "{1611904194: 21228000113,\n",
       " 1510601921: 21228000114,\n",
       " 1518106720: 21228000115,\n",
       " 1415602485: 21228000116,\n",
       " 1509707315: 21228000117,\n",
       " 1510603533: 21228000118,\n",
       " 1426606170: 21228000119,\n",
       " 1414905833: 21228000120,\n",
       " 1509707363: 21228000121,\n",
       " 1511103353: 21228000122,\n",
       " 1428003562: 21228000123,\n",
       " 19120000023: 21228000124,\n",
       " 1418805487: 21228000125,\n",
       " 1511807455: 21228000126,\n",
       " 1431106443: 21228000127,\n",
       " 19168014621: 21228000128,\n",
       " 1419105567: 21228000129,\n",
       " 1511907273: 21228000130,\n",
       " 1501402826: 21228000131,\n",
       " 19259012081: 21228000132,\n",
       " 1421004617: 21228000133,\n",
       " 1513502608: 21228000134,\n",
       " 1507802062: 21228000135,\n",
       " 1504001996: 21228000136,\n",
       " 1422601301: 21228000137,\n",
       " 1514103761: 21228000138,\n",
       " 1509605829: 21228000139,\n",
       " 1524006732: 21228000140,\n",
       " 1424104362: 21228000141,\n",
       " 1314406698: 21228000142,\n",
       " 1434100114: 21228000143,\n",
       " 1408402873: 21228002477,\n",
       " 1330500471: 21228002478,\n",
       " 1516805182: 21228002479,\n",
       " 1418303767: 21228002480,\n",
       " 1312701873: 21228002481,\n",
       " 1429504222: 21228002482,\n",
       " 1405109225: 21228002483,\n",
       " 1605401997: 21228002484,\n",
       " 1523605071: 21228002485,\n",
       " 1521605352: 21228002486,\n",
       " 1524503104: 21228002487,\n",
       " 1616801206: 21228002488,\n",
       " 1520202729: 21228002489,\n",
       " 1401405787: 21228002490,\n",
       " 1608302954: 21228002491,\n",
       " 1418907189: 21228002492,\n",
       " 1525103523: 21228002493,\n",
       " 1610902229: 21228002494,\n",
       " 1523703008: 21228002495,\n",
       " 1620005122: 21228002496,\n",
       " 1402101782: 21228002497,\n",
       " 1411304493: 21228002498,\n",
       " 1420903293: 21228002499,\n",
       " 1403505741: 21228002500,\n",
       " 1516903951: 21228002501,\n",
       " 1419200774: 21228002502,\n",
       " 1519501684: 21228002503,\n",
       " 1622203838: 21228002504,\n",
       " 1408001727: 21228002505,\n",
       " 1421604010: 21228002506,\n",
       " 1323905189: 21228002507,\n",
       " 1421804404: 21228002508,\n",
       " 1518105410: 21228002509,\n",
       " 1523107845: 21228002510,\n",
       " 19084026471: 21228002511,\n",
       " 1315408885: 21228002512,\n",
       " 1403602272: 21228002513,\n",
       " 1507502135: 21228002514,\n",
       " 1512506677: 21228002515,\n",
       " 1418802196: 21228002516,\n",
       " 1519405505: 21228002517,\n",
       " 1324604997: 21228002518,\n",
       " 1431803035: 21228002519,\n",
       " 1500903736: 21228002520,\n",
       " 1431601798: 21228002521,\n",
       " 1608103517: 21228002522,\n",
       " 1525703721: 21228002523,\n",
       " 1408501908: 21228002524,\n",
       " 1611005150: 21229000148,\n",
       " 1611703051: 21229000149,\n",
       " 20014026031: 21229000150,\n",
       " 1321104329: 21229000151,\n",
       " 19311028306: 21229000152,\n",
       " 21033008350: 21229000153,\n",
       " 1324700292: 21229000154,\n",
       " 1305800706: 21229000155,\n",
       " 20170004166: 21229000156,\n",
       " 21076016580: 21229000157,\n",
       " 19165027849: 21229000158,\n",
       " 1520405177: 21229000159,\n",
       " 1312903469: 21229000160,\n",
       " 1321207870: 21229000161,\n",
       " 1520907371: 21229000162,\n",
       " 21027004278: 21229000163,\n",
       " 1607702338: 21229000164,\n",
       " 1430000651: 21229000165,\n",
       " 20199006723: 21229000166,\n",
       " 1405504326: 21229000167,\n",
       " 19365008240: 21229000168,\n",
       " 1315600833: 21229000169,\n",
       " 1322004189: 21229000170,\n",
       " 20268005789: 21229000171,\n",
       " 19066026481: 21229000172,\n",
       " 19207030911: 21229000173,\n",
       " 1614800626: 21229000174,\n",
       " 1529502363: 21229000175,\n",
       " 20233007136: 21229000176,\n",
       " 19340021998: 21229000177,\n",
       " 1331806367: 21229000178,\n",
       " 19094026780: 21229000179,\n",
       " 1233301450: 21229000180,\n",
       " 1532904637: 21229000181,\n",
       " 20079004723: 21229000182,\n",
       " 20304005752: 21229000183,\n",
       " 1611604814: 21229000184,\n",
       " 20224006342: 21229000185,\n",
       " 1322100420: 21229000186,\n",
       " 1621002555: 21229000187,\n",
       " 21028008359: 21229000188}"
      ]
     },
     "execution_count": 21,
     "metadata": {},
     "output_type": "execute_result"
    }
   ],
   "source": [
    "data_parent_dict"
   ]
  },
  {
   "cell_type": "code",
   "execution_count": 20,
   "id": "joint-employer",
   "metadata": {},
   "outputs": [
    {
     "name": "stdout",
     "output_type": "stream",
     "text": [
      "79 41\n",
      "[1314406698, 1408402873, 1330500471, 1418303767, 1312701873, 1429504222, 1405109225, 1401405787, 1418907189, 1402101782, 1411304493, 1420903293, 1403505741, 1419200774, 1519501684, 1408001727, 1421604010, 1323905189, 1421804404, 1315408885, 1403602272, 1507502135, 1512506677, 1418802196, 1324604997, 1431803035, 1500903736, 1431601798, 1408501908, 1321104329, 1324700292, 1305800706, 1312903469, 1321207870, 1430000651, 1405504326, 1315600833, 1322004189, 1331806367, 1233301450, 1322100420]\n"
     ]
    }
   ],
   "source": [
    "sengenics_parentID_list = list(data_parent_dict.keys())\n",
    "count = 0\n",
    "no_count = 0\n",
    "no_count_list = []\n",
    "for parentID in sengenics_parentID_list:\n",
    "    if parentID in parentID_list:\n",
    "        count = count + 1\n",
    "    if parentID not in parentID_list:\n",
    "        no_count = no_count + 1\n",
    "        no_count_list.append(parentID)\n",
    "print (count, no_count)\n",
    "print (no_count_list)"
   ]
  },
  {
   "cell_type": "code",
   "execution_count": 16,
   "id": "lasting-diploma",
   "metadata": {},
   "outputs": [
    {
     "name": "stdout",
     "output_type": "stream",
     "text": [
      "1519501684\n",
      "40 1\n"
     ]
    }
   ],
   "source": [
    "\n",
    "control_count = 0\n",
    "missing_count = 0\n",
    "for missingID in no_count_list:\n",
    "    if missingID in control_parentID_list:\n",
    "        control_count = control_count + 1\n",
    "    else:\n",
    "        missing_count = missing_count + 1\n",
    "        print (missingID)\n",
    "        \n",
    "print (control_count, missing_count)"
   ]
  },
  {
   "cell_type": "code",
   "execution_count": 17,
   "id": "virtual-opportunity",
   "metadata": {},
   "outputs": [
    {
     "data": {
      "text/plain": [
       "21228002503"
      ]
     },
     "execution_count": 17,
     "metadata": {},
     "output_type": "execute_result"
    }
   ],
   "source": [
    "data_parent_dict[1519501684]"
   ]
  },
  {
   "cell_type": "code",
   "execution_count": null,
   "id": "decimal-donor",
   "metadata": {},
   "outputs": [],
   "source": []
  }
 ],
 "metadata": {
  "kernelspec": {
   "display_name": "Python 3",
   "language": "python",
   "name": "python3"
  },
  "language_info": {
   "codemirror_mode": {
    "name": "ipython",
    "version": 3
   },
   "file_extension": ".py",
   "mimetype": "text/x-python",
   "name": "python",
   "nbconvert_exporter": "python",
   "pygments_lexer": "ipython3",
   "version": "3.9.1"
  }
 },
 "nbformat": 4,
 "nbformat_minor": 5
}
