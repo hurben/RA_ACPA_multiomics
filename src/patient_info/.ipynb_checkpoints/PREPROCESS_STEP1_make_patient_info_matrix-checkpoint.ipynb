{
 "cells": [
  {
   "cell_type": "code",
   "execution_count": 1,
   "id": "aggregate-observation",
   "metadata": {},
   "outputs": [],
   "source": [
    "import pandas as pd"
   ]
  },
  {
   "cell_type": "code",
   "execution_count": 2,
   "id": "casual-little",
   "metadata": {},
   "outputs": [],
   "source": [
    "def get_sample_info_from_somascan(data_file):\n",
    "    \n",
    "    sample_list = []\n",
    "    \n",
    "    file_open = open(data_file,'r')\n",
    "    file_readlines = file_open.readlines()\n",
    "    columne_check_flag = 0\n",
    "    \n",
    "    for i in range(73, len(file_readlines)):\n",
    "        read = file_readlines[i]\n",
    "        token = read.split('\\t')\n",
    "        \n",
    "        sample_id = token[6]\n",
    "        sample_type = token[7]\n",
    "        \n",
    "        if i == 73 and sample_id == 'SampleId':\n",
    "            columne_check_flag = 1\n",
    "        if i > 73 and columne_check_flag == 1 and sample_type == \"Sample\":\n",
    "            sample_list.append(int(sample_id))\n",
    "            \n",
    "    return (sample_list)"
   ]
  },
  {
   "cell_type": "code",
   "execution_count": 3,
   "id": "union-piece",
   "metadata": {},
   "outputs": [],
   "source": [
    "def make_dict_from_sample_pc_file(data_file):\n",
    "    \n",
    "    data_child_dict = {}\n",
    "    data_parent_dict = {}\n",
    "    \n",
    "    data_df = pd.read_csv(data_file,sep=',')\n",
    "    r, c = data_df.shape\n",
    "    \n",
    "    for i in range(r):\n",
    "        sample_child_id = int(data_df.iloc[i][0])\n",
    "        sample_parent_id = int(data_df.iloc[i][1])\n",
    "        data_child_dict[sample_child_id] = sample_parent_id\n",
    "        data_parent_dict[sample_parent_id] = sample_child_id\n",
    "        \n",
    "    return data_child_dict, data_parent_dict"
   ]
  },
  {
   "cell_type": "code",
   "execution_count": 4,
   "id": "rental-pixel",
   "metadata": {},
   "outputs": [],
   "source": [
    "def make_dict_from_sample_info_file(data_file):\n",
    "#This is for ACAP+ and ACPA- file\n",
    "\n",
    "    sampleID_list = []\n",
    "    data_dict = {}\n",
    "    \n",
    "    data_df = pd.read_csv(data_file,sep=',')\n",
    "    r, c = data_df.shape\n",
    "    \n",
    "    for i in range(r):\n",
    "        sample_ID = data_df['sample_ID'][i]  #this is parentID\n",
    "\n",
    "        sample_IDBACKUP = data_df['sample_ID-BACKUP'][i]\n",
    "        age = data_df['age'][i]\n",
    "        sex = data_df['sex'][i]\n",
    "        bmi = data_df['BMI'][i]\n",
    "        smoking = data_df['smoking'][i]\n",
    "        acpa = data_df['ACPA'][i]\n",
    "        rf = data_df['RF'][i]\n",
    "\n",
    "        data_dict[sample_ID,'age'] = age\n",
    "        data_dict[sample_ID,'sex'] = sex\n",
    "        data_dict[sample_ID,'bmi'] = bmi\n",
    "        data_dict[sample_ID,'smoking'] = smoking\n",
    "        data_dict[sample_ID,'acpa'] = acpa\n",
    "        data_dict[sample_ID,'rf'] = rf\n",
    "        \n",
    "        sampleID_list.append(sample_ID)\n",
    "\n",
    "        \n",
    "    return sampleID_list, data_dict"
   ]
  },
  {
   "cell_type": "code",
   "execution_count": 5,
   "id": "exposed-needle",
   "metadata": {},
   "outputs": [],
   "source": [
    "def make_dict_from_mixed_info_file(data_file):\n",
    "#This is for ACAP+ and ACPA- file\n",
    "\n",
    "    sampleID_list = []\n",
    "    data_dict = {}\n",
    "    \n",
    "    data_df = pd.read_csv(data_file,sep=',')\n",
    "    r, c = data_df.shape\n",
    "    \n",
    "    for i in range(r):\n",
    "        sample_ID = data_df['SAMPLEID'][i] #this is parentID\n",
    "\n",
    "        sex = data_df['case_gender'][i]\n",
    "        if sex == \"Female\":\n",
    "            sex = 0\n",
    "        else:\n",
    "            sex = 1\n",
    "        age = data_df['control_age'][i]\n",
    "        bmi = data_df['bmi'][i]\n",
    "        \n",
    "        data_dict[sample_ID,'age'] = age\n",
    "        data_dict[sample_ID,'sex'] = sex\n",
    "        data_dict[sample_ID,'bmi'] = bmi\n",
    "\n",
    "        sampleID_list.append(sample_ID)\n",
    "        \n",
    "    return sampleID_list, data_dict"
   ]
  },
  {
   "cell_type": "code",
   "execution_count": 6,
   "id": "personal-samba",
   "metadata": {},
   "outputs": [],
   "source": [
    "def make_list_from_file(data_file):\n",
    "    control_sample_childID_list = []\n",
    "    \n",
    "    file_open = open(data_file,'r')\n",
    "    file_readlines = file_open.readlines()\n",
    "    \n",
    "    for i in range(len(file_readlines)):\n",
    "        read = file_readlines[i]\n",
    "        read = read.replace('\\n','')\n",
    "        control_sample_childID_list.append(int(read))\n",
    "        \n",
    "    return control_sample_childID_list"
   ]
  },
  {
   "cell_type": "code",
   "execution_count": 7,
   "id": "innovative-shooting",
   "metadata": {},
   "outputs": [],
   "source": [
    "def DEBUG():\n",
    "    #DEBUG: count the number of control child_ID samples are in mixed sample info (n=105), this should be 40. \n",
    "    count = 0\n",
    "    for child_ID in control_childID_list:\n",
    "        parentID = data_child_dict[child_ID]\n",
    "    \n",
    "        if parentID in mixed_sample_info_list:\n",
    "            count +=1\n",
    "    print (\"This number should be 40 -->\", count)\n",
    "\n",
    "    #DEBUG: Investigation\n",
    "    count = 0\n",
    "    for child_ID in childID_sample_list: #somascan child id\n",
    "        parentID = data_child_dict[child_ID]  #get parentID\n",
    "\n",
    "        if parentID in case_list: #check whether it is included in case\n",
    "            count += 1\n",
    "        if parentID not in case_list:\n",
    "            if child_ID in control_childID_list: #check whether it is included in control\n",
    "                count += 1\n",
    "            if child_ID not in control_childID_list:\n",
    "                print (child_ID, parentID)\n",
    "    print (\"This number should be 120/120 ---->\", count, '/', len(childID_sample_list))"
   ]
  },
  {
   "cell_type": "code",
   "execution_count": 12,
   "id": "wired-henry",
   "metadata": {},
   "outputs": [],
   "source": [
    "somascan_anml_file = '/Users/m221138/RA_sero_multiomics/raw_data/RA_somascan/MAYO-216978_v4.1_EDTAPlasma_20210905/SS-216978_v4.1_EDTAPlasma.hybNorm.medNormInt.plateScale.calibrate.anmlQC.qcCheck.anmlSMP.adat.tsv'\n",
    "sample_pc_file = '/Users/m221138/RA_sero_multiomics/patient_info_data/Sample_ParentChild_info_SomaScan.csv'\n",
    "\n",
    "sample_info_file = '/Users/m221138/RA_sero_multiomics/patient_info_data/sample_identification_Jun16_v2.csv'\n",
    "control_sample_childID_file = '/Users/m221138/RA_sero_multiomics/patient_info_data/control_sample_child_ID_list_v2.csv'\n",
    "JS_mixed_sample_info_file ='/Users/m221138/RA_sero_multiomics/patient_info_data/Davis_105_mixed_sample_info.csv'\n"
   ]
  },
  {
   "cell_type": "code",
   "execution_count": 14,
   "id": "rocky-procurement",
   "metadata": {},
   "outputs": [
    {
     "name": "stdout",
     "output_type": "stream",
     "text": [
      "This number should be 40 --> 40\n",
      "This number should be 120/120 ----> 120 / 120\n"
     ]
    }
   ],
   "source": [
    "childID_sample_list = get_sample_info_from_somascan(somascan_anml_file)\n",
    "data_child_dict, data_parent_dict = make_dict_from_sample_pc_file(sample_pc_file)\n",
    "\n",
    "case_list, case_info_dict = make_dict_from_sample_info_file(sample_info_file)\n",
    "control_childID_list = make_list_from_file(control_sample_childID_file)\n",
    "mixed_sample_info_list, mixed_info_dict = make_dict_from_mixed_info_file(JS_mixed_sample_info_file)\n",
    "\n",
    "DEBUG()"
   ]
  },
  {
   "cell_type": "code",
   "execution_count": 18,
   "id": "synthetic-compromise",
   "metadata": {},
   "outputs": [],
   "source": [
    "output_file = '/Users/m221138/RA_sero_multiomics/preprocessed_data/meta/patient_info.tsv'\n",
    "output_txt = open(output_file,'w')\n",
    "feature_order_list = ['acpa','sex','age','bmi','rf','smoking']\n",
    "\n",
    "\n",
    "output_txt.write('parentID\\tchildID\\tacpa\\tsex\\tage\\tbmi\\trf\\tsmoking\\n')\n",
    "for child_ID in childID_sample_list:\n",
    "    parent_ID = data_child_dict[child_ID]\n",
    "    output_txt.write('%s\\t%s' % (parent_ID, child_ID))\n",
    "#     print (child_ID,parent_ID)\n",
    "    \n",
    "    if parent_ID in case_list:\n",
    "        for feature_str in feature_order_list:\n",
    "            output_txt.write('\\t%s' % case_info_dict[parent_ID, feature_str])\n",
    "        \n",
    "    if parent_ID not in case_list:\n",
    "        if child_ID in control_childID_list:\n",
    "            for feature_str in feature_order_list:\n",
    "                if feature_str == 'acpa':\n",
    "                    output_txt.write('\\t0')\n",
    "                if feature_str == 'rf' or feature_str == 'smoking':\n",
    "                    output_txt.write('\\tNA')\n",
    "                if feature_str == 'sex' or feature_str == 'age' or feature_str == 'bmi':\n",
    "                    output_txt.write('\\t%s' % mixed_info_dict[parent_ID, feature_str])\n",
    "    output_txt.write('\\n')\n",
    "\n",
    "output_txt.close()"
   ]
  },
  {
   "cell_type": "code",
   "execution_count": null,
   "id": "million-strategy",
   "metadata": {},
   "outputs": [],
   "source": []
  },
  {
   "cell_type": "code",
   "execution_count": null,
   "id": "trying-cartridge",
   "metadata": {},
   "outputs": [],
   "source": []
  },
  {
   "cell_type": "code",
   "execution_count": null,
   "id": "charming-internet",
   "metadata": {},
   "outputs": [],
   "source": []
  }
 ],
 "metadata": {
  "kernelspec": {
   "display_name": "Python 3",
   "language": "python",
   "name": "python3"
  },
  "language_info": {
   "codemirror_mode": {
    "name": "ipython",
    "version": 3
   },
   "file_extension": ".py",
   "mimetype": "text/x-python",
   "name": "python",
   "nbconvert_exporter": "python",
   "pygments_lexer": "ipython3",
   "version": "3.9.1"
  }
 },
 "nbformat": 4,
 "nbformat_minor": 5
}
