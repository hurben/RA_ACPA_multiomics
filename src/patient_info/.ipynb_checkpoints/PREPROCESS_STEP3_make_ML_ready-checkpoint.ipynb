{
 "cells": [
  {
   "cell_type": "code",
   "execution_count": 1,
   "id": "proper-structure",
   "metadata": {},
   "outputs": [],
   "source": [
    "import pandas as pd\n",
    "import numpy as np\n",
    "import math"
   ]
  },
  {
   "cell_type": "code",
   "execution_count": 2,
   "id": "olympic-volunteer",
   "metadata": {},
   "outputs": [],
   "source": [
    "input_file = '/Users/m221138/RA_sero_multiomics/preprocessed_data/meta/patient_info.v2.tsv'\n",
    "output_file = '/Users/m221138/RA_sero_multiomics/preprocessed_data/meta/patient_info.ML_ready.tsv'\n",
    "\n",
    "data_df = pd.read_csv(input_file, sep=\"\\t\", header=None)\n",
    "data_df = data_df.T\n",
    "r, c = data_df.shape\n",
    "\n",
    "output_txt = open(output_file,'w')\n",
    "for i in range(r):\n",
    "    feature = data_df.iloc[i][0]\n",
    "\n",
    "    if feature != \"childID\" and feature != \"rf\":\n",
    "        output_txt.write(feature)        \n",
    "        \n",
    "        for j in range(1, c):\n",
    "            value = data_df.iloc[i][j]\n",
    "            \n",
    "            if feature == 'smoking':\n",
    "                if str(value) == 'nan':\n",
    "                    output_txt.write('\\t0.5')\n",
    "                else:\n",
    "                    output_txt.write('\\t%s' % value)\n",
    "\n",
    "            else:\n",
    "                output_txt.write('\\t%s' % value)\n",
    "        output_txt.write('\\n')\n",
    "\n",
    "output_txt.close()\n",
    "\n"
   ]
  },
  {
   "cell_type": "code",
   "execution_count": null,
   "id": "pending-appendix",
   "metadata": {},
   "outputs": [],
   "source": []
  }
 ],
 "metadata": {
  "kernelspec": {
   "display_name": "Python 3",
   "language": "python",
   "name": "python3"
  },
  "language_info": {
   "codemirror_mode": {
    "name": "ipython",
    "version": 3
   },
   "file_extension": ".py",
   "mimetype": "text/x-python",
   "name": "python",
   "nbconvert_exporter": "python",
   "pygments_lexer": "ipython3",
   "version": "3.9.1"
  }
 },
 "nbformat": 4,
 "nbformat_minor": 5
}
