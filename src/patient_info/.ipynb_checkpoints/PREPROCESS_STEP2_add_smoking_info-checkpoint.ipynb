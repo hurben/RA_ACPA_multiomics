{
 "cells": [
  {
   "cell_type": "code",
   "execution_count": 1,
   "id": "proper-structure",
   "metadata": {},
   "outputs": [],
   "source": [
    "import pandas as pd"
   ]
  },
  {
   "cell_type": "code",
   "execution_count": 16,
   "id": "seventh-editing",
   "metadata": {},
   "outputs": [],
   "source": [
    "def make_smoke_info_dict(data_file):\n",
    "    data_dict = {}\n",
    "    data_df = pd.read_csv(data_file,sep=',')\n",
    "    r, c = data_df.shape\n",
    "\n",
    "    for i in range(r):\n",
    "        smoke_status = 'nan'\n",
    "        sample_ID = data_df[\"SAMPLEID\"][i]\n",
    "        smoke_100cig = data_df[\"smoke_100cig\"][i]\n",
    "        smoke_100cig = smoke_100cig.split('=')[0]\n",
    " \n",
    "        if smoke_100cig == '1': #NO\n",
    "            smoke_status = 0\n",
    "        if smoke_100cig == '2': #Yes\n",
    "            smoke_status = 0\n",
    "            smoke_current = data_df[\"smoke_current\"][i]\n",
    "            smoke_current = smoke_current.split('=')[0]\n",
    "            \n",
    "            if smoke_current == '1': #no\n",
    "                smoke_status = 0\n",
    "            if smoke_current == '2': #yes\n",
    "                smoke_status = 1\n",
    "                \n",
    "        data_dict[sample_ID] = smoke_status\n",
    "\n",
    "\n",
    "    return data_dict\n",
    "\n",
    "def revise_patient_info_file(data_file, data_dict, output_file):\n",
    "    \n",
    "    output_txt = open(output_file,'w')\n",
    "    data_file_open = open(data_file,'r')\n",
    "    data_file_readlines = data_file_open.readlines()\n",
    "    \n",
    "    for i in range(len(data_file_readlines)):\n",
    "        read = data_file_readlines[i]\n",
    "        read = read.replace('\\n','')\n",
    "        token = read.split('\\t')\n",
    "\n",
    "        output_txt.write('%s' % token[0])\n",
    "        if i == 0:\n",
    "            for j in range(1, len(token)):\n",
    "                output_txt.write('\\t%s' % token[j])\n",
    "            output_txt.write('\\n')\n",
    "        if i > 0:\n",
    "            parent_ID = token[0]\n",
    "            for j in range(1, 7):\n",
    "                output_txt.write('\\t%s' % token[j])\n",
    "            smoking_status = token[7]\n",
    "            if int(parent_ID) in list(smoke_info_dict.keys()):\n",
    "                smoking_status = smoke_info_dict[int(parent_ID)]\n",
    "            output_txt.write('\\t%s' % smoking_status)\n",
    "            output_txt.write('\\n')\n",
    "                      \n",
    "            \n",
    "        \n",
    "    \n",
    "    output_txt.close()"
   ]
  },
  {
   "cell_type": "code",
   "execution_count": 21,
   "id": "olympic-volunteer",
   "metadata": {},
   "outputs": [],
   "source": [
    "patient_info_file = '/Users/m221138/RA_sero_multiomics/preprocessed_data/patient_info.tsv'\n",
    "smoke_info_file = '/Users/m221138/RA_sero_multiomics/raw_data/2021-03-Davis_matched_cases_controls_modified_11042021.csv'\n",
    "\n",
    "output_file = '/Users/m221138/RA_sero_multiomics/preprocessed_data/meta/patient_info.v2.tsv'"
   ]
  },
  {
   "cell_type": "code",
   "execution_count": 22,
   "id": "divided-japanese",
   "metadata": {},
   "outputs": [
    {
     "name": "stdout",
     "output_type": "stream",
     "text": [
      "41\n"
     ]
    }
   ],
   "source": [
    "smoke_info_dict = make_smoke_info_dict(smoke_info_file)\n",
    "revise_patient_info_file(patient_info_file, smoke_info_dict, output_file)\n"
   ]
  },
  {
   "cell_type": "code",
   "execution_count": null,
   "id": "packed-maldives",
   "metadata": {},
   "outputs": [],
   "source": []
  }
 ],
 "metadata": {
  "kernelspec": {
   "display_name": "Python 3",
   "language": "python",
   "name": "python3"
  },
  "language_info": {
   "codemirror_mode": {
    "name": "ipython",
    "version": 3
   },
   "file_extension": ".py",
   "mimetype": "text/x-python",
   "name": "python",
   "nbconvert_exporter": "python",
   "pygments_lexer": "ipython3",
   "version": "3.9.1"
  }
 },
 "nbformat": 4,
 "nbformat_minor": 5
}
