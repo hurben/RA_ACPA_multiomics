{
 "cells": [
  {
   "cell_type": "code",
   "execution_count": 4,
   "id": "aggregate-observation",
   "metadata": {},
   "outputs": [],
   "source": [
    "import pandas as pd"
   ]
  },
  {
   "cell_type": "code",
   "execution_count": 11,
   "id": "casual-little",
   "metadata": {},
   "outputs": [],
   "source": [
    "def get_sample_info_from_metabolon(data_file):\n",
    "    \n",
    "    data_df = pd.read_csv(data_file)\n",
    "    sample_list = list(data_df[\"CLIENT_IDENTIFIER\"])\n",
    "    \n",
    "    return sample_list"
   ]
  },
  {
   "cell_type": "code",
   "execution_count": 13,
   "id": "union-piece",
   "metadata": {},
   "outputs": [],
   "source": [
    "def make_dict_from_sample_pc_file(data_file):\n",
    "    \n",
    "    data_child_dict = {}\n",
    "    data_parent_dict = {}\n",
    "    \n",
    "    data_df = pd.read_csv(data_file,sep=',')\n",
    "    r, c = data_df.shape\n",
    "    \n",
    "    for i in range(r):\n",
    "        sample_child_id = int(data_df.iloc[i][0])\n",
    "        sample_parent_id = int(data_df.iloc[i][1])\n",
    "        data_child_dict[sample_child_id] = sample_parent_id\n",
    "        data_parent_dict[sample_parent_id] = sample_child_id\n",
    "        \n",
    "    return data_child_dict, data_parent_dict"
   ]
  },
  {
   "cell_type": "code",
   "execution_count": 39,
   "id": "remarkable-cooperation",
   "metadata": {},
   "outputs": [],
   "source": [
    "def make_dict_from_sample_info_file(data_file):\n",
    "    \n",
    "    sampleID_list = []\n",
    "    sample_backup_ID_list = []\n",
    "    sampleID_link_dict = {}\n",
    "    \n",
    "    data_df = pd.read_csv(data_file,sep=',')\n",
    "    r, c = data_df.shape\n",
    "    \n",
    "    for i in range(r):\n",
    "        sample_ID = data_df['sample_ID'][i]\n",
    "        sample_IDBACKUP = data_df['sample_ID-BACKUP'][i]\n",
    "        age = data_df['age'][i]\n",
    "        sex = data_df['sex'][i]\n",
    "        bmi = data_df['BMI'][i]\n",
    "        smoking = data_df['smoking'][i]\n",
    "        acpa = data_df['ACPA'][i]\n",
    "        rf = data_df['RF'][i]\n",
    "\n",
    "        sampleID_link_dict[sample_ID] = sample_IDBACKUP\n",
    "        sampleID_list.append(sample_ID)\n",
    "        sample_backup_ID_list.append(sample_IDBACKUP)\n",
    "        \n",
    "    return sampleID_link_dict, sampleID_list, sample_backup_ID_list\n",
    "        \n",
    "    "
   ]
  },
  {
   "cell_type": "code",
   "execution_count": 40,
   "id": "dynamic-fifteen",
   "metadata": {},
   "outputs": [],
   "source": [
    "def make_control_parentID_list(data_file):\n",
    "    data_df = pd.read_csv(data_file)\n",
    "    sample_list = list(data_df['parentID'])\n",
    "    return sample_list"
   ]
  },
  {
   "cell_type": "code",
   "execution_count": 25,
   "id": "spanish-posting",
   "metadata": {},
   "outputs": [],
   "source": [
    "metabolon_file = '/Users/m221138/RA_sero_multiomics/misc_data/metabolon/RA_ACPA_metabolomics_meta_info.csv'\n",
    "childID_list = get_sample_info_from_metabolon(metabolon_file)"
   ]
  },
  {
   "cell_type": "code",
   "execution_count": 26,
   "id": "nasty-sunglasses",
   "metadata": {},
   "outputs": [],
   "source": [
    "sample_pc_file = '/Users/m221138/RA_sero_multiomics/misc_data/metabolon/SampleParentChild_info_Metabolon.csv'\n",
    "data_child_dict, data_parent_dict = make_dict_from_sample_pc_file(sample_pc_file)\n"
   ]
  },
  {
   "cell_type": "code",
   "execution_count": 36,
   "id": "exclusive-fruit",
   "metadata": {},
   "outputs": [],
   "source": [
    "sample_info_file = '/Users/m221138/RA_sero_multiomics/misc_data/sample_identification_Jun16.csv'\n",
    "sampleID_link_dict, parentID_list, sample_backup_ID_list = make_dict_from_sample_info_file(sample_info_file)"
   ]
  },
  {
   "cell_type": "code",
   "execution_count": 42,
   "id": "checked-burden",
   "metadata": {},
   "outputs": [],
   "source": [
    "control_parentID_file ='/Users/m221138/RA_sero_multiomics/misc_data/metabolon/control_parentID.csv'\n",
    "control_parentID_list = make_control_parentID_list(control_parentID_file)"
   ]
  },
  {
   "cell_type": "code",
   "execution_count": 48,
   "id": "joint-employer",
   "metadata": {},
   "outputs": [
    {
     "name": "stdout",
     "output_type": "stream",
     "text": [
      "79 41\n",
      "[1314406698, 1408402873, 1330500471, 1418303767, 1312701873, 1429504222, 1405109225, 1401405787, 1418907189, 1402101782, 1411304493, 1420903293, 1403505741, 1419200774, 1519501684, 1408001727, 1421604010, 1323905189, 1421804404, 1315408885, 1403602272, 1507502135, 1512506677, 1418802196, 1324604997, 1431803035, 1500903736, 1431601798, 1408501908, 1321104329, 1324700292, 1305800706, 1312903469, 1321207870, 1430000651, 1405504326, 1315600833, 1322004189, 1331806367, 1233301450, 1322100420]\n"
     ]
    }
   ],
   "source": [
    "metabolon_parentID_list = list(data_parent_dict.keys())\n",
    "count = 0\n",
    "no_count = 0\n",
    "no_count_list = []\n",
    "for parentID in metabolon_parentID_list:\n",
    "    if parentID in parentID_list:\n",
    "        count = count + 1\n",
    "    if parentID not in parentID_list:\n",
    "        no_count = no_count + 1\n",
    "        no_count_list.append(parentID)\n",
    "print (count, no_count)\n",
    "print (no_count_list)"
   ]
  },
  {
   "cell_type": "code",
   "execution_count": 45,
   "id": "lasting-diploma",
   "metadata": {},
   "outputs": [
    {
     "name": "stdout",
     "output_type": "stream",
     "text": [
      "1519501684\n",
      "40 1\n"
     ]
    }
   ],
   "source": [
    "\n",
    "control_count = 0\n",
    "missing_count = 0\n",
    "for missingID in no_count_list:\n",
    "    if missingID in control_parentID_list:\n",
    "        control_count = control_count + 1\n",
    "    else:\n",
    "        missing_count = missing_count + 1\n",
    "        print (missingID)\n",
    "        \n",
    "print (control_count, missing_count)"
   ]
  },
  {
   "cell_type": "code",
   "execution_count": 47,
   "id": "virtual-opportunity",
   "metadata": {},
   "outputs": [
    {
     "data": {
      "text/plain": [
       "21228002683"
      ]
     },
     "execution_count": 47,
     "metadata": {},
     "output_type": "execute_result"
    }
   ],
   "source": [
    "data_parent_dict[1519501684]"
   ]
  },
  {
   "cell_type": "code",
   "execution_count": null,
   "id": "decimal-donor",
   "metadata": {},
   "outputs": [],
   "source": []
  }
 ],
 "metadata": {
  "kernelspec": {
   "display_name": "Python 3",
   "language": "python",
   "name": "python3"
  },
  "language_info": {
   "codemirror_mode": {
    "name": "ipython",
    "version": 3
   },
   "file_extension": ".py",
   "mimetype": "text/x-python",
   "name": "python",
   "nbconvert_exporter": "python",
   "pygments_lexer": "ipython3",
   "version": "3.9.1"
  }
 },
 "nbformat": 4,
 "nbformat_minor": 5
}
