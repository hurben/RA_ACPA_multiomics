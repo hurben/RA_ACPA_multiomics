{
 "cells": [
  {
   "cell_type": "code",
   "execution_count": 1,
   "id": "organizational-athletics",
   "metadata": {},
   "outputs": [],
   "source": [
    "import pandas as pd"
   ]
  },
  {
   "cell_type": "code",
   "execution_count": 7,
   "id": "entitled-tuition",
   "metadata": {},
   "outputs": [],
   "source": [
    "patient_info_file = '/Users/m221138/RA_sero_multiomics/preprocessed_data/meta/patient_info_for_statistics.tsv'\n",
    "patient_info_df = pd.read_csv(patient_info_file, sep=\"\\t\")\n",
    "r, c = patient_info_df.shape\n",
    "\n",
    "mayoID_list = []\n",
    "sampleID_list = []\n",
    "\n",
    "dup_mayoID_list = []\n",
    "data_dict = {}\n",
    "\n",
    "for i in range(r):\n",
    "    sampleID = patient_info_df.iloc[i][0]\n",
    "    mayoID = str(int(patient_info_df.iloc[i][1]))\n",
    "    acpa = patient_info_df.iloc[i][2]\n",
    "    \n",
    "    try: data_dict[mayoID].append(acpa)\n",
    "    except KeyError: data_dict[mayoID] = [acpa]\n",
    "        \n",
    "    if mayoID not in mayoID_list:\n",
    "        mayoID_list.append(mayoID)\n",
    "    else:\n",
    "        dup_mayoID_list.append(mayoID)\n",
    "    \n",
    "\n"
   ]
  },
  {
   "cell_type": "code",
   "execution_count": 11,
   "id": "decent-sherman",
   "metadata": {},
   "outputs": [
    {
     "name": "stdout",
     "output_type": "stream",
     "text": [
      "2919944 [0.0, 2.0]\n",
      "3425189 [2.0, 0.0]\n",
      "6459429 [0.0, 2.0]\n",
      "6481735 [2.0, 0.0]\n",
      "5008549 [2.0, 0.0]\n",
      "2980898 [2.0, 0.0]\n",
      "12199166 [2.0, 0.0]\n",
      "7456042 [0.0, 2.0]\n",
      "6466177 [2.0, 0.0]\n",
      "4016339 [2.0, 0.0]\n",
      "4081470 [2.0, 0.0]\n",
      "10452643 [0.0, 2.0]\n",
      "3595718 [2.0, 0.0]\n",
      "1867679 [0.0, 2.0]\n",
      "2006071 [2.0, 0.0]\n",
      "5380366 [2.0, 0.0]\n",
      "2939561 [0.0, 2.0]\n",
      "3430782 [2.0, 0.0]\n",
      "2148051 [0.0, 2.0]\n",
      "7448718 [0.0, 2.0]\n",
      "7003949 [2.0, 0.0]\n",
      "12104523 [0.0, 2.0]\n",
      "3737891 [2.0, 0.0]\n",
      "8681310 [0.0, 2.0]\n",
      "7441199 [2.0, 0.0]\n",
      "4274053 [2.0, 0.0]\n",
      "10663503 [0.0, 2.0]\n",
      "3454209 [0.0, 2.0]\n",
      "6168672 [2.0, 0.0]\n",
      "2536175 [0.0, 2.0]\n",
      "9068500 [0.0, 2.0]\n",
      "6177510 [0.0, 2.0]\n",
      "9898318 [0.0, 2.0]\n",
      "2849998 [0.0, 2.0]\n",
      "7047170 [2.0, 0.0]\n",
      "5415792 [2.0, 0.0]\n",
      "4159407 [0.0, 2.0]\n",
      "3025155 [0.0, 2.0]\n",
      "1574064 [2.0, 0.0]\n",
      "5153171 [2.0, 0.0]\n"
     ]
    }
   ],
   "source": [
    "for mayoID in dup_mayoID_list:\n",
    "    print (mayoID, data_dict[mayoID])"
   ]
  },
  {
   "cell_type": "code",
   "execution_count": null,
   "id": "falling-exhibit",
   "metadata": {},
   "outputs": [],
   "source": [
    "treatment_info_file = '/Users/m221138/RA_sero_multiomics/patient_info_data/additional_patient_info_Feb27/sample_identification_Feb22.csv'\n",
    "\n",
    "\n"
   ]
  }
 ],
 "metadata": {
  "kernelspec": {
   "display_name": "Python 3",
   "language": "python",
   "name": "python3"
  },
  "language_info": {
   "codemirror_mode": {
    "name": "ipython",
    "version": 3
   },
   "file_extension": ".py",
   "mimetype": "text/x-python",
   "name": "python",
   "nbconvert_exporter": "python",
   "pygments_lexer": "ipython3",
   "version": "3.9.1"
  }
 },
 "nbformat": 4,
 "nbformat_minor": 5
}
