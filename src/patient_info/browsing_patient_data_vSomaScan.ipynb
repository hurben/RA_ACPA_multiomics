{
 "cells": [
  {
   "cell_type": "code",
   "execution_count": 197,
   "id": "aggregate-observation",
   "metadata": {},
   "outputs": [],
   "source": [
    "import pandas as pd"
   ]
  },
  {
   "cell_type": "code",
   "execution_count": 198,
   "id": "casual-little",
   "metadata": {},
   "outputs": [],
   "source": [
    "def get_sample_info_from_somascan(data_file):\n",
    "    \n",
    "    sample_list = []\n",
    "    \n",
    "    file_open = open(data_file,'r')\n",
    "    file_readlines = file_open.readlines()\n",
    "    columne_check_flag = 0\n",
    "    \n",
    "    for i in range(73, len(file_readlines)):\n",
    "        read = file_readlines[i]\n",
    "        token = read.split('\\t')\n",
    "        \n",
    "        sample_id = token[6]\n",
    "        sample_type = token[7]\n",
    "        \n",
    "        if i == 73 and sample_id == 'SampleId':\n",
    "            columne_check_flag = 1\n",
    "        if i > 73 and columne_check_flag == 1 and sample_type == \"Sample\":\n",
    "            sample_list.append(int(sample_id))\n",
    "            \n",
    "    return (sample_list)"
   ]
  },
  {
   "cell_type": "code",
   "execution_count": 199,
   "id": "union-piece",
   "metadata": {},
   "outputs": [],
   "source": [
    "def make_dict_from_sample_pc_file(data_file):\n",
    "    \n",
    "    data_child_dict = {}\n",
    "    data_parent_dict = {}\n",
    "    \n",
    "    data_df = pd.read_csv(data_file,sep=',')\n",
    "    r, c = data_df.shape\n",
    "    \n",
    "    for i in range(r):\n",
    "        sample_child_id = int(data_df.iloc[i][0])\n",
    "        sample_parent_id = int(data_df.iloc[i][1])\n",
    "        data_child_dict[sample_child_id] = sample_parent_id\n",
    "        data_parent_dict[sample_parent_id] = sample_child_id\n",
    "        \n",
    "    return data_child_dict, data_parent_dict"
   ]
  },
  {
   "cell_type": "code",
   "execution_count": 200,
   "id": "rental-pixel",
   "metadata": {},
   "outputs": [],
   "source": [
    "def make_dict_from_sample_info_file(data_file):\n",
    "\n",
    "#     sampleID_dict = {}\n",
    "#     sample_backup_ID_dict = {}\n",
    "    \n",
    "    sampleID_list = []\n",
    "    sample_backup_ID_list = []\n",
    "    sampleID_link_dict = {}\n",
    "    \n",
    "    data_df = pd.read_csv(data_file,sep=',')\n",
    "    r, c = data_df.shape\n",
    "    \n",
    "    for i in range(r):\n",
    "        sample_ID = data_df['sample_ID'][i]\n",
    "        sample_IDBACKUP = data_df['sample_ID-BACKUP'][i]\n",
    "        age = data_df['age'][i]\n",
    "        sex = data_df['sex'][i]\n",
    "        bmi = data_df['BMI'][i]\n",
    "        smoking = data_df['smoking'][i]\n",
    "        acpa = data_df['ACPA'][i]\n",
    "        rf = data_df['RF'][i]\n",
    "        \n",
    "#         sampleID_dict[sample_ID, 'age'] = age\n",
    "#         sampleID_dict[sample_ID, 'sex'] = sex\n",
    "#         sampleID_dict[sample_ID, 'smoking'] = smoking\n",
    "#         sampleID_dict[sample_ID, 'ACPA'] = acpa\n",
    "#         sampleID_dict[sample_ID, 'RF'] = rf\n",
    "#         sampleID_dict[sample_ID] = [age,sex,smoking,acpa,rf]\n",
    "\n",
    "        sampleID_link_dict[sample_ID] = sample_IDBACKUP\n",
    "        sampleID_list.append(sample_ID)\n",
    "        sample_backup_ID_list.append(sample_IDBACKUP)\n",
    "        \n",
    "    return sampleID_link_dict, sampleID_list, sample_backup_ID_list\n",
    "        \n",
    "    "
   ]
  },
  {
   "cell_type": "code",
   "execution_count": 201,
   "id": "personal-samba",
   "metadata": {},
   "outputs": [],
   "source": [
    "def get_control_sample_childID_list(data_file):\n",
    "    control_sample_childID_list = []\n",
    "    \n",
    "    file_open = open(data_file,'r')\n",
    "    file_readlines = file_open.readlines()\n",
    "    \n",
    "    for i in range(len(file_readlines)):\n",
    "        read = file_readlines[i]\n",
    "        read = read.replace('\\n','')\n",
    "        control_sample_childID_list.append(int(read))\n",
    "        \n",
    "    return control_sample_childID_list"
   ]
  },
  {
   "cell_type": "code",
   "execution_count": 202,
   "id": "wired-henry",
   "metadata": {},
   "outputs": [],
   "source": [
    "somascan_anml_file = '/Users/m221138/RA_sero_multiomics/raw_data/RA_somascan/MAYO-216978_v4.1_EDTAPlasma_20210905/SS-216978_v4.1_EDTAPlasma.hybNorm.medNormInt.plateScale.calibrate.anmlQC.qcCheck.anmlSMP.adat.tsv'\n",
    "sample_pc_file = '/Users/m221138/RA_sero_multiomics/misc_data/Sample_ParentChild_info.csv'\n",
    "\n",
    "sample_info_file = '/Users/m221138/RA_sero_multiomics/misc_data/sample_identification_Jun16.csv'\n",
    "control_sample_childID_file = '/Users/m221138/RA_sero_multiomics/misc_data/control_sample_child_ID_list_v2.csv'\n",
    "\n",
    "control_sample_etcID_file ='/Users/m221138/RA_sero_multiomics/misc_data/control_sample_ID_list_etc.csv'\n"
   ]
  },
  {
   "cell_type": "code",
   "execution_count": 208,
   "id": "rocky-procurement",
   "metadata": {},
   "outputs": [],
   "source": [
    "sample_list = get_sample_info_from_somascan(somascan_anml_file)\n",
    "data_child_dict, data_parent_dict = make_dict_from_sample_pc_file(sample_pc_file)\n",
    "\n",
    "sampleID_link_dict, sampleID_list, sample_backup_ID_list = make_dict_from_sample_info_file(sample_info_file)\n",
    "\n",
    "control_sample_childID_list = get_control_sample_childID_list(control_sample_childID_file)\n",
    "control_sample_etcID_list = get_control_sample_childID_list(control_sample_etcID_file)"
   ]
  },
  {
   "cell_type": "code",
   "execution_count": 207,
   "id": "unique-anxiety",
   "metadata": {},
   "outputs": [
    {
     "name": "stdout",
     "output_type": "stream",
     "text": [
      "40\n",
      "0\n"
     ]
    }
   ],
   "source": [
    "count = 0\n",
    "count_2 = 0\n",
    "for child_ID in control_sample_childID_list:\n",
    "    parentID = data_child_dict[child_ID]\n",
    "    \n",
    "    if parentID in control_sample_etcID_list:\n",
    "        count +=1\n",
    "print (count)\n",
    "print (count_2)"
   ]
  },
  {
   "cell_type": "code",
   "execution_count": 209,
   "id": "harmful-stick",
   "metadata": {
    "scrolled": true
   },
   "outputs": [
    {
     "name": "stdout",
     "output_type": "stream",
     "text": [
      "21228002416\n",
      "21228002415\n",
      "21229000105\n",
      "21228002433\n",
      "21229000107\n",
      "21229000109\n",
      "21228002441 1519501684\n",
      "21228002434\n",
      "21228002432\n",
      "21228002411\n",
      "21228002423\n",
      "21228002428\n",
      "21229000110\n",
      "21228002430\n",
      "21229000106\n",
      "21228002429\n",
      "21228002425\n",
      "21229000115\n",
      "21229000114\n",
      "21228002427\n",
      "21228002412\n",
      "21228002435\n",
      "21228000082\n",
      "21228002422\n",
      "21228002431\n",
      "21228002417\n",
      "21228002419\n",
      "21228002413\n",
      "21228002420\n",
      "21228002424\n",
      "21229000112\n",
      "21228002436\n",
      "21228002421\n",
      "21229000108\n",
      "21229000104\n",
      "21229000113\n",
      "21228002414\n",
      "21228002410\n",
      "21228002418\n",
      "21228002426\n",
      "21229000111\n",
      "119 / 120\n"
     ]
    }
   ],
   "source": [
    "#investigation\n",
    "count = 0\n",
    "\n",
    "for child_ID in sample_list: #somascan child id\n",
    "    parentID = data_child_dict[child_ID]  #get parentID\n",
    "\n",
    "    if parentID in sampleID_list:\n",
    "        count += 1\n",
    "    if parentID not in sampleID_list:\n",
    "        if child_ID in control_sample_childID_list:\n",
    "            count += 1\n",
    "            print (child_ID)\n",
    "        if child_ID not in control_sample_childID_list:\n",
    "            print (child_ID, parentID)\n",
    "\n",
    "print (count, '/', len(sample_list))"
   ]
  },
  {
   "cell_type": "code",
   "execution_count": null,
   "id": "lasting-diploma",
   "metadata": {},
   "outputs": [],
   "source": []
  }
 ],
 "metadata": {
  "kernelspec": {
   "display_name": "Python 3",
   "language": "python",
   "name": "python3"
  },
  "language_info": {
   "codemirror_mode": {
    "name": "ipython",
    "version": 3
   },
   "file_extension": ".py",
   "mimetype": "text/x-python",
   "name": "python",
   "nbconvert_exporter": "python",
   "pygments_lexer": "ipython3",
   "version": "3.9.1"
  }
 },
 "nbformat": 4,
 "nbformat_minor": 5
}
