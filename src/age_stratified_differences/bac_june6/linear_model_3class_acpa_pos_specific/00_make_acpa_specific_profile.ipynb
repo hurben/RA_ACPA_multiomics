{
 "cells": [
  {
   "cell_type": "code",
   "execution_count": 54,
   "id": "f29e4609-c775-4b4d-a958-de073d793c5a",
   "metadata": {},
   "outputs": [],
   "source": [
    "#00_make_acpa_pos_specific_profile    23.02.07.\n",
    "\n",
    "#designed to take input from \"linear_model_3class\" > \"high_age_3_omics.tsv\", \"low_age_3_omics.tvs\"\n",
    "\n",
    "#[1] read: high_age_3_omics, low_age_3_omics\n",
    "#[2] obtain: acpa-pos only\n",
    "#[3] merge: two dataframe\n",
    "\n",
    "import pandas as pd"
   ]
  },
  {
   "cell_type": "code",
   "execution_count": 55,
   "id": "2b4572c0-013c-45d0-bb2c-169693fde9e4",
   "metadata": {},
   "outputs": [],
   "source": [
    "def main(condition_of_interest, young_df, old_df, output):\n",
    "    \n",
    "    #condition_of_interest\n",
    "    #0 = control; 1 = acpa-pos, 2 = acpa-neg\n",
    "    \n",
    "    pos_old_df = old_df[old_df[\"acpa\"] == condition_of_interest] \n",
    "    pos_old_df.insert(1, \"age_status\", 1) #1 represent old\n",
    "\n",
    "    pos_young_df = young_df[young_df[\"acpa\"] == condition_of_interest]\n",
    "    pos_young_df.insert(1, \"age_status\", 0) #0 represent young\n",
    "\n",
    "    pos_old_df = pos_old_df.T\n",
    "    pos_young_df = pos_young_df.T\n",
    "\n",
    "    merged_df = pos_old_df.join(pos_young_df)\n",
    "    merged_df.to_csv(output, sep=\"\\t\")\n"
   ]
  },
  {
   "cell_type": "code",
   "execution_count": 56,
   "id": "d7610f79-449f-456b-9ae8-51a78bbf88e1",
   "metadata": {},
   "outputs": [],
   "source": [
    "old_file = \"../../../preprocessed_data/age_stratified/high_age_3_omics.tsv\"\n",
    "young_file = \"../../../preprocessed_data/age_stratified/low_age_3_omics.tsv\"\n",
    "\n",
    "old_df = pd.read_csv(old_file,sep=\"\\t\", index_col=0)\n",
    "young_df = pd.read_csv(young_file,sep=\"\\t\", index_col=0)\n",
    "\n",
    "old_df = old_df.T\n",
    "young_df = young_df.T"
   ]
  },
  {
   "cell_type": "code",
   "execution_count": 57,
   "id": "48b07f00-62e8-4323-89d8-7aa6e74b1a14",
   "metadata": {},
   "outputs": [],
   "source": [
    "main(1, young_df, old_df, \"../../../preprocessed_data/age_stratified/high_low_age_3_omics.acpa_pos.tsv\")\n",
    "main(2, young_df, old_df, \"../../../preprocessed_data/age_stratified/high_low_age_3_omics.acpa_neg.tsv\")\n",
    "main(0, young_df, old_df, \"../../../preprocessed_data/age_stratified/high_low_age_3_omics.control.tsv\")"
   ]
  },
  {
   "cell_type": "code",
   "execution_count": 42,
   "id": "32504965-1611-4df2-a1bb-fe32f5eff500",
   "metadata": {},
   "outputs": [],
   "source": []
  },
  {
   "cell_type": "code",
   "execution_count": 43,
   "id": "4bbfffb4-c1bc-49ae-a962-b3346d88d7a8",
   "metadata": {},
   "outputs": [],
   "source": []
  },
  {
   "cell_type": "code",
   "execution_count": null,
   "id": "ee450964-febb-4014-8c5a-8bbd0b2bfb0a",
   "metadata": {},
   "outputs": [],
   "source": []
  }
 ],
 "metadata": {
  "kernelspec": {
   "display_name": "Python 3",
   "language": "python",
   "name": "python3"
  },
  "language_info": {
   "codemirror_mode": {
    "name": "ipython",
    "version": 3
   },
   "file_extension": ".py",
   "mimetype": "text/x-python",
   "name": "python",
   "nbconvert_exporter": "python",
   "pygments_lexer": "ipython3",
   "version": "3.9.1"
  }
 },
 "nbformat": 4,
 "nbformat_minor": 5
}
