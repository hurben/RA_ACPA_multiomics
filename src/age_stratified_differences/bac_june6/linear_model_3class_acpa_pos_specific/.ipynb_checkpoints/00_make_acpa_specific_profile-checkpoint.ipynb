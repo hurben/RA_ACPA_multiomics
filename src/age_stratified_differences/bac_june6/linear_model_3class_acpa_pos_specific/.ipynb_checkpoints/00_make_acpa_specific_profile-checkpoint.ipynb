{
 "cells": [
  {
   "cell_type": "code",
   "execution_count": null,
   "id": "f29e4609-c775-4b4d-a958-de073d793c5a",
   "metadata": {},
   "outputs": [],
   "source": [
    "#00_make_acpa_pos_specific_profile    23.02.07.\n",
    "\n",
    "#designed to take input from \"linear_model_3class\" > \"high_age_3_omics.tsv\", \"low_age_3_omics.tvs\"\n",
    "\n",
    "#[1] read: high_age_3_omics, low_age_3_omics\n",
    "#[2] obtain: acpa-pos only\n",
    "#[3] merge: two dataframe"
   ]
  }
 ],
 "metadata": {
  "kernelspec": {
   "display_name": "Python 3",
   "language": "python",
   "name": "python3"
  },
  "language_info": {
   "codemirror_mode": {
    "name": "ipython",
    "version": 3
   },
   "file_extension": ".py",
   "mimetype": "text/x-python",
   "name": "python",
   "nbconvert_exporter": "python",
   "pygments_lexer": "ipython3",
   "version": "3.9.1"
  }
 },
 "nbformat": 4,
 "nbformat_minor": 5
}
