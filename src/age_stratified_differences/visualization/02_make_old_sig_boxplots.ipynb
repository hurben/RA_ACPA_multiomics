{
 "cells": [
  {
   "cell_type": "code",
   "execution_count": 2,
   "id": "db8bbac9-7937-4292-a532-69f6b8507414",
   "metadata": {},
   "outputs": [],
   "source": [
    "import pandas as pd\n",
    "import seaborn as sns\n",
    "import matplotlib.pyplot as plt"
   ]
  },
  {
   "cell_type": "code",
   "execution_count": 3,
   "id": "b12d3190-a89d-406d-b464-8f744e7fa7f0",
   "metadata": {},
   "outputs": [
    {
     "data": {
      "text/plain": [
       "<Figure size 720x720 with 0 Axes>"
      ]
     },
     "metadata": {},
     "output_type": "display_data"
    },
    {
     "data": {
      "text/plain": [
       "<Figure size 720x720 with 0 Axes>"
      ]
     },
     "metadata": {},
     "output_type": "display_data"
    },
    {
     "data": {
      "text/plain": [
       "<Figure size 720x720 with 0 Axes>"
      ]
     },
     "metadata": {},
     "output_type": "display_data"
    },
    {
     "data": {
      "text/plain": [
       "<Figure size 720x720 with 0 Axes>"
      ]
     },
     "metadata": {},
     "output_type": "display_data"
    },
    {
     "data": {
      "text/plain": [
       "<Figure size 720x720 with 0 Axes>"
      ]
     },
     "metadata": {},
     "output_type": "display_data"
    },
    {
     "data": {
      "text/plain": [
       "<Figure size 720x720 with 0 Axes>"
      ]
     },
     "metadata": {},
     "output_type": "display_data"
    },
    {
     "data": {
      "text/plain": [
       "<Figure size 720x720 with 0 Axes>"
      ]
     },
     "metadata": {},
     "output_type": "display_data"
    },
    {
     "data": {
      "text/plain": [
       "<Figure size 720x720 with 0 Axes>"
      ]
     },
     "metadata": {},
     "output_type": "display_data"
    },
    {
     "data": {
      "text/plain": [
       "<Figure size 720x720 with 0 Axes>"
      ]
     },
     "metadata": {},
     "output_type": "display_data"
    },
    {
     "data": {
      "text/plain": [
       "<Figure size 720x720 with 0 Axes>"
      ]
     },
     "metadata": {},
     "output_type": "display_data"
    },
    {
     "data": {
      "text/plain": [
       "<Figure size 720x720 with 0 Axes>"
      ]
     },
     "metadata": {},
     "output_type": "display_data"
    },
    {
     "data": {
      "text/plain": [
       "<Figure size 720x720 with 0 Axes>"
      ]
     },
     "metadata": {},
     "output_type": "display_data"
    },
    {
     "data": {
      "text/plain": [
       "<Figure size 720x720 with 0 Axes>"
      ]
     },
     "metadata": {},
     "output_type": "display_data"
    },
    {
     "data": {
      "text/plain": [
       "<Figure size 720x720 with 0 Axes>"
      ]
     },
     "metadata": {},
     "output_type": "display_data"
    }
   ],
   "source": [
    "# test_file = \"../../../analysis/age_stratified/metabolite_pickup/1-palmitoyl-2-arachidonoyl-GPE_16:0_20:4_.ready.tsv\"\n",
    "# test_df = pd.read_csv(test_file,sep=\"\\t\")\n",
    "\n",
    "metabolite_list_file = \"../../../analysis/age_stratified/metabolite_pickup/ready_file.list\"\n",
    "metabolite_list_open = open(metabolite_list_file, 'r')\n",
    "metabolite_list_readlines = metabolite_list_open.readlines()\n",
    "\n",
    "for i in range(len(metabolite_list_readlines)):\n",
    "    read = metabolite_list_readlines[i]\n",
    "    metabolite_file = read.replace('\\n','')\n",
    "    metabolite_name = metabolite_file.replace('.ready.tsv','')\n",
    "    \n",
    "    input_file = \"../../../analysis/age_stratified/metabolite_pickup/%s\" % metabolite_file\n",
    "    output_file = \"../../../analysis/age_stratified/metabolite_pickup/plots/%s.pdf\" % metabolite_name\n",
    "    \n",
    "    input_df = pd.read_csv(input_file, sep=\"\\t\")\n",
    "    \n",
    "    plt.figure(figsize=(10,10))\n",
    "    sns.boxplot(data=input_df, x=\"acpa_status_age\", y=\"abundance\", hue=\"acpa_status_age\", \n",
    "                palette={\"control_young\": \"#86cf8f\", \"acpa_neg_young\": \"#d4a261\", \"acpa_pos_young\": \"#949494\",\n",
    "                        \"control_old\": \"#58AC62\", \"acpa_neg_old\": \"#b37b32\", \"acpa_pos_old\": \"#636464\"},\n",
    "                dodge=False)\n",
    "\n",
    "    sns.pointplot(data=input_df, x='acpa_status_age', y='abundance', hue='acpa_status_age', ci=None,\n",
    "                  dodge=False, color='red', legend=False)\n",
    "\n",
    "    plt.text(0.4, 3, \"Age Group: Young\", horizontalalignment='left', size='medium', color='black', weight='semibold')\n",
    "    plt.text(3.2, 3, \"Age Group: Old\", horizontalalignment='left', size='medium', color='black', weight='semibold')\n",
    "    plt.axvline(2.5, 5, 0)\n",
    "    plt.title(metabolite_name)\n",
    "    plt.savefig(output_file)\n",
    "    plt.clf()\n",
    "\n",
    "metabolite_list_open.close()\n"
   ]
  },
  {
   "cell_type": "code",
   "execution_count": 4,
   "id": "2c3b27c8-95e4-4abd-8d4b-64710edf88bf",
   "metadata": {},
   "outputs": [],
   "source": [
    "\n",
    "# plt.figure(figsize=(10,10))\n",
    "# sns.boxplot(data=test_df, x=\"acpa_status_age\", y=\"abundance\", hue=\"acpa_status_age\", \n",
    "#             palette={\"control_young\": \"#86cf8f\", \"acpa_neg_young\": \"#d4a261\", \"acpa_pos_young\": \"#949494\",\n",
    "#                     \"control_old\": \"#58AC62\", \"acpa_neg_old\": \"#b37b32\", \"acpa_pos_old\": \"#636464\"},\n",
    "#             dodge=False)\n",
    "\n",
    "# sns.pointplot(data=test_df, x='acpa_status_age', y='abundance', hue='acpa_status_age', ci=None,\n",
    "#               dodge=False, color='black', legend=False)\n",
    "\n",
    "# plt.text(0.4, 3, \"Age Group: Young\", horizontalalignment='left', size='medium', color='black', weight='semibold')\n",
    "# plt.text(3.2, 3, \"Age Group: Old\", horizontalalignment='left', size='medium', color='black', weight='semibold')\n",
    "# plt.axvline(2.5, 5, 0)\n",
    "# plt.title(\"hi\")\n",
    "# plt.savefig('../../../analysis/age_stratified/metabolite_pickup/plots/test.pdf')\n",
    "\n",
    "# # plt.clf()"
   ]
  },
  {
   "cell_type": "code",
   "execution_count": null,
   "id": "7d43e7e4-0ba9-4791-b8ec-747c0c29ec7b",
   "metadata": {},
   "outputs": [],
   "source": []
  }
 ],
 "metadata": {
  "kernelspec": {
   "display_name": "Python 3",
   "language": "python",
   "name": "python3"
  },
  "language_info": {
   "codemirror_mode": {
    "name": "ipython",
    "version": 3
   },
   "file_extension": ".py",
   "mimetype": "text/x-python",
   "name": "python",
   "nbconvert_exporter": "python",
   "pygments_lexer": "ipython3",
   "version": "3.9.1"
  }
 },
 "nbformat": 4,
 "nbformat_minor": 5
}
