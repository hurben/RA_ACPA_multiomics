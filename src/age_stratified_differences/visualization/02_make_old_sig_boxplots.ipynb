{
 "cells": [
  {
   "cell_type": "code",
   "execution_count": 3,
   "id": "db8bbac9-7937-4292-a532-69f6b8507414",
   "metadata": {},
   "outputs": [],
   "source": [
    "#02_make_old_sig_boxplots   23.02.16\n",
    "\n",
    "#input: 02_make_old_sig_boxplots metabolites.*.ready.tsv\n",
    "#input was generated from \"01_prepare_boxplot_format\"\n",
    "#\n",
    "#Objective: to create a boxplot of 14 metabolites from old popuplation, young population.\n",
    "#old population will be on the bottom, while young population will be on the top.\n",
    "#for each population there will be three boxplots for each metabolite (control, acpa-neg, acpa-pos)\n",
    "#thus, on each side (either top or bottom, there will be 3 * 14 box plots)\n",
    "\n",
    "import pandas as pd\n",
    "import seaborn as sns\n",
    "import matplotlib.pyplot as plt\n",
    "import matplotlib"
   ]
  },
  {
   "cell_type": "code",
   "execution_count": 4,
   "id": "b12d3190-a89d-406d-b464-8f744e7fa7f0",
   "metadata": {},
   "outputs": [
    {
     "data": {
      "text/plain": [
       "<Figure size 2880x2160 with 0 Axes>"
      ]
     },
     "metadata": {},
     "output_type": "display_data"
    }
   ],
   "source": [
    "matplotlib.rcParams['pdf.fonttype'] = 42\n",
    "sns.set(style=\"whitegrid\")\n",
    "\n",
    "#young\n",
    "data_young_file = \"../../../analysis/age_stratified/visualize_15metabolites/metabolites.young.ready.v2.tsv\"\n",
    "data_young_df = pd.read_csv(data_young_file, sep = \"\\t\")\n",
    "\n",
    "plt.figure(figsize=(40,30))\n",
    "plt.subplot(2,1,1)\n",
    "ax = sns.boxplot(data=data_young_df, x=\"metabolite\", y=\"abundance\", hue=\"acpa_status_age\", \n",
    "           palette={\"control\": \"#86cf8f\", \"acpa_neg\": \"#d4a261\", \"acpa_pos\": \"#949494\"}, fliersize=0)\n",
    "ax = sns.stripplot(data=data_young_df, x=\"metabolite\", y=\"abundance\", hue=\"acpa_status_age\", alpha=0.7,\n",
    "              palette={\"control\": \"#38573c\", \"acpa_neg\": \"#694516\", \"acpa_pos\": \"#303030\"},\n",
    "              jitter=True, dodge=True)\n",
    "# ax.tick_params(axis='x', labelrotation=90)\n",
    "ax.set_ylim(0,5)\n",
    "ax.set_ylabel(\"scaled abundance(young)\")\n",
    "plt.tight_layout()\n",
    "\n",
    "#old\n",
    "data_old_file = \"../../../analysis/age_stratified/visualize_15metabolites/metabolites.old.ready.v2.tsv\"\n",
    "data_old_df = pd.read_csv(data_old_file, sep = \"\\t\")\n",
    "\n",
    "\n",
    "plt.subplot(2,1,2)\n",
    "ax = sns.boxplot(data=data_old_df, x=\"metabolite\", y=\"abundance\", hue=\"acpa_status_age\", \n",
    "           palette={\"control\": \"#86cf8f\", \"acpa_neg\": \"#d4a261\", \"acpa_pos\": \"#949494\"}, fliersize=0)\n",
    "ax = sns.stripplot(data=data_old_df, x=\"metabolite\", y=\"abundance\", hue=\"acpa_status_age\", alpha=0.7,\n",
    "              palette={\"control\": \"#38573c\", \"acpa_neg\": \"#694516\", \"acpa_pos\": \"#303030\"},\n",
    "              jitter=True, dodge=True)\n",
    "ax.tick_params(axis='x', labelrotation=90)\n",
    "ax.set_ylabel(\"scaled abundance(old)\")\n",
    "ax.set_ylim(0,5)\n",
    "plt.tight_layout()\n",
    "\n",
    "plt.savefig(\"../../../analysis/age_stratified/visualize_15metabolites/agestratified_metabolites.pdf\")\n",
    "plt.clf()\n",
    "\n"
   ]
  },
  {
   "cell_type": "code",
   "execution_count": null,
   "id": "c0a9185d-5731-4d29-ab76-d2bd970df72b",
   "metadata": {},
   "outputs": [],
   "source": []
  }
 ],
 "metadata": {
  "kernelspec": {
   "display_name": "Python 3",
   "language": "python",
   "name": "python3"
  },
  "language_info": {
   "codemirror_mode": {
    "name": "ipython",
    "version": 3
   },
   "file_extension": ".py",
   "mimetype": "text/x-python",
   "name": "python",
   "nbconvert_exporter": "python",
   "pygments_lexer": "ipython3",
   "version": "3.9.1"
  }
 },
 "nbformat": 4,
 "nbformat_minor": 5
}
