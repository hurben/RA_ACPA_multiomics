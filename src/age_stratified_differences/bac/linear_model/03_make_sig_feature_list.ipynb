{
 "cells": [
  {
   "cell_type": "code",
   "execution_count": 82,
   "id": "54d5fede-39c6-4c66-843a-11e797c636b2",
   "metadata": {},
   "outputs": [],
   "source": [
    "import pandas as pd\n",
    "from matplotlib_venn import venn2\n",
    "import matplotlib.pyplot as plt\n",
    "import seaborn as sns"
   ]
  },
  {
   "cell_type": "code",
   "execution_count": 93,
   "id": "159bc016-1b62-4a3a-9893-4f401b8587e7",
   "metadata": {},
   "outputs": [],
   "source": [
    "def get_sig_data_dict(data_file):\n",
    "    \n",
    "    data_dict = {}\n",
    "    data_p_dict = {'up': [], 'down': []}\n",
    "    data_m_dict = {'up': [], 'down': []}\n",
    "    data_aa_dict = {'up': [], 'down': []}\n",
    "    etc_dict = {'up': [], 'down': []}\n",
    "    \n",
    "    data_df = pd.read_csv(data_file, sep = \"\\t\", index_col = 0)\n",
    "    r, c = data_df.shape\n",
    "    feature_list = data_df.index.values\n",
    "    \n",
    "    for i in range(r):\n",
    "        feature = feature_list[i]\n",
    "        cohen_d = data_df.iloc[i][1]\n",
    "        pval = data_df.iloc[i][2]\n",
    "        \n",
    "        if pval < 0.01 and cohen_d > 0.5:\n",
    "            data_dict[feature] = [cohen_d, pval]\n",
    "            \n",
    "            if i < 5:\n",
    "                etc_dict['up'].append(feature)\n",
    "            elif 'p_' in feature:\n",
    "                data_p_dict['up'].append(feature)                \n",
    "            elif 'aa_' in feature:\n",
    "                data_aa_dict['up'].append(feature)\n",
    "            else:\n",
    "                data_m_dict['up'].append(feature)                \n",
    "            \n",
    "        if pval < 0.01 and cohen_d < -0.5:\n",
    "            data_dict[feature] = [cohen_d, pval]\n",
    "            \n",
    "            if i < 5:\n",
    "                etc_dict['down'].append(feature)                            \n",
    "            elif 'p_' in feature:\n",
    "                data_p_dict['down'].append(feature)                \n",
    "            elif 'aa_' in feature:\n",
    "                data_aa_dict['down'].append(feature)\n",
    "            else:\n",
    "                data_m_dict['down'].append(feature)\n",
    "    \n",
    "    return data_dict, data_p_dict, data_m_dict, data_aa_dict, etc_dict\n",
    "    \n",
    "def make_venndiagram(low_omics_dict, high_omics_dict, omics_type, updown_status, comparison_type):\n",
    "    \n",
    "    if updown_status == \"up\":\n",
    "        num_intersection = len(set(low_omics_dict[\"up\"]) & set(high_omics_dict[\"up\"]))\n",
    "        num_uniq_in_low_age = len(set(low_omics_dict[\"up\"]) - set(high_omics_dict[\"up\"]))\n",
    "        num_uniq_in_high_age = len(set(high_omics_dict[\"up\"]) - set(low_omics_dict[\"up\"]))\n",
    "        \n",
    "    if updown_status == \"down\":\n",
    "        num_intersection = len(set(low_omics_dict[\"down\"]) & set(high_omics_dict[\"down\"]))\n",
    "        num_uniq_in_low_age = len(set(low_omics_dict[\"down\"]) - set(high_omics_dict[\"down\"]))\n",
    "        num_uniq_in_high_age = len(set(high_omics_dict[\"down\"]) - set(low_omics_dict[\"down\"]))\n",
    "\n",
    "    output_pdf = '../../../analysis/age_stratified/differential_abundance/plot/%s.%s.%s.pdf' % (omics_type, comparison_type, updown_status)\n",
    "    venn2(subsets = (num_uniq_in_low_age, num_intersection, num_uniq_in_high_age), set_labels = ('Under 60', 'Over 60'))\n",
    "    plt.title('%s:%s, population:under60 vs. over60 \\n%s in disease' % (omics_type, comparison_type, updown_status))\n",
    "    plt.savefig(output_pdf)\n",
    "    # plt.show()\n",
    "    plt.clf()"
   ]
  },
  {
   "cell_type": "code",
   "execution_count": 94,
   "id": "cd2399db-55ba-48d1-bf49-04446bb80d02",
   "metadata": {},
   "outputs": [
    {
     "name": "stderr",
     "output_type": "stream",
     "text": [
      "/usr/local/lib/python3.9/site-packages/matplotlib_venn/_venn2.py:50: UserWarning: Both circles have zero area\n",
      "  warnings.warn(\"Both circles have zero area\")\n",
      "/usr/local/lib/python3.9/site-packages/matplotlib_venn/_venn2.py:50: UserWarning: Both circles have zero area\n",
      "  warnings.warn(\"Both circles have zero area\")\n"
     ]
    },
    {
     "data": {
      "text/plain": [
       "<Figure size 432x288 with 0 Axes>"
      ]
     },
     "metadata": {},
     "output_type": "display_data"
    }
   ],
   "source": [
    "data_dir = '../../../analysis/age_stratified/differential_abundance/'\n",
    "comparison_list = ['cVSneg','cVSpos','cVSra','negVSpos']\n",
    "\n",
    "for comparison_type in comparison_list:\n",
    "    \n",
    "    high_age_file = '%s60_over.%s.padj.tsv' % (data_dir, comparison_type)\n",
    "    low_age_file = '%s60_under.%s.padj.tsv' % (data_dir, comparison_type)\n",
    "    \n",
    "    high_dict, high_p_dict, high_m_dict, high_aa_dict, high_etc_dict = get_sig_data_dict(high_age_file)\n",
    "    low_dict, low_p_dict, low_m_dict, low_aa_dict, low_etc_dict = get_sig_data_dict(low_age_file)\n",
    "\n",
    "    make_venndiagram(low_p_dict, high_p_dict, \"protein\", \"up\", comparison_type)\n",
    "    make_venndiagram(low_m_dict, high_m_dict, \"metabolites\", \"up\", comparison_type)\n",
    "    make_venndiagram(low_aa_dict, high_aa_dict, \"autoantibody\", \"up\", comparison_type)\n",
    "    \n",
    "    make_venndiagram(low_p_dict, high_p_dict, \"protein\", \"down\", comparison_type)\n",
    "    make_venndiagram(low_m_dict, high_m_dict, \"metabolites\", \"down\", comparison_type)\n",
    "    make_venndiagram(low_aa_dict, high_aa_dict, \"autoantibody\", \"down\", comparison_type)"
   ]
  },
  {
   "cell_type": "code",
   "execution_count": null,
   "id": "6eaea024-61bd-4fbd-a864-9cef58f55645",
   "metadata": {},
   "outputs": [],
   "source": []
  }
 ],
 "metadata": {
  "kernelspec": {
   "display_name": "Python 3",
   "language": "python",
   "name": "python3"
  },
  "language_info": {
   "codemirror_mode": {
    "name": "ipython",
    "version": 3
   },
   "file_extension": ".py",
   "mimetype": "text/x-python",
   "name": "python",
   "nbconvert_exporter": "python",
   "pygments_lexer": "ipython3",
   "version": "3.9.1"
  }
 },
 "nbformat": 4,
 "nbformat_minor": 5
}
