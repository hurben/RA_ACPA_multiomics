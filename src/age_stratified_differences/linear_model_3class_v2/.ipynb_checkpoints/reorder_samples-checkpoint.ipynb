{
 "cells": [
  {
   "cell_type": "code",
   "execution_count": 34,
   "id": "14f63f0b-965a-4aac-be15-582331be7ecb",
   "metadata": {},
   "outputs": [],
   "source": [
    "import pandas as pd\n",
    "\n",
    "def get_patient_list(data_file):\n",
    "#order is important\n",
    "    \n",
    "    data_df = pd.read_csv(data_file,sep=\"\\t\",index_col=0)\n",
    "    patient_ID_list = data_df.columns.values\n",
    "    print (len(patient_ID_list))\n",
    "\n",
    "    return list(patient_ID_list)\n",
    "\n",
    "# '../../../preprocessed_data/age_stratified_dc/high_age_3_omics.tsv'"
   ]
  },
  {
   "cell_type": "code",
   "execution_count": 35,
   "id": "aedb229a-4263-4bca-a51a-bea7b6e298dd",
   "metadata": {},
   "outputs": [
    {
     "name": "stdout",
     "output_type": "stream",
     "text": [
      "120\n",
      "120\n"
     ]
    }
   ],
   "source": [
    "\n",
    "original_file = '../../../preprocessed_data/3_omics/three_omics_multiplex.tsv'\n",
    "new_file = '../../../preprocessed_data/metabolomics/metabolone_raw_norm_preprocessed.v2.tsv'\n",
    "\n",
    "origianl_patient_ID_list = get_patient_list(original_file)\n",
    "\n",
    "new_data_df = pd.read_csv(new_file,sep=\"\\t\",index_col=0)\n",
    "new_patient_ID_list = new_data_df.columns.values\n",
    "print (len(new_patient_ID_list))\n",
    "\n",
    "new_data_df = new_data_df.reindex(columns=origianl_patient_ID_list)\n",
    "new_data_df.to_csv('../../../preprocessed_data/age_stratified_dc/metabolone_raw_norm_preprocessed.v2.dc.tsv', sep=\"\\t\")\n",
    "\n"
   ]
  },
  {
   "cell_type": "code",
   "execution_count": null,
   "id": "852bbaea-8c73-4fbc-bd40-f22782a0394d",
   "metadata": {},
   "outputs": [],
   "source": []
  }
 ],
 "metadata": {
  "kernelspec": {
   "display_name": "Python 3",
   "language": "python",
   "name": "python3"
  },
  "language_info": {
   "codemirror_mode": {
    "name": "ipython",
    "version": 3
   },
   "file_extension": ".py",
   "mimetype": "text/x-python",
   "name": "python",
   "nbconvert_exporter": "python",
   "pygments_lexer": "ipython3",
   "version": "3.9.1"
  }
 },
 "nbformat": 4,
 "nbformat_minor": 5
}
