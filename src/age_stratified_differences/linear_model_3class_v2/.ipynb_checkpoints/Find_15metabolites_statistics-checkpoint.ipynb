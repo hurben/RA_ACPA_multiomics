{
 "cells": [
  {
   "cell_type": "code",
   "execution_count": null,
   "id": "a0bfd511-bd1a-41e6-8a87-553e534dd6bc",
   "metadata": {},
   "outputs": [],
   "source": [
    "#Find_14metabolites_statistics    23.02.17\n",
    "\n",
    "#From the 14metabolites (for Fig. 4D) summarize the significance of cVSpos, cVSneg, negVSpos\n",
    "#create a table\n",
    "\n",
    "\n"
   ]
  }
 ],
 "metadata": {
  "kernelspec": {
   "display_name": "Python 3",
   "language": "python",
   "name": "python3"
  },
  "language_info": {
   "codemirror_mode": {
    "name": "ipython",
    "version": 3
   },
   "file_extension": ".py",
   "mimetype": "text/x-python",
   "name": "python",
   "nbconvert_exporter": "python",
   "pygments_lexer": "ipython3",
   "version": "3.9.1"
  }
 },
 "nbformat": 4,
 "nbformat_minor": 5
}
