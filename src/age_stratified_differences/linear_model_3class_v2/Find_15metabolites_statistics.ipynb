{
 "cells": [
  {
   "cell_type": "code",
   "execution_count": 1,
   "id": "a0bfd511-bd1a-41e6-8a87-553e534dd6bc",
   "metadata": {},
   "outputs": [],
   "source": [
    "#Find_15metabolites_statistics    23.02.17\n",
    "\n",
    "#From the 15metabolites (for Fig. 4D) summarize the significance of cVSpos, cVSneg, negVSpos\n",
    "#create a table\n",
    "\n",
    "\n",
    "import pandas as pd"
   ]
  },
  {
   "cell_type": "code",
   "execution_count": 3,
   "id": "1eb229b9-86bf-4d6e-a98e-aeddfc9eab1e",
   "metadata": {},
   "outputs": [],
   "source": [
    "metabolite_list = []\n",
    "\n",
    "metabolite_list_file = \"../../../analysis/age_stratified/visualize_15metabolites/metabolite.list\"\n",
    "metabolite_list_open = open(metabolite_list_file, 'r')\n",
    "metabolite_list_readlines = metabolite_list_open.readlines()\n",
    "\n",
    "for i in range(len(metabolite_list_readlines)):\n",
    "    read = metabolite_list_readlines[i]\n",
    "    read = read.replace('\\n','')\n",
    "    metabolite_list.append(read)\n",
    "metabolite_list_open.close()\n"
   ]
  },
  {
   "cell_type": "code",
   "execution_count": 4,
   "id": "7c0aa314-0884-4b7c-ba8c-16a27b07a0df",
   "metadata": {},
   "outputs": [],
   "source": [
    "condition_list = [\"cVSpos\", \"cVSneg\", \"negVSpos\"]\n",
    "age_group_list = [\"high_age\", \"low_age\"]\n",
    "\n",
    "data_dict = {}\n",
    "\n",
    "for age_group in age_group_list:\n",
    "    for condition in condition_list:\n",
    "        data_file = \"../../../analysis/age_stratified/differential_abundance_for_visualization/%s.%s.padj.tsv\" % (age_group, condition)\n",
    "        data_df = pd.read_csv(data_file,sep=\"\\t\")\n",
    "        r, c = data_df.shape\n",
    "        \n",
    "        for i in range(r):\n",
    "            metabolite = data_df.iloc[i][0]\n",
    "            cohenD = data_df.iloc[i][2]\n",
    "            pval = data_df.iloc[i][3]\n",
    "            \n",
    "            if metabolite in metabolite_list:\n",
    "                data_dict[metabolite, \"%s_%s\" % (age_group,condition)] = [cohenD, pval]        "
   ]
  },
  {
   "cell_type": "code",
   "execution_count": 5,
   "id": "e8daf648-184e-4f1c-a51b-e6693c1e3f51",
   "metadata": {},
   "outputs": [],
   "source": [
    "output_file = \"../../../analysis/age_stratified/visualize_15metabolites/metabolites_signifiance.tsv\"\n",
    "output_txt = open(output_file,'w')\n",
    "\n",
    "#header\n",
    "output_txt.write(\"metabolite\\tcondition\\tcohenD\\tpval\\n\")\n",
    "for metabolite in metabolite_list:\n",
    "    for age_group in age_group_list:\n",
    "        for condition in condition_list:\n",
    "    \n",
    "            cohenD = data_dict[metabolite,\"%s_%s\" % (age_group,condition)][0]\n",
    "            pval = data_dict[metabolite,\"%s_%s\" % (age_group,condition)][1]\n",
    "            \n",
    "            output_txt.write(\"%s\\t%s\\t%s\\t%s\\n\" % (metabolite, \"%s_%s\" % (age_group,condition), cohenD, pval))\n",
    "        \n",
    "\n",
    "output_txt.close()"
   ]
  },
  {
   "cell_type": "code",
   "execution_count": null,
   "id": "4bc15c1c-7afa-4f36-8ba8-8c8aec6b0dcb",
   "metadata": {},
   "outputs": [],
   "source": []
  }
 ],
 "metadata": {
  "kernelspec": {
   "display_name": "Python 3",
   "language": "python",
   "name": "python3"
  },
  "language_info": {
   "codemirror_mode": {
    "name": "ipython",
    "version": 3
   },
   "file_extension": ".py",
   "mimetype": "text/x-python",
   "name": "python",
   "nbconvert_exporter": "python",
   "pygments_lexer": "ipython3",
   "version": "3.9.1"
  }
 },
 "nbformat": 4,
 "nbformat_minor": 5
}
