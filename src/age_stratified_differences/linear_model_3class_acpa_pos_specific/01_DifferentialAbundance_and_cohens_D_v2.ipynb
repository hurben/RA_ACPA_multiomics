{
 "cells": [
  {
   "cell_type": "code",
   "execution_count": 40,
   "id": "checked-hammer",
   "metadata": {},
   "outputs": [],
   "source": [
    "#01_DifferentialAbundance_and_cohens_D\n",
    "#\n",
    "#use linear model to identify differentially abundant features (for each omics)\n",
    "#[1] features (or predictors) that have significant coefficients (p < 0.05; P < 0.01)\n",
    "#           -> whether ACPA status (predictor) has affected the abundance of the feature (response).\n",
    "#[2] features Cohend's D above medium (i.e., 0.5)\n",
    "#features that fulfills [1] + [2] will considerexd as differentially abundant.\n",
    "\n",
    "library(\"effsize\")\n",
    "library(lme4)\n",
    "library(lmerTest)\n",
    "library(stringr)\n",
    "library(effects)\n",
    "library(dplyr)\n"
   ]
  },
  {
   "cell_type": "code",
   "execution_count": 41,
   "id": "excessive-scout",
   "metadata": {},
   "outputs": [],
   "source": [
    "main <- function(input_data_file, output_dir, output_str){\n",
    "    \n",
    "    input_data_df <- read.csv(input_data_file, sep=\"\\t\", header=TRUE, row.names=1)\n",
    "    merged_data_df <- as.data.frame(t(input_data_df))\n",
    "\n",
    "    #young vs old\n",
    "    young_vs_old_df <- filter(merged_data_df, age_status == 1 | age_status == 0)\n",
    "    \n",
    "    run_cohenD_and_glm(young_vs_old_df, 1, 0, output_dir, output_str, '.youngVSold')    \n",
    "}\n",
    "\n",
    "run_cohenD_and_glm <- function(data_df, condition_a_num, condition_b_num, output_dir, output_str, output_type){\n",
    "    \n",
    "    NUM_FEATURES <- ncol(data_df)\n",
    "    temp_condition_a_df <- filter(data_df, age_status == condition_a_num) #this is necessary for cohends D\n",
    "    temp_condition_b_df <- filter(data_df, age_status == condition_b_num) #this is necessary for cohends D   \n",
    "    \n",
    "    output_txt <- paste(output_dir,output_str,output_type, '.tsv', sep=\"\") \n",
    "    if (file.exists(output_txt)) {\n",
    "        #Delete file if it exists\n",
    "        file.remove(output_txt)\n",
    "    }\n",
    "\n",
    "    output_string <- \"\\tcoef\\tcohenD\\tpval\\n\"\n",
    "    cat(output_string, file=output_txt, append=TRUE)\n",
    "    \n",
    "    for (i in 1:NUM_FEATURES){\n",
    "        if (i > 3){\n",
    "            \n",
    "            feature <- colnames(data_df)[i]\n",
    "            # print (feature)\n",
    "            \n",
    "            #calculate cohens D between two population\n",
    "            condition_a_list <- temp_condition_a_df[,i]\n",
    "            condition_b_list <- temp_condition_b_df[,i]\n",
    "            cohend = cohen.d(condition_a_list,condition_b_list)\n",
    "            # cohend_value <- abs(cohend$estimate)\n",
    "            cohend_value <- cohend$estimate\n",
    "  \n",
    "            #calculate the significance of the linear model\n",
    "            glm_results <- glm(data_df[,i] ~ data_df[,2])\n",
    "                                   \n",
    "            feature_coef <- (coef(summary(glm_results))[,1][2])\n",
    "            feature_pval <- (coef(summary(glm_results))[,4][2])\n",
    "\n",
    "            output_string <- paste(feature, \"\\t\", feature_coef, \"\\t\", cohend_value,\"\\t\", feature_pval, \"\\n\", sep=\"\")\n",
    "            cat(output_string, file=output_txt,append=TRUE)\n",
    "            # break\n",
    "        } \n",
    "    }\n",
    "}\n"
   ]
  },
  {
   "cell_type": "code",
   "execution_count": 42,
   "id": "focused-robertson",
   "metadata": {},
   "outputs": [
    {
     "name": "stdout",
     "output_type": "stream",
     "text": [
      "[1] \"Dir already exists!\"\n"
     ]
    }
   ],
   "source": [
    "#Main\n",
    "output_dir = '../../../analysis/age_stratified/differential_abundance_acpa_specific/'\n",
    "\n",
    "#make directory if it does not exist\n",
    "if (!dir.exists(output_dir)){\n",
    "dir.create(output_dir)\n",
    "} else {\n",
    "    print(\"Dir already exists!\")\n",
    "}\n",
    "\n",
    "data_file = '../../../preprocessed_data/age_stratified/high_low_age_3_omics.acpa_pos.tsv'\n",
    "main(data_file, output_dir, 'high_low_acpa_pos')\n",
    "\n",
    "data_file = '../../../preprocessed_data/age_stratified/high_low_age_3_omics.acpa_neg.tsv'\n",
    "main(data_file, output_dir, 'high_low_acpa_neg')\n",
    "\n",
    "data_file = '../../../preprocessed_data/age_stratified/high_low_age_3_omics.control.tsv'\n",
    "main(data_file, output_dir, 'high_low_control')\n"
   ]
  },
  {
   "cell_type": "code",
   "execution_count": 30,
   "id": "standard-stationery",
   "metadata": {},
   "outputs": [],
   "source": []
  },
  {
   "cell_type": "code",
   "execution_count": null,
   "id": "endangered-doctor",
   "metadata": {},
   "outputs": [],
   "source": []
  }
 ],
 "metadata": {
  "kernelspec": {
   "display_name": "R",
   "language": "R",
   "name": "ir"
  },
  "language_info": {
   "codemirror_mode": "r",
   "file_extension": ".r",
   "mimetype": "text/x-r-source",
   "name": "R",
   "pygments_lexer": "r",
   "version": "4.0.3"
  }
 },
 "nbformat": 4,
 "nbformat_minor": 5
}
