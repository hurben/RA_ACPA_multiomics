{
 "cells": [
  {
   "cell_type": "code",
   "execution_count": 1,
   "id": "37db7d85-43b5-4883-b9f0-4b96ce54eba0",
   "metadata": {},
   "outputs": [],
   "source": [
    "import pandas as pd"
   ]
  },
  {
   "cell_type": "code",
   "execution_count": 10,
   "id": "2ac6c13e-a227-469b-90be-7f9fc5a25f30",
   "metadata": {},
   "outputs": [],
   "source": [
    "def get_sig_data_dict(data_file):\n",
    "    \n",
    "    data_dict = {}\n",
    "    data_p_dict = {'up': [], 'down': []}\n",
    "    data_m_dict = {'up': [], 'down': []}\n",
    "    data_aa_dict = {'up': [], 'down': []}\n",
    "    \n",
    "    data_df = pd.read_csv(data_file, sep = \"\\t\", index_col = 0)\n",
    "    r, c = data_df.shape\n",
    "    feature_list = data_df.index.values\n",
    "    \n",
    "    for i in range(r):\n",
    "        feature = feature_list[i]\n",
    "        cohen_d = data_df.iloc[i][0]\n",
    "        pval = data_df.iloc[i][4]\n",
    "        # print (feature, pval)\n",
    "\n",
    "        if feature != \"age\":\n",
    "    \n",
    "            if pval < 0.05:\n",
    "                if cohen_d > 0.5:\n",
    "                    data_dict[feature] = [cohen_d, pval]\n",
    "                    data_m_dict['up'].append(feature)                \n",
    "    \n",
    "                if cohen_d < -0.5:\n",
    "                    data_dict[feature] = [cohen_d, pval]\n",
    "                    data_m_dict['down'].append(feature)\n",
    "\n",
    "    return data_dict, data_p_dict, data_m_dict, data_aa_dict\n",
    "    \n",
    "def make_venndiagram(low_omics_dict, high_omics_dict, omics_type, updown_status, comparison_type, seta, setb):\n",
    "    \n",
    "    if updown_status == \"up\":\n",
    "        intersection_list = list(set(low_omics_dict[\"up\"]) & set(high_omics_dict[\"up\"]))\n",
    "        uniq_in_low_age_list = list(set(low_omics_dict[\"up\"]) - set(high_omics_dict[\"up\"]))\n",
    "        uniq_in_high_age_list = list(set(high_omics_dict[\"up\"]) - set(low_omics_dict[\"up\"]))\n",
    "        \n",
    "    if updown_status == \"down\":\n",
    "        intersection_list = list(set(low_omics_dict[\"down\"]) & set(high_omics_dict[\"down\"]))\n",
    "        uniq_in_low_age_list = list(set(low_omics_dict[\"down\"]) - set(high_omics_dict[\"down\"]))\n",
    "        uniq_in_high_age_list = list(set(high_omics_dict[\"down\"]) - set(low_omics_dict[\"down\"]))\n",
    "\n",
    "    output_file = '../../../analysis/age_stratified/differential_abundance_logit/plot/%s.%s.%s.%s.%s.tsv' % (omics_type, comparison_type, updown_status, seta, setb)\n",
    "    output_txt = open(output_file, 'w')\n",
    "    \n",
    "    output_txt.write('Intersection')\n",
    "    for feature in intersection_list:\n",
    "          output_txt.write('\\t%s' % feature)\n",
    "    output_txt.write('\\n')\n",
    "          \n",
    "    output_txt.write('Uniq in %s' % seta)\n",
    "    for feature in uniq_in_low_age_list:\n",
    "          output_txt.write('\\t%s' % feature)\n",
    "    output_txt.write('\\n')\n",
    "          \n",
    "    output_txt.write('uniq in %s' % setb)\n",
    "    for feature in uniq_in_high_age_list:\n",
    "          output_txt.write('\\t%s' % feature)\n",
    "    output_txt.write('\\n')\n",
    "\n",
    "    output_txt.close()\n"
   ]
  },
  {
   "cell_type": "code",
   "execution_count": 11,
   "id": "6077425d-9696-43f3-aab4-5337ac4e2bea",
   "metadata": {},
   "outputs": [],
   "source": [
    "data_dir = '../../../analysis/age_stratified/differential_abundance_logit/'\n",
    "comparison_list = ['negVSpos']\n",
    "\n",
    "for comparison_type in comparison_list:\n",
    "    \n",
    "    high_age_file = '%shigh_age.%s.tsv' % (data_dir, comparison_type)\n",
    "    med_age_file = '%smid_age.%s.tsv' % (data_dir, comparison_type)\n",
    "    low_age_file = '%slow_age.%s.tsv' % (data_dir, comparison_type)\n",
    "    \n",
    "    high_dict, high_p_dict, high_m_dict, high_aa_dict = get_sig_data_dict(high_age_file)\n",
    "    low_dict, low_p_dict, low_m_dict, low_aa_dict = get_sig_data_dict(low_age_file)\n",
    "\n",
    "    #m\n",
    "    make_venndiagram(low_m_dict, high_m_dict, \"metabolite\", \"up\", comparison_type, 'young','old')\n",
    "    make_venndiagram(low_m_dict, high_m_dict, \"metabolite\", \"down\", comparison_type, 'young','old')\n",
    "    \n"
   ]
  },
  {
   "cell_type": "code",
   "execution_count": null,
   "id": "b6a49b51-a15c-48ce-a86c-815dfae3b65d",
   "metadata": {},
   "outputs": [],
   "source": []
  },
  {
   "cell_type": "code",
   "execution_count": null,
   "id": "511cd23b-efdf-4512-b9f2-9c51a53b590d",
   "metadata": {},
   "outputs": [],
   "source": []
  }
 ],
 "metadata": {
  "kernelspec": {
   "display_name": "Python 3 (ipykernel)",
   "language": "python",
   "name": "python3"
  },
  "language_info": {
   "codemirror_mode": {
    "name": "ipython",
    "version": 3
   },
   "file_extension": ".py",
   "mimetype": "text/x-python",
   "name": "python",
   "nbconvert_exporter": "python",
   "pygments_lexer": "ipython3",
   "version": "3.11.6"
  }
 },
 "nbformat": 4,
 "nbformat_minor": 5
}
