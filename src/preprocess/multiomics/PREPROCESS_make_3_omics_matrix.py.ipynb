{
 "cells": [
  {
   "cell_type": "code",
   "execution_count": 7,
   "id": "academic-principle",
   "metadata": {},
   "outputs": [],
   "source": [
    "#PREPROCESS_make_3_omics_matrix.py\n",
    "#merging three preprocessed data & patient information into a single data matrix.\n",
    "#designed for network inference and machine learning\n",
    "\n",
    "import pandas as pd"
   ]
  },
  {
   "cell_type": "code",
   "execution_count": 8,
   "id": "ranking-agreement",
   "metadata": {},
   "outputs": [],
   "source": [
    "def file_to_dict(data_file, data_dict, common_feature_list, common_patientID_list, feature_header):\n",
    "    \n",
    "    data_df = pd.read_csv(data_file, sep=\"\\t\", index_col=0)\n",
    "    feature_list = data_df.index.values\n",
    "    patientID_list = data_df.columns.values\n",
    "    r, c = data_df.shape\n",
    "    \n",
    "    #make patientID_list if not exist\n",
    "    for patientID in patientID_list:\n",
    "        if patientID not in common_patientID_list:\n",
    "            common_patientID_list.append(patientID)\n",
    "            \n",
    "    for i in range(r):\n",
    "        feature = feature_list[i]\n",
    "        if feature_header != 'nan':\n",
    "            feature = '%s_%s' % (feature_header, feature)\n",
    "        if feature not in common_feature_list:\n",
    "            common_feature_list.append(feature)\n",
    "            \n",
    "        for j in range(c):\n",
    "            patientID = patientID_list[j]\n",
    "            value = data_df.iloc[i][j]\n",
    "            data_dict[feature, patientID] = value\n",
    "            \n",
    "    \n",
    "    return common_feature_list, common_patientID_list, data_dict"
   ]
  },
  {
   "cell_type": "code",
   "execution_count": 9,
   "id": "continuous-update",
   "metadata": {},
   "outputs": [],
   "source": [
    "output_dir ='../../../preprocessed_data/3_omics'\n",
    "\n",
    "patient_info_file = '../../../preprocessed_data/meta/patient_info.ML_ready.tsv'\n",
    "autoantibody_file = '../../../preprocessed_data/autoantibody/sengenics_qnorm_data.v2.tsv'\n",
    "metabolomics_file = '../../../preprocessed_data/metabolomics/metabolone_raw_norm_preprocessed.v2.tsv'\n",
    "proteomics_file = '../../../preprocessed_data/proteomics/somascan_anml.T.v2.tsv'\n",
    "\n"
   ]
  },
  {
   "cell_type": "code",
   "execution_count": 10,
   "id": "geological-jersey",
   "metadata": {},
   "outputs": [],
   "source": [
    "data_dict = {}\n",
    "common_feature_list = []\n",
    "common_patientID_list = []\n",
    "\n",
    "common_feature_list, common_patientID_list, data_dict = file_to_dict(patient_info_file, data_dict, common_feature_list, common_patientID_list,'nan')\n",
    "common_feature_list, common_patientID_list, data_dict = file_to_dict(autoantibody_file, data_dict, common_feature_list, common_patientID_list,'aa')\n",
    "common_feature_list, common_patientID_list, data_dict = file_to_dict(metabolomics_file, data_dict, common_feature_list, common_patientID_list,'nan')\n",
    "common_feature_list, common_patientID_list, data_dict = file_to_dict(proteomics_file, data_dict, common_feature_list, common_patientID_list,'p')\n"
   ]
  },
  {
   "cell_type": "code",
   "execution_count": 11,
   "id": "decent-holocaust",
   "metadata": {},
   "outputs": [],
   "source": [
    "output_file = '%s/three_omics_multiplex.tsv' % output_dir\n",
    "output_txt = open(output_file,'w')\n",
    "\n",
    "#write header\n",
    "for patientID in common_patientID_list:\n",
    "    output_txt.write('\\t%s' % patientID)\n",
    "output_txt.write('\\n')\n",
    "\n",
    "for feature in common_feature_list:\n",
    "    output_txt.write(feature)\n",
    "    for patientID in common_patientID_list:\n",
    "        value = data_dict[feature, patientID]\n",
    "        output_txt.write('\\t%s' % value)\n",
    "    output_txt.write('\\n')\n",
    "output_txt.close()"
   ]
  },
  {
   "cell_type": "code",
   "execution_count": null,
   "id": "expected-institution",
   "metadata": {},
   "outputs": [],
   "source": []
  }
 ],
 "metadata": {
  "kernelspec": {
   "display_name": "Python 3 (ipykernel)",
   "language": "python",
   "name": "python3"
  },
  "language_info": {
   "codemirror_mode": {
    "name": "ipython",
    "version": 3
   },
   "file_extension": ".py",
   "mimetype": "text/x-python",
   "name": "python",
   "nbconvert_exporter": "python",
   "pygments_lexer": "ipython3",
   "version": "3.11.4"
  }
 },
 "nbformat": 4,
 "nbformat_minor": 5
}
