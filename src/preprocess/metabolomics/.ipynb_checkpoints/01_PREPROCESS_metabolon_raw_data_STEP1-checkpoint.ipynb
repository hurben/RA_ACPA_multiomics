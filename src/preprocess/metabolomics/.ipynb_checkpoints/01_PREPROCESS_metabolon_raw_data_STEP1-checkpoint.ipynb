{
 "cells": [
  {
   "cell_type": "code",
   "execution_count": 1,
   "id": "known-retrieval",
   "metadata": {},
   "outputs": [],
   "source": [
    "import pandas as pd"
   ]
  },
  {
   "cell_type": "code",
   "execution_count": 2,
   "id": "wooden-formula",
   "metadata": {},
   "outputs": [],
   "source": [
    "def make_meta_info_dict(data_file):\n",
    "#make dict[mayo_id] = sampleID\n",
    "    data_dict ={}\n",
    "    data_df = pd.read_csv(data_file, sep=',')\n",
    "    r, c = data_df.shape\n",
    "    \n",
    "    for i in range(r):\n",
    "        mayo_ID = data_df['PARENT_SAMPLE_NAME'][i]\n",
    "        sample_ID = data_df['CLIENT_IDENTIFIER'][i]\n",
    "        data_dict[mayo_ID] = sample_ID\n",
    "        \n",
    "    return data_dict\n",
    "\n",
    "def make_chem_info_dict(data_file):\n",
    "#make dict[chem_id] = chem_name\n",
    "    data_df = pd.read_csv(data_file, sep=',')\n",
    "    data_dict = {}\n",
    "    r, c = data_df.shape\n",
    "    \n",
    "    for i in range(r):\n",
    "        chem_ID = data_df[\"CHEM_ID\"][i]\n",
    "        chem_name = data_df[\"CHEMICAL_NAME\"][i]\n",
    "        data_dict[chem_ID] = chem_name\n",
    "        \n",
    "    return data_dict\n",
    "    \n",
    "def make_data_dict_and_lists(data_file):\n",
    "#dict[mayoID, chemID] = value\n",
    "    data_dict = {}\n",
    "   \n",
    "    data_df = pd.read_csv(data_file, sep=',', index_col=0)\n",
    "    chemID_list = data_df.columns.values[0:]\n",
    "    mayoID_list = data_df.index.values\n",
    "    \n",
    "    r, c = data_df.shape\n",
    "    \n",
    "    for i in range(r):\n",
    "        for j in range(c):\n",
    "            value = data_df.iloc[i][j]\n",
    "            \n",
    "            mayoID = mayoID_list[i]\n",
    "            chemID = chemID_list[j]\n",
    "            data_dict[mayoID, chemID] = value\n",
    "            \n",
    "    return data_dict, chemID_list, mayoID_list\n",
    "\n",
    "def make_output_file(output_file, data_dict, chemID_list, mayoID_list, meta_info_dict, chem_info_dict):\n",
    "    \n",
    "    output_txt = open(output_file,'w')\n",
    "    \n",
    "    for chemID in chemID_list:\n",
    "        chem_name = chem_info_dict[int(chemID)]\n",
    "        output_txt.write('\\t%s' % chem_name)\n",
    "    output_txt.write('\\n')\n",
    "    \n",
    "    for mayoID in mayoID_list:\n",
    "        sampleID = meta_info_dict[mayoID]\n",
    "        output_txt.write('%s' % sampleID)\n",
    "        \n",
    "        for chemID in chemID_list:\n",
    "            value = data_dict[mayoID, chemID]\n",
    "            output_txt.write('\\t%s' % value)\n",
    "            \n",
    "        output_txt.write('\\n')\n",
    "        \n",
    "    output_txt.close()"
   ]
  },
  {
   "cell_type": "code",
   "execution_count": 3,
   "id": "present-phase",
   "metadata": {},
   "outputs": [],
   "source": [
    "data_file = '../../../raw_data/RA_metabolon/MAYO-03-21ML+/RA_ACPA_metabolomics_raw.csv'\n",
    "chem_info_file = '../../../raw_data/RA_metabolon/MAYO-03-21ML+/RA_ACPA_metabolomics_chem_info.csv'\n",
    "meta_info_file = '../../../raw_data/RA_metabolon/MAYO-03-21ML+/RA_ACPA_metabolomics_meta_info.csv'\n",
    "\n",
    "output_file = '../../../preprocessed_data/metabolomics/metabolone_raw.tsv'"
   ]
  },
  {
   "cell_type": "code",
   "execution_count": 4,
   "id": "jewish-anatomy",
   "metadata": {},
   "outputs": [],
   "source": [
    "meta_info_dict = make_meta_info_dict(meta_info_file)\n",
    "chem_info_dict = make_chem_info_dict(chem_info_file)\n",
    "data_dict, chemID_list, mayoID_list = make_data_dict_and_lists(data_file)"
   ]
  },
  {
   "cell_type": "code",
   "execution_count": 5,
   "id": "split-pitch",
   "metadata": {},
   "outputs": [],
   "source": [
    "make_output_file(output_file, data_dict, chemID_list, mayoID_list, meta_info_dict, chem_info_dict)"
   ]
  },
  {
   "cell_type": "code",
   "execution_count": 6,
   "id": "psychological-coral",
   "metadata": {},
   "outputs": [],
   "source": [
    "#transpose_data\n",
    "data_df = pd.read_csv(output_file, sep=\"\\t\", index_col=0)\n",
    "data_df = data_df.T\n",
    "data_df.to_csv('../../../preprocessed_data/metabolomics/metabolone_raw.T.tsv', sep=\"\\t\")"
   ]
  },
  {
   "cell_type": "code",
   "execution_count": null,
   "id": "under-manner",
   "metadata": {},
   "outputs": [],
   "source": []
  }
 ],
 "metadata": {
  "kernelspec": {
   "display_name": "Python 3",
   "language": "python",
   "name": "python3"
  },
  "language_info": {
   "codemirror_mode": {
    "name": "ipython",
    "version": 3
   },
   "file_extension": ".py",
   "mimetype": "text/x-python",
   "name": "python",
   "nbconvert_exporter": "python",
   "pygments_lexer": "ipython3",
   "version": "3.9.1"
  }
 },
 "nbformat": 4,
 "nbformat_minor": 5
}
