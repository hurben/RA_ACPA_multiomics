{
 "cells": [
  {
   "cell_type": "code",
   "execution_count": 1,
   "id": "dominican-shakespeare",
   "metadata": {},
   "outputs": [],
   "source": [
    "#01_PREPROCESS_sengenics_quantile_norm_STEP1\n",
    "#\n",
    "#Perform quantile normalization.\n",
    "#\n",
    "library(preprocessCore)"
   ]
  },
  {
   "cell_type": "code",
   "execution_count": 2,
   "id": "accredited-eligibility",
   "metadata": {},
   "outputs": [],
   "source": [
    "data_file = '../../../raw_data/RA_sengenics/sengenics_raw_data.v2.csv'\n",
    "data_df <- read.csv(data_file, sep=',', row.names=1)\n",
    "data_df <- t(data_df)\n",
    "# normalize.quantiles(x,copy=TRUE)"
   ]
  },
  {
   "cell_type": "code",
   "execution_count": 3,
   "id": "scientific-leonard",
   "metadata": {},
   "outputs": [],
   "source": [
    "qnorm_data_df <- normalize.quantiles(data_df,copy=TRUE)"
   ]
  },
  {
   "cell_type": "code",
   "execution_count": 4,
   "id": "spanish-bonus",
   "metadata": {},
   "outputs": [],
   "source": [
    "colnames(qnorm_data_df) <- colnames(data_df)\n",
    "rownames(qnorm_data_df) <- rownames(data_df)"
   ]
  },
  {
   "cell_type": "code",
   "execution_count": 5,
   "id": "extraordinary-exposure",
   "metadata": {},
   "outputs": [],
   "source": [
    "write.table(qnorm_data_df, '../../../preprocessed_data/autoantibody/sengenics_qnorm_data.tsv', sep=\"\\t\", quote=FALSE, col.names=T, row.names=T)\n",
    "\n",
    "#After this, Add \"TAB\" for the first line of the file"
   ]
  },
  {
   "cell_type": "code",
   "execution_count": null,
   "id": "altered-genome",
   "metadata": {},
   "outputs": [],
   "source": []
  }
 ],
 "metadata": {
  "kernelspec": {
   "display_name": "R",
   "language": "R",
   "name": "ir"
  },
  "language_info": {
   "codemirror_mode": "r",
   "file_extension": ".r",
   "mimetype": "text/x-r-source",
   "name": "R",
   "pygments_lexer": "r",
   "version": "4.3.2"
  }
 },
 "nbformat": 4,
 "nbformat_minor": 5
}
