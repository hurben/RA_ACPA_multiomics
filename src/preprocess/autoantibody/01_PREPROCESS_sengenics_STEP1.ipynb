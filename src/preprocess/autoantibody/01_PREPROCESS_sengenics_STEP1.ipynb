{
 "cells": [
  {
   "cell_type": "code",
   "execution_count": 2,
   "id": "sonic-benjamin",
   "metadata": {},
   "outputs": [],
   "source": [
    "#01_PREPROCESS_sengenics_STEP1\n",
    "#\n",
    "#Simply just transposing the data\n",
    "\n",
    "import pandas as pd\n",
    "import numpy as np"
   ]
  },
  {
   "cell_type": "code",
   "execution_count": 6,
   "id": "critical-jackson",
   "metadata": {},
   "outputs": [],
   "source": [
    "input_file = '../../../raw_data/RA_sengenics/sengenics_normRFU.csv'\n",
    "\n",
    "#transpose_data\n",
    "data_df = pd.read_csv(input_file, sep=\",\", index_col=0)\n",
    "data_df = data_df.T\n",
    "\n",
    "data_df.to_csv('../../../preprocessed_data/autoantibody/sengenics_normRFU.tsv', sep=\"\\t\")"
   ]
  }
 ],
 "metadata": {
  "kernelspec": {
   "display_name": "Python 3",
   "language": "python",
   "name": "python3"
  },
  "language_info": {
   "codemirror_mode": {
    "name": "ipython",
    "version": 3
   },
   "file_extension": ".py",
   "mimetype": "text/x-python",
   "name": "python",
   "nbconvert_exporter": "python",
   "pygments_lexer": "ipython3",
   "version": "3.9.1"
  }
 },
 "nbformat": 4,
 "nbformat_minor": 5
}
